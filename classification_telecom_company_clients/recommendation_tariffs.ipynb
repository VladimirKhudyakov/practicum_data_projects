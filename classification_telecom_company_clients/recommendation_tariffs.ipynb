{
 "cells": [
  {
   "cell_type": "markdown",
   "metadata": {
    "toc": true
   },
   "source": [
    "<h1>Table of Contents<span class=\"tocSkip\"></span></h1>\n",
    "<div class=\"toc\"><ul class=\"toc-item\"><li><span><a href=\"#Обзор-данных\" data-toc-modified-id=\"Обзор-данных-1\"><span class=\"toc-item-num\">1&nbsp;&nbsp;</span>Обзор данных</a></span></li><li><span><a href=\"#Подготовка-данных-для-исследования\" data-toc-modified-id=\"Подготовка-данных-для-исследования-2\"><span class=\"toc-item-num\">2&nbsp;&nbsp;</span>Подготовка данных для исследования</a></span></li><li><span><a href=\"#Исследование-моделей\" data-toc-modified-id=\"Исследование-моделей-3\"><span class=\"toc-item-num\">3&nbsp;&nbsp;</span>Исследование моделей</a></span></li><li><span><a href=\"#Проверка-качества-выбранной-модели\" data-toc-modified-id=\"Проверка-качества-выбранной-модели-4\"><span class=\"toc-item-num\">4&nbsp;&nbsp;</span>Проверка качества выбранной модели</a></span></li><li><span><a href=\"#Проверка-моделей-на-адекватность\" data-toc-modified-id=\"Проверка-моделей-на-адекватность-5\"><span class=\"toc-item-num\">5&nbsp;&nbsp;</span>Проверка моделей на адекватность</a></span></li><li><span><a href=\"#Итоги-проекта\" data-toc-modified-id=\"Итоги-проекта-6\"><span class=\"toc-item-num\">6&nbsp;&nbsp;</span>Итоги проекта</a></span></li></ul></div>"
   ]
  },
  {
   "cell_type": "markdown",
   "metadata": {},
   "source": [
    "# Рекомендация тарифов"
   ]
  },
  {
   "cell_type": "markdown",
   "metadata": {},
   "source": [
    "Результат исследования позволит оператору мобильной связи построить рекомендательную систему для пользователей с архивными тарифами, которая, на основе анализа поведения этих клиентов, будет предлагать им новый тарифный план.\n",
    "\n",
    "\n",
    "\n",
    "**Цель исследования**\n",
    "  1. Нужно построить модель, с максимально большой точностью, для задачи классификации, которая выберет подходящий тариф.\n",
    "  2. Доля правильных ответов модели должна быть не менее 0.75.\n",
    "  3. Точность модели, дополнительно, необходимо проверить на тестовой выборе.\n",
    "\n",
    "    \n",
    "**Исследование пройдёт в пять этапов:**\n",
    " 1. Обзор данных;\n",
    " 2. Подготовка данных для исследования;\n",
    " 3. Исследование моделей;\n",
    " 4. Проверка качества выбранной модели;\n",
    " 5. Проверка моделей на адекватность."
   ]
  },
  {
   "cell_type": "markdown",
   "metadata": {},
   "source": [
    "## Обзор данных\n",
    "\n",
    "Составим первое представление о данных о поведении клиентов."
   ]
  },
  {
   "cell_type": "markdown",
   "metadata": {},
   "source": [
    "**1. Импортируем библиотеку pandas и другие. Считаем данные из csv-файла в датафрейм и сохраним в переменную `df`.**"
   ]
  },
  {
   "cell_type": "code",
   "execution_count": 1,
   "metadata": {},
   "outputs": [
    {
     "name": "stdout",
     "output_type": "stream",
     "text": [
      "Requirement already satisfied: scikit-learn in /opt/conda/lib/python3.9/site-packages (1.2.2)\n",
      "Requirement already satisfied: numpy>=1.17.3 in /opt/conda/lib/python3.9/site-packages (from scikit-learn) (1.21.1)\n",
      "Requirement already satisfied: threadpoolctl>=2.0.0 in /opt/conda/lib/python3.9/site-packages (from scikit-learn) (3.1.0)\n",
      "Requirement already satisfied: joblib>=1.1.1 in /opt/conda/lib/python3.9/site-packages (from scikit-learn) (1.2.0)\n",
      "Requirement already satisfied: scipy>=1.3.2 in /opt/conda/lib/python3.9/site-packages (from scikit-learn) (1.9.1)\n"
     ]
    }
   ],
   "source": [
    "# обновим библиотеку 'scikit-learn' до последней версии\n",
    "!pip install --upgrade scikit-learn"
   ]
  },
  {
   "cell_type": "code",
   "execution_count": 2,
   "metadata": {},
   "outputs": [],
   "source": [
    "# импорт библиотеку 'pandas'\n",
    "import pandas as pd\n",
    "\n",
    "# импортируем библиотеку 'matplotlib.pyplot' для построения графиков\n",
    "import matplotlib.pyplot as plt\n",
    "\n",
    "# импорт библиотеки для константной модели\n",
    "from sklearn.dummy import DummyClassifier\n",
    "\n",
    "# импорт библиотеки для модели \"рещающего дерева\"\n",
    "from sklearn.tree import DecisionTreeClassifier\n",
    "\n",
    "# импорт библиотеки для модели \"случайнного леса\"\n",
    "from sklearn.ensemble import RandomForestClassifier\n",
    "\n",
    "# импорт библиотеки для модели \"лигистической регрессии\"\n",
    "from sklearn.linear_model import LogisticRegression\n",
    "\n",
    "# импорт библиотеки для оценки качества модели\n",
    "from sklearn.metrics import (accuracy_score,\n",
    "                            precision_score,\n",
    "                            recall_score,\n",
    "                            f1_score,\n",
    "                            roc_auc_score,\n",
    "                            average_precision_score,\n",
    "                            confusion_matrix,\n",
    "                            ConfusionMatrixDisplay)\n",
    "\n",
    "# импорт библиотеки для кросс-валидации\n",
    "from sklearn.model_selection import (train_test_split,\n",
    "                                     GridSearchCV,\n",
    "                                     cross_val_score)\n",
    "\n",
    "import time"
   ]
  },
  {
   "cell_type": "code",
   "execution_count": 11,
   "metadata": {},
   "outputs": [],
   "source": [
    "try:\n",
    "    # читаем данные из csv-файла и сохраняем их в виде датафрейма в 'df'\n",
    "    df = pd.read_csv('***')\n",
    "except:\n",
    "    # в случае отсутствия csv-файла в локальном месторасположении, читаем его из облачного хранилища\n",
    "    # и сохраняем данные в виде датафрейма в 'df'\n",
    "    df = pd.read_csv('***')"
   ]
  },
  {
   "cell_type": "markdown",
   "metadata": {},
   "source": [
    "**2. Выведем первые пять строчек датафрейма `df` на экран.**"
   ]
  },
  {
   "cell_type": "code",
   "execution_count": 12,
   "metadata": {},
   "outputs": [
    {
     "data": {
      "text/html": [
       "<div>\n",
       "<style scoped>\n",
       "    .dataframe tbody tr th:only-of-type {\n",
       "        vertical-align: middle;\n",
       "    }\n",
       "\n",
       "    .dataframe tbody tr th {\n",
       "        vertical-align: top;\n",
       "    }\n",
       "\n",
       "    .dataframe thead th {\n",
       "        text-align: right;\n",
       "    }\n",
       "</style>\n",
       "<table border=\"1\" class=\"dataframe\">\n",
       "  <thead>\n",
       "    <tr style=\"text-align: right;\">\n",
       "      <th></th>\n",
       "      <th>calls</th>\n",
       "      <th>minutes</th>\n",
       "      <th>messages</th>\n",
       "      <th>mb_used</th>\n",
       "      <th>is_ultra</th>\n",
       "    </tr>\n",
       "  </thead>\n",
       "  <tbody>\n",
       "    <tr>\n",
       "      <th>0</th>\n",
       "      <td>40.0</td>\n",
       "      <td>311.90</td>\n",
       "      <td>83.0</td>\n",
       "      <td>19915.42</td>\n",
       "      <td>0</td>\n",
       "    </tr>\n",
       "    <tr>\n",
       "      <th>1</th>\n",
       "      <td>85.0</td>\n",
       "      <td>516.75</td>\n",
       "      <td>56.0</td>\n",
       "      <td>22696.96</td>\n",
       "      <td>0</td>\n",
       "    </tr>\n",
       "    <tr>\n",
       "      <th>2</th>\n",
       "      <td>77.0</td>\n",
       "      <td>467.66</td>\n",
       "      <td>86.0</td>\n",
       "      <td>21060.45</td>\n",
       "      <td>0</td>\n",
       "    </tr>\n",
       "    <tr>\n",
       "      <th>3</th>\n",
       "      <td>106.0</td>\n",
       "      <td>745.53</td>\n",
       "      <td>81.0</td>\n",
       "      <td>8437.39</td>\n",
       "      <td>1</td>\n",
       "    </tr>\n",
       "    <tr>\n",
       "      <th>4</th>\n",
       "      <td>66.0</td>\n",
       "      <td>418.74</td>\n",
       "      <td>1.0</td>\n",
       "      <td>14502.75</td>\n",
       "      <td>0</td>\n",
       "    </tr>\n",
       "  </tbody>\n",
       "</table>\n",
       "</div>"
      ],
      "text/plain": [
       "   calls  minutes  messages   mb_used  is_ultra\n",
       "0   40.0   311.90      83.0  19915.42         0\n",
       "1   85.0   516.75      56.0  22696.96         0\n",
       "2   77.0   467.66      86.0  21060.45         0\n",
       "3  106.0   745.53      81.0   8437.39         1\n",
       "4   66.0   418.74       1.0  14502.75         0"
      ]
     },
     "execution_count": 12,
     "metadata": {},
     "output_type": "execute_result"
    }
   ],
   "source": [
    "# посмотрим первых пять строк датафрейма 'df\n",
    "df.head()"
   ]
  },
  {
   "cell_type": "markdown",
   "metadata": {},
   "source": [
    "**3. Выведем основную информацию о датафрейме с помощью метода `info()`.**"
   ]
  },
  {
   "cell_type": "code",
   "execution_count": 13,
   "metadata": {},
   "outputs": [
    {
     "name": "stdout",
     "output_type": "stream",
     "text": [
      "<class 'pandas.core.frame.DataFrame'>\n",
      "RangeIndex: 3214 entries, 0 to 3213\n",
      "Data columns (total 5 columns):\n",
      " #   Column    Non-Null Count  Dtype  \n",
      "---  ------    --------------  -----  \n",
      " 0   calls     3214 non-null   float64\n",
      " 1   minutes   3214 non-null   float64\n",
      " 2   messages  3214 non-null   float64\n",
      " 3   mb_used   3214 non-null   float64\n",
      " 4   is_ultra  3214 non-null   int64  \n",
      "dtypes: float64(4), int64(1)\n",
      "memory usage: 125.7 KB\n"
     ]
    }
   ],
   "source": [
    "# получение общей информации о данных в датафрейме 'df'\n",
    "df.info()"
   ]
  },
  {
   "cell_type": "markdown",
   "metadata": {},
   "source": [
    "Итак, в таблице 5 столбцов. Типы данных в столбцах — `float64` и `int64`.\n",
    "\n",
    "* `сalls`    — количество звонков,\n",
    "* `minutes`  — суммарная длительность звонков в минутах,\n",
    "* `messages` — количество sms-сообщений,\n",
    "* `mb_used`  — израсходованный интернет-трафик в Мб,\n",
    "* `is_ultra` — каким тарифом пользовался в течение месяца («Ультра» — 1, «Смарт» — 0).\n",
    "\n",
    "Количество значений в столбцах одинаковое и соответствует общему количеству записей в таблице по индексу."
   ]
  },
  {
   "cell_type": "markdown",
   "metadata": {},
   "source": [
    "**4. Построим общую гистограмму для всех числовых столбцов таблицы в датафрейме `df`.**"
   ]
  },
  {
   "cell_type": "code",
   "execution_count": 14,
   "metadata": {},
   "outputs": [
    {
     "data": {
      "image/png": "[encoded data removed]",
      "text/plain": [
       "<Figure size 1080x1440 with 6 Axes>"
      ]
     },
     "metadata": {
      "needs_background": "light"
     },
     "output_type": "display_data"
    }
   ],
   "source": [
    "# с помощью функции 'hist' построим общую гистограмму\n",
    "df.hist(figsize=(15, 20));"
   ]
  },
  {
   "cell_type": "markdown",
   "metadata": {},
   "source": [
    "**5. Посмотрим статистическую информацию по каждому числовому столбцу таблицы, в датафрейме `df`.**"
   ]
  },
  {
   "cell_type": "code",
   "execution_count": 15,
   "metadata": {},
   "outputs": [
    {
     "data": {
      "text/html": [
       "<div>\n",
       "<style scoped>\n",
       "    .dataframe tbody tr th:only-of-type {\n",
       "        vertical-align: middle;\n",
       "    }\n",
       "\n",
       "    .dataframe tbody tr th {\n",
       "        vertical-align: top;\n",
       "    }\n",
       "\n",
       "    .dataframe thead th {\n",
       "        text-align: right;\n",
       "    }\n",
       "</style>\n",
       "<table border=\"1\" class=\"dataframe\">\n",
       "  <thead>\n",
       "    <tr style=\"text-align: right;\">\n",
       "      <th></th>\n",
       "      <th>calls</th>\n",
       "      <th>minutes</th>\n",
       "      <th>messages</th>\n",
       "      <th>mb_used</th>\n",
       "      <th>is_ultra</th>\n",
       "    </tr>\n",
       "  </thead>\n",
       "  <tbody>\n",
       "    <tr>\n",
       "      <th>count</th>\n",
       "      <td>3214.000000</td>\n",
       "      <td>3214.000000</td>\n",
       "      <td>3214.000000</td>\n",
       "      <td>3214.000000</td>\n",
       "      <td>3214.000000</td>\n",
       "    </tr>\n",
       "    <tr>\n",
       "      <th>mean</th>\n",
       "      <td>63.038892</td>\n",
       "      <td>438.208787</td>\n",
       "      <td>38.281269</td>\n",
       "      <td>17207.673836</td>\n",
       "      <td>0.306472</td>\n",
       "    </tr>\n",
       "    <tr>\n",
       "      <th>std</th>\n",
       "      <td>33.236368</td>\n",
       "      <td>234.569872</td>\n",
       "      <td>36.148326</td>\n",
       "      <td>7570.968246</td>\n",
       "      <td>0.461100</td>\n",
       "    </tr>\n",
       "    <tr>\n",
       "      <th>min</th>\n",
       "      <td>0.000000</td>\n",
       "      <td>0.000000</td>\n",
       "      <td>0.000000</td>\n",
       "      <td>0.000000</td>\n",
       "      <td>0.000000</td>\n",
       "    </tr>\n",
       "    <tr>\n",
       "      <th>25%</th>\n",
       "      <td>40.000000</td>\n",
       "      <td>274.575000</td>\n",
       "      <td>9.000000</td>\n",
       "      <td>12491.902500</td>\n",
       "      <td>0.000000</td>\n",
       "    </tr>\n",
       "    <tr>\n",
       "      <th>50%</th>\n",
       "      <td>62.000000</td>\n",
       "      <td>430.600000</td>\n",
       "      <td>30.000000</td>\n",
       "      <td>16943.235000</td>\n",
       "      <td>0.000000</td>\n",
       "    </tr>\n",
       "    <tr>\n",
       "      <th>75%</th>\n",
       "      <td>82.000000</td>\n",
       "      <td>571.927500</td>\n",
       "      <td>57.000000</td>\n",
       "      <td>21424.700000</td>\n",
       "      <td>1.000000</td>\n",
       "    </tr>\n",
       "    <tr>\n",
       "      <th>max</th>\n",
       "      <td>244.000000</td>\n",
       "      <td>1632.060000</td>\n",
       "      <td>224.000000</td>\n",
       "      <td>49745.730000</td>\n",
       "      <td>1.000000</td>\n",
       "    </tr>\n",
       "  </tbody>\n",
       "</table>\n",
       "</div>"
      ],
      "text/plain": [
       "             calls      minutes     messages       mb_used     is_ultra\n",
       "count  3214.000000  3214.000000  3214.000000   3214.000000  3214.000000\n",
       "mean     63.038892   438.208787    38.281269  17207.673836     0.306472\n",
       "std      33.236368   234.569872    36.148326   7570.968246     0.461100\n",
       "min       0.000000     0.000000     0.000000      0.000000     0.000000\n",
       "25%      40.000000   274.575000     9.000000  12491.902500     0.000000\n",
       "50%      62.000000   430.600000    30.000000  16943.235000     0.000000\n",
       "75%      82.000000   571.927500    57.000000  21424.700000     1.000000\n",
       "max     244.000000  1632.060000   224.000000  49745.730000     1.000000"
      ]
     },
     "execution_count": 15,
     "metadata": {},
     "output_type": "execute_result"
    }
   ],
   "source": [
    "# выведем статистическую информацию\n",
    "df.describe()"
   ]
  },
  {
   "cell_type": "markdown",
   "metadata": {},
   "source": [
    "**Выводы**\n",
    "\n",
    "Можно утверждать, что данных достаточно для исследования. Пропуски, артефакты, дубликаты и иные аномалии, отсутствуют. Столбцы содержат подходящие типы данных. В названиях колонок (столбцов) таблицы, отсутствуют нарушение стиля."
   ]
  },
  {
   "cell_type": "markdown",
   "metadata": {},
   "source": [
    "## Подготовка данных для исследования"
   ]
  },
  {
   "cell_type": "markdown",
   "metadata": {},
   "source": [
    "Разделим исходные данные на обучающую, валидационную и тестовую выборки."
   ]
  },
  {
   "cell_type": "markdown",
   "metadata": {},
   "source": [
    "**6. Создадим отдельные датафремы с признаками и целевым признаком.**"
   ]
  },
  {
   "cell_type": "code",
   "execution_count": 16,
   "metadata": {},
   "outputs": [],
   "source": [
    "features = df.drop(['is_ultra'], axis=1)"
   ]
  },
  {
   "cell_type": "code",
   "execution_count": 17,
   "metadata": {},
   "outputs": [],
   "source": [
    "target = df['is_ultra']"
   ]
  },
  {
   "cell_type": "markdown",
   "metadata": {},
   "source": [
    "**7. Разделим исходные данные на три выборки: обучающую, валидационную и тестовую.**\n",
    "\n",
    "Применим метод кросс-валидации: \"Hold-out\"."
   ]
  },
  {
   "cell_type": "code",
   "execution_count": 18,
   "metadata": {},
   "outputs": [],
   "source": [
    "# создадим переменную 'random_state' для фиксации псевдослучайности для алгоритма обучения\n",
    "# и других алгоритмов в нашем проекте\n",
    "random_state = 753"
   ]
  },
  {
   "cell_type": "code",
   "execution_count": 19,
   "metadata": {},
   "outputs": [],
   "source": [
    "# на первом шаге, мы разделим набор данных на обучающую выборку (60%) и остальные данные (40%)\n",
    "# для этого мы установим параметр 'train_size' = 0.60\n",
    "features_train, features_remain, target_train, target_remain = train_test_split(\n",
    "    features, target, train_size=0.60, random_state=random_state)"
   ]
  },
  {
   "cell_type": "code",
   "execution_count": 20,
   "metadata": {},
   "outputs": [],
   "source": [
    "# на втором шаге, мы разделим оставшийся набор данных (40% от исходных данных) пополам, на валидационную\n",
    "# и тестовую выборки,  чтобы каждая из них составляла 20% от исходных данных. \n",
    "# для этого установим параметр 'test_size' = 0.5\n",
    "features_valid, features_test, target_valid, target_test = train_test_split(\n",
    "    features_remain, target_remain, test_size=0.50, random_state=random_state)"
   ]
  },
  {
   "cell_type": "code",
   "execution_count": 21,
   "metadata": {},
   "outputs": [
    {
     "data": {
      "text/plain": [
       "(1928, 4)"
      ]
     },
     "execution_count": 21,
     "metadata": {},
     "output_type": "execute_result"
    }
   ],
   "source": [
    "# выведем размер полученной обучающей выборки признаков\n",
    "features_train.shape"
   ]
  },
  {
   "cell_type": "code",
   "execution_count": 22,
   "metadata": {},
   "outputs": [
    {
     "data": {
      "text/plain": [
       "(1928,)"
      ]
     },
     "execution_count": 22,
     "metadata": {},
     "output_type": "execute_result"
    }
   ],
   "source": [
    "# выведем размер полученной обучающей выборки целевого признака\n",
    "target_train.shape"
   ]
  },
  {
   "cell_type": "code",
   "execution_count": 23,
   "metadata": {},
   "outputs": [
    {
     "data": {
      "text/plain": [
       "(643, 4)"
      ]
     },
     "execution_count": 23,
     "metadata": {},
     "output_type": "execute_result"
    }
   ],
   "source": [
    "# выведем размер полученной валидационной выборки признаков\n",
    "features_valid.shape"
   ]
  },
  {
   "cell_type": "code",
   "execution_count": 24,
   "metadata": {},
   "outputs": [
    {
     "data": {
      "text/plain": [
       "(643,)"
      ]
     },
     "execution_count": 24,
     "metadata": {},
     "output_type": "execute_result"
    }
   ],
   "source": [
    "# выведем размер полученной валидационной выборки целевого признака\n",
    "target_valid.shape"
   ]
  },
  {
   "cell_type": "code",
   "execution_count": 25,
   "metadata": {},
   "outputs": [
    {
     "data": {
      "text/plain": [
       "(643, 4)"
      ]
     },
     "execution_count": 25,
     "metadata": {},
     "output_type": "execute_result"
    }
   ],
   "source": [
    "# выведем размер полученной тестовой выборки признаков\n",
    "features_test.shape"
   ]
  },
  {
   "cell_type": "code",
   "execution_count": 26,
   "metadata": {},
   "outputs": [
    {
     "data": {
      "text/plain": [
       "(643,)"
      ]
     },
     "execution_count": 26,
     "metadata": {},
     "output_type": "execute_result"
    }
   ],
   "source": [
    "# выведем размер полученной тестовой выборки целевого признака\n",
    "target_test.shape"
   ]
  },
  {
   "cell_type": "markdown",
   "metadata": {},
   "source": [
    "**Выводы**\n",
    "\n",
    "Мы создали:\n",
    " - глобальную переменную `random_state`, в которой зафиксировали выбранную нами псевдослучайность, для дальнейшего использования на всех этапах исследования. \n",
    " - отдельные датафреймы, содержащие признаки и целевой признак для каждой выборки: обучающей, валидационной и тестовой."
   ]
  },
  {
   "cell_type": "markdown",
   "metadata": {},
   "source": [
    "## Исследование моделей\n",
    "\n",
    "Для задачи классификации мы рассмотрим три популярных модели: решающее дерево, случайный лес и логистическая регрессия."
   ]
  },
  {
   "cell_type": "markdown",
   "metadata": {},
   "source": [
    "**8. Исследуем модель на основе \"решающего дерева\".**"
   ]
  },
  {
   "cell_type": "code",
   "execution_count": 27,
   "metadata": {},
   "outputs": [],
   "source": [
    "# функция исследования модели \"решающего дерева\" с различными гиперпараметрами\n",
    "# трудоемкость функции О(max_depth_range * (min_samples_split_range - 1) \n",
    "#                        * min_samples_leaf_range * 2 * 3)\n",
    "def decision_tree(features_train,\n",
    "                  target_train,\n",
    "                  features_valid,\n",
    "                  target_valid,\n",
    "                  max_depth_range,\n",
    "                  min_samples_split_range,\n",
    "                  min_samples_leaf_range, \n",
    "                  random_state):\n",
    "\n",
    "    best_accuracy = 0.\n",
    "    \n",
    "    best_criterion = \"\"\n",
    "    best_splitter = \"\"\n",
    "    best_max_depth = 0\n",
    "    best_min_samples_split = 0\n",
    "    best_min_samples_leaf = 0\n",
    "    \n",
    "    for min_samples_split in range(2, min_samples_split_range):\n",
    "        for min_samples_leaf in range(1, min_samples_leaf_range):\n",
    "            for splitter in [\"best\", \"random\"]:\n",
    "                for criterion in ['gini', 'entropy', 'log_loss']:\n",
    "                    for max_depth in range(1, max_depth_range):\n",
    "    \n",
    "                        # создадим модель с заданными гиперпараметрами\n",
    "                        model = DecisionTreeClassifier(criterion=criterion,\n",
    "                                                       splitter=splitter,\n",
    "                                                       max_depth=max_depth,\n",
    "                                                       min_samples_split=min_samples_split,\n",
    "                                                       min_samples_leaf=min_samples_leaf,\n",
    "                                                       random_state=random_state)\n",
    "    \n",
    "                        # обучим модель на тренировочной выборке\n",
    "                        model.fit(features_train, target_train)\n",
    "            \n",
    "                        # получим предсказания модели на валидационной выборке\n",
    "                        predictions_valid = model.predict(features_valid) \n",
    "     \n",
    "                        # вычислим долю правильных ответов на валидационной выборке\n",
    "                        accuracy = accuracy_score(target_valid, predictions_valid)\n",
    "    \n",
    "                        if accuracy > best_accuracy:\n",
    "                            best_accuracy = accuracy\n",
    "                \n",
    "                            best_criterion = criterion\n",
    "                            best_splitter = splitter\n",
    "                            best_max_depth = max_depth\n",
    "                            best_min_samples_split = min_samples_split\n",
    "                            best_min_samples_leaf = min_samples_leaf\n",
    "                            \n",
    "    \n",
    "    return {'best_accuracy' : best_accuracy,\n",
    "            'best_criterion' : best_criterion,\n",
    "            'best_splitter' : best_splitter,\n",
    "            'best_max_depth' : best_max_depth,\n",
    "            'best_min_samples_split' : best_min_samples_split,\n",
    "            'best_min_samples_leaf' : best_min_samples_leaf}"
   ]
  },
  {
   "cell_type": "code",
   "execution_count": 28,
   "metadata": {},
   "outputs": [
    {
     "data": {
      "text/plain": [
       "'Модель: DecisionTreeClassifier, best_accuracy : 0.8133748055987559, best_criterion : entropy, best_splitter : random, best_max_depth : 5, best_min_samples_split : 2, best_min_samples_leaf : 6'"
      ]
     },
     "metadata": {},
     "output_type": "display_data"
    }
   ],
   "source": [
    "# найдем максимально эффективные гиперпараметры модели\n",
    "\n",
    "max_depth_range = 11\n",
    "min_samples_split_range = 11\n",
    "min_samples_leaf_range = 11\n",
    "\n",
    "result_map = decision_tree(features_train,\n",
    "                           target_train,\n",
    "                           features_valid,\n",
    "                           target_valid,\n",
    "                           max_depth_range=max_depth_range,\n",
    "                           min_samples_split_range=min_samples_split_range,\n",
    "                           min_samples_leaf_range=min_samples_leaf_range,  \n",
    "                           random_state=random_state)\n",
    "\n",
    "display(\"Модель: DecisionTreeClassifier\" + \n",
    "        \", best_accuracy : \" + str(result_map.get('best_accuracy')) +\n",
    "        \", best_criterion : \" + result_map.get('best_criterion') +\n",
    "        \", best_splitter : \" + result_map.get('best_splitter') +\n",
    "        \", best_max_depth : \" +  str(result_map.get('best_max_depth')) +\n",
    "        \", best_min_samples_split : \" + str(result_map.get('best_min_samples_split')) +\n",
    "        \", best_min_samples_leaf : \" + str(result_map.get('best_min_samples_leaf')))"
   ]
  },
  {
   "cell_type": "code",
   "execution_count": 29,
   "metadata": {},
   "outputs": [],
   "source": [
    "# функция вычисляет время работы модели в миллисекундах\n",
    "def model_running_time(model,\n",
    "                       features_valid):\n",
    "\n",
    "    start = time.monotonic_ns()\n",
    "    \n",
    "    # получим предсказания модели на валидационной выборке\n",
    "    predictions_valid = model.predict(features_valid) \n",
    "     \n",
    "    # вычисляем время работы модели и переводим его из наносекунд в миллисекунды\n",
    "    return (time.monotonic_ns() - start) / 1000000"
   ]
  },
  {
   "cell_type": "code",
   "execution_count": 30,
   "metadata": {},
   "outputs": [
    {
     "data": {
      "text/plain": [
       "1.164506"
      ]
     },
     "execution_count": 30,
     "metadata": {},
     "output_type": "execute_result"
    }
   ],
   "source": [
    "# создадим модель с заданными гиперпараметрами\n",
    "dtc_model = DecisionTreeClassifier(criterion=\"entropy\",\n",
    "                               splitter=\"random\",\n",
    "                               max_depth=5,\n",
    "                               min_samples_split=2,\n",
    "                               min_samples_leaf=6,\n",
    "                               random_state=random_state)\n",
    "\n",
    "# обучим модель на тренировочной выборке\n",
    "dtc_model.fit(features_train, target_train)\n",
    "\n",
    "# время работы модели в миллисекундах\n",
    "model_running_time(model=dtc_model,\n",
    "                   features_valid=features_valid)"
   ]
  },
  {
   "cell_type": "markdown",
   "metadata": {},
   "source": [
    "Лучший результат модели на основе \"решающего дерева\", на валидационной выборке:\n",
    " - доля правильных ответов: **0.8133748055987559**;\n",
    " - при гиперпараметрах модели: \n",
    "     * `criterion` - **entropy**;\n",
    "     * `splitter` - **random**;\n",
    "     * `max_depth` -  **5**;\n",
    "     * `min_samples_split` - **2**;\n",
    "     * `min_samples_leaf` - **6**.\n",
    "     \n",
    "Время работы лучшей модели на основе \"решающего дерева\": `1.4` миллисекунд."
   ]
  },
  {
   "cell_type": "markdown",
   "metadata": {},
   "source": [
    "**9. Исследуем модель на основе \"случайного леса\".**"
   ]
  },
  {
   "cell_type": "code",
   "execution_count": 31,
   "metadata": {},
   "outputs": [],
   "source": [
    "# функция исследования модели \"случайного леса\" с различными гиперпараметрами\n",
    "# трудоемкость функции О(((n_estimators_range - 10)/ n_estimators_step) * max_depth_range\n",
    "#                        * (min_samples_split_range - 1) * min_samples_leaf_range * 3)\n",
    "def random_forest(features_train,\n",
    "                  target_train,\n",
    "                  features_valid,\n",
    "                  target_valid,\n",
    "                  n_estimators_range,\n",
    "                  n_estimators_step,\n",
    "                  max_depth_range,\n",
    "                  min_samples_split_range,\n",
    "                  min_samples_leaf_range,            \n",
    "                  random_state,\n",
    "                  n_jobs=-1):\n",
    "        \n",
    "        \n",
    "    best_accuracy = 0.\n",
    "    \n",
    "    best_n_estimators = 0\n",
    "    best_criterion = \"\"\n",
    "    best_max_depth = 0\n",
    "    best_min_samples_split = 0\n",
    "    best_min_samples_leaf = 0\n",
    "    \n",
    "    for min_samples_split in range(2, min_samples_split_range):\n",
    "        for min_samples_leaf in range(1, min_samples_leaf_range):\n",
    "            for criterion in [\"gini\", \"entropy\", \"log_loss\"]:\n",
    "                for est in range(10, n_estimators_range, n_estimators_step):\n",
    "                    for max_depth in range(1, max_depth_range):\n",
    "    \n",
    "                        # создадим модель с заданными гиперпараметрами\n",
    "                        model = RandomForestClassifier(n_estimators=est,\n",
    "                                                       criterion=criterion,\n",
    "                                                       max_depth=max_depth,\n",
    "                                                       min_samples_split=min_samples_split,\n",
    "                                                       min_samples_leaf=min_samples_leaf,\n",
    "                                                       n_jobs=n_jobs,\n",
    "                                                       random_state=random_state)\n",
    "    \n",
    "                        # обучим модель на тренировочной выборке\n",
    "                        model.fit(features_train, target_train)\n",
    "    \n",
    "                        # получим предсказания модели на валидационной выборке\n",
    "                        predictions_valid = model.predict(features_valid) \n",
    "     \n",
    "                        # вычислим долю правильных ответов на валидационной выборке\n",
    "                        accuracy = accuracy_score(target_valid, predictions_valid)\n",
    "    \n",
    "                        if accuracy > best_accuracy:\n",
    "                            best_accuracy = accuracy\n",
    "                            \n",
    "                            best_n_estimators = est\n",
    "                            best_criterion = criterion\n",
    "                            best_max_depth = max_depth\n",
    "                            best_min_samples_split = min_samples_split\n",
    "                            best_min_samples_leaf = min_samples_leaf\n",
    "    \n",
    "    return {'best_accuracy' : best_accuracy,\n",
    "            'best_n_estimators' : best_n_estimators,\n",
    "            'best_criterion' : best_criterion,\n",
    "            'best_max_depth' : best_max_depth,\n",
    "            'best_min_samples_split' : best_min_samples_split,\n",
    "            'best_min_samples_leaf' : best_min_samples_leaf}"
   ]
  },
  {
   "cell_type": "code",
   "execution_count": 32,
   "metadata": {},
   "outputs": [
    {
     "data": {
      "text/plain": [
       "'Модель: RandomForestClassifier, best_accuracy : 0.8195956454121306, best_n_estimators : 12, best_criterion : entropy, best_max_depth : 9, best_min_samples_split : 6, best_min_samples_leaf : 1'"
      ]
     },
     "metadata": {},
     "output_type": "display_data"
    }
   ],
   "source": [
    "# найдем максимально эффективные гиперпараметры модели\n",
    "\n",
    "n_estimators_range = 21\n",
    "n_estimators_step = 1\n",
    "max_depth_range = 11\n",
    "min_samples_split_range = 7\n",
    "min_samples_leaf_range = 3\n",
    "\n",
    "\n",
    "result_map = random_forest(features_train,\n",
    "                           target_train,\n",
    "                           features_valid,\n",
    "                           target_valid,\n",
    "                           n_estimators_range=n_estimators_range,\n",
    "                           n_estimators_step=n_estimators_step,\n",
    "                           max_depth_range=max_depth_range,\n",
    "                           min_samples_split_range=min_samples_split_range,\n",
    "                           min_samples_leaf_range=min_samples_leaf_range,\n",
    "                           random_state=random_state)\n",
    "\n",
    "display(\"Модель: RandomForestClassifier\" + \n",
    "        \", best_accuracy : \" + str(result_map.get('best_accuracy')) +\n",
    "        \", best_n_estimators : \" + str(result_map.get('best_n_estimators')) +\n",
    "        \", best_criterion : \" + result_map.get('best_criterion') +\n",
    "        \", best_max_depth : \" +  str(result_map.get('best_max_depth')) +\n",
    "        \", best_min_samples_split : \" + str(result_map.get('best_min_samples_split')) +\n",
    "        \", best_min_samples_leaf : \" + str(result_map.get('best_min_samples_leaf')))"
   ]
  },
  {
   "cell_type": "code",
   "execution_count": 33,
   "metadata": {},
   "outputs": [
    {
     "data": {
      "text/plain": [
       "3.468346"
      ]
     },
     "execution_count": 33,
     "metadata": {},
     "output_type": "execute_result"
    }
   ],
   "source": [
    "# создадим модель с заданными гиперпараметрами\n",
    "rfc_model = RandomForestClassifier(n_estimators=12,\n",
    "                                   criterion=\"entropy\",\n",
    "                                   max_depth=9,\n",
    "                                   min_samples_split=6,\n",
    "                                   min_samples_leaf=1,\n",
    "                                   n_jobs=-1,\n",
    "                                   random_state=random_state)\n",
    "\n",
    "# обучим модель на тренировочной выборке\n",
    "rfc_model.fit(features_train, target_train)\n",
    "\n",
    "# время работы модели в миллисекундах\n",
    "model_running_time(model=rfc_model,\n",
    "                   features_valid=features_valid)"
   ]
  },
  {
   "cell_type": "markdown",
   "metadata": {},
   "source": [
    "Лучший результат модели на основе \"случайного леса\", на валидационной выборке:\n",
    " - доля правильных ответов: **0.8195956454121306**;\n",
    " - при гиперпараметрах модели: \n",
    "     * `n_estimators` - **12**;\n",
    "     * `criterion` - **entropy**;\n",
    "     * `max_depth` -  **9**;\n",
    "     * `min_samples_split` - **6**;\n",
    "     * `min_samples_leaf` - **1**.\n",
    "     \n",
    "Время работы лучшей модели на основе \"случайного леса\": `5.7` миллисекунд."
   ]
  },
  {
   "cell_type": "markdown",
   "metadata": {},
   "source": [
    "**10. Исследуем модель на основе \"логистической регрессии\".**"
   ]
  },
  {
   "cell_type": "code",
   "execution_count": 34,
   "metadata": {},
   "outputs": [],
   "source": [
    "# функция исследования модели \"логистической регрессии\" с различными гиперпараметрами\n",
    "# трудоемкость функции О(6 * ((max_iter_range - 100) / max_iter_step) )\n",
    "def logistic_regression(features_train,\n",
    "                        target_train,\n",
    "                        features_valid,\n",
    "                        target_valid,\n",
    "                        random_state,\n",
    "                        max_iter_range,\n",
    "                        max_iter_step=1,\n",
    "                        n_jobs=-1):\n",
    "        \n",
    "        \n",
    "    best_accuracy = 0.\n",
    "    \n",
    "    best_solver = \"\"\n",
    "    best_max_iter = 0\n",
    "    \n",
    "    for solver in [\"lbfgs\", \"liblinear\", \"newton-cg\", \"newton-cholesky\", \"sag\", \"saga\"]:\n",
    "        for max_iter in range(100, max_iter_range, max_iter_step):\n",
    "    \n",
    "            # создадим модель с заданными гиперпараметрами\n",
    "                        \n",
    "            model = LogisticRegression(random_state=random_state,\n",
    "                                       solver=solver,\n",
    "                                       max_iter=max_iter,\n",
    "                                       n_jobs=n_jobs) \n",
    "    \n",
    "            # обучим модель на тренировочной выборке\n",
    "            model.fit(features_train, target_train)\n",
    "    \n",
    "            # получим предсказания модели на валидационной выборке\n",
    "            predictions_valid = model.predict(features_valid) \n",
    "     \n",
    "            # вычислим долю правильных ответов на валидационной выборке\n",
    "            accuracy = accuracy_score(target_valid, predictions_valid)\n",
    "    \n",
    "            if accuracy > best_accuracy:\n",
    "                best_accuracy = accuracy\n",
    "                             \n",
    "                best_solver = solver\n",
    "                best_max_iter = max_iter\n",
    "                             \n",
    "    \n",
    "    return {'best_accuracy' : best_accuracy,\n",
    "            'best_solver' : best_solver, \n",
    "            'best_max_iter' :  best_max_iter}"
   ]
  },
  {
   "cell_type": "code",
   "execution_count": 35,
   "metadata": {},
   "outputs": [
    {
     "name": "stderr",
     "output_type": "stream",
     "text": [
      "/opt/conda/lib/python3.9/site-packages/sklearn/linear_model/_sag.py:350: ConvergenceWarning: The max_iter was reached which means the coef_ did not converge\n",
      "  warnings.warn(\n",
      "/opt/conda/lib/python3.9/site-packages/sklearn/linear_model/_sag.py:350: ConvergenceWarning: The max_iter was reached which means the coef_ did not converge\n",
      "  warnings.warn(\n",
      "/opt/conda/lib/python3.9/site-packages/sklearn/linear_model/_sag.py:350: ConvergenceWarning: The max_iter was reached which means the coef_ did not converge\n",
      "  warnings.warn(\n",
      "/opt/conda/lib/python3.9/site-packages/sklearn/linear_model/_sag.py:350: ConvergenceWarning: The max_iter was reached which means the coef_ did not converge\n",
      "  warnings.warn(\n",
      "/opt/conda/lib/python3.9/site-packages/sklearn/linear_model/_sag.py:350: ConvergenceWarning: The max_iter was reached which means the coef_ did not converge\n",
      "  warnings.warn(\n",
      "/opt/conda/lib/python3.9/site-packages/sklearn/linear_model/_sag.py:350: ConvergenceWarning: The max_iter was reached which means the coef_ did not converge\n",
      "  warnings.warn(\n",
      "/opt/conda/lib/python3.9/site-packages/sklearn/linear_model/_sag.py:350: ConvergenceWarning: The max_iter was reached which means the coef_ did not converge\n",
      "  warnings.warn(\n",
      "/opt/conda/lib/python3.9/site-packages/sklearn/linear_model/_sag.py:350: ConvergenceWarning: The max_iter was reached which means the coef_ did not converge\n",
      "  warnings.warn(\n",
      "/opt/conda/lib/python3.9/site-packages/sklearn/linear_model/_sag.py:350: ConvergenceWarning: The max_iter was reached which means the coef_ did not converge\n",
      "  warnings.warn(\n",
      "/opt/conda/lib/python3.9/site-packages/sklearn/linear_model/_sag.py:350: ConvergenceWarning: The max_iter was reached which means the coef_ did not converge\n",
      "  warnings.warn(\n",
      "/opt/conda/lib/python3.9/site-packages/sklearn/linear_model/_sag.py:350: ConvergenceWarning: The max_iter was reached which means the coef_ did not converge\n",
      "  warnings.warn(\n",
      "/opt/conda/lib/python3.9/site-packages/sklearn/linear_model/_sag.py:350: ConvergenceWarning: The max_iter was reached which means the coef_ did not converge\n",
      "  warnings.warn(\n",
      "/opt/conda/lib/python3.9/site-packages/sklearn/linear_model/_sag.py:350: ConvergenceWarning: The max_iter was reached which means the coef_ did not converge\n",
      "  warnings.warn(\n",
      "/opt/conda/lib/python3.9/site-packages/sklearn/linear_model/_sag.py:350: ConvergenceWarning: The max_iter was reached which means the coef_ did not converge\n",
      "  warnings.warn(\n",
      "/opt/conda/lib/python3.9/site-packages/sklearn/linear_model/_sag.py:350: ConvergenceWarning: The max_iter was reached which means the coef_ did not converge\n",
      "  warnings.warn(\n",
      "/opt/conda/lib/python3.9/site-packages/sklearn/linear_model/_sag.py:350: ConvergenceWarning: The max_iter was reached which means the coef_ did not converge\n",
      "  warnings.warn(\n",
      "/opt/conda/lib/python3.9/site-packages/sklearn/linear_model/_sag.py:350: ConvergenceWarning: The max_iter was reached which means the coef_ did not converge\n",
      "  warnings.warn(\n",
      "/opt/conda/lib/python3.9/site-packages/sklearn/linear_model/_sag.py:350: ConvergenceWarning: The max_iter was reached which means the coef_ did not converge\n",
      "  warnings.warn(\n",
      "/opt/conda/lib/python3.9/site-packages/sklearn/linear_model/_sag.py:350: ConvergenceWarning: The max_iter was reached which means the coef_ did not converge\n",
      "  warnings.warn(\n",
      "/opt/conda/lib/python3.9/site-packages/sklearn/linear_model/_sag.py:350: ConvergenceWarning: The max_iter was reached which means the coef_ did not converge\n",
      "  warnings.warn(\n",
      "/opt/conda/lib/python3.9/site-packages/sklearn/linear_model/_sag.py:350: ConvergenceWarning: The max_iter was reached which means the coef_ did not converge\n",
      "  warnings.warn(\n",
      "/opt/conda/lib/python3.9/site-packages/sklearn/linear_model/_sag.py:350: ConvergenceWarning: The max_iter was reached which means the coef_ did not converge\n",
      "  warnings.warn(\n",
      "/opt/conda/lib/python3.9/site-packages/sklearn/linear_model/_sag.py:350: ConvergenceWarning: The max_iter was reached which means the coef_ did not converge\n",
      "  warnings.warn(\n",
      "/opt/conda/lib/python3.9/site-packages/sklearn/linear_model/_sag.py:350: ConvergenceWarning: The max_iter was reached which means the coef_ did not converge\n",
      "  warnings.warn(\n",
      "/opt/conda/lib/python3.9/site-packages/sklearn/linear_model/_sag.py:350: ConvergenceWarning: The max_iter was reached which means the coef_ did not converge\n",
      "  warnings.warn(\n",
      "/opt/conda/lib/python3.9/site-packages/sklearn/linear_model/_sag.py:350: ConvergenceWarning: The max_iter was reached which means the coef_ did not converge\n",
      "  warnings.warn(\n",
      "/opt/conda/lib/python3.9/site-packages/sklearn/linear_model/_sag.py:350: ConvergenceWarning: The max_iter was reached which means the coef_ did not converge\n",
      "  warnings.warn(\n",
      "/opt/conda/lib/python3.9/site-packages/sklearn/linear_model/_sag.py:350: ConvergenceWarning: The max_iter was reached which means the coef_ did not converge\n",
      "  warnings.warn(\n",
      "/opt/conda/lib/python3.9/site-packages/sklearn/linear_model/_sag.py:350: ConvergenceWarning: The max_iter was reached which means the coef_ did not converge\n",
      "  warnings.warn(\n",
      "/opt/conda/lib/python3.9/site-packages/sklearn/linear_model/_sag.py:350: ConvergenceWarning: The max_iter was reached which means the coef_ did not converge\n",
      "  warnings.warn(\n",
      "/opt/conda/lib/python3.9/site-packages/sklearn/linear_model/_sag.py:350: ConvergenceWarning: The max_iter was reached which means the coef_ did not converge\n",
      "  warnings.warn(\n",
      "/opt/conda/lib/python3.9/site-packages/sklearn/linear_model/_sag.py:350: ConvergenceWarning: The max_iter was reached which means the coef_ did not converge\n",
      "  warnings.warn(\n",
      "/opt/conda/lib/python3.9/site-packages/sklearn/linear_model/_sag.py:350: ConvergenceWarning: The max_iter was reached which means the coef_ did not converge\n",
      "  warnings.warn(\n",
      "/opt/conda/lib/python3.9/site-packages/sklearn/linear_model/_sag.py:350: ConvergenceWarning: The max_iter was reached which means the coef_ did not converge\n",
      "  warnings.warn(\n",
      "/opt/conda/lib/python3.9/site-packages/sklearn/linear_model/_sag.py:350: ConvergenceWarning: The max_iter was reached which means the coef_ did not converge\n",
      "  warnings.warn(\n",
      "/opt/conda/lib/python3.9/site-packages/sklearn/linear_model/_sag.py:350: ConvergenceWarning: The max_iter was reached which means the coef_ did not converge\n",
      "  warnings.warn(\n",
      "/opt/conda/lib/python3.9/site-packages/sklearn/linear_model/_sag.py:350: ConvergenceWarning: The max_iter was reached which means the coef_ did not converge\n",
      "  warnings.warn(\n",
      "/opt/conda/lib/python3.9/site-packages/sklearn/linear_model/_sag.py:350: ConvergenceWarning: The max_iter was reached which means the coef_ did not converge\n",
      "  warnings.warn(\n",
      "/opt/conda/lib/python3.9/site-packages/sklearn/linear_model/_sag.py:350: ConvergenceWarning: The max_iter was reached which means the coef_ did not converge\n",
      "  warnings.warn(\n",
      "/opt/conda/lib/python3.9/site-packages/sklearn/linear_model/_sag.py:350: ConvergenceWarning: The max_iter was reached which means the coef_ did not converge\n",
      "  warnings.warn(\n",
      "/opt/conda/lib/python3.9/site-packages/sklearn/linear_model/_sag.py:350: ConvergenceWarning: The max_iter was reached which means the coef_ did not converge\n",
      "  warnings.warn(\n",
      "/opt/conda/lib/python3.9/site-packages/sklearn/linear_model/_sag.py:350: ConvergenceWarning: The max_iter was reached which means the coef_ did not converge\n",
      "  warnings.warn(\n",
      "/opt/conda/lib/python3.9/site-packages/sklearn/linear_model/_sag.py:350: ConvergenceWarning: The max_iter was reached which means the coef_ did not converge\n",
      "  warnings.warn(\n",
      "/opt/conda/lib/python3.9/site-packages/sklearn/linear_model/_sag.py:350: ConvergenceWarning: The max_iter was reached which means the coef_ did not converge\n",
      "  warnings.warn(\n",
      "/opt/conda/lib/python3.9/site-packages/sklearn/linear_model/_sag.py:350: ConvergenceWarning: The max_iter was reached which means the coef_ did not converge\n",
      "  warnings.warn(\n",
      "/opt/conda/lib/python3.9/site-packages/sklearn/linear_model/_sag.py:350: ConvergenceWarning: The max_iter was reached which means the coef_ did not converge\n",
      "  warnings.warn(\n",
      "/opt/conda/lib/python3.9/site-packages/sklearn/linear_model/_sag.py:350: ConvergenceWarning: The max_iter was reached which means the coef_ did not converge\n",
      "  warnings.warn(\n",
      "/opt/conda/lib/python3.9/site-packages/sklearn/linear_model/_sag.py:350: ConvergenceWarning: The max_iter was reached which means the coef_ did not converge\n",
      "  warnings.warn(\n",
      "/opt/conda/lib/python3.9/site-packages/sklearn/linear_model/_sag.py:350: ConvergenceWarning: The max_iter was reached which means the coef_ did not converge\n",
      "  warnings.warn(\n",
      "/opt/conda/lib/python3.9/site-packages/sklearn/linear_model/_sag.py:350: ConvergenceWarning: The max_iter was reached which means the coef_ did not converge\n",
      "  warnings.warn(\n",
      "/opt/conda/lib/python3.9/site-packages/sklearn/linear_model/_sag.py:350: ConvergenceWarning: The max_iter was reached which means the coef_ did not converge\n",
      "  warnings.warn(\n",
      "/opt/conda/lib/python3.9/site-packages/sklearn/linear_model/_sag.py:350: ConvergenceWarning: The max_iter was reached which means the coef_ did not converge\n",
      "  warnings.warn(\n",
      "/opt/conda/lib/python3.9/site-packages/sklearn/linear_model/_sag.py:350: ConvergenceWarning: The max_iter was reached which means the coef_ did not converge\n",
      "  warnings.warn(\n",
      "/opt/conda/lib/python3.9/site-packages/sklearn/linear_model/_sag.py:350: ConvergenceWarning: The max_iter was reached which means the coef_ did not converge\n",
      "  warnings.warn(\n",
      "/opt/conda/lib/python3.9/site-packages/sklearn/linear_model/_sag.py:350: ConvergenceWarning: The max_iter was reached which means the coef_ did not converge\n",
      "  warnings.warn(\n",
      "/opt/conda/lib/python3.9/site-packages/sklearn/linear_model/_sag.py:350: ConvergenceWarning: The max_iter was reached which means the coef_ did not converge\n",
      "  warnings.warn(\n",
      "/opt/conda/lib/python3.9/site-packages/sklearn/linear_model/_sag.py:350: ConvergenceWarning: The max_iter was reached which means the coef_ did not converge\n",
      "  warnings.warn(\n",
      "/opt/conda/lib/python3.9/site-packages/sklearn/linear_model/_sag.py:350: ConvergenceWarning: The max_iter was reached which means the coef_ did not converge\n",
      "  warnings.warn(\n",
      "/opt/conda/lib/python3.9/site-packages/sklearn/linear_model/_sag.py:350: ConvergenceWarning: The max_iter was reached which means the coef_ did not converge\n",
      "  warnings.warn(\n",
      "/opt/conda/lib/python3.9/site-packages/sklearn/linear_model/_sag.py:350: ConvergenceWarning: The max_iter was reached which means the coef_ did not converge\n",
      "  warnings.warn(\n",
      "/opt/conda/lib/python3.9/site-packages/sklearn/linear_model/_sag.py:350: ConvergenceWarning: The max_iter was reached which means the coef_ did not converge\n",
      "  warnings.warn(\n",
      "/opt/conda/lib/python3.9/site-packages/sklearn/linear_model/_sag.py:350: ConvergenceWarning: The max_iter was reached which means the coef_ did not converge\n",
      "  warnings.warn(\n",
      "/opt/conda/lib/python3.9/site-packages/sklearn/linear_model/_sag.py:350: ConvergenceWarning: The max_iter was reached which means the coef_ did not converge\n",
      "  warnings.warn(\n",
      "/opt/conda/lib/python3.9/site-packages/sklearn/linear_model/_sag.py:350: ConvergenceWarning: The max_iter was reached which means the coef_ did not converge\n",
      "  warnings.warn(\n",
      "/opt/conda/lib/python3.9/site-packages/sklearn/linear_model/_sag.py:350: ConvergenceWarning: The max_iter was reached which means the coef_ did not converge\n",
      "  warnings.warn(\n",
      "/opt/conda/lib/python3.9/site-packages/sklearn/linear_model/_sag.py:350: ConvergenceWarning: The max_iter was reached which means the coef_ did not converge\n",
      "  warnings.warn(\n",
      "/opt/conda/lib/python3.9/site-packages/sklearn/linear_model/_sag.py:350: ConvergenceWarning: The max_iter was reached which means the coef_ did not converge\n",
      "  warnings.warn(\n",
      "/opt/conda/lib/python3.9/site-packages/sklearn/linear_model/_sag.py:350: ConvergenceWarning: The max_iter was reached which means the coef_ did not converge\n",
      "  warnings.warn(\n",
      "/opt/conda/lib/python3.9/site-packages/sklearn/linear_model/_sag.py:350: ConvergenceWarning: The max_iter was reached which means the coef_ did not converge\n",
      "  warnings.warn(\n",
      "/opt/conda/lib/python3.9/site-packages/sklearn/linear_model/_sag.py:350: ConvergenceWarning: The max_iter was reached which means the coef_ did not converge\n",
      "  warnings.warn(\n",
      "/opt/conda/lib/python3.9/site-packages/sklearn/linear_model/_sag.py:350: ConvergenceWarning: The max_iter was reached which means the coef_ did not converge\n",
      "  warnings.warn(\n",
      "/opt/conda/lib/python3.9/site-packages/sklearn/linear_model/_sag.py:350: ConvergenceWarning: The max_iter was reached which means the coef_ did not converge\n",
      "  warnings.warn(\n",
      "/opt/conda/lib/python3.9/site-packages/sklearn/linear_model/_sag.py:350: ConvergenceWarning: The max_iter was reached which means the coef_ did not converge\n",
      "  warnings.warn(\n",
      "/opt/conda/lib/python3.9/site-packages/sklearn/linear_model/_sag.py:350: ConvergenceWarning: The max_iter was reached which means the coef_ did not converge\n",
      "  warnings.warn(\n",
      "/opt/conda/lib/python3.9/site-packages/sklearn/linear_model/_sag.py:350: ConvergenceWarning: The max_iter was reached which means the coef_ did not converge\n",
      "  warnings.warn(\n",
      "/opt/conda/lib/python3.9/site-packages/sklearn/linear_model/_sag.py:350: ConvergenceWarning: The max_iter was reached which means the coef_ did not converge\n",
      "  warnings.warn(\n",
      "/opt/conda/lib/python3.9/site-packages/sklearn/linear_model/_sag.py:350: ConvergenceWarning: The max_iter was reached which means the coef_ did not converge\n",
      "  warnings.warn(\n",
      "/opt/conda/lib/python3.9/site-packages/sklearn/linear_model/_sag.py:350: ConvergenceWarning: The max_iter was reached which means the coef_ did not converge\n",
      "  warnings.warn(\n",
      "/opt/conda/lib/python3.9/site-packages/sklearn/linear_model/_sag.py:350: ConvergenceWarning: The max_iter was reached which means the coef_ did not converge\n",
      "  warnings.warn(\n",
      "/opt/conda/lib/python3.9/site-packages/sklearn/linear_model/_sag.py:350: ConvergenceWarning: The max_iter was reached which means the coef_ did not converge\n",
      "  warnings.warn(\n",
      "/opt/conda/lib/python3.9/site-packages/sklearn/linear_model/_sag.py:350: ConvergenceWarning: The max_iter was reached which means the coef_ did not converge\n",
      "  warnings.warn(\n",
      "/opt/conda/lib/python3.9/site-packages/sklearn/linear_model/_sag.py:350: ConvergenceWarning: The max_iter was reached which means the coef_ did not converge\n",
      "  warnings.warn(\n",
      "/opt/conda/lib/python3.9/site-packages/sklearn/linear_model/_sag.py:350: ConvergenceWarning: The max_iter was reached which means the coef_ did not converge\n",
      "  warnings.warn(\n",
      "/opt/conda/lib/python3.9/site-packages/sklearn/linear_model/_sag.py:350: ConvergenceWarning: The max_iter was reached which means the coef_ did not converge\n",
      "  warnings.warn(\n",
      "/opt/conda/lib/python3.9/site-packages/sklearn/linear_model/_sag.py:350: ConvergenceWarning: The max_iter was reached which means the coef_ did not converge\n",
      "  warnings.warn(\n",
      "/opt/conda/lib/python3.9/site-packages/sklearn/linear_model/_sag.py:350: ConvergenceWarning: The max_iter was reached which means the coef_ did not converge\n",
      "  warnings.warn(\n",
      "/opt/conda/lib/python3.9/site-packages/sklearn/linear_model/_sag.py:350: ConvergenceWarning: The max_iter was reached which means the coef_ did not converge\n",
      "  warnings.warn(\n",
      "/opt/conda/lib/python3.9/site-packages/sklearn/linear_model/_sag.py:350: ConvergenceWarning: The max_iter was reached which means the coef_ did not converge\n",
      "  warnings.warn(\n",
      "/opt/conda/lib/python3.9/site-packages/sklearn/linear_model/_sag.py:350: ConvergenceWarning: The max_iter was reached which means the coef_ did not converge\n",
      "  warnings.warn(\n",
      "/opt/conda/lib/python3.9/site-packages/sklearn/linear_model/_sag.py:350: ConvergenceWarning: The max_iter was reached which means the coef_ did not converge\n",
      "  warnings.warn(\n",
      "/opt/conda/lib/python3.9/site-packages/sklearn/linear_model/_sag.py:350: ConvergenceWarning: The max_iter was reached which means the coef_ did not converge\n",
      "  warnings.warn(\n",
      "/opt/conda/lib/python3.9/site-packages/sklearn/linear_model/_sag.py:350: ConvergenceWarning: The max_iter was reached which means the coef_ did not converge\n",
      "  warnings.warn(\n",
      "/opt/conda/lib/python3.9/site-packages/sklearn/linear_model/_sag.py:350: ConvergenceWarning: The max_iter was reached which means the coef_ did not converge\n",
      "  warnings.warn(\n",
      "/opt/conda/lib/python3.9/site-packages/sklearn/linear_model/_sag.py:350: ConvergenceWarning: The max_iter was reached which means the coef_ did not converge\n",
      "  warnings.warn(\n",
      "/opt/conda/lib/python3.9/site-packages/sklearn/linear_model/_sag.py:350: ConvergenceWarning: The max_iter was reached which means the coef_ did not converge\n",
      "  warnings.warn(\n",
      "/opt/conda/lib/python3.9/site-packages/sklearn/linear_model/_sag.py:350: ConvergenceWarning: The max_iter was reached which means the coef_ did not converge\n",
      "  warnings.warn(\n",
      "/opt/conda/lib/python3.9/site-packages/sklearn/linear_model/_sag.py:350: ConvergenceWarning: The max_iter was reached which means the coef_ did not converge\n",
      "  warnings.warn(\n",
      "/opt/conda/lib/python3.9/site-packages/sklearn/linear_model/_sag.py:350: ConvergenceWarning: The max_iter was reached which means the coef_ did not converge\n",
      "  warnings.warn(\n",
      "/opt/conda/lib/python3.9/site-packages/sklearn/linear_model/_sag.py:350: ConvergenceWarning: The max_iter was reached which means the coef_ did not converge\n",
      "  warnings.warn(\n",
      "/opt/conda/lib/python3.9/site-packages/sklearn/linear_model/_sag.py:350: ConvergenceWarning: The max_iter was reached which means the coef_ did not converge\n",
      "  warnings.warn(\n",
      "/opt/conda/lib/python3.9/site-packages/sklearn/linear_model/_sag.py:350: ConvergenceWarning: The max_iter was reached which means the coef_ did not converge\n",
      "  warnings.warn(\n",
      "/opt/conda/lib/python3.9/site-packages/sklearn/linear_model/_sag.py:350: ConvergenceWarning: The max_iter was reached which means the coef_ did not converge\n",
      "  warnings.warn(\n",
      "/opt/conda/lib/python3.9/site-packages/sklearn/linear_model/_sag.py:350: ConvergenceWarning: The max_iter was reached which means the coef_ did not converge\n",
      "  warnings.warn(\n",
      "/opt/conda/lib/python3.9/site-packages/sklearn/linear_model/_sag.py:350: ConvergenceWarning: The max_iter was reached which means the coef_ did not converge\n",
      "  warnings.warn(\n",
      "/opt/conda/lib/python3.9/site-packages/sklearn/linear_model/_sag.py:350: ConvergenceWarning: The max_iter was reached which means the coef_ did not converge\n",
      "  warnings.warn(\n",
      "/opt/conda/lib/python3.9/site-packages/sklearn/linear_model/_sag.py:350: ConvergenceWarning: The max_iter was reached which means the coef_ did not converge\n",
      "  warnings.warn(\n",
      "/opt/conda/lib/python3.9/site-packages/sklearn/linear_model/_sag.py:350: ConvergenceWarning: The max_iter was reached which means the coef_ did not converge\n",
      "  warnings.warn(\n",
      "/opt/conda/lib/python3.9/site-packages/sklearn/linear_model/_sag.py:350: ConvergenceWarning: The max_iter was reached which means the coef_ did not converge\n",
      "  warnings.warn(\n",
      "/opt/conda/lib/python3.9/site-packages/sklearn/linear_model/_sag.py:350: ConvergenceWarning: The max_iter was reached which means the coef_ did not converge\n",
      "  warnings.warn(\n",
      "/opt/conda/lib/python3.9/site-packages/sklearn/linear_model/_sag.py:350: ConvergenceWarning: The max_iter was reached which means the coef_ did not converge\n",
      "  warnings.warn(\n",
      "/opt/conda/lib/python3.9/site-packages/sklearn/linear_model/_sag.py:350: ConvergenceWarning: The max_iter was reached which means the coef_ did not converge\n",
      "  warnings.warn(\n",
      "/opt/conda/lib/python3.9/site-packages/sklearn/linear_model/_sag.py:350: ConvergenceWarning: The max_iter was reached which means the coef_ did not converge\n",
      "  warnings.warn(\n",
      "/opt/conda/lib/python3.9/site-packages/sklearn/linear_model/_sag.py:350: ConvergenceWarning: The max_iter was reached which means the coef_ did not converge\n",
      "  warnings.warn(\n",
      "/opt/conda/lib/python3.9/site-packages/sklearn/linear_model/_sag.py:350: ConvergenceWarning: The max_iter was reached which means the coef_ did not converge\n",
      "  warnings.warn(\n",
      "/opt/conda/lib/python3.9/site-packages/sklearn/linear_model/_sag.py:350: ConvergenceWarning: The max_iter was reached which means the coef_ did not converge\n",
      "  warnings.warn(\n",
      "/opt/conda/lib/python3.9/site-packages/sklearn/linear_model/_sag.py:350: ConvergenceWarning: The max_iter was reached which means the coef_ did not converge\n",
      "  warnings.warn(\n",
      "/opt/conda/lib/python3.9/site-packages/sklearn/linear_model/_sag.py:350: ConvergenceWarning: The max_iter was reached which means the coef_ did not converge\n",
      "  warnings.warn(\n",
      "/opt/conda/lib/python3.9/site-packages/sklearn/linear_model/_sag.py:350: ConvergenceWarning: The max_iter was reached which means the coef_ did not converge\n",
      "  warnings.warn(\n",
      "/opt/conda/lib/python3.9/site-packages/sklearn/linear_model/_sag.py:350: ConvergenceWarning: The max_iter was reached which means the coef_ did not converge\n",
      "  warnings.warn(\n",
      "/opt/conda/lib/python3.9/site-packages/sklearn/linear_model/_sag.py:350: ConvergenceWarning: The max_iter was reached which means the coef_ did not converge\n",
      "  warnings.warn(\n",
      "/opt/conda/lib/python3.9/site-packages/sklearn/linear_model/_sag.py:350: ConvergenceWarning: The max_iter was reached which means the coef_ did not converge\n",
      "  warnings.warn(\n",
      "/opt/conda/lib/python3.9/site-packages/sklearn/linear_model/_sag.py:350: ConvergenceWarning: The max_iter was reached which means the coef_ did not converge\n",
      "  warnings.warn(\n",
      "/opt/conda/lib/python3.9/site-packages/sklearn/linear_model/_sag.py:350: ConvergenceWarning: The max_iter was reached which means the coef_ did not converge\n",
      "  warnings.warn(\n",
      "/opt/conda/lib/python3.9/site-packages/sklearn/linear_model/_sag.py:350: ConvergenceWarning: The max_iter was reached which means the coef_ did not converge\n",
      "  warnings.warn(\n",
      "/opt/conda/lib/python3.9/site-packages/sklearn/linear_model/_sag.py:350: ConvergenceWarning: The max_iter was reached which means the coef_ did not converge\n",
      "  warnings.warn(\n",
      "/opt/conda/lib/python3.9/site-packages/sklearn/linear_model/_sag.py:350: ConvergenceWarning: The max_iter was reached which means the coef_ did not converge\n",
      "  warnings.warn(\n",
      "/opt/conda/lib/python3.9/site-packages/sklearn/linear_model/_sag.py:350: ConvergenceWarning: The max_iter was reached which means the coef_ did not converge\n",
      "  warnings.warn(\n",
      "/opt/conda/lib/python3.9/site-packages/sklearn/linear_model/_sag.py:350: ConvergenceWarning: The max_iter was reached which means the coef_ did not converge\n",
      "  warnings.warn(\n",
      "/opt/conda/lib/python3.9/site-packages/sklearn/linear_model/_sag.py:350: ConvergenceWarning: The max_iter was reached which means the coef_ did not converge\n",
      "  warnings.warn(\n",
      "/opt/conda/lib/python3.9/site-packages/sklearn/linear_model/_sag.py:350: ConvergenceWarning: The max_iter was reached which means the coef_ did not converge\n",
      "  warnings.warn(\n",
      "/opt/conda/lib/python3.9/site-packages/sklearn/linear_model/_sag.py:350: ConvergenceWarning: The max_iter was reached which means the coef_ did not converge\n",
      "  warnings.warn(\n",
      "/opt/conda/lib/python3.9/site-packages/sklearn/linear_model/_sag.py:350: ConvergenceWarning: The max_iter was reached which means the coef_ did not converge\n",
      "  warnings.warn(\n",
      "/opt/conda/lib/python3.9/site-packages/sklearn/linear_model/_sag.py:350: ConvergenceWarning: The max_iter was reached which means the coef_ did not converge\n",
      "  warnings.warn(\n",
      "/opt/conda/lib/python3.9/site-packages/sklearn/linear_model/_sag.py:350: ConvergenceWarning: The max_iter was reached which means the coef_ did not converge\n",
      "  warnings.warn(\n",
      "/opt/conda/lib/python3.9/site-packages/sklearn/linear_model/_sag.py:350: ConvergenceWarning: The max_iter was reached which means the coef_ did not converge\n",
      "  warnings.warn(\n",
      "/opt/conda/lib/python3.9/site-packages/sklearn/linear_model/_sag.py:350: ConvergenceWarning: The max_iter was reached which means the coef_ did not converge\n",
      "  warnings.warn(\n",
      "/opt/conda/lib/python3.9/site-packages/sklearn/linear_model/_sag.py:350: ConvergenceWarning: The max_iter was reached which means the coef_ did not converge\n",
      "  warnings.warn(\n",
      "/opt/conda/lib/python3.9/site-packages/sklearn/linear_model/_sag.py:350: ConvergenceWarning: The max_iter was reached which means the coef_ did not converge\n",
      "  warnings.warn(\n",
      "/opt/conda/lib/python3.9/site-packages/sklearn/linear_model/_sag.py:350: ConvergenceWarning: The max_iter was reached which means the coef_ did not converge\n",
      "  warnings.warn(\n",
      "/opt/conda/lib/python3.9/site-packages/sklearn/linear_model/_sag.py:350: ConvergenceWarning: The max_iter was reached which means the coef_ did not converge\n",
      "  warnings.warn(\n",
      "/opt/conda/lib/python3.9/site-packages/sklearn/linear_model/_sag.py:350: ConvergenceWarning: The max_iter was reached which means the coef_ did not converge\n",
      "  warnings.warn(\n",
      "/opt/conda/lib/python3.9/site-packages/sklearn/linear_model/_sag.py:350: ConvergenceWarning: The max_iter was reached which means the coef_ did not converge\n",
      "  warnings.warn(\n",
      "/opt/conda/lib/python3.9/site-packages/sklearn/linear_model/_sag.py:350: ConvergenceWarning: The max_iter was reached which means the coef_ did not converge\n",
      "  warnings.warn(\n",
      "/opt/conda/lib/python3.9/site-packages/sklearn/linear_model/_sag.py:350: ConvergenceWarning: The max_iter was reached which means the coef_ did not converge\n",
      "  warnings.warn(\n",
      "/opt/conda/lib/python3.9/site-packages/sklearn/linear_model/_sag.py:350: ConvergenceWarning: The max_iter was reached which means the coef_ did not converge\n",
      "  warnings.warn(\n",
      "/opt/conda/lib/python3.9/site-packages/sklearn/linear_model/_sag.py:350: ConvergenceWarning: The max_iter was reached which means the coef_ did not converge\n",
      "  warnings.warn(\n",
      "/opt/conda/lib/python3.9/site-packages/sklearn/linear_model/_sag.py:350: ConvergenceWarning: The max_iter was reached which means the coef_ did not converge\n",
      "  warnings.warn(\n",
      "/opt/conda/lib/python3.9/site-packages/sklearn/linear_model/_sag.py:350: ConvergenceWarning: The max_iter was reached which means the coef_ did not converge\n",
      "  warnings.warn(\n",
      "/opt/conda/lib/python3.9/site-packages/sklearn/linear_model/_sag.py:350: ConvergenceWarning: The max_iter was reached which means the coef_ did not converge\n",
      "  warnings.warn(\n",
      "/opt/conda/lib/python3.9/site-packages/sklearn/linear_model/_sag.py:350: ConvergenceWarning: The max_iter was reached which means the coef_ did not converge\n",
      "  warnings.warn(\n",
      "/opt/conda/lib/python3.9/site-packages/sklearn/linear_model/_sag.py:350: ConvergenceWarning: The max_iter was reached which means the coef_ did not converge\n",
      "  warnings.warn(\n",
      "/opt/conda/lib/python3.9/site-packages/sklearn/linear_model/_sag.py:350: ConvergenceWarning: The max_iter was reached which means the coef_ did not converge\n",
      "  warnings.warn(\n",
      "/opt/conda/lib/python3.9/site-packages/sklearn/linear_model/_sag.py:350: ConvergenceWarning: The max_iter was reached which means the coef_ did not converge\n",
      "  warnings.warn(\n",
      "/opt/conda/lib/python3.9/site-packages/sklearn/linear_model/_sag.py:350: ConvergenceWarning: The max_iter was reached which means the coef_ did not converge\n",
      "  warnings.warn(\n",
      "/opt/conda/lib/python3.9/site-packages/sklearn/linear_model/_sag.py:350: ConvergenceWarning: The max_iter was reached which means the coef_ did not converge\n",
      "  warnings.warn(\n",
      "/opt/conda/lib/python3.9/site-packages/sklearn/linear_model/_sag.py:350: ConvergenceWarning: The max_iter was reached which means the coef_ did not converge\n",
      "  warnings.warn(\n",
      "/opt/conda/lib/python3.9/site-packages/sklearn/linear_model/_sag.py:350: ConvergenceWarning: The max_iter was reached which means the coef_ did not converge\n",
      "  warnings.warn(\n",
      "/opt/conda/lib/python3.9/site-packages/sklearn/linear_model/_sag.py:350: ConvergenceWarning: The max_iter was reached which means the coef_ did not converge\n",
      "  warnings.warn(\n",
      "/opt/conda/lib/python3.9/site-packages/sklearn/linear_model/_sag.py:350: ConvergenceWarning: The max_iter was reached which means the coef_ did not converge\n",
      "  warnings.warn(\n",
      "/opt/conda/lib/python3.9/site-packages/sklearn/linear_model/_sag.py:350: ConvergenceWarning: The max_iter was reached which means the coef_ did not converge\n",
      "  warnings.warn(\n",
      "/opt/conda/lib/python3.9/site-packages/sklearn/linear_model/_sag.py:350: ConvergenceWarning: The max_iter was reached which means the coef_ did not converge\n",
      "  warnings.warn(\n",
      "/opt/conda/lib/python3.9/site-packages/sklearn/linear_model/_sag.py:350: ConvergenceWarning: The max_iter was reached which means the coef_ did not converge\n",
      "  warnings.warn(\n",
      "/opt/conda/lib/python3.9/site-packages/sklearn/linear_model/_sag.py:350: ConvergenceWarning: The max_iter was reached which means the coef_ did not converge\n",
      "  warnings.warn(\n",
      "/opt/conda/lib/python3.9/site-packages/sklearn/linear_model/_sag.py:350: ConvergenceWarning: The max_iter was reached which means the coef_ did not converge\n",
      "  warnings.warn(\n",
      "/opt/conda/lib/python3.9/site-packages/sklearn/linear_model/_sag.py:350: ConvergenceWarning: The max_iter was reached which means the coef_ did not converge\n",
      "  warnings.warn(\n",
      "/opt/conda/lib/python3.9/site-packages/sklearn/linear_model/_sag.py:350: ConvergenceWarning: The max_iter was reached which means the coef_ did not converge\n",
      "  warnings.warn(\n",
      "/opt/conda/lib/python3.9/site-packages/sklearn/linear_model/_sag.py:350: ConvergenceWarning: The max_iter was reached which means the coef_ did not converge\n",
      "  warnings.warn(\n",
      "/opt/conda/lib/python3.9/site-packages/sklearn/linear_model/_sag.py:350: ConvergenceWarning: The max_iter was reached which means the coef_ did not converge\n",
      "  warnings.warn(\n",
      "/opt/conda/lib/python3.9/site-packages/sklearn/linear_model/_sag.py:350: ConvergenceWarning: The max_iter was reached which means the coef_ did not converge\n",
      "  warnings.warn(\n",
      "/opt/conda/lib/python3.9/site-packages/sklearn/linear_model/_sag.py:350: ConvergenceWarning: The max_iter was reached which means the coef_ did not converge\n",
      "  warnings.warn(\n",
      "/opt/conda/lib/python3.9/site-packages/sklearn/linear_model/_sag.py:350: ConvergenceWarning: The max_iter was reached which means the coef_ did not converge\n",
      "  warnings.warn(\n",
      "/opt/conda/lib/python3.9/site-packages/sklearn/linear_model/_sag.py:350: ConvergenceWarning: The max_iter was reached which means the coef_ did not converge\n",
      "  warnings.warn(\n",
      "/opt/conda/lib/python3.9/site-packages/sklearn/linear_model/_sag.py:350: ConvergenceWarning: The max_iter was reached which means the coef_ did not converge\n",
      "  warnings.warn(\n",
      "/opt/conda/lib/python3.9/site-packages/sklearn/linear_model/_sag.py:350: ConvergenceWarning: The max_iter was reached which means the coef_ did not converge\n",
      "  warnings.warn(\n",
      "/opt/conda/lib/python3.9/site-packages/sklearn/linear_model/_sag.py:350: ConvergenceWarning: The max_iter was reached which means the coef_ did not converge\n",
      "  warnings.warn(\n",
      "/opt/conda/lib/python3.9/site-packages/sklearn/linear_model/_sag.py:350: ConvergenceWarning: The max_iter was reached which means the coef_ did not converge\n",
      "  warnings.warn(\n",
      "/opt/conda/lib/python3.9/site-packages/sklearn/linear_model/_sag.py:350: ConvergenceWarning: The max_iter was reached which means the coef_ did not converge\n",
      "  warnings.warn(\n",
      "/opt/conda/lib/python3.9/site-packages/sklearn/linear_model/_sag.py:350: ConvergenceWarning: The max_iter was reached which means the coef_ did not converge\n",
      "  warnings.warn(\n",
      "/opt/conda/lib/python3.9/site-packages/sklearn/linear_model/_sag.py:350: ConvergenceWarning: The max_iter was reached which means the coef_ did not converge\n",
      "  warnings.warn(\n",
      "/opt/conda/lib/python3.9/site-packages/sklearn/linear_model/_sag.py:350: ConvergenceWarning: The max_iter was reached which means the coef_ did not converge\n",
      "  warnings.warn(\n",
      "/opt/conda/lib/python3.9/site-packages/sklearn/linear_model/_sag.py:350: ConvergenceWarning: The max_iter was reached which means the coef_ did not converge\n",
      "  warnings.warn(\n",
      "/opt/conda/lib/python3.9/site-packages/sklearn/linear_model/_sag.py:350: ConvergenceWarning: The max_iter was reached which means the coef_ did not converge\n",
      "  warnings.warn(\n",
      "/opt/conda/lib/python3.9/site-packages/sklearn/linear_model/_sag.py:350: ConvergenceWarning: The max_iter was reached which means the coef_ did not converge\n",
      "  warnings.warn(\n",
      "/opt/conda/lib/python3.9/site-packages/sklearn/linear_model/_sag.py:350: ConvergenceWarning: The max_iter was reached which means the coef_ did not converge\n",
      "  warnings.warn(\n",
      "/opt/conda/lib/python3.9/site-packages/sklearn/linear_model/_sag.py:350: ConvergenceWarning: The max_iter was reached which means the coef_ did not converge\n",
      "  warnings.warn(\n",
      "/opt/conda/lib/python3.9/site-packages/sklearn/linear_model/_sag.py:350: ConvergenceWarning: The max_iter was reached which means the coef_ did not converge\n",
      "  warnings.warn(\n",
      "/opt/conda/lib/python3.9/site-packages/sklearn/linear_model/_sag.py:350: ConvergenceWarning: The max_iter was reached which means the coef_ did not converge\n",
      "  warnings.warn(\n",
      "/opt/conda/lib/python3.9/site-packages/sklearn/linear_model/_sag.py:350: ConvergenceWarning: The max_iter was reached which means the coef_ did not converge\n",
      "  warnings.warn(\n",
      "/opt/conda/lib/python3.9/site-packages/sklearn/linear_model/_sag.py:350: ConvergenceWarning: The max_iter was reached which means the coef_ did not converge\n",
      "  warnings.warn(\n",
      "/opt/conda/lib/python3.9/site-packages/sklearn/linear_model/_sag.py:350: ConvergenceWarning: The max_iter was reached which means the coef_ did not converge\n",
      "  warnings.warn(\n",
      "/opt/conda/lib/python3.9/site-packages/sklearn/linear_model/_sag.py:350: ConvergenceWarning: The max_iter was reached which means the coef_ did not converge\n",
      "  warnings.warn(\n",
      "/opt/conda/lib/python3.9/site-packages/sklearn/linear_model/_sag.py:350: ConvergenceWarning: The max_iter was reached which means the coef_ did not converge\n",
      "  warnings.warn(\n",
      "/opt/conda/lib/python3.9/site-packages/sklearn/linear_model/_sag.py:350: ConvergenceWarning: The max_iter was reached which means the coef_ did not converge\n",
      "  warnings.warn(\n",
      "/opt/conda/lib/python3.9/site-packages/sklearn/linear_model/_sag.py:350: ConvergenceWarning: The max_iter was reached which means the coef_ did not converge\n",
      "  warnings.warn(\n",
      "/opt/conda/lib/python3.9/site-packages/sklearn/linear_model/_sag.py:350: ConvergenceWarning: The max_iter was reached which means the coef_ did not converge\n",
      "  warnings.warn(\n",
      "/opt/conda/lib/python3.9/site-packages/sklearn/linear_model/_sag.py:350: ConvergenceWarning: The max_iter was reached which means the coef_ did not converge\n",
      "  warnings.warn(\n",
      "/opt/conda/lib/python3.9/site-packages/sklearn/linear_model/_sag.py:350: ConvergenceWarning: The max_iter was reached which means the coef_ did not converge\n",
      "  warnings.warn(\n",
      "/opt/conda/lib/python3.9/site-packages/sklearn/linear_model/_sag.py:350: ConvergenceWarning: The max_iter was reached which means the coef_ did not converge\n",
      "  warnings.warn(\n",
      "/opt/conda/lib/python3.9/site-packages/sklearn/linear_model/_sag.py:350: ConvergenceWarning: The max_iter was reached which means the coef_ did not converge\n",
      "  warnings.warn(\n",
      "/opt/conda/lib/python3.9/site-packages/sklearn/linear_model/_sag.py:350: ConvergenceWarning: The max_iter was reached which means the coef_ did not converge\n",
      "  warnings.warn(\n",
      "/opt/conda/lib/python3.9/site-packages/sklearn/linear_model/_sag.py:350: ConvergenceWarning: The max_iter was reached which means the coef_ did not converge\n",
      "  warnings.warn(\n",
      "/opt/conda/lib/python3.9/site-packages/sklearn/linear_model/_sag.py:350: ConvergenceWarning: The max_iter was reached which means the coef_ did not converge\n",
      "  warnings.warn(\n",
      "/opt/conda/lib/python3.9/site-packages/sklearn/linear_model/_sag.py:350: ConvergenceWarning: The max_iter was reached which means the coef_ did not converge\n",
      "  warnings.warn(\n",
      "/opt/conda/lib/python3.9/site-packages/sklearn/linear_model/_sag.py:350: ConvergenceWarning: The max_iter was reached which means the coef_ did not converge\n",
      "  warnings.warn(\n",
      "/opt/conda/lib/python3.9/site-packages/sklearn/linear_model/_sag.py:350: ConvergenceWarning: The max_iter was reached which means the coef_ did not converge\n",
      "  warnings.warn(\n",
      "/opt/conda/lib/python3.9/site-packages/sklearn/linear_model/_sag.py:350: ConvergenceWarning: The max_iter was reached which means the coef_ did not converge\n",
      "  warnings.warn(\n",
      "/opt/conda/lib/python3.9/site-packages/sklearn/linear_model/_sag.py:350: ConvergenceWarning: The max_iter was reached which means the coef_ did not converge\n",
      "  warnings.warn(\n",
      "/opt/conda/lib/python3.9/site-packages/sklearn/linear_model/_sag.py:350: ConvergenceWarning: The max_iter was reached which means the coef_ did not converge\n",
      "  warnings.warn(\n",
      "/opt/conda/lib/python3.9/site-packages/sklearn/linear_model/_sag.py:350: ConvergenceWarning: The max_iter was reached which means the coef_ did not converge\n",
      "  warnings.warn(\n",
      "/opt/conda/lib/python3.9/site-packages/sklearn/linear_model/_sag.py:350: ConvergenceWarning: The max_iter was reached which means the coef_ did not converge\n",
      "  warnings.warn(\n",
      "/opt/conda/lib/python3.9/site-packages/sklearn/linear_model/_sag.py:350: ConvergenceWarning: The max_iter was reached which means the coef_ did not converge\n",
      "  warnings.warn(\n",
      "/opt/conda/lib/python3.9/site-packages/sklearn/linear_model/_sag.py:350: ConvergenceWarning: The max_iter was reached which means the coef_ did not converge\n",
      "  warnings.warn(\n",
      "/opt/conda/lib/python3.9/site-packages/sklearn/linear_model/_sag.py:350: ConvergenceWarning: The max_iter was reached which means the coef_ did not converge\n",
      "  warnings.warn(\n",
      "/opt/conda/lib/python3.9/site-packages/sklearn/linear_model/_sag.py:350: ConvergenceWarning: The max_iter was reached which means the coef_ did not converge\n",
      "  warnings.warn(\n",
      "/opt/conda/lib/python3.9/site-packages/sklearn/linear_model/_sag.py:350: ConvergenceWarning: The max_iter was reached which means the coef_ did not converge\n",
      "  warnings.warn(\n",
      "/opt/conda/lib/python3.9/site-packages/sklearn/linear_model/_sag.py:350: ConvergenceWarning: The max_iter was reached which means the coef_ did not converge\n",
      "  warnings.warn(\n",
      "/opt/conda/lib/python3.9/site-packages/sklearn/linear_model/_sag.py:350: ConvergenceWarning: The max_iter was reached which means the coef_ did not converge\n",
      "  warnings.warn(\n",
      "/opt/conda/lib/python3.9/site-packages/sklearn/linear_model/_sag.py:350: ConvergenceWarning: The max_iter was reached which means the coef_ did not converge\n",
      "  warnings.warn(\n",
      "/opt/conda/lib/python3.9/site-packages/sklearn/linear_model/_sag.py:350: ConvergenceWarning: The max_iter was reached which means the coef_ did not converge\n",
      "  warnings.warn(\n",
      "/opt/conda/lib/python3.9/site-packages/sklearn/linear_model/_sag.py:350: ConvergenceWarning: The max_iter was reached which means the coef_ did not converge\n",
      "  warnings.warn(\n",
      "/opt/conda/lib/python3.9/site-packages/sklearn/linear_model/_sag.py:350: ConvergenceWarning: The max_iter was reached which means the coef_ did not converge\n",
      "  warnings.warn(\n",
      "/opt/conda/lib/python3.9/site-packages/sklearn/linear_model/_sag.py:350: ConvergenceWarning: The max_iter was reached which means the coef_ did not converge\n",
      "  warnings.warn(\n",
      "/opt/conda/lib/python3.9/site-packages/sklearn/linear_model/_sag.py:350: ConvergenceWarning: The max_iter was reached which means the coef_ did not converge\n",
      "  warnings.warn(\n",
      "/opt/conda/lib/python3.9/site-packages/sklearn/linear_model/_sag.py:350: ConvergenceWarning: The max_iter was reached which means the coef_ did not converge\n",
      "  warnings.warn(\n",
      "/opt/conda/lib/python3.9/site-packages/sklearn/linear_model/_sag.py:350: ConvergenceWarning: The max_iter was reached which means the coef_ did not converge\n",
      "  warnings.warn(\n",
      "/opt/conda/lib/python3.9/site-packages/sklearn/linear_model/_sag.py:350: ConvergenceWarning: The max_iter was reached which means the coef_ did not converge\n",
      "  warnings.warn(\n",
      "/opt/conda/lib/python3.9/site-packages/sklearn/linear_model/_sag.py:350: ConvergenceWarning: The max_iter was reached which means the coef_ did not converge\n",
      "  warnings.warn(\n",
      "/opt/conda/lib/python3.9/site-packages/sklearn/linear_model/_sag.py:350: ConvergenceWarning: The max_iter was reached which means the coef_ did not converge\n",
      "  warnings.warn(\n",
      "/opt/conda/lib/python3.9/site-packages/sklearn/linear_model/_sag.py:350: ConvergenceWarning: The max_iter was reached which means the coef_ did not converge\n",
      "  warnings.warn(\n",
      "/opt/conda/lib/python3.9/site-packages/sklearn/linear_model/_sag.py:350: ConvergenceWarning: The max_iter was reached which means the coef_ did not converge\n",
      "  warnings.warn(\n",
      "/opt/conda/lib/python3.9/site-packages/sklearn/linear_model/_sag.py:350: ConvergenceWarning: The max_iter was reached which means the coef_ did not converge\n",
      "  warnings.warn(\n",
      "/opt/conda/lib/python3.9/site-packages/sklearn/linear_model/_sag.py:350: ConvergenceWarning: The max_iter was reached which means the coef_ did not converge\n",
      "  warnings.warn(\n",
      "/opt/conda/lib/python3.9/site-packages/sklearn/linear_model/_sag.py:350: ConvergenceWarning: The max_iter was reached which means the coef_ did not converge\n",
      "  warnings.warn(\n",
      "/opt/conda/lib/python3.9/site-packages/sklearn/linear_model/_sag.py:350: ConvergenceWarning: The max_iter was reached which means the coef_ did not converge\n",
      "  warnings.warn(\n",
      "/opt/conda/lib/python3.9/site-packages/sklearn/linear_model/_sag.py:350: ConvergenceWarning: The max_iter was reached which means the coef_ did not converge\n",
      "  warnings.warn(\n",
      "/opt/conda/lib/python3.9/site-packages/sklearn/linear_model/_sag.py:350: ConvergenceWarning: The max_iter was reached which means the coef_ did not converge\n",
      "  warnings.warn(\n",
      "/opt/conda/lib/python3.9/site-packages/sklearn/linear_model/_sag.py:350: ConvergenceWarning: The max_iter was reached which means the coef_ did not converge\n",
      "  warnings.warn(\n",
      "/opt/conda/lib/python3.9/site-packages/sklearn/linear_model/_sag.py:350: ConvergenceWarning: The max_iter was reached which means the coef_ did not converge\n",
      "  warnings.warn(\n",
      "/opt/conda/lib/python3.9/site-packages/sklearn/linear_model/_sag.py:350: ConvergenceWarning: The max_iter was reached which means the coef_ did not converge\n",
      "  warnings.warn(\n",
      "/opt/conda/lib/python3.9/site-packages/sklearn/linear_model/_sag.py:350: ConvergenceWarning: The max_iter was reached which means the coef_ did not converge\n",
      "  warnings.warn(\n",
      "/opt/conda/lib/python3.9/site-packages/sklearn/linear_model/_sag.py:350: ConvergenceWarning: The max_iter was reached which means the coef_ did not converge\n",
      "  warnings.warn(\n",
      "/opt/conda/lib/python3.9/site-packages/sklearn/linear_model/_sag.py:350: ConvergenceWarning: The max_iter was reached which means the coef_ did not converge\n",
      "  warnings.warn(\n",
      "/opt/conda/lib/python3.9/site-packages/sklearn/linear_model/_sag.py:350: ConvergenceWarning: The max_iter was reached which means the coef_ did not converge\n",
      "  warnings.warn(\n",
      "/opt/conda/lib/python3.9/site-packages/sklearn/linear_model/_sag.py:350: ConvergenceWarning: The max_iter was reached which means the coef_ did not converge\n",
      "  warnings.warn(\n",
      "/opt/conda/lib/python3.9/site-packages/sklearn/linear_model/_sag.py:350: ConvergenceWarning: The max_iter was reached which means the coef_ did not converge\n",
      "  warnings.warn(\n",
      "/opt/conda/lib/python3.9/site-packages/sklearn/linear_model/_sag.py:350: ConvergenceWarning: The max_iter was reached which means the coef_ did not converge\n",
      "  warnings.warn(\n",
      "/opt/conda/lib/python3.9/site-packages/sklearn/linear_model/_sag.py:350: ConvergenceWarning: The max_iter was reached which means the coef_ did not converge\n",
      "  warnings.warn(\n",
      "/opt/conda/lib/python3.9/site-packages/sklearn/linear_model/_sag.py:350: ConvergenceWarning: The max_iter was reached which means the coef_ did not converge\n",
      "  warnings.warn(\n",
      "/opt/conda/lib/python3.9/site-packages/sklearn/linear_model/_sag.py:350: ConvergenceWarning: The max_iter was reached which means the coef_ did not converge\n",
      "  warnings.warn(\n",
      "/opt/conda/lib/python3.9/site-packages/sklearn/linear_model/_sag.py:350: ConvergenceWarning: The max_iter was reached which means the coef_ did not converge\n",
      "  warnings.warn(\n",
      "/opt/conda/lib/python3.9/site-packages/sklearn/linear_model/_sag.py:350: ConvergenceWarning: The max_iter was reached which means the coef_ did not converge\n",
      "  warnings.warn(\n",
      "/opt/conda/lib/python3.9/site-packages/sklearn/linear_model/_sag.py:350: ConvergenceWarning: The max_iter was reached which means the coef_ did not converge\n",
      "  warnings.warn(\n",
      "/opt/conda/lib/python3.9/site-packages/sklearn/linear_model/_sag.py:350: ConvergenceWarning: The max_iter was reached which means the coef_ did not converge\n",
      "  warnings.warn(\n",
      "/opt/conda/lib/python3.9/site-packages/sklearn/linear_model/_sag.py:350: ConvergenceWarning: The max_iter was reached which means the coef_ did not converge\n",
      "  warnings.warn(\n",
      "/opt/conda/lib/python3.9/site-packages/sklearn/linear_model/_sag.py:350: ConvergenceWarning: The max_iter was reached which means the coef_ did not converge\n",
      "  warnings.warn(\n",
      "/opt/conda/lib/python3.9/site-packages/sklearn/linear_model/_sag.py:350: ConvergenceWarning: The max_iter was reached which means the coef_ did not converge\n",
      "  warnings.warn(\n",
      "/opt/conda/lib/python3.9/site-packages/sklearn/linear_model/_sag.py:350: ConvergenceWarning: The max_iter was reached which means the coef_ did not converge\n",
      "  warnings.warn(\n",
      "/opt/conda/lib/python3.9/site-packages/sklearn/linear_model/_sag.py:350: ConvergenceWarning: The max_iter was reached which means the coef_ did not converge\n",
      "  warnings.warn(\n",
      "/opt/conda/lib/python3.9/site-packages/sklearn/linear_model/_sag.py:350: ConvergenceWarning: The max_iter was reached which means the coef_ did not converge\n",
      "  warnings.warn(\n",
      "/opt/conda/lib/python3.9/site-packages/sklearn/linear_model/_sag.py:350: ConvergenceWarning: The max_iter was reached which means the coef_ did not converge\n",
      "  warnings.warn(\n",
      "/opt/conda/lib/python3.9/site-packages/sklearn/linear_model/_sag.py:350: ConvergenceWarning: The max_iter was reached which means the coef_ did not converge\n",
      "  warnings.warn(\n",
      "/opt/conda/lib/python3.9/site-packages/sklearn/linear_model/_sag.py:350: ConvergenceWarning: The max_iter was reached which means the coef_ did not converge\n",
      "  warnings.warn(\n",
      "/opt/conda/lib/python3.9/site-packages/sklearn/linear_model/_sag.py:350: ConvergenceWarning: The max_iter was reached which means the coef_ did not converge\n",
      "  warnings.warn(\n",
      "/opt/conda/lib/python3.9/site-packages/sklearn/linear_model/_sag.py:350: ConvergenceWarning: The max_iter was reached which means the coef_ did not converge\n",
      "  warnings.warn(\n",
      "/opt/conda/lib/python3.9/site-packages/sklearn/linear_model/_sag.py:350: ConvergenceWarning: The max_iter was reached which means the coef_ did not converge\n",
      "  warnings.warn(\n",
      "/opt/conda/lib/python3.9/site-packages/sklearn/linear_model/_sag.py:350: ConvergenceWarning: The max_iter was reached which means the coef_ did not converge\n",
      "  warnings.warn(\n",
      "/opt/conda/lib/python3.9/site-packages/sklearn/linear_model/_sag.py:350: ConvergenceWarning: The max_iter was reached which means the coef_ did not converge\n",
      "  warnings.warn(\n",
      "/opt/conda/lib/python3.9/site-packages/sklearn/linear_model/_sag.py:350: ConvergenceWarning: The max_iter was reached which means the coef_ did not converge\n",
      "  warnings.warn(\n",
      "/opt/conda/lib/python3.9/site-packages/sklearn/linear_model/_sag.py:350: ConvergenceWarning: The max_iter was reached which means the coef_ did not converge\n",
      "  warnings.warn(\n",
      "/opt/conda/lib/python3.9/site-packages/sklearn/linear_model/_sag.py:350: ConvergenceWarning: The max_iter was reached which means the coef_ did not converge\n",
      "  warnings.warn(\n",
      "/opt/conda/lib/python3.9/site-packages/sklearn/linear_model/_sag.py:350: ConvergenceWarning: The max_iter was reached which means the coef_ did not converge\n",
      "  warnings.warn(\n",
      "/opt/conda/lib/python3.9/site-packages/sklearn/linear_model/_sag.py:350: ConvergenceWarning: The max_iter was reached which means the coef_ did not converge\n",
      "  warnings.warn(\n",
      "/opt/conda/lib/python3.9/site-packages/sklearn/linear_model/_sag.py:350: ConvergenceWarning: The max_iter was reached which means the coef_ did not converge\n",
      "  warnings.warn(\n",
      "/opt/conda/lib/python3.9/site-packages/sklearn/linear_model/_sag.py:350: ConvergenceWarning: The max_iter was reached which means the coef_ did not converge\n",
      "  warnings.warn(\n",
      "/opt/conda/lib/python3.9/site-packages/sklearn/linear_model/_sag.py:350: ConvergenceWarning: The max_iter was reached which means the coef_ did not converge\n",
      "  warnings.warn(\n",
      "/opt/conda/lib/python3.9/site-packages/sklearn/linear_model/_sag.py:350: ConvergenceWarning: The max_iter was reached which means the coef_ did not converge\n",
      "  warnings.warn(\n",
      "/opt/conda/lib/python3.9/site-packages/sklearn/linear_model/_sag.py:350: ConvergenceWarning: The max_iter was reached which means the coef_ did not converge\n",
      "  warnings.warn(\n",
      "/opt/conda/lib/python3.9/site-packages/sklearn/linear_model/_sag.py:350: ConvergenceWarning: The max_iter was reached which means the coef_ did not converge\n",
      "  warnings.warn(\n",
      "/opt/conda/lib/python3.9/site-packages/sklearn/linear_model/_sag.py:350: ConvergenceWarning: The max_iter was reached which means the coef_ did not converge\n",
      "  warnings.warn(\n",
      "/opt/conda/lib/python3.9/site-packages/sklearn/linear_model/_sag.py:350: ConvergenceWarning: The max_iter was reached which means the coef_ did not converge\n",
      "  warnings.warn(\n",
      "/opt/conda/lib/python3.9/site-packages/sklearn/linear_model/_sag.py:350: ConvergenceWarning: The max_iter was reached which means the coef_ did not converge\n",
      "  warnings.warn(\n",
      "/opt/conda/lib/python3.9/site-packages/sklearn/linear_model/_sag.py:350: ConvergenceWarning: The max_iter was reached which means the coef_ did not converge\n",
      "  warnings.warn(\n",
      "/opt/conda/lib/python3.9/site-packages/sklearn/linear_model/_sag.py:350: ConvergenceWarning: The max_iter was reached which means the coef_ did not converge\n",
      "  warnings.warn(\n",
      "/opt/conda/lib/python3.9/site-packages/sklearn/linear_model/_sag.py:350: ConvergenceWarning: The max_iter was reached which means the coef_ did not converge\n",
      "  warnings.warn(\n",
      "/opt/conda/lib/python3.9/site-packages/sklearn/linear_model/_sag.py:350: ConvergenceWarning: The max_iter was reached which means the coef_ did not converge\n",
      "  warnings.warn(\n",
      "/opt/conda/lib/python3.9/site-packages/sklearn/linear_model/_sag.py:350: ConvergenceWarning: The max_iter was reached which means the coef_ did not converge\n",
      "  warnings.warn(\n",
      "/opt/conda/lib/python3.9/site-packages/sklearn/linear_model/_sag.py:350: ConvergenceWarning: The max_iter was reached which means the coef_ did not converge\n",
      "  warnings.warn(\n",
      "/opt/conda/lib/python3.9/site-packages/sklearn/linear_model/_sag.py:350: ConvergenceWarning: The max_iter was reached which means the coef_ did not converge\n",
      "  warnings.warn(\n",
      "/opt/conda/lib/python3.9/site-packages/sklearn/linear_model/_sag.py:350: ConvergenceWarning: The max_iter was reached which means the coef_ did not converge\n",
      "  warnings.warn(\n",
      "/opt/conda/lib/python3.9/site-packages/sklearn/linear_model/_sag.py:350: ConvergenceWarning: The max_iter was reached which means the coef_ did not converge\n",
      "  warnings.warn(\n",
      "/opt/conda/lib/python3.9/site-packages/sklearn/linear_model/_sag.py:350: ConvergenceWarning: The max_iter was reached which means the coef_ did not converge\n",
      "  warnings.warn(\n",
      "/opt/conda/lib/python3.9/site-packages/sklearn/linear_model/_sag.py:350: ConvergenceWarning: The max_iter was reached which means the coef_ did not converge\n",
      "  warnings.warn(\n",
      "/opt/conda/lib/python3.9/site-packages/sklearn/linear_model/_sag.py:350: ConvergenceWarning: The max_iter was reached which means the coef_ did not converge\n",
      "  warnings.warn(\n",
      "/opt/conda/lib/python3.9/site-packages/sklearn/linear_model/_sag.py:350: ConvergenceWarning: The max_iter was reached which means the coef_ did not converge\n",
      "  warnings.warn(\n",
      "/opt/conda/lib/python3.9/site-packages/sklearn/linear_model/_sag.py:350: ConvergenceWarning: The max_iter was reached which means the coef_ did not converge\n",
      "  warnings.warn(\n",
      "/opt/conda/lib/python3.9/site-packages/sklearn/linear_model/_sag.py:350: ConvergenceWarning: The max_iter was reached which means the coef_ did not converge\n",
      "  warnings.warn(\n",
      "/opt/conda/lib/python3.9/site-packages/sklearn/linear_model/_sag.py:350: ConvergenceWarning: The max_iter was reached which means the coef_ did not converge\n",
      "  warnings.warn(\n",
      "/opt/conda/lib/python3.9/site-packages/sklearn/linear_model/_sag.py:350: ConvergenceWarning: The max_iter was reached which means the coef_ did not converge\n",
      "  warnings.warn(\n",
      "/opt/conda/lib/python3.9/site-packages/sklearn/linear_model/_sag.py:350: ConvergenceWarning: The max_iter was reached which means the coef_ did not converge\n",
      "  warnings.warn(\n",
      "/opt/conda/lib/python3.9/site-packages/sklearn/linear_model/_sag.py:350: ConvergenceWarning: The max_iter was reached which means the coef_ did not converge\n",
      "  warnings.warn(\n",
      "/opt/conda/lib/python3.9/site-packages/sklearn/linear_model/_sag.py:350: ConvergenceWarning: The max_iter was reached which means the coef_ did not converge\n",
      "  warnings.warn(\n",
      "/opt/conda/lib/python3.9/site-packages/sklearn/linear_model/_sag.py:350: ConvergenceWarning: The max_iter was reached which means the coef_ did not converge\n",
      "  warnings.warn(\n",
      "/opt/conda/lib/python3.9/site-packages/sklearn/linear_model/_sag.py:350: ConvergenceWarning: The max_iter was reached which means the coef_ did not converge\n",
      "  warnings.warn(\n",
      "/opt/conda/lib/python3.9/site-packages/sklearn/linear_model/_sag.py:350: ConvergenceWarning: The max_iter was reached which means the coef_ did not converge\n",
      "  warnings.warn(\n",
      "/opt/conda/lib/python3.9/site-packages/sklearn/linear_model/_sag.py:350: ConvergenceWarning: The max_iter was reached which means the coef_ did not converge\n",
      "  warnings.warn(\n",
      "/opt/conda/lib/python3.9/site-packages/sklearn/linear_model/_sag.py:350: ConvergenceWarning: The max_iter was reached which means the coef_ did not converge\n",
      "  warnings.warn(\n",
      "/opt/conda/lib/python3.9/site-packages/sklearn/linear_model/_sag.py:350: ConvergenceWarning: The max_iter was reached which means the coef_ did not converge\n",
      "  warnings.warn(\n",
      "/opt/conda/lib/python3.9/site-packages/sklearn/linear_model/_sag.py:350: ConvergenceWarning: The max_iter was reached which means the coef_ did not converge\n",
      "  warnings.warn(\n",
      "/opt/conda/lib/python3.9/site-packages/sklearn/linear_model/_sag.py:350: ConvergenceWarning: The max_iter was reached which means the coef_ did not converge\n",
      "  warnings.warn(\n",
      "/opt/conda/lib/python3.9/site-packages/sklearn/linear_model/_sag.py:350: ConvergenceWarning: The max_iter was reached which means the coef_ did not converge\n",
      "  warnings.warn(\n",
      "/opt/conda/lib/python3.9/site-packages/sklearn/linear_model/_sag.py:350: ConvergenceWarning: The max_iter was reached which means the coef_ did not converge\n",
      "  warnings.warn(\n",
      "/opt/conda/lib/python3.9/site-packages/sklearn/linear_model/_sag.py:350: ConvergenceWarning: The max_iter was reached which means the coef_ did not converge\n",
      "  warnings.warn(\n",
      "/opt/conda/lib/python3.9/site-packages/sklearn/linear_model/_sag.py:350: ConvergenceWarning: The max_iter was reached which means the coef_ did not converge\n",
      "  warnings.warn(\n",
      "/opt/conda/lib/python3.9/site-packages/sklearn/linear_model/_sag.py:350: ConvergenceWarning: The max_iter was reached which means the coef_ did not converge\n",
      "  warnings.warn(\n",
      "/opt/conda/lib/python3.9/site-packages/sklearn/linear_model/_sag.py:350: ConvergenceWarning: The max_iter was reached which means the coef_ did not converge\n",
      "  warnings.warn(\n",
      "/opt/conda/lib/python3.9/site-packages/sklearn/linear_model/_sag.py:350: ConvergenceWarning: The max_iter was reached which means the coef_ did not converge\n",
      "  warnings.warn(\n",
      "/opt/conda/lib/python3.9/site-packages/sklearn/linear_model/_sag.py:350: ConvergenceWarning: The max_iter was reached which means the coef_ did not converge\n",
      "  warnings.warn(\n",
      "/opt/conda/lib/python3.9/site-packages/sklearn/linear_model/_sag.py:350: ConvergenceWarning: The max_iter was reached which means the coef_ did not converge\n",
      "  warnings.warn(\n",
      "/opt/conda/lib/python3.9/site-packages/sklearn/linear_model/_sag.py:350: ConvergenceWarning: The max_iter was reached which means the coef_ did not converge\n",
      "  warnings.warn(\n",
      "/opt/conda/lib/python3.9/site-packages/sklearn/linear_model/_sag.py:350: ConvergenceWarning: The max_iter was reached which means the coef_ did not converge\n",
      "  warnings.warn(\n",
      "/opt/conda/lib/python3.9/site-packages/sklearn/linear_model/_sag.py:350: ConvergenceWarning: The max_iter was reached which means the coef_ did not converge\n",
      "  warnings.warn(\n",
      "/opt/conda/lib/python3.9/site-packages/sklearn/linear_model/_sag.py:350: ConvergenceWarning: The max_iter was reached which means the coef_ did not converge\n",
      "  warnings.warn(\n",
      "/opt/conda/lib/python3.9/site-packages/sklearn/linear_model/_sag.py:350: ConvergenceWarning: The max_iter was reached which means the coef_ did not converge\n",
      "  warnings.warn(\n",
      "/opt/conda/lib/python3.9/site-packages/sklearn/linear_model/_sag.py:350: ConvergenceWarning: The max_iter was reached which means the coef_ did not converge\n",
      "  warnings.warn(\n",
      "/opt/conda/lib/python3.9/site-packages/sklearn/linear_model/_sag.py:350: ConvergenceWarning: The max_iter was reached which means the coef_ did not converge\n",
      "  warnings.warn(\n",
      "/opt/conda/lib/python3.9/site-packages/sklearn/linear_model/_sag.py:350: ConvergenceWarning: The max_iter was reached which means the coef_ did not converge\n",
      "  warnings.warn(\n",
      "/opt/conda/lib/python3.9/site-packages/sklearn/linear_model/_sag.py:350: ConvergenceWarning: The max_iter was reached which means the coef_ did not converge\n",
      "  warnings.warn(\n",
      "/opt/conda/lib/python3.9/site-packages/sklearn/linear_model/_sag.py:350: ConvergenceWarning: The max_iter was reached which means the coef_ did not converge\n",
      "  warnings.warn(\n",
      "/opt/conda/lib/python3.9/site-packages/sklearn/linear_model/_sag.py:350: ConvergenceWarning: The max_iter was reached which means the coef_ did not converge\n",
      "  warnings.warn(\n",
      "/opt/conda/lib/python3.9/site-packages/sklearn/linear_model/_sag.py:350: ConvergenceWarning: The max_iter was reached which means the coef_ did not converge\n",
      "  warnings.warn(\n",
      "/opt/conda/lib/python3.9/site-packages/sklearn/linear_model/_sag.py:350: ConvergenceWarning: The max_iter was reached which means the coef_ did not converge\n",
      "  warnings.warn(\n",
      "/opt/conda/lib/python3.9/site-packages/sklearn/linear_model/_sag.py:350: ConvergenceWarning: The max_iter was reached which means the coef_ did not converge\n",
      "  warnings.warn(\n",
      "/opt/conda/lib/python3.9/site-packages/sklearn/linear_model/_sag.py:350: ConvergenceWarning: The max_iter was reached which means the coef_ did not converge\n",
      "  warnings.warn(\n",
      "/opt/conda/lib/python3.9/site-packages/sklearn/linear_model/_sag.py:350: ConvergenceWarning: The max_iter was reached which means the coef_ did not converge\n",
      "  warnings.warn(\n",
      "/opt/conda/lib/python3.9/site-packages/sklearn/linear_model/_sag.py:350: ConvergenceWarning: The max_iter was reached which means the coef_ did not converge\n",
      "  warnings.warn(\n",
      "/opt/conda/lib/python3.9/site-packages/sklearn/linear_model/_sag.py:350: ConvergenceWarning: The max_iter was reached which means the coef_ did not converge\n",
      "  warnings.warn(\n",
      "/opt/conda/lib/python3.9/site-packages/sklearn/linear_model/_sag.py:350: ConvergenceWarning: The max_iter was reached which means the coef_ did not converge\n",
      "  warnings.warn(\n",
      "/opt/conda/lib/python3.9/site-packages/sklearn/linear_model/_sag.py:350: ConvergenceWarning: The max_iter was reached which means the coef_ did not converge\n",
      "  warnings.warn(\n",
      "/opt/conda/lib/python3.9/site-packages/sklearn/linear_model/_sag.py:350: ConvergenceWarning: The max_iter was reached which means the coef_ did not converge\n",
      "  warnings.warn(\n",
      "/opt/conda/lib/python3.9/site-packages/sklearn/linear_model/_sag.py:350: ConvergenceWarning: The max_iter was reached which means the coef_ did not converge\n",
      "  warnings.warn(\n",
      "/opt/conda/lib/python3.9/site-packages/sklearn/linear_model/_sag.py:350: ConvergenceWarning: The max_iter was reached which means the coef_ did not converge\n",
      "  warnings.warn(\n",
      "/opt/conda/lib/python3.9/site-packages/sklearn/linear_model/_sag.py:350: ConvergenceWarning: The max_iter was reached which means the coef_ did not converge\n",
      "  warnings.warn(\n",
      "/opt/conda/lib/python3.9/site-packages/sklearn/linear_model/_sag.py:350: ConvergenceWarning: The max_iter was reached which means the coef_ did not converge\n",
      "  warnings.warn(\n",
      "/opt/conda/lib/python3.9/site-packages/sklearn/linear_model/_sag.py:350: ConvergenceWarning: The max_iter was reached which means the coef_ did not converge\n",
      "  warnings.warn(\n",
      "/opt/conda/lib/python3.9/site-packages/sklearn/linear_model/_sag.py:350: ConvergenceWarning: The max_iter was reached which means the coef_ did not converge\n",
      "  warnings.warn(\n",
      "/opt/conda/lib/python3.9/site-packages/sklearn/linear_model/_sag.py:350: ConvergenceWarning: The max_iter was reached which means the coef_ did not converge\n",
      "  warnings.warn(\n",
      "/opt/conda/lib/python3.9/site-packages/sklearn/linear_model/_sag.py:350: ConvergenceWarning: The max_iter was reached which means the coef_ did not converge\n",
      "  warnings.warn(\n",
      "/opt/conda/lib/python3.9/site-packages/sklearn/linear_model/_sag.py:350: ConvergenceWarning: The max_iter was reached which means the coef_ did not converge\n",
      "  warnings.warn(\n",
      "/opt/conda/lib/python3.9/site-packages/sklearn/linear_model/_sag.py:350: ConvergenceWarning: The max_iter was reached which means the coef_ did not converge\n",
      "  warnings.warn(\n",
      "/opt/conda/lib/python3.9/site-packages/sklearn/linear_model/_sag.py:350: ConvergenceWarning: The max_iter was reached which means the coef_ did not converge\n",
      "  warnings.warn(\n",
      "/opt/conda/lib/python3.9/site-packages/sklearn/linear_model/_sag.py:350: ConvergenceWarning: The max_iter was reached which means the coef_ did not converge\n",
      "  warnings.warn(\n",
      "/opt/conda/lib/python3.9/site-packages/sklearn/linear_model/_sag.py:350: ConvergenceWarning: The max_iter was reached which means the coef_ did not converge\n",
      "  warnings.warn(\n",
      "/opt/conda/lib/python3.9/site-packages/sklearn/linear_model/_sag.py:350: ConvergenceWarning: The max_iter was reached which means the coef_ did not converge\n",
      "  warnings.warn(\n",
      "/opt/conda/lib/python3.9/site-packages/sklearn/linear_model/_sag.py:350: ConvergenceWarning: The max_iter was reached which means the coef_ did not converge\n",
      "  warnings.warn(\n",
      "/opt/conda/lib/python3.9/site-packages/sklearn/linear_model/_sag.py:350: ConvergenceWarning: The max_iter was reached which means the coef_ did not converge\n",
      "  warnings.warn(\n",
      "/opt/conda/lib/python3.9/site-packages/sklearn/linear_model/_sag.py:350: ConvergenceWarning: The max_iter was reached which means the coef_ did not converge\n",
      "  warnings.warn(\n",
      "/opt/conda/lib/python3.9/site-packages/sklearn/linear_model/_sag.py:350: ConvergenceWarning: The max_iter was reached which means the coef_ did not converge\n",
      "  warnings.warn(\n",
      "/opt/conda/lib/python3.9/site-packages/sklearn/linear_model/_sag.py:350: ConvergenceWarning: The max_iter was reached which means the coef_ did not converge\n",
      "  warnings.warn(\n",
      "/opt/conda/lib/python3.9/site-packages/sklearn/linear_model/_sag.py:350: ConvergenceWarning: The max_iter was reached which means the coef_ did not converge\n",
      "  warnings.warn(\n",
      "/opt/conda/lib/python3.9/site-packages/sklearn/linear_model/_sag.py:350: ConvergenceWarning: The max_iter was reached which means the coef_ did not converge\n",
      "  warnings.warn(\n",
      "/opt/conda/lib/python3.9/site-packages/sklearn/linear_model/_sag.py:350: ConvergenceWarning: The max_iter was reached which means the coef_ did not converge\n",
      "  warnings.warn(\n",
      "/opt/conda/lib/python3.9/site-packages/sklearn/linear_model/_sag.py:350: ConvergenceWarning: The max_iter was reached which means the coef_ did not converge\n",
      "  warnings.warn(\n",
      "/opt/conda/lib/python3.9/site-packages/sklearn/linear_model/_sag.py:350: ConvergenceWarning: The max_iter was reached which means the coef_ did not converge\n",
      "  warnings.warn(\n",
      "/opt/conda/lib/python3.9/site-packages/sklearn/linear_model/_sag.py:350: ConvergenceWarning: The max_iter was reached which means the coef_ did not converge\n",
      "  warnings.warn(\n",
      "/opt/conda/lib/python3.9/site-packages/sklearn/linear_model/_sag.py:350: ConvergenceWarning: The max_iter was reached which means the coef_ did not converge\n",
      "  warnings.warn(\n",
      "/opt/conda/lib/python3.9/site-packages/sklearn/linear_model/_sag.py:350: ConvergenceWarning: The max_iter was reached which means the coef_ did not converge\n",
      "  warnings.warn(\n",
      "/opt/conda/lib/python3.9/site-packages/sklearn/linear_model/_sag.py:350: ConvergenceWarning: The max_iter was reached which means the coef_ did not converge\n",
      "  warnings.warn(\n",
      "/opt/conda/lib/python3.9/site-packages/sklearn/linear_model/_sag.py:350: ConvergenceWarning: The max_iter was reached which means the coef_ did not converge\n",
      "  warnings.warn(\n",
      "/opt/conda/lib/python3.9/site-packages/sklearn/linear_model/_sag.py:350: ConvergenceWarning: The max_iter was reached which means the coef_ did not converge\n",
      "  warnings.warn(\n",
      "/opt/conda/lib/python3.9/site-packages/sklearn/linear_model/_sag.py:350: ConvergenceWarning: The max_iter was reached which means the coef_ did not converge\n",
      "  warnings.warn(\n",
      "/opt/conda/lib/python3.9/site-packages/sklearn/linear_model/_sag.py:350: ConvergenceWarning: The max_iter was reached which means the coef_ did not converge\n",
      "  warnings.warn(\n",
      "/opt/conda/lib/python3.9/site-packages/sklearn/linear_model/_sag.py:350: ConvergenceWarning: The max_iter was reached which means the coef_ did not converge\n",
      "  warnings.warn(\n",
      "/opt/conda/lib/python3.9/site-packages/sklearn/linear_model/_sag.py:350: ConvergenceWarning: The max_iter was reached which means the coef_ did not converge\n",
      "  warnings.warn(\n",
      "/opt/conda/lib/python3.9/site-packages/sklearn/linear_model/_sag.py:350: ConvergenceWarning: The max_iter was reached which means the coef_ did not converge\n",
      "  warnings.warn(\n",
      "/opt/conda/lib/python3.9/site-packages/sklearn/linear_model/_sag.py:350: ConvergenceWarning: The max_iter was reached which means the coef_ did not converge\n",
      "  warnings.warn(\n",
      "/opt/conda/lib/python3.9/site-packages/sklearn/linear_model/_sag.py:350: ConvergenceWarning: The max_iter was reached which means the coef_ did not converge\n",
      "  warnings.warn(\n",
      "/opt/conda/lib/python3.9/site-packages/sklearn/linear_model/_sag.py:350: ConvergenceWarning: The max_iter was reached which means the coef_ did not converge\n",
      "  warnings.warn(\n",
      "/opt/conda/lib/python3.9/site-packages/sklearn/linear_model/_sag.py:350: ConvergenceWarning: The max_iter was reached which means the coef_ did not converge\n",
      "  warnings.warn(\n",
      "/opt/conda/lib/python3.9/site-packages/sklearn/linear_model/_sag.py:350: ConvergenceWarning: The max_iter was reached which means the coef_ did not converge\n",
      "  warnings.warn(\n",
      "/opt/conda/lib/python3.9/site-packages/sklearn/linear_model/_sag.py:350: ConvergenceWarning: The max_iter was reached which means the coef_ did not converge\n",
      "  warnings.warn(\n",
      "/opt/conda/lib/python3.9/site-packages/sklearn/linear_model/_sag.py:350: ConvergenceWarning: The max_iter was reached which means the coef_ did not converge\n",
      "  warnings.warn(\n",
      "/opt/conda/lib/python3.9/site-packages/sklearn/linear_model/_sag.py:350: ConvergenceWarning: The max_iter was reached which means the coef_ did not converge\n",
      "  warnings.warn(\n",
      "/opt/conda/lib/python3.9/site-packages/sklearn/linear_model/_sag.py:350: ConvergenceWarning: The max_iter was reached which means the coef_ did not converge\n",
      "  warnings.warn(\n",
      "/opt/conda/lib/python3.9/site-packages/sklearn/linear_model/_sag.py:350: ConvergenceWarning: The max_iter was reached which means the coef_ did not converge\n",
      "  warnings.warn(\n",
      "/opt/conda/lib/python3.9/site-packages/sklearn/linear_model/_sag.py:350: ConvergenceWarning: The max_iter was reached which means the coef_ did not converge\n",
      "  warnings.warn(\n",
      "/opt/conda/lib/python3.9/site-packages/sklearn/linear_model/_sag.py:350: ConvergenceWarning: The max_iter was reached which means the coef_ did not converge\n",
      "  warnings.warn(\n",
      "/opt/conda/lib/python3.9/site-packages/sklearn/linear_model/_sag.py:350: ConvergenceWarning: The max_iter was reached which means the coef_ did not converge\n",
      "  warnings.warn(\n",
      "/opt/conda/lib/python3.9/site-packages/sklearn/linear_model/_sag.py:350: ConvergenceWarning: The max_iter was reached which means the coef_ did not converge\n",
      "  warnings.warn(\n",
      "/opt/conda/lib/python3.9/site-packages/sklearn/linear_model/_sag.py:350: ConvergenceWarning: The max_iter was reached which means the coef_ did not converge\n",
      "  warnings.warn(\n",
      "/opt/conda/lib/python3.9/site-packages/sklearn/linear_model/_sag.py:350: ConvergenceWarning: The max_iter was reached which means the coef_ did not converge\n",
      "  warnings.warn(\n",
      "/opt/conda/lib/python3.9/site-packages/sklearn/linear_model/_sag.py:350: ConvergenceWarning: The max_iter was reached which means the coef_ did not converge\n",
      "  warnings.warn(\n",
      "/opt/conda/lib/python3.9/site-packages/sklearn/linear_model/_sag.py:350: ConvergenceWarning: The max_iter was reached which means the coef_ did not converge\n",
      "  warnings.warn(\n",
      "/opt/conda/lib/python3.9/site-packages/sklearn/linear_model/_sag.py:350: ConvergenceWarning: The max_iter was reached which means the coef_ did not converge\n",
      "  warnings.warn(\n",
      "/opt/conda/lib/python3.9/site-packages/sklearn/linear_model/_sag.py:350: ConvergenceWarning: The max_iter was reached which means the coef_ did not converge\n",
      "  warnings.warn(\n",
      "/opt/conda/lib/python3.9/site-packages/sklearn/linear_model/_sag.py:350: ConvergenceWarning: The max_iter was reached which means the coef_ did not converge\n",
      "  warnings.warn(\n",
      "/opt/conda/lib/python3.9/site-packages/sklearn/linear_model/_sag.py:350: ConvergenceWarning: The max_iter was reached which means the coef_ did not converge\n",
      "  warnings.warn(\n",
      "/opt/conda/lib/python3.9/site-packages/sklearn/linear_model/_sag.py:350: ConvergenceWarning: The max_iter was reached which means the coef_ did not converge\n",
      "  warnings.warn(\n",
      "/opt/conda/lib/python3.9/site-packages/sklearn/linear_model/_sag.py:350: ConvergenceWarning: The max_iter was reached which means the coef_ did not converge\n",
      "  warnings.warn(\n",
      "/opt/conda/lib/python3.9/site-packages/sklearn/linear_model/_sag.py:350: ConvergenceWarning: The max_iter was reached which means the coef_ did not converge\n",
      "  warnings.warn(\n",
      "/opt/conda/lib/python3.9/site-packages/sklearn/linear_model/_sag.py:350: ConvergenceWarning: The max_iter was reached which means the coef_ did not converge\n",
      "  warnings.warn(\n"
     ]
    },
    {
     "data": {
      "text/plain": [
       "'Модель: LogisticRegression, best_accuracy : 0.7356143079315708, best_solver : newton-cg, best_max_iter : 100'"
      ]
     },
     "metadata": {},
     "output_type": "display_data"
    }
   ],
   "source": [
    "# найдем максимально эффективные гиперпараметры модели\n",
    "\n",
    "max_iter_range = 2100\n",
    "max_iter_step = 10\n",
    "\n",
    "result_map = logistic_regression(features_train,\n",
    "                                 target_train,\n",
    "                                 features_valid,\n",
    "                                 target_valid,\n",
    "                                 random_state=random_state,\n",
    "                                 max_iter_range=max_iter_range,\n",
    "                                 max_iter_step=max_iter_step)\n",
    "    \n",
    "display(\"Модель: LogisticRegression\" + \n",
    "        \", best_accuracy : \" + str(result_map.get('best_accuracy')) +\n",
    "        \", best_solver : \" + result_map.get('best_solver') +\n",
    "        \", best_max_iter : \" +  str(result_map.get('best_max_iter')))"
   ]
  },
  {
   "cell_type": "code",
   "execution_count": 36,
   "metadata": {},
   "outputs": [
    {
     "data": {
      "text/plain": [
       "1.219183"
      ]
     },
     "execution_count": 36,
     "metadata": {},
     "output_type": "execute_result"
    }
   ],
   "source": [
    "lr_model = LogisticRegression(random_state=random_state,\n",
    "                              solver=\"newton-cg\",\n",
    "                              max_iter=100,\n",
    "                              n_jobs=-1) \n",
    "    \n",
    "# обучим модель на тренировочной выборке\n",
    "lr_model.fit(features_train, target_train)\n",
    "\n",
    "# время работы модели в миллисекундах\n",
    "model_running_time(model=lr_model,\n",
    "                   features_valid=features_valid)"
   ]
  },
  {
   "cell_type": "markdown",
   "metadata": {},
   "source": [
    "Лучший результат модели на основе \"логистической регрессии\", на валидационной выборке:\n",
    " - доля правильных ответов: **0.7356143079315708**;\n",
    " - при гиперпараметрах модели: \n",
    "     * `solver` - **newton-cg**;\n",
    "     * `max_iter` - **100**.\n",
    "     \n",
    "Время работы лучшей модели на основе \"логистической регрессии\": `1.5` миллисекунд."
   ]
  },
  {
   "cell_type": "markdown",
   "metadata": {},
   "source": [
    "**Выводы**\n",
    "\n",
    "Доля правильных ответов, на валидационной выборке, лучших моделей и время работы в миллисекундах:\n",
    " - решающее дерево: `0.8133748055987559` (`1.4` миллисекунд);\n",
    " - случайный лес: `0.8195956454121306` (`4.5` миллисекунд);\n",
    " - логистическая регрессия: `0.7356143079315708` (`1.5` миллисекунд).\n",
    " \n",
    "Лучшая модель по признаку качества `accuracy` и времени работы: `DecisionTreeClassifier` (\"решающее дерево\").\n",
    "\n",
    "`accuracy` (доля правильных ответов [точность измерений]) у модели `DecisionTreeClassifier` незначительно меньше (на `0.006`), чем у модели `RandomForestClassifier`. Но первая модель превосходит вторую, по скорости работы,  более чем в три раза."
   ]
  },
  {
   "cell_type": "markdown",
   "metadata": {},
   "source": [
    "## Проверка качества выбранной модели"
   ]
  },
  {
   "cell_type": "code",
   "execution_count": 37,
   "metadata": {},
   "outputs": [],
   "source": [
    "# определим функцию, которая будет вычислять основные критерии качества работы модели\n",
    "def quality_metrics(target, predictions):\n",
    "    # отзыв (отзывчивость) -  интуитивная способность классификатора находить все положительные образцы\n",
    "    print(\"Полнота (recall):\" , recall_score(target, predictions)) \n",
    "    # точность - интуитивно определяется способностью классификатора не помечать как положительную выборку,\n",
    "    # которая является отрицательной.\n",
    "    print(\"Точность (precision):\", precision_score(target, predictions)) \n",
    "    # среднее гармоническое значение точности и отзывчивости.\n",
    "    # мера точности теста (конечный показатель эффективности модели)\n",
    "    print(\"F1-мера:\", f1_score(target, predictions))\n",
    "    #\n",
    "    # AUC-ROC - площадь под ROC-кривой (оценка качества упорядочивания алгоритмом объектов двух классов)\n",
    "    # [оценка качества бинарной классификации].\n",
    "    #\n",
    "    # AUC-ROC - равен доле пар объектов вида (объект класса 1, объект класса 0), которые алгоритм верно упорядочил,\n",
    "    # т.е. первый объект идёт в упорядоченном списке раньше\n",
    "    print(\"AUC-ROC\", roc_auc_score(target, predictions))\n",
    "    # среднее значение точности\n",
    "    print(\"Средняя точность (Average precision):\", average_precision_score(target, predictions))"
   ]
  },
  {
   "cell_type": "markdown",
   "metadata": {},
   "source": [
    "**11. Проверим качество выбранной модели на тестовой выборке.**\n",
    "\n",
    "Модель: решающее дерево."
   ]
  },
  {
   "cell_type": "code",
   "execution_count": 38,
   "metadata": {},
   "outputs": [
    {
     "data": {
      "text/plain": [
       "0.7947122861586314"
      ]
     },
     "execution_count": 38,
     "metadata": {},
     "output_type": "execute_result"
    }
   ],
   "source": [
    "# получим предсказания модели на тестовой выборке\n",
    "predictions_test = dtc_model.predict(features_test) \n",
    "     \n",
    "# вычислим долю правильных ответов на тестовой выборке\n",
    "accuracy = accuracy_score(target_test, predictions_test)\n",
    "\n",
    "# выведем долю правильных ответов на тестовой выборке\n",
    "accuracy"
   ]
  },
  {
   "cell_type": "code",
   "execution_count": 39,
   "metadata": {},
   "outputs": [
    {
     "name": "stdout",
     "output_type": "stream",
     "text": [
      "Полнота (recall): 0.47\n",
      "Точность (precision): 0.7833333333333333\n",
      "F1-мера: 0.5874999999999999\n",
      "AUC-ROC 0.7056546275395033\n",
      "Средняя точность (Average precision): 0.533018921721099\n"
     ]
    }
   ],
   "source": [
    "# проверим другие характеристики качества модели\n",
    "quality_metrics(target_test, predictions_test)"
   ]
  },
  {
   "cell_type": "markdown",
   "metadata": {},
   "source": [
    "**12. Проверим качество других моделей на тестовой выборке.**\n",
    "\n",
    "Модели: случайный лес, логистическая регрессия."
   ]
  },
  {
   "cell_type": "code",
   "execution_count": 40,
   "metadata": {},
   "outputs": [
    {
     "data": {
      "text/plain": [
       "0.8009331259720062"
      ]
     },
     "execution_count": 40,
     "metadata": {},
     "output_type": "execute_result"
    }
   ],
   "source": [
    "# модель: \"случайный лес\"\n",
    "# получим предсказания модели на тестовой выборке\n",
    "predictions_test = rfc_model.predict(features_test) \n",
    "     \n",
    "# вычислим долю правильных ответов на тестовой выборке\n",
    "accuracy = accuracy_score(target_test, predictions_test)\n",
    "\n",
    "# выведем долю правильных ответов на тестовой выборке\n",
    "accuracy"
   ]
  },
  {
   "cell_type": "code",
   "execution_count": 41,
   "metadata": {},
   "outputs": [
    {
     "name": "stdout",
     "output_type": "stream",
     "text": [
      "Полнота (recall): 0.495\n",
      "Точность (precision): 0.7857142857142857\n",
      "F1-мера: 0.607361963190184\n",
      "AUC-ROC 0.7170259593679459\n",
      "Средняя точность (Average precision): 0.5460047767162852\n"
     ]
    }
   ],
   "source": [
    "# проверим другие характеристики качества модели\n",
    "quality_metrics(target_test, predictions_test)"
   ]
  },
  {
   "cell_type": "code",
   "execution_count": 42,
   "metadata": {},
   "outputs": [
    {
     "data": {
      "text/plain": [
       "0.7278382581648523"
      ]
     },
     "execution_count": 42,
     "metadata": {},
     "output_type": "execute_result"
    }
   ],
   "source": [
    "# модель: \"логистическая регрессия\"\n",
    "# получим предсказания модели на тестовой выборке\n",
    "predictions_test = lr_model.predict(features_test) \n",
    "     \n",
    "# вычислим долю правильных ответов на тестовой выборке\n",
    "accuracy = accuracy_score(target_test, predictions_test)\n",
    "\n",
    "# выведем долю правильных ответов на тестовой выборке\n",
    "accuracy"
   ]
  },
  {
   "cell_type": "code",
   "execution_count": 43,
   "metadata": {},
   "outputs": [
    {
     "name": "stdout",
     "output_type": "stream",
     "text": [
      "Полнота (recall): 0.185\n",
      "Точность (precision): 0.7551020408163265\n",
      "F1-мера: 0.2971887550200803\n",
      "AUC-ROC 0.5789559819413093\n",
      "Средняя точность (Average precision): 0.3931930999460437\n"
     ]
    }
   ],
   "source": [
    "# проверим другие характеристики качества модели\n",
    "quality_metrics(target_test, predictions_test)"
   ]
  },
  {
   "cell_type": "markdown",
   "metadata": {},
   "source": [
    "**Выводы**\n",
    "\n",
    "`accuracy` (доля правильных ответов) на тестовой выборке, лучшей модели `DecisionTreeClassifier`: **0.7947122861586314**.\n",
    "\n",
    "Метрика качества модели `AUC-ROC` дополнительно подтверждает корректность модели и ее качество на тестовой выборке."
   ]
  },
  {
   "cell_type": "markdown",
   "metadata": {},
   "source": [
    "## Проверка моделей на адекватность\n",
    "\n",
    "Проверим модели (решающее дерево, случайный лес, логистическая регрессия) на адекватность."
   ]
  },
  {
   "cell_type": "code",
   "execution_count": 44,
   "metadata": {},
   "outputs": [],
   "source": [
    "# функция отображения матрицы ошибок в каноническом виде (https://en.wikipedia.org/wiki/Confusion_matrix)\n",
    "def confusion_matrix_display(target_valid,\n",
    "                             predictions_valid):\n",
    "    \n",
    "    print(\"Матрица ошибок ([0][0] = TP, [0][1] = FN;\\n\" + \n",
    "          \"                [1][0] = FP; [1][1] = TN):\")\n",
    "    disp = ConfusionMatrixDisplay(confusion_matrix(target_valid, predictions_valid, labels = [1, 0]),\n",
    "                                  display_labels=[1, 0])\n",
    "    disp.plot()\n",
    "    plt.show()"
   ]
  },
  {
   "cell_type": "code",
   "execution_count": 45,
   "metadata": {},
   "outputs": [],
   "source": [
    "# определим функцию проверки модели на адекватность и вывода основных метрик качества\n",
    "def checking_the_model_for_adequacy(model,\n",
    "                                    features_valid,\n",
    "                                    target_valid):\n",
    "    # получим предсказания модели на валидационной выборке\n",
    "    predictions_valid = model.predict(features_valid) \n",
    "\n",
    "    # построим и выведем матрицу ошибок\n",
    "    confusion_matrix_display(target_valid, predictions_valid)\n",
    "    #print(\"Матрица ошибок:\")\n",
    "    #print(confusion_matrix(target_valid, predictions_valid, labels = [0, 1]))\n",
    "    print()\n",
    "    # выведем основные метрики качества работы модели\n",
    "    quality_metrics(target_valid, predictions_valid)"
   ]
  },
  {
   "cell_type": "markdown",
   "metadata": {},
   "source": [
    "**13. Проверим сбалансированность выборок.**"
   ]
  },
  {
   "cell_type": "code",
   "execution_count": 46,
   "metadata": {},
   "outputs": [
    {
     "data": {
      "text/plain": [
       "0    0.693528\n",
       "1    0.306472\n",
       "Name: is_ultra, dtype: float64"
      ]
     },
     "execution_count": 46,
     "metadata": {},
     "output_type": "execute_result"
    }
   ],
   "source": [
    "# проверка сбалансированности исходной выборки целевого признака, до разделения ее на подвыборки\n",
    "target.value_counts(normalize=True)"
   ]
  },
  {
   "cell_type": "code",
   "execution_count": 47,
   "metadata": {},
   "outputs": [
    {
     "data": {
      "text/plain": [
       "0    0.69917\n",
       "1    0.30083\n",
       "Name: is_ultra, dtype: float64"
      ]
     },
     "execution_count": 47,
     "metadata": {},
     "output_type": "execute_result"
    }
   ],
   "source": [
    "# проверка сбалансированности обучащающей выборки целевого признака\n",
    "target_train.value_counts(normalize=True)"
   ]
  },
  {
   "cell_type": "code",
   "execution_count": 48,
   "metadata": {},
   "outputs": [
    {
     "data": {
      "text/plain": [
       "0    0.681182\n",
       "1    0.318818\n",
       "Name: is_ultra, dtype: float64"
      ]
     },
     "execution_count": 48,
     "metadata": {},
     "output_type": "execute_result"
    }
   ],
   "source": [
    "# проверка сбалансированности валидационной выборки целевого признака\n",
    "target_valid.value_counts(normalize=True)"
   ]
  },
  {
   "cell_type": "code",
   "execution_count": 49,
   "metadata": {},
   "outputs": [
    {
     "data": {
      "text/plain": [
       "0    0.688958\n",
       "1    0.311042\n",
       "Name: is_ultra, dtype: float64"
      ]
     },
     "execution_count": 49,
     "metadata": {},
     "output_type": "execute_result"
    }
   ],
   "source": [
    "# проверка сбалансированности тестовой выборки целевого признака\n",
    "target_test.value_counts(normalize=True)"
   ]
  },
  {
   "cell_type": "markdown",
   "metadata": {},
   "source": [
    "**Вывод**\n",
    "\n",
    "Дисбаланс исходных данных (исходной выборки) равен дисбалансу подвыборок (обучающей, валидационной и тестовой выборок). Следовательно, метод кросс-валилации: \"стратификацию\", в данном случае, не имеет смысл использовать.\n",
    "\n",
    "Дисбаланс обучающей, валидационной и тестовой выборок, между классами, составляет: `0` - **70%**, `1` - **30%**.\n",
    "Большая вероятность, что предсказания будут смещены в сторону одного класса: `0`."
   ]
  },
  {
   "cell_type": "markdown",
   "metadata": {},
   "source": [
    "**14. Проверим cоотношение классов в предсказаниях каждой модели, на валидационной выборке.**"
   ]
  },
  {
   "cell_type": "code",
   "execution_count": 50,
   "metadata": {},
   "outputs": [
    {
     "data": {
      "text/plain": [
       "0    0.81182\n",
       "1    0.18818\n",
       "dtype: float64"
      ]
     },
     "execution_count": 50,
     "metadata": {},
     "output_type": "execute_result"
    }
   ],
   "source": [
    "# \"решающее дерево\"\n",
    "pd.Series(dtc_model.predict(features_valid)).value_counts(normalize=True)"
   ]
  },
  {
   "cell_type": "code",
   "execution_count": 51,
   "metadata": {},
   "outputs": [
    {
     "data": {
      "text/plain": [
       "0    0.808709\n",
       "1    0.191291\n",
       "dtype: float64"
      ]
     },
     "execution_count": 51,
     "metadata": {},
     "output_type": "execute_result"
    }
   ],
   "source": [
    "# \"случайный лес\"\n",
    "pd.Series(rfc_model.predict(features_valid)).value_counts(normalize=True)"
   ]
  },
  {
   "cell_type": "code",
   "execution_count": 52,
   "metadata": {},
   "outputs": [
    {
     "data": {
      "text/plain": [
       "0    0.923795\n",
       "1    0.076205\n",
       "dtype: float64"
      ]
     },
     "execution_count": 52,
     "metadata": {},
     "output_type": "execute_result"
    }
   ],
   "source": [
    "# \"логистическая регрессия\"\n",
    "pd.Series(lr_model.predict(features_valid)).value_counts(normalize=True)"
   ]
  },
  {
   "cell_type": "markdown",
   "metadata": {},
   "source": [
    "**Вывод**\n",
    "\n",
    "Соотношение классов в предсказаниях модели, существенно отличается от соотношения классов в выборках с целевым признаком. Хуже всего соотношение у третьей модели: `0` - **92.3%** и `1` - **7.6%**. У первых двух моделей соотношение приблизительно одинаковое: `0` - **81%** и `1` - **19%**."
   ]
  },
  {
   "cell_type": "markdown",
   "metadata": {},
   "source": [
    "**15. Проверим cоотношение классов в предсказаниях каждой модели, на тестовой выборке.**"
   ]
  },
  {
   "cell_type": "code",
   "execution_count": 53,
   "metadata": {},
   "outputs": [
    {
     "data": {
      "text/plain": [
       "0    0.813375\n",
       "1    0.186625\n",
       "dtype: float64"
      ]
     },
     "execution_count": 53,
     "metadata": {},
     "output_type": "execute_result"
    }
   ],
   "source": [
    "# \"решающее дерево\"\n",
    "pd.Series(dtc_model.predict(features_test)).value_counts(normalize=True)"
   ]
  },
  {
   "cell_type": "code",
   "execution_count": 54,
   "metadata": {},
   "outputs": [
    {
     "data": {
      "text/plain": [
       "0    0.804044\n",
       "1    0.195956\n",
       "dtype: float64"
      ]
     },
     "execution_count": 54,
     "metadata": {},
     "output_type": "execute_result"
    }
   ],
   "source": [
    "# \"случайный лес\"\n",
    "pd.Series(rfc_model.predict(features_test)).value_counts(normalize=True)"
   ]
  },
  {
   "cell_type": "code",
   "execution_count": 55,
   "metadata": {},
   "outputs": [
    {
     "data": {
      "text/plain": [
       "0    0.923795\n",
       "1    0.076205\n",
       "dtype: float64"
      ]
     },
     "execution_count": 55,
     "metadata": {},
     "output_type": "execute_result"
    }
   ],
   "source": [
    "# \"логистическая регрессия\"\n",
    "pd.Series(lr_model.predict(features_test)).value_counts(normalize=True)"
   ]
  },
  {
   "cell_type": "markdown",
   "metadata": {},
   "source": [
    "**16. Построим константную модель (`baseline` модель) и проверим ее.**\n",
    "\n",
    "Данная модель машинного обучения позволит нам проконтролировать, что наши более сложные модели дают нам прирост качества прогнозирования."
   ]
  },
  {
   "cell_type": "code",
   "execution_count": 56,
   "metadata": {},
   "outputs": [],
   "source": [
    "# построим константную модель\n",
    "dc_model = DummyClassifier(strategy=\"stratified\", random_state=random_state) "
   ]
  },
  {
   "cell_type": "code",
   "execution_count": 57,
   "metadata": {},
   "outputs": [
    {
     "data": {
      "text/html": [
       "<style>#sk-container-id-1 {color: black;background-color: white;}#sk-container-id-1 pre{padding: 0;}#sk-container-id-1 div.sk-toggleable {background-color: white;}#sk-container-id-1 label.sk-toggleable__label {cursor: pointer;display: block;width: 100%;margin-bottom: 0;padding: 0.3em;box-sizing: border-box;text-align: center;}#sk-container-id-1 label.sk-toggleable__label-arrow:before {content: \"▸\";float: left;margin-right: 0.25em;color: #696969;}#sk-container-id-1 label.sk-toggleable__label-arrow:hover:before {color: black;}#sk-container-id-1 div.sk-estimator:hover label.sk-toggleable__label-arrow:before {color: black;}#sk-container-id-1 div.sk-toggleable__content {max-height: 0;max-width: 0;overflow: hidden;text-align: left;background-color: #f0f8ff;}#sk-container-id-1 div.sk-toggleable__content pre {margin: 0.2em;color: black;border-radius: 0.25em;background-color: #f0f8ff;}#sk-container-id-1 input.sk-toggleable__control:checked~div.sk-toggleable__content {max-height: 200px;max-width: 100%;overflow: auto;}#sk-container-id-1 input.sk-toggleable__control:checked~label.sk-toggleable__label-arrow:before {content: \"▾\";}#sk-container-id-1 div.sk-estimator input.sk-toggleable__control:checked~label.sk-toggleable__label {background-color: #d4ebff;}#sk-container-id-1 div.sk-label input.sk-toggleable__control:checked~label.sk-toggleable__label {background-color: #d4ebff;}#sk-container-id-1 input.sk-hidden--visually {border: 0;clip: rect(1px 1px 1px 1px);clip: rect(1px, 1px, 1px, 1px);height: 1px;margin: -1px;overflow: hidden;padding: 0;position: absolute;width: 1px;}#sk-container-id-1 div.sk-estimator {font-family: monospace;background-color: #f0f8ff;border: 1px dotted black;border-radius: 0.25em;box-sizing: border-box;margin-bottom: 0.5em;}#sk-container-id-1 div.sk-estimator:hover {background-color: #d4ebff;}#sk-container-id-1 div.sk-parallel-item::after {content: \"\";width: 100%;border-bottom: 1px solid gray;flex-grow: 1;}#sk-container-id-1 div.sk-label:hover label.sk-toggleable__label {background-color: #d4ebff;}#sk-container-id-1 div.sk-serial::before {content: \"\";position: absolute;border-left: 1px solid gray;box-sizing: border-box;top: 0;bottom: 0;left: 50%;z-index: 0;}#sk-container-id-1 div.sk-serial {display: flex;flex-direction: column;align-items: center;background-color: white;padding-right: 0.2em;padding-left: 0.2em;position: relative;}#sk-container-id-1 div.sk-item {position: relative;z-index: 1;}#sk-container-id-1 div.sk-parallel {display: flex;align-items: stretch;justify-content: center;background-color: white;position: relative;}#sk-container-id-1 div.sk-item::before, #sk-container-id-1 div.sk-parallel-item::before {content: \"\";position: absolute;border-left: 1px solid gray;box-sizing: border-box;top: 0;bottom: 0;left: 50%;z-index: -1;}#sk-container-id-1 div.sk-parallel-item {display: flex;flex-direction: column;z-index: 1;position: relative;background-color: white;}#sk-container-id-1 div.sk-parallel-item:first-child::after {align-self: flex-end;width: 50%;}#sk-container-id-1 div.sk-parallel-item:last-child::after {align-self: flex-start;width: 50%;}#sk-container-id-1 div.sk-parallel-item:only-child::after {width: 0;}#sk-container-id-1 div.sk-dashed-wrapped {border: 1px dashed gray;margin: 0 0.4em 0.5em 0.4em;box-sizing: border-box;padding-bottom: 0.4em;background-color: white;}#sk-container-id-1 div.sk-label label {font-family: monospace;font-weight: bold;display: inline-block;line-height: 1.2em;}#sk-container-id-1 div.sk-label-container {text-align: center;}#sk-container-id-1 div.sk-container {/* jupyter's `normalize.less` sets `[hidden] { display: none; }` but bootstrap.min.css set `[hidden] { display: none !important; }` so we also need the `!important` here to be able to override the default hidden behavior on the sphinx rendered scikit-learn.org. See: https://github.com/scikit-learn/scikit-learn/issues/21755 */display: inline-block !important;position: relative;}#sk-container-id-1 div.sk-text-repr-fallback {display: none;}</style><div id=\"sk-container-id-1\" class=\"sk-top-container\"><div class=\"sk-text-repr-fallback\"><pre>DummyClassifier(random_state=753, strategy=&#x27;stratified&#x27;)</pre><b>In a Jupyter environment, please rerun this cell to show the HTML representation or trust the notebook. <br />On GitHub, the HTML representation is unable to render, please try loading this page with nbviewer.org.</b></div><div class=\"sk-container\" hidden><div class=\"sk-item\"><div class=\"sk-estimator sk-toggleable\"><input class=\"sk-toggleable__control sk-hidden--visually\" id=\"sk-estimator-id-1\" type=\"checkbox\" checked><label for=\"sk-estimator-id-1\" class=\"sk-toggleable__label sk-toggleable__label-arrow\">DummyClassifier</label><div class=\"sk-toggleable__content\"><pre>DummyClassifier(random_state=753, strategy=&#x27;stratified&#x27;)</pre></div></div></div></div></div>"
      ],
      "text/plain": [
       "DummyClassifier(random_state=753, strategy='stratified')"
      ]
     },
     "execution_count": 57,
     "metadata": {},
     "output_type": "execute_result"
    }
   ],
   "source": [
    "# обучим константную модель\n",
    "dc_model.fit(features_train, target_train)"
   ]
  },
  {
   "cell_type": "code",
   "execution_count": 58,
   "metadata": {},
   "outputs": [
    {
     "data": {
      "text/plain": [
       "0    0.727838\n",
       "1    0.272162\n",
       "dtype: float64"
      ]
     },
     "execution_count": 58,
     "metadata": {},
     "output_type": "execute_result"
    }
   ],
   "source": [
    "# выведем cоотношение классов в предсказаниях константной модели\n",
    "pd.Series(dc_model.predict(features_valid)).value_counts(normalize=True)"
   ]
  },
  {
   "cell_type": "code",
   "execution_count": 59,
   "metadata": {},
   "outputs": [
    {
     "data": {
      "text/plain": [
       "0.567651632970451"
      ]
     },
     "execution_count": 59,
     "metadata": {},
     "output_type": "execute_result"
    }
   ],
   "source": [
    "# получим предсказания модели\n",
    "predictions_valid = dc_model.predict(features_valid) \n",
    "     \n",
    "# вычислим долю правильных ответов\n",
    "accuracy = accuracy_score(target_valid, predictions_valid)\n",
    "\n",
    "# выведем долю правильных ответов\n",
    "accuracy"
   ]
  },
  {
   "cell_type": "code",
   "execution_count": 60,
   "metadata": {},
   "outputs": [
    {
     "name": "stdout",
     "output_type": "stream",
     "text": [
      "Матрица ошибок ([0][0] = TP, [0][1] = FN;\n",
      "                [1][0] = FP; [1][1] = TN):\n"
     ]
    },
    {
     "data": {
      "image/png": "[encoded data removed]",
      "text/plain": [
       "<Figure size 432x288 with 2 Axes>"
      ]
     },
     "metadata": {
      "needs_background": "light"
     },
     "output_type": "display_data"
    },
    {
     "name": "stdout",
     "output_type": "stream",
     "text": [
      "\n",
      "Полнота (recall): 0.24878048780487805\n",
      "Точность (precision): 0.2914285714285714\n",
      "F1-мера: 0.26842105263157895\n",
      "AUC-ROC 0.4828377324869139\n",
      "Средняя точность (Average precision): 0.31200407497520877\n"
     ]
    }
   ],
   "source": [
    "# выведем характеристики качества модели\n",
    "checking_the_model_for_adequacy(dc_model,\n",
    "                                features_valid,\n",
    "                                target_valid)"
   ]
  },
  {
   "cell_type": "markdown",
   "metadata": {},
   "source": [
    "По матрице ошибок мы видим, что преобладает, более чем в два раза, количество предсказаний класса `-` (0). `FN`= **154**, а `FP`= **124**. Частота ошибок (error rate): `278/365` = **76.1%**, указывает на очень низкое качество модели.\n",
    "\n",
    "Константная модель имеет очень низкое качество предсказаний, что подтверждают значения: **F1-мера**, **точность (precision)**, **полнота (recall)** и **AUC-ROC**."
   ]
  },
  {
   "cell_type": "markdown",
   "metadata": {},
   "source": [
    "**17. Проверим модель \"решающее дерево\".**"
   ]
  },
  {
   "cell_type": "code",
   "execution_count": 61,
   "metadata": {},
   "outputs": [
    {
     "name": "stdout",
     "output_type": "stream",
     "text": [
      "Матрица ошибок ([0][0] = TP, [0][1] = FN;\n",
      "                [1][0] = FP; [1][1] = TN):\n"
     ]
    },
    {
     "data": {
      "image/png": "[encoded data removed]",
      "text/plain": [
       "<Figure size 432x288 with 2 Axes>"
      ]
     },
     "metadata": {
      "needs_background": "light"
     },
     "output_type": "display_data"
    },
    {
     "name": "stdout",
     "output_type": "stream",
     "text": [
      "\n",
      "Полнота (recall): 0.5024390243902439\n",
      "Точность (precision): 0.8512396694214877\n",
      "F1-мера: 0.6319018404907976\n",
      "AUC-ROC 0.7306715669896425\n",
      "Средняя точность (Average precision): 0.5863274442674635\n"
     ]
    }
   ],
   "source": [
    "# проверим модель\n",
    "checking_the_model_for_adequacy(dtc_model,\n",
    "                                features_valid,\n",
    "                                target_valid)"
   ]
  },
  {
   "cell_type": "markdown",
   "metadata": {},
   "source": [
    "По матрице ошибок мы видим, что преобладает, более чем  в четыре раза, количество предсказаний класса `-`(0). `FN` = **102**, а `FP` = **18**. Частота ошибок (error rate): `120/523` = **22.9%**.\n",
    "\n",
    "`F1-мера` (показатель эффективности модели) указывает на низкое качество модели. Но данная метрика зависит от сбалансированности классов, а наши выборки (исходная, обучающая, валидационная и тестовая) имеют дисбаланс.\n",
    "\n",
    "Метрика `AUC-ROC` (оценка качества бинарной классификации) выше на `10%` и нечувствительна к сбалансированности классов, что показывает на среднее качество предсказаний модели и в нашем случае является более точной метрикой качества модели."
   ]
  },
  {
   "cell_type": "markdown",
   "metadata": {},
   "source": [
    "**18. Проверим модель \"случайный лес\".**"
   ]
  },
  {
   "cell_type": "code",
   "execution_count": 62,
   "metadata": {},
   "outputs": [
    {
     "name": "stdout",
     "output_type": "stream",
     "text": [
      "Матрица ошибок ([0][0] = TP, [0][1] = FN;\n",
      "                [1][0] = FP; [1][1] = TN):\n"
     ]
    },
    {
     "data": {
      "image/png": "[encoded data removed]",
      "text/plain": [
       "<Figure size 432x288 with 2 Axes>"
      ]
     },
     "metadata": {
      "needs_background": "light"
     },
     "output_type": "display_data"
    },
    {
     "name": "stdout",
     "output_type": "stream",
     "text": [
      "\n",
      "Полнота (recall): 0.5170731707317073\n",
      "Точность (precision): 0.8617886178861789\n",
      "F1-мера: 0.6463414634146342\n",
      "AUC-ROC 0.7391301926717897\n",
      "Средняя точность (Average precision): 0.5995735585319287\n"
     ]
    }
   ],
   "source": [
    "# проверим модель\n",
    "checking_the_model_for_adequacy(rfc_model,\n",
    "                                features_valid,\n",
    "                                target_valid)"
   ]
  },
  {
   "cell_type": "markdown",
   "metadata": {},
   "source": [
    "По матрице ошибок мы видим, что преобладает, более чем  в четыре раза, количество предсказаний класса `-` (0). `FN` = **99**, а `FP` = **17**. Частота ошибок (error rate): `116/527` = **22.0%**.\n",
    "\n",
    "`F1`-мера (показатель эффективности модели) указывает на низкое качество модели. Но данная метрика зависит от сбалансированности классов, а наши выборки (исходная, обучающая, валидационная и тестовая) имеют дисбаланс.\n",
    "\n",
    "Метрика `AUC-ROC` (оценка качества бинарной классификации) выше на `10%` и нечувствительна к сбалансированности классов, что показывает на среднее качество предсказаний модели и в нашем случае является более точной метрикой качества модели."
   ]
  },
  {
   "cell_type": "markdown",
   "metadata": {},
   "source": [
    "**19. Проверим модель \"логистическая регрессия\".**"
   ]
  },
  {
   "cell_type": "code",
   "execution_count": 63,
   "metadata": {},
   "outputs": [
    {
     "name": "stdout",
     "output_type": "stream",
     "text": [
      "Матрица ошибок ([0][0] = TP, [0][1] = FN;\n",
      "                [1][0] = FP; [1][1] = TN):\n"
     ]
    },
    {
     "data": {
      "image/png": "[encoded data removed]",
      "text/plain": [
       "<Figure size 432x288 with 2 Axes>"
      ]
     },
     "metadata": {
      "needs_background": "light"
     },
     "output_type": "display_data"
    },
    {
     "name": "stdout",
     "output_type": "stream",
     "text": [
      "\n",
      "Полнота (recall): 0.2048780487804878\n",
      "Точность (precision): 0.8571428571428571\n",
      "F1-мера: 0.3307086614173228\n",
      "AUC-ROC 0.5944481568103352\n",
      "Средняя точность (Average precision): 0.42910897849258434\n"
     ]
    }
   ],
   "source": [
    "# проверим модель\n",
    "checking_the_model_for_adequacy(lr_model,\n",
    "                                features_valid,\n",
    "                                target_valid)"
   ]
  },
  {
   "cell_type": "markdown",
   "metadata": {},
   "source": [
    "По матрице ошибок мы видим, что преобладает, более чем  в четыре раза, количество предсказаний класса `-` (0). `FN` = **163**, а `FP` = **7**. Частота ошибок (error rate): `170/473` = **35.9%**, указывает на очень низкое качество модели.\n",
    "\n",
    "`F1`-мера (показатель эффективности модели) указывает на очень низкое качество модели. Но данная метрика зависит от сбалансированности классов, а наши выборки (исходная, обучающая, валидационная и тестовая) имеют дисбаланс.\n",
    "\n",
    "Метрика `AUC-ROC` (оценка качества бинарной классификации) выше на `16%` и нечувствительна к сбалансированности классов, поэтому, в нашем случае, является более точной метрикой качества модели, что дополнительно подтверждает очень низкое качество модели."
   ]
  },
  {
   "cell_type": "markdown",
   "metadata": {},
   "source": [
    "**Общий вывод**\n",
    "\n",
    "Все наши три модели лучше константной и полностью адекватны. Оклонений и аномалий нет.\n",
    "\n",
    "Первые две модели: решающее дерево и случайный лес, имеют приблизительно одинаковые характеристики прогнозирования, качества и ошибок, но время работы, в несколько раз, лучше у первой модели (решающее дерево), чем у второй, а третья модель существенно отстает от них."
   ]
  },
  {
   "cell_type": "markdown",
   "metadata": {},
   "source": [
    "## Итоги проекта"
   ]
  },
  {
   "cell_type": "markdown",
   "metadata": {},
   "source": [
    "1. Лучшая модель по совокупности критериев (качество прогнозирования и время выполнения): `DecisionTreeClassifier`.\n",
    "    \n",
    "Время работы: `1.4` миллисекунд.\n",
    "    \n",
    "Гиперпараметры модели:\n",
    "    \n",
    "* `criterion`         - **entropy**;\n",
    "* `splitter`          - **random**;\n",
    "* `max_depth`         - **5**;\n",
    "* `min_samples_split` - **2**;\n",
    "* `min_samples_leaf`  - **6**.\n",
    "\n",
    "\n",
    "2. `accuracy` - доля правильных ответов модели, на тестовой выборке: `0.7947122861586314`.\n",
    "    \n",
    "3. Исходные данные, и полученные из них выборки (обучающая, валидационная, тестовая), имеют дисбаланс, а критерий\n",
    "качества модели `accuracy` чуствителен к дисбалансу классов. По этой причине, мы оценивали модель и по другим критериям, например, по критерию `ROC AUC`(оценка качества бинарной классификации). \n",
    "\n",
    "Другие критерии качества модели (получены на тестовой выборке):\n",
    "* `Полнота (recall):`                     -  **0.47**;\n",
    "* `Точность (precision):`                 - **0.7833333333333333**;\n",
    "* `F1-мера:`                              - **0.5874999999999999**;\n",
    "* `AUC-ROC: `                             - **0.7056546275395033**;\n",
    "* `Средняя точность (Average precision):` - **0.533018921721099**.\n",
    "    \n",
    "\n",
    "\n",
    "\n",
    "Критерии качества прогнозирования модели, полученные на валидационной выборке, несущественно отличаются от критериев полученных на тестовой выборке, что говорит об устойчивости модели к новым входным данным.\n",
    "\n",
    "\n",
    "\n",
    "Влияние дисбаланса классов на наши модели:\n",
    " - в деревьях решений (и их обобщениях – случайном лесе), дисбаланс классов влияет на меры неоднородности (impurity) листьев, но это влияние примерно пропорционально для всех кандидатов в очередную разбивку (split), и потому обычно не особо влияет на выбор разбивок;\n",
    " - в логистической регрессии баланс классов сильно влияет на свободный член, но очень слабо – на коэффициенты наклона.\n",
    "\n",
    "\n",
    "*Рекомендации по улучшению модели*:\n",
    "   - собрать большой массив исходных данных для обучения модели;\n",
    "   - обучить модель на большом массиве данных;\n",
    "   - скорректировать гиперпараметры."
   ]
  }
 ],
 "metadata": {
  "ExecuteTimeLog": [
   {
    "duration": 464,
    "start_time": "2023-04-10T17:22:30.562Z"
   },
   {
    "duration": 414,
    "start_time": "2023-04-10T17:22:31.028Z"
   },
   {
    "duration": 817,
    "start_time": "2023-04-10T17:22:31.444Z"
   },
   {
    "duration": 58,
    "start_time": "2023-04-10T17:22:32.263Z"
   },
   {
    "duration": 10,
    "start_time": "2023-04-10T17:22:32.323Z"
   },
   {
    "duration": 2,
    "start_time": "2023-04-10T17:22:32.335Z"
   },
   {
    "duration": 5,
    "start_time": "2023-04-10T17:22:32.339Z"
   },
   {
    "duration": 5,
    "start_time": "2023-04-10T17:22:32.345Z"
   },
   {
    "duration": 8,
    "start_time": "2023-04-10T17:22:32.352Z"
   },
   {
    "duration": 147,
    "start_time": "2023-04-10T17:22:32.362Z"
   },
   {
    "duration": 15,
    "start_time": "2023-04-10T17:22:32.511Z"
   },
   {
    "duration": 12,
    "start_time": "2023-04-10T17:22:32.528Z"
   },
   {
    "duration": 671,
    "start_time": "2023-04-10T17:22:32.542Z"
   },
   {
    "duration": 25,
    "start_time": "2023-04-10T17:22:33.216Z"
   },
   {
    "duration": 3,
    "start_time": "2023-04-10T17:22:33.243Z"
   },
   {
    "duration": 11,
    "start_time": "2023-04-10T17:22:33.248Z"
   },
   {
    "duration": 3,
    "start_time": "2023-04-10T17:22:33.261Z"
   },
   {
    "duration": 23,
    "start_time": "2023-04-10T17:22:33.266Z"
   },
   {
    "duration": 27,
    "start_time": "2023-04-10T17:22:33.291Z"
   },
   {
    "duration": 10,
    "start_time": "2023-04-10T17:22:33.319Z"
   },
   {
    "duration": 10,
    "start_time": "2023-04-10T17:22:33.330Z"
   },
   {
    "duration": 25,
    "start_time": "2023-04-10T17:22:33.341Z"
   },
   {
    "duration": 14,
    "start_time": "2023-04-10T17:22:33.367Z"
   },
   {
    "duration": 37,
    "start_time": "2023-04-10T17:22:33.382Z"
   },
   {
    "duration": 10,
    "start_time": "2023-04-10T17:22:33.421Z"
   },
   {
    "duration": 21,
    "start_time": "2023-04-10T17:22:33.433Z"
   },
   {
    "duration": 275,
    "start_time": "2023-04-10T17:22:33.456Z"
   },
   {
    "duration": 0,
    "start_time": "2023-04-10T17:22:33.733Z"
   },
   {
    "duration": 0,
    "start_time": "2023-04-10T17:22:33.734Z"
   },
   {
    "duration": 0,
    "start_time": "2023-04-10T17:22:33.736Z"
   },
   {
    "duration": 0,
    "start_time": "2023-04-10T17:22:33.737Z"
   },
   {
    "duration": 0,
    "start_time": "2023-04-10T17:22:33.738Z"
   },
   {
    "duration": 0,
    "start_time": "2023-04-10T17:22:33.739Z"
   },
   {
    "duration": 0,
    "start_time": "2023-04-10T17:22:33.740Z"
   },
   {
    "duration": 0,
    "start_time": "2023-04-10T17:22:33.741Z"
   },
   {
    "duration": 0,
    "start_time": "2023-04-10T17:22:33.742Z"
   },
   {
    "duration": 0,
    "start_time": "2023-04-10T17:22:33.743Z"
   },
   {
    "duration": 0,
    "start_time": "2023-04-10T17:22:33.744Z"
   },
   {
    "duration": 0,
    "start_time": "2023-04-10T17:22:33.745Z"
   },
   {
    "duration": 0,
    "start_time": "2023-04-10T17:22:33.746Z"
   },
   {
    "duration": 0,
    "start_time": "2023-04-10T17:22:33.747Z"
   },
   {
    "duration": 0,
    "start_time": "2023-04-10T17:22:33.749Z"
   },
   {
    "duration": 0,
    "start_time": "2023-04-10T17:22:33.750Z"
   },
   {
    "duration": 0,
    "start_time": "2023-04-10T17:22:33.751Z"
   },
   {
    "duration": 0,
    "start_time": "2023-04-10T17:22:33.752Z"
   },
   {
    "duration": 0,
    "start_time": "2023-04-10T17:22:33.753Z"
   },
   {
    "duration": 0,
    "start_time": "2023-04-10T17:22:33.790Z"
   },
   {
    "duration": 0,
    "start_time": "2023-04-10T17:22:33.791Z"
   },
   {
    "duration": 0,
    "start_time": "2023-04-10T17:22:33.792Z"
   },
   {
    "duration": 0,
    "start_time": "2023-04-10T17:22:33.794Z"
   },
   {
    "duration": 0,
    "start_time": "2023-04-10T17:22:33.795Z"
   },
   {
    "duration": 0,
    "start_time": "2023-04-10T17:22:33.796Z"
   },
   {
    "duration": 0,
    "start_time": "2023-04-10T17:22:33.797Z"
   },
   {
    "duration": 0,
    "start_time": "2023-04-10T17:22:33.798Z"
   },
   {
    "duration": 0,
    "start_time": "2023-04-10T17:22:33.799Z"
   },
   {
    "duration": 0,
    "start_time": "2023-04-10T17:22:33.800Z"
   },
   {
    "duration": 0,
    "start_time": "2023-04-10T17:22:33.801Z"
   },
   {
    "duration": 0,
    "start_time": "2023-04-10T17:22:33.802Z"
   },
   {
    "duration": 0,
    "start_time": "2023-04-10T17:22:33.803Z"
   },
   {
    "duration": 0,
    "start_time": "2023-04-10T17:22:33.804Z"
   },
   {
    "duration": 0,
    "start_time": "2023-04-10T17:22:33.805Z"
   },
   {
    "duration": 446,
    "start_time": "2023-04-10T17:23:31.482Z"
   },
   {
    "duration": 234,
    "start_time": "2023-04-10T17:23:31.930Z"
   },
   {
    "duration": 703,
    "start_time": "2023-04-10T17:23:32.166Z"
   },
   {
    "duration": 54,
    "start_time": "2023-04-10T17:23:32.872Z"
   },
   {
    "duration": 10,
    "start_time": "2023-04-10T17:23:32.928Z"
   },
   {
    "duration": 50,
    "start_time": "2023-04-10T17:23:32.939Z"
   },
   {
    "duration": 4,
    "start_time": "2023-04-10T17:23:32.990Z"
   },
   {
    "duration": 10,
    "start_time": "2023-04-10T17:23:32.996Z"
   },
   {
    "duration": 5,
    "start_time": "2023-04-10T17:23:33.008Z"
   },
   {
    "duration": 81,
    "start_time": "2023-04-10T17:23:33.017Z"
   },
   {
    "duration": 16,
    "start_time": "2023-04-10T17:23:33.099Z"
   },
   {
    "duration": 15,
    "start_time": "2023-04-10T17:23:33.117Z"
   },
   {
    "duration": 671,
    "start_time": "2023-04-10T17:23:33.134Z"
   },
   {
    "duration": 26,
    "start_time": "2023-04-10T17:23:33.807Z"
   },
   {
    "duration": 4,
    "start_time": "2023-04-10T17:23:33.835Z"
   },
   {
    "duration": 10,
    "start_time": "2023-04-10T17:23:33.840Z"
   },
   {
    "duration": 4,
    "start_time": "2023-04-10T17:23:33.852Z"
   },
   {
    "duration": 12,
    "start_time": "2023-04-10T17:23:33.858Z"
   },
   {
    "duration": 20,
    "start_time": "2023-04-10T17:23:33.872Z"
   },
   {
    "duration": 6,
    "start_time": "2023-04-10T17:23:33.894Z"
   },
   {
    "duration": 5,
    "start_time": "2023-04-10T17:23:33.903Z"
   },
   {
    "duration": 13,
    "start_time": "2023-04-10T17:23:33.910Z"
   },
   {
    "duration": 28,
    "start_time": "2023-04-10T17:23:33.925Z"
   },
   {
    "duration": 13,
    "start_time": "2023-04-10T17:23:33.955Z"
   },
   {
    "duration": 13,
    "start_time": "2023-04-10T17:23:33.970Z"
   },
   {
    "duration": 11,
    "start_time": "2023-04-10T17:23:33.985Z"
   },
   {
    "duration": 264,
    "start_time": "2023-04-10T17:23:33.997Z"
   },
   {
    "duration": 0,
    "start_time": "2023-04-10T17:23:34.265Z"
   },
   {
    "duration": 0,
    "start_time": "2023-04-10T17:23:34.267Z"
   },
   {
    "duration": 0,
    "start_time": "2023-04-10T17:23:34.268Z"
   },
   {
    "duration": 0,
    "start_time": "2023-04-10T17:23:34.270Z"
   },
   {
    "duration": 0,
    "start_time": "2023-04-10T17:23:34.272Z"
   },
   {
    "duration": 0,
    "start_time": "2023-04-10T17:23:34.289Z"
   },
   {
    "duration": 0,
    "start_time": "2023-04-10T17:23:34.291Z"
   },
   {
    "duration": 0,
    "start_time": "2023-04-10T17:23:34.292Z"
   },
   {
    "duration": 1,
    "start_time": "2023-04-10T17:23:34.293Z"
   },
   {
    "duration": 0,
    "start_time": "2023-04-10T17:23:34.295Z"
   },
   {
    "duration": 0,
    "start_time": "2023-04-10T17:23:34.296Z"
   },
   {
    "duration": 0,
    "start_time": "2023-04-10T17:23:34.298Z"
   },
   {
    "duration": 0,
    "start_time": "2023-04-10T17:23:34.299Z"
   },
   {
    "duration": 0,
    "start_time": "2023-04-10T17:23:34.301Z"
   },
   {
    "duration": 0,
    "start_time": "2023-04-10T17:23:34.303Z"
   },
   {
    "duration": 0,
    "start_time": "2023-04-10T17:23:34.304Z"
   },
   {
    "duration": 0,
    "start_time": "2023-04-10T17:23:34.306Z"
   },
   {
    "duration": 0,
    "start_time": "2023-04-10T17:23:34.307Z"
   },
   {
    "duration": 0,
    "start_time": "2023-04-10T17:23:34.309Z"
   },
   {
    "duration": 0,
    "start_time": "2023-04-10T17:23:34.310Z"
   },
   {
    "duration": 0,
    "start_time": "2023-04-10T17:23:34.312Z"
   },
   {
    "duration": 0,
    "start_time": "2023-04-10T17:23:34.313Z"
   },
   {
    "duration": 0,
    "start_time": "2023-04-10T17:23:34.315Z"
   },
   {
    "duration": 0,
    "start_time": "2023-04-10T17:23:34.316Z"
   },
   {
    "duration": 0,
    "start_time": "2023-04-10T17:23:34.318Z"
   },
   {
    "duration": 0,
    "start_time": "2023-04-10T17:23:34.320Z"
   },
   {
    "duration": 0,
    "start_time": "2023-04-10T17:23:34.321Z"
   },
   {
    "duration": 0,
    "start_time": "2023-04-10T17:23:34.323Z"
   },
   {
    "duration": 0,
    "start_time": "2023-04-10T17:23:34.324Z"
   },
   {
    "duration": 0,
    "start_time": "2023-04-10T17:23:34.325Z"
   },
   {
    "duration": 0,
    "start_time": "2023-04-10T17:23:34.327Z"
   },
   {
    "duration": 0,
    "start_time": "2023-04-10T17:23:34.388Z"
   },
   {
    "duration": 0,
    "start_time": "2023-04-10T17:23:34.391Z"
   },
   {
    "duration": 0,
    "start_time": "2023-04-10T17:23:34.393Z"
   },
   {
    "duration": 390,
    "start_time": "2023-04-10T17:29:17.842Z"
   },
   {
    "duration": 242,
    "start_time": "2023-04-10T17:29:18.234Z"
   },
   {
    "duration": 705,
    "start_time": "2023-04-10T17:29:18.478Z"
   },
   {
    "duration": 58,
    "start_time": "2023-04-10T17:29:19.186Z"
   },
   {
    "duration": 12,
    "start_time": "2023-04-10T17:29:19.246Z"
   },
   {
    "duration": 2,
    "start_time": "2023-04-10T17:29:19.261Z"
   },
   {
    "duration": 24,
    "start_time": "2023-04-10T17:29:19.265Z"
   },
   {
    "duration": 6,
    "start_time": "2023-04-10T17:29:19.291Z"
   },
   {
    "duration": 5,
    "start_time": "2023-04-10T17:29:19.298Z"
   },
   {
    "duration": 81,
    "start_time": "2023-04-10T17:29:19.306Z"
   },
   {
    "duration": 14,
    "start_time": "2023-04-10T17:29:19.389Z"
   },
   {
    "duration": 12,
    "start_time": "2023-04-10T17:29:19.404Z"
   },
   {
    "duration": 691,
    "start_time": "2023-04-10T17:29:19.418Z"
   },
   {
    "duration": 25,
    "start_time": "2023-04-10T17:29:20.111Z"
   },
   {
    "duration": 4,
    "start_time": "2023-04-10T17:29:20.138Z"
   },
   {
    "duration": 8,
    "start_time": "2023-04-10T17:29:20.144Z"
   },
   {
    "duration": 4,
    "start_time": "2023-04-10T17:29:20.154Z"
   },
   {
    "duration": 30,
    "start_time": "2023-04-10T17:29:20.160Z"
   },
   {
    "duration": 8,
    "start_time": "2023-04-10T17:29:20.191Z"
   },
   {
    "duration": 28,
    "start_time": "2023-04-10T17:29:20.201Z"
   },
   {
    "duration": 8,
    "start_time": "2023-04-10T17:29:20.231Z"
   },
   {
    "duration": 12,
    "start_time": "2023-04-10T17:29:20.242Z"
   },
   {
    "duration": 5,
    "start_time": "2023-04-10T17:29:20.257Z"
   },
   {
    "duration": 13,
    "start_time": "2023-04-10T17:29:20.264Z"
   },
   {
    "duration": 13,
    "start_time": "2023-04-10T17:29:20.280Z"
   },
   {
    "duration": 15,
    "start_time": "2023-04-10T17:29:20.295Z"
   },
   {
    "duration": 295,
    "start_time": "2023-04-10T17:29:20.313Z"
   },
   {
    "duration": 0,
    "start_time": "2023-04-10T17:29:20.611Z"
   },
   {
    "duration": 0,
    "start_time": "2023-04-10T17:29:20.612Z"
   },
   {
    "duration": 0,
    "start_time": "2023-04-10T17:29:20.614Z"
   },
   {
    "duration": 0,
    "start_time": "2023-04-10T17:29:20.615Z"
   },
   {
    "duration": 0,
    "start_time": "2023-04-10T17:29:20.616Z"
   },
   {
    "duration": 0,
    "start_time": "2023-04-10T17:29:20.618Z"
   },
   {
    "duration": 0,
    "start_time": "2023-04-10T17:29:20.619Z"
   },
   {
    "duration": 0,
    "start_time": "2023-04-10T17:29:20.620Z"
   },
   {
    "duration": 0,
    "start_time": "2023-04-10T17:29:20.621Z"
   },
   {
    "duration": 0,
    "start_time": "2023-04-10T17:29:20.622Z"
   },
   {
    "duration": 0,
    "start_time": "2023-04-10T17:29:20.623Z"
   },
   {
    "duration": 1,
    "start_time": "2023-04-10T17:29:20.624Z"
   },
   {
    "duration": 0,
    "start_time": "2023-04-10T17:29:20.626Z"
   },
   {
    "duration": 0,
    "start_time": "2023-04-10T17:29:20.627Z"
   },
   {
    "duration": 0,
    "start_time": "2023-04-10T17:29:20.629Z"
   },
   {
    "duration": 0,
    "start_time": "2023-04-10T17:29:20.630Z"
   },
   {
    "duration": 0,
    "start_time": "2023-04-10T17:29:20.631Z"
   },
   {
    "duration": 0,
    "start_time": "2023-04-10T17:29:20.632Z"
   },
   {
    "duration": 0,
    "start_time": "2023-04-10T17:29:20.633Z"
   },
   {
    "duration": 0,
    "start_time": "2023-04-10T17:29:20.634Z"
   },
   {
    "duration": 0,
    "start_time": "2023-04-10T17:29:20.635Z"
   },
   {
    "duration": 0,
    "start_time": "2023-04-10T17:29:20.636Z"
   },
   {
    "duration": 0,
    "start_time": "2023-04-10T17:29:20.637Z"
   },
   {
    "duration": 0,
    "start_time": "2023-04-10T17:29:20.638Z"
   },
   {
    "duration": 0,
    "start_time": "2023-04-10T17:29:20.639Z"
   },
   {
    "duration": 0,
    "start_time": "2023-04-10T17:29:20.689Z"
   },
   {
    "duration": 0,
    "start_time": "2023-04-10T17:29:20.690Z"
   },
   {
    "duration": 0,
    "start_time": "2023-04-10T17:29:20.691Z"
   },
   {
    "duration": 0,
    "start_time": "2023-04-10T17:29:20.692Z"
   },
   {
    "duration": 0,
    "start_time": "2023-04-10T17:29:20.694Z"
   },
   {
    "duration": 0,
    "start_time": "2023-04-10T17:29:20.694Z"
   },
   {
    "duration": 0,
    "start_time": "2023-04-10T17:29:20.695Z"
   },
   {
    "duration": 0,
    "start_time": "2023-04-10T17:29:20.696Z"
   },
   {
    "duration": 0,
    "start_time": "2023-04-10T17:29:20.697Z"
   },
   {
    "duration": 10,
    "start_time": "2023-04-10T17:31:33.066Z"
   },
   {
    "duration": 4,
    "start_time": "2023-04-10T17:31:50.475Z"
   },
   {
    "duration": 47,
    "start_time": "2023-04-10T17:36:58.999Z"
   },
   {
    "duration": 43,
    "start_time": "2023-04-10T17:39:24.411Z"
   },
   {
    "duration": 11,
    "start_time": "2023-04-10T17:39:30.564Z"
   },
   {
    "duration": 9,
    "start_time": "2023-04-10T17:39:35.272Z"
   },
   {
    "duration": 767,
    "start_time": "2023-04-10T17:39:39.767Z"
   },
   {
    "duration": 6218,
    "start_time": "2023-04-10T17:41:37.940Z"
   },
   {
    "duration": 453,
    "start_time": "2023-04-10T17:42:04.764Z"
   },
   {
    "duration": 237,
    "start_time": "2023-04-10T17:42:05.219Z"
   },
   {
    "duration": 542,
    "start_time": "2023-04-10T17:42:05.457Z"
   },
   {
    "duration": 63,
    "start_time": "2023-04-10T17:42:06.001Z"
   },
   {
    "duration": 24,
    "start_time": "2023-04-10T17:42:06.065Z"
   },
   {
    "duration": 3,
    "start_time": "2023-04-10T17:42:06.090Z"
   },
   {
    "duration": 7,
    "start_time": "2023-04-10T17:42:06.095Z"
   },
   {
    "duration": 8,
    "start_time": "2023-04-10T17:42:06.104Z"
   },
   {
    "duration": 6,
    "start_time": "2023-04-10T17:42:06.113Z"
   },
   {
    "duration": 66,
    "start_time": "2023-04-10T17:42:06.121Z"
   },
   {
    "duration": 14,
    "start_time": "2023-04-10T17:42:06.188Z"
   },
   {
    "duration": 12,
    "start_time": "2023-04-10T17:42:06.204Z"
   },
   {
    "duration": 674,
    "start_time": "2023-04-10T17:42:06.217Z"
   },
   {
    "duration": 25,
    "start_time": "2023-04-10T17:42:06.894Z"
   },
   {
    "duration": 3,
    "start_time": "2023-04-10T17:42:06.921Z"
   },
   {
    "duration": 6,
    "start_time": "2023-04-10T17:42:06.926Z"
   },
   {
    "duration": 9,
    "start_time": "2023-04-10T17:42:06.934Z"
   },
   {
    "duration": 12,
    "start_time": "2023-04-10T17:42:06.945Z"
   },
   {
    "duration": 6,
    "start_time": "2023-04-10T17:42:06.959Z"
   },
   {
    "duration": 24,
    "start_time": "2023-04-10T17:42:06.966Z"
   },
   {
    "duration": 6,
    "start_time": "2023-04-10T17:42:06.992Z"
   },
   {
    "duration": 5,
    "start_time": "2023-04-10T17:42:07.000Z"
   },
   {
    "duration": 5,
    "start_time": "2023-04-10T17:42:07.007Z"
   },
   {
    "duration": 4,
    "start_time": "2023-04-10T17:42:07.014Z"
   },
   {
    "duration": 6,
    "start_time": "2023-04-10T17:42:07.020Z"
   },
   {
    "duration": 4,
    "start_time": "2023-04-10T17:42:07.027Z"
   },
   {
    "duration": 2474,
    "start_time": "2023-04-10T17:42:07.033Z"
   },
   {
    "duration": 8,
    "start_time": "2023-04-10T17:42:09.511Z"
   },
   {
    "duration": 32900,
    "start_time": "2023-04-10T17:42:09.521Z"
   },
   {
    "duration": 3,
    "start_time": "2023-04-10T17:42:42.423Z"
   },
   {
    "duration": 15,
    "start_time": "2023-04-10T17:42:42.428Z"
   },
   {
    "duration": 7,
    "start_time": "2023-04-10T17:42:42.445Z"
   },
   {
    "duration": 170361,
    "start_time": "2023-04-10T17:42:42.454Z"
   },
   {
    "duration": 59,
    "start_time": "2023-04-10T17:45:32.817Z"
   },
   {
    "duration": 15,
    "start_time": "2023-04-10T17:45:32.878Z"
   },
   {
    "duration": 110716,
    "start_time": "2023-04-10T17:45:32.895Z"
   },
   {
    "duration": 89,
    "start_time": "2023-04-10T17:47:23.613Z"
   },
   {
    "duration": 4,
    "start_time": "2023-04-10T17:47:23.705Z"
   },
   {
    "duration": 37,
    "start_time": "2023-04-10T17:47:23.711Z"
   },
   {
    "duration": 24,
    "start_time": "2023-04-10T17:47:23.750Z"
   },
   {
    "duration": 11,
    "start_time": "2023-04-10T17:47:23.776Z"
   },
   {
    "duration": 21,
    "start_time": "2023-04-10T17:47:23.788Z"
   },
   {
    "duration": 9,
    "start_time": "2023-04-10T17:47:23.810Z"
   },
   {
    "duration": 15,
    "start_time": "2023-04-10T17:47:23.821Z"
   },
   {
    "duration": 4,
    "start_time": "2023-04-10T17:47:23.838Z"
   },
   {
    "duration": 13,
    "start_time": "2023-04-10T17:47:23.844Z"
   },
   {
    "duration": 34,
    "start_time": "2023-04-10T17:47:23.859Z"
   },
   {
    "duration": 26,
    "start_time": "2023-04-10T17:47:23.896Z"
   },
   {
    "duration": 13,
    "start_time": "2023-04-10T17:47:23.923Z"
   },
   {
    "duration": 14,
    "start_time": "2023-04-10T17:47:23.938Z"
   },
   {
    "duration": 17,
    "start_time": "2023-04-10T17:47:23.954Z"
   },
   {
    "duration": 9,
    "start_time": "2023-04-10T17:47:23.973Z"
   },
   {
    "duration": 9,
    "start_time": "2023-04-10T17:47:23.983Z"
   },
   {
    "duration": 21,
    "start_time": "2023-04-10T17:47:23.994Z"
   },
   {
    "duration": 11,
    "start_time": "2023-04-10T17:47:24.017Z"
   },
   {
    "duration": 8,
    "start_time": "2023-04-10T17:47:24.029Z"
   },
   {
    "duration": 14,
    "start_time": "2023-04-10T17:47:24.039Z"
   },
   {
    "duration": 19,
    "start_time": "2023-04-10T17:47:24.055Z"
   },
   {
    "duration": 10,
    "start_time": "2023-04-10T17:47:24.076Z"
   },
   {
    "duration": 24,
    "start_time": "2023-04-10T17:47:24.087Z"
   },
   {
    "duration": 17,
    "start_time": "2023-04-10T17:47:24.113Z"
   },
   {
    "duration": 21,
    "start_time": "2023-04-10T17:47:24.132Z"
   },
   {
    "duration": 39,
    "start_time": "2023-04-10T17:47:24.154Z"
   },
   {
    "duration": 2571,
    "start_time": "2023-04-10T17:51:14.580Z"
   },
   {
    "duration": 398,
    "start_time": "2023-04-10T17:51:17.154Z"
   },
   {
    "duration": 262,
    "start_time": "2023-04-10T17:51:17.554Z"
   },
   {
    "duration": 542,
    "start_time": "2023-04-10T17:51:17.819Z"
   },
   {
    "duration": 68,
    "start_time": "2023-04-10T17:51:18.363Z"
   },
   {
    "duration": 17,
    "start_time": "2023-04-10T17:51:18.433Z"
   },
   {
    "duration": 2,
    "start_time": "2023-04-10T17:51:18.453Z"
   },
   {
    "duration": 12,
    "start_time": "2023-04-10T17:51:18.457Z"
   },
   {
    "duration": 13,
    "start_time": "2023-04-10T17:51:18.470Z"
   },
   {
    "duration": 4,
    "start_time": "2023-04-10T17:51:18.488Z"
   },
   {
    "duration": 74,
    "start_time": "2023-04-10T17:51:18.494Z"
   },
   {
    "duration": 15,
    "start_time": "2023-04-10T17:51:18.570Z"
   },
   {
    "duration": 12,
    "start_time": "2023-04-10T17:51:18.587Z"
   },
   {
    "duration": 688,
    "start_time": "2023-04-10T17:51:18.601Z"
   },
   {
    "duration": 25,
    "start_time": "2023-04-10T17:51:19.291Z"
   },
   {
    "duration": 4,
    "start_time": "2023-04-10T17:51:19.318Z"
   },
   {
    "duration": 5,
    "start_time": "2023-04-10T17:51:19.324Z"
   },
   {
    "duration": 5,
    "start_time": "2023-04-10T17:51:19.331Z"
   },
   {
    "duration": 8,
    "start_time": "2023-04-10T17:51:19.338Z"
   },
   {
    "duration": 5,
    "start_time": "2023-04-10T17:51:19.348Z"
   },
   {
    "duration": 6,
    "start_time": "2023-04-10T17:51:19.355Z"
   },
   {
    "duration": 5,
    "start_time": "2023-04-10T17:51:19.390Z"
   },
   {
    "duration": 7,
    "start_time": "2023-04-10T17:51:19.397Z"
   },
   {
    "duration": 7,
    "start_time": "2023-04-10T17:51:19.406Z"
   },
   {
    "duration": 10,
    "start_time": "2023-04-10T17:51:19.415Z"
   },
   {
    "duration": 5,
    "start_time": "2023-04-10T17:51:19.427Z"
   },
   {
    "duration": 8,
    "start_time": "2023-04-10T17:51:19.434Z"
   },
   {
    "duration": 33730,
    "start_time": "2023-04-10T17:51:19.447Z"
   },
   {
    "duration": 3,
    "start_time": "2023-04-10T17:51:53.179Z"
   },
   {
    "duration": 19,
    "start_time": "2023-04-10T17:51:53.184Z"
   },
   {
    "duration": 8,
    "start_time": "2023-04-10T17:51:53.205Z"
   },
   {
    "duration": 2586,
    "start_time": "2023-04-10T17:52:57.529Z"
   },
   {
    "duration": 409,
    "start_time": "2023-04-10T17:53:00.118Z"
   },
   {
    "duration": 302,
    "start_time": "2023-04-10T17:53:00.529Z"
   },
   {
    "duration": 575,
    "start_time": "2023-04-10T17:53:00.837Z"
   },
   {
    "duration": 63,
    "start_time": "2023-04-10T17:53:01.415Z"
   },
   {
    "duration": 22,
    "start_time": "2023-04-10T17:53:01.480Z"
   },
   {
    "duration": 25,
    "start_time": "2023-04-10T17:53:01.504Z"
   },
   {
    "duration": 26,
    "start_time": "2023-04-10T17:53:01.531Z"
   },
   {
    "duration": 41,
    "start_time": "2023-04-10T17:53:01.559Z"
   },
   {
    "duration": 26,
    "start_time": "2023-04-10T17:53:01.602Z"
   },
   {
    "duration": 85,
    "start_time": "2023-04-10T17:53:01.630Z"
   },
   {
    "duration": 15,
    "start_time": "2023-04-10T17:53:01.717Z"
   },
   {
    "duration": 14,
    "start_time": "2023-04-10T17:53:01.734Z"
   },
   {
    "duration": 693,
    "start_time": "2023-04-10T17:53:01.752Z"
   },
   {
    "duration": 25,
    "start_time": "2023-04-10T17:53:02.447Z"
   },
   {
    "duration": 17,
    "start_time": "2023-04-10T17:53:02.473Z"
   },
   {
    "duration": 5,
    "start_time": "2023-04-10T17:53:02.491Z"
   },
   {
    "duration": 5,
    "start_time": "2023-04-10T17:53:02.497Z"
   },
   {
    "duration": 9,
    "start_time": "2023-04-10T17:53:02.503Z"
   },
   {
    "duration": 5,
    "start_time": "2023-04-10T17:53:02.514Z"
   },
   {
    "duration": 7,
    "start_time": "2023-04-10T17:53:02.520Z"
   },
   {
    "duration": 5,
    "start_time": "2023-04-10T17:53:02.528Z"
   },
   {
    "duration": 9,
    "start_time": "2023-04-10T17:53:02.534Z"
   },
   {
    "duration": 5,
    "start_time": "2023-04-10T17:53:02.545Z"
   },
   {
    "duration": 4,
    "start_time": "2023-04-10T17:53:02.590Z"
   },
   {
    "duration": 17,
    "start_time": "2023-04-10T17:53:02.595Z"
   },
   {
    "duration": 7,
    "start_time": "2023-04-10T17:53:02.613Z"
   },
   {
    "duration": 31986,
    "start_time": "2023-04-10T17:53:02.622Z"
   },
   {
    "duration": 4,
    "start_time": "2023-04-10T17:53:34.609Z"
   },
   {
    "duration": 10,
    "start_time": "2023-04-10T17:53:34.614Z"
   },
   {
    "duration": 7,
    "start_time": "2023-04-10T17:53:34.626Z"
   },
   {
    "duration": 166774,
    "start_time": "2023-04-10T17:53:34.634Z"
   },
   {
    "duration": 63,
    "start_time": "2023-04-10T17:56:21.410Z"
   },
   {
    "duration": 16,
    "start_time": "2023-04-10T17:56:21.474Z"
   },
   {
    "duration": 110318,
    "start_time": "2023-04-10T17:56:21.492Z"
   },
   {
    "duration": 84,
    "start_time": "2023-04-10T17:58:11.812Z"
   },
   {
    "duration": 4,
    "start_time": "2023-04-10T17:58:11.898Z"
   },
   {
    "duration": 17,
    "start_time": "2023-04-10T17:58:11.904Z"
   },
   {
    "duration": 17,
    "start_time": "2023-04-10T17:58:11.923Z"
   },
   {
    "duration": 10,
    "start_time": "2023-04-10T17:58:11.942Z"
   },
   {
    "duration": 13,
    "start_time": "2023-04-10T17:58:11.956Z"
   },
   {
    "duration": 25,
    "start_time": "2023-04-10T17:58:11.971Z"
   },
   {
    "duration": 25,
    "start_time": "2023-04-10T17:58:11.998Z"
   },
   {
    "duration": 4,
    "start_time": "2023-04-10T17:58:12.025Z"
   },
   {
    "duration": 13,
    "start_time": "2023-04-10T17:58:12.031Z"
   },
   {
    "duration": 13,
    "start_time": "2023-04-10T17:58:12.046Z"
   },
   {
    "duration": 6,
    "start_time": "2023-04-10T17:58:12.061Z"
   },
   {
    "duration": 7,
    "start_time": "2023-04-10T17:58:12.089Z"
   },
   {
    "duration": 11,
    "start_time": "2023-04-10T17:58:12.098Z"
   },
   {
    "duration": 14,
    "start_time": "2023-04-10T17:58:12.110Z"
   },
   {
    "duration": 13,
    "start_time": "2023-04-10T17:58:12.126Z"
   },
   {
    "duration": 12,
    "start_time": "2023-04-10T17:58:12.141Z"
   },
   {
    "duration": 46,
    "start_time": "2023-04-10T17:58:12.154Z"
   },
   {
    "duration": 7,
    "start_time": "2023-04-10T17:58:12.202Z"
   },
   {
    "duration": 8,
    "start_time": "2023-04-10T17:58:12.211Z"
   },
   {
    "duration": 9,
    "start_time": "2023-04-10T17:58:12.220Z"
   },
   {
    "duration": 9,
    "start_time": "2023-04-10T17:58:12.231Z"
   },
   {
    "duration": 7,
    "start_time": "2023-04-10T17:58:12.242Z"
   },
   {
    "duration": 17,
    "start_time": "2023-04-10T17:58:12.250Z"
   },
   {
    "duration": 14,
    "start_time": "2023-04-10T17:58:12.289Z"
   },
   {
    "duration": 17,
    "start_time": "2023-04-10T17:58:12.305Z"
   },
   {
    "duration": 14,
    "start_time": "2023-04-10T17:58:12.323Z"
   },
   {
    "duration": 2614,
    "start_time": "2023-04-10T18:14:18.962Z"
   },
   {
    "duration": 438,
    "start_time": "2023-04-10T18:14:21.579Z"
   },
   {
    "duration": 234,
    "start_time": "2023-04-10T18:14:22.018Z"
   },
   {
    "duration": 548,
    "start_time": "2023-04-10T18:14:22.254Z"
   },
   {
    "duration": 62,
    "start_time": "2023-04-10T18:14:22.804Z"
   },
   {
    "duration": 26,
    "start_time": "2023-04-10T18:14:22.868Z"
   },
   {
    "duration": 3,
    "start_time": "2023-04-10T18:14:22.896Z"
   },
   {
    "duration": 10,
    "start_time": "2023-04-10T18:14:22.901Z"
   },
   {
    "duration": 10,
    "start_time": "2023-04-10T18:14:22.913Z"
   },
   {
    "duration": 4,
    "start_time": "2023-04-10T18:14:22.926Z"
   },
   {
    "duration": 30,
    "start_time": "2023-04-10T18:14:22.932Z"
   },
   {
    "duration": 19,
    "start_time": "2023-04-10T18:14:22.964Z"
   },
   {
    "duration": 15,
    "start_time": "2023-04-10T18:14:22.989Z"
   },
   {
    "duration": 709,
    "start_time": "2023-04-10T18:14:23.006Z"
   },
   {
    "duration": 36,
    "start_time": "2023-04-10T18:14:23.717Z"
   },
   {
    "duration": 5,
    "start_time": "2023-04-10T18:14:23.755Z"
   },
   {
    "duration": 13,
    "start_time": "2023-04-10T18:14:23.763Z"
   },
   {
    "duration": 4,
    "start_time": "2023-04-10T18:14:23.790Z"
   },
   {
    "duration": 14,
    "start_time": "2023-04-10T18:14:23.796Z"
   },
   {
    "duration": 18,
    "start_time": "2023-04-10T18:14:23.813Z"
   },
   {
    "duration": 14,
    "start_time": "2023-04-10T18:14:23.833Z"
   },
   {
    "duration": 5,
    "start_time": "2023-04-10T18:14:23.849Z"
   },
   {
    "duration": 10,
    "start_time": "2023-04-10T18:14:23.856Z"
   },
   {
    "duration": 14,
    "start_time": "2023-04-10T18:14:23.867Z"
   },
   {
    "duration": 12,
    "start_time": "2023-04-10T18:14:23.883Z"
   },
   {
    "duration": 10,
    "start_time": "2023-04-10T18:14:23.897Z"
   },
   {
    "duration": 11,
    "start_time": "2023-04-10T18:14:23.909Z"
   },
   {
    "duration": 32750,
    "start_time": "2023-04-10T18:14:23.924Z"
   },
   {
    "duration": 3,
    "start_time": "2023-04-10T18:14:56.676Z"
   },
   {
    "duration": 15,
    "start_time": "2023-04-10T18:14:56.688Z"
   },
   {
    "duration": 7,
    "start_time": "2023-04-10T18:14:56.705Z"
   },
   {
    "duration": 169746,
    "start_time": "2023-04-10T18:14:56.714Z"
   },
   {
    "duration": 68,
    "start_time": "2023-04-10T18:17:46.462Z"
   },
   {
    "duration": 6,
    "start_time": "2023-04-10T18:17:46.533Z"
   },
   {
    "duration": 111224,
    "start_time": "2023-04-10T18:17:46.541Z"
   },
   {
    "duration": 86,
    "start_time": "2023-04-10T18:19:37.767Z"
   },
   {
    "duration": 4,
    "start_time": "2023-04-10T18:19:37.854Z"
   },
   {
    "duration": 17,
    "start_time": "2023-04-10T18:19:37.860Z"
   },
   {
    "duration": 24,
    "start_time": "2023-04-10T18:19:37.879Z"
   },
   {
    "duration": 12,
    "start_time": "2023-04-10T18:19:37.905Z"
   },
   {
    "duration": 15,
    "start_time": "2023-04-10T18:19:37.919Z"
   },
   {
    "duration": 8,
    "start_time": "2023-04-10T18:19:37.936Z"
   },
   {
    "duration": 53,
    "start_time": "2023-04-10T18:19:37.945Z"
   },
   {
    "duration": 4,
    "start_time": "2023-04-10T18:19:38.001Z"
   },
   {
    "duration": 21,
    "start_time": "2023-04-10T18:19:38.006Z"
   },
   {
    "duration": 5,
    "start_time": "2023-04-10T18:19:38.029Z"
   },
   {
    "duration": 10,
    "start_time": "2023-04-10T18:19:38.036Z"
   },
   {
    "duration": 11,
    "start_time": "2023-04-10T18:19:38.047Z"
   },
   {
    "duration": 22,
    "start_time": "2023-04-10T18:19:38.059Z"
   },
   {
    "duration": 16,
    "start_time": "2023-04-10T18:19:38.083Z"
   },
   {
    "duration": 13,
    "start_time": "2023-04-10T18:19:38.100Z"
   },
   {
    "duration": 14,
    "start_time": "2023-04-10T18:19:38.114Z"
   },
   {
    "duration": 24,
    "start_time": "2023-04-10T18:19:38.130Z"
   },
   {
    "duration": 10,
    "start_time": "2023-04-10T18:19:38.156Z"
   },
   {
    "duration": 4,
    "start_time": "2023-04-10T18:19:38.167Z"
   },
   {
    "duration": 20,
    "start_time": "2023-04-10T18:19:38.173Z"
   },
   {
    "duration": 7,
    "start_time": "2023-04-10T18:19:38.195Z"
   },
   {
    "duration": 6,
    "start_time": "2023-04-10T18:19:38.204Z"
   },
   {
    "duration": 15,
    "start_time": "2023-04-10T18:19:38.211Z"
   },
   {
    "duration": 17,
    "start_time": "2023-04-10T18:19:38.228Z"
   },
   {
    "duration": 58,
    "start_time": "2023-04-10T18:19:38.246Z"
   },
   {
    "duration": 16,
    "start_time": "2023-04-10T18:19:38.305Z"
   },
   {
    "duration": 2748,
    "start_time": "2023-04-10T18:25:08.590Z"
   },
   {
    "duration": 424,
    "start_time": "2023-04-10T18:25:11.341Z"
   },
   {
    "duration": 310,
    "start_time": "2023-04-10T18:25:11.767Z"
   },
   {
    "duration": 526,
    "start_time": "2023-04-10T18:25:12.079Z"
   },
   {
    "duration": 65,
    "start_time": "2023-04-10T18:25:12.607Z"
   },
   {
    "duration": 26,
    "start_time": "2023-04-10T18:25:12.673Z"
   },
   {
    "duration": 3,
    "start_time": "2023-04-10T18:25:12.701Z"
   },
   {
    "duration": 8,
    "start_time": "2023-04-10T18:25:12.706Z"
   },
   {
    "duration": 15,
    "start_time": "2023-04-10T18:25:12.715Z"
   },
   {
    "duration": 6,
    "start_time": "2023-04-10T18:25:12.732Z"
   },
   {
    "duration": 32,
    "start_time": "2023-04-10T18:25:12.739Z"
   },
   {
    "duration": 17,
    "start_time": "2023-04-10T18:25:12.773Z"
   },
   {
    "duration": 13,
    "start_time": "2023-04-10T18:25:12.791Z"
   },
   {
    "duration": 741,
    "start_time": "2023-04-10T18:25:12.805Z"
   },
   {
    "duration": 27,
    "start_time": "2023-04-10T18:25:13.547Z"
   },
   {
    "duration": 5,
    "start_time": "2023-04-10T18:25:13.588Z"
   },
   {
    "duration": 7,
    "start_time": "2023-04-10T18:25:13.595Z"
   },
   {
    "duration": 4,
    "start_time": "2023-04-10T18:25:13.604Z"
   },
   {
    "duration": 8,
    "start_time": "2023-04-10T18:25:13.610Z"
   },
   {
    "duration": 6,
    "start_time": "2023-04-10T18:25:13.620Z"
   },
   {
    "duration": 11,
    "start_time": "2023-04-10T18:25:13.628Z"
   },
   {
    "duration": 5,
    "start_time": "2023-04-10T18:25:13.641Z"
   },
   {
    "duration": 20,
    "start_time": "2023-04-10T18:25:13.647Z"
   },
   {
    "duration": 6,
    "start_time": "2023-04-10T18:25:13.688Z"
   },
   {
    "duration": 15,
    "start_time": "2023-04-10T18:25:13.696Z"
   },
   {
    "duration": 4,
    "start_time": "2023-04-10T18:25:13.714Z"
   },
   {
    "duration": 8,
    "start_time": "2023-04-10T18:25:13.721Z"
   },
   {
    "duration": 34225,
    "start_time": "2023-04-10T18:25:13.733Z"
   },
   {
    "duration": 4,
    "start_time": "2023-04-10T18:25:47.960Z"
   },
   {
    "duration": 15,
    "start_time": "2023-04-10T18:25:47.965Z"
   },
   {
    "duration": 7,
    "start_time": "2023-04-10T18:25:47.990Z"
   },
   {
    "duration": 172165,
    "start_time": "2023-04-10T18:25:47.999Z"
   },
   {
    "duration": 68,
    "start_time": "2023-04-10T18:28:40.166Z"
   },
   {
    "duration": 8,
    "start_time": "2023-04-10T18:28:40.236Z"
   },
   {
    "duration": 110819,
    "start_time": "2023-04-10T18:28:40.246Z"
   },
   {
    "duration": 90,
    "start_time": "2023-04-10T18:30:31.067Z"
   },
   {
    "duration": 5,
    "start_time": "2023-04-10T18:30:31.159Z"
   },
   {
    "duration": 53,
    "start_time": "2023-04-10T18:30:31.165Z"
   },
   {
    "duration": 60,
    "start_time": "2023-04-10T18:30:31.219Z"
   },
   {
    "duration": 35,
    "start_time": "2023-04-10T18:30:31.281Z"
   },
   {
    "duration": 41,
    "start_time": "2023-04-10T18:30:31.318Z"
   },
   {
    "duration": 26,
    "start_time": "2023-04-10T18:30:31.360Z"
   },
   {
    "duration": 31,
    "start_time": "2023-04-10T18:30:31.388Z"
   },
   {
    "duration": 20,
    "start_time": "2023-04-10T18:30:31.421Z"
   },
   {
    "duration": 32,
    "start_time": "2023-04-10T18:30:31.444Z"
   },
   {
    "duration": 15,
    "start_time": "2023-04-10T18:30:31.478Z"
   },
   {
    "duration": 16,
    "start_time": "2023-04-10T18:30:31.495Z"
   },
   {
    "duration": 21,
    "start_time": "2023-04-10T18:30:31.512Z"
   },
   {
    "duration": 29,
    "start_time": "2023-04-10T18:30:31.535Z"
   },
   {
    "duration": 29,
    "start_time": "2023-04-10T18:30:31.566Z"
   },
   {
    "duration": 20,
    "start_time": "2023-04-10T18:30:31.598Z"
   },
   {
    "duration": 17,
    "start_time": "2023-04-10T18:30:31.619Z"
   },
   {
    "duration": 26,
    "start_time": "2023-04-10T18:30:31.639Z"
   },
   {
    "duration": 26,
    "start_time": "2023-04-10T18:30:31.667Z"
   },
   {
    "duration": 5,
    "start_time": "2023-04-10T18:30:31.696Z"
   },
   {
    "duration": 17,
    "start_time": "2023-04-10T18:30:31.703Z"
   },
   {
    "duration": 19,
    "start_time": "2023-04-10T18:30:31.722Z"
   },
   {
    "duration": 19,
    "start_time": "2023-04-10T18:30:31.742Z"
   },
   {
    "duration": 16,
    "start_time": "2023-04-10T18:30:31.763Z"
   },
   {
    "duration": 25,
    "start_time": "2023-04-10T18:30:31.781Z"
   },
   {
    "duration": 20,
    "start_time": "2023-04-10T18:30:31.807Z"
   },
   {
    "duration": 15,
    "start_time": "2023-04-10T18:30:31.829Z"
   },
   {
    "duration": 9761,
    "start_time": "2023-04-11T05:25:04.571Z"
   },
   {
    "duration": 354,
    "start_time": "2023-04-11T05:25:14.335Z"
   },
   {
    "duration": 420,
    "start_time": "2023-04-11T05:25:14.691Z"
   },
   {
    "duration": 523,
    "start_time": "2023-04-11T05:25:15.114Z"
   },
   {
    "duration": 59,
    "start_time": "2023-04-11T05:25:15.639Z"
   },
   {
    "duration": 17,
    "start_time": "2023-04-11T05:25:15.700Z"
   },
   {
    "duration": 3,
    "start_time": "2023-04-11T05:25:15.719Z"
   },
   {
    "duration": 12,
    "start_time": "2023-04-11T05:25:15.723Z"
   },
   {
    "duration": 5,
    "start_time": "2023-04-11T05:25:15.737Z"
   },
   {
    "duration": 4,
    "start_time": "2023-04-11T05:25:15.745Z"
   },
   {
    "duration": 63,
    "start_time": "2023-04-11T05:25:15.750Z"
   },
   {
    "duration": 13,
    "start_time": "2023-04-11T05:25:15.815Z"
   },
   {
    "duration": 11,
    "start_time": "2023-04-11T05:25:15.830Z"
   },
   {
    "duration": 624,
    "start_time": "2023-04-11T05:25:15.843Z"
   },
   {
    "duration": 28,
    "start_time": "2023-04-11T05:25:16.468Z"
   },
   {
    "duration": 4,
    "start_time": "2023-04-11T05:25:16.497Z"
   },
   {
    "duration": 6,
    "start_time": "2023-04-11T05:25:16.502Z"
   },
   {
    "duration": 4,
    "start_time": "2023-04-11T05:25:16.510Z"
   },
   {
    "duration": 6,
    "start_time": "2023-04-11T05:25:16.515Z"
   },
   {
    "duration": 4,
    "start_time": "2023-04-11T05:25:16.523Z"
   },
   {
    "duration": 7,
    "start_time": "2023-04-11T05:25:16.528Z"
   },
   {
    "duration": 4,
    "start_time": "2023-04-11T05:25:16.536Z"
   },
   {
    "duration": 4,
    "start_time": "2023-04-11T05:25:16.541Z"
   },
   {
    "duration": 3,
    "start_time": "2023-04-11T05:25:16.547Z"
   },
   {
    "duration": 34,
    "start_time": "2023-04-11T05:25:16.552Z"
   },
   {
    "duration": 20,
    "start_time": "2023-04-11T05:25:16.588Z"
   },
   {
    "duration": 8,
    "start_time": "2023-04-11T05:25:16.609Z"
   },
   {
    "duration": 30950,
    "start_time": "2023-04-11T05:25:16.621Z"
   },
   {
    "duration": 3,
    "start_time": "2023-04-11T05:25:47.573Z"
   },
   {
    "duration": 16,
    "start_time": "2023-04-11T05:25:47.578Z"
   },
   {
    "duration": 6,
    "start_time": "2023-04-11T05:25:47.596Z"
   },
   {
    "duration": 166773,
    "start_time": "2023-04-11T05:25:47.604Z"
   },
   {
    "duration": 61,
    "start_time": "2023-04-11T05:28:34.379Z"
   },
   {
    "duration": 8,
    "start_time": "2023-04-11T05:28:34.441Z"
   },
   {
    "duration": 110872,
    "start_time": "2023-04-11T05:28:34.451Z"
   },
   {
    "duration": 88,
    "start_time": "2023-04-11T05:30:25.324Z"
   },
   {
    "duration": 5,
    "start_time": "2023-04-11T05:30:25.413Z"
   },
   {
    "duration": 16,
    "start_time": "2023-04-11T05:30:25.419Z"
   },
   {
    "duration": 14,
    "start_time": "2023-04-11T05:30:25.437Z"
   },
   {
    "duration": 11,
    "start_time": "2023-04-11T05:30:25.452Z"
   },
   {
    "duration": 13,
    "start_time": "2023-04-11T05:30:25.495Z"
   },
   {
    "duration": 6,
    "start_time": "2023-04-11T05:30:25.510Z"
   },
   {
    "duration": 11,
    "start_time": "2023-04-11T05:30:25.518Z"
   },
   {
    "duration": 3,
    "start_time": "2023-04-11T05:30:25.532Z"
   },
   {
    "duration": 11,
    "start_time": "2023-04-11T05:30:25.536Z"
   },
   {
    "duration": 5,
    "start_time": "2023-04-11T05:30:25.549Z"
   },
   {
    "duration": 36,
    "start_time": "2023-04-11T05:30:25.556Z"
   },
   {
    "duration": 12,
    "start_time": "2023-04-11T05:30:25.593Z"
   },
   {
    "duration": 8,
    "start_time": "2023-04-11T05:30:25.607Z"
   },
   {
    "duration": 12,
    "start_time": "2023-04-11T05:30:25.616Z"
   },
   {
    "duration": 8,
    "start_time": "2023-04-11T05:30:25.629Z"
   },
   {
    "duration": 7,
    "start_time": "2023-04-11T05:30:25.639Z"
   },
   {
    "duration": 11,
    "start_time": "2023-04-11T05:30:25.647Z"
   },
   {
    "duration": 13,
    "start_time": "2023-04-11T05:30:25.685Z"
   },
   {
    "duration": 3,
    "start_time": "2023-04-11T05:30:25.700Z"
   },
   {
    "duration": 6,
    "start_time": "2023-04-11T05:30:25.705Z"
   },
   {
    "duration": 11,
    "start_time": "2023-04-11T05:30:25.713Z"
   },
   {
    "duration": 8,
    "start_time": "2023-04-11T05:30:25.725Z"
   },
   {
    "duration": 14,
    "start_time": "2023-04-11T05:30:25.735Z"
   },
   {
    "duration": 21,
    "start_time": "2023-04-11T05:30:25.787Z"
   },
   {
    "duration": 17,
    "start_time": "2023-04-11T05:30:25.809Z"
   },
   {
    "duration": 14,
    "start_time": "2023-04-11T05:30:25.828Z"
   },
   {
    "duration": 5730,
    "start_time": "2023-04-11T21:04:31.549Z"
   },
   {
    "duration": 381,
    "start_time": "2023-04-11T21:04:37.281Z"
   },
   {
    "duration": 366,
    "start_time": "2023-04-11T21:04:37.664Z"
   },
   {
    "duration": 502,
    "start_time": "2023-04-11T21:04:38.032Z"
   },
   {
    "duration": 54,
    "start_time": "2023-04-11T21:04:38.536Z"
   },
   {
    "duration": 14,
    "start_time": "2023-04-11T21:04:38.591Z"
   },
   {
    "duration": 2,
    "start_time": "2023-04-11T21:04:38.607Z"
   },
   {
    "duration": 9,
    "start_time": "2023-04-11T21:04:38.610Z"
   },
   {
    "duration": 3,
    "start_time": "2023-04-11T21:04:38.620Z"
   },
   {
    "duration": 3,
    "start_time": "2023-04-11T21:04:38.626Z"
   },
   {
    "duration": 128,
    "start_time": "2023-04-11T21:04:38.630Z"
   },
   {
    "duration": 12,
    "start_time": "2023-04-11T21:04:38.760Z"
   },
   {
    "duration": 14,
    "start_time": "2023-04-11T21:04:38.774Z"
   },
   {
    "duration": 546,
    "start_time": "2023-04-11T21:04:38.789Z"
   },
   {
    "duration": 18,
    "start_time": "2023-04-11T21:04:39.337Z"
   },
   {
    "duration": 16,
    "start_time": "2023-04-11T21:04:39.356Z"
   },
   {
    "duration": 10,
    "start_time": "2023-04-11T21:04:39.373Z"
   },
   {
    "duration": 13,
    "start_time": "2023-04-11T21:04:39.384Z"
   },
   {
    "duration": 18,
    "start_time": "2023-04-11T21:04:39.398Z"
   },
   {
    "duration": 4,
    "start_time": "2023-04-11T21:04:39.418Z"
   },
   {
    "duration": 12,
    "start_time": "2023-04-11T21:04:39.423Z"
   },
   {
    "duration": 7,
    "start_time": "2023-04-11T21:04:39.437Z"
   },
   {
    "duration": 14,
    "start_time": "2023-04-11T21:04:39.445Z"
   },
   {
    "duration": 6,
    "start_time": "2023-04-11T21:04:39.460Z"
   },
   {
    "duration": 4,
    "start_time": "2023-04-11T21:04:39.467Z"
   },
   {
    "duration": 4,
    "start_time": "2023-04-11T21:04:39.473Z"
   },
   {
    "duration": 6,
    "start_time": "2023-04-11T21:04:39.478Z"
   },
   {
    "duration": 27900,
    "start_time": "2023-04-11T21:04:39.487Z"
   },
   {
    "duration": 3,
    "start_time": "2023-04-11T21:05:07.388Z"
   },
   {
    "duration": 14,
    "start_time": "2023-04-11T21:05:07.392Z"
   },
   {
    "duration": 7,
    "start_time": "2023-04-11T21:05:07.408Z"
   },
   {
    "duration": 2308,
    "start_time": "2023-04-11T21:05:39.265Z"
   },
   {
    "duration": 373,
    "start_time": "2023-04-11T21:05:41.575Z"
   },
   {
    "duration": 216,
    "start_time": "2023-04-11T21:05:41.950Z"
   },
   {
    "duration": 459,
    "start_time": "2023-04-11T21:05:42.168Z"
   },
   {
    "duration": 50,
    "start_time": "2023-04-11T21:05:42.630Z"
   },
   {
    "duration": 13,
    "start_time": "2023-04-11T21:05:42.681Z"
   },
   {
    "duration": 2,
    "start_time": "2023-04-11T21:05:42.696Z"
   },
   {
    "duration": 13,
    "start_time": "2023-04-11T21:05:42.699Z"
   },
   {
    "duration": 30,
    "start_time": "2023-04-11T21:05:42.713Z"
   },
   {
    "duration": 15,
    "start_time": "2023-04-11T21:05:42.745Z"
   },
   {
    "duration": 32,
    "start_time": "2023-04-11T21:05:42.761Z"
   },
   {
    "duration": 12,
    "start_time": "2023-04-11T21:05:42.794Z"
   },
   {
    "duration": 10,
    "start_time": "2023-04-11T21:05:42.807Z"
   },
   {
    "duration": 562,
    "start_time": "2023-04-11T21:05:42.818Z"
   },
   {
    "duration": 19,
    "start_time": "2023-04-11T21:05:43.381Z"
   },
   {
    "duration": 11,
    "start_time": "2023-04-11T21:05:43.402Z"
   },
   {
    "duration": 14,
    "start_time": "2023-04-11T21:05:43.415Z"
   },
   {
    "duration": 16,
    "start_time": "2023-04-11T21:05:43.430Z"
   },
   {
    "duration": 9,
    "start_time": "2023-04-11T21:05:43.447Z"
   },
   {
    "duration": 4,
    "start_time": "2023-04-11T21:05:43.458Z"
   },
   {
    "duration": 5,
    "start_time": "2023-04-11T21:05:43.463Z"
   },
   {
    "duration": 5,
    "start_time": "2023-04-11T21:05:43.469Z"
   },
   {
    "duration": 6,
    "start_time": "2023-04-11T21:05:43.475Z"
   },
   {
    "duration": 11,
    "start_time": "2023-04-11T21:05:43.483Z"
   },
   {
    "duration": 5,
    "start_time": "2023-04-11T21:05:43.495Z"
   },
   {
    "duration": 7,
    "start_time": "2023-04-11T21:05:43.501Z"
   },
   {
    "duration": 7,
    "start_time": "2023-04-11T21:05:43.509Z"
   },
   {
    "duration": 27822,
    "start_time": "2023-04-11T21:05:43.519Z"
   },
   {
    "duration": 2,
    "start_time": "2023-04-11T21:06:11.372Z"
   },
   {
    "duration": 19,
    "start_time": "2023-04-11T21:06:11.376Z"
   },
   {
    "duration": 11,
    "start_time": "2023-04-11T21:06:11.397Z"
   },
   {
    "duration": 142545,
    "start_time": "2023-04-11T21:06:11.409Z"
   },
   {
    "duration": 56,
    "start_time": "2023-04-11T21:08:33.955Z"
   },
   {
    "duration": 10,
    "start_time": "2023-04-11T21:08:34.012Z"
   },
   {
    "duration": 93459,
    "start_time": "2023-04-11T21:08:34.024Z"
   },
   {
    "duration": 52,
    "start_time": "2023-04-11T21:10:07.485Z"
   },
   {
    "duration": 3,
    "start_time": "2023-04-11T21:10:07.539Z"
   },
   {
    "duration": 19,
    "start_time": "2023-04-11T21:10:07.544Z"
   },
   {
    "duration": 20,
    "start_time": "2023-04-11T21:10:07.565Z"
   },
   {
    "duration": 7,
    "start_time": "2023-04-11T21:10:07.587Z"
   },
   {
    "duration": 11,
    "start_time": "2023-04-11T21:10:07.595Z"
   },
   {
    "duration": 6,
    "start_time": "2023-04-11T21:10:07.607Z"
   },
   {
    "duration": 15,
    "start_time": "2023-04-11T21:10:07.614Z"
   },
   {
    "duration": 3,
    "start_time": "2023-04-11T21:10:07.630Z"
   },
   {
    "duration": 41,
    "start_time": "2023-04-11T21:10:07.634Z"
   },
   {
    "duration": 7,
    "start_time": "2023-04-11T21:10:07.677Z"
   },
   {
    "duration": 6,
    "start_time": "2023-04-11T21:10:07.686Z"
   },
   {
    "duration": 8,
    "start_time": "2023-04-11T21:10:07.693Z"
   },
   {
    "duration": 5,
    "start_time": "2023-04-11T21:10:07.703Z"
   },
   {
    "duration": 13,
    "start_time": "2023-04-11T21:10:07.709Z"
   },
   {
    "duration": 10,
    "start_time": "2023-04-11T21:10:07.723Z"
   },
   {
    "duration": 8,
    "start_time": "2023-04-11T21:10:07.734Z"
   },
   {
    "duration": 12,
    "start_time": "2023-04-11T21:10:07.743Z"
   },
   {
    "duration": 15,
    "start_time": "2023-04-11T21:10:07.757Z"
   },
   {
    "duration": 6,
    "start_time": "2023-04-11T21:10:07.773Z"
   },
   {
    "duration": 11,
    "start_time": "2023-04-11T21:10:07.780Z"
   },
   {
    "duration": 7,
    "start_time": "2023-04-11T21:10:07.792Z"
   },
   {
    "duration": 15,
    "start_time": "2023-04-11T21:10:07.800Z"
   },
   {
    "duration": 5,
    "start_time": "2023-04-11T21:10:07.816Z"
   },
   {
    "duration": 127,
    "start_time": "2023-04-11T21:10:07.822Z"
   },
   {
    "duration": 136,
    "start_time": "2023-04-11T21:10:07.950Z"
   },
   {
    "duration": 145,
    "start_time": "2023-04-11T21:10:08.088Z"
   },
   {
    "duration": 146,
    "start_time": "2023-04-11T21:10:08.235Z"
   }
  ],
  "kernelspec": {
   "display_name": "Python 3 (ipykernel)",
   "language": "python",
   "name": "python3"
  },
  "language_info": {
   "codemirror_mode": {
    "name": "ipython",
    "version": 3
   },
   "file_extension": ".py",
   "mimetype": "text/x-python",
   "name": "python",
   "nbconvert_exporter": "python",
   "pygments_lexer": "ipython3",
   "version": "3.11.2"
  },
  "toc": {
   "base_numbering": 1,
   "nav_menu": {},
   "number_sections": true,
   "sideBar": true,
   "skip_h1_title": true,
   "title_cell": "Table of Contents",
   "title_sidebar": "Contents",
   "toc_cell": true,
   "toc_position": {},
   "toc_section_display": true,
   "toc_window_display": true
  }
 },
 "nbformat": 4,
 "nbformat_minor": 4
}
