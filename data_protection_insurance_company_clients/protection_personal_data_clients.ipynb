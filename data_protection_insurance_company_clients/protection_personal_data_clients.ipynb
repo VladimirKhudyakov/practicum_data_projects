{
 "cells": [
  {
   "cell_type": "markdown",
   "metadata": {
    "toc": true
   },
   "source": [
    "<h1>Содержание<span class=\"tocSkip\"></span></h1>\n",
    "<div class=\"toc\"><ul class=\"toc-item\"><li><span><a href=\"#Предобработка-данных\" data-toc-modified-id=\"Предобработка-данных-1\"><span class=\"toc-item-num\">1&nbsp;&nbsp;</span>Предобработка данных</a></span><ul class=\"toc-item\"><li><span><a href=\"#Стиль-заголовков\" data-toc-modified-id=\"Стиль-заголовков-1.1\"><span class=\"toc-item-num\">1.1&nbsp;&nbsp;</span>Стиль заголовков</a></span></li><li><span><a href=\"#Изменение-типов-данных\" data-toc-modified-id=\"Изменение-типов-данных-1.2\"><span class=\"toc-item-num\">1.2&nbsp;&nbsp;</span>Изменение типов данных</a></span></li><li><span><a href=\"#Обработка-выбросов\" data-toc-modified-id=\"Обработка-выбросов-1.3\"><span class=\"toc-item-num\">1.3&nbsp;&nbsp;</span>Обработка выбросов</a></span></li><li><span><a href=\"#Обработка-дубликатов\" data-toc-modified-id=\"Обработка-дубликатов-1.4\"><span class=\"toc-item-num\">1.4&nbsp;&nbsp;</span>Обработка дубликатов</a></span></li></ul></li><li><span><a href=\"#Подготовка-данных-для-исследования\" data-toc-modified-id=\"Подготовка-данных-для-исследования-2\"><span class=\"toc-item-num\">2&nbsp;&nbsp;</span>Подготовка данных для исследования</a></span></li><li><span><a href=\"#Простое-преобразование-признаков-\" data-toc-modified-id=\"Простое-преобразование-признаков--3\"><span class=\"toc-item-num\">3&nbsp;&nbsp;</span>Простое преобразование признаков <a id=\"simple_feature_conversion\"></a></a></span></li><li><span><a href=\"#Алгоритм-преобразования-\" data-toc-modified-id=\"Алгоритм-преобразования--4\"><span class=\"toc-item-num\">4&nbsp;&nbsp;</span>Алгоритм преобразования <a id=\"conversion_algorithm\"></a></a></span></li><li><span><a href=\"#Тестирование-алгоритма\" data-toc-modified-id=\"Тестирование-алгоритма-5\"><span class=\"toc-item-num\">5&nbsp;&nbsp;</span>Тестирование алгоритма</a></span></li><li><span><a href=\"#Итоги-проекта\" data-toc-modified-id=\"Итоги-проекта-6\"><span class=\"toc-item-num\">6&nbsp;&nbsp;</span>Итоги проекта</a></span></li></div>"
   ]
  },
  {
   "cell_type": "markdown",
   "metadata": {},
   "source": [
    "# Защита персональных данных клиентов"
   ]
  },
  {
   "cell_type": "markdown",
   "metadata": {},
   "source": [
    "Страховой компании необходимо разработать такой метод преобразования данных, который позволит защитить данные клиентов.\n",
    "\n",
    "**Цель исследования**\n",
    "  1. Необходимо разработать такой метод преобразования данных, чтобы по ним было сложно восстановить персональную информацию.\n",
    "  2. Обосновать корректность его работы.\n",
    "  3. Требуется, чтобы метод, при преобразовании данных, не ухудшал качество моделей машинного обучения. \n",
    "  4. Необходимо использовать матричные операции для метода преобразования данных. \n",
    "  5. Необходимо использовать метрику R2, при тестировании качества модели модели машинного обучения, до и после преобразованния данных.\n",
    "\n",
    "\n",
    "**Исследование пройдёт в шесть этапов:**\n",
    " 1. Обзор данных;\n",
    " 2. Предобработка данных;\n",
    " 3. Подготовка данных для исследования;\n",
    " 4. Простое преобразование признаков;\n",
    " 5. Алгоритм преобразования;\n",
    " 6. Тестирование алгоритма."
   ]
  },
  {
   "cell_type": "markdown",
   "metadata": {},
   "source": [
    "**1. Импортируем библиотеку pandas и другие. Считаем данные из csv-файла в датафрейм и сохраним в переменную `df`.**"
   ]
  },
  {
   "cell_type": "code",
   "execution_count": null,
   "metadata": {},
   "outputs": [],
   "source": [
    "# обновим библиотеку 'pandas' до последней версии\n",
    "!pip install --upgrade pandas\n",
    "\n",
    "# обновим библиотеку 'scikit-learn' до последней версии\n",
    "!pip install --upgrade scikit-learn\n",
    "\n",
    "# обновим библиотеку 'matplotlib' до последней версии\n",
    "!pip install --upgrade matplotlib\n",
    "\n",
    "# обновим библиотеку 'seaborn' до последней версии\n",
    "!pip install --upgrade seaborn"
   ]
  },
  {
   "cell_type": "code",
   "execution_count": 1,
   "metadata": {},
   "outputs": [
    {
     "name": "stdout",
     "output_type": "stream",
     "text": [
      "\u001b[33mWARNING: Ignoring invalid distribution -eaborn (/opt/conda/lib/python3.9/site-packages)\u001b[0m\n",
      "\u001b[33mWARNING: Ignoring invalid distribution -eaborn (/opt/conda/lib/python3.9/site-packages)\u001b[0m\n",
      "Requirement already satisfied: pandas in /opt/conda/lib/python3.9/site-packages (2.0.2)\n",
      "Requirement already satisfied: python-dateutil>=2.8.2 in /opt/conda/lib/python3.9/site-packages (from pandas) (2.8.2)\n",
      "Requirement already satisfied: pytz>=2020.1 in /opt/conda/lib/python3.9/site-packages (from pandas) (2021.1)\n",
      "Requirement already satisfied: numpy>=1.20.3 in /opt/conda/lib/python3.9/site-packages (from pandas) (1.21.1)\n",
      "Requirement already satisfied: tzdata>=2022.1 in /opt/conda/lib/python3.9/site-packages (from pandas) (2023.3)\n",
      "Requirement already satisfied: six>=1.5 in /opt/conda/lib/python3.9/site-packages (from python-dateutil>=2.8.2->pandas) (1.16.0)\n",
      "\u001b[33mWARNING: Ignoring invalid distribution -eaborn (/opt/conda/lib/python3.9/site-packages)\u001b[0m\n",
      "\u001b[33mWARNING: Ignoring invalid distribution -eaborn (/opt/conda/lib/python3.9/site-packages)\u001b[0m\n",
      "\u001b[33mWARNING: Ignoring invalid distribution -eaborn (/opt/conda/lib/python3.9/site-packages)\u001b[0m\n",
      "\u001b[33mWARNING: Ignoring invalid distribution -eaborn (/opt/conda/lib/python3.9/site-packages)\u001b[0m\n",
      "\u001b[33mWARNING: Ignoring invalid distribution -eaborn (/opt/conda/lib/python3.9/site-packages)\u001b[0m\n",
      "\u001b[33mWARNING: Ignoring invalid distribution -eaborn (/opt/conda/lib/python3.9/site-packages)\u001b[0m\n",
      "Requirement already satisfied: scikit-learn in /opt/conda/lib/python3.9/site-packages (1.2.2)\n",
      "Requirement already satisfied: scipy>=1.3.2 in /opt/conda/lib/python3.9/site-packages (from scikit-learn) (1.9.1)\n",
      "Requirement already satisfied: numpy>=1.17.3 in /opt/conda/lib/python3.9/site-packages (from scikit-learn) (1.21.1)\n",
      "Requirement already satisfied: threadpoolctl>=2.0.0 in /opt/conda/lib/python3.9/site-packages (from scikit-learn) (3.1.0)\n",
      "Requirement already satisfied: joblib>=1.1.1 in /opt/conda/lib/python3.9/site-packages (from scikit-learn) (1.2.0)\n",
      "\u001b[33mWARNING: Ignoring invalid distribution -eaborn (/opt/conda/lib/python3.9/site-packages)\u001b[0m\n",
      "\u001b[33mWARNING: Ignoring invalid distribution -eaborn (/opt/conda/lib/python3.9/site-packages)\u001b[0m\n",
      "\u001b[33mWARNING: Ignoring invalid distribution -eaborn (/opt/conda/lib/python3.9/site-packages)\u001b[0m\n",
      "\u001b[33mWARNING: Ignoring invalid distribution -eaborn (/opt/conda/lib/python3.9/site-packages)\u001b[0m\n",
      "\u001b[33mWARNING: Ignoring invalid distribution -eaborn (/opt/conda/lib/python3.9/site-packages)\u001b[0m\n",
      "\u001b[33mWARNING: Ignoring invalid distribution -eaborn (/opt/conda/lib/python3.9/site-packages)\u001b[0m\n",
      "Requirement already satisfied: matplotlib in /opt/conda/lib/python3.9/site-packages (3.7.1)\n",
      "Requirement already satisfied: cycler>=0.10 in /opt/conda/lib/python3.9/site-packages (from matplotlib) (0.11.0)\n",
      "Requirement already satisfied: contourpy>=1.0.1 in /opt/conda/lib/python3.9/site-packages (from matplotlib) (1.1.0)\n",
      "Requirement already satisfied: fonttools>=4.22.0 in /opt/conda/lib/python3.9/site-packages (from matplotlib) (4.40.0)\n",
      "Requirement already satisfied: kiwisolver>=1.0.1 in /opt/conda/lib/python3.9/site-packages (from matplotlib) (1.4.4)\n",
      "Requirement already satisfied: python-dateutil>=2.7 in /opt/conda/lib/python3.9/site-packages (from matplotlib) (2.8.2)\n",
      "Requirement already satisfied: pyparsing>=2.3.1 in /opt/conda/lib/python3.9/site-packages (from matplotlib) (2.4.7)\n",
      "Requirement already satisfied: importlib-resources>=3.2.0 in /opt/conda/lib/python3.9/site-packages (from matplotlib) (5.12.0)\n",
      "Requirement already satisfied: pillow>=6.2.0 in /opt/conda/lib/python3.9/site-packages (from matplotlib) (8.4.0)\n",
      "Requirement already satisfied: numpy>=1.20 in /opt/conda/lib/python3.9/site-packages (from matplotlib) (1.21.1)\n",
      "Requirement already satisfied: packaging>=20.0 in /opt/conda/lib/python3.9/site-packages (from matplotlib) (21.3)\n",
      "Requirement already satisfied: zipp>=3.1.0 in /opt/conda/lib/python3.9/site-packages (from importlib-resources>=3.2.0->matplotlib) (3.5.0)\n",
      "Requirement already satisfied: six>=1.5 in /opt/conda/lib/python3.9/site-packages (from python-dateutil>=2.7->matplotlib) (1.16.0)\n",
      "\u001b[33mWARNING: Ignoring invalid distribution -eaborn (/opt/conda/lib/python3.9/site-packages)\u001b[0m\n",
      "\u001b[33mWARNING: Ignoring invalid distribution -eaborn (/opt/conda/lib/python3.9/site-packages)\u001b[0m\n",
      "\u001b[33mWARNING: Ignoring invalid distribution -eaborn (/opt/conda/lib/python3.9/site-packages)\u001b[0m\n",
      "\u001b[33mWARNING: Ignoring invalid distribution -eaborn (/opt/conda/lib/python3.9/site-packages)\u001b[0m\n",
      "\u001b[33mWARNING: Ignoring invalid distribution -eaborn (/opt/conda/lib/python3.9/site-packages)\u001b[0m\n",
      "\u001b[33mWARNING: Ignoring invalid distribution -eaborn (/opt/conda/lib/python3.9/site-packages)\u001b[0m\n",
      "Requirement already satisfied: seaborn in /opt/conda/lib/python3.9/site-packages (0.12.2)\n",
      "Requirement already satisfied: pandas>=0.25 in /opt/conda/lib/python3.9/site-packages (from seaborn) (2.0.2)\n",
      "Requirement already satisfied: matplotlib!=3.6.1,>=3.1 in /opt/conda/lib/python3.9/site-packages (from seaborn) (3.7.1)\n",
      "Requirement already satisfied: numpy!=1.24.0,>=1.17 in /opt/conda/lib/python3.9/site-packages (from seaborn) (1.21.1)\n",
      "Requirement already satisfied: cycler>=0.10 in /opt/conda/lib/python3.9/site-packages (from matplotlib!=3.6.1,>=3.1->seaborn) (0.11.0)\n",
      "Requirement already satisfied: pillow>=6.2.0 in /opt/conda/lib/python3.9/site-packages (from matplotlib!=3.6.1,>=3.1->seaborn) (8.4.0)\n",
      "Requirement already satisfied: python-dateutil>=2.7 in /opt/conda/lib/python3.9/site-packages (from matplotlib!=3.6.1,>=3.1->seaborn) (2.8.2)\n",
      "Requirement already satisfied: importlib-resources>=3.2.0 in /opt/conda/lib/python3.9/site-packages (from matplotlib!=3.6.1,>=3.1->seaborn) (5.12.0)\n",
      "Requirement already satisfied: contourpy>=1.0.1 in /opt/conda/lib/python3.9/site-packages (from matplotlib!=3.6.1,>=3.1->seaborn) (1.1.0)\n",
      "Requirement already satisfied: packaging>=20.0 in /opt/conda/lib/python3.9/site-packages (from matplotlib!=3.6.1,>=3.1->seaborn) (21.3)\n",
      "Requirement already satisfied: kiwisolver>=1.0.1 in /opt/conda/lib/python3.9/site-packages (from matplotlib!=3.6.1,>=3.1->seaborn) (1.4.4)\n",
      "Requirement already satisfied: fonttools>=4.22.0 in /opt/conda/lib/python3.9/site-packages (from matplotlib!=3.6.1,>=3.1->seaborn) (4.40.0)\n",
      "Requirement already satisfied: pyparsing>=2.3.1 in /opt/conda/lib/python3.9/site-packages (from matplotlib!=3.6.1,>=3.1->seaborn) (2.4.7)\n",
      "Requirement already satisfied: zipp>=3.1.0 in /opt/conda/lib/python3.9/site-packages (from importlib-resources>=3.2.0->matplotlib!=3.6.1,>=3.1->seaborn) (3.5.0)\n",
      "Requirement already satisfied: pytz>=2020.1 in /opt/conda/lib/python3.9/site-packages (from pandas>=0.25->seaborn) (2021.1)\n",
      "Requirement already satisfied: tzdata>=2022.1 in /opt/conda/lib/python3.9/site-packages (from pandas>=0.25->seaborn) (2023.3)\n",
      "Requirement already satisfied: six>=1.5 in /opt/conda/lib/python3.9/site-packages (from python-dateutil>=2.7->matplotlib!=3.6.1,>=3.1->seaborn) (1.16.0)\n",
      "\u001b[33mWARNING: Ignoring invalid distribution -eaborn (/opt/conda/lib/python3.9/site-packages)\u001b[0m\n",
      "\u001b[33mWARNING: Ignoring invalid distribution -eaborn (/opt/conda/lib/python3.9/site-packages)\u001b[0m\n",
      "\u001b[33mWARNING: Ignoring invalid distribution -eaborn (/opt/conda/lib/python3.9/site-packages)\u001b[0m\n",
      "\u001b[33mWARNING: Ignoring invalid distribution -eaborn (/opt/conda/lib/python3.9/site-packages)\u001b[0m\n"
     ]
    }
   ],
   "source": [
    "# импорт библиотеки 'pandas'\n",
    "import pandas as pd\n",
    "\n",
    "# импорт библиотеки 'numpy'\n",
    "import numpy as np\n",
    "\n",
    "# импортируем библиотеку 'matplotlib.pyplot' для построения графиков\n",
    "import matplotlib.pyplot as plt\n",
    "\n",
    "# импортируем библиотеку 'matplotlib.pyplot' для построения графиков\n",
    "import seaborn as sns\n",
    "\n",
    "# импорт библиотеки для модели \"линейной регрессии\"\n",
    "from sklearn.linear_model import LinearRegression\n",
    "\n",
    "# импорт библиотеки для оценки качества модели\n",
    "from sklearn.metrics import (mean_squared_error,\n",
    "                             mean_absolute_error,\n",
    "                             mean_squared_log_error,\n",
    "                             r2_score,\n",
    "                             mean_absolute_percentage_error,\n",
    "                             make_scorer)"
   ]
  },
  {
   "cell_type": "code",
   "execution_count": 2,
   "metadata": {},
   "outputs": [],
   "source": [
    "try:\n",
    "    # читаем данные из csv-файла и сохраняем их в виде датафрейма в 'df',\n",
    "    df = pd.read_csv('***')\n",
    "    \n",
    "except:\n",
    "    # в случае отсутствия csv-файла в локальном месторасположении, читаем его из облачного хранилища\n",
    "    # и сохраняем данные в виде датафрейма в 'df', \n",
    "    \n",
    "    df = pd.read_csv('***')"
   ]
  },
  {
   "cell_type": "markdown",
   "metadata": {},
   "source": [
    "**2. Выведем первые пять строчек датафрейма `df` на экран.**"
   ]
  },
  {
   "cell_type": "code",
   "execution_count": 3,
   "metadata": {},
   "outputs": [
    {
     "data": {
      "text/html": [
       "<div>\n",
       "<style scoped>\n",
       "    .dataframe tbody tr th:only-of-type {\n",
       "        vertical-align: middle;\n",
       "    }\n",
       "\n",
       "    .dataframe tbody tr th {\n",
       "        vertical-align: top;\n",
       "    }\n",
       "\n",
       "    .dataframe thead th {\n",
       "        text-align: right;\n",
       "    }\n",
       "</style>\n",
       "<table border=\"1\" class=\"dataframe\">\n",
       "  <thead>\n",
       "    <tr style=\"text-align: right;\">\n",
       "      <th></th>\n",
       "      <th>Пол</th>\n",
       "      <th>Возраст</th>\n",
       "      <th>Зарплата</th>\n",
       "      <th>Члены семьи</th>\n",
       "      <th>Страховые выплаты</th>\n",
       "    </tr>\n",
       "  </thead>\n",
       "  <tbody>\n",
       "    <tr>\n",
       "      <th>0</th>\n",
       "      <td>1</td>\n",
       "      <td>41.0</td>\n",
       "      <td>49600.0</td>\n",
       "      <td>1</td>\n",
       "      <td>0</td>\n",
       "    </tr>\n",
       "    <tr>\n",
       "      <th>1</th>\n",
       "      <td>0</td>\n",
       "      <td>46.0</td>\n",
       "      <td>38000.0</td>\n",
       "      <td>1</td>\n",
       "      <td>1</td>\n",
       "    </tr>\n",
       "    <tr>\n",
       "      <th>2</th>\n",
       "      <td>0</td>\n",
       "      <td>29.0</td>\n",
       "      <td>21000.0</td>\n",
       "      <td>0</td>\n",
       "      <td>0</td>\n",
       "    </tr>\n",
       "    <tr>\n",
       "      <th>3</th>\n",
       "      <td>0</td>\n",
       "      <td>21.0</td>\n",
       "      <td>41700.0</td>\n",
       "      <td>2</td>\n",
       "      <td>0</td>\n",
       "    </tr>\n",
       "    <tr>\n",
       "      <th>4</th>\n",
       "      <td>1</td>\n",
       "      <td>28.0</td>\n",
       "      <td>26100.0</td>\n",
       "      <td>0</td>\n",
       "      <td>0</td>\n",
       "    </tr>\n",
       "  </tbody>\n",
       "</table>\n",
       "</div>"
      ],
      "text/plain": [
       "   Пол  Возраст  Зарплата  Члены семьи  Страховые выплаты\n",
       "0    1     41.0   49600.0            1                  0\n",
       "1    0     46.0   38000.0            1                  1\n",
       "2    0     29.0   21000.0            0                  0\n",
       "3    0     21.0   41700.0            2                  0\n",
       "4    1     28.0   26100.0            0                  0"
      ]
     },
     "execution_count": 3,
     "metadata": {},
     "output_type": "execute_result"
    }
   ],
   "source": [
    "# посмотрим первых пять строк датафрейма 'df\n",
    "df.head()"
   ]
  },
  {
   "cell_type": "markdown",
   "metadata": {},
   "source": [
    "**3. Выведем основную информацию о датафрейме с помощью метода `info()`.**"
   ]
  },
  {
   "cell_type": "code",
   "execution_count": 4,
   "metadata": {},
   "outputs": [
    {
     "name": "stdout",
     "output_type": "stream",
     "text": [
      "<class 'pandas.core.frame.DataFrame'>\n",
      "RangeIndex: 5000 entries, 0 to 4999\n",
      "Data columns (total 5 columns):\n",
      " #   Column             Non-Null Count  Dtype  \n",
      "---  ------             --------------  -----  \n",
      " 0   Пол                5000 non-null   int64  \n",
      " 1   Возраст            5000 non-null   float64\n",
      " 2   Зарплата           5000 non-null   float64\n",
      " 3   Члены семьи        5000 non-null   int64  \n",
      " 4   Страховые выплаты  5000 non-null   int64  \n",
      "dtypes: float64(2), int64(3)\n",
      "memory usage: 195.4 KB\n"
     ]
    }
   ],
   "source": [
    "# получение общей информации о данных в датафрейме 'df'\n",
    "df.info()"
   ]
  },
  {
   "cell_type": "markdown",
   "metadata": {},
   "source": [
    "Итак, в таблице 14 столбцов. Типы данных в столбцах — `float64`, `int64` и `object`.\n",
    "\n",
    "* `Пол` — пол застрахованного,\n",
    "* `Возраст` — возраст застрахованного,\n",
    "* `Зарплата` — зарплата застрахованного,\n",
    "* `Члены семьи` — количество членов семьи застрахованного,\n",
    "* `Страховые выплаты` — количество страховых выплат клиенту (застрахованному) за последние 5 лет.\n",
    "\n",
    "Количество значений в столбцах одинаковое и соответствует общему количеству записей в таблице по индексу. Сдедовательно, отсутствуют пропуски. Столбцы: `Возраст`, `Зарплата`, содержат неподходящие типы данных. В названиях всех колонок (столбцов) таблицы, есть нарушение стиля. "
   ]
  },
  {
   "cell_type": "markdown",
   "metadata": {},
   "source": [
    "**4. Построим общую гистограмму для всех числовых столбцов таблицы в датафрейме `df`.**"
   ]
  },
  {
   "cell_type": "code",
   "execution_count": 5,
   "metadata": {},
   "outputs": [
    {
     "data": {
      "image/png": "[encoded data removed]",
      "text/plain": [
       "<Figure size 1080x1440 with 6 Axes>"
      ]
     },
     "metadata": {
      "needs_background": "light"
     },
     "output_type": "display_data"
    }
   ],
   "source": [
    "# с помощью функции 'hist' построим общую гистограмму\n",
    "df.hist(figsize=(15, 20), bins= 100);"
   ]
  },
  {
   "cell_type": "markdown",
   "metadata": {},
   "source": [
    "**5. Посмотрим статистическую информацию по каждому числовому столбцу таблицы, в датафрейме `df`.**"
   ]
  },
  {
   "cell_type": "code",
   "execution_count": 6,
   "metadata": {},
   "outputs": [
    {
     "data": {
      "text/html": [
       "<div>\n",
       "<style scoped>\n",
       "    .dataframe tbody tr th:only-of-type {\n",
       "        vertical-align: middle;\n",
       "    }\n",
       "\n",
       "    .dataframe tbody tr th {\n",
       "        vertical-align: top;\n",
       "    }\n",
       "\n",
       "    .dataframe thead th {\n",
       "        text-align: right;\n",
       "    }\n",
       "</style>\n",
       "<table border=\"1\" class=\"dataframe\">\n",
       "  <thead>\n",
       "    <tr style=\"text-align: right;\">\n",
       "      <th></th>\n",
       "      <th>Пол</th>\n",
       "      <th>Возраст</th>\n",
       "      <th>Зарплата</th>\n",
       "      <th>Члены семьи</th>\n",
       "      <th>Страховые выплаты</th>\n",
       "    </tr>\n",
       "  </thead>\n",
       "  <tbody>\n",
       "    <tr>\n",
       "      <th>count</th>\n",
       "      <td>5000.000000</td>\n",
       "      <td>5000.000000</td>\n",
       "      <td>5000.000000</td>\n",
       "      <td>5000.000000</td>\n",
       "      <td>5000.000000</td>\n",
       "    </tr>\n",
       "    <tr>\n",
       "      <th>mean</th>\n",
       "      <td>0.499000</td>\n",
       "      <td>30.952800</td>\n",
       "      <td>39916.360000</td>\n",
       "      <td>1.194200</td>\n",
       "      <td>0.148000</td>\n",
       "    </tr>\n",
       "    <tr>\n",
       "      <th>std</th>\n",
       "      <td>0.500049</td>\n",
       "      <td>8.440807</td>\n",
       "      <td>9900.083569</td>\n",
       "      <td>1.091387</td>\n",
       "      <td>0.463183</td>\n",
       "    </tr>\n",
       "    <tr>\n",
       "      <th>min</th>\n",
       "      <td>0.000000</td>\n",
       "      <td>18.000000</td>\n",
       "      <td>5300.000000</td>\n",
       "      <td>0.000000</td>\n",
       "      <td>0.000000</td>\n",
       "    </tr>\n",
       "    <tr>\n",
       "      <th>25%</th>\n",
       "      <td>0.000000</td>\n",
       "      <td>24.000000</td>\n",
       "      <td>33300.000000</td>\n",
       "      <td>0.000000</td>\n",
       "      <td>0.000000</td>\n",
       "    </tr>\n",
       "    <tr>\n",
       "      <th>50%</th>\n",
       "      <td>0.000000</td>\n",
       "      <td>30.000000</td>\n",
       "      <td>40200.000000</td>\n",
       "      <td>1.000000</td>\n",
       "      <td>0.000000</td>\n",
       "    </tr>\n",
       "    <tr>\n",
       "      <th>75%</th>\n",
       "      <td>1.000000</td>\n",
       "      <td>37.000000</td>\n",
       "      <td>46600.000000</td>\n",
       "      <td>2.000000</td>\n",
       "      <td>0.000000</td>\n",
       "    </tr>\n",
       "    <tr>\n",
       "      <th>max</th>\n",
       "      <td>1.000000</td>\n",
       "      <td>65.000000</td>\n",
       "      <td>79000.000000</td>\n",
       "      <td>6.000000</td>\n",
       "      <td>5.000000</td>\n",
       "    </tr>\n",
       "  </tbody>\n",
       "</table>\n",
       "</div>"
      ],
      "text/plain": [
       "               Пол      Возраст      Зарплата  Члены семьи  Страховые выплаты\n",
       "count  5000.000000  5000.000000   5000.000000  5000.000000        5000.000000\n",
       "mean      0.499000    30.952800  39916.360000     1.194200           0.148000\n",
       "std       0.500049     8.440807   9900.083569     1.091387           0.463183\n",
       "min       0.000000    18.000000   5300.000000     0.000000           0.000000\n",
       "25%       0.000000    24.000000  33300.000000     0.000000           0.000000\n",
       "50%       0.000000    30.000000  40200.000000     1.000000           0.000000\n",
       "75%       1.000000    37.000000  46600.000000     2.000000           0.000000\n",
       "max       1.000000    65.000000  79000.000000     6.000000           5.000000"
      ]
     },
     "execution_count": 6,
     "metadata": {},
     "output_type": "execute_result"
    }
   ],
   "source": [
    "# выведем статистическую информацию\n",
    "df.describe()"
   ]
  },
  {
   "cell_type": "markdown",
   "metadata": {},
   "source": [
    "**6. Создадим глобальную переменную для хранения размера исходного датасета.**"
   ]
  },
  {
   "cell_type": "code",
   "execution_count": 7,
   "metadata": {},
   "outputs": [],
   "source": [
    "DF_SOURCE_SIZE = df.shape[0]"
   ]
  },
  {
   "cell_type": "markdown",
   "metadata": {},
   "source": [
    "**Выводы**\n",
    "\n",
    "Предварительно можно утверждать, что данных достаточно для исследования. Отсутствуют пропуски. Но, возможно, есть аномальные значения (артефакты), дубликаты (явные/неявные) и выбросы в данных. Столбцы: `Возраст`, `Зарплата`, содержат неподходящий тип данных. В названиях всех колонок (столбцов) таблицы, есть нарушение стиля.\n",
    "\n",
    "Чтобы двигаться дальше, нужно устранить проблемы в данных."
   ]
  },
  {
   "cell_type": "markdown",
   "metadata": {},
   "source": [
    "## Предобработка данных\n",
    "\n",
    "Проверим данные на артефакты (аномалии), дубликаты (явные/неявные), пропуски, выбросы и, при нахождении, исправим. Проверим данные на несоответствие типу и, при нахождении, изменим тип."
   ]
  },
  {
   "cell_type": "markdown",
   "metadata": {},
   "source": [
    "### Стиль заголовков"
   ]
  },
  {
   "cell_type": "markdown",
   "metadata": {},
   "source": [
    "**6. Выведем на экран названия столбцов:**"
   ]
  },
  {
   "cell_type": "code",
   "execution_count": 8,
   "metadata": {},
   "outputs": [
    {
     "data": {
      "text/plain": [
       "['Пол', 'Возраст', 'Зарплата', 'Члены семьи', 'Страховые выплаты']"
      ]
     },
     "execution_count": 8,
     "metadata": {},
     "output_type": "execute_result"
    }
   ],
   "source": [
    "# выводим перечень названий столбцов таблицы в датафрейме 'data'\n",
    "df.columns.tolist()"
   ]
  },
  {
   "cell_type": "markdown",
   "metadata": {},
   "source": [
    "**7. Приведём названия столбцов таблицы в соответствии с хорошим стилем:**\n",
    " - несколько слов в названии записываются в «змеином_регистре»,\n",
    " - все символы строчные,\n",
    " - без пробелов,\n",
    " - название на латинице."
   ]
  },
  {
   "cell_type": "code",
   "execution_count": 9,
   "metadata": {},
   "outputs": [],
   "source": [
    "# переименуем название столбцов с некорректным стилем\n",
    "df = df.rename(columns={'Пол'               : 'gender',\n",
    "                        'Возраст'           : 'age',\n",
    "                        'Зарплата'          : 'salary',\n",
    "                        'Члены семьи'       : 'family_members',\n",
    "                        'Страховые выплаты' : 'insurance_payments'})"
   ]
  },
  {
   "cell_type": "code",
   "execution_count": 10,
   "metadata": {},
   "outputs": [
    {
     "data": {
      "text/plain": [
       "['gender', 'age', 'salary', 'family_members', 'insurance_payments']"
      ]
     },
     "execution_count": 10,
     "metadata": {},
     "output_type": "execute_result"
    }
   ],
   "source": [
    "# проверим результат переименования некорректных столбцов\n",
    "df.columns.tolist()"
   ]
  },
  {
   "cell_type": "markdown",
   "metadata": {},
   "source": [
    "### Изменение типов данных"
   ]
  },
  {
   "cell_type": "markdown",
   "metadata": {},
   "source": [
    "**8. Посмотрим существующие типы данных для всех столбцов.**"
   ]
  },
  {
   "cell_type": "code",
   "execution_count": 11,
   "metadata": {},
   "outputs": [
    {
     "data": {
      "text/plain": [
       "gender                  int64\n",
       "age                   float64\n",
       "salary                float64\n",
       "family_members          int64\n",
       "insurance_payments      int64\n",
       "dtype: object"
      ]
     },
     "execution_count": 11,
     "metadata": {},
     "output_type": "execute_result"
    }
   ],
   "source": [
    "# выводим список всех столбцов таблицы и их типы\n",
    "df.dtypes"
   ]
  },
  {
   "cell_type": "markdown",
   "metadata": {},
   "source": [
    "Изменение типов данных, требуется для:\n",
    "* `gender` с типа `int64` на тип `int32`;\n",
    "* `age` с типа `float64` на тип `int32`;\n",
    "* `salary` с типа `float64` на тип `int64`;\n",
    "* `family_members` с типа `int64` на тип `int32`;\n",
    "* `insurance_payments` с типа `int64` на тип `int32`."
   ]
  },
  {
   "cell_type": "markdown",
   "metadata": {},
   "source": [
    "**9. Заменим целочисленный тип данных `int64`,  в столбце `gender`,  на целочисленный тип данных `int32`.**"
   ]
  },
  {
   "cell_type": "code",
   "execution_count": 12,
   "metadata": {},
   "outputs": [],
   "source": [
    "df['gender'] = df['gender'].astype('int32')"
   ]
  },
  {
   "cell_type": "markdown",
   "metadata": {},
   "source": [
    "**10. Заменим вещественный тип данных `float64`,  в столбце `age`,  на целочисленный тип данных `int32`.**"
   ]
  },
  {
   "cell_type": "code",
   "execution_count": 13,
   "metadata": {},
   "outputs": [],
   "source": [
    "df['age'] = df['age'].astype('int32')"
   ]
  },
  {
   "cell_type": "markdown",
   "metadata": {},
   "source": [
    "**11. Заменим вещественный тип данных `float64`,  в столбце `salary`,  на целочисленный тип данных `int64`.**"
   ]
  },
  {
   "cell_type": "code",
   "execution_count": 14,
   "metadata": {},
   "outputs": [],
   "source": [
    "df['salary'] = df['salary'].astype('int64')"
   ]
  },
  {
   "cell_type": "markdown",
   "metadata": {},
   "source": [
    "**12. Заменим целочисленный тип данных `int64`,  в столбце `family_members`,  на целочисленный тип данных `int32`.**"
   ]
  },
  {
   "cell_type": "code",
   "execution_count": 15,
   "metadata": {},
   "outputs": [],
   "source": [
    "df['family_members'] = df['family_members'].astype('int32')"
   ]
  },
  {
   "cell_type": "markdown",
   "metadata": {},
   "source": [
    "**13. Заменим целочисленный тип данных `int64`,  в столбце `insurance_payments`,  на целочисленный тип данных `int32`.**"
   ]
  },
  {
   "cell_type": "code",
   "execution_count": 16,
   "metadata": {},
   "outputs": [],
   "source": [
    "df['insurance_payments'] = df['insurance_payments'].astype('int32')"
   ]
  },
  {
   "cell_type": "markdown",
   "metadata": {},
   "source": [
    "**14. Проверим результат преобразования типов.**"
   ]
  },
  {
   "cell_type": "code",
   "execution_count": 17,
   "metadata": {},
   "outputs": [
    {
     "data": {
      "text/plain": [
       "gender                int32\n",
       "age                   int32\n",
       "salary                int64\n",
       "family_members        int32\n",
       "insurance_payments    int32\n",
       "dtype: object"
      ]
     },
     "execution_count": 17,
     "metadata": {},
     "output_type": "execute_result"
    }
   ],
   "source": [
    "# выводим список всех столбцов таблицы и их типы\n",
    "df.dtypes"
   ]
  },
  {
   "cell_type": "markdown",
   "metadata": {},
   "source": [
    "### Обработка выбросов"
   ]
  },
  {
   "cell_type": "code",
   "execution_count": 18,
   "metadata": {},
   "outputs": [],
   "source": [
    "# функция вычисления левой и правой границы (левое и правое \"крайние\" значения данных) [на диаграмме размаха]\n",
    "# параметр 'feature' - признак (столбец из датафрейма)\n",
    "def left_right_extreme_data_boundary(feature):\n",
    "    \n",
    "    if(feature.empty):\n",
    "        return np.nan, np.nan\n",
    "    \n",
    "    # вычислим квантили q3 (75%-й) и q1 (25% -й)\n",
    "    q3, q1 = np.percentile(feature, [75,25])\n",
    "    \n",
    "    # вычислим межквантильный интервал iqr\n",
    "    iqr = q3 - q1\n",
    "\n",
    "    # рассчитаем левую и правую границу (левое и правое \"крайние\" значения данных)\n",
    "    return np.around((q1 - iqr * 1.5), decimals=3), np.around((q3 + iqr * 1.5), decimals=3)\n",
    "\n",
    "\n",
    "\n",
    "# функция обработки выбросов в одном признаке\n",
    "def outlier_handling_in_feature(dataframe,\n",
    "                                column_name,\n",
    "                                min_range_limit,\n",
    "                                max_range_limit,\n",
    "                                bins=300):\n",
    "    \n",
    "    # удалим из датасета выбросы 'dataframe', из столбца 'column_name', выбросы\n",
    "    dataframe = dataframe[~(dataframe[column_name] < min_range_limit) &\n",
    "                          ~(dataframe[column_name] > max_range_limit)]\n",
    "    \n",
    "    return dataframe\n",
    "\n",
    "\n",
    "\n",
    "def check_in_outlier(features, column_names):\n",
    "    \n",
    "    for column_name in column_names:\n",
    "        left_border, right_border = left_right_extreme_data_boundary(features[column_name].fillna(0))\n",
    "        \n",
    "        if ( (left_border > features[column_name].min()) or\n",
    "             (right_border < features[column_name].max()) ):\n",
    "            return False\n",
    "        \n",
    "    return True\n",
    "\n",
    "\n",
    "\n",
    "# функция обработки выбросов в одном датафрейме\n",
    "def outlier_handling(features, column_names):\n",
    "    \n",
    "    work = True;\n",
    "    while(work):\n",
    "        for column_name in column_names:\n",
    "        \n",
    "            left_border, right_border = left_right_extreme_data_boundary(features[column_name].fillna(0))\n",
    "        \n",
    "        \n",
    "            features = outlier_handling_in_feature(features,\n",
    "                                                   column_name,\n",
    "                                                   left_border,\n",
    "                                                   right_border)\n",
    "        \n",
    "    \n",
    "        if (features.empty or check_in_outlier(features, column_names)):\n",
    "            break\n",
    "    \n",
    "    return features"
   ]
  },
  {
   "cell_type": "markdown",
   "metadata": {},
   "source": [
    "**15. Проверим датасет: `df`, на наличии выбросов.**"
   ]
  },
  {
   "cell_type": "code",
   "execution_count": 19,
   "metadata": {},
   "outputs": [
    {
     "data": {
      "image/png": "[encoded data removed]",
      "text/plain": [
       "<Figure size 432x288 with 1 Axes>"
      ]
     },
     "metadata": {
      "needs_background": "light"
     },
     "output_type": "display_data"
    }
   ],
   "source": [
    "# построим диаграмму размаха для 'df', чтобы проверить на наличии выбросов\n",
    "df.plot(kind='box', vert=False, title='Данные клиентов страховой компании \"Хоть потоп\"', grid=True);"
   ]
  },
  {
   "cell_type": "markdown",
   "metadata": {},
   "source": [
    "В признаке (столбце) `salary`, есть выбросы, которые требуется обработать."
   ]
  },
  {
   "cell_type": "markdown",
   "metadata": {},
   "source": [
    "**16. Обработаем признак `salary` в датафрейме `df`.**"
   ]
  },
  {
   "cell_type": "code",
   "execution_count": 20,
   "metadata": {},
   "outputs": [],
   "source": [
    "# удалим выбросы в целевых признаках датафрема 'df'\n",
    "df_without_outlier = outlier_handling(df, ['salary'])"
   ]
  },
  {
   "cell_type": "code",
   "execution_count": 21,
   "metadata": {},
   "outputs": [
    {
     "data": {
      "image/png": "[encoded data removed]",
      "text/plain": [
       "<Figure size 432x288 with 1 Axes>"
      ]
     },
     "metadata": {
      "needs_background": "light"
     },
     "output_type": "display_data"
    }
   ],
   "source": [
    "# построим диаграмму размаха для 'df_without_outlier', чтобы проверить на наличии выбросов\n",
    "df_without_outlier.plot(kind='box', vert=False, title='Данные клиентов страховой компании \"Хоть потоп\" ', grid=True);"
   ]
  },
  {
   "cell_type": "markdown",
   "metadata": {},
   "source": [
    "### Обработка дубликатов"
   ]
  },
  {
   "cell_type": "markdown",
   "metadata": {},
   "source": [
    "**17. Проверим датафрейм `df` на наличие дубликатов.**"
   ]
  },
  {
   "cell_type": "code",
   "execution_count": 22,
   "metadata": {},
   "outputs": [
    {
     "data": {
      "text/plain": [
       "153"
      ]
     },
     "execution_count": 22,
     "metadata": {},
     "output_type": "execute_result"
    }
   ],
   "source": [
    "# проверяем количество строк дубликатов в 'df_without_outlier'\n",
    "df_without_outlier.duplicated().sum()"
   ]
  },
  {
   "cell_type": "code",
   "execution_count": 23,
   "metadata": {},
   "outputs": [
    {
     "data": {
      "text/plain": [
       "99.2"
      ]
     },
     "execution_count": 23,
     "metadata": {},
     "output_type": "execute_result"
    }
   ],
   "source": [
    "# проверим, какая доля исходного датасета осталась после фильтрации, в процентах\n",
    "df_without_outlier.shape[0] / DF_SOURCE_SIZE * 100"
   ]
  },
  {
   "cell_type": "code",
   "execution_count": 24,
   "metadata": {},
   "outputs": [],
   "source": [
    "# удалим строки дубликаты в 'df_without_outlier'\n",
    "df_without_outlier.drop_duplicates(inplace=True)"
   ]
  },
  {
   "cell_type": "code",
   "execution_count": 25,
   "metadata": {},
   "outputs": [
    {
     "data": {
      "text/plain": [
       "0"
      ]
     },
     "execution_count": 25,
     "metadata": {},
     "output_type": "execute_result"
    }
   ],
   "source": [
    "# проверяем количество строк дубликатов в 'df_without_outlier', после обработки\n",
    "df_without_outlier.duplicated().sum()"
   ]
  },
  {
   "cell_type": "markdown",
   "metadata": {},
   "source": [
    "**18. Проверим, какая доля исходного датасета осталась после фильтрации.**"
   ]
  },
  {
   "cell_type": "code",
   "execution_count": 26,
   "metadata": {},
   "outputs": [
    {
     "data": {
      "text/plain": [
       "96.14"
      ]
     },
     "execution_count": 26,
     "metadata": {},
     "output_type": "execute_result"
    }
   ],
   "source": [
    "# рассчитаем размер доли исходного датасета 'df', которая осталась после фильтрации, в процентах\n",
    "(df_without_outlier.shape[0] / DF_SOURCE_SIZE) * 100"
   ]
  },
  {
   "cell_type": "markdown",
   "metadata": {},
   "source": [
    "Размер доли исходного датасета, которая осталась после фильтрации: \n",
    "\n",
    "* `df_without_outlier` - **`96.14%`**."
   ]
  },
  {
   "cell_type": "markdown",
   "metadata": {},
   "source": [
    "**Выводы**\n",
    "\n",
    "1. Предобработка обнаружила следующие проблемы в данных:\n",
    "\n",
    "- нарушение стиля заголовков столбцов;\n",
    "- несоответствие типа значений хранимым данным;\n",
    "- выбросы;\n",
    "- дубликаты.\n",
    "\n",
    " \n",
    "2. Привели заголовки столбцов в соответствие с установленным стилем.\n",
    "3. Преобразовали типы данных из одного в другой, где это было необходимо.\n",
    "4. Обработали выбросы, где это было необходимо.\n",
    "5. Удалили дубликаты.\n",
    "\n",
    "После такой предобработки данных, исследование станет более точным.\n",
    "\n",
    "Теперь можно перейти к подготовке данных. "
   ]
  },
  {
   "cell_type": "markdown",
   "metadata": {},
   "source": [
    "## Подготовка данных для исследования"
   ]
  },
  {
   "cell_type": "markdown",
   "metadata": {},
   "source": [
    "Изучим исходное множество признаков, которые будут использованы для обучения модели, на: мультиколлинеарность признаков (высокая степень коррелированности признаков), их избыточное количество, содержание их значений (категориальные признаки, количественные признаки с разными разбросами значений).\n",
    "\n",
    "\n",
    "1. Столбцы: `gender`, `age`, `salary`, `family_members` и `insurance_payments`, являются численными признаками, но имеют разный разброс значений.\n",
    "\n",
    "При обучении модели, алгорим может решить, что признаки с большими значениями и разбросом важнее. Для избежания данной ловушки, необходимо масштабировать данные признаки с помощью метода - стандартизации данных. \n",
    "\n",
    "Так как, в рамках данного проекта, нам не требуется подбирать наилучшую модель, а требуется, только, найти метод преобразования признаков, который позволит защитить персональные данные и, при этом, не ухудшит качество модели машинного обучения. Мы не будет проводить преобразование из вышеуказанного пункта `2`."
   ]
  },
  {
   "cell_type": "markdown",
   "metadata": {},
   "source": [
    "**19. Создадим новый датафрейм для тестирования качества модели (ml - machine learning).**"
   ]
  },
  {
   "cell_type": "code",
   "execution_count": 27,
   "metadata": {},
   "outputs": [],
   "source": [
    "df_ml = df_without_outlier"
   ]
  },
  {
   "cell_type": "markdown",
   "metadata": {},
   "source": [
    "**20. Проверим предобработанные признаки каждого датафрейма, на корреляцию между другими признаками.**\n",
    "\n",
    "Проверим предобработанные признаки каждого датафрейма, на мультиколлинеарность (корреляцию между признаками), на корреляцию между каждым признаком и целевой переменной."
   ]
  },
  {
   "cell_type": "code",
   "execution_count": 28,
   "metadata": {},
   "outputs": [
    {
     "data": {
      "image/png": "[encoded data removed]",
      "text/plain": [
       "<Figure size 432x288 with 2 Axes>"
      ]
     },
     "metadata": {
      "needs_background": "light"
     },
     "output_type": "display_data"
    }
   ],
   "source": [
    "sns.heatmap(df_ml.corr(method='spearman'), annot=True, cmap='YlGnBu');"
   ]
  },
  {
   "cell_type": "markdown",
   "metadata": {},
   "source": [
    "Какая-либо существенная корреляция в признаках датафрейма (`df`), которая может повлиять на обучение нашей модели, отсутствует (мультиколлинеарность отсутствует)."
   ]
  },
  {
   "cell_type": "markdown",
   "metadata": {},
   "source": [
    "**21. Создадим отдельные датафреймы с признаками и целевым признаком.**"
   ]
  },
  {
   "cell_type": "code",
   "execution_count": 29,
   "metadata": {},
   "outputs": [],
   "source": [
    "features = df_ml.drop(['insurance_payments'], axis=1)\n",
    "target = df_ml['insurance_payments']"
   ]
  },
  {
   "cell_type": "markdown",
   "metadata": {},
   "source": [
    "## Простое преобразование признаков <a id='simple_feature_conversion'></a>"
   ]
  },
  {
   "cell_type": "code",
   "execution_count": 30,
   "metadata": {},
   "outputs": [],
   "source": [
    "# функция тестирования качества предсказания модели\n",
    "def model_testing(features, target):\n",
    "    # создадим модель линейной регрессии и обучим её\n",
    "    lr_model = LinearRegression(n_jobs=-1)\n",
    "    lr_model.fit(features, target)\n",
    "\n",
    "    # получим предсказание линейной регрессии до преобразования признаков\n",
    "    predictions = lr_model.predict(features)\n",
    "    \n",
    "    print(\"predictions\", predictions)\n",
    "    print(\"coefficients:\", lr_model.coef_)\n",
    "    print(\"rank:\", lr_model.rank_)\n",
    "    print(\"singular:\", lr_model.singular_)\n",
    "    print(\"intercept:\", lr_model.intercept_)\n",
    "    print(\"n_features_in:\", lr_model.n_features_in_)\n",
    "\n",
    "    print(\"MSE:\", mean_squared_error(target, predictions))\n",
    "    print(\"RMSE:\", mean_squared_error(target, predictions, squared=False))\n",
    "    print(\"R2:\", r2_score(target, predictions))"
   ]
  },
  {
   "cell_type": "markdown",
   "metadata": {},
   "source": [
    "**22. Проверим, изменится ли качество линейной регрессии при преобразовании признаков.**\n",
    "\n",
    "Признаки умножим на обратимую матрицу и ответим на вопрос: \"*изменится ли качество линейной регрессии?*\"."
   ]
  },
  {
   "cell_type": "code",
   "execution_count": 31,
   "metadata": {},
   "outputs": [],
   "source": [
    "# создадим, на основе датафрейма 'features', матрицу признаков\n",
    "features_matrix = features.values"
   ]
  },
  {
   "cell_type": "code",
   "execution_count": 32,
   "metadata": {},
   "outputs": [
    {
     "data": {
      "text/plain": [
       "(4807, 4)"
      ]
     },
     "execution_count": 32,
     "metadata": {},
     "output_type": "execute_result"
    }
   ],
   "source": [
    "# посмотрим размер матрицы признаков\n",
    "features_matrix.shape"
   ]
  },
  {
   "cell_type": "code",
   "execution_count": 33,
   "metadata": {},
   "outputs": [
    {
     "data": {
      "text/plain": [
       "array([[    1,    41, 49600,     1],\n",
       "       [    0,    46, 38000,     1],\n",
       "       [    0,    29, 21000,     0],\n",
       "       ...,\n",
       "       [    0,    20, 33900,     2],\n",
       "       [    1,    22, 32700,     3],\n",
       "       [    1,    28, 40600,     1]])"
      ]
     },
     "execution_count": 33,
     "metadata": {},
     "output_type": "execute_result"
    }
   ],
   "source": [
    "features_matrix"
   ]
  },
  {
   "cell_type": "code",
   "execution_count": 34,
   "metadata": {},
   "outputs": [
    {
     "name": "stdout",
     "output_type": "stream",
     "text": [
      "predictions [ 0.51803118  0.69389897  0.09723594 ... -0.25980252 -0.19267027\n",
      "  0.05004143]\n",
      "coefficients: [ 8.29518688e-03  3.61907454e-02 -2.76659828e-07 -1.38764172e-02]\n",
      "rank: 4\n",
      "singular: [6.68340607e+05 5.88756191e+02 7.61543313e+01 3.46628746e+01]\n",
      "intercept: -0.9464858238537225\n",
      "n_features_in: 4\n",
      "MSE: 0.1254757658192914\n",
      "RMSE: 0.35422558605963433\n",
      "R2: 0.4305644070217587\n"
     ]
    }
   ],
   "source": [
    "# проверим качество предсказания модели\n",
    "model_testing(features_matrix, target)"
   ]
  },
  {
   "cell_type": "code",
   "execution_count": 35,
   "metadata": {},
   "outputs": [
    {
     "data": {
      "text/plain": [
       "4"
      ]
     },
     "execution_count": 35,
     "metadata": {},
     "output_type": "execute_result"
    }
   ],
   "source": [
    "# вычислим ранг исходной матрицы признаков\n",
    "np.linalg.matrix_rank(features_matrix)"
   ]
  },
  {
   "cell_type": "markdown",
   "metadata": {},
   "source": [
    "Количество признаков, в исходной матрице признаков, = 4. Ранг матрицы = 4. \n",
    "Из теории линейной алгебры, ранг матрицы - это максимальное количество линейно независимых векторов системы векторов. В нашем случае, система представлена матрицей, а векторами являются столбцы (признаки). Данные вектора (признаки), являются базисом данного линейного 4-х мерного пространства. Строки матрицы - объекты, где каждая строка - это вектор признаков отдельного объекта. \n",
    "\n",
    "Исходная матрица невырожденная (определитель не равен нулю). "
   ]
  },
  {
   "cell_type": "code",
   "execution_count": 36,
   "metadata": {},
   "outputs": [],
   "source": [
    "# построим квадратную обратимую матрицу 4 на 4\n",
    "random_matrix = np.random.normal(3, 2.5, size=(features_matrix.shape[1], features_matrix.shape[1]))"
   ]
  },
  {
   "cell_type": "code",
   "execution_count": 37,
   "metadata": {},
   "outputs": [
    {
     "data": {
      "text/plain": [
       "(4, 4)"
      ]
     },
     "execution_count": 37,
     "metadata": {},
     "output_type": "execute_result"
    }
   ],
   "source": [
    "random_matrix.shape"
   ]
  },
  {
   "cell_type": "code",
   "execution_count": 38,
   "metadata": {},
   "outputs": [
    {
     "data": {
      "text/plain": [
       "4"
      ]
     },
     "execution_count": 38,
     "metadata": {},
     "output_type": "execute_result"
    }
   ],
   "source": [
    "# вычислим ранг \n",
    "np.linalg.matrix_rank(random_matrix)"
   ]
  },
  {
   "cell_type": "markdown",
   "metadata": {},
   "source": [
    "Исходная  матрица `features_matrix` - невырожденная, и полученная матрица `random_matrix` - невырожденная. Данное требование предъявлется к существованию обратной матрицы. Обратная матрица, существует, только, у квадратной матрицы, определитель которой отличен от нуля."
   ]
  },
  {
   "cell_type": "code",
   "execution_count": 39,
   "metadata": {},
   "outputs": [
    {
     "data": {
      "text/plain": [
       "(4807, 4)"
      ]
     },
     "execution_count": 39,
     "metadata": {},
     "output_type": "execute_result"
    }
   ],
   "source": [
    "# преобразуем исходные признаки (умножим исходную матрицу на обратимую матрицу)\n",
    "transformed_features_matrix = features_matrix.dot(random_matrix)\n",
    "\n",
    "# проверим ее размерность\n",
    "transformed_features_matrix.shape"
   ]
  },
  {
   "cell_type": "code",
   "execution_count": 40,
   "metadata": {},
   "outputs": [
    {
     "data": {
      "text/plain": [
       "4"
      ]
     },
     "execution_count": 40,
     "metadata": {},
     "output_type": "execute_result"
    }
   ],
   "source": [
    "# вычислим ранг \n",
    "np.linalg.matrix_rank(transformed_features_matrix)"
   ]
  },
  {
   "cell_type": "code",
   "execution_count": 41,
   "metadata": {},
   "outputs": [
    {
     "data": {
      "text/plain": [
       "array([[232160.82282058, 265010.69496057, 289452.0704745 ,\n",
       "        -50627.57798978],\n",
       "       [177919.21859167, 203149.35337635, 221787.9239031 ,\n",
       "        -38714.84631767],\n",
       "       [ 98335.0915753 , 112295.41004606, 122572.51076004,\n",
       "        -21378.93954515],\n",
       "       ...,\n",
       "       [158647.05343013, 181060.02280554, 197818.09244199,\n",
       "        -34640.58911509],\n",
       "       [153049.57725729, 174677.00085917, 190826.71949587,\n",
       "        -33392.87710756],\n",
       "       [190015.02987427, 216879.42735836, 236919.79669262,\n",
       "        -41468.08484502]])"
      ]
     },
     "execution_count": 41,
     "metadata": {},
     "output_type": "execute_result"
    }
   ],
   "source": [
    "transformed_features_matrix"
   ]
  },
  {
   "cell_type": "code",
   "execution_count": 42,
   "metadata": {},
   "outputs": [
    {
     "name": "stdout",
     "output_type": "stream",
     "text": [
      "predictions [ 0.51803118  0.69389897  0.09723594 ... -0.25980252 -0.19267027\n",
      "  0.05004143]\n",
      "coefficients: [-0.00140969  0.00592298 -0.00421584  0.00040749]\n",
      "rank: 4\n",
      "singular: [6.17751419e+06 4.43805496e+03 3.51399235e+02 2.25612654e+01]\n",
      "intercept: -0.9464858238414037\n",
      "n_features_in: 4\n",
      "MSE: 0.12547576581929312\n",
      "RMSE: 0.3542255860596368\n",
      "R2: 0.4305644070217508\n"
     ]
    }
   ],
   "source": [
    "# проверим качество предсказания модели\n",
    "model_testing(transformed_features_matrix, target)"
   ]
  },
  {
   "cell_type": "markdown",
   "metadata": {},
   "source": [
    "**Выводы** <a id='simple_feature_conversion_conclusions'></a> \n",
    "\n",
    "Результаты предсказания модели \"линейной регрессии\" до и после преобразования признаков:\n",
    "\n",
    "* до    `MSE` : **0.1254757658192'914**;\n",
    "* после `MSE` : **0.1254757658192'8968**;\n",
    "\n",
    "* до    `RMSE` : **0.35422558605963'433**;\n",
    "* после `RMSE` : **0.35422558605963'19**;\n",
    "\n",
    "* до    `R2` : **0.4305644070217'587**;\n",
    "* после `R2` : **0.4305644070217'6646**.\n",
    "\n",
    "По MSE, отличие только после 13-го знака.\n",
    "По RMSE, отличие только после 14-го знака.\n",
    "По R2, отличие только после 13-го знака.\n",
    " \n",
    "Данные отличия несущественные. Можно утверждать, что качество модели машинного обучения (\"линейной регрессии\"), не изменилось.\n",
    "\n",
    "\n",
    "\n",
    "\n",
    "**Вопрос:** При умножении признаков на обратимую матрицу, изменится ли качество линейной регрессии?\n",
    "\n",
    "**Ответ:** не изменится.\n",
    "\n",
    "**Обоснование**\n",
    "\n",
    "\n",
    "**Параметры линейной регрессии, полученные из исходных и преобразованных признаков, связаны следующим образом.**\n",
    "\n",
    "*Задачу линейной регрессии*, можно сформулировать как поиск отображения из множенства объектов $X$ в множество возможных целевых признаков (таргетов):\n",
    "$X \\to R$.\n",
    "\n",
    "**Задача линейной регрессии описывается формулой:** \n",
    "$$\n",
    "y = w_1x_1 + w_2x_2 + ... + w_Dx_D + w_0,\n",
    "$$\n",
    "где:\n",
    "- $\\textbf{y}$ — целевая переменная (вектор целевого признака);\n",
    "- $\\textbf{x} = (x_1, x_2, ..., x_D)$ — вектор, соответствующий объекту выборки [в нашем случае вектор, соответствующий одному застрахованному клиенту] (вектор признаков);\n",
    "- $w_1,w_2 ..., w_D, w_0$ — параметры модели; \n",
    "- $\\textbf{w} = (w_1, ..., w_D)$ - вектор весов;\n",
    "- $w_0$ - свободный член (сдвиг).\n",
    "\n",
    "**Более короткая запись:**\n",
    "\n",
    "$$y = \\langle \\textbf{x}, \\textbf{w} \\rangle + w_0$$\n",
    "\n",
    "*Задача регресии*, в общем виде, это нахождение вектора весов $\\textbf{w}\\in R^{D+1}$, где $D$ - размерность пространства признаков.\n",
    "\n",
    "**Простейший пример постановки задачи линейной регрессии - метод наименьших квадратов (МНК).**\n",
    "\n",
    "$\\sqsupset$ задан датасет $(X, \\textbf{y})$,где:\n",
    "- $\\textbf{y} = (y_i)_{i=1}^N \\in R^{N}$ - вектор значений целевой переменной;\n",
    "- $X = (x_i)_{i=1}^N \\in R^{NxD}, x_i \\in R^{D}$ - матрица объекты-признаки, в которой i-я строка - это вектор признаков i-го объекта выборки (в нашем случае i-го клиента).\n",
    "\n",
    "Мы хотим моделировать зависимость $y_i$ от $x_i$ как линейную функцию со свободным членом. Общий вид такой функции из $R^{D} \\to R$:\n",
    "\n",
    "$$f_w(x_i) = \\langle \\textbf{w}, x_i \\rangle + w_0$$\n",
    "\n",
    "Свободный член часто опускают, добавив ко всем признакам $x_i$, в качестве первого признака, признак, тождественно равный единице, а свободный член $w_0$ — к вектору $\\textbf{w}$, в качестве первого его значения. Запись нашей функции упростится до вида:\n",
    "- $f_w(x_i) = \\langle \\textbf{w}, x_i \\rangle$\n",
    "\n",
    "\n",
    "**Сведение к задачи оптимизации.**\n",
    "\n",
    "Задача: требуется, чтобы для каждой пары $(x_i, y_i)$, из заданного датасета, функция $f_w(\\textbf{x})$ как можно лучше приблизилась к целевому признаку $\\textbf{y}$. \n",
    "Мы должны измерять качество модели и минимизировать её ошибку, как-то меняя обучаемые параметры - веса $\\textbf{w}$. Для этого, необходимо выбрать функцию потерь. \n",
    "\n",
    "Если вектор целевого признака $\\textbf{y}$ и вектор предсказанного целевого признака $f_w(\\textbf{x})$ - это вектора из одного векторного евклидова пространства, то, в нашем случае, задача оптимизации, это нахождение минимального расстояния между векторами $\\textbf{y}$ и $f_w(\\textbf{x})$, в одном евклидовом пространстве. Чем меньше расстояние, тем меньше ошибка модели.\n",
    "В качестве функции потерь, наилучшим выборов будет MSE (среднеквадратичное отклонение):\n",
    "\n",
    "$MSE(f, X, \\textbf{y}) = \\frac1 N \\mid \\textbf{y} - X\\textbf{w} \\mid_{2}^2$.\n",
    "\n",
    "Следовательно, чтобы найти лучшую модель, необходимо минимизировать: MSE по вектору весов $\\textbf{w}$, по формуле:\n",
    "\n",
    "$$\\mid \\textbf{y} - X\\textbf{w}\\mid_{2}^2 \\to \\min\\limits_{w} \\qquad \\mbox{или} \\qquad MSE(f, X, \\textbf{y}) \\to \\min\\limits_{w}$$.\n",
    "\n",
    "\n",
    "**Решение МНК. Геометрический подход.**\n",
    "\n",
    "$\\sqsupset x^{(1)}, ..., x^{(D)}$ - столбцы  матрицы $X$ (столбцы признаков). Тогда $X\\textbf{w} = w_1x^{(1)} + ... + w_Dx^{(D)}$ и задачу регрессии можно сформулировать следующим образом: найти проекцию вектора $\\textbf{y}$ на подпространство, образованное векторами $L = (x^{(1)}, ..., x^{(D)})$.\n",
    "\n",
    "Разложим $\\textbf{y} = \\textbf{y}_\\| + \\textbf{y}_\\bot$, где:\n",
    "- $\\textbf{y}_\\| = Xw$ - проекция вектора $\\textbf{y}$ (или $\\textbf{w}$ если использовать обозначение из $Xw$) на подпространство $L=(x^{(1)}, ..., x^{(D)})$, $L\\lhd E$, $\\textbf{y} \\in E$ ($\\textbf{w} \\in E$);\n",
    "- $\\textbf{y}_\\bot$ - ортогональная составляющая.\n",
    "\n",
    "Тогда $\\textbf{y}_\\bot =  \\textbf{y} - X\\textbf{w} \\bot x^{(1)}, ..., x^{(D)}$  \n",
    "\n",
    "Представим полученную однородную систему уравнений в матричном виде:\n",
    "$$\n",
    "X^{T}(\\textbf{y} - X\\textbf{w}) = 0,\n",
    "$$ где:\n",
    "- каждый элемент столбца $X^{T}(\\textbf{y} - X\\textbf{w})$ - это скалярное произведение строки $X^{T}$ (= столбца $X$ = одного из $x^{(i)}$) на $\\textbf{y} - X\\textbf{w}$.\n",
    "\n",
    "Выразим вектор $\\textbf{w}$ из уравнения $X^{T}(\\textbf{y} - X\\textbf{w}) = 0$:\n",
    "$$\n",
    "\\textbf{w} = (X^{T}X)^{-1}X^{T}\\textbf{y},\n",
    "$$\n",
    "где:\n",
    "- $(X^{T}X)$ - это матрица Грама $G$.\n",
    "\n",
    "Данная формула работает, при условии, что матрица $(X^{T}X)$ невырожденная -  векторы признаков (стобцы матрицы) линейно независимые, и обратима, а все стобцы (векторы признаки) матрицы $X$ линейно независимы. Т. е. выполняется условие: $rgX = rg(X^{T}X) = dimX = D = dim(X^{T}X)$."
   ]
  },
  {
   "cell_type": "markdown",
   "metadata": {},
   "source": [
    "\n",
    "**Доказательство, что параметры линейной регрессии, полученные из исходных и преобразованных признаков, связаны.**\n",
    "\n",
    "`random_matrix` - матрица является невырожденной, квадратной, обратимой.\n",
    "\n",
    "При линейном преобразовании начало координат не смещается, а линии координатной сетки остаются параллельными и сохраняют исходное расстояние друг от друга. Данное утверждение следует из аксиом определения линейного пространства и определения линейного оператора. Линейные преобразования базиса (базисных векторов) пространства не изменяют состав этого базиса (количество базисных векторов и их характеристики), а лишь представляют этот базис в новом базисе (переводят их координаты в новый базис). Переход от старого базиса к новому осуществляется матрицей перехода, в которой столбцы - это координаты векторов нового базиса в старом базисе. \n",
    "\n",
    "Иначе говоря, \"новые\", преобразованные векторы будут иметь те же координаты относительно нового базиса, что и исходный вектор, относительно исходного базиса. Линейные преобразования обратимы. Следовательно, мы всегда можем вернуться к исходному базису.\n",
    "\n",
    "Данное свойство, следует из следующих определений линейной алгебры (высшей алгебры). \n",
    "**Базисом** n-мерного линейного пространства называется упорядочная совокупность $n$ линейно независимых векторов (**базисных векторов**).\n",
    "\n",
    "Если $\\textbf{x}_1, \\textbf{x}_2, ..., \\textbf{x}_D$ - базис линейного D-мерного пространства $E$, то $\\forall \\textbf{y} \\in E$, может быть представлен в виде линейной комбинации базисных векторов:\n",
    "$$\n",
    "\\textbf{y} = w_1\\textbf{x}_1 + w_2\\textbf{x}_2 + ... + w_D\\textbf{x}_D,\n",
    "$$\n",
    "и притом единственным образом, т. е. коэффициенты $w_1, ..., w_D$ определяются однозначно и называются координатами вектора $\\textbf{y}$ в базисе $\\textbf{x}_1, \\textbf{x}_2, ..., \\textbf{x}_D$. \n",
    "\n",
    "Из вышеуказанных вычислений, определений и утверждений, следует:\n",
    "- количество признаков, в исходной матрице признаков $X$, = 4 (D=4);\n",
    "- ранг матрицы ($rgX$) = 4 (D=4);\n",
    "- система представлена матрицей $X$, а векторами являются столбцы (признаки) $x^{(1)}, ..., x^{(D)}$;\n",
    "- данные вектора (признаки) $x^{(1)}, ..., x^{(D)}$, являются базисом данного линейного 4-х мерного пространства (D=4);\n",
    "- строки матрицы - объекты, где каждая строка это вектор признаков отдельного объекта (в нашем случае отдельного клиента);\n",
    "- исходная матрица $X$ невырожденная;\n",
    "- линейные преобразования матрицы признаков, не изменяют базис этой матрицы, а лишь представляют его в новом базисе (переводят его координаты в новый базис);\n",
    "- линейные преобразования обратимы;\n",
    "- проекция вектора $\\textbf{y}$ на подпространство $L=(x^{(1)}, ..., x^{(D)})$ определяется однозначно, так как $L$ - базис (ранг исходной матрицы признаков, равен исходному количеству признаков ($rgX = dim X = D$));\n",
    "- найденные коэффициенты $w_1, ..., w_D$, в обоих случаях (по исходной и преобразованной матрице признаков), соответствуют условиям функции потерь (loss function): $\\mid \\textbf{y} - X\\textbf{w}\\mid_{2}^2 \\to \\min\\limits_{w}$.\n",
    "\n",
    "\n",
    "\n",
    "\n",
    "**Параметры линейной регрессии**, в нашей задаче, **связаны следующим образом**.\n",
    "При проекции вектора $\\textbf{y}$ на подпространство $L=(x^{(1)}, ..., x^{(D)})$, при исходной матрице признаков $X$, коэффициенты разложения $w_1, ..., w_D$ (координаты вектора $\\textbf{y}$ в базисе $\\textbf{x}_1, \\textbf{x}_2, ..., \\textbf{x}_D$), будут иметь одни значения, а при линейно преобразованной матрице признаков $X$, другие. \n",
    "\n",
    "**Коэффициенты разложения** $w_1, ..., w_D$ (координаты вектора $\\textbf{y}$ в базисе $\\textbf{x}_1, \\textbf{x}_2, ..., \\textbf{x}_D$) - это вектор весов ($\\textbf{w} = (w_1, ..., w_D)$) модели линейной регрессии, который, одновременно, является параметрами модели. \n",
    "\n",
    "Т.е., координаты $w_1, ..., w_D$ вектора $\\textbf{y} = \\textbf{w}$, в базисе исходной матрицы признаков, будут отличаться от координат $w_1, ..., w_D$ вектора $\\textbf{y} = \\textbf{w}$, в базисе преобразованной матрицы признаков. Но оба этих базиса   $\\in E$ (линейное векторное евклидово пространство), а связь между ними - матрица перехода (заданна алгоритмом преобразования признаков).\n",
    "\n",
    "\n",
    "По этим основаниям, результат предсказания (вектор $f_w(\\textbf{x})$) модели линейной регрессии, в обоих случаях (по исходной и преобразованной матрице признаков), в нашей задаче, будет одинаковым."
   ]
  },
  {
   "cell_type": "markdown",
   "metadata": {},
   "source": [
    "## Алгоритм преобразования <a id='conversion_algorithm'></a>"
   ]
  },
  {
   "cell_type": "markdown",
   "metadata": {},
   "source": [
    "Необходимо выбрать алгоритм с линейным преобразованием, так как он не меняет структуру распределения.\n",
    "Нелинейные преобразования - меняют."
   ]
  },
  {
   "cell_type": "markdown",
   "metadata": {},
   "source": [
    "**Алгоритм**\n",
    "\n",
    "Обозначения:\n",
    "\n",
    "- $X$ — матрица признаков;\n",
    "\n",
    "- $X^{'}$ — матрица признаков после применения алгоритма преобразования;\n",
    "\n",
    "- $a_{multiplication}$ - скаляр, на который умножаются признаки;\n",
    "\n",
    "- $b_{addition}$ - скаляр, который добавляется к признакам;\n",
    "\n",
    "- $P_{scale}$ — матрица растяжения, на которую умножаются признаки;\n",
    "\n",
    "- $P_{squish}$ — матрица сжатия, на которую умножаются признаки;\n",
    "\n",
    "- $P_{invert}$ — матрица отражения, на которую умножаются признаки;\n",
    "\n",
    "- $P_{permutation}$ — матрица перестановки, на которую умножаются признаки;\n",
    "\n",
    "- $P_{shear}$ — матрица сдвига, на которую умножаются признаки;\n",
    "\n",
    "- $P_{rotate}$ — матрица поворота, на которую умножаются признаки;\n",
    "\n",
    "- $V_{addition}$ — вектор, который складывается с признаками;\n",
    "\n",
    "- $c_{substraction}$ - скаляр, который вычитается из признаков;\n",
    "\n",
    "- $d_{division}$ - скаляр, на который делятся признаки;\n",
    "\n",
    "- $V_{substraction}$ — вектор, который вычитается из признаков.\n",
    "\n",
    "   \n",
    "Формула линейного преобразования:\n",
    "\n",
    "$$\n",
    "X^{'} = (      (     (    (   (  ( (X a_{multiplication}) + b_{addition} ) P_{scale} P_{squish} P_{invert} P_{permutation} P_{shear}  ) + V_{addition}   ) P_{rotate}    ) - c_{substraction}     ) (\\frac1 d_{division})      ) - V_{substraction}\n",
    "$$\n",
    "\n",
    "\n",
    "**Обоснование**\n",
    "\n",
    "Данное линейное преобразование признаков, приведёт к существенному изменению их значений, что полностью скроет подлинные значения признаков и его сущность (принадлежность к конкретному признаку (пол, возраст, зарплата, количество членов его семьи и т.д.)). Но не изменит состав базиса векторов-признаков в данном линейном пространстве, которое они образуют (то есть, сохранит, доподлинно, признаки и их характеристики).\n",
    "\n",
    "Качество предсказания модели линейной регрессии, после данного преобразования, не изменится. Обоснование и доказательство приведено в [выводе](#simple_feature_conversion_conclusions), на этапе [\"Простое преобразование признаков\"](#simple_feature_conversion)."
   ]
  },
  {
   "cell_type": "markdown",
   "metadata": {},
   "source": [
    "## Тестирование алгоритма\n",
    "\n",
    "Протестируем алгоритм преобразования признаков, который был предложен на [предыдущем этапе](#conversion_algorithm) исследования."
   ]
  },
  {
   "cell_type": "code",
   "execution_count": 43,
   "metadata": {},
   "outputs": [],
   "source": [
    "# функция линейного преобразования исходных признаков\n",
    "\n",
    "#Алгоритм: \n",
    "#1. Умножение матрицы на число. \n",
    "#2. Добавление числа к матрице.\n",
    "#3. Применение матриц преобразования (все, кроме поворота).\n",
    "#4. Прибавление вектора. \n",
    "#5. Применение матрицы поворота.\n",
    "#6. Вычитание числа из матрицы. \n",
    "#7. Деление матрицы на число.\n",
    "#8. Вычитание вектора из матрицы\n",
    "#\n",
    "def feature_conversion(features):\n",
    "    \n",
    "    #=== параметры алгоритма ===\n",
    "    multiplication_scalar = 3\n",
    "\n",
    "    addition_scalar = 777\n",
    "    \n",
    "    # растяжение\n",
    "    scale_matrix = np.array([[3, 0, 0, 0],\n",
    "                             [0, 3, 0, 0],\n",
    "                             [0, 0, 3, 0],\n",
    "                             [0, 0, 0, 3]])\n",
    "    \n",
    "    # сжатие\n",
    "    squish_matrix = np.array([[0.5, 0, 0, 0],\n",
    "                              [0, 0.5, 0, 0],\n",
    "                              [0, 0, 0.5, 0],\n",
    "                              [0, 0, 0, 0.5]])\n",
    "    \n",
    "    # отражение\n",
    "    invert_matrix = np.array([[-1, 0, 0, 0],\n",
    "                              [0, -1, 0, 0],\n",
    "                              [0, 0, -1, 0],\n",
    "                              [0, 0, 0, -1]])\n",
    "    \n",
    "    # перестановка\n",
    "    permutation_matrix = np.array([[0, 0, 0, 1],\n",
    "                                   [0, 0, 1, 0],\n",
    "                                   [0, 1, 0, 0],\n",
    "                                   [1, 0, 0, 0]])\n",
    "        \n",
    "    # сдвиг\n",
    "    shear_matrix = np.array([[777, 777, 777, 0],\n",
    "                             [0, 1, 0, 0],\n",
    "                             [0, 0, 1, 0],\n",
    "                             [0, 0, 0, 1]])\n",
    "    \n",
    "    \n",
    "    addition_vector = np.array([7, 5, 3, 1])\n",
    "    \n",
    "        \n",
    "    theta = np.radians(90)\n",
    "\n",
    "    rotate_xy_matrix = np.array([[np.cos(theta), -np.sin(theta), 0, 0],\n",
    "                                 [np.sin(theta), np.cos(theta), 0, 0],\n",
    "                                 [0, 0, 1, 0],\n",
    "                                 [0, 0, 0, 1]])\n",
    "\n",
    "    rotate_yz_matrix = np.array([[1, 0, 0, 0],\n",
    "                                 [0, np.cos(theta), np.sin(theta), 0 ],\n",
    "                                 [0, -np.sin(theta), np.cos(theta), 0],\n",
    "                                 [0, 0, 0, 1]])\n",
    "\n",
    "    rotate_xz_matrix = np.array([[np.cos(theta), 0, -np.sin(theta), 0],\n",
    "                                 [0, 1, 0, 0],\n",
    "                                 [np.sin(theta), 0, np.cos(theta), 0],\n",
    "                                 [0, 0, 0, 1]])\n",
    "\n",
    "    rotate_xu_matrix = np.array([[np.cos(theta), 0, 0, np.sin(theta)],\n",
    "                                 [0, 1, 0, 0],\n",
    "                                 [0, 0, 1, 0],\n",
    "                                 [-np.sin(theta), 0, 0, np.cos(theta)]])\n",
    "\n",
    "    rotate_yu_matrix = np.array([[1, 0, 0, 0],\n",
    "                                 [0, np.cos(theta), 0, -np.sin(theta)],\n",
    "                                 [0, 0, 1, 0],\n",
    "                                 [0, np.sin(theta), 0, np.cos(theta)]])\n",
    "\n",
    "    rotate_zu_matrix = np.array([[1, 0, 0, 0],\n",
    "                                 [0, 1, 0, 0],\n",
    "                                 [0, 0, np.cos(theta), -np.sin(theta)],\n",
    "                                 [0, 0, np.sin(theta), np.cos(theta)]])\n",
    "\n",
    "\n",
    "    rotate_matrix = (((((rotate_xy_matrix.dot(rotate_yz_matrix))\n",
    "                        .dot(rotate_xz_matrix))\n",
    "                       .dot(rotate_xu_matrix))\n",
    "                      .dot(rotate_yu_matrix))\n",
    "                     .dot(rotate_zu_matrix))\n",
    "    \n",
    "    substraction_scalar = 13\n",
    "    \n",
    "    division_scalar = 7000\n",
    "\n",
    "    substraction_vector = np.array([7, 5, 3, 1])\n",
    "    #===========================================\n",
    "    \n",
    "    \n",
    "    transformed_features_matrix = features * multiplication_scalar\n",
    "    transformed_features_matrix += addition_scalar\n",
    "    transformed_features_matrix =\\\n",
    "        (((((transformed_features_matrix.dot(scale_matrix))\n",
    "            .dot(squish_matrix))\n",
    "           .dot(invert_matrix))\n",
    "          .dot(permutation_matrix))\n",
    "         .dot(shear_matrix))\n",
    "    \n",
    "    transformed_features_matrix += addition_vector\n",
    "    \n",
    "    transformed_features_matrix = transformed_features_matrix.dot(rotate_matrix)\n",
    "    \n",
    "    transformed_features_matrix -= substraction_scalar\n",
    "    \n",
    "    transformed_features_matrix *= (1 / division_scalar)\n",
    "        \n",
    "    transformed_features_matrix -= substraction_vector\n",
    "        \n",
    "    return transformed_features_matrix"
   ]
  },
  {
   "cell_type": "code",
   "execution_count": 44,
   "metadata": {},
   "outputs": [
    {
     "data": {
      "text/plain": [
       "array([[    1,    41, 49600,     1],\n",
       "       [    0,    46, 38000,     1],\n",
       "       [    0,    29, 21000,     0],\n",
       "       ...,\n",
       "       [    0,    20, 33900,     2],\n",
       "       [    1,    22, 32700,     3],\n",
       "       [    1,    28, 40600,     1]])"
      ]
     },
     "execution_count": 44,
     "metadata": {},
     "output_type": "execute_result"
    }
   ],
   "source": [
    "# выведем матрицу исходных признаки\n",
    "features_matrix"
   ]
  },
  {
   "cell_type": "code",
   "execution_count": 45,
   "metadata": {},
   "outputs": [
    {
     "data": {
      "text/plain": [
       "(4807, 4)"
      ]
     },
     "execution_count": 45,
     "metadata": {},
     "output_type": "execute_result"
    }
   ],
   "source": [
    "# посмотрим размерность матрицы исходных признаков\n",
    "features_matrix.shape"
   ]
  },
  {
   "cell_type": "code",
   "execution_count": 46,
   "metadata": {},
   "outputs": [
    {
     "data": {
      "text/plain": [
       "4"
      ]
     },
     "execution_count": 46,
     "metadata": {},
     "output_type": "execute_result"
    }
   ],
   "source": [
    "# вычислим ранг матрицы исходных признаков\n",
    "np.linalg.matrix_rank(features_matrix)"
   ]
  },
  {
   "cell_type": "code",
   "execution_count": 47,
   "metadata": {},
   "outputs": [
    {
     "name": "stdout",
     "output_type": "stream",
     "text": [
      "predictions [ 0.51803118  0.69389897  0.09723594 ... -0.25980252 -0.19267027\n",
      "  0.05004143]\n",
      "coefficients: [ 8.29518688e-03  3.61907454e-02 -2.76659828e-07 -1.38764172e-02]\n",
      "rank: 4\n",
      "singular: [6.68340607e+05 5.88756191e+02 7.61543313e+01 3.46628746e+01]\n",
      "intercept: -0.9464858238537225\n",
      "n_features_in: 4\n",
      "MSE: 0.1254757658192914\n",
      "RMSE: 0.35422558605963433\n",
      "R2: 0.4305644070217587\n"
     ]
    }
   ],
   "source": [
    "# проверим качество предсказания модели по исходным признакам\n",
    "model_testing(features_matrix, target)"
   ]
  },
  {
   "cell_type": "code",
   "execution_count": 48,
   "metadata": {},
   "outputs": [],
   "source": [
    "# применим алгоритм преобразования признаков\n",
    "transformed_features_matrix = feature_conversion(features_matrix)"
   ]
  },
  {
   "cell_type": "code",
   "execution_count": 49,
   "metadata": {},
   "outputs": [
    {
     "data": {
      "text/plain": [
       "array([[  -6.83485714,  124.86714286, -133.06428571, -162.92335714],\n",
       "       [  -6.8355    ,  124.86714286, -133.0675    , -155.46621429],\n",
       "       [  -6.8355    ,  124.36764286, -132.55707143, -144.03814286],\n",
       "       ...,\n",
       "       [  -6.8355    ,  125.36664286, -133.55028571, -153.33      ],\n",
       "       [  -6.83485714,  125.86614286, -134.05107143, -153.05807143],\n",
       "       [  -6.83485714,  124.86714286, -133.05592857, -157.13764286]])"
      ]
     },
     "execution_count": 49,
     "metadata": {},
     "output_type": "execute_result"
    }
   ],
   "source": [
    "# выведем преобразованные признаки\n",
    "transformed_features_matrix"
   ]
  },
  {
   "cell_type": "code",
   "execution_count": 50,
   "metadata": {},
   "outputs": [
    {
     "data": {
      "text/plain": [
       "(4807, 4)"
      ]
     },
     "execution_count": 50,
     "metadata": {},
     "output_type": "execute_result"
    }
   ],
   "source": [
    "# посмотрим размерность матрицы преобразованных признаков\n",
    "transformed_features_matrix.shape"
   ]
  },
  {
   "cell_type": "code",
   "execution_count": 51,
   "metadata": {},
   "outputs": [
    {
     "data": {
      "text/plain": [
       "4"
      ]
     },
     "execution_count": 51,
     "metadata": {},
     "output_type": "execute_result"
    }
   ],
   "source": [
    "# вычислим ранг матрицы преобразованных признаков\n",
    "np.linalg.matrix_rank(transformed_features_matrix)"
   ]
  },
  {
   "cell_type": "code",
   "execution_count": 52,
   "metadata": {},
   "outputs": [
    {
     "name": "stdout",
     "output_type": "stream",
     "text": [
      "predictions [ 0.51803118  0.69389897  0.09723594 ... -0.25980252 -0.19267027\n",
      "  0.05004143]\n",
      "coefficients: [ 1.29036240e+01 -5.63240653e+01 -5.62967150e+01  4.30359733e-04]\n",
      "rank: 4\n",
      "singular: [4.30393856e+02 5.37030104e+01 2.67624249e-01 2.22833909e-02]\n",
      "intercept: -369.2744936552642\n",
      "n_features_in: 4\n",
      "MSE: 0.1254757658192741\n",
      "RMSE: 0.3542255860596099\n",
      "R2: 0.43056440702183707\n"
     ]
    }
   ],
   "source": [
    "# проверим качество предсказания модели по преобразованным признакам\n",
    "model_testing(transformed_features_matrix, target)"
   ]
  },
  {
   "cell_type": "markdown",
   "metadata": {},
   "source": [
    "**Выводы**"
   ]
  },
  {
   "cell_type": "markdown",
   "metadata": {},
   "source": [
    "Результаты предсказания модели \"линейной регрессии\", до и после преобразования признаков [предложенным алгоритмом](#conversion_algorithm):\n",
    "\n",
    "* до    `MSE` : **0.12547576581929'14**;\n",
    "* после `MSE` : **0.12547576581929'615**;\n",
    "\n",
    "* до    `RMSE` : **0.3542255860596'3433**;\n",
    "* после `RMSE` : **0.3542255860596'41**;\n",
    "\n",
    "* до    `R2` : **0.4305644070217'587**;\n",
    "* после `R2` : **0.4305644070217'3704**.\n",
    "\n",
    "По MSE, отличие только после 14-го знака.\n",
    "По RMSE, отличие только после 13-го знака.\n",
    "По R2, отличие только после 12-го знака.\n",
    " \n",
    "Данные отличия несущественные. Можно утверждать, что качество модели машинного обучения (\"линейной регрессии\"), не изменилось."
   ]
  },
  {
   "cell_type": "markdown",
   "metadata": {},
   "source": [
    "## Итоги проекта\n",
    "\n",
    "Разработан метод преобразования данных, после которого сложно восстановить персональную информацию клиентов страховой компании, но качество предсказания модели не изменилось. Данные клиентов защищены.\n",
    "\n",
    "Результаты тестирования:\n",
    "\n",
    "* до преобразования    `MSE` : **0.12547576581929'14**;\n",
    "* после преобразования `MSE` : **0.12547576581929'615**;\n",
    "\n",
    "* до преобразования    `RMSE` : **0.3542255860596'3433**;\n",
    "* после преобразования `RMSE` : **0.3542255860596'41**;\n",
    "\n",
    "* до преобразования    `R2` : **0.4305644070217'587**;\n",
    "* после преобразования `R2` : **0.4305644070217'3704**.\n",
    "\n",
    "\n",
    "\n",
    "*Рекомендации по улучшению*:\n",
    "\n",
    "Данный метод преобразования данных, для их защиты, подходит для не очень ценных данных. Так как метод очень простой и, следовательно, данные легко могут быть восстановлены методами \"грубой силы\" или аналогичными. \n",
    "\n",
    "\n",
    "При использовании данных методов взлома, на современных супер ЭВМ или мощных вычислительных кластерах (облачные или физические), можно добиться результата за очень короткий временной период. \n",
    "При использовании квантовых компьютеров, при соответствующем ПО для них, время взлома может исчисляться в секундах.\n",
    "\n",
    "По вышеуказанным причинам, для более ценных данных, лучше использовать более защищенные методы (алгоритмы), в контексте криптографической стойкости алгоритма."
   ]
  }
 ],
 "metadata": {
  "ExecuteTimeLog": [
   {
    "duration": 1602,
    "start_time": "2023-06-16T17:50:59.643Z"
   },
   {
    "duration": 99,
    "start_time": "2023-06-16T17:51:01.247Z"
   },
   {
    "duration": 16,
    "start_time": "2023-06-16T17:51:01.347Z"
   },
   {
    "duration": 84,
    "start_time": "2023-06-16T17:51:01.366Z"
   },
   {
    "duration": 1365,
    "start_time": "2023-06-16T17:51:01.452Z"
   },
   {
    "duration": 23,
    "start_time": "2023-06-16T17:51:02.819Z"
   },
   {
    "duration": 9,
    "start_time": "2023-06-16T17:51:02.845Z"
   },
   {
    "duration": 90,
    "start_time": "2023-06-16T17:51:02.856Z"
   },
   {
    "duration": 24,
    "start_time": "2023-06-16T17:51:02.948Z"
   },
   {
    "duration": 38,
    "start_time": "2023-06-16T17:51:02.976Z"
   },
   {
    "duration": 62,
    "start_time": "2023-06-16T17:51:03.016Z"
   },
   {
    "duration": 43,
    "start_time": "2023-06-16T17:51:03.080Z"
   },
   {
    "duration": 38,
    "start_time": "2023-06-16T17:51:03.126Z"
   },
   {
    "duration": 70,
    "start_time": "2023-06-16T17:51:03.166Z"
   },
   {
    "duration": 23,
    "start_time": "2023-06-16T17:51:03.237Z"
   },
   {
    "duration": 43,
    "start_time": "2023-06-16T17:51:03.262Z"
   },
   {
    "duration": 28,
    "start_time": "2023-06-16T17:51:03.311Z"
   },
   {
    "duration": 32,
    "start_time": "2023-06-16T17:51:03.341Z"
   },
   {
    "duration": 240,
    "start_time": "2023-06-16T17:51:03.375Z"
   },
   {
    "duration": 11,
    "start_time": "2023-06-16T17:51:03.617Z"
   },
   {
    "duration": 253,
    "start_time": "2023-06-16T17:51:03.630Z"
   },
   {
    "duration": 6,
    "start_time": "2023-06-16T17:51:03.884Z"
   },
   {
    "duration": 34,
    "start_time": "2023-06-16T17:51:03.891Z"
   },
   {
    "duration": 24,
    "start_time": "2023-06-16T17:51:03.926Z"
   },
   {
    "duration": 9,
    "start_time": "2023-06-16T17:51:03.952Z"
   },
   {
    "duration": 8,
    "start_time": "2023-06-16T17:51:03.963Z"
   },
   {
    "duration": 48,
    "start_time": "2023-06-16T17:51:03.972Z"
   },
   {
    "duration": 390,
    "start_time": "2023-06-16T17:51:04.023Z"
   },
   {
    "duration": 5,
    "start_time": "2023-06-16T17:51:04.418Z"
   },
   {
    "duration": 30,
    "start_time": "2023-06-16T17:51:04.425Z"
   },
   {
    "duration": 9,
    "start_time": "2023-06-16T17:51:04.458Z"
   },
   {
    "duration": 7,
    "start_time": "2023-06-16T17:51:04.468Z"
   },
   {
    "duration": 12,
    "start_time": "2023-06-16T17:51:04.476Z"
   },
   {
    "duration": 43,
    "start_time": "2023-06-16T17:51:04.489Z"
   },
   {
    "duration": 198,
    "start_time": "2023-06-16T17:51:04.534Z"
   },
   {
    "duration": 11,
    "start_time": "2023-06-16T17:51:04.733Z"
   },
   {
    "duration": 13,
    "start_time": "2023-06-16T17:51:04.746Z"
   },
   {
    "duration": 49,
    "start_time": "2023-06-16T17:51:04.760Z"
   },
   {
    "duration": 34,
    "start_time": "2023-06-16T17:51:04.810Z"
   },
   {
    "duration": 39,
    "start_time": "2023-06-16T17:51:04.845Z"
   },
   {
    "duration": 29,
    "start_time": "2023-06-16T17:51:04.886Z"
   },
   {
    "duration": 101,
    "start_time": "2023-06-16T17:51:04.916Z"
   },
   {
    "duration": 108,
    "start_time": "2023-06-16T17:51:05.019Z"
   },
   {
    "duration": 96,
    "start_time": "2023-06-16T17:51:05.128Z"
   },
   {
    "duration": 44,
    "start_time": "2023-06-16T17:51:05.225Z"
   },
   {
    "duration": 49,
    "start_time": "2023-06-16T17:51:05.271Z"
   },
   {
    "duration": 85,
    "start_time": "2023-06-16T17:51:05.322Z"
   },
   {
    "duration": 123,
    "start_time": "2023-06-16T17:51:05.410Z"
   },
   {
    "duration": 63,
    "start_time": "2023-06-16T17:51:05.535Z"
   },
   {
    "duration": 37,
    "start_time": "2023-06-16T17:51:05.599Z"
   },
   {
    "duration": 35,
    "start_time": "2023-06-16T17:51:05.639Z"
   },
   {
    "duration": 65,
    "start_time": "2023-06-16T17:51:05.682Z"
   },
   {
    "duration": 11633,
    "start_time": "2023-06-16T17:54:41.892Z"
   },
   {
    "duration": 29,
    "start_time": "2023-06-16T17:54:53.527Z"
   },
   {
    "duration": 36,
    "start_time": "2023-06-16T17:54:53.557Z"
   },
   {
    "duration": 11,
    "start_time": "2023-06-16T17:54:53.595Z"
   },
   {
    "duration": 1550,
    "start_time": "2023-06-16T17:54:53.608Z"
   },
   {
    "duration": 18,
    "start_time": "2023-06-16T17:54:55.159Z"
   },
   {
    "duration": 3,
    "start_time": "2023-06-16T17:54:55.178Z"
   },
   {
    "duration": 17,
    "start_time": "2023-06-16T17:54:55.183Z"
   },
   {
    "duration": 28,
    "start_time": "2023-06-16T17:54:55.202Z"
   },
   {
    "duration": 6,
    "start_time": "2023-06-16T17:54:55.232Z"
   },
   {
    "duration": 9,
    "start_time": "2023-06-16T17:54:55.239Z"
   },
   {
    "duration": 5,
    "start_time": "2023-06-16T17:54:55.249Z"
   },
   {
    "duration": 4,
    "start_time": "2023-06-16T17:54:55.256Z"
   },
   {
    "duration": 7,
    "start_time": "2023-06-16T17:54:55.261Z"
   },
   {
    "duration": 8,
    "start_time": "2023-06-16T17:54:55.270Z"
   },
   {
    "duration": 8,
    "start_time": "2023-06-16T17:54:55.280Z"
   },
   {
    "duration": 46,
    "start_time": "2023-06-16T17:54:55.290Z"
   },
   {
    "duration": 25,
    "start_time": "2023-06-16T17:54:55.338Z"
   },
   {
    "duration": 308,
    "start_time": "2023-06-16T17:54:55.364Z"
   },
   {
    "duration": 9,
    "start_time": "2023-06-16T17:54:55.674Z"
   },
   {
    "duration": 288,
    "start_time": "2023-06-16T17:54:55.684Z"
   },
   {
    "duration": 7,
    "start_time": "2023-06-16T17:54:55.974Z"
   },
   {
    "duration": 56,
    "start_time": "2023-06-16T17:54:55.982Z"
   },
   {
    "duration": 10,
    "start_time": "2023-06-16T17:54:56.039Z"
   },
   {
    "duration": 17,
    "start_time": "2023-06-16T17:54:56.051Z"
   },
   {
    "duration": 11,
    "start_time": "2023-06-16T17:54:56.070Z"
   },
   {
    "duration": 6,
    "start_time": "2023-06-16T17:54:56.082Z"
   },
   {
    "duration": 361,
    "start_time": "2023-06-16T17:54:56.092Z"
   },
   {
    "duration": 4,
    "start_time": "2023-06-16T17:54:56.454Z"
   },
   {
    "duration": 18,
    "start_time": "2023-06-16T17:54:56.460Z"
   },
   {
    "duration": 13,
    "start_time": "2023-06-16T17:54:56.480Z"
   },
   {
    "duration": 38,
    "start_time": "2023-06-16T17:54:56.494Z"
   },
   {
    "duration": 14,
    "start_time": "2023-06-16T17:54:56.534Z"
   },
   {
    "duration": 59,
    "start_time": "2023-06-16T17:54:56.549Z"
   },
   {
    "duration": 117,
    "start_time": "2023-06-16T17:54:56.610Z"
   },
   {
    "duration": 25,
    "start_time": "2023-06-16T17:54:56.729Z"
   },
   {
    "duration": 14,
    "start_time": "2023-06-16T17:54:56.755Z"
   },
   {
    "duration": 8,
    "start_time": "2023-06-16T17:54:56.770Z"
   },
   {
    "duration": 11,
    "start_time": "2023-06-16T17:54:56.780Z"
   },
   {
    "duration": 27,
    "start_time": "2023-06-16T17:54:56.793Z"
   },
   {
    "duration": 11,
    "start_time": "2023-06-16T17:54:56.821Z"
   },
   {
    "duration": 69,
    "start_time": "2023-06-16T17:54:56.834Z"
   },
   {
    "duration": 109,
    "start_time": "2023-06-16T17:54:56.904Z"
   },
   {
    "duration": 11,
    "start_time": "2023-06-16T17:54:57.015Z"
   },
   {
    "duration": 6,
    "start_time": "2023-06-16T17:54:57.027Z"
   },
   {
    "duration": 8,
    "start_time": "2023-06-16T17:54:57.034Z"
   },
   {
    "duration": 10,
    "start_time": "2023-06-16T17:54:57.043Z"
   },
   {
    "duration": 9,
    "start_time": "2023-06-16T17:54:57.114Z"
   },
   {
    "duration": 51,
    "start_time": "2023-06-16T17:54:57.199Z"
   },
   {
    "duration": 19,
    "start_time": "2023-06-16T17:54:57.252Z"
   },
   {
    "duration": 11,
    "start_time": "2023-06-16T17:54:57.273Z"
   },
   {
    "duration": 42,
    "start_time": "2023-06-16T17:54:57.285Z"
   },
   {
    "duration": 12170,
    "start_time": "2023-06-16T17:56:31.699Z"
   },
   {
    "duration": 39,
    "start_time": "2023-06-16T17:56:43.871Z"
   },
   {
    "duration": 21,
    "start_time": "2023-06-16T17:56:43.912Z"
   },
   {
    "duration": 29,
    "start_time": "2023-06-16T17:56:43.936Z"
   },
   {
    "duration": 1670,
    "start_time": "2023-06-16T17:56:43.967Z"
   },
   {
    "duration": 17,
    "start_time": "2023-06-16T17:56:45.639Z"
   },
   {
    "duration": 36,
    "start_time": "2023-06-16T17:56:45.658Z"
   },
   {
    "duration": 41,
    "start_time": "2023-06-16T17:56:45.695Z"
   },
   {
    "duration": 19,
    "start_time": "2023-06-16T17:56:45.737Z"
   },
   {
    "duration": 11,
    "start_time": "2023-06-16T17:56:45.759Z"
   },
   {
    "duration": 14,
    "start_time": "2023-06-16T17:56:45.771Z"
   },
   {
    "duration": 34,
    "start_time": "2023-06-16T17:56:45.787Z"
   },
   {
    "duration": 17,
    "start_time": "2023-06-16T17:56:45.822Z"
   },
   {
    "duration": 11,
    "start_time": "2023-06-16T17:56:45.840Z"
   },
   {
    "duration": 34,
    "start_time": "2023-06-16T17:56:45.852Z"
   },
   {
    "duration": 43,
    "start_time": "2023-06-16T17:56:45.887Z"
   },
   {
    "duration": 17,
    "start_time": "2023-06-16T17:56:45.931Z"
   },
   {
    "duration": 24,
    "start_time": "2023-06-16T17:56:45.949Z"
   },
   {
    "duration": 302,
    "start_time": "2023-06-16T17:56:45.974Z"
   },
   {
    "duration": 8,
    "start_time": "2023-06-16T17:56:46.277Z"
   },
   {
    "duration": 310,
    "start_time": "2023-06-16T17:56:46.286Z"
   },
   {
    "duration": 9,
    "start_time": "2023-06-16T17:56:46.598Z"
   },
   {
    "duration": 27,
    "start_time": "2023-06-16T17:56:46.608Z"
   },
   {
    "duration": 27,
    "start_time": "2023-06-16T17:56:46.637Z"
   },
   {
    "duration": 18,
    "start_time": "2023-06-16T17:56:46.667Z"
   },
   {
    "duration": 8,
    "start_time": "2023-06-16T17:56:46.687Z"
   },
   {
    "duration": 45,
    "start_time": "2023-06-16T17:56:46.697Z"
   },
   {
    "duration": 405,
    "start_time": "2023-06-16T17:56:46.746Z"
   },
   {
    "duration": 3,
    "start_time": "2023-06-16T17:56:47.153Z"
   },
   {
    "duration": 19,
    "start_time": "2023-06-16T17:56:47.157Z"
   },
   {
    "duration": 43,
    "start_time": "2023-06-16T17:56:47.177Z"
   },
   {
    "duration": 10,
    "start_time": "2023-06-16T17:56:47.221Z"
   },
   {
    "duration": 17,
    "start_time": "2023-06-16T17:56:47.233Z"
   },
   {
    "duration": 21,
    "start_time": "2023-06-16T17:56:47.252Z"
   },
   {
    "duration": 115,
    "start_time": "2023-06-16T17:56:47.311Z"
   },
   {
    "duration": 12,
    "start_time": "2023-06-16T17:56:47.427Z"
   },
   {
    "duration": 6,
    "start_time": "2023-06-16T17:56:47.440Z"
   },
   {
    "duration": 9,
    "start_time": "2023-06-16T17:56:47.447Z"
   },
   {
    "duration": 9,
    "start_time": "2023-06-16T17:56:47.457Z"
   },
   {
    "duration": 27,
    "start_time": "2023-06-16T17:56:47.467Z"
   },
   {
    "duration": 22,
    "start_time": "2023-06-16T17:56:47.496Z"
   },
   {
    "duration": 14,
    "start_time": "2023-06-16T17:56:47.520Z"
   },
   {
    "duration": 193,
    "start_time": "2023-06-16T17:56:47.536Z"
   },
   {
    "duration": 24,
    "start_time": "2023-06-16T17:56:47.731Z"
   },
   {
    "duration": 9,
    "start_time": "2023-06-16T17:56:47.756Z"
   },
   {
    "duration": 16,
    "start_time": "2023-06-16T17:56:47.766Z"
   },
   {
    "duration": 11,
    "start_time": "2023-06-16T17:56:47.783Z"
   },
   {
    "duration": 133,
    "start_time": "2023-06-16T17:56:47.795Z"
   },
   {
    "duration": 8,
    "start_time": "2023-06-16T17:56:47.929Z"
   },
   {
    "duration": 7,
    "start_time": "2023-06-16T17:56:47.939Z"
   },
   {
    "duration": 63,
    "start_time": "2023-06-16T17:56:47.947Z"
   },
   {
    "duration": 25,
    "start_time": "2023-06-16T17:56:48.012Z"
   },
   {
    "duration": 11599,
    "start_time": "2023-06-16T17:56:57.510Z"
   },
   {
    "duration": 30,
    "start_time": "2023-06-16T17:57:09.113Z"
   },
   {
    "duration": 12,
    "start_time": "2023-06-16T17:57:09.144Z"
   },
   {
    "duration": 30,
    "start_time": "2023-06-16T17:57:09.158Z"
   },
   {
    "duration": 1641,
    "start_time": "2023-06-16T17:57:09.190Z"
   },
   {
    "duration": 20,
    "start_time": "2023-06-16T17:57:10.832Z"
   },
   {
    "duration": 3,
    "start_time": "2023-06-16T17:57:10.853Z"
   },
   {
    "duration": 8,
    "start_time": "2023-06-16T17:57:10.857Z"
   },
   {
    "duration": 7,
    "start_time": "2023-06-16T17:57:10.867Z"
   },
   {
    "duration": 22,
    "start_time": "2023-06-16T17:57:10.877Z"
   },
   {
    "duration": 5,
    "start_time": "2023-06-16T17:57:10.914Z"
   },
   {
    "duration": 6,
    "start_time": "2023-06-16T17:57:10.921Z"
   },
   {
    "duration": 5,
    "start_time": "2023-06-16T17:57:10.929Z"
   },
   {
    "duration": 10,
    "start_time": "2023-06-16T17:57:10.935Z"
   },
   {
    "duration": 8,
    "start_time": "2023-06-16T17:57:10.947Z"
   },
   {
    "duration": 11,
    "start_time": "2023-06-16T17:57:10.956Z"
   },
   {
    "duration": 68,
    "start_time": "2023-06-16T17:57:10.968Z"
   },
   {
    "duration": 21,
    "start_time": "2023-06-16T17:57:11.038Z"
   },
   {
    "duration": 358,
    "start_time": "2023-06-16T17:57:11.061Z"
   },
   {
    "duration": 10,
    "start_time": "2023-06-16T17:57:11.420Z"
   },
   {
    "duration": 340,
    "start_time": "2023-06-16T17:57:11.431Z"
   },
   {
    "duration": 7,
    "start_time": "2023-06-16T17:57:11.773Z"
   },
   {
    "duration": 13,
    "start_time": "2023-06-16T17:57:11.782Z"
   },
   {
    "duration": 29,
    "start_time": "2023-06-16T17:57:11.796Z"
   },
   {
    "duration": 19,
    "start_time": "2023-06-16T17:57:11.827Z"
   },
   {
    "duration": 11,
    "start_time": "2023-06-16T17:57:11.848Z"
   },
   {
    "duration": 6,
    "start_time": "2023-06-16T17:57:11.861Z"
   },
   {
    "duration": 389,
    "start_time": "2023-06-16T17:57:11.870Z"
   },
   {
    "duration": 4,
    "start_time": "2023-06-16T17:57:12.261Z"
   },
   {
    "duration": 24,
    "start_time": "2023-06-16T17:57:12.267Z"
   },
   {
    "duration": 46,
    "start_time": "2023-06-16T17:57:12.294Z"
   },
   {
    "duration": 12,
    "start_time": "2023-06-16T17:57:12.342Z"
   },
   {
    "duration": 8,
    "start_time": "2023-06-16T17:57:12.356Z"
   },
   {
    "duration": 39,
    "start_time": "2023-06-16T17:57:12.366Z"
   },
   {
    "duration": 127,
    "start_time": "2023-06-16T17:57:12.410Z"
   },
   {
    "duration": 16,
    "start_time": "2023-06-16T17:57:12.539Z"
   },
   {
    "duration": 18,
    "start_time": "2023-06-16T17:57:12.556Z"
   },
   {
    "duration": 6,
    "start_time": "2023-06-16T17:57:12.576Z"
   },
   {
    "duration": 5,
    "start_time": "2023-06-16T17:57:12.583Z"
   },
   {
    "duration": 7,
    "start_time": "2023-06-16T17:57:12.589Z"
   },
   {
    "duration": 26,
    "start_time": "2023-06-16T17:57:12.597Z"
   },
   {
    "duration": 19,
    "start_time": "2023-06-16T17:57:12.624Z"
   },
   {
    "duration": 179,
    "start_time": "2023-06-16T17:57:12.644Z"
   },
   {
    "duration": 8,
    "start_time": "2023-06-16T17:57:12.824Z"
   },
   {
    "duration": 10,
    "start_time": "2023-06-16T17:57:12.834Z"
   },
   {
    "duration": 8,
    "start_time": "2023-06-16T17:57:12.846Z"
   },
   {
    "duration": 59,
    "start_time": "2023-06-16T17:57:12.857Z"
   },
   {
    "duration": 101,
    "start_time": "2023-06-16T17:57:12.919Z"
   },
   {
    "duration": 6,
    "start_time": "2023-06-16T17:57:13.022Z"
   },
   {
    "duration": 9,
    "start_time": "2023-06-16T17:57:13.030Z"
   },
   {
    "duration": 8,
    "start_time": "2023-06-16T17:57:13.041Z"
   },
   {
    "duration": 71,
    "start_time": "2023-06-16T17:57:13.051Z"
   }
  ],
  "kernelspec": {
   "display_name": "Python 3 (ipykernel)",
   "language": "python",
   "name": "python3"
  },
  "language_info": {
   "codemirror_mode": {
    "name": "ipython",
    "version": 3
   },
   "file_extension": ".py",
   "mimetype": "text/x-python",
   "name": "python",
   "nbconvert_exporter": "python",
   "pygments_lexer": "ipython3",
   "version": "3.11.2"
  },
  "toc": {
   "base_numbering": 1,
   "nav_menu": {},
   "number_sections": true,
   "sideBar": true,
   "skip_h1_title": true,
   "title_cell": "Содержание",
   "title_sidebar": "Contents",
   "toc_cell": true,
   "toc_position": {
    "height": "calc(100% - 180px)",
    "left": "10px",
    "top": "150px",
    "width": "165px"
   },
   "toc_section_display": true,
   "toc_window_display": true
  }
 },
 "nbformat": 4,
 "nbformat_minor": 4
}
