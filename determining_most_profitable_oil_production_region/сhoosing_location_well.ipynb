{
 "cells": [
  {
   "cell_type": "markdown",
   "metadata": {
    "toc": true
   },
   "source": [
    "<h1>Table of Contents<span class=\"tocSkip\"></span></h1>\n",
    "<div class=\"toc\"><ul class=\"toc-item\"><li><span><a href=\"#Обзор-данных\" data-toc-modified-id=\"Обзор-данных-1\"><span class=\"toc-item-num\">1&nbsp;&nbsp;</span>Обзор данных</a></span></li><li><span><a href=\"#Предобработка-данных\" data-toc-modified-id=\"Предобработка-данных-2\"><span class=\"toc-item-num\">2&nbsp;&nbsp;</span>Предобработка данных</a></span><ul class=\"toc-item\"><li><span><a href=\"#Обработка-дубликатов\" data-toc-modified-id=\"Обработка-дубликатов-2.1\"><span class=\"toc-item-num\">2.1&nbsp;&nbsp;</span>Обработка дубликатов</a></span></li></ul></li><li><span><a href=\"#Подготовка-данных-для-исследования\" data-toc-modified-id=\"Подготовка-данных-для-исследования-3\"><span class=\"toc-item-num\">3&nbsp;&nbsp;</span>Подготовка данных для исследования</a></span><ul class=\"toc-item\"><li><span><a href=\"#Обработка-выбросов\" data-toc-modified-id=\"Обработка-выбросов-3.1\"><span class=\"toc-item-num\">3.1&nbsp;&nbsp;</span>Обработка выбросов</a></span></li></ul></li><li><span><a href=\"#Исследование-модели\" data-toc-modified-id=\"Исследование-модели-4\"><span class=\"toc-item-num\">4&nbsp;&nbsp;</span>Исследование модели</a></span></li><li><span><a href=\"#Подготовка-к-расчёту-прибыли\" data-toc-modified-id=\"Подготовка-к-расчёту-прибыли-5\"><span class=\"toc-item-num\">5&nbsp;&nbsp;</span>Подготовка к расчёту прибыли</a></span></li><li><span><a href=\"#Расчёт-рисков-и-прибыли\" data-toc-modified-id=\"Расчёт-рисков-и-прибыли-6\"><span class=\"toc-item-num\">6&nbsp;&nbsp;</span>Расчёт рисков и прибыли</a></span></li><li><span><a href=\"#Итоги-проекта\" data-toc-modified-id=\"Итоги-проекта-7\"><span class=\"toc-item-num\">7&nbsp;&nbsp;</span>Итоги проекта</a></span></li></ul></div>"
   ]
  },
  {
   "cell_type": "markdown",
   "metadata": {},
   "source": [
    "# Выбор локации для скважины"
   ]
  },
  {
   "cell_type": "markdown",
   "metadata": {},
   "source": [
    "Результат исследования позволит компании, на основе предоставленных проб нефти в трёх регионах (характеристики для каждой скважины (качество нефти и объём её запасов) в каждом регионе), определить регион, где добыча принесёт наибольшую прибыль.\n",
    "\n",
    "\n",
    "**Цель исследования**\n",
    "  1. Необходимо построить модель машинного обучения, для задачи регрессии, которая спрогнозирует регион, где добыча принесёт наибольшую прибыль.\n",
    "  2. Требуется проанализировать возможную прибыль и риски техникой Bootstrap.\n",
    "  3. Необходимо, после оценки рисков, оставить лишь те регионы, в которых вероятность убытков меньше 2.5%.\n",
    "\n",
    "\n",
    "**Исследование пройдёт в шесть этапов:**\n",
    " 1. Обзор данных;\n",
    " 2. Предобработка данных;\n",
    " 3. Подготовка данных для исследования;\n",
    " 4. Исследование модели;\n",
    " 5. Подготовка к расчёту прибыли;\n",
    " 6. Рассчёт рисков и прибыли."
   ]
  },
  {
   "cell_type": "markdown",
   "metadata": {},
   "source": [
    "## Обзор данных\n",
    "\n",
    "Составим первое представление о данных."
   ]
  },
  {
   "cell_type": "markdown",
   "metadata": {},
   "source": [
    "**1. Импортируем библиотеку pandas и другие. Считаем данные из csv-файлов в датафреймы и сохраним в переменные: `geo_data_first_region`, `geo_data_second_region` и `geo_data_third_region`.**"
   ]
  },
  {
   "cell_type": "code",
   "execution_count": null,
   "metadata": {},
   "outputs": [],
   "source": [
    "# обновим библиотеку 'scikit-learn' до последней версии\n",
    "!pip install --upgrade scikit-learn\n",
    "\n",
    "# обновим библиотеку 'pandas' до последней версии\n",
    "!pip install --upgrade pandas\n",
    "\n",
    "# обновим библиотеку 'matplotlib' до последней версии\n",
    "!pip install --upgrade matplotlib\n",
    "\n",
    "# обновим библиотеку 'matplotlib' до последней версии\n",
    "!pip install --upgrade seaborn"
   ]
  },
  {
   "cell_type": "code",
   "execution_count": 1,
   "metadata": {},
   "outputs": [
    {
     "name": "stdout",
     "output_type": "stream",
     "text": [
      "Requirement already satisfied: scikit-learn in /opt/conda/lib/python3.9/site-packages (0.24.1)\n",
      "Collecting scikit-learn\n",
      "  Downloading scikit_learn-1.2.2-cp39-cp39-manylinux_2_17_x86_64.manylinux2014_x86_64.whl (9.6 MB)\n",
      "\u001b[K     |████████████████████████████████| 9.6 MB 1.9 MB/s eta 0:00:01\n",
      "\u001b[?25hRequirement already satisfied: scipy>=1.3.2 in /opt/conda/lib/python3.9/site-packages (from scikit-learn) (1.9.1)\n",
      "Collecting joblib>=1.1.1\n",
      "  Downloading joblib-1.2.0-py3-none-any.whl (297 kB)\n",
      "\u001b[K     |████████████████████████████████| 297 kB 65.8 MB/s eta 0:00:01\n",
      "\u001b[?25hRequirement already satisfied: threadpoolctl>=2.0.0 in /opt/conda/lib/python3.9/site-packages (from scikit-learn) (3.1.0)\n",
      "Requirement already satisfied: numpy>=1.17.3 in /opt/conda/lib/python3.9/site-packages (from scikit-learn) (1.21.1)\n",
      "Installing collected packages: joblib, scikit-learn\n",
      "  Attempting uninstall: joblib\n",
      "    Found existing installation: joblib 1.1.0\n",
      "    Uninstalling joblib-1.1.0:\n",
      "      Successfully uninstalled joblib-1.1.0\n",
      "  Attempting uninstall: scikit-learn\n",
      "    Found existing installation: scikit-learn 0.24.1\n",
      "    Uninstalling scikit-learn-0.24.1:\n",
      "      Successfully uninstalled scikit-learn-0.24.1\n",
      "Successfully installed joblib-1.2.0 scikit-learn-1.2.2\n",
      "Requirement already satisfied: pandas in /opt/conda/lib/python3.9/site-packages (1.2.4)\n",
      "Collecting pandas\n",
      "  Downloading pandas-2.0.2-cp39-cp39-manylinux_2_17_x86_64.manylinux2014_x86_64.whl (12.4 MB)\n",
      "\u001b[K     |████████████████████████████████| 12.4 MB 23.8 MB/s eta 0:00:01   |▋                               | 245 kB 1.2 MB/s eta 0:00:11\n",
      "\u001b[?25hCollecting tzdata>=2022.1\n",
      "  Downloading tzdata-2023.3-py2.py3-none-any.whl (341 kB)\n",
      "\u001b[K     |████████████████████████████████| 341 kB 41.8 MB/s eta 0:00:01\n",
      "\u001b[?25hRequirement already satisfied: pytz>=2020.1 in /opt/conda/lib/python3.9/site-packages (from pandas) (2021.1)\n",
      "Collecting python-dateutil>=2.8.2\n",
      "  Downloading python_dateutil-2.8.2-py2.py3-none-any.whl (247 kB)\n",
      "\u001b[K     |████████████████████████████████| 247 kB 41.4 MB/s eta 0:00:01\n",
      "\u001b[?25hRequirement already satisfied: numpy>=1.20.3 in /opt/conda/lib/python3.9/site-packages (from pandas) (1.21.1)\n",
      "Requirement already satisfied: six>=1.5 in /opt/conda/lib/python3.9/site-packages (from python-dateutil>=2.8.2->pandas) (1.16.0)\n",
      "Installing collected packages: tzdata, python-dateutil, pandas\n",
      "  Attempting uninstall: python-dateutil\n",
      "    Found existing installation: python-dateutil 2.8.1\n",
      "    Uninstalling python-dateutil-2.8.1:\n",
      "      Successfully uninstalled python-dateutil-2.8.1\n",
      "  Attempting uninstall: pandas\n",
      "    Found existing installation: pandas 1.2.4\n",
      "    Uninstalling pandas-1.2.4:\n",
      "      Successfully uninstalled pandas-1.2.4\n",
      "Successfully installed pandas-2.0.2 python-dateutil-2.8.2 tzdata-2023.3\n",
      "Requirement already satisfied: matplotlib in /opt/conda/lib/python3.9/site-packages (3.3.4)\n",
      "Collecting matplotlib\n",
      "  Downloading matplotlib-3.7.1-cp39-cp39-manylinux_2_17_x86_64.manylinux2014_x86_64.whl (11.6 MB)\n",
      "\u001b[K     |████████████████████████████████| 11.6 MB 2.0 MB/s eta 0:00:01\n",
      "\u001b[?25hRequirement already satisfied: packaging>=20.0 in /opt/conda/lib/python3.9/site-packages (from matplotlib) (21.3)\n",
      "Requirement already satisfied: pyparsing>=2.3.1 in /opt/conda/lib/python3.9/site-packages (from matplotlib) (2.4.7)\n",
      "Requirement already satisfied: kiwisolver>=1.0.1 in /opt/conda/lib/python3.9/site-packages (from matplotlib) (1.4.4)\n",
      "Collecting fonttools>=4.22.0\n",
      "  Downloading fonttools-4.39.4-py3-none-any.whl (1.0 MB)\n",
      "\u001b[K     |████████████████████████████████| 1.0 MB 77.1 MB/s eta 0:00:01\n",
      "\u001b[?25hCollecting importlib-resources>=3.2.0\n",
      "  Downloading importlib_resources-5.12.0-py3-none-any.whl (36 kB)\n",
      "Requirement already satisfied: numpy>=1.20 in /opt/conda/lib/python3.9/site-packages (from matplotlib) (1.21.1)\n",
      "Requirement already satisfied: cycler>=0.10 in /opt/conda/lib/python3.9/site-packages (from matplotlib) (0.11.0)\n",
      "Requirement already satisfied: pillow>=6.2.0 in /opt/conda/lib/python3.9/site-packages (from matplotlib) (8.4.0)\n",
      "Collecting contourpy>=1.0.1\n",
      "  Downloading contourpy-1.0.7-cp39-cp39-manylinux_2_17_x86_64.manylinux2014_x86_64.whl (299 kB)\n",
      "\u001b[K     |████████████████████████████████| 299 kB 25.9 MB/s eta 0:00:01\n",
      "\u001b[?25hRequirement already satisfied: python-dateutil>=2.7 in /opt/conda/lib/python3.9/site-packages (from matplotlib) (2.8.2)\n",
      "Requirement already satisfied: zipp>=3.1.0 in /opt/conda/lib/python3.9/site-packages (from importlib-resources>=3.2.0->matplotlib) (3.5.0)\n",
      "Requirement already satisfied: six>=1.5 in /opt/conda/lib/python3.9/site-packages (from python-dateutil>=2.7->matplotlib) (1.16.0)\n",
      "Installing collected packages: importlib-resources, fonttools, contourpy, matplotlib\n",
      "  Attempting uninstall: matplotlib\n",
      "    Found existing installation: matplotlib 3.3.4\n",
      "    Uninstalling matplotlib-3.3.4:\n",
      "      Successfully uninstalled matplotlib-3.3.4\n",
      "Successfully installed contourpy-1.0.7 fonttools-4.39.4 importlib-resources-5.12.0 matplotlib-3.7.1\n",
      "Requirement already satisfied: seaborn in /opt/conda/lib/python3.9/site-packages (0.11.1)\n",
      "Collecting seaborn\n",
      "  Downloading seaborn-0.12.2-py3-none-any.whl (293 kB)\n",
      "\u001b[K     |████████████████████████████████| 293 kB 1.8 MB/s eta 0:00:01\n",
      "\u001b[?25hRequirement already satisfied: numpy!=1.24.0,>=1.17 in /opt/conda/lib/python3.9/site-packages (from seaborn) (1.21.1)\n",
      "Requirement already satisfied: matplotlib!=3.6.1,>=3.1 in /opt/conda/lib/python3.9/site-packages (from seaborn) (3.7.1)\n",
      "Requirement already satisfied: pandas>=0.25 in /opt/conda/lib/python3.9/site-packages (from seaborn) (2.0.2)\n",
      "Requirement already satisfied: fonttools>=4.22.0 in /opt/conda/lib/python3.9/site-packages (from matplotlib!=3.6.1,>=3.1->seaborn) (4.39.4)\n",
      "Requirement already satisfied: importlib-resources>=3.2.0 in /opt/conda/lib/python3.9/site-packages (from matplotlib!=3.6.1,>=3.1->seaborn) (5.12.0)\n",
      "Requirement already satisfied: packaging>=20.0 in /opt/conda/lib/python3.9/site-packages (from matplotlib!=3.6.1,>=3.1->seaborn) (21.3)\n",
      "Requirement already satisfied: pyparsing>=2.3.1 in /opt/conda/lib/python3.9/site-packages (from matplotlib!=3.6.1,>=3.1->seaborn) (2.4.7)\n",
      "Requirement already satisfied: python-dateutil>=2.7 in /opt/conda/lib/python3.9/site-packages (from matplotlib!=3.6.1,>=3.1->seaborn) (2.8.2)\n",
      "Requirement already satisfied: contourpy>=1.0.1 in /opt/conda/lib/python3.9/site-packages (from matplotlib!=3.6.1,>=3.1->seaborn) (1.0.7)\n",
      "Requirement already satisfied: cycler>=0.10 in /opt/conda/lib/python3.9/site-packages (from matplotlib!=3.6.1,>=3.1->seaborn) (0.11.0)\n",
      "Requirement already satisfied: pillow>=6.2.0 in /opt/conda/lib/python3.9/site-packages (from matplotlib!=3.6.1,>=3.1->seaborn) (8.4.0)\n",
      "Requirement already satisfied: kiwisolver>=1.0.1 in /opt/conda/lib/python3.9/site-packages (from matplotlib!=3.6.1,>=3.1->seaborn) (1.4.4)\n",
      "Requirement already satisfied: zipp>=3.1.0 in /opt/conda/lib/python3.9/site-packages (from importlib-resources>=3.2.0->matplotlib!=3.6.1,>=3.1->seaborn) (3.5.0)\n",
      "Requirement already satisfied: pytz>=2020.1 in /opt/conda/lib/python3.9/site-packages (from pandas>=0.25->seaborn) (2021.1)\n",
      "Requirement already satisfied: tzdata>=2022.1 in /opt/conda/lib/python3.9/site-packages (from pandas>=0.25->seaborn) (2023.3)\n",
      "Requirement already satisfied: six>=1.5 in /opt/conda/lib/python3.9/site-packages (from python-dateutil>=2.7->matplotlib!=3.6.1,>=3.1->seaborn) (1.16.0)\n",
      "Installing collected packages: seaborn\n",
      "  Attempting uninstall: seaborn\n",
      "    Found existing installation: seaborn 0.11.1\n",
      "    Uninstalling seaborn-0.11.1:\n",
      "      Successfully uninstalled seaborn-0.11.1\n",
      "Successfully installed seaborn-0.12.2\n"
     ]
    }
   ],
   "source": [
    "# импорт библиотеки 'os'\n",
    "import os\n",
    "\n",
    "# импорт библиотеки 'concurrent' модуль 'future'\n",
    "import concurrent.futures\n",
    "\n",
    "# импорт библиотеки 'pandas'\n",
    "import pandas as pd\n",
    "\n",
    "# импорт библиотеки 'numpy'\n",
    "import numpy as np\n",
    "\n",
    "# импортируем библиотеку 'matplotlib.pyplot' для построения графиков\n",
    "import matplotlib.pyplot as plt\n",
    "\n",
    "# импортируем библиотеку 'matplotlib.pyplot' для построения графиков\n",
    "import seaborn as sns\n",
    "\n",
    "# импорт библиотеки для модели \"линейной регрессии\"\n",
    "from sklearn.linear_model import LinearRegression\n",
    "\n",
    "# импорт библиотеки для оценки качества модели\n",
    "from sklearn.metrics import (mean_squared_error,\n",
    "                             mean_absolute_error,\n",
    "                             mean_squared_log_error,\n",
    "                             r2_score,\n",
    "                             mean_absolute_percentage_error)\n",
    "\n",
    "# импорт библиотеки для кросс-валидации\n",
    "from sklearn.model_selection import train_test_split, KFold, cross_val_score\n",
    "\n",
    "# импорт библиотеки для масштабирования признаков\n",
    "from sklearn.preprocessing import StandardScaler, MinMaxScaler\n",
    "\n",
    "# импорт библиотеки для нахождения доверительного интервала\n",
    "from scipy import stats as st\n",
    "\n",
    "# импорт библиотеки для bootstrap\n",
    "from numpy.random import RandomState"
   ]
  },
  {
   "cell_type": "code",
   "execution_count": 2,
   "metadata": {},
   "outputs": [],
   "source": [
    "try:\n",
    "    # читаем данные из csv-файлов и сохраняем их в виде датафреймов в 'geo_data_first_region',\n",
    "    # 'geo_data_second_region' и 'geo_data_third_region'\n",
    "    geo_data_first_region = pd.read_csv('***')\n",
    "    geo_data_second_region = pd.read_csv('***')\n",
    "    geo_data_third_region = pd.read_csv('***')\n",
    "    \n",
    "except:\n",
    "    # в случае отсутствия csv-файлов в локальном месторасположении, читаем их из облачного хранилища\n",
    "    # и сохраняем данные в виде датафреймов в 'geo_data_first_region', \n",
    "    # 'geo_data_second_region' и 'geo_data_third_region'\n",
    "    geo_data_first_region = pd.read_csv('***')\n",
    "    geo_data_second_region = pd.read_csv('***')\n",
    "    geo_data_third_region = pd.read_csv('***')"
   ]
  },
  {
   "cell_type": "markdown",
   "metadata": {},
   "source": [
    "**2. Выведем первые пять строчек датафреймов: `geo_data_first_region`, `geo_data_second_region` и `geo_data_third_region` на экран.**"
   ]
  },
  {
   "cell_type": "code",
   "execution_count": 3,
   "metadata": {},
   "outputs": [
    {
     "data": {
      "text/html": [
       "<div>\n",
       "<style scoped>\n",
       "    .dataframe tbody tr th:only-of-type {\n",
       "        vertical-align: middle;\n",
       "    }\n",
       "\n",
       "    .dataframe tbody tr th {\n",
       "        vertical-align: top;\n",
       "    }\n",
       "\n",
       "    .dataframe thead th {\n",
       "        text-align: right;\n",
       "    }\n",
       "</style>\n",
       "<table border=\"1\" class=\"dataframe\">\n",
       "  <thead>\n",
       "    <tr style=\"text-align: right;\">\n",
       "      <th></th>\n",
       "      <th>id</th>\n",
       "      <th>f0</th>\n",
       "      <th>f1</th>\n",
       "      <th>f2</th>\n",
       "      <th>product</th>\n",
       "    </tr>\n",
       "  </thead>\n",
       "  <tbody>\n",
       "    <tr>\n",
       "      <th>0</th>\n",
       "      <td>txEyH</td>\n",
       "      <td>0.705745</td>\n",
       "      <td>-0.497823</td>\n",
       "      <td>1.221170</td>\n",
       "      <td>105.280062</td>\n",
       "    </tr>\n",
       "    <tr>\n",
       "      <th>1</th>\n",
       "      <td>2acmU</td>\n",
       "      <td>1.334711</td>\n",
       "      <td>-0.340164</td>\n",
       "      <td>4.365080</td>\n",
       "      <td>73.037750</td>\n",
       "    </tr>\n",
       "    <tr>\n",
       "      <th>2</th>\n",
       "      <td>409Wp</td>\n",
       "      <td>1.022732</td>\n",
       "      <td>0.151990</td>\n",
       "      <td>1.419926</td>\n",
       "      <td>85.265647</td>\n",
       "    </tr>\n",
       "    <tr>\n",
       "      <th>3</th>\n",
       "      <td>iJLyR</td>\n",
       "      <td>-0.032172</td>\n",
       "      <td>0.139033</td>\n",
       "      <td>2.978566</td>\n",
       "      <td>168.620776</td>\n",
       "    </tr>\n",
       "    <tr>\n",
       "      <th>4</th>\n",
       "      <td>Xdl7t</td>\n",
       "      <td>1.988431</td>\n",
       "      <td>0.155413</td>\n",
       "      <td>4.751769</td>\n",
       "      <td>154.036647</td>\n",
       "    </tr>\n",
       "  </tbody>\n",
       "</table>\n",
       "</div>"
      ],
      "text/plain": [
       "      id        f0        f1        f2     product\n",
       "0  txEyH  0.705745 -0.497823  1.221170  105.280062\n",
       "1  2acmU  1.334711 -0.340164  4.365080   73.037750\n",
       "2  409Wp  1.022732  0.151990  1.419926   85.265647\n",
       "3  iJLyR -0.032172  0.139033  2.978566  168.620776\n",
       "4  Xdl7t  1.988431  0.155413  4.751769  154.036647"
      ]
     },
     "execution_count": 3,
     "metadata": {},
     "output_type": "execute_result"
    }
   ],
   "source": [
    "# посмотрим первых пять строк датафрейма 'geo_data_first_region'\n",
    "geo_data_first_region.head()"
   ]
  },
  {
   "cell_type": "code",
   "execution_count": 4,
   "metadata": {},
   "outputs": [
    {
     "data": {
      "text/html": [
       "<div>\n",
       "<style scoped>\n",
       "    .dataframe tbody tr th:only-of-type {\n",
       "        vertical-align: middle;\n",
       "    }\n",
       "\n",
       "    .dataframe tbody tr th {\n",
       "        vertical-align: top;\n",
       "    }\n",
       "\n",
       "    .dataframe thead th {\n",
       "        text-align: right;\n",
       "    }\n",
       "</style>\n",
       "<table border=\"1\" class=\"dataframe\">\n",
       "  <thead>\n",
       "    <tr style=\"text-align: right;\">\n",
       "      <th></th>\n",
       "      <th>id</th>\n",
       "      <th>f0</th>\n",
       "      <th>f1</th>\n",
       "      <th>f2</th>\n",
       "      <th>product</th>\n",
       "    </tr>\n",
       "  </thead>\n",
       "  <tbody>\n",
       "    <tr>\n",
       "      <th>0</th>\n",
       "      <td>kBEdx</td>\n",
       "      <td>-15.001348</td>\n",
       "      <td>-8.276000</td>\n",
       "      <td>-0.005876</td>\n",
       "      <td>3.179103</td>\n",
       "    </tr>\n",
       "    <tr>\n",
       "      <th>1</th>\n",
       "      <td>62mP7</td>\n",
       "      <td>14.272088</td>\n",
       "      <td>-3.475083</td>\n",
       "      <td>0.999183</td>\n",
       "      <td>26.953261</td>\n",
       "    </tr>\n",
       "    <tr>\n",
       "      <th>2</th>\n",
       "      <td>vyE1P</td>\n",
       "      <td>6.263187</td>\n",
       "      <td>-5.948386</td>\n",
       "      <td>5.001160</td>\n",
       "      <td>134.766305</td>\n",
       "    </tr>\n",
       "    <tr>\n",
       "      <th>3</th>\n",
       "      <td>KcrkZ</td>\n",
       "      <td>-13.081196</td>\n",
       "      <td>-11.506057</td>\n",
       "      <td>4.999415</td>\n",
       "      <td>137.945408</td>\n",
       "    </tr>\n",
       "    <tr>\n",
       "      <th>4</th>\n",
       "      <td>AHL4O</td>\n",
       "      <td>12.702195</td>\n",
       "      <td>-8.147433</td>\n",
       "      <td>5.004363</td>\n",
       "      <td>134.766305</td>\n",
       "    </tr>\n",
       "  </tbody>\n",
       "</table>\n",
       "</div>"
      ],
      "text/plain": [
       "      id         f0         f1        f2     product\n",
       "0  kBEdx -15.001348  -8.276000 -0.005876    3.179103\n",
       "1  62mP7  14.272088  -3.475083  0.999183   26.953261\n",
       "2  vyE1P   6.263187  -5.948386  5.001160  134.766305\n",
       "3  KcrkZ -13.081196 -11.506057  4.999415  137.945408\n",
       "4  AHL4O  12.702195  -8.147433  5.004363  134.766305"
      ]
     },
     "execution_count": 4,
     "metadata": {},
     "output_type": "execute_result"
    }
   ],
   "source": [
    "# посмотрим первых пять строк датафрейма 'geo_data_second_region'\n",
    "geo_data_second_region.head()"
   ]
  },
  {
   "cell_type": "code",
   "execution_count": 5,
   "metadata": {},
   "outputs": [
    {
     "data": {
      "text/html": [
       "<div>\n",
       "<style scoped>\n",
       "    .dataframe tbody tr th:only-of-type {\n",
       "        vertical-align: middle;\n",
       "    }\n",
       "\n",
       "    .dataframe tbody tr th {\n",
       "        vertical-align: top;\n",
       "    }\n",
       "\n",
       "    .dataframe thead th {\n",
       "        text-align: right;\n",
       "    }\n",
       "</style>\n",
       "<table border=\"1\" class=\"dataframe\">\n",
       "  <thead>\n",
       "    <tr style=\"text-align: right;\">\n",
       "      <th></th>\n",
       "      <th>id</th>\n",
       "      <th>f0</th>\n",
       "      <th>f1</th>\n",
       "      <th>f2</th>\n",
       "      <th>product</th>\n",
       "    </tr>\n",
       "  </thead>\n",
       "  <tbody>\n",
       "    <tr>\n",
       "      <th>0</th>\n",
       "      <td>fwXo0</td>\n",
       "      <td>-1.146987</td>\n",
       "      <td>0.963328</td>\n",
       "      <td>-0.828965</td>\n",
       "      <td>27.758673</td>\n",
       "    </tr>\n",
       "    <tr>\n",
       "      <th>1</th>\n",
       "      <td>WJtFt</td>\n",
       "      <td>0.262778</td>\n",
       "      <td>0.269839</td>\n",
       "      <td>-2.530187</td>\n",
       "      <td>56.069697</td>\n",
       "    </tr>\n",
       "    <tr>\n",
       "      <th>2</th>\n",
       "      <td>ovLUW</td>\n",
       "      <td>0.194587</td>\n",
       "      <td>0.289035</td>\n",
       "      <td>-5.586433</td>\n",
       "      <td>62.871910</td>\n",
       "    </tr>\n",
       "    <tr>\n",
       "      <th>3</th>\n",
       "      <td>q6cA6</td>\n",
       "      <td>2.236060</td>\n",
       "      <td>-0.553760</td>\n",
       "      <td>0.930038</td>\n",
       "      <td>114.572842</td>\n",
       "    </tr>\n",
       "    <tr>\n",
       "      <th>4</th>\n",
       "      <td>WPMUX</td>\n",
       "      <td>-0.515993</td>\n",
       "      <td>1.716266</td>\n",
       "      <td>5.899011</td>\n",
       "      <td>149.600746</td>\n",
       "    </tr>\n",
       "  </tbody>\n",
       "</table>\n",
       "</div>"
      ],
      "text/plain": [
       "      id        f0        f1        f2     product\n",
       "0  fwXo0 -1.146987  0.963328 -0.828965   27.758673\n",
       "1  WJtFt  0.262778  0.269839 -2.530187   56.069697\n",
       "2  ovLUW  0.194587  0.289035 -5.586433   62.871910\n",
       "3  q6cA6  2.236060 -0.553760  0.930038  114.572842\n",
       "4  WPMUX -0.515993  1.716266  5.899011  149.600746"
      ]
     },
     "execution_count": 5,
     "metadata": {},
     "output_type": "execute_result"
    }
   ],
   "source": [
    "# посмотрим первых пять строк датафрейма 'geo_data_third_region'\n",
    "geo_data_third_region.head()"
   ]
  },
  {
   "cell_type": "markdown",
   "metadata": {},
   "source": [
    "**3. Выведем основную информацию о датафреймах с помощью метода `info()`.**"
   ]
  },
  {
   "cell_type": "code",
   "execution_count": 6,
   "metadata": {},
   "outputs": [
    {
     "name": "stdout",
     "output_type": "stream",
     "text": [
      "<class 'pandas.core.frame.DataFrame'>\n",
      "RangeIndex: 100000 entries, 0 to 99999\n",
      "Data columns (total 5 columns):\n",
      " #   Column   Non-Null Count   Dtype  \n",
      "---  ------   --------------   -----  \n",
      " 0   id       100000 non-null  object \n",
      " 1   f0       100000 non-null  float64\n",
      " 2   f1       100000 non-null  float64\n",
      " 3   f2       100000 non-null  float64\n",
      " 4   product  100000 non-null  float64\n",
      "dtypes: float64(4), object(1)\n",
      "memory usage: 3.8+ MB\n"
     ]
    }
   ],
   "source": [
    "# получение общей информации о данных в датафрейме 'geo_data_first_region'\n",
    "geo_data_first_region.info()"
   ]
  },
  {
   "cell_type": "markdown",
   "metadata": {},
   "source": [
    "Итак, в таблице четыре столбца. Типы данных в столбцах — `float64` и `object`.\n",
    "\n",
    "* `id` — уникальный идентификатор скважины;\n",
    "* `f0` - значимый признак;\n",
    "* `f1` - значимый признак;\n",
    "* `f2` - значимый признак;\n",
    "* `product` — объём запасов в скважине (тыс. баррелей).\n",
    "\n",
    "Количество значений в столбце одинаковое и соответствует общему количеству записей в таблице. Значит в данных отсутствуют пропуски. В названиях всех колонок (столбцов) таблицы, отсутствуют нарушения стиля."
   ]
  },
  {
   "cell_type": "code",
   "execution_count": 7,
   "metadata": {},
   "outputs": [
    {
     "name": "stdout",
     "output_type": "stream",
     "text": [
      "<class 'pandas.core.frame.DataFrame'>\n",
      "RangeIndex: 100000 entries, 0 to 99999\n",
      "Data columns (total 5 columns):\n",
      " #   Column   Non-Null Count   Dtype  \n",
      "---  ------   --------------   -----  \n",
      " 0   id       100000 non-null  object \n",
      " 1   f0       100000 non-null  float64\n",
      " 2   f1       100000 non-null  float64\n",
      " 3   f2       100000 non-null  float64\n",
      " 4   product  100000 non-null  float64\n",
      "dtypes: float64(4), object(1)\n",
      "memory usage: 3.8+ MB\n"
     ]
    }
   ],
   "source": [
    "# получение общей информации о данных в датафрейме 'geo_data_second_region'\n",
    "geo_data_second_region.info()"
   ]
  },
  {
   "cell_type": "markdown",
   "metadata": {},
   "source": [
    "Итак, в таблице четыре столбца. Типы данных в столбцах — `float64` и `object`.\n",
    "\n",
    "* `id` — уникальный идентификатор скважины;\n",
    "* `f0` - значимый признак;\n",
    "* `f1` - значимый признак;\n",
    "* `f2` - значимый признак;\n",
    "* `product` — объём запасов в скважине (тыс. баррелей).\n",
    "\n",
    "Количество значений в столбце одинаковое и соответствует общему количеству записей в таблице. Значит в данных отсутствуют пропуски. В названиях всех колонок (столбцов) таблицы, отсутствуют нарушения стиля."
   ]
  },
  {
   "cell_type": "code",
   "execution_count": 8,
   "metadata": {},
   "outputs": [
    {
     "name": "stdout",
     "output_type": "stream",
     "text": [
      "<class 'pandas.core.frame.DataFrame'>\n",
      "RangeIndex: 100000 entries, 0 to 99999\n",
      "Data columns (total 5 columns):\n",
      " #   Column   Non-Null Count   Dtype  \n",
      "---  ------   --------------   -----  \n",
      " 0   id       100000 non-null  object \n",
      " 1   f0       100000 non-null  float64\n",
      " 2   f1       100000 non-null  float64\n",
      " 3   f2       100000 non-null  float64\n",
      " 4   product  100000 non-null  float64\n",
      "dtypes: float64(4), object(1)\n",
      "memory usage: 3.8+ MB\n"
     ]
    }
   ],
   "source": [
    "# получение общей информации о данных в датафрейме 'geo_data_third_region'\n",
    "geo_data_third_region.info()"
   ]
  },
  {
   "cell_type": "markdown",
   "metadata": {},
   "source": [
    "Итак, в таблице четыре столбца. Типы данных в столбцах — `float64` и `object`.\n",
    "\n",
    "* `id` — уникальный идентификатор скважины;\n",
    "* `f0` - значимый признак;\n",
    "* `f1` - значимый признак;\n",
    "* `f2` - значимый признак;\n",
    "* `product` — объём запасов в скважине (тыс. баррелей).\n",
    "\n",
    "Количество значений в столбце одинаковое и соответствует общему количеству записей в таблице. Значит в данных отсутствуют пропуски. В названиях всех колонок (столбцов) таблицы, отсутствуют нарушения стиля."
   ]
  },
  {
   "cell_type": "markdown",
   "metadata": {},
   "source": [
    "**4. Построим общую гистограмму для всех числовых столбцов таблицы в каждом датафрейме.** <a id='step_4'></a>"
   ]
  },
  {
   "cell_type": "code",
   "execution_count": 9,
   "metadata": {
    "scrolled": true
   },
   "outputs": [
    {
     "data": {
      "image/png": "[encoded data removed]",
      "text/plain": [
       "<Figure size 1080x1440 with 4 Axes>"
      ]
     },
     "metadata": {
      "needs_background": "light"
     },
     "output_type": "display_data"
    }
   ],
   "source": [
    "# с помощью функции 'hist' построим общую гистограмму для 'geo_data_first_region'\n",
    "geo_data_first_region.hist(bins= 100, figsize=(15, 20));"
   ]
  },
  {
   "cell_type": "code",
   "execution_count": 10,
   "metadata": {},
   "outputs": [
    {
     "data": {
      "image/png": "[encoded data removed]",
      "text/plain": [
       "<Figure size 1080x1440 with 4 Axes>"
      ]
     },
     "metadata": {
      "needs_background": "light"
     },
     "output_type": "display_data"
    }
   ],
   "source": [
    "# с помощью функции 'hist' построим общую гистограмму для 'geo_data_second_region'\n",
    "geo_data_second_region.hist(bins= 100, figsize=(15, 20));"
   ]
  },
  {
   "cell_type": "code",
   "execution_count": 11,
   "metadata": {},
   "outputs": [
    {
     "data": {
      "image/png": "[encoded data removed]",
      "text/plain": [
       "<Figure size 1080x1440 with 4 Axes>"
      ]
     },
     "metadata": {
      "needs_background": "light"
     },
     "output_type": "display_data"
    }
   ],
   "source": [
    "# с помощью функции 'hist' построим общую гистограмму для 'geo_data_third_region'\n",
    "geo_data_third_region.hist(bins= 100, figsize=(15, 20));"
   ]
  },
  {
   "cell_type": "markdown",
   "metadata": {},
   "source": [
    "**5. Посмотрим статистическую информацию по каждому числовому столбцу таблицы, в каждом датафрейме.**"
   ]
  },
  {
   "cell_type": "code",
   "execution_count": 12,
   "metadata": {},
   "outputs": [
    {
     "data": {
      "text/html": [
       "<div>\n",
       "<style scoped>\n",
       "    .dataframe tbody tr th:only-of-type {\n",
       "        vertical-align: middle;\n",
       "    }\n",
       "\n",
       "    .dataframe tbody tr th {\n",
       "        vertical-align: top;\n",
       "    }\n",
       "\n",
       "    .dataframe thead th {\n",
       "        text-align: right;\n",
       "    }\n",
       "</style>\n",
       "<table border=\"1\" class=\"dataframe\">\n",
       "  <thead>\n",
       "    <tr style=\"text-align: right;\">\n",
       "      <th></th>\n",
       "      <th>f0</th>\n",
       "      <th>f1</th>\n",
       "      <th>f2</th>\n",
       "      <th>product</th>\n",
       "    </tr>\n",
       "  </thead>\n",
       "  <tbody>\n",
       "    <tr>\n",
       "      <th>count</th>\n",
       "      <td>100000.000000</td>\n",
       "      <td>100000.000000</td>\n",
       "      <td>100000.000000</td>\n",
       "      <td>100000.000000</td>\n",
       "    </tr>\n",
       "    <tr>\n",
       "      <th>mean</th>\n",
       "      <td>0.500419</td>\n",
       "      <td>0.250143</td>\n",
       "      <td>2.502647</td>\n",
       "      <td>92.500000</td>\n",
       "    </tr>\n",
       "    <tr>\n",
       "      <th>std</th>\n",
       "      <td>0.871832</td>\n",
       "      <td>0.504433</td>\n",
       "      <td>3.248248</td>\n",
       "      <td>44.288691</td>\n",
       "    </tr>\n",
       "    <tr>\n",
       "      <th>min</th>\n",
       "      <td>-1.408605</td>\n",
       "      <td>-0.848218</td>\n",
       "      <td>-12.088328</td>\n",
       "      <td>0.000000</td>\n",
       "    </tr>\n",
       "    <tr>\n",
       "      <th>25%</th>\n",
       "      <td>-0.072580</td>\n",
       "      <td>-0.200881</td>\n",
       "      <td>0.287748</td>\n",
       "      <td>56.497507</td>\n",
       "    </tr>\n",
       "    <tr>\n",
       "      <th>50%</th>\n",
       "      <td>0.502360</td>\n",
       "      <td>0.250252</td>\n",
       "      <td>2.515969</td>\n",
       "      <td>91.849972</td>\n",
       "    </tr>\n",
       "    <tr>\n",
       "      <th>75%</th>\n",
       "      <td>1.073581</td>\n",
       "      <td>0.700646</td>\n",
       "      <td>4.715088</td>\n",
       "      <td>128.564089</td>\n",
       "    </tr>\n",
       "    <tr>\n",
       "      <th>max</th>\n",
       "      <td>2.362331</td>\n",
       "      <td>1.343769</td>\n",
       "      <td>16.003790</td>\n",
       "      <td>185.364347</td>\n",
       "    </tr>\n",
       "  </tbody>\n",
       "</table>\n",
       "</div>"
      ],
      "text/plain": [
       "                  f0             f1             f2        product\n",
       "count  100000.000000  100000.000000  100000.000000  100000.000000\n",
       "mean        0.500419       0.250143       2.502647      92.500000\n",
       "std         0.871832       0.504433       3.248248      44.288691\n",
       "min        -1.408605      -0.848218     -12.088328       0.000000\n",
       "25%        -0.072580      -0.200881       0.287748      56.497507\n",
       "50%         0.502360       0.250252       2.515969      91.849972\n",
       "75%         1.073581       0.700646       4.715088     128.564089\n",
       "max         2.362331       1.343769      16.003790     185.364347"
      ]
     },
     "execution_count": 12,
     "metadata": {},
     "output_type": "execute_result"
    }
   ],
   "source": [
    "# выведем статистическую информацию для 'geo_data_first_region'\n",
    "geo_data_first_region.describe()"
   ]
  },
  {
   "cell_type": "code",
   "execution_count": 13,
   "metadata": {},
   "outputs": [
    {
     "data": {
      "text/html": [
       "<div>\n",
       "<style scoped>\n",
       "    .dataframe tbody tr th:only-of-type {\n",
       "        vertical-align: middle;\n",
       "    }\n",
       "\n",
       "    .dataframe tbody tr th {\n",
       "        vertical-align: top;\n",
       "    }\n",
       "\n",
       "    .dataframe thead th {\n",
       "        text-align: right;\n",
       "    }\n",
       "</style>\n",
       "<table border=\"1\" class=\"dataframe\">\n",
       "  <thead>\n",
       "    <tr style=\"text-align: right;\">\n",
       "      <th></th>\n",
       "      <th>f0</th>\n",
       "      <th>f1</th>\n",
       "      <th>f2</th>\n",
       "      <th>product</th>\n",
       "    </tr>\n",
       "  </thead>\n",
       "  <tbody>\n",
       "    <tr>\n",
       "      <th>count</th>\n",
       "      <td>100000.000000</td>\n",
       "      <td>100000.000000</td>\n",
       "      <td>100000.000000</td>\n",
       "      <td>100000.000000</td>\n",
       "    </tr>\n",
       "    <tr>\n",
       "      <th>mean</th>\n",
       "      <td>1.141296</td>\n",
       "      <td>-4.796579</td>\n",
       "      <td>2.494541</td>\n",
       "      <td>68.825000</td>\n",
       "    </tr>\n",
       "    <tr>\n",
       "      <th>std</th>\n",
       "      <td>8.965932</td>\n",
       "      <td>5.119872</td>\n",
       "      <td>1.703572</td>\n",
       "      <td>45.944423</td>\n",
       "    </tr>\n",
       "    <tr>\n",
       "      <th>min</th>\n",
       "      <td>-31.609576</td>\n",
       "      <td>-26.358598</td>\n",
       "      <td>-0.018144</td>\n",
       "      <td>0.000000</td>\n",
       "    </tr>\n",
       "    <tr>\n",
       "      <th>25%</th>\n",
       "      <td>-6.298551</td>\n",
       "      <td>-8.267985</td>\n",
       "      <td>1.000021</td>\n",
       "      <td>26.953261</td>\n",
       "    </tr>\n",
       "    <tr>\n",
       "      <th>50%</th>\n",
       "      <td>1.153055</td>\n",
       "      <td>-4.813172</td>\n",
       "      <td>2.011479</td>\n",
       "      <td>57.085625</td>\n",
       "    </tr>\n",
       "    <tr>\n",
       "      <th>75%</th>\n",
       "      <td>8.621015</td>\n",
       "      <td>-1.332816</td>\n",
       "      <td>3.999904</td>\n",
       "      <td>107.813044</td>\n",
       "    </tr>\n",
       "    <tr>\n",
       "      <th>max</th>\n",
       "      <td>29.421755</td>\n",
       "      <td>18.734063</td>\n",
       "      <td>5.019721</td>\n",
       "      <td>137.945408</td>\n",
       "    </tr>\n",
       "  </tbody>\n",
       "</table>\n",
       "</div>"
      ],
      "text/plain": [
       "                  f0             f1             f2        product\n",
       "count  100000.000000  100000.000000  100000.000000  100000.000000\n",
       "mean        1.141296      -4.796579       2.494541      68.825000\n",
       "std         8.965932       5.119872       1.703572      45.944423\n",
       "min       -31.609576     -26.358598      -0.018144       0.000000\n",
       "25%        -6.298551      -8.267985       1.000021      26.953261\n",
       "50%         1.153055      -4.813172       2.011479      57.085625\n",
       "75%         8.621015      -1.332816       3.999904     107.813044\n",
       "max        29.421755      18.734063       5.019721     137.945408"
      ]
     },
     "execution_count": 13,
     "metadata": {},
     "output_type": "execute_result"
    }
   ],
   "source": [
    "# выведем статистическую информацию для 'geo_data_second_region'\n",
    "geo_data_second_region.describe()"
   ]
  },
  {
   "cell_type": "code",
   "execution_count": 14,
   "metadata": {},
   "outputs": [
    {
     "data": {
      "text/html": [
       "<div>\n",
       "<style scoped>\n",
       "    .dataframe tbody tr th:only-of-type {\n",
       "        vertical-align: middle;\n",
       "    }\n",
       "\n",
       "    .dataframe tbody tr th {\n",
       "        vertical-align: top;\n",
       "    }\n",
       "\n",
       "    .dataframe thead th {\n",
       "        text-align: right;\n",
       "    }\n",
       "</style>\n",
       "<table border=\"1\" class=\"dataframe\">\n",
       "  <thead>\n",
       "    <tr style=\"text-align: right;\">\n",
       "      <th></th>\n",
       "      <th>f0</th>\n",
       "      <th>f1</th>\n",
       "      <th>f2</th>\n",
       "      <th>product</th>\n",
       "    </tr>\n",
       "  </thead>\n",
       "  <tbody>\n",
       "    <tr>\n",
       "      <th>count</th>\n",
       "      <td>100000.000000</td>\n",
       "      <td>100000.000000</td>\n",
       "      <td>100000.000000</td>\n",
       "      <td>100000.000000</td>\n",
       "    </tr>\n",
       "    <tr>\n",
       "      <th>mean</th>\n",
       "      <td>0.002023</td>\n",
       "      <td>-0.002081</td>\n",
       "      <td>2.495128</td>\n",
       "      <td>95.000000</td>\n",
       "    </tr>\n",
       "    <tr>\n",
       "      <th>std</th>\n",
       "      <td>1.732045</td>\n",
       "      <td>1.730417</td>\n",
       "      <td>3.473445</td>\n",
       "      <td>44.749921</td>\n",
       "    </tr>\n",
       "    <tr>\n",
       "      <th>min</th>\n",
       "      <td>-8.760004</td>\n",
       "      <td>-7.084020</td>\n",
       "      <td>-11.970335</td>\n",
       "      <td>0.000000</td>\n",
       "    </tr>\n",
       "    <tr>\n",
       "      <th>25%</th>\n",
       "      <td>-1.162288</td>\n",
       "      <td>-1.174820</td>\n",
       "      <td>0.130359</td>\n",
       "      <td>59.450441</td>\n",
       "    </tr>\n",
       "    <tr>\n",
       "      <th>50%</th>\n",
       "      <td>0.009424</td>\n",
       "      <td>-0.009482</td>\n",
       "      <td>2.484236</td>\n",
       "      <td>94.925613</td>\n",
       "    </tr>\n",
       "    <tr>\n",
       "      <th>75%</th>\n",
       "      <td>1.158535</td>\n",
       "      <td>1.163678</td>\n",
       "      <td>4.858794</td>\n",
       "      <td>130.595027</td>\n",
       "    </tr>\n",
       "    <tr>\n",
       "      <th>max</th>\n",
       "      <td>7.238262</td>\n",
       "      <td>7.844801</td>\n",
       "      <td>16.739402</td>\n",
       "      <td>190.029838</td>\n",
       "    </tr>\n",
       "  </tbody>\n",
       "</table>\n",
       "</div>"
      ],
      "text/plain": [
       "                  f0             f1             f2        product\n",
       "count  100000.000000  100000.000000  100000.000000  100000.000000\n",
       "mean        0.002023      -0.002081       2.495128      95.000000\n",
       "std         1.732045       1.730417       3.473445      44.749921\n",
       "min        -8.760004      -7.084020     -11.970335       0.000000\n",
       "25%        -1.162288      -1.174820       0.130359      59.450441\n",
       "50%         0.009424      -0.009482       2.484236      94.925613\n",
       "75%         1.158535       1.163678       4.858794     130.595027\n",
       "max         7.238262       7.844801      16.739402     190.029838"
      ]
     },
     "execution_count": 14,
     "metadata": {},
     "output_type": "execute_result"
    }
   ],
   "source": [
    "# выведем статистическую информацию для 'geo_data_third_region'\n",
    "geo_data_third_region.describe()"
   ]
  },
  {
   "cell_type": "markdown",
   "metadata": {},
   "source": [
    "**6. Создадим глобальные переменные для хранения размеров исходных датасетов.**"
   ]
  },
  {
   "cell_type": "code",
   "execution_count": 15,
   "metadata": {},
   "outputs": [],
   "source": [
    "geo_data_first_region_source_size = geo_data_first_region.shape[0]"
   ]
  },
  {
   "cell_type": "code",
   "execution_count": 16,
   "metadata": {},
   "outputs": [],
   "source": [
    "geo_data_second_region_source_size = geo_data_second_region.shape[0]"
   ]
  },
  {
   "cell_type": "code",
   "execution_count": 17,
   "metadata": {},
   "outputs": [],
   "source": [
    "geo_data_third_region_source_size = geo_data_third_region.shape[0]"
   ]
  },
  {
   "cell_type": "markdown",
   "metadata": {},
   "source": [
    "**Выводы**\n",
    "\n",
    "Предварительно можно утверждать, что данных достаточно для исследования. Отсутствуют пропуски. Возможно, есть аномальные значения (артефакты) и дубликаты (явные/неявные) в данных. Столбцы содержат подходящие типы данных. В названиях всех колонок (столбцов) таблицы, отсутствуют нарушения стиля.\n",
    "\n",
    "Чтобы двигаться дальше, нужно устранить проблемы в данных."
   ]
  },
  {
   "cell_type": "markdown",
   "metadata": {},
   "source": [
    "## Предобработка данных\n",
    "\n",
    "\n",
    "Проверим данные на артефакты (аномалии), дубликаты (явные/неявные) и, при нахождении, исправим."
   ]
  },
  {
   "cell_type": "markdown",
   "metadata": {},
   "source": [
    "### Обработка дубликатов"
   ]
  },
  {
   "cell_type": "markdown",
   "metadata": {},
   "source": [
    "**7. Обработаем дубликаты в столбце `id`.**\n",
    "\n",
    "Стобец `id` - уникальный идентификатор скважины. Следовательно, несколько строк с одним `id` не могут находиться в датафрейме. Для устранения шума из данных, при нахождении, все строки дубликаты по столбцу `id` будут удалены."
   ]
  },
  {
   "cell_type": "code",
   "execution_count": 18,
   "metadata": {},
   "outputs": [
    {
     "data": {
      "text/plain": [
       "0"
      ]
     },
     "execution_count": 18,
     "metadata": {},
     "output_type": "execute_result"
    }
   ],
   "source": [
    "# проверяем количество строк дубликатов в 'geo_data_first_region'\n",
    "geo_data_first_region.duplicated().sum()"
   ]
  },
  {
   "cell_type": "code",
   "execution_count": 19,
   "metadata": {},
   "outputs": [
    {
     "data": {
      "text/plain": [
       "10"
      ]
     },
     "execution_count": 19,
     "metadata": {},
     "output_type": "execute_result"
    }
   ],
   "source": [
    "# проверяем количество строк дубликатов cтолбца 'id', в 'geo_data_first_region'\n",
    "geo_data_first_region['id'].duplicated().sum()"
   ]
  },
  {
   "cell_type": "code",
   "execution_count": 20,
   "metadata": {},
   "outputs": [],
   "source": [
    "# удалим строки дубликаты по столбцу 'id', в 'geo_data_first_region'\n",
    "geo_data_first_region = geo_data_first_region.drop_duplicates(subset=['id'])"
   ]
  },
  {
   "cell_type": "code",
   "execution_count": 21,
   "metadata": {},
   "outputs": [
    {
     "data": {
      "text/plain": [
       "0"
      ]
     },
     "execution_count": 21,
     "metadata": {},
     "output_type": "execute_result"
    }
   ],
   "source": [
    "# проверяем количество строк дубликатов cтолбца 'id', в 'geo_data_first_region'\n",
    "geo_data_first_region['id'].duplicated().sum()"
   ]
  },
  {
   "cell_type": "code",
   "execution_count": 22,
   "metadata": {},
   "outputs": [
    {
     "data": {
      "text/plain": [
       "0"
      ]
     },
     "execution_count": 22,
     "metadata": {},
     "output_type": "execute_result"
    }
   ],
   "source": [
    "# проверяем количество строк дубликатов в 'geo_data_first_region'\n",
    "geo_data_first_region.duplicated().sum()"
   ]
  },
  {
   "cell_type": "code",
   "execution_count": 23,
   "metadata": {},
   "outputs": [
    {
     "data": {
      "text/plain": [
       "0"
      ]
     },
     "execution_count": 23,
     "metadata": {},
     "output_type": "execute_result"
    }
   ],
   "source": [
    "# проверяем количество строк дубликатов в 'geo_data_second_region'\n",
    "geo_data_second_region.duplicated().sum()"
   ]
  },
  {
   "cell_type": "code",
   "execution_count": 24,
   "metadata": {},
   "outputs": [
    {
     "data": {
      "text/plain": [
       "4"
      ]
     },
     "execution_count": 24,
     "metadata": {},
     "output_type": "execute_result"
    }
   ],
   "source": [
    "# проверяем количество строк дубликатов cтолбца 'id', в 'geo_data_second_region'\n",
    "geo_data_second_region['id'].duplicated().sum()"
   ]
  },
  {
   "cell_type": "code",
   "execution_count": 25,
   "metadata": {},
   "outputs": [],
   "source": [
    "# удалим строки дубликаты по столбцу 'id', в 'geo_data_second_region'\n",
    "geo_data_second_region = geo_data_second_region.drop_duplicates(subset=['id'])"
   ]
  },
  {
   "cell_type": "code",
   "execution_count": 26,
   "metadata": {},
   "outputs": [
    {
     "data": {
      "text/plain": [
       "0"
      ]
     },
     "execution_count": 26,
     "metadata": {},
     "output_type": "execute_result"
    }
   ],
   "source": [
    "# проверяем количество строк дубликатов cтолбца 'id', в 'geo_data_second_region'\n",
    "geo_data_second_region['id'].duplicated().sum()"
   ]
  },
  {
   "cell_type": "code",
   "execution_count": 27,
   "metadata": {},
   "outputs": [
    {
     "data": {
      "text/plain": [
       "0"
      ]
     },
     "execution_count": 27,
     "metadata": {},
     "output_type": "execute_result"
    }
   ],
   "source": [
    "# проверяем количество строк дубликатов в 'geo_data_second_region'\n",
    "geo_data_second_region.duplicated().sum()"
   ]
  },
  {
   "cell_type": "code",
   "execution_count": 28,
   "metadata": {},
   "outputs": [
    {
     "data": {
      "text/plain": [
       "0"
      ]
     },
     "execution_count": 28,
     "metadata": {},
     "output_type": "execute_result"
    }
   ],
   "source": [
    "# проверяем количество строк дубликатов в 'geo_data_third_region'\n",
    "geo_data_third_region.duplicated().sum()"
   ]
  },
  {
   "cell_type": "code",
   "execution_count": 29,
   "metadata": {},
   "outputs": [
    {
     "data": {
      "text/plain": [
       "4"
      ]
     },
     "execution_count": 29,
     "metadata": {},
     "output_type": "execute_result"
    }
   ],
   "source": [
    "# проверяем количество строк дубликатов cтолбца 'id', в 'geo_data_third_region'\n",
    "geo_data_third_region['id'].duplicated().sum()"
   ]
  },
  {
   "cell_type": "code",
   "execution_count": 30,
   "metadata": {},
   "outputs": [],
   "source": [
    "# удалим строки дубликаты по столбцу 'id', в 'geo_data_third_region'\n",
    "geo_data_third_region = geo_data_third_region.drop_duplicates(subset=['id'])"
   ]
  },
  {
   "cell_type": "code",
   "execution_count": 31,
   "metadata": {},
   "outputs": [
    {
     "data": {
      "text/plain": [
       "0"
      ]
     },
     "execution_count": 31,
     "metadata": {},
     "output_type": "execute_result"
    }
   ],
   "source": [
    "# проверяем количество строк дубликатов cтолбца 'id', в 'geo_data_third_region'\n",
    "geo_data_third_region['id'].duplicated().sum()"
   ]
  },
  {
   "cell_type": "code",
   "execution_count": 32,
   "metadata": {},
   "outputs": [
    {
     "data": {
      "text/plain": [
       "0"
      ]
     },
     "execution_count": 32,
     "metadata": {},
     "output_type": "execute_result"
    }
   ],
   "source": [
    "# проверяем количество строк дубликатов в 'geo_data_third_region'\n",
    "geo_data_third_region.duplicated().sum()"
   ]
  },
  {
   "cell_type": "markdown",
   "metadata": {},
   "source": [
    "**8. Проверим какая доля исходных датасетов осталась после фильтрации.**"
   ]
  },
  {
   "cell_type": "code",
   "execution_count": 33,
   "metadata": {},
   "outputs": [
    {
     "data": {
      "text/plain": [
       "99.99"
      ]
     },
     "execution_count": 33,
     "metadata": {},
     "output_type": "execute_result"
    }
   ],
   "source": [
    "# рассчитаем размер доли исходного датасета 'geo_data_first_region', которая осталась после фильтрации,\n",
    "# в процентах\n",
    "(geo_data_first_region.shape[0] / geo_data_first_region_source_size) * 100"
   ]
  },
  {
   "cell_type": "code",
   "execution_count": 34,
   "metadata": {},
   "outputs": [
    {
     "data": {
      "text/plain": [
       "99.996"
      ]
     },
     "execution_count": 34,
     "metadata": {},
     "output_type": "execute_result"
    }
   ],
   "source": [
    "# рассчитаем размер доли исходного датасета 'geo_data_second_region', которая осталась после фильтрации,\n",
    "# в процентах\n",
    "(geo_data_second_region.shape[0] / geo_data_second_region_source_size) * 100"
   ]
  },
  {
   "cell_type": "code",
   "execution_count": 35,
   "metadata": {},
   "outputs": [
    {
     "data": {
      "text/plain": [
       "99.996"
      ]
     },
     "execution_count": 35,
     "metadata": {},
     "output_type": "execute_result"
    }
   ],
   "source": [
    "# рассчитаем размер доли исходного датасета 'geo_data_third_region', которая осталась после фильтрации,\n",
    "# в процентах\n",
    "(geo_data_third_region.shape[0] / geo_data_third_region_source_size) * 100"
   ]
  },
  {
   "cell_type": "markdown",
   "metadata": {},
   "source": [
    "**Выводы**\n",
    "\n",
    "Предобработка обнаружила следующие проблемы в данных:\n",
    "\n",
    "- дубликаты.\n",
    "\n",
    "Удалили дубликаты из трех датафреймов.\n",
    "\n",
    "Размер доли исходных датасетов, которая осталась после фильтрации: \n",
    "\n",
    "* `geo_data_first_region` - **`99.99%`**;\n",
    "* `geo_data_second_region` - **`99.996%`**;\n",
    "* `geo_data_third_region` - **`99.996%`**.\n",
    "\n",
    "После такой предобработки данных, исследование станет более точным.\n",
    "\n",
    "Теперь можно перейти к подготовке данных для исследования."
   ]
  },
  {
   "cell_type": "markdown",
   "metadata": {},
   "source": [
    "## Подготовка данных для исследования"
   ]
  },
  {
   "cell_type": "markdown",
   "metadata": {},
   "source": [
    "Изучим исходное множество признаков, для каждого датафрейма, которые будут использованы для обучения модели, на: мультиколлинеарность признаков (высокая степень коррелированности признаков), их избыточное количество, содержание их значений (категориальные признаки, количественные признаки с разными разбросами значений). Проверим  на наличие выбросов.\n",
    "\n",
    "\n",
    "1. Столбец `id` - уникальный идентификатор скважины, строкового типа данных, не несёт полезной дополнительной информации для обучения модели, а является лишь дополнительным индексом к существующему. Так как, исходный датафрейм уже содержит встроенную индексацию данных. Следовательно, он является избыточным.\n",
    "\n",
    "*Вышеуказанный признак необходимо удалить из исходного множества признаков.*\n",
    "\n",
    "2. Столбцы: `f0`, `f1` и `f2`, являются численными признаками, но имеют разный разброс значений. При обучении модели, алгорим может решить, что признаки с большими значениями и разбросом важнее. Для избежания данной ловушки, необходимо масштабировать данные признаки с помощью метода - стандартизации данных."
   ]
  },
  {
   "cell_type": "markdown",
   "metadata": {},
   "source": [
    "**9. Создадим новые датафреймы для обучения модели (ml - machine learning), посредством удаления избыточных признаков из множества признаков, в каждом датафрейме.**"
   ]
  },
  {
   "cell_type": "code",
   "execution_count": 36,
   "metadata": {},
   "outputs": [],
   "source": [
    "geo_data_first_region_ml = geo_data_first_region.drop(['id'], axis=1)"
   ]
  },
  {
   "cell_type": "code",
   "execution_count": 37,
   "metadata": {},
   "outputs": [],
   "source": [
    "geo_data_second_region_ml = geo_data_second_region.drop(['id'], axis=1)"
   ]
  },
  {
   "cell_type": "code",
   "execution_count": 38,
   "metadata": {},
   "outputs": [],
   "source": [
    "geo_data_third_region_ml = geo_data_third_region.drop(['id'], axis=1)"
   ]
  },
  {
   "cell_type": "code",
   "execution_count": 39,
   "metadata": {},
   "outputs": [
    {
     "data": {
      "text/plain": [
       "(99990, 4)"
      ]
     },
     "execution_count": 39,
     "metadata": {},
     "output_type": "execute_result"
    }
   ],
   "source": [
    "geo_data_first_region_ml.shape"
   ]
  },
  {
   "cell_type": "code",
   "execution_count": 40,
   "metadata": {},
   "outputs": [
    {
     "data": {
      "text/plain": [
       "(99996, 4)"
      ]
     },
     "execution_count": 40,
     "metadata": {},
     "output_type": "execute_result"
    }
   ],
   "source": [
    "geo_data_second_region_ml.shape"
   ]
  },
  {
   "cell_type": "code",
   "execution_count": 41,
   "metadata": {},
   "outputs": [
    {
     "data": {
      "text/plain": [
       "(99996, 4)"
      ]
     },
     "execution_count": 41,
     "metadata": {},
     "output_type": "execute_result"
    }
   ],
   "source": [
    "geo_data_third_region_ml.shape"
   ]
  },
  {
   "cell_type": "markdown",
   "metadata": {},
   "source": [
    "**10. Проверим предобработанные признаки каждого датафрейма, на корреляцию между другими признаками.**\n",
    "\n",
    "Проверим предобработанные признаки каждого датафрейма, на мультиколлинеарность (корреляцию между признаками), на корреляцию между каждым признаком и целевой переменной."
   ]
  },
  {
   "cell_type": "code",
   "execution_count": 42,
   "metadata": {},
   "outputs": [
    {
     "data": {
      "image/png": "[encoded data removed]",
      "text/plain": [
       "<Figure size 432x288 with 2 Axes>"
      ]
     },
     "metadata": {
      "needs_background": "light"
     },
     "output_type": "display_data"
    }
   ],
   "source": [
    "sns.heatmap(geo_data_first_region_ml.corr(method='spearman'), annot=True, cmap='YlGnBu');"
   ]
  },
  {
   "cell_type": "code",
   "execution_count": 43,
   "metadata": {},
   "outputs": [
    {
     "data": {
      "image/png": "[encoded data removed]",
      "text/plain": [
       "<Figure size 432x288 with 2 Axes>"
      ]
     },
     "metadata": {
      "needs_background": "light"
     },
     "output_type": "display_data"
    }
   ],
   "source": [
    "sns.heatmap(geo_data_second_region_ml.corr(method='spearman'), annot=True, cmap='YlGnBu');"
   ]
  },
  {
   "cell_type": "code",
   "execution_count": 44,
   "metadata": {},
   "outputs": [
    {
     "data": {
      "image/png": "[encoded data removed]",
      "text/plain": [
       "<Figure size 432x288 with 2 Axes>"
      ]
     },
     "metadata": {
      "needs_background": "light"
     },
     "output_type": "display_data"
    }
   ],
   "source": [
    "sns.heatmap(geo_data_third_region_ml.corr(method='spearman'), annot=True, cmap='YlGnBu');"
   ]
  },
  {
   "cell_type": "markdown",
   "metadata": {},
   "source": [
    "Какая-либо существенная корреляция в признаках, в предобработаном множестве признаков датафреймов(`geo_data_first_region_ml`, `geo_data_second_region_ml`, `geo_data_third_region_ml`), которая может повлиять на обучение нашей модели, отсутствует (мультиколлинеарность отсутствует)."
   ]
  },
  {
   "cell_type": "markdown",
   "metadata": {},
   "source": [
    "### Обработка выбросов"
   ]
  },
  {
   "cell_type": "markdown",
   "metadata": {},
   "source": [
    "Проверим столбцы в каждом новом датафрейме, которые созданы для обучения ml модели, на выбросы и, при наличии, удалим их.** \n",
    "\n",
    "Проверяем на основании результатов, полученных на [четвертом шаге](#step_4) нашего исследования."
   ]
  },
  {
   "cell_type": "code",
   "execution_count": 45,
   "metadata": {},
   "outputs": [],
   "source": [
    "# функция обработки выбросов в одном признаке\n",
    "def outlier_handling_in_feature(dataframe,\n",
    "                                column_name,\n",
    "                                min_range_limit,\n",
    "                                max_range_limit,\n",
    "                                bins=300):\n",
    "    \n",
    "    # построим диаграмму размаха признака\n",
    "    dataframe[column_name].plot(kind='box', title=column_name, grid=True);\n",
    "    plt.show()\n",
    "    \n",
    "    # построим гистограмму признака \n",
    "    dataframe[column_name].plot(kind='hist', title=column_name, bins=bins);\n",
    "    plt.show()\n",
    "    \n",
    "    # удалим из датасета выбросы 'dataframe', из столбца 'column_name', выбросы\n",
    "    dataframe = dataframe[~(dataframe[column_name] < min_range_limit) &\n",
    "                          ~(dataframe[column_name] > max_range_limit)]\n",
    "    \n",
    "    # проверяем наличие выбросов после обработки\n",
    "    dataframe[column_name].plot(kind='box', title=column_name, grid=True);\n",
    "    plt.show()\n",
    "    \n",
    "    # построим, повторно, гистограмму признака\n",
    "    dataframe[column_name].plot(kind='hist', title=column_name, bins=bins);\n",
    "    plt.show()\n",
    "    \n",
    "    return dataframe"
   ]
  },
  {
   "cell_type": "code",
   "execution_count": 46,
   "metadata": {},
   "outputs": [],
   "source": [
    "# функция вычисления левой и правой границы (левое и правое \"крайние\" значения данных) [на диаграмме размаха]\n",
    "# параметр 'feature' - признак (столбец из датафрейма)\n",
    "def left_right_extreme_data_boundary(feature):\n",
    "    \n",
    "    # вычислим квантили q3 (75%-й) и q1 (25% -й)\n",
    "    q3, q1 = np.percentile(feature, [75,25])\n",
    "\n",
    "    # вычислим межквантильный интервал iqr\n",
    "    iqr = q3 - q1\n",
    "\n",
    "    # рассчитаем левую и правую границу (левое и правое \"крайние\" значения данных)\n",
    "    return np.around((q1 - iqr * 1.5) + 0.1, decimals=3), np.around((q3 + iqr * 1.5) - 0.12, decimals=3)"
   ]
  },
  {
   "cell_type": "markdown",
   "metadata": {},
   "source": [
    "**11. Проверим датафрейм `geo_data_first_region_ml`.**"
   ]
  },
  {
   "cell_type": "code",
   "execution_count": 47,
   "metadata": {},
   "outputs": [
    {
     "data": {
      "image/png": "[encoded data removed]",
      "text/plain": [
       "<Figure size 432x288 with 1 Axes>"
      ]
     },
     "metadata": {
      "needs_background": "light"
     },
     "output_type": "display_data"
    }
   ],
   "source": [
    "# построим диаграмму размаха для датафрейма 'geo_data_first_region_ml'\n",
    "geo_data_first_region_ml.plot(kind='box', title='geo_data_first_region_ml', grid=True);"
   ]
  },
  {
   "cell_type": "markdown",
   "metadata": {},
   "source": [
    "В признаке (столбце) `f2`, есть выбросы, которые требуется обработать."
   ]
  },
  {
   "cell_type": "markdown",
   "metadata": {},
   "source": [
    "**12. Обработаем признак `f2` в датафрейме `geo_data_first_region_ml`.**"
   ]
  },
  {
   "cell_type": "code",
   "execution_count": 48,
   "metadata": {},
   "outputs": [],
   "source": [
    "# вычислим границы данных\n",
    "left_border, right_border = left_right_extreme_data_boundary(geo_data_first_region_ml['f2'])"
   ]
  },
  {
   "cell_type": "code",
   "execution_count": 49,
   "metadata": {},
   "outputs": [
    {
     "data": {
      "image/png": "[encoded data removed]",
      "text/plain": [
       "<Figure size 432x288 with 1 Axes>"
      ]
     },
     "metadata": {
      "needs_background": "light"
     },
     "output_type": "display_data"
    },
    {
     "data": {
      "image/png": "[encoded data removed]",
      "text/plain": [
       "<Figure size 432x288 with 1 Axes>"
      ]
     },
     "metadata": {
      "needs_background": "light"
     },
     "output_type": "display_data"
    },
    {
     "data": {
      "image/png": "[encoded data removed]",
      "text/plain": [
       "<Figure size 432x288 with 1 Axes>"
      ]
     },
     "metadata": {
      "needs_background": "light"
     },
     "output_type": "display_data"
    },
    {
     "data": {
      "image/png": "[encoded data removed]",
      "text/plain": [
       "<Figure size 432x288 with 1 Axes>"
      ]
     },
     "metadata": {
      "needs_background": "light"
     },
     "output_type": "display_data"
    }
   ],
   "source": [
    "geo_data_first_region_ml = outlier_handling_in_feature(dataframe=geo_data_first_region_ml, \n",
    "                                                       column_name='f2',\n",
    "                                                       min_range_limit=left_border,\n",
    "                                                       max_range_limit=right_border)"
   ]
  },
  {
   "cell_type": "markdown",
   "metadata": {},
   "source": [
    "**13. Проверим датафрейм `geo_data_second_region_ml`.**"
   ]
  },
  {
   "cell_type": "code",
   "execution_count": 50,
   "metadata": {},
   "outputs": [
    {
     "data": {
      "image/png": "[encoded data removed]",
      "text/plain": [
       "<Figure size 432x288 with 1 Axes>"
      ]
     },
     "metadata": {
      "needs_background": "light"
     },
     "output_type": "display_data"
    }
   ],
   "source": [
    "# построим диаграмму размаха для датафрейма 'geo_data_second_region_ml'\n",
    "geo_data_second_region_ml.plot(kind='box', title='geo_data_second_region_ml', grid=True);"
   ]
  },
  {
   "cell_type": "markdown",
   "metadata": {},
   "source": [
    "В признаке (столбце) `f1`, есть выбросы, которые требуется обработать."
   ]
  },
  {
   "cell_type": "markdown",
   "metadata": {},
   "source": [
    "**14. Обработаем признак `f1` в датафрейме `geo_data_second_region_ml`.**"
   ]
  },
  {
   "cell_type": "code",
   "execution_count": 51,
   "metadata": {},
   "outputs": [],
   "source": [
    "# вычислим границы данных\n",
    "left_border, right_border = left_right_extreme_data_boundary(geo_data_second_region_ml['f1'])"
   ]
  },
  {
   "cell_type": "code",
   "execution_count": 52,
   "metadata": {},
   "outputs": [
    {
     "data": {
      "image/png": "[encoded data removed]",
      "text/plain": [
       "<Figure size 432x288 with 1 Axes>"
      ]
     },
     "metadata": {
      "needs_background": "light"
     },
     "output_type": "display_data"
    },
    {
     "data": {
      "image/png": "[encoded data removed]",
      "text/plain": [
       "<Figure size 432x288 with 1 Axes>"
      ]
     },
     "metadata": {
      "needs_background": "light"
     },
     "output_type": "display_data"
    },
    {
     "data": {
      "image/png": "[encoded data removed]",
      "text/plain": [
       "<Figure size 432x288 with 1 Axes>"
      ]
     },
     "metadata": {
      "needs_background": "light"
     },
     "output_type": "display_data"
    },
    {
     "data": {
      "image/png": "[encoded data removed]",
      "text/plain": [
       "<Figure size 432x288 with 1 Axes>"
      ]
     },
     "metadata": {
      "needs_background": "light"
     },
     "output_type": "display_data"
    }
   ],
   "source": [
    "geo_data_second_region_ml = outlier_handling_in_feature(dataframe=geo_data_second_region_ml, \n",
    "                                                        column_name='f1',\n",
    "                                                        min_range_limit=left_border,\n",
    "                                                        max_range_limit=right_border)"
   ]
  },
  {
   "cell_type": "markdown",
   "metadata": {},
   "source": [
    "**15. Проверим датафрейм `geo_data_third_region_ml`.**"
   ]
  },
  {
   "cell_type": "code",
   "execution_count": 53,
   "metadata": {},
   "outputs": [
    {
     "data": {
      "image/png": "[encoded data removed]",
      "text/plain": [
       "<Figure size 432x288 with 1 Axes>"
      ]
     },
     "metadata": {
      "needs_background": "light"
     },
     "output_type": "display_data"
    }
   ],
   "source": [
    "# построим диаграмму размаха для датафрейма 'geo_data_third_region_ml'\n",
    "geo_data_third_region_ml.plot(kind='box', title='geo_data_third_region_ml', grid=True);"
   ]
  },
  {
   "cell_type": "markdown",
   "metadata": {},
   "source": [
    "В признаках (столбцах) `f0`, `f1` и `f2`,  есть выбросы, которые требуется обработать."
   ]
  },
  {
   "cell_type": "markdown",
   "metadata": {},
   "source": [
    "**16. Обработаем признак `f0` в датафрейме `geo_data_third_region_ml`.**"
   ]
  },
  {
   "cell_type": "code",
   "execution_count": 54,
   "metadata": {},
   "outputs": [],
   "source": [
    "# вычислим границы данных\n",
    "left_border, right_border = left_right_extreme_data_boundary(geo_data_third_region_ml['f0'])"
   ]
  },
  {
   "cell_type": "code",
   "execution_count": 55,
   "metadata": {},
   "outputs": [
    {
     "data": {
      "image/png": "[encoded data removed]",
      "text/plain": [
       "<Figure size 432x288 with 1 Axes>"
      ]
     },
     "metadata": {
      "needs_background": "light"
     },
     "output_type": "display_data"
    },
    {
     "data": {
      "image/png": "[encoded data removed]",
      "text/plain": [
       "<Figure size 432x288 with 1 Axes>"
      ]
     },
     "metadata": {
      "needs_background": "light"
     },
     "output_type": "display_data"
    },
    {
     "data": {
      "image/png": "[encoded data removed]",
      "text/plain": [
       "<Figure size 432x288 with 1 Axes>"
      ]
     },
     "metadata": {
      "needs_background": "light"
     },
     "output_type": "display_data"
    },
    {
     "data": {
      "image/png": "[encoded data removed]",
      "text/plain": [
       "<Figure size 432x288 with 1 Axes>"
      ]
     },
     "metadata": {
      "needs_background": "light"
     },
     "output_type": "display_data"
    }
   ],
   "source": [
    "geo_data_third_region_ml = outlier_handling_in_feature(dataframe=geo_data_third_region_ml, \n",
    "                                                       column_name=\"f0\",\n",
    "                                                       min_range_limit=left_border,\n",
    "                                                       max_range_limit=right_border)"
   ]
  },
  {
   "cell_type": "markdown",
   "metadata": {},
   "source": [
    "**17. Обработаем признак `f1` в датафрейме `geo_data_third_region_ml`.**"
   ]
  },
  {
   "cell_type": "code",
   "execution_count": 56,
   "metadata": {},
   "outputs": [],
   "source": [
    "# вычислим границы данных\n",
    "left_border, right_border = left_right_extreme_data_boundary(geo_data_third_region_ml['f1'])"
   ]
  },
  {
   "cell_type": "code",
   "execution_count": 57,
   "metadata": {},
   "outputs": [
    {
     "data": {
      "image/png": "[encoded data removed]",
      "text/plain": [
       "<Figure size 432x288 with 1 Axes>"
      ]
     },
     "metadata": {
      "needs_background": "light"
     },
     "output_type": "display_data"
    },
    {
     "data": {
      "image/png": "[encoded data removed]",
      "text/plain": [
       "<Figure size 432x288 with 1 Axes>"
      ]
     },
     "metadata": {
      "needs_background": "light"
     },
     "output_type": "display_data"
    },
    {
     "data": {
      "image/png": "[encoded data removed]",
      "text/plain": [
       "<Figure size 432x288 with 1 Axes>"
      ]
     },
     "metadata": {
      "needs_background": "light"
     },
     "output_type": "display_data"
    },
    {
     "data": {
      "image/png": "[encoded data removed]",
      "text/plain": [
       "<Figure size 432x288 with 1 Axes>"
      ]
     },
     "metadata": {
      "needs_background": "light"
     },
     "output_type": "display_data"
    }
   ],
   "source": [
    "geo_data_third_region_ml = outlier_handling_in_feature(dataframe=geo_data_third_region_ml, \n",
    "                                                       column_name=\"f1\",\n",
    "                                                       min_range_limit=left_border,\n",
    "                                                       max_range_limit=right_border)"
   ]
  },
  {
   "cell_type": "markdown",
   "metadata": {},
   "source": [
    "**18. Обработаем признак `f2` в датафрейме `geo_data_third_region_ml`.**"
   ]
  },
  {
   "cell_type": "code",
   "execution_count": 58,
   "metadata": {},
   "outputs": [],
   "source": [
    "# вычислим границы данных\n",
    "left_border, right_border = left_right_extreme_data_boundary(geo_data_third_region_ml['f2'])"
   ]
  },
  {
   "cell_type": "code",
   "execution_count": 59,
   "metadata": {},
   "outputs": [
    {
     "data": {
      "image/png": "[encoded data removed]",
      "text/plain": [
       "<Figure size 432x288 with 1 Axes>"
      ]
     },
     "metadata": {
      "needs_background": "light"
     },
     "output_type": "display_data"
    },
    {
     "data": {
      "image/png": "[encoded data removed]",
      "text/plain": [
       "<Figure size 432x288 with 1 Axes>"
      ]
     },
     "metadata": {
      "needs_background": "light"
     },
     "output_type": "display_data"
    },
    {
     "data": {
      "image/png": "[encoded data removed]",
      "text/plain": [
       "<Figure size 432x288 with 1 Axes>"
      ]
     },
     "metadata": {
      "needs_background": "light"
     },
     "output_type": "display_data"
    },
    {
     "data": {
      "image/png": "[encoded data removed]",
      "text/plain": [
       "<Figure size 432x288 with 1 Axes>"
      ]
     },
     "metadata": {
      "needs_background": "light"
     },
     "output_type": "display_data"
    }
   ],
   "source": [
    "geo_data_third_region_ml = outlier_handling_in_feature(dataframe=geo_data_third_region_ml, \n",
    "                                                       column_name=\"f2\",\n",
    "                                                       min_range_limit=left_border,\n",
    "                                                       max_range_limit=right_border)"
   ]
  },
  {
   "cell_type": "markdown",
   "metadata": {},
   "source": [
    "**19. Проверим какая доля исходных датасетов осталась после фильтрации.**"
   ]
  },
  {
   "cell_type": "code",
   "execution_count": 60,
   "metadata": {},
   "outputs": [
    {
     "data": {
      "text/plain": [
       "99.406"
      ]
     },
     "execution_count": 60,
     "metadata": {},
     "output_type": "execute_result"
    }
   ],
   "source": [
    "# рассчитаем размер доли исходного датасета 'geo_data_first_region_ml', которая осталась после фильтрации,\n",
    "# в процентах\n",
    "(geo_data_first_region_ml.shape[0] / geo_data_first_region_source_size) * 100"
   ]
  },
  {
   "cell_type": "code",
   "execution_count": 61,
   "metadata": {},
   "outputs": [
    {
     "data": {
      "text/plain": [
       "99.318"
      ]
     },
     "execution_count": 61,
     "metadata": {},
     "output_type": "execute_result"
    }
   ],
   "source": [
    "# рассчитаем размер доли исходного датасета 'geo_data_second_region_ml', которая осталась после фильтрации,\n",
    "# в процентах\n",
    "(geo_data_second_region_ml.shape[0] / geo_data_second_region_source_size) * 100"
   ]
  },
  {
   "cell_type": "code",
   "execution_count": 62,
   "metadata": {},
   "outputs": [
    {
     "data": {
      "text/plain": [
       "97.65700000000001"
      ]
     },
     "execution_count": 62,
     "metadata": {},
     "output_type": "execute_result"
    }
   ],
   "source": [
    "# рассчитаем размер доли исходного датасета 'geo_data_third_region_ml', которая осталась после фильтрации,\n",
    "# в процентах\n",
    "(geo_data_third_region_ml.shape[0] / geo_data_third_region_source_size) * 100"
   ]
  },
  {
   "cell_type": "markdown",
   "metadata": {},
   "source": [
    "Размер доли исходных датасетов, которая осталась после фильтрации: \n",
    "\n",
    "* `geo_data_first_region_ml` - **`99.406`**;\n",
    "* `geo_data_second_region_ml` - **`99.318%`**;\n",
    "* `geo_data_third_region_ml` - **`97.657%`**."
   ]
  },
  {
   "cell_type": "markdown",
   "metadata": {},
   "source": [
    "**20. Создадим отдельные датафреймы с признаками и целевым признаком.**\n",
    "\n",
    "Разделим исходные данные на обучающую и валидационную выборки, для каждого датафрейма."
   ]
  },
  {
   "cell_type": "code",
   "execution_count": 63,
   "metadata": {},
   "outputs": [],
   "source": [
    "# функция для разделения датафрейма на два, на признаками и целевой признак\n",
    "def splitting_into_features_and_target(dataframe, target_feature_name):\n",
    "    return dataframe.drop([target_feature_name], axis=1), dataframe[target_feature_name]"
   ]
  },
  {
   "cell_type": "code",
   "execution_count": 64,
   "metadata": {},
   "outputs": [],
   "source": [
    "geo_data_first_region_features, geo_data_first_region_target =\\\n",
    "    splitting_into_features_and_target(geo_data_first_region_ml, 'product')"
   ]
  },
  {
   "cell_type": "code",
   "execution_count": 65,
   "metadata": {},
   "outputs": [],
   "source": [
    "geo_data_second_region_features, geo_data_second_region_target =\\\n",
    "    splitting_into_features_and_target(geo_data_second_region_ml, 'product')"
   ]
  },
  {
   "cell_type": "code",
   "execution_count": 66,
   "metadata": {},
   "outputs": [],
   "source": [
    "geo_data_third_region_features, geo_data_third_region_target =\\\n",
    "    splitting_into_features_and_target(geo_data_third_region_ml, 'product')"
   ]
  },
  {
   "cell_type": "markdown",
   "metadata": {},
   "source": [
    "**21. Разделим исходные данные от трёх исходных датафреймов, на две выборки: обучающую и валидационную.**\n",
    "\n",
    "Применим метод кросс-валидации: \"Hold-out\"."
   ]
  },
  {
   "cell_type": "code",
   "execution_count": 67,
   "metadata": {},
   "outputs": [],
   "source": [
    "def splitting_into_train_valid(features, target, train_size, random_state):\n",
    "    return train_test_split(features, target, train_size=train_size, random_state=random_state)"
   ]
  },
  {
   "cell_type": "code",
   "execution_count": 68,
   "metadata": {},
   "outputs": [],
   "source": [
    "# создадим переменную 'random_state' для фиксации псевдослучайности для алгоритма обучения\n",
    "# и других алгоритмов в нашем проекте\n",
    "random_state = 753"
   ]
  },
  {
   "cell_type": "code",
   "execution_count": 69,
   "metadata": {},
   "outputs": [],
   "source": [
    "# разделим набор данных на обучающую выборку (75%) и валидационную (25%)\n",
    "# для этого мы установим параметр 'train_size' = 0.75\n",
    "(geo_data_first_region_features_train,\n",
    " geo_data_first_region_features_valid,\n",
    " geo_data_first_region_target_train,\n",
    " geo_data_first_region_target_valid) =\\\n",
    "    train_test_split(geo_data_first_region_features, \n",
    "                     geo_data_first_region_target, \n",
    "                     train_size=0.75,\n",
    "                     random_state=random_state)"
   ]
  },
  {
   "cell_type": "code",
   "execution_count": 70,
   "metadata": {},
   "outputs": [],
   "source": [
    "# разделим набор данных на обучающую выборку (75%) и валидационную (25%)\n",
    "# для этого мы установим параметр 'train_size' = 0.75\n",
    "(geo_data_second_region_features_train,\n",
    " geo_data_second_region_features_valid,\n",
    " geo_data_second_region_target_train,\n",
    " geo_data_second_region_target_valid) =\\\n",
    "    train_test_split(geo_data_second_region_features, \n",
    "                     geo_data_second_region_target, \n",
    "                     train_size=0.75,\n",
    "                     random_state=random_state)"
   ]
  },
  {
   "cell_type": "code",
   "execution_count": 71,
   "metadata": {},
   "outputs": [],
   "source": [
    "# разделим набор данных на обучающую выборку (75%) и валидационную (25%)\n",
    "# для этого мы установим параметр 'train_size' = 0.75\n",
    "(geo_data_third_region_features_train,\n",
    " geo_data_third_region_features_valid,\n",
    " geo_data_third_region_target_train,\n",
    " geo_data_third_region_target_valid) =\\\n",
    "    train_test_split(geo_data_third_region_features, \n",
    "                     geo_data_third_region_target, \n",
    "                     train_size=0.75,\n",
    "                     random_state=random_state)"
   ]
  },
  {
   "cell_type": "markdown",
   "metadata": {},
   "source": [
    "**`geo_data_first_region_ml`**"
   ]
  },
  {
   "cell_type": "code",
   "execution_count": 72,
   "metadata": {},
   "outputs": [
    {
     "data": {
      "text/plain": [
       "(74554, 3)"
      ]
     },
     "execution_count": 72,
     "metadata": {},
     "output_type": "execute_result"
    }
   ],
   "source": [
    "# выведем размер полученной обучающей выборки признаков для 'geo_data_first_region_ml'\n",
    "geo_data_first_region_features_train.shape"
   ]
  },
  {
   "cell_type": "code",
   "execution_count": 73,
   "metadata": {},
   "outputs": [
    {
     "data": {
      "text/plain": [
       "(74554,)"
      ]
     },
     "execution_count": 73,
     "metadata": {},
     "output_type": "execute_result"
    }
   ],
   "source": [
    "# выведем размер полученной обучающей выборки целевого признака для 'geo_data_first_region_ml'\n",
    "geo_data_first_region_target_train.shape"
   ]
  },
  {
   "cell_type": "code",
   "execution_count": 74,
   "metadata": {},
   "outputs": [
    {
     "data": {
      "text/plain": [
       "(24852, 3)"
      ]
     },
     "execution_count": 74,
     "metadata": {},
     "output_type": "execute_result"
    }
   ],
   "source": [
    "# выведем размер полученной валидационной выборки признаков для 'geo_data_first_region_ml'\n",
    "geo_data_first_region_features_valid.shape"
   ]
  },
  {
   "cell_type": "code",
   "execution_count": 75,
   "metadata": {},
   "outputs": [
    {
     "data": {
      "text/plain": [
       "(24852,)"
      ]
     },
     "execution_count": 75,
     "metadata": {},
     "output_type": "execute_result"
    }
   ],
   "source": [
    "# выведем размер полученной валидационной выборки целевого признака для 'geo_data_first_region_ml'\n",
    "geo_data_first_region_target_valid.shape"
   ]
  },
  {
   "cell_type": "markdown",
   "metadata": {},
   "source": [
    "**`geo_data_second_region_ml`**"
   ]
  },
  {
   "cell_type": "code",
   "execution_count": 76,
   "metadata": {},
   "outputs": [
    {
     "data": {
      "text/plain": [
       "(74488, 3)"
      ]
     },
     "execution_count": 76,
     "metadata": {},
     "output_type": "execute_result"
    }
   ],
   "source": [
    "# выведем размер полученной обучающей выборки признаков для 'geo_data_second_region_ml'\n",
    "geo_data_second_region_features_train.shape"
   ]
  },
  {
   "cell_type": "code",
   "execution_count": 77,
   "metadata": {},
   "outputs": [
    {
     "data": {
      "text/plain": [
       "(74488,)"
      ]
     },
     "execution_count": 77,
     "metadata": {},
     "output_type": "execute_result"
    }
   ],
   "source": [
    "# выведем размер полученной обучающей выборки целевого признака для 'geo_data_second_region_ml'\n",
    "geo_data_second_region_target_train.shape"
   ]
  },
  {
   "cell_type": "code",
   "execution_count": 78,
   "metadata": {},
   "outputs": [
    {
     "data": {
      "text/plain": [
       "(24830, 3)"
      ]
     },
     "execution_count": 78,
     "metadata": {},
     "output_type": "execute_result"
    }
   ],
   "source": [
    "# выведем размер полученной валидационной выборки признаков для 'geo_data_second_region_ml'\n",
    "geo_data_second_region_features_valid.shape"
   ]
  },
  {
   "cell_type": "code",
   "execution_count": 79,
   "metadata": {},
   "outputs": [
    {
     "data": {
      "text/plain": [
       "(24830,)"
      ]
     },
     "execution_count": 79,
     "metadata": {},
     "output_type": "execute_result"
    }
   ],
   "source": [
    "# выведем размер полученной валидационной выборки целевого признака для 'geo_data_second_region_ml'\n",
    "geo_data_second_region_target_valid.shape"
   ]
  },
  {
   "cell_type": "markdown",
   "metadata": {},
   "source": [
    "**`geo_data_third_region_ml`**"
   ]
  },
  {
   "cell_type": "code",
   "execution_count": 80,
   "metadata": {},
   "outputs": [
    {
     "data": {
      "text/plain": [
       "(73242, 3)"
      ]
     },
     "execution_count": 80,
     "metadata": {},
     "output_type": "execute_result"
    }
   ],
   "source": [
    "# выведем размер полученной обучающей выборки признаков для 'geo_data_third_region_ml'\n",
    "geo_data_third_region_features_train.shape"
   ]
  },
  {
   "cell_type": "code",
   "execution_count": 81,
   "metadata": {},
   "outputs": [
    {
     "data": {
      "text/plain": [
       "(73242,)"
      ]
     },
     "execution_count": 81,
     "metadata": {},
     "output_type": "execute_result"
    }
   ],
   "source": [
    "# выведем размер полученной обучающей выборки целевого признака для 'geo_data_third_region_ml'\n",
    "geo_data_third_region_target_train.shape"
   ]
  },
  {
   "cell_type": "code",
   "execution_count": 82,
   "metadata": {},
   "outputs": [
    {
     "data": {
      "text/plain": [
       "(24415, 3)"
      ]
     },
     "execution_count": 82,
     "metadata": {},
     "output_type": "execute_result"
    }
   ],
   "source": [
    "# выведем размер полученной валидационной выборки признаков для 'geo_data_third_region_ml'\n",
    "geo_data_third_region_features_valid.shape"
   ]
  },
  {
   "cell_type": "code",
   "execution_count": 83,
   "metadata": {},
   "outputs": [
    {
     "data": {
      "text/plain": [
       "(24415,)"
      ]
     },
     "execution_count": 83,
     "metadata": {},
     "output_type": "execute_result"
    }
   ],
   "source": [
    "# выведем размер полученной валидационной выборки целевого признака для 'geo_data_third_region_ml'\n",
    "geo_data_third_region_target_valid.shape"
   ]
  },
  {
   "cell_type": "markdown",
   "metadata": {},
   "source": [
    "**22. Масштабируем численные признаки.**\n",
    "\n",
    "Масштабируем численные признаки с разным разбросом значений, методом стандартизации данных, в каждой полученой выборке множества признаков: обучающей и валидационной, для каждого датасета."
   ]
  },
  {
   "cell_type": "code",
   "execution_count": 84,
   "metadata": {},
   "outputs": [],
   "source": [
    "# определим функцию стандартизации признаков\n",
    "def features_standardization(features_train, features_valid,  features_list):\n",
    "    \n",
    "    # создадим объект класса 'StandardScaler' и настроим объект на обучающих данных\n",
    "    scaler = StandardScaler()\n",
    "        \n",
    "    features_train[features_list] = scaler.fit_transform(features_train[features_list])\n",
    "    features_valid[features_list] = scaler.transform(features_valid[features_list])\n",
    "    # масштабируем признаки\n",
    "    return features_train, features_valid"
   ]
  },
  {
   "cell_type": "code",
   "execution_count": 85,
   "metadata": {},
   "outputs": [],
   "source": [
    "# создадим список с признаками (стобцами), которые необходимо масштабировать\n",
    "numeric = ['f0',\n",
    "           'f1',\n",
    "           'f2']"
   ]
  },
  {
   "cell_type": "code",
   "execution_count": 86,
   "metadata": {},
   "outputs": [
    {
     "data": {
      "image/png": "[encoded data removed]",
      "text/plain": [
       "<Figure size 432x288 with 1 Axes>"
      ]
     },
     "metadata": {
      "needs_background": "light"
     },
     "output_type": "display_data"
    }
   ],
   "source": [
    "geo_data_first_region_features_train.plot(kind='hist', bins=300);"
   ]
  },
  {
   "cell_type": "code",
   "execution_count": 87,
   "metadata": {},
   "outputs": [
    {
     "data": {
      "image/png": "[encoded data removed]",
      "text/plain": [
       "<Figure size 432x288 with 1 Axes>"
      ]
     },
     "metadata": {
      "needs_background": "light"
     },
     "output_type": "display_data"
    }
   ],
   "source": [
    "geo_data_first_region_features_valid.plot(kind='hist', bins=300);"
   ]
  },
  {
   "cell_type": "code",
   "execution_count": 88,
   "metadata": {},
   "outputs": [
    {
     "data": {
      "image/png": "[encoded data removed]",
      "text/plain": [
       "<Figure size 432x288 with 1 Axes>"
      ]
     },
     "metadata": {
      "needs_background": "light"
     },
     "output_type": "display_data"
    }
   ],
   "source": [
    "geo_data_second_region_features_train.plot(kind='hist', bins=300);"
   ]
  },
  {
   "cell_type": "code",
   "execution_count": 89,
   "metadata": {},
   "outputs": [
    {
     "data": {
      "image/png": "[encoded data removed]",
      "text/plain": [
       "<Figure size 432x288 with 1 Axes>"
      ]
     },
     "metadata": {
      "needs_background": "light"
     },
     "output_type": "display_data"
    }
   ],
   "source": [
    "geo_data_second_region_features_valid.plot(kind='hist', bins=300);"
   ]
  },
  {
   "cell_type": "code",
   "execution_count": 90,
   "metadata": {},
   "outputs": [
    {
     "data": {
      "image/png": "[encoded data removed]",
      "text/plain": [
       "<Figure size 432x288 with 1 Axes>"
      ]
     },
     "metadata": {
      "needs_background": "light"
     },
     "output_type": "display_data"
    }
   ],
   "source": [
    "geo_data_third_region_features_train.plot(kind='hist', bins=300);"
   ]
  },
  {
   "cell_type": "code",
   "execution_count": 91,
   "metadata": {},
   "outputs": [
    {
     "data": {
      "image/png": "[encoded data removed]",
      "text/plain": [
       "<Figure size 432x288 with 1 Axes>"
      ]
     },
     "metadata": {
      "needs_background": "light"
     },
     "output_type": "display_data"
    }
   ],
   "source": [
    "geo_data_third_region_features_valid.plot(kind='hist', bins=300);"
   ]
  },
  {
   "cell_type": "code",
   "execution_count": 92,
   "metadata": {},
   "outputs": [],
   "source": [
    "#  масштабируем признаки для 'geo_data_first_region_ml'\n",
    "geo_data_first_region_features_train, geo_data_first_region_features_valid =\\\n",
    "    features_standardization(geo_data_first_region_features_train,\n",
    "                             geo_data_first_region_features_valid,\n",
    "                             numeric)"
   ]
  },
  {
   "cell_type": "code",
   "execution_count": 93,
   "metadata": {},
   "outputs": [],
   "source": [
    "#  масштабируем признаки для 'geo_data_second_region_ml'\n",
    "geo_data_second_region_features_train, geo_data_second_region_features_valid =\\\n",
    "    features_standardization(geo_data_second_region_features_train,\n",
    "                             geo_data_second_region_features_valid,\n",
    "                             numeric)"
   ]
  },
  {
   "cell_type": "code",
   "execution_count": 94,
   "metadata": {},
   "outputs": [],
   "source": [
    "#  масштабируем признаки для 'geo_data_third_region_ml'\n",
    "geo_data_third_region_features_train, geo_data_third_region_features_valid =\\\n",
    "    features_standardization(geo_data_third_region_features_train,\n",
    "                             geo_data_third_region_features_valid,\n",
    "                             numeric)"
   ]
  },
  {
   "cell_type": "code",
   "execution_count": 95,
   "metadata": {},
   "outputs": [
    {
     "data": {
      "image/png": "[encoded data removed]",
      "text/plain": [
       "<Figure size 432x288 with 1 Axes>"
      ]
     },
     "metadata": {
      "needs_background": "light"
     },
     "output_type": "display_data"
    }
   ],
   "source": [
    "geo_data_first_region_features_train.plot(kind='hist', bins=300);"
   ]
  },
  {
   "cell_type": "code",
   "execution_count": 96,
   "metadata": {},
   "outputs": [
    {
     "data": {
      "image/png": "[encoded data removed]",
      "text/plain": [
       "<Figure size 432x288 with 1 Axes>"
      ]
     },
     "metadata": {
      "needs_background": "light"
     },
     "output_type": "display_data"
    }
   ],
   "source": [
    "geo_data_first_region_features_valid.plot(kind='hist', bins=300);"
   ]
  },
  {
   "cell_type": "code",
   "execution_count": 97,
   "metadata": {},
   "outputs": [
    {
     "data": {
      "image/png": "[encoded data removed]",
      "text/plain": [
       "<Figure size 432x288 with 1 Axes>"
      ]
     },
     "metadata": {
      "needs_background": "light"
     },
     "output_type": "display_data"
    }
   ],
   "source": [
    "geo_data_second_region_features_train.plot(kind='hist', bins=300);"
   ]
  },
  {
   "cell_type": "code",
   "execution_count": 98,
   "metadata": {},
   "outputs": [
    {
     "data": {
      "image/png": "[encoded data removed]",
      "text/plain": [
       "<Figure size 432x288 with 1 Axes>"
      ]
     },
     "metadata": {
      "needs_background": "light"
     },
     "output_type": "display_data"
    }
   ],
   "source": [
    "geo_data_second_region_features_valid.plot(kind='hist', bins=300);"
   ]
  },
  {
   "cell_type": "code",
   "execution_count": 99,
   "metadata": {},
   "outputs": [
    {
     "data": {
      "image/png": "[encoded data removed]",
      "text/plain": [
       "<Figure size 432x288 with 1 Axes>"
      ]
     },
     "metadata": {
      "needs_background": "light"
     },
     "output_type": "display_data"
    }
   ],
   "source": [
    "geo_data_third_region_features_train.plot(kind='hist', bins=300);"
   ]
  },
  {
   "cell_type": "code",
   "execution_count": 100,
   "metadata": {},
   "outputs": [
    {
     "data": {
      "image/png": "[encoded data removed]",
      "text/plain": [
       "<Figure size 432x288 with 1 Axes>"
      ]
     },
     "metadata": {
      "needs_background": "light"
     },
     "output_type": "display_data"
    }
   ],
   "source": [
    "geo_data_third_region_features_valid.plot(kind='hist', bins=300);"
   ]
  },
  {
   "cell_type": "markdown",
   "metadata": {},
   "source": [
    "**Выводы**\n",
    "\n",
    "1. Мы создали:\n",
    "   - новые датафреймы для обучения модели (ml - machine learning), посредством удаления избыточных признаков из множества признаков;\n",
    "   - глобальную переменную `random_state`, в которой зафиксировали выбранную нами псевдослучайность, для дальнейшего использования на всех этапах исследования;\n",
    "   - отдельные датафреймы, содержащие признаки и целевой признак для каждой выборки: обучающей и валидационной, для всех трех исходных датасетов.\n",
    " \n",
    "2. Обнаружили и удалили выбросы в признаках (столбцах): `f2` датафрема `geo_data_first_region_ml`; `f1` датафрейма `geo_data_second_region_ml`; `f0`, `f1` и `f2` датафрейма `geo_data_third_region_ml`.\n",
    "3. Масштабировали признаки для каждой выборки множества признаков: обучающей и валидационной, для всех трех датафреймов."
   ]
  },
  {
   "cell_type": "markdown",
   "metadata": {},
   "source": [
    "## Исследование модели\n",
    "\n",
    "Для задачи регрессии мы рассмотрим одну популярную модель: линейная регрессия. Остальные — недостаточно предсказуемые."
   ]
  },
  {
   "cell_type": "code",
   "execution_count": 101,
   "metadata": {},
   "outputs": [],
   "source": [
    "# функция создания и обучения модели \"линейной регрессии\",\n",
    "# получения предсказаний и вычисления метрик качеств модели \n",
    "def linear_regression(features_train,\n",
    "                      target_train,\n",
    "                      features_valid,\n",
    "                      target_valid,\n",
    "                      n_jobs=-1):\n",
    "    \n",
    "    # создадим модель \n",
    "    lr_model = LinearRegression(n_jobs=n_jobs)\n",
    "\n",
    "    # обучим модель на тренировочной выборке\n",
    "    lr_model.fit(features_train, target_train)\n",
    "\n",
    "    # получим предсказания модели на валидационной выборке\n",
    "    predictions_valid = lr_model.predict(features_valid)\n",
    "    \n",
    "    # вычислим метрику mse\n",
    "    mse = mean_squared_error(target_valid, predictions_valid)\n",
    "\n",
    "    # вычислим метрику rmse\n",
    "    rmse = mse ** 0.5\n",
    "    \n",
    "    # вычислим метрику mae\n",
    "    mae = mean_absolute_error(target_valid, predictions_valid)\n",
    "    \n",
    "    # вычислим метрику r2\n",
    "    r2 = r2_score(target_valid, predictions_valid)\n",
    "    \n",
    "    # вычислим метрику mape\n",
    "    mape = mean_absolute_percentage_error(target_valid, predictions_valid)\n",
    "\n",
    "    print(\"Метрики модели:\")\n",
    "    print(\"\\tRMSE:\", rmse)\n",
    "    print()\n",
    "    print(\"\\tДополнительные метрики:\")\n",
    "    print(\"\\tMAE:\", mae)\n",
    "    print(\"\\tR2:\", r2)\n",
    "    print(\"\\tMAPE:\", mape)\n",
    "    print()\n",
    "    \n",
    "    return pd.Series(predictions_valid, index=target_valid.index)"
   ]
  },
  {
   "cell_type": "code",
   "execution_count": 102,
   "metadata": {},
   "outputs": [],
   "source": [
    "def model_adequancy_mse(target_train,\n",
    "                        target_valid):\n",
    "    \n",
    "    # получим предсказания константной модели \n",
    "    predictions_valid = pd.Series(target_train.mean(), index=target_valid.index)\n",
    "    \n",
    "    # вычислим метрику mse\n",
    "    mse = mean_squared_error(target_valid, predictions_valid)\n",
    "\n",
    "    # вычислим метрику rmse\n",
    "    rmse = mse ** 0.5\n",
    "    \n",
    "    # вычислим метрику r2\n",
    "    r2 = r2_score(target_valid, predictions_valid)\n",
    "    \n",
    "    # вычислим метрику mape\n",
    "    mape = mean_absolute_percentage_error(target_valid, predictions_valid)\n",
    "    \n",
    "    print(\"Метрики константного предсказания:\")\n",
    "    print(\"\\tRMSE:\", rmse)\n",
    "    print()\n",
    "    print(\"\\tДополнительные метрики:\")\n",
    "    print(\"\\tR2:\", r2)\n",
    "    print(\"\\tMAPE:\", mape)\n",
    "    print()"
   ]
  },
  {
   "cell_type": "code",
   "execution_count": 103,
   "metadata": {},
   "outputs": [],
   "source": [
    "def model_adequancy_mae(target_train,\n",
    "                        target_valid):\n",
    "    \n",
    "    # получим предсказания константной модели \n",
    "    predictions_valid = pd.Series(target_train.median(), index=target_valid.index)\n",
    "    \n",
    "    # вычислим метрику mae\n",
    "    mae = mean_absolute_error(target_valid, predictions_valid)\n",
    "    \n",
    "    # вычислим метрику r2\n",
    "    r2 = r2_score(target_valid, predictions_valid)\n",
    "    \n",
    "    # вычислим метрику mape\n",
    "    mape = mean_absolute_percentage_error(target_valid, predictions_valid)\n",
    "\n",
    "    print(\"Метрики константного предсказания:\")\n",
    "    print(\"\\tMAE:\", mae)\n",
    "    print()\n",
    "    print(\"\\tДополнительные метрики:\")\n",
    "    print(\"\\tR2:\", r2)\n",
    "    print(\"\\tMAPE:\", mape)\n",
    "    print()"
   ]
  },
  {
   "cell_type": "code",
   "execution_count": 104,
   "metadata": {},
   "outputs": [],
   "source": [
    "# функция для изучения модели (создание, обучение, предсказание, вычисление метрик качества,\n",
    "# построение константной модели, проверка на адекватность)\n",
    "def model_research(features_train,\n",
    "                   target_train,\n",
    "                   features_valid,\n",
    "                   target_valid):\n",
    "    \n",
    "\n",
    "    predictions_valid =linear_regression(features_train,\n",
    "                                         target_train,\n",
    "                                         features_valid,\n",
    "                                         target_valid)\n",
    "    \n",
    "    print(\"\\nПроверка модели на адекватность (метрика  MSE (RMSE)).\")\n",
    "    model_adequancy_mse(target_train,\n",
    "                        target_valid)\n",
    "    \n",
    "    print(\"\\nПроверка модели на адекватность (метрика MAE).\")\n",
    "    model_adequancy_mae(target_train,\n",
    "                        target_valid)\n",
    "    \n",
    "    return predictions_valid"
   ]
  },
  {
   "cell_type": "markdown",
   "metadata": {},
   "source": [
    "**23. Исследуем модель на основе \"линейной регрессии\".**"
   ]
  },
  {
   "cell_type": "markdown",
   "metadata": {},
   "source": [
    "**Первый регион (`geo_data_first_region_ml`).**"
   ]
  },
  {
   "cell_type": "code",
   "execution_count": 105,
   "metadata": {},
   "outputs": [
    {
     "name": "stdout",
     "output_type": "stream",
     "text": [
      "Метрики модели:\n",
      "\tRMSE: 37.62268856920617\n",
      "\n",
      "\tДополнительные метрики:\n",
      "\tMAE: 30.98739105504109\n",
      "\tR2: 0.2752404162341938\n",
      "\tMAPE: 1.7837183309155193\n",
      "\n",
      "\n",
      "Проверка модели на адекватность (метрика  MSE (RMSE)).\n",
      "Метрики константного предсказания:\n",
      "\tRMSE: 44.194708244094166\n",
      "\n",
      "\tДополнительные метрики:\n",
      "\tR2: -8.025775311448768e-05\n",
      "\tMAPE: 2.6096683582831774\n",
      "\n",
      "\n",
      "Проверка модели на адекватность (метрика MAE).\n",
      "Метрики константного предсказания:\n",
      "\tMAE: 37.62577203667528\n",
      "\n",
      "\tДополнительные метрики:\n",
      "\tR2: -0.000816210254362959\n",
      "\tMAPE: 2.585241931257222\n",
      "\n",
      "\n",
      "Cредний запас предсказанного моделью сырья в регионе: 92.49529021837567\n",
      "Cредний запас сырья в регионе (по данным из валидационной выборки): 92.79360538286247\n"
     ]
    }
   ],
   "source": [
    "geo_data_first_region_predictions_valid = model_research(geo_data_first_region_features_train,\n",
    "                                                         geo_data_first_region_target_train,\n",
    "                                                         geo_data_first_region_features_valid,\n",
    "                                                         geo_data_first_region_target_valid)\n",
    "\n",
    "print(\"\\nCредний запас предсказанного моделью сырья в регионе:\", geo_data_first_region_predictions_valid.mean())\n",
    "print(\"Cредний запас сырья в регионе (по данным из валидационной выборки):\", \n",
    "      geo_data_first_region_target_valid.mean())"
   ]
  },
  {
   "cell_type": "markdown",
   "metadata": {},
   "source": [
    "**Второй регион (`geo_data_second_region_ml`).**"
   ]
  },
  {
   "cell_type": "code",
   "execution_count": 106,
   "metadata": {},
   "outputs": [
    {
     "name": "stdout",
     "output_type": "stream",
     "text": [
      "Метрики модели:\n",
      "\tRMSE: 0.8901113771457171\n",
      "\n",
      "\tДополнительные метрики:\n",
      "\tMAE: 0.7167352848614972\n",
      "\tR2: 0.9996234488075149\n",
      "\tMAPE: 260386514653148.75\n",
      "\n",
      "\n",
      "Проверка модели на адекватность (метрика  MSE (RMSE)).\n",
      "Метрики константного предсказания:\n",
      "\tRMSE: 45.8706513985335\n",
      "\n",
      "\tДополнительные метрики:\n",
      "\tR2: -1.1830927594269625e-05\n",
      "\tMAPE: 2.5162456047907564e+16\n",
      "\n",
      "\n",
      "Проверка модели на адекватность (метрика MAE).\n",
      "Метрики константного предсказания:\n",
      "\tMAE: 40.08724275061521\n",
      "\n",
      "\tДополнительные метрики:\n",
      "\tR2: -0.06400859009349813\n",
      "\tMAPE: 2.0863389357178224e+16\n",
      "\n",
      "\n",
      "Cредний запас предсказанного моделью сырья в регионе: 68.69376708598895\n",
      "Cредний запас сырья в регионе (по данным из валидационной выборки): 68.69079364085894\n"
     ]
    }
   ],
   "source": [
    "geo_data_second_region_predictions_valid = model_research(geo_data_second_region_features_train,\n",
    "                                                          geo_data_second_region_target_train,\n",
    "                                                          geo_data_second_region_features_valid,\n",
    "                                                          geo_data_second_region_target_valid)\n",
    "\n",
    "print(\"\\nCредний запас предсказанного моделью сырья в регионе:\", geo_data_second_region_predictions_valid.mean())\n",
    "print(\"Cредний запас сырья в регионе (по данным из валидационной выборки):\", \n",
    "      geo_data_second_region_target_valid.mean())"
   ]
  },
  {
   "cell_type": "markdown",
   "metadata": {},
   "source": [
    "**Третий регион (`geo_data_third_region_ml`).**"
   ]
  },
  {
   "cell_type": "code",
   "execution_count": 107,
   "metadata": {},
   "outputs": [
    {
     "name": "stdout",
     "output_type": "stream",
     "text": [
      "Метрики модели:\n",
      "\tRMSE: 39.944501797175946\n",
      "\n",
      "\tДополнительные метрики:\n",
      "\tMAE: 32.69739846704977\n",
      "\tR2: 0.19789873433929173\n",
      "\tMAPE: 10440322062339.637\n",
      "\n",
      "\n",
      "Проверка модели на адекватность (метрика  MSE (RMSE)).\n",
      "Метрики константного предсказания:\n",
      "\tRMSE: 44.604872667965594\n",
      "\n",
      "\tДополнительные метрики:\n",
      "\tR2: -0.0001837443362862068\n",
      "\tMAPE: 17501667690744.584\n",
      "\n",
      "\n",
      "Проверка модели на адекватность (метрика MAE).\n",
      "Метрики константного предсказания:\n",
      "\tMAE: 37.62377288514224\n",
      "\n",
      "\tДополнительные метрики:\n",
      "\tR2: -0.00016152190573626157\n",
      "\tMAPE: 17494706713813.76\n",
      "\n",
      "\n",
      "Cредний запас предсказанного моделью сырья в регионе: 95.00538302641708\n",
      "Cредний запас сырья в регионе (по данным из валидационной выборки): 94.27580003646668\n"
     ]
    }
   ],
   "source": [
    "geo_data_third_region_predictions_valid = model_research(geo_data_third_region_features_train,\n",
    "                                                         geo_data_third_region_target_train,\n",
    "                                                         geo_data_third_region_features_valid,\n",
    "                                                         geo_data_third_region_target_valid)\n",
    "\n",
    "print(\"\\nCредний запас предсказанного моделью сырья в регионе:\", geo_data_third_region_predictions_valid.mean())\n",
    "print(\"Cредний запас сырья в регионе (по данным из валидационной выборки):\", \n",
    "      geo_data_third_region_target_valid.mean())"
   ]
  },
  {
   "cell_type": "markdown",
   "metadata": {},
   "source": [
    "**Выводы**\n",
    "\n",
    " - Лучшей регион, по метрикам качества задачи регрессии (кроме `MAPE`), является второй. Минимальная `RMSE` (**0.8901113771457171**) и `MAE` (**0.7167352848614972**), и максимальное `R2` (**0.9996234488075149**) из всех моделей. Но по среднему запасу предсказанного моделью сырья в регионе (**95.00538302641708**), который является более приоритетной метрикой бизнеса, является третий регион. Но по среднему запасу предсказанного моделью сырья в регионе (**68.69079364085894**), он на последнем месте.\n",
    " \n",
    " \n",
    "\n",
    " - По метрике бизнеса `средний запас предсказанного моделью сырья в регионе` (**95.00538302641708**), лучшим регионом, по прогнозу модели, где добыча принесет максимальную прибыль -  третий регион.\n",
    " \n",
    " \n",
    "\n",
    " - Все три модели проверены на адекватность, с помощью константных предсказаний по метрикам: MSE (RMSE) и MAE. Они полностью адекватны, что подтверждают значения метрик полученных из предсказаний моделей и соответствующих константных предсказаний."
   ]
  },
  {
   "cell_type": "markdown",
   "metadata": {},
   "source": [
    "## Подготовка к расчёту прибыли"
   ]
  },
  {
   "cell_type": "markdown",
   "metadata": {},
   "source": [
    "**24. Создадим глобальные переменные, с ключевыми значениями, для расчетов.**"
   ]
  },
  {
   "cell_type": "code",
   "execution_count": 108,
   "metadata": {},
   "outputs": [],
   "source": [
    "# максимальное число исследуемых скважин\n",
    "max_wells_number = 500\n",
    "\n",
    "# число лучших скважин, по количеству запасов нефти, которые отбираем для разработки \n",
    "number_best_wells = 200\n",
    "\n",
    "# бюджет на разработку скважин в одном регионе (в рублях)\n",
    "budget_for_well_development_in_region = 10000000000\n",
    "\n",
    "\n",
    "# доход с одного барреля нефти  450 рублей (цена в рублях)\n",
    "# доход с каждой единицы продукта составляет 450 тыс. рублей, поскольку объём в данных указан в тысячах баррелей\n",
    "thousand_oil_barrels_price = 450000\n",
    "\n",
    "\n",
    "# после оценки рисков нужно оставить лишь те регионы, в которых вероятность убытков меньше 2.5%.\n",
    "losion_probability_lower = 0.025"
   ]
  },
  {
   "cell_type": "markdown",
   "metadata": {},
   "source": [
    "**25. Рассчитаем достаточный объём сырья для безубыточной разработки новой скважины.**"
   ]
  },
  {
   "cell_type": "code",
   "execution_count": 109,
   "metadata": {},
   "outputs": [
    {
     "data": {
      "text/plain": [
       "111.11111111111111"
      ]
     },
     "execution_count": 109,
     "metadata": {},
     "output_type": "execute_result"
    }
   ],
   "source": [
    "enough_raw_material = budget_for_well_development_in_region / (thousand_oil_barrels_price * number_best_wells)\n",
    "enough_raw_material"
   ]
  },
  {
   "cell_type": "markdown",
   "metadata": {},
   "source": [
    "Требуется минимум **`111.11111111111111`** тыс. баррелей нефти, в каждой из двухсот скважин, для безубыточной разработки одной новой скважины."
   ]
  },
  {
   "cell_type": "markdown",
   "metadata": {},
   "source": [
    "**26. Сравним полученный объём сырья со средним запасом в каждом регионе.**"
   ]
  },
  {
   "cell_type": "code",
   "execution_count": 110,
   "metadata": {},
   "outputs": [
    {
     "name": "stdout",
     "output_type": "stream",
     "text": [
      "Cредний запас сырья в первом регионе: 92.49667496223657\n"
     ]
    }
   ],
   "source": [
    "print(\"Cредний запас сырья в первом регионе:\", geo_data_first_region_ml['product'].mean())"
   ]
  },
  {
   "cell_type": "code",
   "execution_count": 111,
   "metadata": {},
   "outputs": [
    {
     "name": "stdout",
     "output_type": "stream",
     "text": [
      "Cредний запас сырья во втором регионе: 68.80912506323762\n"
     ]
    }
   ],
   "source": [
    "print(\"Cредний запас сырья во втором регионе:\", geo_data_second_region_ml['product'].mean())"
   ]
  },
  {
   "cell_type": "code",
   "execution_count": 112,
   "metadata": {},
   "outputs": [
    {
     "name": "stdout",
     "output_type": "stream",
     "text": [
      "Cредний запас сырья в третьем регионе: 94.72922581245349\n"
     ]
    }
   ],
   "source": [
    "print(\"Cредний запас сырья в третьем регионе:\", geo_data_third_region_ml['product'].mean())"
   ]
  },
  {
   "cell_type": "markdown",
   "metadata": {},
   "source": [
    "Средние запасы сырья в регионах, ниже минимума, который требуется для безубыточной разработки одной новой скважины. "
   ]
  },
  {
   "cell_type": "markdown",
   "metadata": {},
   "source": [
    "**27. Посмотрим, какая доля скважин, в каждом регионе, с требуемым объемом сырья.**\n",
    "\n",
    "По имеющимся данным, проверим, какая доля скважин, в процентах, от общего количества разведанных, в каждом регионе, имеет требуемый минимум объема сырья."
   ]
  },
  {
   "cell_type": "code",
   "execution_count": 113,
   "metadata": {},
   "outputs": [],
   "source": [
    "def percentage_share(data_frame, column_name, enough_raw_material, region_name):\n",
    "    percentage_share = data_frame[data_frame[column_name] >= enough_raw_material][column_name].count() / len(data_frame)\n",
    "    print(f\"{region_name}: {percentage_share:%}\")"
   ]
  },
  {
   "cell_type": "code",
   "execution_count": 114,
   "metadata": {},
   "outputs": [
    {
     "name": "stdout",
     "output_type": "stream",
     "text": [
      "Первый регион: 36.530994%\n"
     ]
    }
   ],
   "source": [
    "percentage_share(geo_data_first_region_ml,'product', enough_raw_material, \"Первый регион\")"
   ]
  },
  {
   "cell_type": "code",
   "execution_count": 115,
   "metadata": {},
   "outputs": [
    {
     "name": "stdout",
     "output_type": "stream",
     "text": [
      "Второй регион: 16.516644%\n"
     ]
    }
   ],
   "source": [
    "percentage_share(geo_data_second_region_ml,'product', enough_raw_material, \"Второй регион\")"
   ]
  },
  {
   "cell_type": "code",
   "execution_count": 116,
   "metadata": {},
   "outputs": [
    {
     "name": "stdout",
     "output_type": "stream",
     "text": [
      "Третий регион: 37.939933%\n"
     ]
    }
   ],
   "source": [
    "percentage_share(geo_data_third_region_ml,'product', enough_raw_material, \"Третий регион\")"
   ]
  },
  {
   "cell_type": "markdown",
   "metadata": {},
   "source": [
    "**Выводы**\n",
    "\n",
    "1. Минимум `111.11111111111111` тысяч баррелей нефти требуется для безубыточной разработки одной скважины.\n",
    "2. Средний запас сырья в одной сважине, в каждом регионе, меньше чем требуемый минимум от `14.7` до `38%`.\n",
    "3. Доля скважин, в процентах, от общего числа разведанных, имеющих требуемый минимум сырья, в каждом регионе, составляет:  первый: `36.530994%`; второй: `16.516644%`; третий:  `37.939933%`."
   ]
  },
  {
   "cell_type": "markdown",
   "metadata": {},
   "source": [
    "## Расчёт рисков и прибыли"
   ]
  },
  {
   "cell_type": "code",
   "execution_count": 117,
   "metadata": {},
   "outputs": [],
   "source": [
    "# функция для расчета прибыли по выбранным скважинам и предсказаниям модели\n",
    "def revenue(target,\n",
    "            probabilities,\n",
    "            number_best_wells,\n",
    "            thousand_oil_barrels_price,\n",
    "            budget_for_well_development_in_region):\n",
    "    \n",
    "    probs_sorted = probabilities.sort_values(ascending=False)\n",
    "    selected = target[probs_sorted.index][:number_best_wells]\n",
    "    \n",
    "    return (thousand_oil_barrels_price * selected.sum()) - budget_for_well_development_in_region"
   ]
  },
  {
   "cell_type": "code",
   "execution_count": 118,
   "metadata": {},
   "outputs": [],
   "source": [
    "def region_profits_and_risks(target,\n",
    "                             probabilities,\n",
    "                             number_best_wells=number_best_wells,\n",
    "                             thousand_oil_barrels_price=thousand_oil_barrels_price,\n",
    "                             budget_for_well_development_in_region=budget_for_well_development_in_region,\n",
    "                             samples_number = 1000):\n",
    "    \n",
    "    \n",
    "    # random_state для Bootstrap\n",
    "    np_random_state = np.random.RandomState(753)\n",
    "\n",
    "    values = []\n",
    "\n",
    "    for i in range(samples_number):\n",
    "        target_subsample = target.sample(n=max_wells_number, replace=True, random_state=np_random_state)\n",
    "        probs_subsample = probabilities[target_subsample.index]\n",
    "        \n",
    "        values.append(revenue(target_subsample,\n",
    "                              probs_subsample,\n",
    "                              number_best_wells,\n",
    "                              thousand_oil_barrels_price,\n",
    "                              budget_for_well_development_in_region))\n",
    "    \n",
    "    \n",
    "    values = pd.Series(values)\n",
    "    \n",
    "    print(f\"Средняя прибыль: {values.mean()} рублей.\")\n",
    "    print(\"95%-й доверительный интервал:\", (values.quantile(q=0.025), values.quantile(q=0.975)))\n",
    "    print(f\"Риск убытков: {st.percentileofscore(values, 0): } %\")"
   ]
  },
  {
   "cell_type": "markdown",
   "metadata": {},
   "source": [
    "**28. Найдем среднюю прибыль, 95%-й доверительный интервал и процент риска убытков.**"
   ]
  },
  {
   "cell_type": "markdown",
   "metadata": {},
   "source": [
    "**Первый регион**"
   ]
  },
  {
   "cell_type": "code",
   "execution_count": 119,
   "metadata": {},
   "outputs": [
    {
     "name": "stdout",
     "output_type": "stream",
     "text": [
      "Средняя прибыль: 488755296.3249799 рублей.\n",
      "95%-й доверительный интервал: (-38720571.08990783, 1010087436.1002594)\n",
      "Риск убытков:  3.4000000000000004 %\n"
     ]
    }
   ],
   "source": [
    "region_profits_and_risks(geo_data_first_region_target_valid,\n",
    "                         geo_data_first_region_predictions_valid)"
   ]
  },
  {
   "cell_type": "markdown",
   "metadata": {},
   "source": [
    "**Второй регион**"
   ]
  },
  {
   "cell_type": "code",
   "execution_count": 120,
   "metadata": {},
   "outputs": [
    {
     "name": "stdout",
     "output_type": "stream",
     "text": [
      "Средняя прибыль: 488666243.6808566 рублей.\n",
      "95%-й доверительный интервал: (114457928.09009352, 923615557.534635)\n",
      "Риск убытков:  0.8 %\n"
     ]
    }
   ],
   "source": [
    "region_profits_and_risks(geo_data_second_region_target_valid,\n",
    "                         geo_data_second_region_predictions_valid)"
   ]
  },
  {
   "cell_type": "markdown",
   "metadata": {},
   "source": [
    "**Третий регион**"
   ]
  },
  {
   "cell_type": "code",
   "execution_count": 121,
   "metadata": {},
   "outputs": [
    {
     "name": "stdout",
     "output_type": "stream",
     "text": [
      "Средняя прибыль: 321014847.62621534 рублей.\n",
      "95%-й доверительный интервал: (-225172452.7755717, 852989435.9029884)\n",
      "Риск убытков:  11.5 %\n"
     ]
    }
   ],
   "source": [
    "region_profits_and_risks(geo_data_third_region_target_valid,\n",
    "                         geo_data_third_region_predictions_valid)"
   ]
  },
  {
   "cell_type": "markdown",
   "metadata": {},
   "source": [
    "**29. Оценим качество модели методом кросс-валидации.**\n",
    "\n",
    "Оценим качество модели, на валидационной выборке второго региона."
   ]
  },
  {
   "cell_type": "code",
   "execution_count": 122,
   "metadata": {},
   "outputs": [
    {
     "name": "stdout",
     "output_type": "stream",
     "text": [
      "Средняя оценка качества модели (метрика R2): 0.999624, стандартное отклонение: 0.000002\n"
     ]
    }
   ],
   "source": [
    "cv = KFold(shuffle=True, random_state=random_state)\n",
    "\n",
    "lr_model = LinearRegression(n_jobs=-1)\n",
    "\n",
    "scores = cross_val_score(lr_model,\n",
    "                         geo_data_second_region_features_train,\n",
    "                         geo_data_second_region_target_train,\n",
    "                         cv=cv,\n",
    "                         scoring='r2')\n",
    "\n",
    "print(\"Средняя оценка качества модели (метрика R2): %f, стандартное отклонение: %f\" % (scores.mean(), scores.std()))"
   ]
  },
  {
   "cell_type": "markdown",
   "metadata": {},
   "source": [
    "## Итоги проекта"
   ]
  },
  {
   "cell_type": "markdown",
   "metadata": {},
   "source": [
    "Условия задачи:\n",
    "  1. Для построения модели использовать линейную регрессию.\n",
    "  2. При разведке региона исследуют `500` точек, из которых с помощью машинного обучения выбирают `200` лучших для разработки.\n",
    "  3. Бюджет на разработку скважин в регионе — `10` млрд рублей\n",
    "  4. Один баррель сырья приносит `450` рублей дохода. \n",
    "  5. Отфильтровать регионы, сначала, с небольшой вероятностью убытков (меньше `2.5%`), из которых выбрать регион с наибольшей средней прибылью.\n",
    " \n",
    "**По результату исследования, выбран второй регион, в котором добыча сырья принесёт наибольшую прибыль.**\n",
    "\n",
    "Данный регион удовлетворяет пятому критерию (вероятность убытков должна быть менее `2.5%`). \n",
    "\n",
    "Показатели модели по второму региону и бизнес характеристики данного региона:\n",
    "\n",
    "**Метрики качества модели:**\n",
    "* `RMSE` : **0.8901113771457171**.\n",
    "* `MAE` : **0.7167352848614972**;\n",
    "* `R2` : **0.9996234488075149**;\n",
    "* `MAPE` : **260386514653148.75**.\n",
    "    \n",
    "По всем метрикам, кроме `MAPE`, модель находится в большом отрыве от моделей обученных на данных по-другим регионам. По метрикам `RMSE` и `MAE` более чем в 30-ть раз.\n",
    "\n",
    "\n",
    "**Характеристики региона:**\n",
    "* `Средняя прибыль` : **488666243.6808566 рублей**;\n",
    "* `95%-й доверительный интервал` : **(114457928.09009352, 923615557.534635)**;\n",
    "* `Риск убытков` :  **0.8%*;\n",
    "* `Cредний запас предсказанного моделью сырья в регионе` : **68.69376708598895**;\n",
    "* `Cредний запас сырья в регионе (по данным из валидационной выборки)` : **68.69079364085894**.\n",
    "\n",
    "\n",
    "Для безубыточной разработки одной новой скважины, при текущих вышеуказанных условиях, требуется минимум `111.11111111111111` тыс. баррелей нефти в каждой из двухсот скважин.\n",
    "\n",
    "`Доля скважин, во втором регионе, c требуемым объемом сырья`: **16.516644%**\n",
    "\n",
    "\n",
    " - Выбранный регион, уступает другим двум только по характеристикам: `Cредний запас предсказанного моделью сырья в регионе`,  `Доля скважин, во втором регионе, c требуемым объемом сырья`, что закономерно, так как эти две характеристики зависимы. \n",
    "\n",
    " - `Средняя прибыль` второго и первого региона, практически равны. У второго, незначительно меньше на 100 тыс. рублей. Третий регион отстает от них, по данному показателю, более чем на 100 млн. рублей.\n",
    "\n",
    " - Но второй регион имеет `95%-й доверительный интервал` без отрицательных значений, и `риск убытков` меньше `1%` (`0.8%`), что говорит о минимальном риске убытков в данном регионе, и в совокупности со `средней прибылью` делает второй регион лидером.\n",
    "\n",
    "\n",
    "\n",
    "  \n",
    "\n",
    "*Рекомендации по улучшению модели*:\n",
    "   - собрать большой массив исходных данных для обучения модели;\n",
    "   - обучить модель на большом массиве данных;\n",
    "   - скорректировать результаты.\n",
    "   \n",
    "Дополнение:\n",
    "    нумерация регионов в имени файлов начинается с нуля (нулевой, первый, второй). В данном исследовании, нумерация регионов начинается с единицы (первый, второй, третий)."
   ]
  }
 ],
 "metadata": {
  "ExecuteTimeLog": [
   {
    "duration": 1727,
    "start_time": "2023-05-29T07:40:47.384Z"
   },
   {
    "duration": 1630,
    "start_time": "2023-05-29T07:40:49.114Z"
   },
   {
    "duration": 15,
    "start_time": "2023-05-29T07:40:50.746Z"
   },
   {
    "duration": 10,
    "start_time": "2023-05-29T07:40:50.766Z"
   },
   {
    "duration": 18,
    "start_time": "2023-05-29T07:40:50.778Z"
   },
   {
    "duration": 36,
    "start_time": "2023-05-29T07:40:50.798Z"
   },
   {
    "duration": 26,
    "start_time": "2023-05-29T07:40:50.836Z"
   },
   {
    "duration": 18,
    "start_time": "2023-05-29T07:40:50.864Z"
   },
   {
    "duration": 1219,
    "start_time": "2023-05-29T07:40:50.884Z"
   },
   {
    "duration": 1051,
    "start_time": "2023-05-29T07:40:52.105Z"
   },
   {
    "duration": 1220,
    "start_time": "2023-05-29T07:40:53.161Z"
   },
   {
    "duration": 37,
    "start_time": "2023-05-29T07:40:54.383Z"
   },
   {
    "duration": 57,
    "start_time": "2023-05-29T07:40:54.421Z"
   },
   {
    "duration": 35,
    "start_time": "2023-05-29T07:40:54.480Z"
   },
   {
    "duration": 4,
    "start_time": "2023-05-29T07:40:54.517Z"
   },
   {
    "duration": 5,
    "start_time": "2023-05-29T07:40:54.522Z"
   },
   {
    "duration": 5,
    "start_time": "2023-05-29T07:40:54.529Z"
   },
   {
    "duration": 74,
    "start_time": "2023-05-29T07:40:54.535Z"
   },
   {
    "duration": 22,
    "start_time": "2023-05-29T07:40:54.612Z"
   },
   {
    "duration": 52,
    "start_time": "2023-05-29T07:40:54.637Z"
   },
   {
    "duration": 18,
    "start_time": "2023-05-29T07:40:54.691Z"
   },
   {
    "duration": 72,
    "start_time": "2023-05-29T07:40:54.710Z"
   },
   {
    "duration": 45,
    "start_time": "2023-05-29T07:40:54.783Z"
   },
   {
    "duration": 32,
    "start_time": "2023-05-29T07:40:54.830Z"
   },
   {
    "duration": 32,
    "start_time": "2023-05-29T07:40:54.863Z"
   },
   {
    "duration": 17,
    "start_time": "2023-05-29T07:40:54.897Z"
   },
   {
    "duration": 66,
    "start_time": "2023-05-29T07:40:54.916Z"
   },
   {
    "duration": 46,
    "start_time": "2023-05-29T07:40:54.987Z"
   },
   {
    "duration": 38,
    "start_time": "2023-05-29T07:40:55.035Z"
   },
   {
    "duration": 25,
    "start_time": "2023-05-29T07:40:55.075Z"
   },
   {
    "duration": 14,
    "start_time": "2023-05-29T07:40:55.102Z"
   },
   {
    "duration": 97,
    "start_time": "2023-05-29T07:40:55.118Z"
   },
   {
    "duration": 4,
    "start_time": "2023-05-29T07:40:55.216Z"
   },
   {
    "duration": 8,
    "start_time": "2023-05-29T07:40:55.222Z"
   },
   {
    "duration": 5,
    "start_time": "2023-05-29T07:40:55.233Z"
   },
   {
    "duration": 22,
    "start_time": "2023-05-29T07:40:55.239Z"
   },
   {
    "duration": 9,
    "start_time": "2023-05-29T07:40:55.263Z"
   },
   {
    "duration": 13,
    "start_time": "2023-05-29T07:40:55.274Z"
   },
   {
    "duration": 33,
    "start_time": "2023-05-29T07:40:55.288Z"
   },
   {
    "duration": 23,
    "start_time": "2023-05-29T07:40:55.323Z"
   },
   {
    "duration": 6,
    "start_time": "2023-05-29T07:40:55.348Z"
   },
   {
    "duration": 357,
    "start_time": "2023-05-29T07:40:55.356Z"
   },
   {
    "duration": 350,
    "start_time": "2023-05-29T07:40:55.715Z"
   },
   {
    "duration": 314,
    "start_time": "2023-05-29T07:40:56.068Z"
   },
   {
    "duration": 7,
    "start_time": "2023-05-29T07:40:56.384Z"
   },
   {
    "duration": 24,
    "start_time": "2023-05-29T07:40:56.393Z"
   },
   {
    "duration": 222,
    "start_time": "2023-05-29T07:40:56.419Z"
   },
   {
    "duration": 16,
    "start_time": "2023-05-29T07:40:56.643Z"
   },
   {
    "duration": 1560,
    "start_time": "2023-05-29T07:40:56.660Z"
   },
   {
    "duration": 180,
    "start_time": "2023-05-29T07:40:58.222Z"
   },
   {
    "duration": 6,
    "start_time": "2023-05-29T07:40:58.405Z"
   },
   {
    "duration": 1609,
    "start_time": "2023-05-29T07:40:58.413Z"
   },
   {
    "duration": 221,
    "start_time": "2023-05-29T07:41:00.025Z"
   },
   {
    "duration": 19,
    "start_time": "2023-05-29T07:41:00.248Z"
   },
   {
    "duration": 1411,
    "start_time": "2023-05-29T07:41:00.269Z"
   },
   {
    "duration": 5,
    "start_time": "2023-05-29T07:41:01.682Z"
   },
   {
    "duration": 1459,
    "start_time": "2023-05-29T07:41:01.689Z"
   },
   {
    "duration": 11,
    "start_time": "2023-05-29T07:41:03.150Z"
   },
   {
    "duration": 1685,
    "start_time": "2023-05-29T07:41:03.163Z"
   },
   {
    "duration": 15,
    "start_time": "2023-05-29T07:41:04.850Z"
   },
   {
    "duration": 20,
    "start_time": "2023-05-29T07:41:04.866Z"
   },
   {
    "duration": 7,
    "start_time": "2023-05-29T07:41:04.888Z"
   },
   {
    "duration": 22,
    "start_time": "2023-05-29T07:41:04.897Z"
   },
   {
    "duration": 18,
    "start_time": "2023-05-29T07:41:04.921Z"
   },
   {
    "duration": 10,
    "start_time": "2023-05-29T07:41:04.941Z"
   },
   {
    "duration": 14,
    "start_time": "2023-05-29T07:41:04.953Z"
   },
   {
    "duration": 24,
    "start_time": "2023-05-29T07:41:04.971Z"
   },
   {
    "duration": 19,
    "start_time": "2023-05-29T07:41:04.998Z"
   },
   {
    "duration": 20,
    "start_time": "2023-05-29T07:41:05.018Z"
   },
   {
    "duration": 15,
    "start_time": "2023-05-29T07:41:05.040Z"
   },
   {
    "duration": 23,
    "start_time": "2023-05-29T07:41:05.056Z"
   },
   {
    "duration": 7,
    "start_time": "2023-05-29T07:41:05.081Z"
   },
   {
    "duration": 12,
    "start_time": "2023-05-29T07:41:05.089Z"
   },
   {
    "duration": 14,
    "start_time": "2023-05-29T07:41:05.103Z"
   },
   {
    "duration": 14,
    "start_time": "2023-05-29T07:41:05.119Z"
   },
   {
    "duration": 7,
    "start_time": "2023-05-29T07:41:05.134Z"
   },
   {
    "duration": 11,
    "start_time": "2023-05-29T07:41:05.142Z"
   },
   {
    "duration": 16,
    "start_time": "2023-05-29T07:41:05.154Z"
   },
   {
    "duration": 4,
    "start_time": "2023-05-29T07:41:05.175Z"
   },
   {
    "duration": 14,
    "start_time": "2023-05-29T07:41:05.180Z"
   },
   {
    "duration": 7,
    "start_time": "2023-05-29T07:41:05.196Z"
   },
   {
    "duration": 12,
    "start_time": "2023-05-29T07:41:05.210Z"
   },
   {
    "duration": 21,
    "start_time": "2023-05-29T07:41:05.224Z"
   },
   {
    "duration": 26,
    "start_time": "2023-05-29T07:41:05.247Z"
   },
   {
    "duration": 9,
    "start_time": "2023-05-29T07:41:05.275Z"
   },
   {
    "duration": 1728,
    "start_time": "2023-05-29T07:41:05.286Z"
   },
   {
    "duration": 1722,
    "start_time": "2023-05-29T07:41:07.016Z"
   },
   {
    "duration": 1859,
    "start_time": "2023-05-29T07:41:08.740Z"
   },
   {
    "duration": 1705,
    "start_time": "2023-05-29T07:41:10.601Z"
   },
   {
    "duration": 1709,
    "start_time": "2023-05-29T07:41:12.307Z"
   },
   {
    "duration": 1805,
    "start_time": "2023-05-29T07:41:14.018Z"
   },
   {
    "duration": 18,
    "start_time": "2023-05-29T07:41:15.824Z"
   },
   {
    "duration": 32,
    "start_time": "2023-05-29T07:41:15.858Z"
   },
   {
    "duration": 42,
    "start_time": "2023-05-29T07:41:15.891Z"
   },
   {
    "duration": 1771,
    "start_time": "2023-05-29T07:41:15.935Z"
   },
   {
    "duration": 1868,
    "start_time": "2023-05-29T07:41:17.708Z"
   },
   {
    "duration": 1923,
    "start_time": "2023-05-29T07:41:19.579Z"
   },
   {
    "duration": 1772,
    "start_time": "2023-05-29T07:41:21.504Z"
   },
   {
    "duration": 1920,
    "start_time": "2023-05-29T07:41:23.278Z"
   },
   {
    "duration": 1823,
    "start_time": "2023-05-29T07:41:25.200Z"
   },
   {
    "duration": 5,
    "start_time": "2023-05-29T07:41:27.025Z"
   },
   {
    "duration": 13,
    "start_time": "2023-05-29T07:41:27.032Z"
   },
   {
    "duration": 23,
    "start_time": "2023-05-29T07:41:27.047Z"
   },
   {
    "duration": 27,
    "start_time": "2023-05-29T07:41:27.071Z"
   },
   {
    "duration": 64,
    "start_time": "2023-05-29T07:41:27.100Z"
   },
   {
    "duration": 196,
    "start_time": "2023-05-29T07:41:27.166Z"
   },
   {
    "duration": 95,
    "start_time": "2023-05-29T07:41:27.371Z"
   },
   {
    "duration": 93,
    "start_time": "2023-05-29T07:41:27.468Z"
   },
   {
    "duration": 13,
    "start_time": "2023-05-29T07:41:27.564Z"
   },
   {
    "duration": 15,
    "start_time": "2023-05-29T07:41:27.579Z"
   },
   {
    "duration": 23,
    "start_time": "2023-05-29T07:41:27.596Z"
   },
   {
    "duration": 5,
    "start_time": "2023-05-29T07:41:27.621Z"
   },
   {
    "duration": 10,
    "start_time": "2023-05-29T07:41:27.627Z"
   },
   {
    "duration": 8,
    "start_time": "2023-05-29T07:41:27.639Z"
   },
   {
    "duration": 5,
    "start_time": "2023-05-29T07:41:27.649Z"
   },
   {
    "duration": 15,
    "start_time": "2023-05-29T07:41:27.656Z"
   },
   {
    "duration": 23,
    "start_time": "2023-05-29T07:41:27.672Z"
   },
   {
    "duration": 11,
    "start_time": "2023-05-29T07:41:27.696Z"
   },
   {
    "duration": 1513,
    "start_time": "2023-05-29T07:41:27.708Z"
   },
   {
    "duration": 1451,
    "start_time": "2023-05-29T07:41:29.223Z"
   },
   {
    "duration": 1504,
    "start_time": "2023-05-29T07:41:30.676Z"
   },
   {
    "duration": 301,
    "start_time": "2023-05-29T07:41:32.182Z"
   },
   {
    "duration": 32173,
    "start_time": "2023-05-29T07:42:27.972Z"
   },
   {
    "duration": 409,
    "start_time": "2023-05-29T07:43:00.148Z"
   },
   {
    "duration": 22,
    "start_time": "2023-05-29T07:43:00.559Z"
   },
   {
    "duration": 67,
    "start_time": "2023-05-29T07:43:00.584Z"
   },
   {
    "duration": 53,
    "start_time": "2023-05-29T07:43:00.652Z"
   },
   {
    "duration": 94,
    "start_time": "2023-05-29T07:43:00.707Z"
   },
   {
    "duration": 53,
    "start_time": "2023-05-29T07:43:00.804Z"
   },
   {
    "duration": 36,
    "start_time": "2023-05-29T07:43:00.860Z"
   },
   {
    "duration": 1851,
    "start_time": "2023-05-29T07:43:00.899Z"
   },
   {
    "duration": 1702,
    "start_time": "2023-05-29T07:43:02.757Z"
   },
   {
    "duration": 1781,
    "start_time": "2023-05-29T07:43:04.461Z"
   },
   {
    "duration": 49,
    "start_time": "2023-05-29T07:43:06.244Z"
   },
   {
    "duration": 509,
    "start_time": "2023-05-29T07:43:06.295Z"
   },
   {
    "duration": 187,
    "start_time": "2023-05-29T07:43:06.806Z"
   },
   {
    "duration": 3,
    "start_time": "2023-05-29T07:43:06.995Z"
   },
   {
    "duration": 7,
    "start_time": "2023-05-29T07:43:07.000Z"
   },
   {
    "duration": 5,
    "start_time": "2023-05-29T07:43:07.009Z"
   },
   {
    "duration": 57,
    "start_time": "2023-05-29T07:43:07.016Z"
   },
   {
    "duration": 22,
    "start_time": "2023-05-29T07:43:07.075Z"
   },
   {
    "duration": 28,
    "start_time": "2023-05-29T07:43:07.099Z"
   },
   {
    "duration": 15,
    "start_time": "2023-05-29T07:43:07.129Z"
   },
   {
    "duration": 47,
    "start_time": "2023-05-29T07:43:07.158Z"
   },
   {
    "duration": 66,
    "start_time": "2023-05-29T07:43:07.206Z"
   },
   {
    "duration": 20,
    "start_time": "2023-05-29T07:43:07.274Z"
   },
   {
    "duration": 19,
    "start_time": "2023-05-29T07:43:07.296Z"
   },
   {
    "duration": 27,
    "start_time": "2023-05-29T07:43:07.317Z"
   },
   {
    "duration": 55,
    "start_time": "2023-05-29T07:43:07.345Z"
   },
   {
    "duration": 60,
    "start_time": "2023-05-29T07:43:07.405Z"
   },
   {
    "duration": 21,
    "start_time": "2023-05-29T07:43:07.471Z"
   },
   {
    "duration": 34,
    "start_time": "2023-05-29T07:43:07.494Z"
   },
   {
    "duration": 32,
    "start_time": "2023-05-29T07:43:07.530Z"
   },
   {
    "duration": 48,
    "start_time": "2023-05-29T07:43:07.571Z"
   },
   {
    "duration": 5,
    "start_time": "2023-05-29T07:43:07.621Z"
   },
   {
    "duration": 7,
    "start_time": "2023-05-29T07:43:07.628Z"
   },
   {
    "duration": 24,
    "start_time": "2023-05-29T07:43:07.637Z"
   },
   {
    "duration": 17,
    "start_time": "2023-05-29T07:43:07.662Z"
   },
   {
    "duration": 8,
    "start_time": "2023-05-29T07:43:07.681Z"
   },
   {
    "duration": 10,
    "start_time": "2023-05-29T07:43:07.691Z"
   },
   {
    "duration": 9,
    "start_time": "2023-05-29T07:43:07.703Z"
   },
   {
    "duration": 6,
    "start_time": "2023-05-29T07:43:07.714Z"
   },
   {
    "duration": 7,
    "start_time": "2023-05-29T07:43:07.722Z"
   },
   {
    "duration": 398,
    "start_time": "2023-05-29T07:43:07.731Z"
   },
   {
    "duration": 392,
    "start_time": "2023-05-29T07:43:08.131Z"
   },
   {
    "duration": 403,
    "start_time": "2023-05-29T07:43:08.525Z"
   },
   {
    "duration": 6,
    "start_time": "2023-05-29T07:43:08.931Z"
   },
   {
    "duration": 23,
    "start_time": "2023-05-29T07:43:08.940Z"
   },
   {
    "duration": 393,
    "start_time": "2023-05-29T07:43:08.965Z"
   },
   {
    "duration": 12,
    "start_time": "2023-05-29T07:43:09.360Z"
   },
   {
    "duration": 1943,
    "start_time": "2023-05-29T07:43:09.378Z"
   },
   {
    "duration": 338,
    "start_time": "2023-05-29T07:43:11.323Z"
   },
   {
    "duration": 8,
    "start_time": "2023-05-29T07:43:11.663Z"
   },
   {
    "duration": 1807,
    "start_time": "2023-05-29T07:43:11.673Z"
   },
   {
    "duration": 333,
    "start_time": "2023-05-29T07:43:13.482Z"
   },
   {
    "duration": 5,
    "start_time": "2023-05-29T07:43:13.817Z"
   },
   {
    "duration": 1953,
    "start_time": "2023-05-29T07:43:13.823Z"
   },
   {
    "duration": 5,
    "start_time": "2023-05-29T07:43:15.777Z"
   },
   {
    "duration": 1925,
    "start_time": "2023-05-29T07:43:15.784Z"
   },
   {
    "duration": 5,
    "start_time": "2023-05-29T07:43:17.710Z"
   },
   {
    "duration": 2372,
    "start_time": "2023-05-29T07:43:17.717Z"
   },
   {
    "duration": 5,
    "start_time": "2023-05-29T07:43:20.091Z"
   },
   {
    "duration": 31,
    "start_time": "2023-05-29T07:43:20.098Z"
   },
   {
    "duration": 35,
    "start_time": "2023-05-29T07:43:20.131Z"
   },
   {
    "duration": 15,
    "start_time": "2023-05-29T07:43:20.169Z"
   },
   {
    "duration": 13,
    "start_time": "2023-05-29T07:43:20.186Z"
   },
   {
    "duration": 21,
    "start_time": "2023-05-29T07:43:20.201Z"
   },
   {
    "duration": 41,
    "start_time": "2023-05-29T07:43:20.223Z"
   },
   {
    "duration": 33,
    "start_time": "2023-05-29T07:43:20.270Z"
   },
   {
    "duration": 50,
    "start_time": "2023-05-29T07:43:20.304Z"
   },
   {
    "duration": 28,
    "start_time": "2023-05-29T07:43:20.358Z"
   },
   {
    "duration": 30,
    "start_time": "2023-05-29T07:43:20.388Z"
   },
   {
    "duration": 17,
    "start_time": "2023-05-29T07:43:20.420Z"
   },
   {
    "duration": 27,
    "start_time": "2023-05-29T07:43:20.439Z"
   },
   {
    "duration": 28,
    "start_time": "2023-05-29T07:43:20.468Z"
   },
   {
    "duration": 25,
    "start_time": "2023-05-29T07:43:20.498Z"
   },
   {
    "duration": 42,
    "start_time": "2023-05-29T07:43:20.524Z"
   },
   {
    "duration": 33,
    "start_time": "2023-05-29T07:43:20.568Z"
   },
   {
    "duration": 23,
    "start_time": "2023-05-29T07:43:20.603Z"
   },
   {
    "duration": 21,
    "start_time": "2023-05-29T07:43:20.628Z"
   },
   {
    "duration": 30,
    "start_time": "2023-05-29T07:43:20.650Z"
   },
   {
    "duration": 25,
    "start_time": "2023-05-29T07:43:20.682Z"
   },
   {
    "duration": 37,
    "start_time": "2023-05-29T07:43:20.709Z"
   },
   {
    "duration": 21,
    "start_time": "2023-05-29T07:43:20.752Z"
   },
   {
    "duration": 14,
    "start_time": "2023-05-29T07:43:20.775Z"
   },
   {
    "duration": 29,
    "start_time": "2023-05-29T07:43:20.791Z"
   },
   {
    "duration": 14,
    "start_time": "2023-05-29T07:43:20.822Z"
   },
   {
    "duration": 2134,
    "start_time": "2023-05-29T07:43:20.837Z"
   },
   {
    "duration": 2049,
    "start_time": "2023-05-29T07:43:22.973Z"
   },
   {
    "duration": 2032,
    "start_time": "2023-05-29T07:43:25.025Z"
   },
   {
    "duration": 1988,
    "start_time": "2023-05-29T07:43:27.062Z"
   },
   {
    "duration": 1963,
    "start_time": "2023-05-29T07:43:29.057Z"
   },
   {
    "duration": 1988,
    "start_time": "2023-05-29T07:43:31.022Z"
   },
   {
    "duration": 13,
    "start_time": "2023-05-29T07:43:33.012Z"
   },
   {
    "duration": 31,
    "start_time": "2023-05-29T07:43:33.027Z"
   },
   {
    "duration": 13,
    "start_time": "2023-05-29T07:43:33.069Z"
   },
   {
    "duration": 1988,
    "start_time": "2023-05-29T07:43:33.084Z"
   },
   {
    "duration": 2033,
    "start_time": "2023-05-29T07:43:35.073Z"
   },
   {
    "duration": 2090,
    "start_time": "2023-05-29T07:43:37.108Z"
   },
   {
    "duration": 1938,
    "start_time": "2023-05-29T07:43:39.200Z"
   },
   {
    "duration": 2012,
    "start_time": "2023-05-29T07:43:41.140Z"
   },
   {
    "duration": 1958,
    "start_time": "2023-05-29T07:43:43.157Z"
   },
   {
    "duration": 5,
    "start_time": "2023-05-29T07:43:45.118Z"
   },
   {
    "duration": 12,
    "start_time": "2023-05-29T07:43:45.124Z"
   },
   {
    "duration": 26,
    "start_time": "2023-05-29T07:43:45.138Z"
   },
   {
    "duration": 9,
    "start_time": "2023-05-29T07:43:45.166Z"
   },
   {
    "duration": 90,
    "start_time": "2023-05-29T07:43:45.177Z"
   },
   {
    "duration": 284,
    "start_time": "2023-05-29T07:43:45.271Z"
   },
   {
    "duration": 116,
    "start_time": "2023-05-29T07:43:45.557Z"
   },
   {
    "duration": 5,
    "start_time": "2023-05-29T07:43:45.675Z"
   },
   {
    "duration": 5,
    "start_time": "2023-05-29T07:43:45.758Z"
   },
   {
    "duration": 6,
    "start_time": "2023-05-29T07:43:45.768Z"
   },
   {
    "duration": 7,
    "start_time": "2023-05-29T07:43:45.775Z"
   },
   {
    "duration": 4,
    "start_time": "2023-05-29T07:43:45.784Z"
   },
   {
    "duration": 8,
    "start_time": "2023-05-29T07:43:45.790Z"
   },
   {
    "duration": 7,
    "start_time": "2023-05-29T07:43:45.799Z"
   },
   {
    "duration": 18,
    "start_time": "2023-05-29T07:43:45.808Z"
   },
   {
    "duration": 13,
    "start_time": "2023-05-29T07:43:45.828Z"
   },
   {
    "duration": 9,
    "start_time": "2023-05-29T07:43:45.843Z"
   },
   {
    "duration": 13,
    "start_time": "2023-05-29T07:43:45.854Z"
   },
   {
    "duration": 1728,
    "start_time": "2023-05-29T07:43:45.869Z"
   },
   {
    "duration": 1412,
    "start_time": "2023-05-29T07:43:47.599Z"
   },
   {
    "duration": 1445,
    "start_time": "2023-05-29T07:43:49.013Z"
   },
   {
    "duration": 417,
    "start_time": "2023-05-29T07:43:50.460Z"
   },
   {
    "duration": 36862,
    "start_time": "2023-05-29T21:29:15.544Z"
   },
   {
    "duration": 887,
    "start_time": "2023-05-29T21:29:52.408Z"
   },
   {
    "duration": 16,
    "start_time": "2023-05-29T21:29:53.297Z"
   },
   {
    "duration": 11,
    "start_time": "2023-05-29T21:29:53.315Z"
   },
   {
    "duration": 19,
    "start_time": "2023-05-29T21:29:53.328Z"
   },
   {
    "duration": 31,
    "start_time": "2023-05-29T21:29:53.348Z"
   },
   {
    "duration": 22,
    "start_time": "2023-05-29T21:29:53.381Z"
   },
   {
    "duration": 19,
    "start_time": "2023-05-29T21:29:53.404Z"
   },
   {
    "duration": 1804,
    "start_time": "2023-05-29T21:29:53.425Z"
   },
   {
    "duration": 1686,
    "start_time": "2023-05-29T21:29:55.232Z"
   },
   {
    "duration": 1749,
    "start_time": "2023-05-29T21:29:56.920Z"
   },
   {
    "duration": 48,
    "start_time": "2023-05-29T21:29:58.672Z"
   },
   {
    "duration": 46,
    "start_time": "2023-05-29T21:29:58.722Z"
   },
   {
    "duration": 41,
    "start_time": "2023-05-29T21:29:58.785Z"
   },
   {
    "duration": 3,
    "start_time": "2023-05-29T21:29:58.828Z"
   },
   {
    "duration": 9,
    "start_time": "2023-05-29T21:29:58.833Z"
   },
   {
    "duration": 11,
    "start_time": "2023-05-29T21:29:58.844Z"
   },
   {
    "duration": 72,
    "start_time": "2023-05-29T21:29:58.857Z"
   },
   {
    "duration": 16,
    "start_time": "2023-05-29T21:29:58.931Z"
   },
   {
    "duration": 56,
    "start_time": "2023-05-29T21:29:58.949Z"
   },
   {
    "duration": 18,
    "start_time": "2023-05-29T21:29:59.007Z"
   },
   {
    "duration": 48,
    "start_time": "2023-05-29T21:29:59.027Z"
   },
   {
    "duration": 44,
    "start_time": "2023-05-29T21:29:59.081Z"
   },
   {
    "duration": 19,
    "start_time": "2023-05-29T21:29:59.127Z"
   },
   {
    "duration": 49,
    "start_time": "2023-05-29T21:29:59.147Z"
   },
   {
    "duration": 41,
    "start_time": "2023-05-29T21:29:59.198Z"
   },
   {
    "duration": 55,
    "start_time": "2023-05-29T21:29:59.240Z"
   },
   {
    "duration": 44,
    "start_time": "2023-05-29T21:29:59.300Z"
   },
   {
    "duration": 24,
    "start_time": "2023-05-29T21:29:59.346Z"
   },
   {
    "duration": 40,
    "start_time": "2023-05-29T21:29:59.377Z"
   },
   {
    "duration": 25,
    "start_time": "2023-05-29T21:29:59.419Z"
   },
   {
    "duration": 67,
    "start_time": "2023-05-29T21:29:59.446Z"
   },
   {
    "duration": 4,
    "start_time": "2023-05-29T21:29:59.514Z"
   },
   {
    "duration": 18,
    "start_time": "2023-05-29T21:29:59.520Z"
   },
   {
    "duration": 18,
    "start_time": "2023-05-29T21:29:59.539Z"
   },
   {
    "duration": 6,
    "start_time": "2023-05-29T21:29:59.559Z"
   },
   {
    "duration": 39,
    "start_time": "2023-05-29T21:29:59.567Z"
   },
   {
    "duration": 17,
    "start_time": "2023-05-29T21:29:59.608Z"
   },
   {
    "duration": 17,
    "start_time": "2023-05-29T21:29:59.627Z"
   },
   {
    "duration": 19,
    "start_time": "2023-05-29T21:29:59.646Z"
   },
   {
    "duration": 30,
    "start_time": "2023-05-29T21:29:59.667Z"
   },
   {
    "duration": 377,
    "start_time": "2023-05-29T21:29:59.699Z"
   },
   {
    "duration": 347,
    "start_time": "2023-05-29T21:30:00.078Z"
   },
   {
    "duration": 404,
    "start_time": "2023-05-29T21:30:00.426Z"
   },
   {
    "duration": 5,
    "start_time": "2023-05-29T21:30:00.833Z"
   },
   {
    "duration": 69,
    "start_time": "2023-05-29T21:30:00.840Z"
   },
   {
    "duration": 390,
    "start_time": "2023-05-29T21:30:00.911Z"
   },
   {
    "duration": 5,
    "start_time": "2023-05-29T21:30:01.303Z"
   },
   {
    "duration": 2009,
    "start_time": "2023-05-29T21:30:01.310Z"
   },
   {
    "duration": 376,
    "start_time": "2023-05-29T21:30:03.321Z"
   },
   {
    "duration": 6,
    "start_time": "2023-05-29T21:30:03.701Z"
   },
   {
    "duration": 1906,
    "start_time": "2023-05-29T21:30:03.709Z"
   },
   {
    "duration": 393,
    "start_time": "2023-05-29T21:30:05.617Z"
   },
   {
    "duration": 6,
    "start_time": "2023-05-29T21:30:06.012Z"
   },
   {
    "duration": 2211,
    "start_time": "2023-05-29T21:30:06.020Z"
   },
   {
    "duration": 5,
    "start_time": "2023-05-29T21:30:08.233Z"
   },
   {
    "duration": 1960,
    "start_time": "2023-05-29T21:30:08.240Z"
   },
   {
    "duration": 6,
    "start_time": "2023-05-29T21:30:10.202Z"
   },
   {
    "duration": 1918,
    "start_time": "2023-05-29T21:30:10.210Z"
   },
   {
    "duration": 5,
    "start_time": "2023-05-29T21:30:12.130Z"
   },
   {
    "duration": 10,
    "start_time": "2023-05-29T21:30:12.136Z"
   },
   {
    "duration": 8,
    "start_time": "2023-05-29T21:30:12.148Z"
   },
   {
    "duration": 6,
    "start_time": "2023-05-29T21:30:12.157Z"
   },
   {
    "duration": 18,
    "start_time": "2023-05-29T21:30:12.164Z"
   },
   {
    "duration": 27,
    "start_time": "2023-05-29T21:30:12.185Z"
   },
   {
    "duration": 9,
    "start_time": "2023-05-29T21:30:12.214Z"
   },
   {
    "duration": 6,
    "start_time": "2023-05-29T21:30:12.225Z"
   },
   {
    "duration": 6,
    "start_time": "2023-05-29T21:30:12.233Z"
   },
   {
    "duration": 15,
    "start_time": "2023-05-29T21:30:12.241Z"
   },
   {
    "duration": 14,
    "start_time": "2023-05-29T21:30:12.258Z"
   },
   {
    "duration": 16,
    "start_time": "2023-05-29T21:30:12.274Z"
   },
   {
    "duration": 21,
    "start_time": "2023-05-29T21:30:12.294Z"
   },
   {
    "duration": 5,
    "start_time": "2023-05-29T21:30:12.317Z"
   },
   {
    "duration": 15,
    "start_time": "2023-05-29T21:30:12.323Z"
   },
   {
    "duration": 10,
    "start_time": "2023-05-29T21:30:12.340Z"
   },
   {
    "duration": 6,
    "start_time": "2023-05-29T21:30:12.352Z"
   },
   {
    "duration": 6,
    "start_time": "2023-05-29T21:30:12.359Z"
   },
   {
    "duration": 5,
    "start_time": "2023-05-29T21:30:12.366Z"
   },
   {
    "duration": 18,
    "start_time": "2023-05-29T21:30:12.378Z"
   },
   {
    "duration": 7,
    "start_time": "2023-05-29T21:30:12.397Z"
   },
   {
    "duration": 6,
    "start_time": "2023-05-29T21:30:12.405Z"
   },
   {
    "duration": 5,
    "start_time": "2023-05-29T21:30:12.417Z"
   },
   {
    "duration": 7,
    "start_time": "2023-05-29T21:30:12.423Z"
   },
   {
    "duration": 9,
    "start_time": "2023-05-29T21:30:12.432Z"
   },
   {
    "duration": 7,
    "start_time": "2023-05-29T21:30:12.442Z"
   },
   {
    "duration": 2166,
    "start_time": "2023-05-29T21:30:12.452Z"
   },
   {
    "duration": 2216,
    "start_time": "2023-05-29T21:30:14.621Z"
   },
   {
    "duration": 2112,
    "start_time": "2023-05-29T21:30:16.840Z"
   },
   {
    "duration": 2204,
    "start_time": "2023-05-29T21:30:18.954Z"
   },
   {
    "duration": 1987,
    "start_time": "2023-05-29T21:30:21.159Z"
   },
   {
    "duration": 1991,
    "start_time": "2023-05-29T21:30:23.147Z"
   },
   {
    "duration": 14,
    "start_time": "2023-05-29T21:30:25.140Z"
   },
   {
    "duration": 23,
    "start_time": "2023-05-29T21:30:25.155Z"
   },
   {
    "duration": 13,
    "start_time": "2023-05-29T21:30:25.181Z"
   },
   {
    "duration": 2089,
    "start_time": "2023-05-29T21:30:25.195Z"
   },
   {
    "duration": 2111,
    "start_time": "2023-05-29T21:30:27.290Z"
   },
   {
    "duration": 2206,
    "start_time": "2023-05-29T21:30:29.403Z"
   },
   {
    "duration": 2171,
    "start_time": "2023-05-29T21:30:31.611Z"
   },
   {
    "duration": 2059,
    "start_time": "2023-05-29T21:30:33.788Z"
   },
   {
    "duration": 2125,
    "start_time": "2023-05-29T21:30:35.849Z"
   },
   {
    "duration": 7,
    "start_time": "2023-05-29T21:30:37.976Z"
   },
   {
    "duration": 36,
    "start_time": "2023-05-29T21:30:37.985Z"
   },
   {
    "duration": 34,
    "start_time": "2023-05-29T21:30:38.023Z"
   },
   {
    "duration": 48,
    "start_time": "2023-05-29T21:30:38.059Z"
   },
   {
    "duration": 176,
    "start_time": "2023-05-29T21:30:38.109Z"
   },
   {
    "duration": 195,
    "start_time": "2023-05-29T21:30:38.290Z"
   },
   {
    "duration": 197,
    "start_time": "2023-05-29T21:30:38.486Z"
   },
   {
    "duration": 24,
    "start_time": "2023-05-29T21:30:38.685Z"
   },
   {
    "duration": 45,
    "start_time": "2023-05-29T21:30:38.711Z"
   },
   {
    "duration": 24,
    "start_time": "2023-05-29T21:30:38.758Z"
   },
   {
    "duration": 36,
    "start_time": "2023-05-29T21:30:38.784Z"
   },
   {
    "duration": 40,
    "start_time": "2023-05-29T21:30:38.822Z"
   },
   {
    "duration": 35,
    "start_time": "2023-05-29T21:30:38.864Z"
   },
   {
    "duration": 21,
    "start_time": "2023-05-29T21:30:38.901Z"
   },
   {
    "duration": 31,
    "start_time": "2023-05-29T21:30:38.924Z"
   },
   {
    "duration": 12,
    "start_time": "2023-05-29T21:30:38.956Z"
   },
   {
    "duration": 44,
    "start_time": "2023-05-29T21:30:38.970Z"
   },
   {
    "duration": 23,
    "start_time": "2023-05-29T21:30:39.016Z"
   },
   {
    "duration": 1475,
    "start_time": "2023-05-29T21:30:39.040Z"
   },
   {
    "duration": 1445,
    "start_time": "2023-05-29T21:30:40.517Z"
   },
   {
    "duration": 1396,
    "start_time": "2023-05-29T21:30:41.964Z"
   },
   {
    "duration": 428,
    "start_time": "2023-05-29T21:30:43.362Z"
   }
  ],
  "kernelspec": {
   "display_name": "Python 3 (ipykernel)",
   "language": "python",
   "name": "python3"
  },
  "language_info": {
   "codemirror_mode": {
    "name": "ipython",
    "version": 3
   },
   "file_extension": ".py",
   "mimetype": "text/x-python",
   "name": "python",
   "nbconvert_exporter": "python",
   "pygments_lexer": "ipython3",
   "version": "3.11.2"
  },
  "toc": {
   "base_numbering": 1,
   "nav_menu": {},
   "number_sections": true,
   "sideBar": true,
   "skip_h1_title": true,
   "title_cell": "Table of Contents",
   "title_sidebar": "Contents",
   "toc_cell": true,
   "toc_position": {},
   "toc_section_display": true,
   "toc_window_display": true
  }
 },
 "nbformat": 4,
 "nbformat_minor": 4
}
