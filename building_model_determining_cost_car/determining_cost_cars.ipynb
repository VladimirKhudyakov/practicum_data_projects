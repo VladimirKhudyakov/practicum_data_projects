{
 "cells": [
  {
   "cell_type": "markdown",
   "metadata": {
    "toc": true
   },
   "source": [
    "<h1>Table of Contents<span class=\"tocSkip\"></span></h1>\n",
    "<div class=\"toc\"><ul class=\"toc-item\"><li><span><a href=\"#Обзор-данных\" data-toc-modified-id=\"Обзор-данных-1\"><span class=\"toc-item-num\">1&nbsp;&nbsp;</span>Обзор данных</a></span></li><li><span><a href=\"#Предобработка-данных\" data-toc-modified-id=\"Предобработка-данных-2\"><span class=\"toc-item-num\">2&nbsp;&nbsp;</span>Предобработка данных</a></span><ul class=\"toc-item\"><li><span><a href=\"#Стиль-заголовков\" data-toc-modified-id=\"Стиль-заголовков-2.1\"><span class=\"toc-item-num\">2.1&nbsp;&nbsp;</span>Стиль заголовков</a></span></li><li><span><a href=\"#Изменение-типов-данных\" data-toc-modified-id=\"Изменение-типов-данных-2.2\"><span class=\"toc-item-num\">2.2&nbsp;&nbsp;</span>Изменение типов данных</a></span></li><li><span><a href=\"#Обработка-выбросов\" data-toc-modified-id=\"Обработка-выбросов-2.3\"><span class=\"toc-item-num\">2.3&nbsp;&nbsp;</span>Обработка выбросов</a></span></li><li><span><a href=\"#Устранение-пропусков\" data-toc-modified-id=\"Устранение-пропусков-2.4\"><span class=\"toc-item-num\">2.4&nbsp;&nbsp;</span>Устранение пропусков</a></span></li><li><span><a href=\"#Изменение-типов-данных-(продолжение)\" data-toc-modified-id=\"Изменение-типов-данных-(продолжение)-2.5\"><span class=\"toc-item-num\">2.5&nbsp;&nbsp;</span>Изменение типов данных (продолжение)</a></span></li><li><span><a href=\"#Обработка-дубликатов\" data-toc-modified-id=\"Обработка-дубликатов-2.6\"><span class=\"toc-item-num\">2.6&nbsp;&nbsp;</span>Обработка дубликатов</a></span></li><li><span><a href=\"#Обработка-аномальных-значений\" data-toc-modified-id=\"Обработка-аномальных-значений-2.7\"><span class=\"toc-item-num\">2.7&nbsp;&nbsp;</span>Обработка аномальных значений</a></span></li></ul></li><li><span><a href=\"#Подготовка-данных-для-исследования\" data-toc-modified-id=\"Подготовка-данных-для-исследования-3\"><span class=\"toc-item-num\">3&nbsp;&nbsp;</span>Подготовка данных для исследования</a></span></li><li><span><a href=\"#Исследование-моделей-\" data-toc-modified-id=\"Исследование-моделей--4\"><span class=\"toc-item-num\">4&nbsp;&nbsp;</span>Исследование моделей <a id=\"models_research\"></a></a></span></li><li><span><a href=\"#Тестирование-модели\" data-toc-modified-id=\"Тестирование-модели-5\"><span class=\"toc-item-num\">5&nbsp;&nbsp;</span>Тестирование модели</a></span></li><li><span><a href=\"#Итоги-проекта\" data-toc-modified-id=\"Итоги-проекта-6\"><span class=\"toc-item-num\">6&nbsp;&nbsp;</span>Итоги проекта</a></span></li></ul></div>"
   ]
  },
  {
   "cell_type": "markdown",
   "metadata": {},
   "source": [
    "# Определение стоимости автомобилей"
   ]
  },
  {
   "cell_type": "markdown",
   "metadata": {},
   "source": [
    "Сервису по продаже автомобилей с пробегом необходимо построить модель машинного обучения (ML - machine learning) для определения рыночной стоимости автомобиля клиента.\n",
    "\n",
    "**Цель исследования**\n",
    "\n",
    "   1. Необходимо построить модель машинного обучения, с максимальными критериями качества предсказания, с минимальным временем обучения и предсказания, для задачи регрессии, которая предскажет (спрогнозирует) рыночную стоимость автомобиля.\n",
    "   2. Необходимо использовать метрику `RMSE`, для оценки качества моделей.\n",
    "   3. Значение метрики `RMSE`, для выбранной модели, должно быть меньше 2500.\n",
    "   4. При исследовании, необходимо использовать модель градиентного бустинга и более простые модели.\n",
    "\n",
    "\n",
    "**Исследование пройдёт в пять этапов:**\n",
    " 1. Обзор данных;\n",
    " 2. Предобработка данных;\n",
    " 3. Подготовка данных для исследования;\n",
    " 4. Исследование моделей;\n",
    " 5. Тестирование модели."
   ]
  },
  {
   "cell_type": "markdown",
   "metadata": {},
   "source": [
    "## Обзор данных\n",
    "\n",
    "Составим первое представление о данных."
   ]
  },
  {
   "cell_type": "markdown",
   "metadata": {},
   "source": [
    "**1. Импортируем библиотеку pandas и другие. Считаем данные из csv-файла в датафрейм и сохраним в переменную `df`.**"
   ]
  },
  {
   "cell_type": "code",
   "execution_count": 1,
   "metadata": {},
   "outputs": [],
   "source": [
    "# обновим библиотеку 'scikit-learn' до последней версии......\n",
    "!pip install --upgrade scikit-learn\n",
    "#\n",
    "## обновим библиотеку 'scipy' до последней версии\n",
    "!pip install --upgrade scipy\n",
    "#\n",
    "## обновим библиотеку 'pandas' до последней версии\n",
    "!pip install --upgrade pandas\n",
    "#\n",
    "## обновим библиотеку 'matplotlib' до последней версии\n",
    "!pip install --upgrade matplotlib\n",
    "#\n",
    "## обновим библиотеку 'matplotlib' до последней версии\n",
    "!pip install --upgrade seaborn\n",
    "#\n",
    "## обновим библиотеку 'lightgbm' до последней версии\n",
    "!pip install --upgrade lightgbm\n",
    "#\n",
    "## обновим библиотеку 'category_encoders' до последней версии\n",
    "!pip install --upgrade category_encoders\n",
    "#"
   ]
  },
  {
   "cell_type": "code",
   "execution_count": 2,
   "metadata": {},
   "outputs": [],
   "source": [
    "# импорт библиотеки 'pandas'\n",
    "import pandas as pd\n",
    "\n",
    "# импорт библиотеки 'numpy'\n",
    "import numpy as np\n",
    "\n",
    "# импортируем библиотеку 'matplotlib.pyplot' для построения графиков\n",
    "import matplotlib.pyplot as plt\n",
    "\n",
    "# импортируем библиотеку 'matplotlib.pyplot' для построения графиков\n",
    "import seaborn as sns\n",
    "\n",
    "# импорт библиотеки для модели \"DummyRegressor\"\n",
    "from sklearn.dummy import DummyRegressor\n",
    "\n",
    "# импорт библиотеки для модели \"линейной регрессии\"\n",
    "from sklearn.linear_model import LinearRegression\n",
    "\n",
    "# импорт библиотеки для модели \"дерево решений для регрессии\"\n",
    "from sklearn.tree import DecisionTreeRegressor\n",
    "\n",
    "# импорт библиотеки для модели \"случайный лес для регрессии\"\n",
    "from sklearn.ensemble import RandomForestRegressor\n",
    "\n",
    "# импорт библиотеки для оценки качества модели\n",
    "from sklearn.metrics import (mean_squared_error,\n",
    "                             mean_absolute_error,\n",
    "                             mean_squared_log_error,\n",
    "                             r2_score,\n",
    "                             mean_absolute_percentage_error,\n",
    "                             make_scorer)\n",
    "\n",
    "# импорт библиотеки для кросс-валидации\n",
    "from sklearn.model_selection import (train_test_split,\n",
    "                                     KFold,\n",
    "                                     GridSearchCV,\n",
    "                                     RandomizedSearchCV,\n",
    "                                     cross_val_score)\n",
    "\n",
    "# импорт библиотеки для масштабирования признаков\n",
    "from sklearn.preprocessing import (StandardScaler,\n",
    "                                   MinMaxScaler,\n",
    "                                   OneHotEncoder)\n",
    "\n",
    "\n",
    "# импорт библиотеки 'sklearn.impute'\n",
    "from sklearn.impute import KNNImputer\n",
    "\n",
    "# импорт библиотеки для 'pipeline'\n",
    "from sklearn.pipeline import Pipeline\n",
    "\n",
    "# импорт библиотеки 'lightGBM'\n",
    "import lightgbm as lgb\n",
    "\n",
    "# импорт библиотеки 'category_encoders'\n",
    "import category_encoders as ce"
   ]
  },
  {
   "cell_type": "code",
   "execution_count": 3,
   "metadata": {},
   "outputs": [],
   "source": [
    "try:\n",
    "    # читаем данные из csv-файла и сохраняем их в виде датафрейма в 'df',\n",
    "    df = pd.read_csv('***')\n",
    "except:\n",
    "    # в случае отсутствия csv-файла в локальном месторасположении, читаем его из облачного хранилища\n",
    "    # и сохраняем данные в виде датафрейма в 'df'\n",
    "    df = pd.read_csv('***')"
   ]
  },
  {
   "cell_type": "markdown",
   "metadata": {},
   "source": [
    "**2. Выведем первые пять строчек датафрейма `df` на экран.**"
   ]
  },
  {
   "cell_type": "code",
   "execution_count": 4,
   "metadata": {},
   "outputs": [
    {
     "data": {
      "text/html": [
       "<div>\n",
       "<style scoped>\n",
       "    .dataframe tbody tr th:only-of-type {\n",
       "        vertical-align: middle;\n",
       "    }\n",
       "\n",
       "    .dataframe tbody tr th {\n",
       "        vertical-align: top;\n",
       "    }\n",
       "\n",
       "    .dataframe thead th {\n",
       "        text-align: right;\n",
       "    }\n",
       "</style>\n",
       "<table border=\"1\" class=\"dataframe\">\n",
       "  <thead>\n",
       "    <tr style=\"text-align: right;\">\n",
       "      <th></th>\n",
       "      <th>DateCrawled</th>\n",
       "      <th>Price</th>\n",
       "      <th>VehicleType</th>\n",
       "      <th>RegistrationYear</th>\n",
       "      <th>Gearbox</th>\n",
       "      <th>Power</th>\n",
       "      <th>Model</th>\n",
       "      <th>Kilometer</th>\n",
       "      <th>RegistrationMonth</th>\n",
       "      <th>FuelType</th>\n",
       "      <th>Brand</th>\n",
       "      <th>Repaired</th>\n",
       "      <th>DateCreated</th>\n",
       "      <th>NumberOfPictures</th>\n",
       "      <th>PostalCode</th>\n",
       "      <th>LastSeen</th>\n",
       "    </tr>\n",
       "  </thead>\n",
       "  <tbody>\n",
       "    <tr>\n",
       "      <th>0</th>\n",
       "      <td>2016-03-24 11:52:17</td>\n",
       "      <td>480</td>\n",
       "      <td>NaN</td>\n",
       "      <td>1993</td>\n",
       "      <td>manual</td>\n",
       "      <td>0</td>\n",
       "      <td>golf</td>\n",
       "      <td>150000</td>\n",
       "      <td>0</td>\n",
       "      <td>petrol</td>\n",
       "      <td>volkswagen</td>\n",
       "      <td>NaN</td>\n",
       "      <td>2016-03-24 00:00:00</td>\n",
       "      <td>0</td>\n",
       "      <td>70435</td>\n",
       "      <td>2016-04-07 03:16:57</td>\n",
       "    </tr>\n",
       "    <tr>\n",
       "      <th>1</th>\n",
       "      <td>2016-03-24 10:58:45</td>\n",
       "      <td>18300</td>\n",
       "      <td>coupe</td>\n",
       "      <td>2011</td>\n",
       "      <td>manual</td>\n",
       "      <td>190</td>\n",
       "      <td>NaN</td>\n",
       "      <td>125000</td>\n",
       "      <td>5</td>\n",
       "      <td>gasoline</td>\n",
       "      <td>audi</td>\n",
       "      <td>yes</td>\n",
       "      <td>2016-03-24 00:00:00</td>\n",
       "      <td>0</td>\n",
       "      <td>66954</td>\n",
       "      <td>2016-04-07 01:46:50</td>\n",
       "    </tr>\n",
       "    <tr>\n",
       "      <th>2</th>\n",
       "      <td>2016-03-14 12:52:21</td>\n",
       "      <td>9800</td>\n",
       "      <td>suv</td>\n",
       "      <td>2004</td>\n",
       "      <td>auto</td>\n",
       "      <td>163</td>\n",
       "      <td>grand</td>\n",
       "      <td>125000</td>\n",
       "      <td>8</td>\n",
       "      <td>gasoline</td>\n",
       "      <td>jeep</td>\n",
       "      <td>NaN</td>\n",
       "      <td>2016-03-14 00:00:00</td>\n",
       "      <td>0</td>\n",
       "      <td>90480</td>\n",
       "      <td>2016-04-05 12:47:46</td>\n",
       "    </tr>\n",
       "    <tr>\n",
       "      <th>3</th>\n",
       "      <td>2016-03-17 16:54:04</td>\n",
       "      <td>1500</td>\n",
       "      <td>small</td>\n",
       "      <td>2001</td>\n",
       "      <td>manual</td>\n",
       "      <td>75</td>\n",
       "      <td>golf</td>\n",
       "      <td>150000</td>\n",
       "      <td>6</td>\n",
       "      <td>petrol</td>\n",
       "      <td>volkswagen</td>\n",
       "      <td>no</td>\n",
       "      <td>2016-03-17 00:00:00</td>\n",
       "      <td>0</td>\n",
       "      <td>91074</td>\n",
       "      <td>2016-03-17 17:40:17</td>\n",
       "    </tr>\n",
       "    <tr>\n",
       "      <th>4</th>\n",
       "      <td>2016-03-31 17:25:20</td>\n",
       "      <td>3600</td>\n",
       "      <td>small</td>\n",
       "      <td>2008</td>\n",
       "      <td>manual</td>\n",
       "      <td>69</td>\n",
       "      <td>fabia</td>\n",
       "      <td>90000</td>\n",
       "      <td>7</td>\n",
       "      <td>gasoline</td>\n",
       "      <td>skoda</td>\n",
       "      <td>no</td>\n",
       "      <td>2016-03-31 00:00:00</td>\n",
       "      <td>0</td>\n",
       "      <td>60437</td>\n",
       "      <td>2016-04-06 10:17:21</td>\n",
       "    </tr>\n",
       "  </tbody>\n",
       "</table>\n",
       "</div>"
      ],
      "text/plain": [
       "           DateCrawled  Price VehicleType  RegistrationYear Gearbox  Power  \\\n",
       "0  2016-03-24 11:52:17    480         NaN              1993  manual      0   \n",
       "1  2016-03-24 10:58:45  18300       coupe              2011  manual    190   \n",
       "2  2016-03-14 12:52:21   9800         suv              2004    auto    163   \n",
       "3  2016-03-17 16:54:04   1500       small              2001  manual     75   \n",
       "4  2016-03-31 17:25:20   3600       small              2008  manual     69   \n",
       "\n",
       "   Model  Kilometer  RegistrationMonth  FuelType       Brand Repaired  \\\n",
       "0   golf     150000                  0    petrol  volkswagen      NaN   \n",
       "1    NaN     125000                  5  gasoline        audi      yes   \n",
       "2  grand     125000                  8  gasoline        jeep      NaN   \n",
       "3   golf     150000                  6    petrol  volkswagen       no   \n",
       "4  fabia      90000                  7  gasoline       skoda       no   \n",
       "\n",
       "           DateCreated  NumberOfPictures  PostalCode             LastSeen  \n",
       "0  2016-03-24 00:00:00                 0       70435  2016-04-07 03:16:57  \n",
       "1  2016-03-24 00:00:00                 0       66954  2016-04-07 01:46:50  \n",
       "2  2016-03-14 00:00:00                 0       90480  2016-04-05 12:47:46  \n",
       "3  2016-03-17 00:00:00                 0       91074  2016-03-17 17:40:17  \n",
       "4  2016-03-31 00:00:00                 0       60437  2016-04-06 10:17:21  "
      ]
     },
     "execution_count": 4,
     "metadata": {},
     "output_type": "execute_result"
    }
   ],
   "source": [
    "# посмотрим первых пять строк датафрейма 'df\n",
    "df.head()"
   ]
  },
  {
   "cell_type": "markdown",
   "metadata": {},
   "source": [
    "**3. Выведем основную информацию о датафрейме с помощью метода `info()`.**"
   ]
  },
  {
   "cell_type": "code",
   "execution_count": 5,
   "metadata": {},
   "outputs": [
    {
     "name": "stdout",
     "output_type": "stream",
     "text": [
      "<class 'pandas.core.frame.DataFrame'>\n",
      "RangeIndex: 354369 entries, 0 to 354368\n",
      "Data columns (total 16 columns):\n",
      " #   Column             Non-Null Count   Dtype \n",
      "---  ------             --------------   ----- \n",
      " 0   DateCrawled        354369 non-null  object\n",
      " 1   Price              354369 non-null  int64 \n",
      " 2   VehicleType        316879 non-null  object\n",
      " 3   RegistrationYear   354369 non-null  int64 \n",
      " 4   Gearbox            334536 non-null  object\n",
      " 5   Power              354369 non-null  int64 \n",
      " 6   Model              334664 non-null  object\n",
      " 7   Kilometer          354369 non-null  int64 \n",
      " 8   RegistrationMonth  354369 non-null  int64 \n",
      " 9   FuelType           321474 non-null  object\n",
      " 10  Brand              354369 non-null  object\n",
      " 11  Repaired           283215 non-null  object\n",
      " 12  DateCreated        354369 non-null  object\n",
      " 13  NumberOfPictures   354369 non-null  int64 \n",
      " 14  PostalCode         354369 non-null  int64 \n",
      " 15  LastSeen           354369 non-null  object\n",
      "dtypes: int64(7), object(9)\n",
      "memory usage: 43.3+ MB\n"
     ]
    }
   ],
   "source": [
    "# получение общей информации о данных в датафрейме 'df'\n",
    "df.info()"
   ]
  },
  {
   "cell_type": "markdown",
   "metadata": {},
   "source": [
    "Итак, в таблице 16 столбцов. Типы данных в столбцах: `int64` и `object`.\n",
    "\n",
    "* `DateCrawled` — дата скачивания анкеты из базы;\n",
    "* `Price` — цена (евро);\n",
    "* `VehicleType` — тип автомобильного кузова;\n",
    "* `RegistrationYear` — год регистрации автомобиля;\n",
    "* `Gearbox` — тип коробки передач;\n",
    "* `Power` — мощность (л. с.);\n",
    "* `Model` — модель автомобиля;\n",
    "* `Kilometer` — пробег (км);\n",
    "* `RegistrationMonth` — месяц регистрации автомобиля;\n",
    "* `FuelType` — тип топлива;\n",
    "* `Brand` — марка автомобиля;\n",
    "* `Repaired` — была машина в ремонте или нет;\n",
    "* `DateCreated` — дата создания анкеты;\n",
    "* `NumberOfPictures` — количество фотографий автомобиля;\n",
    "* `PostalCode` — почтовый индекс владельца анкеты (пользователя);\n",
    "* `LastSeen` — дата последней активности пользователя.\n",
    "\n",
    "Количество значений в определенных столбцах различается. Значит, в данных есть пропущенные значения. Столбцы: `DateCrawled`, `Repaired`, `DateCreated` и `LastSeen`, содержат неподходящие типы данных. В названиях всех колонок (столбцов) таблицы, есть нарушение стиля."
   ]
  },
  {
   "cell_type": "markdown",
   "metadata": {},
   "source": [
    "**4. Построим общую гистограмму для всех числовых столбцов таблицы в датафрейме `df`.**"
   ]
  },
  {
   "cell_type": "code",
   "execution_count": 6,
   "metadata": {},
   "outputs": [
    {
     "data": {
      "image/png": "[encoded data removed]",
      "text/plain": [
       "<Figure size 1500x2000 with 9 Axes>"
      ]
     },
     "metadata": {},
     "output_type": "display_data"
    }
   ],
   "source": [
    "# с помощью функции 'hist' построим общую гистограмму\n",
    "df.hist(figsize=(15, 20), bins= 50);"
   ]
  },
  {
   "cell_type": "markdown",
   "metadata": {},
   "source": [
    "**5. Посмотрим статистическую информацию по каждому числовому столбцу таблицы, в датафрейме `df`.**"
   ]
  },
  {
   "cell_type": "code",
   "execution_count": 7,
   "metadata": {},
   "outputs": [
    {
     "data": {
      "text/html": [
       "<div>\n",
       "<style scoped>\n",
       "    .dataframe tbody tr th:only-of-type {\n",
       "        vertical-align: middle;\n",
       "    }\n",
       "\n",
       "    .dataframe tbody tr th {\n",
       "        vertical-align: top;\n",
       "    }\n",
       "\n",
       "    .dataframe thead th {\n",
       "        text-align: right;\n",
       "    }\n",
       "</style>\n",
       "<table border=\"1\" class=\"dataframe\">\n",
       "  <thead>\n",
       "    <tr style=\"text-align: right;\">\n",
       "      <th></th>\n",
       "      <th>Price</th>\n",
       "      <th>RegistrationYear</th>\n",
       "      <th>Power</th>\n",
       "      <th>Kilometer</th>\n",
       "      <th>RegistrationMonth</th>\n",
       "      <th>NumberOfPictures</th>\n",
       "      <th>PostalCode</th>\n",
       "    </tr>\n",
       "  </thead>\n",
       "  <tbody>\n",
       "    <tr>\n",
       "      <th>count</th>\n",
       "      <td>354369.000000</td>\n",
       "      <td>354369.000000</td>\n",
       "      <td>354369.000000</td>\n",
       "      <td>354369.000000</td>\n",
       "      <td>354369.000000</td>\n",
       "      <td>354369.0</td>\n",
       "      <td>354369.000000</td>\n",
       "    </tr>\n",
       "    <tr>\n",
       "      <th>mean</th>\n",
       "      <td>4416.656776</td>\n",
       "      <td>2004.234448</td>\n",
       "      <td>110.094337</td>\n",
       "      <td>128211.172535</td>\n",
       "      <td>5.714645</td>\n",
       "      <td>0.0</td>\n",
       "      <td>50508.689087</td>\n",
       "    </tr>\n",
       "    <tr>\n",
       "      <th>std</th>\n",
       "      <td>4514.158514</td>\n",
       "      <td>90.227958</td>\n",
       "      <td>189.850405</td>\n",
       "      <td>37905.341530</td>\n",
       "      <td>3.726421</td>\n",
       "      <td>0.0</td>\n",
       "      <td>25783.096248</td>\n",
       "    </tr>\n",
       "    <tr>\n",
       "      <th>min</th>\n",
       "      <td>0.000000</td>\n",
       "      <td>1000.000000</td>\n",
       "      <td>0.000000</td>\n",
       "      <td>5000.000000</td>\n",
       "      <td>0.000000</td>\n",
       "      <td>0.0</td>\n",
       "      <td>1067.000000</td>\n",
       "    </tr>\n",
       "    <tr>\n",
       "      <th>25%</th>\n",
       "      <td>1050.000000</td>\n",
       "      <td>1999.000000</td>\n",
       "      <td>69.000000</td>\n",
       "      <td>125000.000000</td>\n",
       "      <td>3.000000</td>\n",
       "      <td>0.0</td>\n",
       "      <td>30165.000000</td>\n",
       "    </tr>\n",
       "    <tr>\n",
       "      <th>50%</th>\n",
       "      <td>2700.000000</td>\n",
       "      <td>2003.000000</td>\n",
       "      <td>105.000000</td>\n",
       "      <td>150000.000000</td>\n",
       "      <td>6.000000</td>\n",
       "      <td>0.0</td>\n",
       "      <td>49413.000000</td>\n",
       "    </tr>\n",
       "    <tr>\n",
       "      <th>75%</th>\n",
       "      <td>6400.000000</td>\n",
       "      <td>2008.000000</td>\n",
       "      <td>143.000000</td>\n",
       "      <td>150000.000000</td>\n",
       "      <td>9.000000</td>\n",
       "      <td>0.0</td>\n",
       "      <td>71083.000000</td>\n",
       "    </tr>\n",
       "    <tr>\n",
       "      <th>max</th>\n",
       "      <td>20000.000000</td>\n",
       "      <td>9999.000000</td>\n",
       "      <td>20000.000000</td>\n",
       "      <td>150000.000000</td>\n",
       "      <td>12.000000</td>\n",
       "      <td>0.0</td>\n",
       "      <td>99998.000000</td>\n",
       "    </tr>\n",
       "  </tbody>\n",
       "</table>\n",
       "</div>"
      ],
      "text/plain": [
       "               Price  RegistrationYear          Power      Kilometer  \\\n",
       "count  354369.000000     354369.000000  354369.000000  354369.000000   \n",
       "mean     4416.656776       2004.234448     110.094337  128211.172535   \n",
       "std      4514.158514         90.227958     189.850405   37905.341530   \n",
       "min         0.000000       1000.000000       0.000000    5000.000000   \n",
       "25%      1050.000000       1999.000000      69.000000  125000.000000   \n",
       "50%      2700.000000       2003.000000     105.000000  150000.000000   \n",
       "75%      6400.000000       2008.000000     143.000000  150000.000000   \n",
       "max     20000.000000       9999.000000   20000.000000  150000.000000   \n",
       "\n",
       "       RegistrationMonth  NumberOfPictures     PostalCode  \n",
       "count      354369.000000          354369.0  354369.000000  \n",
       "mean            5.714645               0.0   50508.689087  \n",
       "std             3.726421               0.0   25783.096248  \n",
       "min             0.000000               0.0    1067.000000  \n",
       "25%             3.000000               0.0   30165.000000  \n",
       "50%             6.000000               0.0   49413.000000  \n",
       "75%             9.000000               0.0   71083.000000  \n",
       "max            12.000000               0.0   99998.000000  "
      ]
     },
     "execution_count": 7,
     "metadata": {},
     "output_type": "execute_result"
    }
   ],
   "source": [
    "# выведем статистическую информацию\n",
    "df.describe()"
   ]
  },
  {
   "cell_type": "markdown",
   "metadata": {},
   "source": [
    "**6. Создадим глобальную переменную для хранения размера исходного датасета.**"
   ]
  },
  {
   "cell_type": "code",
   "execution_count": 8,
   "metadata": {},
   "outputs": [],
   "source": [
    "DF_SOURCE_SIZE = df.shape[0]"
   ]
  },
  {
   "cell_type": "markdown",
   "metadata": {},
   "source": [
    "**Выводы**\n",
    "\n",
    "Предварительно можно утверждать, что данных достаточно для исследования. Но встречаются пропуски. Возможно, есть аномальные значения (артефакты), дубликаты (явные/неявные) и выбросы в данных. Столбцы: `DateCrawled`, `Repaired`, `DateCreated` и `LastSeen`, содержат неподходящий тип данных. В названиях всех колонок (столбцов) таблицы, есть нарушение стиля.\n",
    "\n",
    "Чтобы двигаться дальше, нужно устранить проблемы в данных."
   ]
  },
  {
   "cell_type": "markdown",
   "metadata": {},
   "source": [
    "## Предобработка данных\n",
    "\n",
    "Исправим стиль в заголовках столбцов, устраним пропуски в данных. Проверим данные на артефакты (аномалии), дубликаты (явные/неявные), пропуски, выбросы и, при нахождении, исправим. Проверим данные на несоответствие типу и, при нахождении, изменим тип."
   ]
  },
  {
   "cell_type": "markdown",
   "metadata": {},
   "source": [
    "### Стиль заголовков"
   ]
  },
  {
   "cell_type": "markdown",
   "metadata": {},
   "source": [
    "**7. Выведем на экран названия столбцов:**"
   ]
  },
  {
   "cell_type": "code",
   "execution_count": 9,
   "metadata": {},
   "outputs": [
    {
     "data": {
      "text/plain": [
       "['DateCrawled',\n",
       " 'Price',\n",
       " 'VehicleType',\n",
       " 'RegistrationYear',\n",
       " 'Gearbox',\n",
       " 'Power',\n",
       " 'Model',\n",
       " 'Kilometer',\n",
       " 'RegistrationMonth',\n",
       " 'FuelType',\n",
       " 'Brand',\n",
       " 'Repaired',\n",
       " 'DateCreated',\n",
       " 'NumberOfPictures',\n",
       " 'PostalCode',\n",
       " 'LastSeen']"
      ]
     },
     "execution_count": 9,
     "metadata": {},
     "output_type": "execute_result"
    }
   ],
   "source": [
    "# выводим перечень названий столбцов таблицы в датафрейме 'df'\n",
    "df.columns.tolist()"
   ]
  },
  {
   "cell_type": "markdown",
   "metadata": {},
   "source": [
    "**8. Приведём названия столбцов таблицы в соответствии с хорошим стилем:**\n",
    " - несколько слов в названии записываются в «змеином_регистре»,\n",
    " - все символы строчные,\n",
    " - без пробелов,\n",
    " - название на латинице."
   ]
  },
  {
   "cell_type": "code",
   "execution_count": 10,
   "metadata": {},
   "outputs": [],
   "source": [
    "# переименуем название столбцов с некорректным стилем\n",
    "df = df.rename(columns={'DateCrawled' : 'date_crawled',\n",
    "                        'Price' : 'price',\n",
    "                        'VehicleType' : 'vehicle_type',\n",
    "                        'RegistrationYear' : 'registration_year',\n",
    "                        'Gearbox' : 'gearbox',\n",
    "                        'Power' : 'power',\n",
    "                        'Model' : 'model',\n",
    "                        'Kilometer' : 'kilometer',\n",
    "                        'RegistrationMonth' : 'registration_month',\n",
    "                        'FuelType' : 'fuel_type',\n",
    "                        'Brand' : 'brand',\n",
    "                        'Repaired' : 'repaired',\n",
    "                        'DateCreated' : 'date_created',\n",
    "                        'NumberOfPictures' : 'number_of_pictures',\n",
    "                        'PostalCode' : 'postal_code',\n",
    "                        'LastSeen' : 'last_seen'})"
   ]
  },
  {
   "cell_type": "code",
   "execution_count": 11,
   "metadata": {},
   "outputs": [
    {
     "data": {
      "text/plain": [
       "['date_crawled',\n",
       " 'price',\n",
       " 'vehicle_type',\n",
       " 'registration_year',\n",
       " 'gearbox',\n",
       " 'power',\n",
       " 'model',\n",
       " 'kilometer',\n",
       " 'registration_month',\n",
       " 'fuel_type',\n",
       " 'brand',\n",
       " 'repaired',\n",
       " 'date_created',\n",
       " 'number_of_pictures',\n",
       " 'postal_code',\n",
       " 'last_seen']"
      ]
     },
     "execution_count": 11,
     "metadata": {},
     "output_type": "execute_result"
    }
   ],
   "source": [
    "# проверим результат переименования некорректных столбцов\n",
    "df.columns.tolist()"
   ]
  },
  {
   "cell_type": "markdown",
   "metadata": {},
   "source": [
    "### Изменение типов данных"
   ]
  },
  {
   "cell_type": "markdown",
   "metadata": {},
   "source": [
    "**9. Посмотрим существующие типы данных для всех столбцов.**"
   ]
  },
  {
   "cell_type": "code",
   "execution_count": 12,
   "metadata": {},
   "outputs": [
    {
     "data": {
      "text/plain": [
       "date_crawled          object\n",
       "price                  int64\n",
       "vehicle_type          object\n",
       "registration_year      int64\n",
       "gearbox               object\n",
       "power                  int64\n",
       "model                 object\n",
       "kilometer              int64\n",
       "registration_month     int64\n",
       "fuel_type             object\n",
       "brand                 object\n",
       "repaired              object\n",
       "date_created          object\n",
       "number_of_pictures     int64\n",
       "postal_code            int64\n",
       "last_seen             object\n",
       "dtype: object"
      ]
     },
     "execution_count": 12,
     "metadata": {},
     "output_type": "execute_result"
    }
   ],
   "source": [
    "# выводим список всех столбцов таблицы и их типы\n",
    "df.dtypes"
   ]
  },
  {
   "cell_type": "markdown",
   "metadata": {},
   "source": [
    "Изменение типов данных, требуется для:\n",
    "\n",
    "* `date_crawled` с типа `object` на тип `datetime64`;\n",
    "* `price` с типа `int64` на тип `int32`;\n",
    "* `registration_year` с типа `int64` на тип `int32`;\n",
    "* `power` с типа `int64` на тип `int32`;\n",
    "* `kilometer` с типа `int64` на тип `int32`;\n",
    "* `registration_month` с типа `int64` на тип `int32`;\n",
    "* `repaired` с типа `object` на тип `int32`;\n",
    "* `date_created` с типа `object` на тип `datetime64`;\n",
    "* `number_of_pictures` с типа `int64` на тип `int32`;\n",
    "* `postal_code` с типа `int64` на тип `int32`;\n",
    "* `last_seen` с типа `object` на тип `datetime64`."
   ]
  },
  {
   "cell_type": "markdown",
   "metadata": {},
   "source": [
    "**10. Заменим строковый тип данных `object`,  в столбце `date_crawled`,  на тип данных `datetime64`.**"
   ]
  },
  {
   "cell_type": "code",
   "execution_count": 13,
   "metadata": {},
   "outputs": [],
   "source": [
    "df['date_crawled'] = pd.to_datetime(df['date_crawled'], format='%Y-%m-%d %H:%M:%S')"
   ]
  },
  {
   "cell_type": "markdown",
   "metadata": {},
   "source": [
    "**11. Заменим целочисленный тип данных `int64`,  в столбце `price`,  на целочисленный тип данных `int32`.**"
   ]
  },
  {
   "cell_type": "code",
   "execution_count": 14,
   "metadata": {},
   "outputs": [],
   "source": [
    "df['price'] = df['price'].astype('int32')"
   ]
  },
  {
   "cell_type": "markdown",
   "metadata": {},
   "source": [
    "**12. Заменим целочисленный тип данных `int64`,  в столбце `registration_year`,  на целочисленный тип данных `int32`.**"
   ]
  },
  {
   "cell_type": "code",
   "execution_count": 15,
   "metadata": {},
   "outputs": [],
   "source": [
    "df['registration_year'] = df['registration_year'].astype('int32')"
   ]
  },
  {
   "cell_type": "markdown",
   "metadata": {},
   "source": [
    "**13. Заменим целочисленный тип данных `int64`,  в столбце `power`,  на целочисленный тип данных `int32`.**"
   ]
  },
  {
   "cell_type": "code",
   "execution_count": 16,
   "metadata": {},
   "outputs": [],
   "source": [
    "df['power'] = df['power'].astype('int32')"
   ]
  },
  {
   "cell_type": "markdown",
   "metadata": {},
   "source": [
    "**14. Заменим целочисленный тип данных `int64`,  в столбце `kilometer`,  на целочисленный тип данных `int32`.**"
   ]
  },
  {
   "cell_type": "code",
   "execution_count": 17,
   "metadata": {},
   "outputs": [],
   "source": [
    "df['kilometer'] = df['kilometer'].astype('int32')"
   ]
  },
  {
   "cell_type": "markdown",
   "metadata": {},
   "source": [
    "**15. Заменим целочисленный тип данных `int64`,  в столбце `registration_month`,  на целочисленный тип данных `int32`.**"
   ]
  },
  {
   "cell_type": "code",
   "execution_count": 18,
   "metadata": {},
   "outputs": [],
   "source": [
    "df['registration_month'] = df['registration_month'].astype('int32')"
   ]
  },
  {
   "cell_type": "markdown",
   "metadata": {},
   "source": [
    "**16. Заменим строковый тип данных `object`,  в столбце `date_created`,  на тип данных `datetime64`.**"
   ]
  },
  {
   "cell_type": "code",
   "execution_count": 19,
   "metadata": {},
   "outputs": [],
   "source": [
    "df['date_created'] = pd.to_datetime(df['date_created'], format='%Y-%m-%d %H:%M:%S')"
   ]
  },
  {
   "cell_type": "markdown",
   "metadata": {},
   "source": [
    "**17. Заменим целочисленный тип данных `int64`,  в столбце `number_of_pictures`,  на целочисленный тип данных `int32`.**"
   ]
  },
  {
   "cell_type": "code",
   "execution_count": 20,
   "metadata": {},
   "outputs": [],
   "source": [
    "df['number_of_pictures'] = df['number_of_pictures'].astype('int32')"
   ]
  },
  {
   "cell_type": "markdown",
   "metadata": {},
   "source": [
    "**18. Заменим целочисленный тип данных `int64`,  в столбце `postal_code`,  на целочисленный тип данных `int32`.**"
   ]
  },
  {
   "cell_type": "code",
   "execution_count": 21,
   "metadata": {},
   "outputs": [],
   "source": [
    "df['postal_code'] = df['postal_code'].astype('int32')"
   ]
  },
  {
   "cell_type": "markdown",
   "metadata": {},
   "source": [
    "**19. Заменим строковый тип данных `object`,  в столбце `last_seen`,  на тип данных `datetime64`.**"
   ]
  },
  {
   "cell_type": "code",
   "execution_count": 22,
   "metadata": {},
   "outputs": [],
   "source": [
    "df['last_seen'] = pd.to_datetime(df['last_seen'], format='%Y-%m-%d %H:%M:%S')"
   ]
  },
  {
   "cell_type": "markdown",
   "metadata": {},
   "source": [
    "**20. Проверим результат преобразования типов.**"
   ]
  },
  {
   "cell_type": "code",
   "execution_count": 23,
   "metadata": {},
   "outputs": [
    {
     "data": {
      "text/plain": [
       "date_crawled          datetime64[ns]\n",
       "price                          int32\n",
       "vehicle_type                  object\n",
       "registration_year              int32\n",
       "gearbox                       object\n",
       "power                          int32\n",
       "model                         object\n",
       "kilometer                      int32\n",
       "registration_month             int32\n",
       "fuel_type                     object\n",
       "brand                         object\n",
       "repaired                      object\n",
       "date_created          datetime64[ns]\n",
       "number_of_pictures             int32\n",
       "postal_code                    int32\n",
       "last_seen             datetime64[ns]\n",
       "dtype: object"
      ]
     },
     "execution_count": 23,
     "metadata": {},
     "output_type": "execute_result"
    }
   ],
   "source": [
    "# выводим список всех столбцов таблицы и их типы\n",
    "df.dtypes"
   ]
  },
  {
   "cell_type": "markdown",
   "metadata": {},
   "source": [
    "Преобразование типа, для столбца `repaired`, будет выполнено после заполнения пропусков."
   ]
  },
  {
   "cell_type": "markdown",
   "metadata": {},
   "source": [
    "### Обработка выбросов"
   ]
  },
  {
   "cell_type": "code",
   "execution_count": 24,
   "metadata": {},
   "outputs": [],
   "source": [
    "/# функция вычисления левой и правой границы (левое и правое \"крайние\" значения данных) [на диаграмме размаха]\n",
    "# параметр 'feature' - признак (столбец из датафрейма)\n",
    "def left_right_extreme_data_boundary(feature):\n",
    "    \n",
    "    if(feature.empty):\n",
    "        return np.nan, np.nan\n",
    "    \n",
    "    # вычислим квантили q3 (75%-й) и q1 (25% -й)\n",
    "    q3, q1 = np.percentile(feature, [75,25])\n",
    "    \n",
    "    # вычислим межквантильный интервал iqr\n",
    "    iqr = q3 - q1\n",
    "\n",
    "    # рассчитаем левую и правую границу (левое и правое \"крайние\" значения данных)\n",
    "    return np.around((q1 - iqr * 1.5), decimals=3), np.around((q3 + iqr * 1.5), decimals=3)\n",
    "\n",
    "\n",
    "\n",
    "# функция обработки выбросов в одном признаке\n",
    "def outlier_handling_in_feature(dataframe,\n",
    "                                column_name,\n",
    "                                min_range_limit,\n",
    "                                max_range_limit):\n",
    "    \n",
    "    # удалим из датасета выбросы 'dataframe', из столбца 'column_name', выбросы\n",
    "    dataframe = dataframe[~(dataframe[column_name] < min_range_limit) &\n",
    "                          ~(dataframe[column_name] > max_range_limit)]\n",
    "    \n",
    "    return dataframe\n",
    "\n",
    "\n",
    "\n",
    "def check_in_outlier(features, column_names):\n",
    "    \n",
    "    for column_name in column_names:\n",
    "        left_border, right_border = left_right_extreme_data_boundary(features[column_name].fillna(0))\n",
    "        \n",
    "        if ( (left_border > features[column_name].min()) or\n",
    "             (right_border < features[column_name].max()) ):\n",
    "            return False\n",
    "        \n",
    "    return True\n",
    "\n",
    "\n",
    "# функция обработки выбросов в одном датафрейме\n",
    "def outlier_handling(features, column_names):\n",
    "    \n",
    "    work = True;\n",
    "    while(work):\n",
    "        for column_name in column_names:\n",
    "        \n",
    "            left_border, right_border = left_right_extreme_data_boundary(features[column_name].fillna(0))\n",
    "        \n",
    "        \n",
    "            features = outlier_handling_in_feature(features,\n",
    "                                                   column_name,\n",
    "                                                   left_border,\n",
    "                                                   right_border)\n",
    "        \n",
    "        if (features.empty or check_in_outlier(features, column_names)):\n",
    "            break\n",
    "    \n",
    "    return features"
   ]
  },
  {
   "cell_type": "markdown",
   "metadata": {},
   "source": [
    "**21. Проверим датасет: `df`, на наличие выбросов.**"
   ]
  },
  {
   "cell_type": "code",
   "execution_count": 25,
   "metadata": {},
   "outputs": [
    {
     "data": {
      "image/png": "[encoded data removed]",
      "text/plain": [
       "<Figure size 640x480 with 1 Axes>"
      ]
     },
     "metadata": {},
     "output_type": "display_data"
    }
   ],
   "source": [
    "# построим диаграмму размаха для датафрейма 'df', чтобы проверить признаки на наличие выбросов\n",
    "df.plot(kind='box',\n",
    "        vert=False,\n",
    "        title='Значения численных признаков датасета \\'df\\'',\n",
    "        grid=True);"
   ]
  },
  {
   "cell_type": "markdown",
   "metadata": {},
   "source": [
    "Попытка обработать выбросы во всех признаках датафрейма `df`, привела к уменьшению датафрема до `49.25%` от `100%` данных. Урезать данные на столько мы не можем, так как это приведёт к невозможности проведения дальнейшего исследования. `50.75%` процентов данных, от общего числа данных датафрема, не может быть выбросами, а вероятнее всего, это характер самих данных. Обработаем выбросы, только в целевом признаке `price`, а остальные три признака, в которых есть выбросы, мы, только, проверим на аномальные значения, на следующих этапах. "
   ]
  },
  {
   "cell_type": "markdown",
   "metadata": {},
   "source": [
    "**22. Удалим выбросы в целевом признаке `price`.**"
   ]
  },
  {
   "cell_type": "code",
   "execution_count": 26,
   "metadata": {},
   "outputs": [],
   "source": [
    "# удалим выбросы в целевых признаках датафрейма 'df'\n",
    "df_without_outlier = outlier_handling(df, ['price'])"
   ]
  },
  {
   "cell_type": "code",
   "execution_count": 27,
   "metadata": {},
   "outputs": [
    {
     "data": {
      "image/png": "[encoded data removed]",
      "text/plain": [
       "<Figure size 640x480 with 1 Axes>"
      ]
     },
     "metadata": {},
     "output_type": "display_data"
    }
   ],
   "source": [
    "# проверим результат удаления выбросов в целевом признаке `price`\n",
    "df_without_outlier['price'].plot(kind='box',\n",
    "                                 vert=False,\n",
    "                                 title='Значения целевого признака \\'price\\' датасета \\'df\\'',\n",
    "                                 grid=True);"
   ]
  },
  {
   "cell_type": "markdown",
   "metadata": {},
   "source": [
    "### Устранение пропусков"
   ]
  },
  {
   "cell_type": "markdown",
   "metadata": {},
   "source": [
    "**23. Выведем количество пропущенных значений для каждого столбца, используя комбинацию двух методов.**"
   ]
  },
  {
   "cell_type": "code",
   "execution_count": 28,
   "metadata": {},
   "outputs": [
    {
     "data": {
      "text/plain": [
       "date_crawled              0\n",
       "price                     0\n",
       "vehicle_type          36010\n",
       "registration_year         0\n",
       "gearbox               19160\n",
       "power                     0\n",
       "model                 18357\n",
       "kilometer                 0\n",
       "registration_month        0\n",
       "fuel_type             31559\n",
       "brand                     0\n",
       "repaired              67895\n",
       "date_created              0\n",
       "number_of_pictures        0\n",
       "postal_code               0\n",
       "last_seen                 0\n",
       "dtype: int64"
      ]
     },
     "execution_count": 28,
     "metadata": {},
     "output_type": "execute_result"
    }
   ],
   "source": [
    "# посчитаем количество пропусков по каждому столбцу в отдельности\n",
    "df_without_outlier.isna().sum()"
   ]
  },
  {
   "cell_type": "markdown",
   "metadata": {},
   "source": [
    "Есть пропуски в столбцах: \n",
    "* `vehicle_type` - тип автомобильного кузова;\n",
    "* `gearbox`      - тип коробки передач;\n",
    "* `model`        - модель автомобиля;\n",
    "* `fuel_type`    - тип топлива;\n",
    "* `repaired`     - была машина в ремонте или нет."
   ]
  },
  {
   "cell_type": "markdown",
   "metadata": {},
   "source": [
    "**24. Определим, какую долю составляют пропущенные значения.** \n",
    "\n",
    "Необходимо определить какую долю, в процентах, составляют пропущенные значения, в каждом из столбцов с пропусками, по отношению к количеству всех элементов в каждом из этих столбцов. Данная информация поможет определить, смогут ли они повлиять на результат нашего исследования."
   ]
  },
  {
   "cell_type": "code",
   "execution_count": 29,
   "metadata": {},
   "outputs": [
    {
     "data": {
      "text/plain": [
       "date_crawled           0.000000\n",
       "price                  0.000000\n",
       "vehicle_type          11.574238\n",
       "registration_year      0.000000\n",
       "gearbox                6.158356\n",
       "power                  0.000000\n",
       "model                  5.900258\n",
       "kilometer              0.000000\n",
       "registration_month     0.000000\n",
       "fuel_type             10.143609\n",
       "brand                  0.000000\n",
       "repaired              21.822629\n",
       "date_created           0.000000\n",
       "number_of_pictures     0.000000\n",
       "postal_code            0.000000\n",
       "last_seen              0.000000\n",
       "dtype: float64"
      ]
     },
     "execution_count": 29,
     "metadata": {},
     "output_type": "execute_result"
    }
   ],
   "source": [
    "# определим, в процентах, какую долю составляют пропущенные значения, в каждом из столбцов с пропусками\n",
    "df_without_outlier.isna().mean() * 100"
   ]
  },
  {
   "cell_type": "markdown",
   "metadata": {},
   "source": [
    "Доля пропущенных значений, в столбцах:\n",
    "\n",
    "* `vehicle_type` - **11.57 %**;\n",
    "* `gearbox`      - **6.15 %**;\n",
    "* `model`        - **5.90 %**;\n",
    "* `fuel_type`    - **10.14 %**;\n",
    "* `repaired`     - **21.82 %**.\n",
    "\n",
    "достаточно весомая, что существенно может повлиять на результат нашего исследования. Особенно в столбце `repaired`."
   ]
  },
  {
   "cell_type": "markdown",
   "metadata": {},
   "source": [
    "**25. Обработаем пропуски в столбце `repaired`.**\n",
    "\n",
    "Признак `repaired` - является строковым и указывает, была машина в ремонте или нет. С большой вероятностью, продавец не указал данный признак, так как машина не была в ремонте. Следовательно, в данном случае, мы заполним все пропуски значением `no`."
   ]
  },
  {
   "cell_type": "code",
   "execution_count": 30,
   "metadata": {},
   "outputs": [],
   "source": [
    "# заполняем пропуски\n",
    "df_without_outlier['repaired'].fillna('no', inplace=True)"
   ]
  },
  {
   "cell_type": "markdown",
   "metadata": {},
   "source": [
    "**26. Обработаем пропуски в столбцах: `vehicle_type`, `model`, `fuel_type`.**\n",
    "\n",
    "Данные признаки являются строковыми и мы их заполним, уже используемым в них, значением: `other`."
   ]
  },
  {
   "cell_type": "code",
   "execution_count": 31,
   "metadata": {},
   "outputs": [],
   "source": [
    "# заполняем пропуски\n",
    "df_without_outlier['vehicle_type'].fillna('other', inplace=True)\n",
    "df_without_outlier['model'].fillna('other', inplace=True)\n",
    "df_without_outlier['fuel_type'].fillna('other', inplace=True)"
   ]
  },
  {
   "cell_type": "markdown",
   "metadata": {},
   "source": [
    "**27. Обработаем пропуски в столбце: `gearbox`.**\n",
    "\n",
    "Признак является строковым и указывает тип коробки передач. С большой вероятностью, продавец не указал данный признак для типа коробки передач - ручная. Следовательно, в данном случае, мы заполним все пропуски значением `manual`."
   ]
  },
  {
   "cell_type": "code",
   "execution_count": 32,
   "metadata": {},
   "outputs": [
    {
     "data": {
      "text/plain": [
       "date_crawled          0.0\n",
       "price                 0.0\n",
       "vehicle_type          0.0\n",
       "registration_year     0.0\n",
       "gearbox               0.0\n",
       "power                 0.0\n",
       "model                 0.0\n",
       "kilometer             0.0\n",
       "registration_month    0.0\n",
       "fuel_type             0.0\n",
       "brand                 0.0\n",
       "repaired              0.0\n",
       "date_created          0.0\n",
       "number_of_pictures    0.0\n",
       "postal_code           0.0\n",
       "last_seen             0.0\n",
       "dtype: float64"
      ]
     },
     "execution_count": 32,
     "metadata": {},
     "output_type": "execute_result"
    }
   ],
   "source": [
    "df_without_outlier['gearbox'].fillna('manual', inplace=True)\n",
    "\n",
    "# проверим результат заполнения пропусков, в процентах\n",
    "df_without_outlier.isna().mean() * 100"
   ]
  },
  {
   "cell_type": "markdown",
   "metadata": {},
   "source": [
    "Возможные причины появления пропусков в исходных данных:\n",
    " - 1. Человеческий фактор;\n",
    " - 2. Ошибки системы;\n",
    " - 3. Ошибки процесса выгрузки данных."
   ]
  },
  {
   "cell_type": "markdown",
   "metadata": {},
   "source": [
    "### Изменение типов данных (продолжение)"
   ]
  },
  {
   "cell_type": "markdown",
   "metadata": {},
   "source": [
    "**28. Заменим строковый тип данных `object`, в столбце `repaired`, на тип данных `bool`.**"
   ]
  },
  {
   "cell_type": "code",
   "execution_count": 33,
   "metadata": {},
   "outputs": [],
   "source": [
    "# определим функцию преобразования категориального признака строкового типа в булевой.\n",
    "def convert_to_bool(string):\n",
    "    if string == 'yes':\n",
    "        return True\n",
    "    else: \n",
    "        return False"
   ]
  },
  {
   "cell_type": "code",
   "execution_count": 34,
   "metadata": {},
   "outputs": [
    {
     "data": {
      "text/plain": [
       "date_crawled          datetime64[ns]\n",
       "price                          int32\n",
       "vehicle_type                  object\n",
       "registration_year              int32\n",
       "gearbox                       object\n",
       "power                          int32\n",
       "model                         object\n",
       "kilometer                      int32\n",
       "registration_month             int32\n",
       "fuel_type                     object\n",
       "brand                         object\n",
       "repaired                       int32\n",
       "date_created          datetime64[ns]\n",
       "number_of_pictures             int32\n",
       "postal_code                    int32\n",
       "last_seen             datetime64[ns]\n",
       "dtype: object"
      ]
     },
     "execution_count": 34,
     "metadata": {},
     "output_type": "execute_result"
    }
   ],
   "source": [
    "df_without_outlier['repaired'] = df_without_outlier['repaired'].apply(convert_to_bool) \n",
    "df_without_outlier['repaired'] = df_without_outlier['repaired'].astype('int32')\n",
    "\n",
    "# проверим преобразование типа\n",
    "df_without_outlier.dtypes"
   ]
  },
  {
   "cell_type": "markdown",
   "metadata": {},
   "source": [
    "### Обработка дубликатов"
   ]
  },
  {
   "cell_type": "markdown",
   "metadata": {},
   "source": [
    "**29. Проверим датафрейм `df_without_outlier` на наличие дубликатов.**"
   ]
  },
  {
   "cell_type": "code",
   "execution_count": 35,
   "metadata": {},
   "outputs": [
    {
     "data": {
      "text/plain": [
       "4"
      ]
     },
     "execution_count": 35,
     "metadata": {},
     "output_type": "execute_result"
    }
   ],
   "source": [
    "# проверяем количество строк дубликатов в 'df_without_outlier'\n",
    "df_without_outlier.duplicated().sum()"
   ]
  },
  {
   "cell_type": "code",
   "execution_count": 36,
   "metadata": {},
   "outputs": [
    {
     "data": {
      "text/plain": [
       "0"
      ]
     },
     "execution_count": 36,
     "metadata": {},
     "output_type": "execute_result"
    }
   ],
   "source": [
    "# удалим строки дубликаты в 'df_without_outlier'\n",
    "df_without_outlier.drop_duplicates(inplace=True)\n",
    "\n",
    "# проверяем количество строк дубликатов в 'df_without_outlier', после обработки\n",
    "df_without_outlier.duplicated().sum()"
   ]
  },
  {
   "cell_type": "markdown",
   "metadata": {},
   "source": [
    "### Обработка аномальных значений\n",
    "\n",
    "В данных могут встречаться артефакты (аномалии) — значения, которые не отражают действительность и появились по какой-то ошибке.\n",
    "\n",
    "Обработаем аномальные значения, только в тех признаках, которые будут использованы для обучения моделей и предсказаний."
   ]
  },
  {
   "cell_type": "markdown",
   "metadata": {},
   "source": [
    "**30. Проверим аномальные значения в признаке `price`.**"
   ]
  },
  {
   "cell_type": "code",
   "execution_count": 37,
   "metadata": {},
   "outputs": [
    {
     "data": {
      "text/plain": [
       "0"
      ]
     },
     "execution_count": 37,
     "metadata": {},
     "output_type": "execute_result"
    }
   ],
   "source": [
    "df_without_outlier['price'].min()"
   ]
  },
  {
   "cell_type": "code",
   "execution_count": 38,
   "metadata": {},
   "outputs": [
    {
     "data": {
      "text/plain": [
       "10050"
      ]
     },
     "execution_count": 38,
     "metadata": {},
     "output_type": "execute_result"
    }
   ],
   "source": [
    "df_without_outlier['price'].max()"
   ]
  },
  {
   "cell_type": "markdown",
   "metadata": {},
   "source": [
    "Признак `price` - цена (евро), содержит аномальные значения. Значения равные нулю, нулевая цена, необходимо удалить."
   ]
  },
  {
   "cell_type": "code",
   "execution_count": 39,
   "metadata": {},
   "outputs": [
    {
     "data": {
      "text/plain": [
       "1"
      ]
     },
     "execution_count": 39,
     "metadata": {},
     "output_type": "execute_result"
    }
   ],
   "source": [
    "# удаляем аномальные значения\n",
    "df_without_outlier = df_without_outlier[df_without_outlier['price'] > 0]\n",
    "\n",
    "# проверяем результат удаления аномальных значений\n",
    "df_without_outlier['price'].min()"
   ]
  },
  {
   "cell_type": "markdown",
   "metadata": {},
   "source": [
    "**31. Проверим аномальные значения в признаке `vehicle_type`.**"
   ]
  },
  {
   "cell_type": "code",
   "execution_count": 40,
   "metadata": {},
   "outputs": [
    {
     "data": {
      "text/plain": [
       "vehicle_type\n",
       "sedan          77283\n",
       "small          75343\n",
       "wagon          54499\n",
       "other          35105\n",
       "bus            24126\n",
       "convertible    15106\n",
       "coupe          11947\n",
       "suv             6937\n",
       "Name: count, dtype: int64"
      ]
     },
     "execution_count": 40,
     "metadata": {},
     "output_type": "execute_result"
    }
   ],
   "source": [
    "# выводим список уникальных значений столбца 'vehicle_type' \n",
    "df_without_outlier['vehicle_type'].value_counts()"
   ]
  },
  {
   "cell_type": "markdown",
   "metadata": {},
   "source": [
    "Аномальные значения отсутствуют."
   ]
  },
  {
   "cell_type": "markdown",
   "metadata": {},
   "source": [
    "**32. Проверим аномальные значения в признаке `registration_year`.**"
   ]
  },
  {
   "cell_type": "code",
   "execution_count": 41,
   "metadata": {},
   "outputs": [
    {
     "data": {
      "text/plain": [
       "array([1000, 1001, 1039, 1111, 1234, 1255, 1300, 1400, 1500, 1600, 1602,\n",
       "       1800, 1910, 1923, 1925, 1928, 1929, 1930, 1931, 1932, 1934, 1935,\n",
       "       1936, 1937, 1938, 1941, 1942, 1943, 1944, 1945, 1946, 1948, 1950,\n",
       "       1951, 1952, 1953, 1954, 1955, 1956, 1957, 1958, 1959, 1960, 1961,\n",
       "       1962, 1963, 1964, 1965, 1966, 1967, 1968, 1969, 1970, 1971, 1972,\n",
       "       1973, 1974, 1975, 1976, 1977, 1978, 1979, 1980, 1981, 1982, 1983,\n",
       "       1984, 1985, 1986, 1987, 1988, 1989, 1990, 1991, 1992, 1993, 1994,\n",
       "       1995, 1996, 1997, 1998, 1999, 2000, 2001, 2002, 2003, 2004, 2005,\n",
       "       2006, 2007, 2008, 2009, 2010, 2011, 2012, 2013, 2014, 2015, 2016,\n",
       "       2017, 2018, 2019, 2066, 2200, 2222, 2290, 2500, 2800, 2900, 3000,\n",
       "       3200, 3700, 3800, 4000, 4100, 4500, 4800, 5000, 5300, 5555, 5600,\n",
       "       5900, 5911, 6000, 6500, 7000, 7100, 7800, 8000, 8200, 8500, 8888,\n",
       "       9000, 9450, 9999], dtype=int32)"
      ]
     },
     "execution_count": 41,
     "metadata": {},
     "output_type": "execute_result"
    }
   ],
   "source": [
    "# выводим список уникальных значений столбца 'registration_year' \n",
    "df_without_outlier['registration_year'].sort_values().unique()"
   ]
  },
  {
   "cell_type": "code",
   "execution_count": 42,
   "metadata": {},
   "outputs": [
    {
     "data": {
      "text/plain": [
       "Timestamp('2016-04-07 14:36:58')"
      ]
     },
     "execution_count": 42,
     "metadata": {},
     "output_type": "execute_result"
    }
   ],
   "source": [
    "df_without_outlier['date_crawled'].max()"
   ]
  },
  {
   "cell_type": "markdown",
   "metadata": {},
   "source": [
    "Признак `registration_year` - год регистрации автомобиля, содержит аномальные значения. Года регистрации, которые меньше 1910 года и больше апреля 2016 года, необходимо удалить. Авто, которые зарегистрированы после апреля (04) 2016 года, являются аномальными. Так как признак `date_crawled` - дата скачивания анкеты из базы, содержит самую позднюю дату: `2016-04-07`.  "
   ]
  },
  {
   "cell_type": "code",
   "execution_count": 43,
   "metadata": {},
   "outputs": [
    {
     "data": {
      "text/plain": [
       "array([1910, 1923, 1925, 1928, 1929, 1930, 1931, 1932, 1934, 1935, 1936,\n",
       "       1937, 1938, 1941, 1942, 1943, 1944, 1945, 1946, 1948, 1950, 1951,\n",
       "       1952, 1953, 1954, 1955, 1956, 1957, 1958, 1959, 1960, 1961, 1962,\n",
       "       1963, 1964, 1965, 1966, 1967, 1968, 1969, 1970, 1971, 1972, 1973,\n",
       "       1974, 1975, 1976, 1977, 1978, 1979, 1980, 1981, 1982, 1983, 1984,\n",
       "       1985, 1986, 1987, 1988, 1989, 1990, 1991, 1992, 1993, 1994, 1995,\n",
       "       1996, 1997, 1998, 1999, 2000, 2001, 2002, 2003, 2004, 2005, 2006,\n",
       "       2007, 2008, 2009, 2010, 2011, 2012, 2013, 2014, 2015, 2016],\n",
       "      dtype=int32)"
      ]
     },
     "execution_count": 43,
     "metadata": {},
     "output_type": "execute_result"
    }
   ],
   "source": [
    "# удаляем аномальные значения\n",
    "df_without_outlier =\\\n",
    "    df_without_outlier[(df_without_outlier['registration_year'] >= 1910) & (df_without_outlier['registration_year'] <= 2016)]\n",
    "df_without_outlier = df_without_outlier[ ~((df_without_outlier['registration_year'] == 2016) & (df_without_outlier['registration_month'] <= 4))]\n",
    "\n",
    "# проверяем результат удаления аномальных значений\n",
    "df_without_outlier['registration_year'].sort_values().unique()"
   ]
  },
  {
   "cell_type": "markdown",
   "metadata": {},
   "source": [
    "**33. Проверим аномальные значения в признаке `gearbox`.**"
   ]
  },
  {
   "cell_type": "code",
   "execution_count": 44,
   "metadata": {},
   "outputs": [
    {
     "data": {
      "text/plain": [
       "gearbox\n",
       "manual    237207\n",
       "auto       45774\n",
       "Name: count, dtype: int64"
      ]
     },
     "execution_count": 44,
     "metadata": {},
     "output_type": "execute_result"
    }
   ],
   "source": [
    "# выводим список уникальных значений столбца 'gearbox' \n",
    "df_without_outlier['gearbox'].value_counts()"
   ]
  },
  {
   "cell_type": "markdown",
   "metadata": {},
   "source": [
    "Аномальные значения отсутствуют."
   ]
  },
  {
   "cell_type": "markdown",
   "metadata": {},
   "source": [
    "**34. Проверим аномальные значения в признаке `power`.**"
   ]
  },
  {
   "cell_type": "code",
   "execution_count": 45,
   "metadata": {},
   "outputs": [
    {
     "data": {
      "text/plain": [
       "array([    0,     1,     2,     3,     4,     5,     6,     7,     8,\n",
       "           9,    10,    11,    12,    13,    14,    15,    16,    17,\n",
       "          18,    19,    20,    21,    22,    23,    24,    25,    26,\n",
       "          27,    28,    29,    30,    31,    32,    33,    34,    35,\n",
       "          36,    37,    38,    39,    40,    41,    42,    43,    44,\n",
       "          45,    46,    47,    48,    49,    50,    51,    52,    53,\n",
       "          54,    55,    56,    57,    58,    59,    60,    61,    62,\n",
       "          63,    64,    65,    66,    67,    68,    69,    70,    71,\n",
       "          72,    73,    74,    75,    76,    77,    78,    79,    80,\n",
       "          81,    82,    83,    84,    85,    86,    87,    88,    89,\n",
       "          90,    91,    92,    93,    94,    95,    96,    97,    98,\n",
       "          99,   100,   101,   102,   103,   104,   105,   106,   107,\n",
       "         108,   109,   110,   111,   112,   113,   114,   115,   116,\n",
       "         117,   118,   119,   120,   121,   122,   123,   124,   125,\n",
       "         126,   127,   128,   129,   130,   131,   132,   133,   134,\n",
       "         135,   136,   137,   138,   139,   140,   141,   142,   143,\n",
       "         144,   145,   146,   147,   148,   149,   150,   151,   152,\n",
       "         153,   154,   155,   156,   157,   158,   159,   160,   161,\n",
       "         162,   163,   164,   165,   166,   167,   168,   169,   170,\n",
       "         171,   172,   173,   174,   175,   176,   177,   178,   179,\n",
       "         180,   181,   182,   183,   184,   185,   186,   187,   188,\n",
       "         189,   190,   191,   192,   193,   194,   195,   196,   197,\n",
       "         198,   199,   200,   201,   202,   203,   204,   205,   206,\n",
       "         207,   208,   209,   210,   211,   212,   213,   214,   215,\n",
       "         216,   217,   218,   219,   220,   221,   222,   223,   224,\n",
       "         225,   226,   227,   228,   229,   230,   231,   232,   233,\n",
       "         234,   235,   236,   237,   238,   239,   240,   241,   242,\n",
       "         243,   244,   245,   246,   247,   248,   249,   250,   251,\n",
       "         252,   253,   254,   255,   256,   257,   258,   259,   260,\n",
       "         261,   262,   264,   265,   266,   267,   268,   269,   270,\n",
       "         271,   272,   273,   274,   275,   276,   277,   278,   279,\n",
       "         280,   281,   282,   283,   284,   285,   286,   287,   288,\n",
       "         289,   290,   292,   293,   294,   295,   296,   297,   298,\n",
       "         299,   300,   301,   303,   304,   305,   306,   307,   308,\n",
       "         309,   310,   311,   313,   314,   315,   316,   318,   320,\n",
       "         321,   322,   323,   324,   325,   326,   328,   329,   330,\n",
       "         331,   333,   334,   335,   336,   340,   341,   343,   344,\n",
       "         345,   346,   347,   348,   349,   350,   353,   354,   357,\n",
       "         360,   362,   363,   365,   367,   376,   379,   380,   381,\n",
       "         382,   385,   386,   387,   388,   390,   392,   394,   396,\n",
       "         398,   399,   400,   401,   405,   408,   420,   430,   431,\n",
       "         435,   445,   449,   450,   454,   457,   475,   476,   500,\n",
       "         507,   515,   540,   541,   544,   550,   551,   553,   574,\n",
       "         580,   584,   585,   601,   602,   603,   604,   606,   610,\n",
       "         612,   620,   645,   650,   651,   671,   682,   685,   700,\n",
       "         702,   703,   732,   743,   750,   754,   771,   776,   800,\n",
       "         805,   850,   851,   900,   903,   907,   909,   923,   950,\n",
       "         952,   953,   998,   999,  1000,  1001,  1002,  1003,  1004,\n",
       "        1005,  1011,  1012,  1016,  1017,  1021,  1024,  1054,  1055,\n",
       "        1056,  1062,  1079,  1082,  1090,  1100,  1103,  1105,  1115,\n",
       "        1120,  1149,  1151,  1160,  1162,  1164,  1199,  1200,  1202,\n",
       "        1221,  1223,  1230,  1239,  1240,  1241,  1250,  1256,  1275,\n",
       "        1299,  1300,  1312,  1317,  1324,  1339,  1360,  1362,  1363,\n",
       "        1367,  1390,  1398,  1399,  1400,  1401,  1403,  1405,  1416,\n",
       "        1432,  1433,  1436,  1500,  1501,  1502,  1503,  1506,  1548,\n",
       "        1595,  1596,  1597,  1598,  1600,  1625,  1631,  1653,  1659,\n",
       "        1689,  1703,  1704,  1707,  1753,  1771,  1780,  1781,  1783,\n",
       "        1793,  1796,  1799,  1800,  1801,  1870,  1895,  1896,  1900,\n",
       "        1920,  1922,  1933,  1937,  1968,  1988,  1992,  1993,  1995,\n",
       "        1998,  1999,  2000,  2004,  2005,  2007,  2009,  2016,  2017,\n",
       "        2018,  2172,  2201,  2340,  2389,  2402,  2461,  2598,  2729,\n",
       "        2789,  2792,  2799,  3199,  3454,  3500,  3750,  4400,  4700,\n",
       "        5411,  5420,  5575,  5809,  5815,  5867,  6006,  6010,  6011,\n",
       "        6012,  6018,  6045,  6062,  6226,  6512,  6920,  7508,  7511,\n",
       "        7512,  7515,  7518,  7529,  7544,  8259,  8404,  8500,  9007,\n",
       "        9012, 10110, 10311, 10522, 10710, 10910, 10912, 11011, 11025,\n",
       "       11111, 11509, 11530, 11635, 12012, 12510, 12512, 12684, 13616,\n",
       "       14009, 15001, 15017, 15020, 15033, 16051, 17019, 17410, 17700,\n",
       "       17932, 19208, 19211, 19312, 20000], dtype=int32)"
      ]
     },
     "execution_count": 45,
     "metadata": {},
     "output_type": "execute_result"
    }
   ],
   "source": [
    "# выводим список уникальных значений столбца 'power' \n",
    "df_without_outlier['power'].sort_values().unique()"
   ]
  },
  {
   "cell_type": "markdown",
   "metadata": {},
   "source": [
    "Признак `power` - мощность (л. с.), содержит аномальные значения. Мощность равная нулю и больше 11000, необходимо удалить."
   ]
  },
  {
   "cell_type": "code",
   "execution_count": 46,
   "metadata": {},
   "outputs": [
    {
     "data": {
      "text/plain": [
       "array([    1,     2,     3,     4,     5,     6,     7,     8,     9,\n",
       "          10,    11,    12,    13,    14,    15,    16,    17,    18,\n",
       "          19,    20,    21,    22,    23,    24,    25,    26,    27,\n",
       "          28,    29,    30,    31,    32,    33,    34,    35,    36,\n",
       "          37,    38,    39,    40,    41,    42,    43,    44,    45,\n",
       "          46,    47,    48,    49,    50,    51,    52,    53,    54,\n",
       "          55,    56,    57,    58,    59,    60,    61,    62,    63,\n",
       "          64,    65,    66,    67,    68,    69,    70,    71,    72,\n",
       "          73,    74,    75,    76,    77,    78,    79,    80,    81,\n",
       "          82,    83,    84,    85,    86,    87,    88,    89,    90,\n",
       "          91,    92,    93,    94,    95,    96,    97,    98,    99,\n",
       "         100,   101,   102,   103,   104,   105,   106,   107,   108,\n",
       "         109,   110,   111,   112,   113,   114,   115,   116,   117,\n",
       "         118,   119,   120,   121,   122,   123,   124,   125,   126,\n",
       "         127,   128,   129,   130,   131,   132,   133,   134,   135,\n",
       "         136,   137,   138,   139,   140,   141,   142,   143,   144,\n",
       "         145,   146,   147,   148,   149,   150,   151,   152,   153,\n",
       "         154,   155,   156,   157,   158,   159,   160,   161,   162,\n",
       "         163,   164,   165,   166,   167,   168,   169,   170,   171,\n",
       "         172,   173,   174,   175,   176,   177,   178,   179,   180,\n",
       "         181,   182,   183,   184,   185,   186,   187,   188,   189,\n",
       "         190,   191,   192,   193,   194,   195,   196,   197,   198,\n",
       "         199,   200,   201,   202,   203,   204,   205,   206,   207,\n",
       "         208,   209,   210,   211,   212,   213,   214,   215,   216,\n",
       "         217,   218,   219,   220,   221,   222,   223,   224,   225,\n",
       "         226,   227,   228,   229,   230,   231,   232,   233,   234,\n",
       "         235,   236,   237,   238,   239,   240,   241,   242,   243,\n",
       "         244,   245,   246,   247,   248,   249,   250,   251,   252,\n",
       "         253,   254,   255,   256,   257,   258,   259,   260,   261,\n",
       "         262,   264,   265,   266,   267,   268,   269,   270,   271,\n",
       "         272,   273,   274,   275,   276,   277,   278,   279,   280,\n",
       "         281,   282,   283,   284,   285,   286,   287,   288,   289,\n",
       "         290,   292,   293,   294,   295,   296,   297,   298,   299,\n",
       "         300,   301,   303,   304,   305,   306,   307,   308,   309,\n",
       "         310,   311,   313,   314,   315,   316,   318,   320,   321,\n",
       "         322,   323,   324,   325,   326,   328,   329,   330,   331,\n",
       "         333,   334,   335,   336,   340,   341,   343,   344,   345,\n",
       "         346,   347,   348,   349,   350,   353,   354,   357,   360,\n",
       "         362,   363,   365,   367,   376,   379,   380,   381,   382,\n",
       "         385,   386,   387,   388,   390,   392,   394,   396,   398,\n",
       "         399,   400,   401,   405,   408,   420,   430,   431,   435,\n",
       "         445,   449,   450,   454,   457,   475,   476,   500,   507,\n",
       "         515,   540,   541,   544,   550,   551,   553,   574,   580,\n",
       "         584,   585,   601,   602,   603,   604,   606,   610,   612,\n",
       "         620,   645,   650,   651,   671,   682,   685,   700,   702,\n",
       "         703,   732,   743,   750,   754,   771,   776,   800,   805,\n",
       "         850,   851,   900,   903,   907,   909,   923,   950,   952,\n",
       "         953,   998,   999,  1000,  1001,  1002,  1003,  1004,  1005,\n",
       "        1011,  1012,  1016,  1017,  1021,  1024,  1054,  1055,  1056,\n",
       "        1062,  1079,  1082,  1090,  1100,  1103,  1105,  1115,  1120,\n",
       "        1149,  1151,  1160,  1162,  1164,  1199,  1200,  1202,  1221,\n",
       "        1223,  1230,  1239,  1240,  1241,  1250,  1256,  1275,  1299,\n",
       "        1300,  1312,  1317,  1324,  1339,  1360,  1362,  1363,  1367,\n",
       "        1390,  1398,  1399,  1400,  1401,  1403,  1405,  1416,  1432,\n",
       "        1433,  1436,  1500,  1501,  1502,  1503,  1506,  1548,  1595,\n",
       "        1596,  1597,  1598,  1600,  1625,  1631,  1653,  1659,  1689,\n",
       "        1703,  1704,  1707,  1753,  1771,  1780,  1781,  1783,  1793,\n",
       "        1796,  1799,  1800,  1801,  1870,  1895,  1896,  1900,  1920,\n",
       "        1922,  1933,  1937,  1968,  1988,  1992,  1993,  1995,  1998,\n",
       "        1999,  2000,  2004,  2005,  2007,  2009,  2016,  2017,  2018,\n",
       "        2172,  2201,  2340,  2389,  2402,  2461,  2598,  2729,  2789,\n",
       "        2792,  2799,  3199,  3454,  3500,  3750,  4400,  4700,  5411,\n",
       "        5420,  5575,  5809,  5815,  5867,  6006,  6010,  6011,  6012,\n",
       "        6018,  6045,  6062,  6226,  6512,  6920,  7508,  7511,  7512,\n",
       "        7515,  7518,  7529,  7544,  8259,  8404,  8500,  9007,  9012,\n",
       "       10110, 10311, 10522, 10710, 10910, 10912], dtype=int32)"
      ]
     },
     "execution_count": 46,
     "metadata": {},
     "output_type": "execute_result"
    }
   ],
   "source": [
    "# удаляем аномальные значения\n",
    "df_without_outlier =\\\n",
    "    df_without_outlier[(df_without_outlier['power'] > 0) & (df_without_outlier['power'] < 11000)]\n",
    "\n",
    "# проверяем результат удаления аномальных значений\n",
    "df_without_outlier['power'].sort_values().unique()"
   ]
  },
  {
   "cell_type": "markdown",
   "metadata": {},
   "source": [
    "**35. Проверим аномальные значения в признаке `model`.**"
   ]
  },
  {
   "cell_type": "code",
   "execution_count": 47,
   "metadata": {},
   "outputs": [
    {
     "data": {
      "text/plain": [
       "array(['100', '145', '147', '156', '159', '1_reihe', '1er', '200',\n",
       "       '2_reihe', '300c', '3_reihe', '3er', '4_reihe', '500', '5_reihe',\n",
       "       '5er', '601', '6_reihe', '6er', '7er', '80', '850', '90', '900',\n",
       "       '9000', '911', 'a1', 'a2', 'a3', 'a4', 'a5', 'a6', 'a8',\n",
       "       'a_klasse', 'accord', 'agila', 'alhambra', 'almera', 'altea',\n",
       "       'amarok', 'antara', 'arosa', 'astra', 'auris', 'avensis', 'aveo',\n",
       "       'aygo', 'b_klasse', 'b_max', 'beetle', 'berlingo', 'bora',\n",
       "       'boxster', 'bravo', 'c1', 'c2', 'c3', 'c4', 'c5', 'c_klasse',\n",
       "       'c_max', 'c_reihe', 'caddy', 'calibra', 'captiva', 'carisma',\n",
       "       'carnival', 'cayenne', 'cc', 'ceed', 'charade', 'cherokee',\n",
       "       'citigo', 'civic', 'cl', 'clio', 'clk', 'clubman', 'colt', 'combo',\n",
       "       'cooper', 'cordoba', 'corolla', 'corsa', 'cr_reihe', 'croma',\n",
       "       'crossfire', 'cuore', 'cx_reihe', 'defender', 'delta', 'discovery',\n",
       "       'doblo', 'ducato', 'duster', 'e_klasse', 'elefantino', 'eos',\n",
       "       'escort', 'espace', 'exeo', 'fabia', 'fiesta', 'focus', 'forester',\n",
       "       'forfour', 'fortwo', 'fox', 'freelander', 'fusion', 'g_klasse',\n",
       "       'galant', 'galaxy', 'getz', 'glk', 'golf', 'grand', 'i3',\n",
       "       'i_reihe', 'ibiza', 'impreza', 'insignia', 'jazz', 'jetta',\n",
       "       'jimny', 'juke', 'justy', 'ka', 'kadett', 'kaefer', 'kalina',\n",
       "       'kalos', 'kangoo', 'kappa', 'kuga', 'laguna', 'lancer', 'lanos',\n",
       "       'legacy', 'leon', 'lodgy', 'logan', 'lupo', 'lybra', 'm_klasse',\n",
       "       'm_reihe', 'materia', 'matiz', 'megane', 'meriva', 'micra', 'mii',\n",
       "       'modus', 'mondeo', 'move', 'musa', 'mustang', 'mx_reihe', 'navara',\n",
       "       'niva', 'note', 'nubira', 'octavia', 'omega', 'one', 'other',\n",
       "       'outlander', 'pajero', 'panda', 'passat', 'phaeton', 'picanto',\n",
       "       'polo', 'primera', 'ptcruiser', 'punto', 'q3', 'q5', 'q7',\n",
       "       'qashqai', 'r19', 'range_rover', 'range_rover_sport', 'rangerover',\n",
       "       'rav', 'rio', 'roadster', 'roomster', 'rx_reihe', 's60',\n",
       "       's_klasse', 's_max', 's_type', 'samara', 'sandero', 'santa',\n",
       "       'scenic', 'scirocco', 'seicento', 'serie_2', 'serie_3', 'sharan',\n",
       "       'signum', 'sirion', 'sl', 'slk', 'sorento', 'spark', 'spider',\n",
       "       'sportage', 'sprinter', 'stilo', 'superb', 'swift', 'terios',\n",
       "       'tigra', 'tiguan', 'toledo', 'touareg', 'touran', 'transit',\n",
       "       'transporter', 'tt', 'tucson', 'twingo', 'up', 'v40', 'v50', 'v60',\n",
       "       'v70', 'v_klasse', 'vectra', 'verso', 'viano', 'vito', 'vivaro',\n",
       "       'voyager', 'wrangler', 'x_reihe', 'x_trail', 'x_type', 'xc_reihe',\n",
       "       'yaris', 'yeti', 'ypsilon', 'z_reihe', 'zafira'], dtype=object)"
      ]
     },
     "execution_count": 47,
     "metadata": {},
     "output_type": "execute_result"
    }
   ],
   "source": [
    "# выводим список уникальных значений столбца 'model' \n",
    "df_without_outlier['model'].sort_values().unique()"
   ]
  },
  {
   "cell_type": "markdown",
   "metadata": {},
   "source": [
    "Аномальные значения отсутствуют."
   ]
  },
  {
   "cell_type": "markdown",
   "metadata": {},
   "source": [
    "**36. Проверим аномальные значения в признаке `kilometer`.**"
   ]
  },
  {
   "cell_type": "code",
   "execution_count": 48,
   "metadata": {},
   "outputs": [
    {
     "data": {
      "text/plain": [
       "array([  5000,  10000,  20000,  30000,  40000,  50000,  60000,  70000,\n",
       "        80000,  90000, 100000, 125000, 150000], dtype=int32)"
      ]
     },
     "execution_count": 48,
     "metadata": {},
     "output_type": "execute_result"
    }
   ],
   "source": [
    "# выводим список уникальных значений столбца 'kilometer' \n",
    "df_without_outlier['kilometer'].sort_values().unique()"
   ]
  },
  {
   "cell_type": "markdown",
   "metadata": {},
   "source": [
    "Аномальные значения отсутствуют."
   ]
  },
  {
   "cell_type": "markdown",
   "metadata": {},
   "source": [
    "**37. Проверим аномальные значения в признаке `registration_month`.**"
   ]
  },
  {
   "cell_type": "code",
   "execution_count": 49,
   "metadata": {},
   "outputs": [
    {
     "data": {
      "text/plain": [
       "array([ 0,  1,  2,  3,  4,  5,  6,  7,  8,  9, 10, 11, 12], dtype=int32)"
      ]
     },
     "execution_count": 49,
     "metadata": {},
     "output_type": "execute_result"
    }
   ],
   "source": [
    "# выводим список уникальных значений столбца 'registration_month' \n",
    "df_without_outlier['registration_month'].sort_values().unique()"
   ]
  },
  {
   "cell_type": "markdown",
   "metadata": {},
   "source": [
    "Признак `registration_month` - месяц регистрации автомобиля, содержит аномальные значения. Значения равные нулю, нулевой месяц, необходимо удалить."
   ]
  },
  {
   "cell_type": "code",
   "execution_count": 50,
   "metadata": {},
   "outputs": [
    {
     "data": {
      "text/plain": [
       "array([ 1,  2,  3,  4,  5,  6,  7,  8,  9, 10, 11, 12], dtype=int32)"
      ]
     },
     "execution_count": 50,
     "metadata": {},
     "output_type": "execute_result"
    }
   ],
   "source": [
    "# удаляем аномальные значения\n",
    "df_without_outlier =\\\n",
    "    df_without_outlier[df_without_outlier['registration_month'] > 0]\n",
    "\n",
    "# проверяем результат удаления аномальных значений\n",
    "df_without_outlier['registration_month'].sort_values().unique()"
   ]
  },
  {
   "cell_type": "markdown",
   "metadata": {},
   "source": [
    "**38. Проверим аномальные значения в признаке `fuel_type`.**"
   ]
  },
  {
   "cell_type": "code",
   "execution_count": 51,
   "metadata": {},
   "outputs": [
    {
     "data": {
      "text/plain": [
       "array(['cng', 'electric', 'gasoline', 'hybrid', 'lpg', 'other', 'petrol'],\n",
       "      dtype=object)"
      ]
     },
     "execution_count": 51,
     "metadata": {},
     "output_type": "execute_result"
    }
   ],
   "source": [
    "# выводим список уникальных значений столбца 'fuel_type' \n",
    "df_without_outlier['fuel_type'].sort_values().unique()"
   ]
  },
  {
   "cell_type": "markdown",
   "metadata": {},
   "source": [
    "Аномальные значения отсутствуют."
   ]
  },
  {
   "cell_type": "markdown",
   "metadata": {},
   "source": [
    "**39. Проверим аномальные значения в признаке `brand`.**"
   ]
  },
  {
   "cell_type": "code",
   "execution_count": 52,
   "metadata": {},
   "outputs": [
    {
     "data": {
      "text/plain": [
       "array(['alfa_romeo', 'audi', 'bmw', 'chevrolet', 'chrysler', 'citroen',\n",
       "       'dacia', 'daewoo', 'daihatsu', 'fiat', 'ford', 'honda', 'hyundai',\n",
       "       'jaguar', 'jeep', 'kia', 'lada', 'lancia', 'land_rover', 'mazda',\n",
       "       'mercedes_benz', 'mini', 'mitsubishi', 'nissan', 'opel', 'peugeot',\n",
       "       'porsche', 'renault', 'rover', 'saab', 'seat', 'skoda', 'smart',\n",
       "       'sonstige_autos', 'subaru', 'suzuki', 'toyota', 'trabant',\n",
       "       'volkswagen', 'volvo'], dtype=object)"
      ]
     },
     "execution_count": 52,
     "metadata": {},
     "output_type": "execute_result"
    }
   ],
   "source": [
    "# выводим список уникальных значений столбца 'brand' \n",
    "df_without_outlier['brand'].sort_values().unique()"
   ]
  },
  {
   "cell_type": "markdown",
   "metadata": {},
   "source": [
    "Аномальные значения отсутствуют."
   ]
  },
  {
   "cell_type": "markdown",
   "metadata": {},
   "source": [
    "**40. Проверим аномальные значения в признаке `repaired`.**"
   ]
  },
  {
   "cell_type": "code",
   "execution_count": 53,
   "metadata": {},
   "outputs": [
    {
     "data": {
      "text/plain": [
       "repaired\n",
       "0    211839\n",
       "1     24993\n",
       "Name: count, dtype: int64"
      ]
     },
     "execution_count": 53,
     "metadata": {},
     "output_type": "execute_result"
    }
   ],
   "source": [
    "# выводим список уникальных значений столбца 'repaired' \n",
    "df_without_outlier['repaired'].value_counts()"
   ]
  },
  {
   "cell_type": "markdown",
   "metadata": {},
   "source": [
    "Аномальные значения отсутствуют."
   ]
  },
  {
   "cell_type": "markdown",
   "metadata": {},
   "source": [
    "**41. Проверим, какая доля исходного датасета осталась после фильтрации.**"
   ]
  },
  {
   "cell_type": "code",
   "execution_count": 54,
   "metadata": {},
   "outputs": [
    {
     "data": {
      "text/plain": [
       "66.8320310185146"
      ]
     },
     "execution_count": 54,
     "metadata": {},
     "output_type": "execute_result"
    }
   ],
   "source": [
    "# рассчитаем размер доли исходного датасета 'df', которая осталась после фильтрации, в процентах\n",
    "(df_without_outlier.shape[0] / DF_SOURCE_SIZE) * 100"
   ]
  },
  {
   "cell_type": "markdown",
   "metadata": {},
   "source": [
    "Размер доли исходного датасета, которая осталась после фильтрации: \n",
    "\n",
    "* `df_without_outlier` - **`66.83%`**."
   ]
  },
  {
   "cell_type": "markdown",
   "metadata": {},
   "source": [
    "**Выводы**\n",
    "\n",
    "1. Предобработка обнаружила следующие проблемы в данных:\n",
    "\n",
    "- нарушение стиля заголовков столбцов;\n",
    "- несоответствие типа значений хранимым данным;\n",
    "- выбросы;\n",
    "- пропуски;\n",
    "- дубликаты;\n",
    "- аномальные значения.\n",
    "\n",
    " \n",
    "2. Привели заголовки столбцов в соответствие с установленным стилем.\n",
    "3. Преобразовали типы данных из одного в другой, где это было необходимо.\n",
    "4. Обработали выбросы, где это было необходимо.\n",
    "5. Обработали пропуски, где это было необходимо.\n",
    "6. Удалили дубликаты.\n",
    "7. Удалили аномальные значения.\n",
    "\n",
    "После такой предобработки данных, исследование станет более точным.\n",
    "\n",
    "Теперь можно перейти к подготовке данных. "
   ]
  },
  {
   "cell_type": "markdown",
   "metadata": {},
   "source": [
    "## Подготовка данных для исследования"
   ]
  },
  {
   "cell_type": "markdown",
   "metadata": {},
   "source": [
    "Изучим исходное множество признаков, которые будут использованы для обучения модели, на: мультиколлинеарность признаков (высокая степень коррелированности признаков), их избыточное количество, содержание их значений (категориальные признаки, количественные признаки с разными разбросами значений).\n",
    "\n",
    "1. Столбец `date_crawled` - дата скачивания анкеты из базы, не несёт полезной дополнительной информации для обучения модели. Его наличие, в исходном множестве признаков, ведёт к избыточности.\n",
    "\n",
    "2. Столбец `date_created` - дата создания анкеты, не несёт полезной дополнительной информации для обучения модели. Его наличие, в исходном множестве признаков, ведёт к избыточности.\n",
    "\n",
    "3. Столбец `number_of_pictures` - количество фотографий автомобиля, не несёт полезной дополнительной информации для обучения модели. Его наличие, в исходном множестве признаков, ведёт к избыточности.\n",
    "\n",
    "4. Столбец `postal_code` - почтовый индекс владельца анкеты (пользователя), не несёт полезной дополнительной информации для обучения модели. Его наличие, в исходном множестве признаков, ведёт к избыточности.\n",
    "\n",
    "5. Столбец `last_seen` - дата последней активности пользователя, не несёт полезной дополнительной информации для обучения модели. Его наличие, в исходном множестве признаков, ведёт к избыточности.\n",
    "\n",
    "*Вышеуказанные признаки необходимо удалить из исходного множества признаков.*\n",
    "\n",
    "6. Признак `price`, является численным целевым признаком нашей модели и его необходимо отфильтровать, на этапе разделения обучающей выборки на множество признаков и целевой признак, из множества признаков (предикторов), которые используются для обучения модели.\n",
    "\n",
    "7. Столбцы: `vehicle_type`, `gearbox`, `model`, `fuel_type` и `brand`, имеют строковый тип данных и следовательно являются категориальными номинальными признаками. Данные столбцы необходимо преобразовать в численные признаки техникой `CatBoostEncoder`.\n",
    "\n",
    "8. Столбцы: `registration_year`, `power`, `kilometer`, и `registration_month`, а также столбцы, полученные в пункте `7`, являются численными признаками, но имеют разный разброс значений. При обучении модели, алгоритм может решить, что признаки с большими значениями и разбросом, важнее. Для избежания данной ловушки, необходимо масштабировать данные признаки с помощью метода - стандартизации данных."
   ]
  },
  {
   "cell_type": "markdown",
   "metadata": {},
   "source": [
    "**42. Создадим новый датафрейм для обучения модели (ml - machine learning), посредством удаления избыточных признаков из множества признаков.**"
   ]
  },
  {
   "cell_type": "code",
   "execution_count": 55,
   "metadata": {},
   "outputs": [
    {
     "data": {
      "text/plain": [
       "(236832, 11)"
      ]
     },
     "execution_count": 55,
     "metadata": {},
     "output_type": "execute_result"
    }
   ],
   "source": [
    "df_ml = df_without_outlier.drop(['date_crawled', 'date_created', 'number_of_pictures', 'postal_code', 'last_seen'], axis=1)\n",
    "df_ml.shape"
   ]
  },
  {
   "cell_type": "markdown",
   "metadata": {},
   "source": [
    "**43. Создадим отдельные датафреймы с признаками и целевым признаком.**"
   ]
  },
  {
   "cell_type": "code",
   "execution_count": 56,
   "metadata": {},
   "outputs": [],
   "source": [
    "features = df_ml.drop(['price'], axis=1)\n",
    "target = df_ml['price']"
   ]
  },
  {
   "cell_type": "markdown",
   "metadata": {},
   "source": [
    "**44. Cоздадим переменную `random_state` для фиксации псевдослучайности.**"
   ]
  },
  {
   "cell_type": "code",
   "execution_count": 57,
   "metadata": {},
   "outputs": [],
   "source": [
    "# создадим переменную 'random_state' для фиксации псевдослучайности для алгоритма обучения\n",
    "# и других алгоритмов в нашем проекте\n",
    "random_state = 753"
   ]
  },
  {
   "cell_type": "markdown",
   "metadata": {},
   "source": [
    "**45. Разделим исходные данные на две выборки: обучающую и тестовую.**\n",
    "\n",
    "Применим метод кросс-валидации: \"Hold-out\"."
   ]
  },
  {
   "cell_type": "code",
   "execution_count": 58,
   "metadata": {},
   "outputs": [],
   "source": [
    "# разделим набор данных на обучающую выборку (75%) и тестовую (25%)\n",
    "# для этого мы установим параметр 'test_size' = 0.25\n",
    "features_train, features_test, target_train, target_test =\\\n",
    "    train_test_split(features, target, test_size=0.25, random_state=random_state)"
   ]
  },
  {
   "cell_type": "code",
   "execution_count": 59,
   "metadata": {},
   "outputs": [
    {
     "data": {
      "text/plain": [
       "(177624, 10)"
      ]
     },
     "execution_count": 59,
     "metadata": {},
     "output_type": "execute_result"
    }
   ],
   "source": [
    "# выведем размер полученной обучающей выборки признаков\n",
    "features_train.shape"
   ]
  },
  {
   "cell_type": "code",
   "execution_count": 60,
   "metadata": {},
   "outputs": [
    {
     "data": {
      "text/plain": [
       "(177624,)"
      ]
     },
     "execution_count": 60,
     "metadata": {},
     "output_type": "execute_result"
    }
   ],
   "source": [
    "# выведем размер полученной обучающей выборки целевого признака\n",
    "target_train.shape"
   ]
  },
  {
   "cell_type": "code",
   "execution_count": 61,
   "metadata": {},
   "outputs": [
    {
     "data": {
      "text/plain": [
       "(59208, 10)"
      ]
     },
     "execution_count": 61,
     "metadata": {},
     "output_type": "execute_result"
    }
   ],
   "source": [
    "# выведем размер полученной тестовой выборки признаков\n",
    "features_test.shape"
   ]
  },
  {
   "cell_type": "code",
   "execution_count": 62,
   "metadata": {},
   "outputs": [
    {
     "data": {
      "text/plain": [
       "(59208,)"
      ]
     },
     "execution_count": 62,
     "metadata": {},
     "output_type": "execute_result"
    }
   ],
   "source": [
    "# выведем размер полученной тестовой выборки целевого признака\n",
    "target_test.shape"
   ]
  },
  {
   "cell_type": "markdown",
   "metadata": {},
   "source": [
    "**46. Преобразуем категориальные признаки в численные.**\n",
    "\n",
    "Создадим новые датафреймы, на основе датафреймов: `features_train` и `features_test`, которые будут содержать преобразованные категориальные признаки в численные, с помощью техники OHE - One-Hot Encoding."
   ]
  },
  {
   "cell_type": "code",
   "execution_count": 63,
   "metadata": {},
   "outputs": [],
   "source": [
    "# определим функцию преобразования категориальных признаков в численные\n",
    "def categorical_features_to_numerical(features_train, target_train, features_test, categorical_features, random_state):\n",
    "    \n",
    "    # создадим объект класса 'CatBoostEncoder' \n",
    "    cbe = ce.cat_boost.CatBoostEncoder(cols=categorical_features, random_state=random_state)\n",
    "\n",
    "    # настроим объект (обучим модель 'CatBoostEncoder') на обучающих данных и преобразуем их\n",
    "    features_train = cbe.fit_transform(features_train, target_train)\n",
    "    features_test = cbe.transform(features_test)\n",
    "\n",
    "    return  features_train, features_test"
   ]
  },
  {
   "cell_type": "code",
   "execution_count": 64,
   "metadata": {},
   "outputs": [],
   "source": [
    "# создадим список категориальных признаков\n",
    "categorical_features = ['vehicle_type', 'gearbox', 'model', 'fuel_type', 'brand']\n",
    "\n",
    "# преобразуем признаки\n",
    "features_train, features_test =\\\n",
    "    categorical_features_to_numerical(features_train, target_train, features_test, categorical_features, random_state)"
   ]
  },
  {
   "cell_type": "code",
   "execution_count": 65,
   "metadata": {},
   "outputs": [
    {
     "data": {
      "text/plain": [
       "(177624, 10)"
      ]
     },
     "execution_count": 65,
     "metadata": {},
     "output_type": "execute_result"
    }
   ],
   "source": [
    "features_train.shape"
   ]
  },
  {
   "cell_type": "code",
   "execution_count": 66,
   "metadata": {},
   "outputs": [
    {
     "data": {
      "text/plain": [
       "(59208, 10)"
      ]
     },
     "execution_count": 66,
     "metadata": {},
     "output_type": "execute_result"
    }
   ],
   "source": [
    "features_test.shape"
   ]
  },
  {
   "cell_type": "markdown",
   "metadata": {},
   "source": [
    "**47. Масштабируем численные признаки.**\n",
    "\n",
    "Масштабируем численные признаки с разным разбросом значений, методом стандартизации данных, в каждой полученой выборке множества признаков: обучающей и тестовой."
   ]
  },
  {
   "cell_type": "code",
   "execution_count": 67,
   "metadata": {},
   "outputs": [],
   "source": [
    "# определим функцию стандартизации признаков\n",
    "def features_standardization(features_train, features_test, column_names):\n",
    "    \n",
    "    # создадим объект класса 'StandardScaler' и настроим объект на обучающих данных\n",
    "    scaler = StandardScaler()\n",
    "    \n",
    "    # масштабируем признаки\n",
    "    features_train[column_names] = scaler.fit_transform(features_train[column_names])\n",
    "    features_test[column_names] = scaler.transform(features_test[column_names])\n",
    "    \n",
    "    return features_train, features_test"
   ]
  },
  {
   "cell_type": "code",
   "execution_count": 68,
   "metadata": {},
   "outputs": [
    {
     "data": {
      "text/html": [
       "<div>\n",
       "<style scoped>\n",
       "    .dataframe tbody tr th:only-of-type {\n",
       "        vertical-align: middle;\n",
       "    }\n",
       "\n",
       "    .dataframe tbody tr th {\n",
       "        vertical-align: top;\n",
       "    }\n",
       "\n",
       "    .dataframe thead th {\n",
       "        text-align: right;\n",
       "    }\n",
       "</style>\n",
       "<table border=\"1\" class=\"dataframe\">\n",
       "  <thead>\n",
       "    <tr style=\"text-align: right;\">\n",
       "      <th></th>\n",
       "      <th>vehicle_type</th>\n",
       "      <th>registration_year</th>\n",
       "      <th>gearbox</th>\n",
       "      <th>power</th>\n",
       "      <th>model</th>\n",
       "      <th>kilometer</th>\n",
       "      <th>registration_month</th>\n",
       "      <th>fuel_type</th>\n",
       "      <th>brand</th>\n",
       "      <th>repaired</th>\n",
       "    </tr>\n",
       "  </thead>\n",
       "  <tbody>\n",
       "    <tr>\n",
       "      <th>count</th>\n",
       "      <td>177624.000000</td>\n",
       "      <td>177624.000000</td>\n",
       "      <td>177624.000000</td>\n",
       "      <td>177624.000000</td>\n",
       "      <td>177624.000000</td>\n",
       "      <td>177624.000000</td>\n",
       "      <td>177624.000000</td>\n",
       "      <td>177624.000000</td>\n",
       "      <td>177624.000000</td>\n",
       "      <td>177624.000000</td>\n",
       "    </tr>\n",
       "    <tr>\n",
       "      <th>mean</th>\n",
       "      <td>3444.743948</td>\n",
       "      <td>2001.989821</td>\n",
       "      <td>3444.700816</td>\n",
       "      <td>114.864365</td>\n",
       "      <td>3438.121258</td>\n",
       "      <td>132530.457596</td>\n",
       "      <td>6.401016</td>\n",
       "      <td>3442.154339</td>\n",
       "      <td>3444.094854</td>\n",
       "      <td>0.106101</td>\n",
       "    </tr>\n",
       "    <tr>\n",
       "      <th>std</th>\n",
       "      <td>705.395113</td>\n",
       "      <td>5.871913</td>\n",
       "      <td>457.731006</td>\n",
       "      <td>107.786186</td>\n",
       "      <td>1244.245135</td>\n",
       "      <td>32962.427869</td>\n",
       "      <td>3.343372</td>\n",
       "      <td>763.736039</td>\n",
       "      <td>774.244346</td>\n",
       "      <td>0.307967</td>\n",
       "    </tr>\n",
       "    <tr>\n",
       "      <th>min</th>\n",
       "      <td>1687.116518</td>\n",
       "      <td>1910.000000</td>\n",
       "      <td>2456.930432</td>\n",
       "      <td>1.000000</td>\n",
       "      <td>748.208317</td>\n",
       "      <td>5000.000000</td>\n",
       "      <td>1.000000</td>\n",
       "      <td>2117.941663</td>\n",
       "      <td>901.482608</td>\n",
       "      <td>0.000000</td>\n",
       "    </tr>\n",
       "    <tr>\n",
       "      <th>25%</th>\n",
       "      <td>2571.694674</td>\n",
       "      <td>1999.000000</td>\n",
       "      <td>3235.752868</td>\n",
       "      <td>75.000000</td>\n",
       "      <td>2690.051505</td>\n",
       "      <td>125000.000000</td>\n",
       "      <td>4.000000</td>\n",
       "      <td>3008.594524</td>\n",
       "      <td>2672.797587</td>\n",
       "      <td>0.000000</td>\n",
       "    </tr>\n",
       "    <tr>\n",
       "      <th>50%</th>\n",
       "      <td>3540.731327</td>\n",
       "      <td>2002.000000</td>\n",
       "      <td>3243.059676</td>\n",
       "      <td>105.000000</td>\n",
       "      <td>3333.766925</td>\n",
       "      <td>150000.000000</td>\n",
       "      <td>6.000000</td>\n",
       "      <td>3013.479083</td>\n",
       "      <td>3481.800274</td>\n",
       "      <td>0.000000</td>\n",
       "    </tr>\n",
       "    <tr>\n",
       "      <th>75%</th>\n",
       "      <td>3677.036013</td>\n",
       "      <td>2006.000000</td>\n",
       "      <td>3247.645594</td>\n",
       "      <td>140.000000</td>\n",
       "      <td>4036.418612</td>\n",
       "      <td>150000.000000</td>\n",
       "      <td>9.000000</td>\n",
       "      <td>4629.794183</td>\n",
       "      <td>4147.462972</td>\n",
       "      <td>0.000000</td>\n",
       "    </tr>\n",
       "    <tr>\n",
       "      <th>max</th>\n",
       "      <td>5823.197824</td>\n",
       "      <td>2016.000000</td>\n",
       "      <td>5122.791295</td>\n",
       "      <td>10910.000000</td>\n",
       "      <td>9206.945484</td>\n",
       "      <td>150000.000000</td>\n",
       "      <td>12.000000</td>\n",
       "      <td>6248.197824</td>\n",
       "      <td>7233.599171</td>\n",
       "      <td>1.000000</td>\n",
       "    </tr>\n",
       "  </tbody>\n",
       "</table>\n",
       "</div>"
      ],
      "text/plain": [
       "        vehicle_type  registration_year        gearbox          power  \\\n",
       "count  177624.000000      177624.000000  177624.000000  177624.000000   \n",
       "mean     3444.743948        2001.989821    3444.700816     114.864365   \n",
       "std       705.395113           5.871913     457.731006     107.786186   \n",
       "min      1687.116518        1910.000000    2456.930432       1.000000   \n",
       "25%      2571.694674        1999.000000    3235.752868      75.000000   \n",
       "50%      3540.731327        2002.000000    3243.059676     105.000000   \n",
       "75%      3677.036013        2006.000000    3247.645594     140.000000   \n",
       "max      5823.197824        2016.000000    5122.791295   10910.000000   \n",
       "\n",
       "               model      kilometer  registration_month      fuel_type  \\\n",
       "count  177624.000000  177624.000000       177624.000000  177624.000000   \n",
       "mean     3438.121258  132530.457596            6.401016    3442.154339   \n",
       "std      1244.245135   32962.427869            3.343372     763.736039   \n",
       "min       748.208317    5000.000000            1.000000    2117.941663   \n",
       "25%      2690.051505  125000.000000            4.000000    3008.594524   \n",
       "50%      3333.766925  150000.000000            6.000000    3013.479083   \n",
       "75%      4036.418612  150000.000000            9.000000    4629.794183   \n",
       "max      9206.945484  150000.000000           12.000000    6248.197824   \n",
       "\n",
       "               brand       repaired  \n",
       "count  177624.000000  177624.000000  \n",
       "mean     3444.094854       0.106101  \n",
       "std       774.244346       0.307967  \n",
       "min       901.482608       0.000000  \n",
       "25%      2672.797587       0.000000  \n",
       "50%      3481.800274       0.000000  \n",
       "75%      4147.462972       0.000000  \n",
       "max      7233.599171       1.000000  "
      ]
     },
     "execution_count": 68,
     "metadata": {},
     "output_type": "execute_result"
    }
   ],
   "source": [
    "features_train.describe()"
   ]
  },
  {
   "cell_type": "code",
   "execution_count": 69,
   "metadata": {},
   "outputs": [
    {
     "data": {
      "text/html": [
       "<div>\n",
       "<style scoped>\n",
       "    .dataframe tbody tr th:only-of-type {\n",
       "        vertical-align: middle;\n",
       "    }\n",
       "\n",
       "    .dataframe tbody tr th {\n",
       "        vertical-align: top;\n",
       "    }\n",
       "\n",
       "    .dataframe thead th {\n",
       "        text-align: right;\n",
       "    }\n",
       "</style>\n",
       "<table border=\"1\" class=\"dataframe\">\n",
       "  <thead>\n",
       "    <tr style=\"text-align: right;\">\n",
       "      <th></th>\n",
       "      <th>vehicle_type</th>\n",
       "      <th>registration_year</th>\n",
       "      <th>gearbox</th>\n",
       "      <th>power</th>\n",
       "      <th>model</th>\n",
       "      <th>kilometer</th>\n",
       "      <th>registration_month</th>\n",
       "      <th>fuel_type</th>\n",
       "      <th>brand</th>\n",
       "      <th>repaired</th>\n",
       "    </tr>\n",
       "  </thead>\n",
       "  <tbody>\n",
       "    <tr>\n",
       "      <th>count</th>\n",
       "      <td>59208.000000</td>\n",
       "      <td>59208.000000</td>\n",
       "      <td>59208.000000</td>\n",
       "      <td>59208.000000</td>\n",
       "      <td>59208.000000</td>\n",
       "      <td>59208.000000</td>\n",
       "      <td>59208.000000</td>\n",
       "      <td>59208.000000</td>\n",
       "      <td>59208.000000</td>\n",
       "      <td>59208.00000</td>\n",
       "    </tr>\n",
       "    <tr>\n",
       "      <th>mean</th>\n",
       "      <td>3450.669034</td>\n",
       "      <td>2002.031263</td>\n",
       "      <td>3449.055167</td>\n",
       "      <td>114.894913</td>\n",
       "      <td>3449.736756</td>\n",
       "      <td>132389.710850</td>\n",
       "      <td>6.391045</td>\n",
       "      <td>3439.638411</td>\n",
       "      <td>3451.931826</td>\n",
       "      <td>0.10382</td>\n",
       "    </tr>\n",
       "    <tr>\n",
       "      <th>std</th>\n",
       "      <td>706.179721</td>\n",
       "      <td>5.892959</td>\n",
       "      <td>458.033528</td>\n",
       "      <td>98.865291</td>\n",
       "      <td>1251.557635</td>\n",
       "      <td>32807.123603</td>\n",
       "      <td>3.351876</td>\n",
       "      <td>767.316671</td>\n",
       "      <td>763.803698</td>\n",
       "      <td>0.30503</td>\n",
       "    </tr>\n",
       "    <tr>\n",
       "      <th>min</th>\n",
       "      <td>2480.825578</td>\n",
       "      <td>1937.000000</td>\n",
       "      <td>3240.752786</td>\n",
       "      <td>1.000000</td>\n",
       "      <td>736.544310</td>\n",
       "      <td>5000.000000</td>\n",
       "      <td>1.000000</td>\n",
       "      <td>2364.854461</td>\n",
       "      <td>1083.911128</td>\n",
       "      <td>0.00000</td>\n",
       "    </tr>\n",
       "    <tr>\n",
       "      <th>25%</th>\n",
       "      <td>2567.418411</td>\n",
       "      <td>1999.000000</td>\n",
       "      <td>3240.752786</td>\n",
       "      <td>75.000000</td>\n",
       "      <td>2736.373806</td>\n",
       "      <td>125000.000000</td>\n",
       "      <td>4.000000</td>\n",
       "      <td>3006.106365</td>\n",
       "      <td>2664.941552</td>\n",
       "      <td>0.00000</td>\n",
       "    </tr>\n",
       "    <tr>\n",
       "      <th>50%</th>\n",
       "      <td>3520.952088</td>\n",
       "      <td>2002.000000</td>\n",
       "      <td>3240.752786</td>\n",
       "      <td>105.000000</td>\n",
       "      <td>3327.112916</td>\n",
       "      <td>150000.000000</td>\n",
       "      <td>6.000000</td>\n",
       "      <td>3006.106365</td>\n",
       "      <td>3479.167944</td>\n",
       "      <td>0.00000</td>\n",
       "    </tr>\n",
       "    <tr>\n",
       "      <th>75%</th>\n",
       "      <td>3670.692058</td>\n",
       "      <td>2006.000000</td>\n",
       "      <td>3240.752786</td>\n",
       "      <td>140.000000</td>\n",
       "      <td>4040.776951</td>\n",
       "      <td>150000.000000</td>\n",
       "      <td>9.000000</td>\n",
       "      <td>4673.899900</td>\n",
       "      <td>4139.750626</td>\n",
       "      <td>0.00000</td>\n",
       "    </tr>\n",
       "    <tr>\n",
       "      <th>max</th>\n",
       "      <td>5470.817905</td>\n",
       "      <td>2016.000000</td>\n",
       "      <td>4456.202413</td>\n",
       "      <td>8404.000000</td>\n",
       "      <td>9235.947503</td>\n",
       "      <td>150000.000000</td>\n",
       "      <td>12.000000</td>\n",
       "      <td>5501.281554</td>\n",
       "      <td>6400.896918</td>\n",
       "      <td>1.00000</td>\n",
       "    </tr>\n",
       "  </tbody>\n",
       "</table>\n",
       "</div>"
      ],
      "text/plain": [
       "       vehicle_type  registration_year       gearbox         power  \\\n",
       "count  59208.000000       59208.000000  59208.000000  59208.000000   \n",
       "mean    3450.669034        2002.031263   3449.055167    114.894913   \n",
       "std      706.179721           5.892959    458.033528     98.865291   \n",
       "min     2480.825578        1937.000000   3240.752786      1.000000   \n",
       "25%     2567.418411        1999.000000   3240.752786     75.000000   \n",
       "50%     3520.952088        2002.000000   3240.752786    105.000000   \n",
       "75%     3670.692058        2006.000000   3240.752786    140.000000   \n",
       "max     5470.817905        2016.000000   4456.202413   8404.000000   \n",
       "\n",
       "              model      kilometer  registration_month     fuel_type  \\\n",
       "count  59208.000000   59208.000000        59208.000000  59208.000000   \n",
       "mean    3449.736756  132389.710850            6.391045   3439.638411   \n",
       "std     1251.557635   32807.123603            3.351876    767.316671   \n",
       "min      736.544310    5000.000000            1.000000   2364.854461   \n",
       "25%     2736.373806  125000.000000            4.000000   3006.106365   \n",
       "50%     3327.112916  150000.000000            6.000000   3006.106365   \n",
       "75%     4040.776951  150000.000000            9.000000   4673.899900   \n",
       "max     9235.947503  150000.000000           12.000000   5501.281554   \n",
       "\n",
       "              brand     repaired  \n",
       "count  59208.000000  59208.00000  \n",
       "mean    3451.931826      0.10382  \n",
       "std      763.803698      0.30503  \n",
       "min     1083.911128      0.00000  \n",
       "25%     2664.941552      0.00000  \n",
       "50%     3479.167944      0.00000  \n",
       "75%     4139.750626      0.00000  \n",
       "max     6400.896918      1.00000  "
      ]
     },
     "execution_count": 69,
     "metadata": {},
     "output_type": "execute_result"
    }
   ],
   "source": [
    "features_test.describe()"
   ]
  },
  {
   "cell_type": "code",
   "execution_count": 70,
   "metadata": {},
   "outputs": [],
   "source": [
    "numerical_features = features_train.columns"
   ]
  },
  {
   "cell_type": "code",
   "execution_count": 71,
   "metadata": {},
   "outputs": [],
   "source": [
    "# масштабируем численные признаки \n",
    "features_train, features_test = features_standardization(features_train, features_test, numerical_features)"
   ]
  },
  {
   "cell_type": "code",
   "execution_count": 72,
   "metadata": {},
   "outputs": [
    {
     "data": {
      "text/html": [
       "<div>\n",
       "<style scoped>\n",
       "    .dataframe tbody tr th:only-of-type {\n",
       "        vertical-align: middle;\n",
       "    }\n",
       "\n",
       "    .dataframe tbody tr th {\n",
       "        vertical-align: top;\n",
       "    }\n",
       "\n",
       "    .dataframe thead th {\n",
       "        text-align: right;\n",
       "    }\n",
       "</style>\n",
       "<table border=\"1\" class=\"dataframe\">\n",
       "  <thead>\n",
       "    <tr style=\"text-align: right;\">\n",
       "      <th></th>\n",
       "      <th>vehicle_type</th>\n",
       "      <th>registration_year</th>\n",
       "      <th>gearbox</th>\n",
       "      <th>power</th>\n",
       "      <th>model</th>\n",
       "      <th>kilometer</th>\n",
       "      <th>registration_month</th>\n",
       "      <th>fuel_type</th>\n",
       "      <th>brand</th>\n",
       "      <th>repaired</th>\n",
       "    </tr>\n",
       "  </thead>\n",
       "  <tbody>\n",
       "    <tr>\n",
       "      <th>count</th>\n",
       "      <td>1.776240e+05</td>\n",
       "      <td>1.776240e+05</td>\n",
       "      <td>1.776240e+05</td>\n",
       "      <td>1.776240e+05</td>\n",
       "      <td>1.776240e+05</td>\n",
       "      <td>1.776240e+05</td>\n",
       "      <td>1.776240e+05</td>\n",
       "      <td>1.776240e+05</td>\n",
       "      <td>1.776240e+05</td>\n",
       "      <td>1.776240e+05</td>\n",
       "    </tr>\n",
       "    <tr>\n",
       "      <th>mean</th>\n",
       "      <td>4.321084e-16</td>\n",
       "      <td>1.279188e-14</td>\n",
       "      <td>-8.014927e-16</td>\n",
       "      <td>-5.680374e-17</td>\n",
       "      <td>6.316415e-16</td>\n",
       "      <td>-2.980196e-16</td>\n",
       "      <td>9.440621e-17</td>\n",
       "      <td>1.496098e-17</td>\n",
       "      <td>-4.448293e-17</td>\n",
       "      <td>4.320284e-17</td>\n",
       "    </tr>\n",
       "    <tr>\n",
       "      <th>std</th>\n",
       "      <td>1.000003e+00</td>\n",
       "      <td>1.000003e+00</td>\n",
       "      <td>1.000003e+00</td>\n",
       "      <td>1.000003e+00</td>\n",
       "      <td>1.000003e+00</td>\n",
       "      <td>1.000003e+00</td>\n",
       "      <td>1.000003e+00</td>\n",
       "      <td>1.000003e+00</td>\n",
       "      <td>1.000003e+00</td>\n",
       "      <td>1.000003e+00</td>\n",
       "    </tr>\n",
       "    <tr>\n",
       "      <th>min</th>\n",
       "      <td>-2.491699e+00</td>\n",
       "      <td>-1.566612e+01</td>\n",
       "      <td>-2.157977e+00</td>\n",
       "      <td>-1.056394e+00</td>\n",
       "      <td>-2.161890e+00</td>\n",
       "      <td>-3.868975e+00</td>\n",
       "      <td>-1.615444e+00</td>\n",
       "      <td>-1.733867e+00</td>\n",
       "      <td>-3.284001e+00</td>\n",
       "      <td>-3.445200e-01</td>\n",
       "    </tr>\n",
       "    <tr>\n",
       "      <th>25%</th>\n",
       "      <td>-1.237678e+00</td>\n",
       "      <td>-5.091747e-01</td>\n",
       "      <td>-4.564876e-01</td>\n",
       "      <td>-3.698477e-01</td>\n",
       "      <td>-6.012255e-01</td>\n",
       "      <td>-2.284564e-01</td>\n",
       "      <td>-7.181440e-01</td>\n",
       "      <td>-5.676844e-01</td>\n",
       "      <td>-9.961964e-01</td>\n",
       "      <td>-3.445200e-01</td>\n",
       "    </tr>\n",
       "    <tr>\n",
       "      <th>50%</th>\n",
       "      <td>1.360764e-01</td>\n",
       "      <td>1.733478e-03</td>\n",
       "      <td>-4.405245e-01</td>\n",
       "      <td>-9.151816e-02</td>\n",
       "      <td>-8.386983e-02</td>\n",
       "      <td>5.299850e-01</td>\n",
       "      <td>-1.199438e-01</td>\n",
       "      <td>-5.612888e-01</td>\n",
       "      <td>4.869978e-02</td>\n",
       "      <td>-3.445200e-01</td>\n",
       "    </tr>\n",
       "    <tr>\n",
       "      <th>75%</th>\n",
       "      <td>3.293087e-01</td>\n",
       "      <td>6.829444e-01</td>\n",
       "      <td>-4.305056e-01</td>\n",
       "      <td>2.331997e-01</td>\n",
       "      <td>4.808530e-01</td>\n",
       "      <td>5.299850e-01</td>\n",
       "      <td>7.773565e-01</td>\n",
       "      <td>1.555044e+00</td>\n",
       "      <td>9.084601e-01</td>\n",
       "      <td>-3.445200e-01</td>\n",
       "    </tr>\n",
       "    <tr>\n",
       "      <th>max</th>\n",
       "      <td>3.371813e+00</td>\n",
       "      <td>2.385972e+00</td>\n",
       "      <td>3.666117e+00</td>\n",
       "      <td>1.001535e+02</td>\n",
       "      <td>4.636418e+00</td>\n",
       "      <td>5.299850e-01</td>\n",
       "      <td>1.674657e+00</td>\n",
       "      <td>3.674112e+00</td>\n",
       "      <td>4.894469e+00</td>\n",
       "      <td>2.902589e+00</td>\n",
       "    </tr>\n",
       "  </tbody>\n",
       "</table>\n",
       "</div>"
      ],
      "text/plain": [
       "       vehicle_type  registration_year       gearbox         power  \\\n",
       "count  1.776240e+05       1.776240e+05  1.776240e+05  1.776240e+05   \n",
       "mean   4.321084e-16       1.279188e-14 -8.014927e-16 -5.680374e-17   \n",
       "std    1.000003e+00       1.000003e+00  1.000003e+00  1.000003e+00   \n",
       "min   -2.491699e+00      -1.566612e+01 -2.157977e+00 -1.056394e+00   \n",
       "25%   -1.237678e+00      -5.091747e-01 -4.564876e-01 -3.698477e-01   \n",
       "50%    1.360764e-01       1.733478e-03 -4.405245e-01 -9.151816e-02   \n",
       "75%    3.293087e-01       6.829444e-01 -4.305056e-01  2.331997e-01   \n",
       "max    3.371813e+00       2.385972e+00  3.666117e+00  1.001535e+02   \n",
       "\n",
       "              model     kilometer  registration_month     fuel_type  \\\n",
       "count  1.776240e+05  1.776240e+05        1.776240e+05  1.776240e+05   \n",
       "mean   6.316415e-16 -2.980196e-16        9.440621e-17  1.496098e-17   \n",
       "std    1.000003e+00  1.000003e+00        1.000003e+00  1.000003e+00   \n",
       "min   -2.161890e+00 -3.868975e+00       -1.615444e+00 -1.733867e+00   \n",
       "25%   -6.012255e-01 -2.284564e-01       -7.181440e-01 -5.676844e-01   \n",
       "50%   -8.386983e-02  5.299850e-01       -1.199438e-01 -5.612888e-01   \n",
       "75%    4.808530e-01  5.299850e-01        7.773565e-01  1.555044e+00   \n",
       "max    4.636418e+00  5.299850e-01        1.674657e+00  3.674112e+00   \n",
       "\n",
       "              brand      repaired  \n",
       "count  1.776240e+05  1.776240e+05  \n",
       "mean  -4.448293e-17  4.320284e-17  \n",
       "std    1.000003e+00  1.000003e+00  \n",
       "min   -3.284001e+00 -3.445200e-01  \n",
       "25%   -9.961964e-01 -3.445200e-01  \n",
       "50%    4.869978e-02 -3.445200e-01  \n",
       "75%    9.084601e-01 -3.445200e-01  \n",
       "max    4.894469e+00  2.902589e+00  "
      ]
     },
     "execution_count": 72,
     "metadata": {},
     "output_type": "execute_result"
    }
   ],
   "source": [
    "features_train.describe()"
   ]
  },
  {
   "cell_type": "code",
   "execution_count": 73,
   "metadata": {},
   "outputs": [
    {
     "data": {
      "text/html": [
       "<div>\n",
       "<style scoped>\n",
       "    .dataframe tbody tr th:only-of-type {\n",
       "        vertical-align: middle;\n",
       "    }\n",
       "\n",
       "    .dataframe tbody tr th {\n",
       "        vertical-align: top;\n",
       "    }\n",
       "\n",
       "    .dataframe thead th {\n",
       "        text-align: right;\n",
       "    }\n",
       "</style>\n",
       "<table border=\"1\" class=\"dataframe\">\n",
       "  <thead>\n",
       "    <tr style=\"text-align: right;\">\n",
       "      <th></th>\n",
       "      <th>vehicle_type</th>\n",
       "      <th>registration_year</th>\n",
       "      <th>gearbox</th>\n",
       "      <th>power</th>\n",
       "      <th>model</th>\n",
       "      <th>kilometer</th>\n",
       "      <th>registration_month</th>\n",
       "      <th>fuel_type</th>\n",
       "      <th>brand</th>\n",
       "      <th>repaired</th>\n",
       "    </tr>\n",
       "  </thead>\n",
       "  <tbody>\n",
       "    <tr>\n",
       "      <th>count</th>\n",
       "      <td>59208.000000</td>\n",
       "      <td>59208.000000</td>\n",
       "      <td>59208.000000</td>\n",
       "      <td>59208.000000</td>\n",
       "      <td>59208.000000</td>\n",
       "      <td>59208.000000</td>\n",
       "      <td>59208.000000</td>\n",
       "      <td>59208.000000</td>\n",
       "      <td>59208.000000</td>\n",
       "      <td>59208.000000</td>\n",
       "    </tr>\n",
       "    <tr>\n",
       "      <th>mean</th>\n",
       "      <td>0.008400</td>\n",
       "      <td>0.007058</td>\n",
       "      <td>0.009513</td>\n",
       "      <td>0.000283</td>\n",
       "      <td>0.009335</td>\n",
       "      <td>-0.004270</td>\n",
       "      <td>-0.002982</td>\n",
       "      <td>-0.003294</td>\n",
       "      <td>0.010122</td>\n",
       "      <td>-0.007404</td>\n",
       "    </tr>\n",
       "    <tr>\n",
       "      <th>std</th>\n",
       "      <td>1.001115</td>\n",
       "      <td>1.003587</td>\n",
       "      <td>1.000664</td>\n",
       "      <td>0.917238</td>\n",
       "      <td>1.005880</td>\n",
       "      <td>0.995291</td>\n",
       "      <td>1.002547</td>\n",
       "      <td>1.004691</td>\n",
       "      <td>0.986518</td>\n",
       "      <td>0.990466</td>\n",
       "    </tr>\n",
       "    <tr>\n",
       "      <th>min</th>\n",
       "      <td>-1.366498</td>\n",
       "      <td>-11.067944</td>\n",
       "      <td>-0.445564</td>\n",
       "      <td>-1.056394</td>\n",
       "      <td>-2.171264</td>\n",
       "      <td>-3.868975</td>\n",
       "      <td>-1.615444</td>\n",
       "      <td>-1.410570</td>\n",
       "      <td>-3.048379</td>\n",
       "      <td>-0.344520</td>\n",
       "    </tr>\n",
       "    <tr>\n",
       "      <th>25%</th>\n",
       "      <td>-1.243740</td>\n",
       "      <td>-0.509175</td>\n",
       "      <td>-0.445564</td>\n",
       "      <td>-0.369848</td>\n",
       "      <td>-0.563996</td>\n",
       "      <td>-0.228456</td>\n",
       "      <td>-0.718144</td>\n",
       "      <td>-0.570942</td>\n",
       "      <td>-1.006343</td>\n",
       "      <td>-0.344520</td>\n",
       "    </tr>\n",
       "    <tr>\n",
       "      <th>50%</th>\n",
       "      <td>0.108036</td>\n",
       "      <td>0.001733</td>\n",
       "      <td>-0.445564</td>\n",
       "      <td>-0.091518</td>\n",
       "      <td>-0.089218</td>\n",
       "      <td>0.529985</td>\n",
       "      <td>-0.119944</td>\n",
       "      <td>-0.570942</td>\n",
       "      <td>0.045300</td>\n",
       "      <td>-0.344520</td>\n",
       "    </tr>\n",
       "    <tr>\n",
       "      <th>75%</th>\n",
       "      <td>0.320315</td>\n",
       "      <td>0.682944</td>\n",
       "      <td>-0.445564</td>\n",
       "      <td>0.233200</td>\n",
       "      <td>0.484356</td>\n",
       "      <td>0.529985</td>\n",
       "      <td>0.777357</td>\n",
       "      <td>1.612794</td>\n",
       "      <td>0.898499</td>\n",
       "      <td>-0.344520</td>\n",
       "    </tr>\n",
       "    <tr>\n",
       "      <th>max</th>\n",
       "      <td>2.872262</td>\n",
       "      <td>2.385972</td>\n",
       "      <td>2.209823</td>\n",
       "      <td>76.903723</td>\n",
       "      <td>4.659727</td>\n",
       "      <td>0.529985</td>\n",
       "      <td>1.674657</td>\n",
       "      <td>2.696132</td>\n",
       "      <td>3.818963</td>\n",
       "      <td>2.902589</td>\n",
       "    </tr>\n",
       "  </tbody>\n",
       "</table>\n",
       "</div>"
      ],
      "text/plain": [
       "       vehicle_type  registration_year       gearbox         power  \\\n",
       "count  59208.000000       59208.000000  59208.000000  59208.000000   \n",
       "mean       0.008400           0.007058      0.009513      0.000283   \n",
       "std        1.001115           1.003587      1.000664      0.917238   \n",
       "min       -1.366498         -11.067944     -0.445564     -1.056394   \n",
       "25%       -1.243740          -0.509175     -0.445564     -0.369848   \n",
       "50%        0.108036           0.001733     -0.445564     -0.091518   \n",
       "75%        0.320315           0.682944     -0.445564      0.233200   \n",
       "max        2.872262           2.385972      2.209823     76.903723   \n",
       "\n",
       "              model     kilometer  registration_month     fuel_type  \\\n",
       "count  59208.000000  59208.000000        59208.000000  59208.000000   \n",
       "mean       0.009335     -0.004270           -0.002982     -0.003294   \n",
       "std        1.005880      0.995291            1.002547      1.004691   \n",
       "min       -2.171264     -3.868975           -1.615444     -1.410570   \n",
       "25%       -0.563996     -0.228456           -0.718144     -0.570942   \n",
       "50%       -0.089218      0.529985           -0.119944     -0.570942   \n",
       "75%        0.484356      0.529985            0.777357      1.612794   \n",
       "max        4.659727      0.529985            1.674657      2.696132   \n",
       "\n",
       "              brand      repaired  \n",
       "count  59208.000000  59208.000000  \n",
       "mean       0.010122     -0.007404  \n",
       "std        0.986518      0.990466  \n",
       "min       -3.048379     -0.344520  \n",
       "25%       -1.006343     -0.344520  \n",
       "50%        0.045300     -0.344520  \n",
       "75%        0.898499     -0.344520  \n",
       "max        3.818963      2.902589  "
      ]
     },
     "execution_count": 73,
     "metadata": {},
     "output_type": "execute_result"
    }
   ],
   "source": [
    "features_test.describe()"
   ]
  },
  {
   "cell_type": "markdown",
   "metadata": {},
   "source": [
    "**Выводы**\n",
    "\n",
    "1. Мы создали:\n",
    "   - новый датафрейм для обучения модели (ml - machine learning), посредством удаления избыточных признаков из множества признаков;\n",
    "   - отдельные датафреймы, содержащие признаки и целевой признак для каждой выборки: обучающей и тестовой;\n",
    "   - глобальную переменную `random_state`, в которой зафиксировали выбранную нами псевдослучайность, для дальнейшего использования на всех этапах исследования;\n",
    "   - новые датафреймы, на основе датафреймов: `features_train` и `features_test`, которые содержат преобразованные категориальные признаки в численные.\n",
    "   \n",
    "2. Преобразовали категориальные признаки в численные.\n",
    "3. Масштабировали признаки для каждой выборки множества признаков: обучающей и тестовой."
   ]
  },
  {
   "cell_type": "markdown",
   "metadata": {},
   "source": [
    "## Исследование моделей <a id='models_research'></a>\n",
    "\n",
    "Для задачи регрессии мы рассмотрим четыре популярные модели: решающее дерево, случайный лес, линейная регрессия и градиентный бустинг.\n",
    "\n",
    "Оценка качества моделей, будет производиться с использованием метода кросс-валидации: `K-Fold`."
   ]
  },
  {
   "cell_type": "code",
   "execution_count": 74,
   "metadata": {},
   "outputs": [],
   "source": [
    "# функция для исследования модели (поиск лучших гиперпараметров при лучшем значении метрики качества)\n",
    "def model_research(model,\n",
    "                   features,\n",
    "                   target,\n",
    "                   param_grid,\n",
    "                   scoring='neg_root_mean_squared_error',\n",
    "                   random_state=random_state,\n",
    "                   n_jobs=-1):\n",
    "    \n",
    "    cv = KFold(shuffle=True, random_state=random_state)\n",
    "    \n",
    "    search = GridSearchCV(estimator=model,\n",
    "                          param_grid=param_grid,\n",
    "                          scoring=scoring,\n",
    "                          n_jobs=n_jobs,\n",
    "                          cv=cv)\n",
    "\n",
    "    search.fit(features, target)\n",
    "    \n",
    "    print(\"Лучшие параметры (CV score=%0.3f):\" % -search.best_score_)\n",
    "    print(search.best_params_)\n",
    "    \n",
    "    return search"
   ]
  },
  {
   "cell_type": "markdown",
   "metadata": {},
   "source": [
    "**48. Исследуем модель на основе \"решающего дерева\".**"
   ]
  },
  {
   "cell_type": "code",
   "execution_count": 75,
   "metadata": {},
   "outputs": [
    {
     "name": "stdout",
     "output_type": "stream",
     "text": [
      "=========== Решающее дерево (обучающая выборка) ==========\n",
      "Лучшие параметры (CV score=1288.732):\n",
      "{'max_depth': 12, 'splitter': 'best'}\n",
      "RMSE: 1288.7318889679577\n",
      "==========================================================\n",
      "CPU times: user 1.52 s, sys: 196 ms, total: 1.72 s\n",
      "Wall time: 17.2 s\n"
     ]
    }
   ],
   "source": [
    "%%time\n",
    "dtr_model = DecisionTreeRegressor(random_state=random_state)\n",
    "\n",
    "param_grid = { 'splitter'  : ['best'],\n",
    "               'max_depth' : [12] }\n",
    "\n",
    "print(\"=========== Решающее дерево (обучающая выборка) ==========\")\n",
    "# найдем лучшие гиперпараметры, на обучающей выборке\n",
    "gscv_dtr = model_research(dtr_model, features_train, target_train, param_grid)\n",
    "\n",
    "print(\"RMSE:\", -gscv_dtr.best_score_)\n",
    "print(\"==========================================================\")"
   ]
  },
  {
   "cell_type": "code",
   "execution_count": 76,
   "metadata": {},
   "outputs": [],
   "source": [
    "dtr_model = DecisionTreeRegressor(splitter='best', max_depth=12, random_state=random_state)"
   ]
  },
  {
   "cell_type": "code",
   "execution_count": 77,
   "metadata": {},
   "outputs": [
    {
     "name": "stdout",
     "output_type": "stream",
     "text": [
      "CPU times: user 1.54 s, sys: 0 ns, total: 1.54 s\n",
      "Wall time: 1.54 s\n"
     ]
    },
    {
     "data": {
      "text/html": [
       "<style>#sk-container-id-1 {color: black;}#sk-container-id-1 pre{padding: 0;}#sk-container-id-1 div.sk-toggleable {background-color: white;}#sk-container-id-1 label.sk-toggleable__label {cursor: pointer;display: block;width: 100%;margin-bottom: 0;padding: 0.3em;box-sizing: border-box;text-align: center;}#sk-container-id-1 label.sk-toggleable__label-arrow:before {content: \"▸\";float: left;margin-right: 0.25em;color: #696969;}#sk-container-id-1 label.sk-toggleable__label-arrow:hover:before {color: black;}#sk-container-id-1 div.sk-estimator:hover label.sk-toggleable__label-arrow:before {color: black;}#sk-container-id-1 div.sk-toggleable__content {max-height: 0;max-width: 0;overflow: hidden;text-align: left;background-color: #f0f8ff;}#sk-container-id-1 div.sk-toggleable__content pre {margin: 0.2em;color: black;border-radius: 0.25em;background-color: #f0f8ff;}#sk-container-id-1 input.sk-toggleable__control:checked~div.sk-toggleable__content {max-height: 200px;max-width: 100%;overflow: auto;}#sk-container-id-1 input.sk-toggleable__control:checked~label.sk-toggleable__label-arrow:before {content: \"▾\";}#sk-container-id-1 div.sk-estimator input.sk-toggleable__control:checked~label.sk-toggleable__label {background-color: #d4ebff;}#sk-container-id-1 div.sk-label input.sk-toggleable__control:checked~label.sk-toggleable__label {background-color: #d4ebff;}#sk-container-id-1 input.sk-hidden--visually {border: 0;clip: rect(1px 1px 1px 1px);clip: rect(1px, 1px, 1px, 1px);height: 1px;margin: -1px;overflow: hidden;padding: 0;position: absolute;width: 1px;}#sk-container-id-1 div.sk-estimator {font-family: monospace;background-color: #f0f8ff;border: 1px dotted black;border-radius: 0.25em;box-sizing: border-box;margin-bottom: 0.5em;}#sk-container-id-1 div.sk-estimator:hover {background-color: #d4ebff;}#sk-container-id-1 div.sk-parallel-item::after {content: \"\";width: 100%;border-bottom: 1px solid gray;flex-grow: 1;}#sk-container-id-1 div.sk-label:hover label.sk-toggleable__label {background-color: #d4ebff;}#sk-container-id-1 div.sk-serial::before {content: \"\";position: absolute;border-left: 1px solid gray;box-sizing: border-box;top: 0;bottom: 0;left: 50%;z-index: 0;}#sk-container-id-1 div.sk-serial {display: flex;flex-direction: column;align-items: center;background-color: white;padding-right: 0.2em;padding-left: 0.2em;position: relative;}#sk-container-id-1 div.sk-item {position: relative;z-index: 1;}#sk-container-id-1 div.sk-parallel {display: flex;align-items: stretch;justify-content: center;background-color: white;position: relative;}#sk-container-id-1 div.sk-item::before, #sk-container-id-1 div.sk-parallel-item::before {content: \"\";position: absolute;border-left: 1px solid gray;box-sizing: border-box;top: 0;bottom: 0;left: 50%;z-index: -1;}#sk-container-id-1 div.sk-parallel-item {display: flex;flex-direction: column;z-index: 1;position: relative;background-color: white;}#sk-container-id-1 div.sk-parallel-item:first-child::after {align-self: flex-end;width: 50%;}#sk-container-id-1 div.sk-parallel-item:last-child::after {align-self: flex-start;width: 50%;}#sk-container-id-1 div.sk-parallel-item:only-child::after {width: 0;}#sk-container-id-1 div.sk-dashed-wrapped {border: 1px dashed gray;margin: 0 0.4em 0.5em 0.4em;box-sizing: border-box;padding-bottom: 0.4em;background-color: white;}#sk-container-id-1 div.sk-label label {font-family: monospace;font-weight: bold;display: inline-block;line-height: 1.2em;}#sk-container-id-1 div.sk-label-container {text-align: center;}#sk-container-id-1 div.sk-container {/* jupyter's `normalize.less` sets `[hidden] { display: none; }` but bootstrap.min.css set `[hidden] { display: none !important; }` so we also need the `!important` here to be able to override the default hidden behavior on the sphinx rendered scikit-learn.org. See: https://github.com/scikit-learn/scikit-learn/issues/21755 */display: inline-block !important;position: relative;}#sk-container-id-1 div.sk-text-repr-fallback {display: none;}</style><div id=\"sk-container-id-1\" class=\"sk-top-container\"><div class=\"sk-text-repr-fallback\"><pre>DecisionTreeRegressor(max_depth=15, random_state=753)</pre><b>In a Jupyter environment, please rerun this cell to show the HTML representation or trust the notebook. <br />On GitHub, the HTML representation is unable to render, please try loading this page with nbviewer.org.</b></div><div class=\"sk-container\" hidden><div class=\"sk-item\"><div class=\"sk-estimator sk-toggleable\"><input class=\"sk-toggleable__control sk-hidden--visually\" id=\"sk-estimator-id-1\" type=\"checkbox\" checked><label for=\"sk-estimator-id-1\" class=\"sk-toggleable__label sk-toggleable__label-arrow\">DecisionTreeRegressor</label><div class=\"sk-toggleable__content\"><pre>DecisionTreeRegressor(max_depth=15, random_state=753)</pre></div></div></div></div></div>"
      ],
      "text/plain": [
       "DecisionTreeRegressor(max_depth=15, random_state=753)"
      ]
     },
     "execution_count": 77,
     "metadata": {},
     "output_type": "execute_result"
    }
   ],
   "source": [
    "%%time\n",
    "# измерим время обучения модели\n",
    "# обучим модель на тренировочной выборке\n",
    "dtr_model.fit(features_train, target_train)"
   ]
  },
  {
   "cell_type": "markdown",
   "metadata": {},
   "source": [
    "Лучший результат модели на основе \"решающего дерева\", на обучающей выборке:\n",
    " - время обучения модели: **1.54 s**;\n",
    " - метрика RMSE: **1288.7318889679577**;\n",
    " - при гиперпараметрах модели:\n",
    "   * `splitter` - **best**;\n",
    "   * `max_depth` -  **12**."
   ]
  },
  {
   "cell_type": "markdown",
   "metadata": {},
   "source": [
    "**49. Исследуем модель на основе \"случайного леса\".**"
   ]
  },
  {
   "cell_type": "code",
   "execution_count": 78,
   "metadata": {},
   "outputs": [
    {
     "name": "stdout",
     "output_type": "stream",
     "text": [
      "=========== Cлучайный лес (обучающая выборка) ============\n",
      "Лучшие параметры (CV score=1131.865):\n",
      "{'max_depth': 20, 'n_estimators': 100}\n",
      "RMSE: 1131.86490905533\n",
      "==========================================================\n",
      "CPU times: user 3min 22s, sys: 1.04 s, total: 3min 23s\n",
      "Wall time: 16min 20s\n"
     ]
    }
   ],
   "source": [
    "%%time\n",
    "\n",
    "rfr_model = RandomForestRegressor(random_state=random_state, n_jobs=-1)\n",
    "\n",
    "param_grid = { 'n_estimators' : [100],\n",
    "               'max_depth' : [20] }\n",
    "\n",
    "print(\"=========== Cлучайный лес (обучающая выборка) ============\")\n",
    "# найдем лучшие гиперпараметры, на обучающей выборке\n",
    "gscv_rfr = model_research(rfr_model, features_train, target_train, param_grid)\n",
    "\n",
    "print(\"RMSE:\", -gscv_rfr.best_score_)\n",
    "print(\"==========================================================\")"
   ]
  },
  {
   "cell_type": "code",
   "execution_count": 79,
   "metadata": {},
   "outputs": [],
   "source": [
    "rfr_model = RandomForestRegressor(n_estimators=100, max_depth=20, random_state=random_state, n_jobs=-1)"
   ]
  },
  {
   "cell_type": "code",
   "execution_count": 80,
   "metadata": {},
   "outputs": [
    {
     "name": "stdout",
     "output_type": "stream",
     "text": [
      "CPU times: user 2min 58s, sys: 312 ms, total: 2min 59s\n",
      "Wall time: 23.8 s\n"
     ]
    },
    {
     "data": {
      "text/html": [
       "<style>#sk-container-id-2 {color: black;}#sk-container-id-2 pre{padding: 0;}#sk-container-id-2 div.sk-toggleable {background-color: white;}#sk-container-id-2 label.sk-toggleable__label {cursor: pointer;display: block;width: 100%;margin-bottom: 0;padding: 0.3em;box-sizing: border-box;text-align: center;}#sk-container-id-2 label.sk-toggleable__label-arrow:before {content: \"▸\";float: left;margin-right: 0.25em;color: #696969;}#sk-container-id-2 label.sk-toggleable__label-arrow:hover:before {color: black;}#sk-container-id-2 div.sk-estimator:hover label.sk-toggleable__label-arrow:before {color: black;}#sk-container-id-2 div.sk-toggleable__content {max-height: 0;max-width: 0;overflow: hidden;text-align: left;background-color: #f0f8ff;}#sk-container-id-2 div.sk-toggleable__content pre {margin: 0.2em;color: black;border-radius: 0.25em;background-color: #f0f8ff;}#sk-container-id-2 input.sk-toggleable__control:checked~div.sk-toggleable__content {max-height: 200px;max-width: 100%;overflow: auto;}#sk-container-id-2 input.sk-toggleable__control:checked~label.sk-toggleable__label-arrow:before {content: \"▾\";}#sk-container-id-2 div.sk-estimator input.sk-toggleable__control:checked~label.sk-toggleable__label {background-color: #d4ebff;}#sk-container-id-2 div.sk-label input.sk-toggleable__control:checked~label.sk-toggleable__label {background-color: #d4ebff;}#sk-container-id-2 input.sk-hidden--visually {border: 0;clip: rect(1px 1px 1px 1px);clip: rect(1px, 1px, 1px, 1px);height: 1px;margin: -1px;overflow: hidden;padding: 0;position: absolute;width: 1px;}#sk-container-id-2 div.sk-estimator {font-family: monospace;background-color: #f0f8ff;border: 1px dotted black;border-radius: 0.25em;box-sizing: border-box;margin-bottom: 0.5em;}#sk-container-id-2 div.sk-estimator:hover {background-color: #d4ebff;}#sk-container-id-2 div.sk-parallel-item::after {content: \"\";width: 100%;border-bottom: 1px solid gray;flex-grow: 1;}#sk-container-id-2 div.sk-label:hover label.sk-toggleable__label {background-color: #d4ebff;}#sk-container-id-2 div.sk-serial::before {content: \"\";position: absolute;border-left: 1px solid gray;box-sizing: border-box;top: 0;bottom: 0;left: 50%;z-index: 0;}#sk-container-id-2 div.sk-serial {display: flex;flex-direction: column;align-items: center;background-color: white;padding-right: 0.2em;padding-left: 0.2em;position: relative;}#sk-container-id-2 div.sk-item {position: relative;z-index: 1;}#sk-container-id-2 div.sk-parallel {display: flex;align-items: stretch;justify-content: center;background-color: white;position: relative;}#sk-container-id-2 div.sk-item::before, #sk-container-id-2 div.sk-parallel-item::before {content: \"\";position: absolute;border-left: 1px solid gray;box-sizing: border-box;top: 0;bottom: 0;left: 50%;z-index: -1;}#sk-container-id-2 div.sk-parallel-item {display: flex;flex-direction: column;z-index: 1;position: relative;background-color: white;}#sk-container-id-2 div.sk-parallel-item:first-child::after {align-self: flex-end;width: 50%;}#sk-container-id-2 div.sk-parallel-item:last-child::after {align-self: flex-start;width: 50%;}#sk-container-id-2 div.sk-parallel-item:only-child::after {width: 0;}#sk-container-id-2 div.sk-dashed-wrapped {border: 1px dashed gray;margin: 0 0.4em 0.5em 0.4em;box-sizing: border-box;padding-bottom: 0.4em;background-color: white;}#sk-container-id-2 div.sk-label label {font-family: monospace;font-weight: bold;display: inline-block;line-height: 1.2em;}#sk-container-id-2 div.sk-label-container {text-align: center;}#sk-container-id-2 div.sk-container {/* jupyter's `normalize.less` sets `[hidden] { display: none; }` but bootstrap.min.css set `[hidden] { display: none !important; }` so we also need the `!important` here to be able to override the default hidden behavior on the sphinx rendered scikit-learn.org. See: https://github.com/scikit-learn/scikit-learn/issues/21755 */display: inline-block !important;position: relative;}#sk-container-id-2 div.sk-text-repr-fallback {display: none;}</style><div id=\"sk-container-id-2\" class=\"sk-top-container\"><div class=\"sk-text-repr-fallback\"><pre>RandomForestRegressor(max_depth=17, n_jobs=-1, random_state=753)</pre><b>In a Jupyter environment, please rerun this cell to show the HTML representation or trust the notebook. <br />On GitHub, the HTML representation is unable to render, please try loading this page with nbviewer.org.</b></div><div class=\"sk-container\" hidden><div class=\"sk-item\"><div class=\"sk-estimator sk-toggleable\"><input class=\"sk-toggleable__control sk-hidden--visually\" id=\"sk-estimator-id-2\" type=\"checkbox\" checked><label for=\"sk-estimator-id-2\" class=\"sk-toggleable__label sk-toggleable__label-arrow\">RandomForestRegressor</label><div class=\"sk-toggleable__content\"><pre>RandomForestRegressor(max_depth=17, n_jobs=-1, random_state=753)</pre></div></div></div></div></div>"
      ],
      "text/plain": [
       "RandomForestRegressor(max_depth=17, n_jobs=-1, random_state=753)"
      ]
     },
     "execution_count": 80,
     "metadata": {},
     "output_type": "execute_result"
    }
   ],
   "source": [
    "%%time\n",
    "# измерим время обучения модели\n",
    "# обучим модель на тренировочной выборке\n",
    "rfr_model.fit(features_train, target_train)"
   ]
  },
  {
   "cell_type": "markdown",
   "metadata": {},
   "source": [
    "Лучший результат модели на основе \"случайного леса\", на обучающей выборке:\n",
    " - время обучения модели: **23.8 s**;\n",
    " - метрика RMSE: **1131.86490905533**;\n",
    " - при гиперпараметрах модели: \n",
    "   * `n_estimators` - **100**;\n",
    "   * `max_depth`    -  **20**."
   ]
  },
  {
   "cell_type": "markdown",
   "metadata": {},
   "source": [
    "**50. Исследуем модель на основе \"линейной регрессии\".**"
   ]
  },
  {
   "cell_type": "code",
   "execution_count": 81,
   "metadata": {},
   "outputs": [
    {
     "name": "stdout",
     "output_type": "stream",
     "text": [
      "=========== Линейная регрессия (обучающая выборка) ============\n",
      "Лучшие параметры (CV score=1829.428):\n",
      "{}\n",
      "RMSE: 1829.4277416078749\n",
      "==========================================================\n",
      "CPU times: user 165 ms, sys: 104 ms, total: 269 ms\n",
      "Wall time: 361 ms\n"
     ]
    }
   ],
   "source": [
    "%%time\n",
    "lr_model = LinearRegression(n_jobs=-1)\n",
    "\n",
    "param_grid = { }\n",
    "\n",
    "print(\"=========== Линейная регрессия (обучающая выборка) ============\")\n",
    "# найдем лучшие гиперпараметры, на обучающей выборке\n",
    "gscv_lr = model_research(lr_model, features_train, target_train, param_grid)\n",
    "\n",
    "print(\"RMSE:\", -gscv_lr.best_score_)\n",
    "print(\"==========================================================\")"
   ]
  },
  {
   "cell_type": "code",
   "execution_count": 82,
   "metadata": {},
   "outputs": [
    {
     "name": "stdout",
     "output_type": "stream",
     "text": [
      "CPU times: user 151 ms, sys: 120 ms, total: 271 ms\n",
      "Wall time: 51.8 ms\n"
     ]
    },
    {
     "data": {
      "text/html": [
       "<style>#sk-container-id-3 {color: black;}#sk-container-id-3 pre{padding: 0;}#sk-container-id-3 div.sk-toggleable {background-color: white;}#sk-container-id-3 label.sk-toggleable__label {cursor: pointer;display: block;width: 100%;margin-bottom: 0;padding: 0.3em;box-sizing: border-box;text-align: center;}#sk-container-id-3 label.sk-toggleable__label-arrow:before {content: \"▸\";float: left;margin-right: 0.25em;color: #696969;}#sk-container-id-3 label.sk-toggleable__label-arrow:hover:before {color: black;}#sk-container-id-3 div.sk-estimator:hover label.sk-toggleable__label-arrow:before {color: black;}#sk-container-id-3 div.sk-toggleable__content {max-height: 0;max-width: 0;overflow: hidden;text-align: left;background-color: #f0f8ff;}#sk-container-id-3 div.sk-toggleable__content pre {margin: 0.2em;color: black;border-radius: 0.25em;background-color: #f0f8ff;}#sk-container-id-3 input.sk-toggleable__control:checked~div.sk-toggleable__content {max-height: 200px;max-width: 100%;overflow: auto;}#sk-container-id-3 input.sk-toggleable__control:checked~label.sk-toggleable__label-arrow:before {content: \"▾\";}#sk-container-id-3 div.sk-estimator input.sk-toggleable__control:checked~label.sk-toggleable__label {background-color: #d4ebff;}#sk-container-id-3 div.sk-label input.sk-toggleable__control:checked~label.sk-toggleable__label {background-color: #d4ebff;}#sk-container-id-3 input.sk-hidden--visually {border: 0;clip: rect(1px 1px 1px 1px);clip: rect(1px, 1px, 1px, 1px);height: 1px;margin: -1px;overflow: hidden;padding: 0;position: absolute;width: 1px;}#sk-container-id-3 div.sk-estimator {font-family: monospace;background-color: #f0f8ff;border: 1px dotted black;border-radius: 0.25em;box-sizing: border-box;margin-bottom: 0.5em;}#sk-container-id-3 div.sk-estimator:hover {background-color: #d4ebff;}#sk-container-id-3 div.sk-parallel-item::after {content: \"\";width: 100%;border-bottom: 1px solid gray;flex-grow: 1;}#sk-container-id-3 div.sk-label:hover label.sk-toggleable__label {background-color: #d4ebff;}#sk-container-id-3 div.sk-serial::before {content: \"\";position: absolute;border-left: 1px solid gray;box-sizing: border-box;top: 0;bottom: 0;left: 50%;z-index: 0;}#sk-container-id-3 div.sk-serial {display: flex;flex-direction: column;align-items: center;background-color: white;padding-right: 0.2em;padding-left: 0.2em;position: relative;}#sk-container-id-3 div.sk-item {position: relative;z-index: 1;}#sk-container-id-3 div.sk-parallel {display: flex;align-items: stretch;justify-content: center;background-color: white;position: relative;}#sk-container-id-3 div.sk-item::before, #sk-container-id-3 div.sk-parallel-item::before {content: \"\";position: absolute;border-left: 1px solid gray;box-sizing: border-box;top: 0;bottom: 0;left: 50%;z-index: -1;}#sk-container-id-3 div.sk-parallel-item {display: flex;flex-direction: column;z-index: 1;position: relative;background-color: white;}#sk-container-id-3 div.sk-parallel-item:first-child::after {align-self: flex-end;width: 50%;}#sk-container-id-3 div.sk-parallel-item:last-child::after {align-self: flex-start;width: 50%;}#sk-container-id-3 div.sk-parallel-item:only-child::after {width: 0;}#sk-container-id-3 div.sk-dashed-wrapped {border: 1px dashed gray;margin: 0 0.4em 0.5em 0.4em;box-sizing: border-box;padding-bottom: 0.4em;background-color: white;}#sk-container-id-3 div.sk-label label {font-family: monospace;font-weight: bold;display: inline-block;line-height: 1.2em;}#sk-container-id-3 div.sk-label-container {text-align: center;}#sk-container-id-3 div.sk-container {/* jupyter's `normalize.less` sets `[hidden] { display: none; }` but bootstrap.min.css set `[hidden] { display: none !important; }` so we also need the `!important` here to be able to override the default hidden behavior on the sphinx rendered scikit-learn.org. See: https://github.com/scikit-learn/scikit-learn/issues/21755 */display: inline-block !important;position: relative;}#sk-container-id-3 div.sk-text-repr-fallback {display: none;}</style><div id=\"sk-container-id-3\" class=\"sk-top-container\"><div class=\"sk-text-repr-fallback\"><pre>LinearRegression(n_jobs=-1)</pre><b>In a Jupyter environment, please rerun this cell to show the HTML representation or trust the notebook. <br />On GitHub, the HTML representation is unable to render, please try loading this page with nbviewer.org.</b></div><div class=\"sk-container\" hidden><div class=\"sk-item\"><div class=\"sk-estimator sk-toggleable\"><input class=\"sk-toggleable__control sk-hidden--visually\" id=\"sk-estimator-id-3\" type=\"checkbox\" checked><label for=\"sk-estimator-id-3\" class=\"sk-toggleable__label sk-toggleable__label-arrow\">LinearRegression</label><div class=\"sk-toggleable__content\"><pre>LinearRegression(n_jobs=-1)</pre></div></div></div></div></div>"
      ],
      "text/plain": [
       "LinearRegression(n_jobs=-1)"
      ]
     },
     "execution_count": 82,
     "metadata": {},
     "output_type": "execute_result"
    }
   ],
   "source": [
    "%%time\n",
    "# измерим время обучения модели\n",
    "# обучим модель на тренировочной выборке\n",
    "lr_model.fit(features_train, target_train)"
   ]
  },
  {
   "cell_type": "markdown",
   "metadata": {},
   "source": [
    "Лучший результат модели на основе \"линейной регрессии\", на обучающей выборке:\n",
    " - время обучения модели: **51.8 ms**;\n",
    " - метрика RMSE: **1829.4277416078749**."
   ]
  },
  {
   "cell_type": "markdown",
   "metadata": {},
   "source": [
    "**51. Исследуем модель на основе \"градиентного бустинга\" - LightGBM.**"
   ]
  },
  {
   "cell_type": "code",
   "execution_count": 83,
   "metadata": {},
   "outputs": [
    {
     "name": "stdout",
     "output_type": "stream",
     "text": [
      "=========== Градиентный бустинг (обучающая выборка) ============\n",
      "[LightGBM] [Warning] Accuracy may be bad since you didn't explicitly set num_leaves OR 2^max_depth > num_leaves. (num_leaves=31).\n",
      "[LightGBM] [Warning] Accuracy may be bad since you didn't explicitly set num_leaves OR 2^max_depth > num_leaves. (num_leaves=31).\n",
      "[LightGBM] [Warning] Auto-choosing col-wise multi-threading, the overhead of testing was 0.599951 seconds.\n",
      "You can set `force_col_wise=true` to remove the overhead.\n",
      "[LightGBM] [Info] Total Bins 1627\n",
      "[LightGBM] [Info] Number of data points in the train set: 142099, number of used features: 10\n",
      "[LightGBM] [Info] Start training from score 3441.434472\n",
      "[LightGBM] [Warning] Accuracy may be bad since you didn't explicitly set num_leaves OR 2^max_depth > num_leaves. (num_leaves=31).\n",
      "[LightGBM] [Warning] Accuracy may be bad since you didn't explicitly set num_leaves OR 2^max_depth > num_leaves. (num_leaves=31).\n",
      "[LightGBM] [Warning] Accuracy may be bad since you didn't explicitly set num_leaves OR 2^max_depth > num_leaves. (num_leaves=31).\n",
      "[LightGBM] [Warning] Auto-choosing col-wise multi-threading, the overhead of testing was 0.543985 seconds.\n",
      "You can set `force_col_wise=true` to remove the overhead.\n",
      "[LightGBM] [Info] Total Bins 1625\n",
      "[LightGBM] [Info] Number of data points in the train set: 142099, number of used features: 10\n",
      "[LightGBM] [Info] Start training from score 3450.401136\n",
      "[LightGBM] [Warning] Accuracy may be bad since you didn't explicitly set num_leaves OR 2^max_depth > num_leaves. (num_leaves=31).\n",
      "[LightGBM] [Warning] Accuracy may be bad since you didn't explicitly set num_leaves OR 2^max_depth > num_leaves. (num_leaves=31).\n",
      "[LightGBM] [Warning] Accuracy may be bad since you didn't explicitly set num_leaves OR 2^max_depth > num_leaves. (num_leaves=31).\n",
      "[LightGBM] [Warning] Auto-choosing col-wise multi-threading, the overhead of testing was 0.615981 seconds.\n",
      "You can set `force_col_wise=true` to remove the overhead.\n",
      "[LightGBM] [Info] Total Bins 1627\n",
      "[LightGBM] [Info] Number of data points in the train set: 142100, number of used features: 10\n",
      "[LightGBM] [Info] Start training from score 3449.911619\n",
      "[LightGBM] [Warning] Accuracy may be bad since you didn't explicitly set num_leaves OR 2^max_depth > num_leaves. (num_leaves=31).\n",
      "[LightGBM] [Warning] Accuracy may be bad since you didn't explicitly set num_leaves OR 2^max_depth > num_leaves. (num_leaves=31).\n",
      "[LightGBM] [Warning] Accuracy may be bad since you didn't explicitly set num_leaves OR 2^max_depth > num_leaves. (num_leaves=31).\n",
      "[LightGBM] [Warning] Auto-choosing col-wise multi-threading, the overhead of testing was 0.635983 seconds.\n",
      "You can set `force_col_wise=true` to remove the overhead.\n",
      "[LightGBM] [Info] Total Bins 1627\n",
      "[LightGBM] [Info] Number of data points in the train set: 142099, number of used features: 10\n",
      "[LightGBM] [Info] Start training from score 3446.777993\n",
      "[LightGBM] [Warning] Accuracy may be bad since you didn't explicitly set num_leaves OR 2^max_depth > num_leaves. (num_leaves=31).\n",
      "[LightGBM] [Warning] Accuracy may be bad since you didn't explicitly set num_leaves OR 2^max_depth > num_leaves. (num_leaves=31).\n",
      "[LightGBM] [Warning] Accuracy may be bad since you didn't explicitly set num_leaves OR 2^max_depth > num_leaves. (num_leaves=31).\n",
      "[LightGBM] [Warning] Auto-choosing col-wise multi-threading, the overhead of testing was 0.535984 seconds.\n",
      "You can set `force_col_wise=true` to remove the overhead.\n",
      "[LightGBM] [Info] Total Bins 1624\n",
      "[LightGBM] [Info] Number of data points in the train set: 142099, number of used features: 10\n",
      "[LightGBM] [Info] Start training from score 3444.387709\n",
      "[LightGBM] [Warning] Accuracy may be bad since you didn't explicitly set num_leaves OR 2^max_depth > num_leaves. (num_leaves=31).\n",
      "[LightGBM] [Warning] Accuracy may be bad since you didn't explicitly set num_leaves OR 2^max_depth > num_leaves. (num_leaves=31).\n",
      "[LightGBM] [Warning] Accuracy may be bad since you didn't explicitly set num_leaves OR 2^max_depth > num_leaves. (num_leaves=31).\n",
      "[LightGBM] [Warning] Auto-choosing col-wise multi-threading, the overhead of testing was 0.720015 seconds.\n",
      "You can set `force_col_wise=true` to remove the overhead.\n",
      "[LightGBM] [Info] Total Bins 1627\n",
      "[LightGBM] [Info] Number of data points in the train set: 142099, number of used features: 10\n",
      "[LightGBM] [Info] Start training from score 3446.777993\n",
      "[LightGBM] [Warning] Accuracy may be bad since you didn't explicitly set num_leaves OR 2^max_depth > num_leaves. (num_leaves=31).\n",
      "[LightGBM] [Warning] Accuracy may be bad since you didn't explicitly set num_leaves OR 2^max_depth > num_leaves. (num_leaves=31).\n",
      "[LightGBM] [Warning] Accuracy may be bad since you didn't explicitly set num_leaves OR 2^max_depth > num_leaves. (num_leaves=31).\n",
      "[LightGBM] [Warning] Auto-choosing row-wise multi-threading, the overhead of testing was 0.001038 seconds.\n",
      "You can set `force_row_wise=true` to remove the overhead.\n",
      "And if memory is not enough, you can set `force_col_wise=true`.\n",
      "[LightGBM] [Info] Total Bins 1628\n",
      "[LightGBM] [Info] Number of data points in the train set: 177624, number of used features: 10\n",
      "[LightGBM] [Info] Start training from score 3446.582590\n",
      "Лучшие параметры (CV score=1168.627):\n",
      "{'max_depth': 17, 'n_estimators': 100}\n",
      "RMSE: 1168.6270472873662\n",
      "==========================================================\n",
      "CPU times: user 7.86 s, sys: 1.5 s, total: 9.36 s\n",
      "Wall time: 1h 48min 37s\n"
     ]
    }
   ],
   "source": [
    "%%time\n",
    "\n",
    "gbm_model = lgb.LGBMRegressor(random_state=random_state, n_jobs=-1)\n",
    "\n",
    "param_grid = { 'n_estimators' : [100],\n",
    "               'max_depth' : [17] }\n",
    "\n",
    "print(\"=========== Градиентный бустинг (обучающая выборка) ============\")\n",
    "# найдем лучшие гиперпараметры, на обучающей выборке\n",
    "gscv_gbm = model_research(gbm_model, features_train, target_train, param_grid)\n",
    "\n",
    "print(\"RMSE:\", -gscv_gbm.best_score_)\n",
    "print(\"==========================================================\")"
   ]
  },
  {
   "cell_type": "code",
   "execution_count": 84,
   "metadata": {},
   "outputs": [],
   "source": [
    "gbm_model = lgb.LGBMRegressor(n_estimators=100, max_depth=17, random_state=random_state, n_jobs=-1)"
   ]
  },
  {
   "cell_type": "code",
   "execution_count": 85,
   "metadata": {},
   "outputs": [
    {
     "name": "stdout",
     "output_type": "stream",
     "text": [
      "[LightGBM] [Warning] Accuracy may be bad since you didn't explicitly set num_leaves OR 2^max_depth > num_leaves. (num_leaves=31).\n",
      "[LightGBM] [Warning] Accuracy may be bad since you didn't explicitly set num_leaves OR 2^max_depth > num_leaves. (num_leaves=31).\n",
      "[LightGBM] [Warning] Auto-choosing row-wise multi-threading, the overhead of testing was 0.001059 seconds.\n",
      "You can set `force_row_wise=true` to remove the overhead.\n",
      "And if memory is not enough, you can set `force_col_wise=true`.\n",
      "[LightGBM] [Info] Total Bins 1628\n",
      "[LightGBM] [Info] Number of data points in the train set: 177624, number of used features: 10\n",
      "[LightGBM] [Info] Start training from score 3446.582590\n",
      "CPU times: user 2.77 s, sys: 7.73 ms, total: 2.77 s\n",
      "Wall time: 378 ms\n"
     ]
    },
    {
     "data": {
      "text/html": [
       "<style>#sk-container-id-4 {color: black;}#sk-container-id-4 pre{padding: 0;}#sk-container-id-4 div.sk-toggleable {background-color: white;}#sk-container-id-4 label.sk-toggleable__label {cursor: pointer;display: block;width: 100%;margin-bottom: 0;padding: 0.3em;box-sizing: border-box;text-align: center;}#sk-container-id-4 label.sk-toggleable__label-arrow:before {content: \"▸\";float: left;margin-right: 0.25em;color: #696969;}#sk-container-id-4 label.sk-toggleable__label-arrow:hover:before {color: black;}#sk-container-id-4 div.sk-estimator:hover label.sk-toggleable__label-arrow:before {color: black;}#sk-container-id-4 div.sk-toggleable__content {max-height: 0;max-width: 0;overflow: hidden;text-align: left;background-color: #f0f8ff;}#sk-container-id-4 div.sk-toggleable__content pre {margin: 0.2em;color: black;border-radius: 0.25em;background-color: #f0f8ff;}#sk-container-id-4 input.sk-toggleable__control:checked~div.sk-toggleable__content {max-height: 200px;max-width: 100%;overflow: auto;}#sk-container-id-4 input.sk-toggleable__control:checked~label.sk-toggleable__label-arrow:before {content: \"▾\";}#sk-container-id-4 div.sk-estimator input.sk-toggleable__control:checked~label.sk-toggleable__label {background-color: #d4ebff;}#sk-container-id-4 div.sk-label input.sk-toggleable__control:checked~label.sk-toggleable__label {background-color: #d4ebff;}#sk-container-id-4 input.sk-hidden--visually {border: 0;clip: rect(1px 1px 1px 1px);clip: rect(1px, 1px, 1px, 1px);height: 1px;margin: -1px;overflow: hidden;padding: 0;position: absolute;width: 1px;}#sk-container-id-4 div.sk-estimator {font-family: monospace;background-color: #f0f8ff;border: 1px dotted black;border-radius: 0.25em;box-sizing: border-box;margin-bottom: 0.5em;}#sk-container-id-4 div.sk-estimator:hover {background-color: #d4ebff;}#sk-container-id-4 div.sk-parallel-item::after {content: \"\";width: 100%;border-bottom: 1px solid gray;flex-grow: 1;}#sk-container-id-4 div.sk-label:hover label.sk-toggleable__label {background-color: #d4ebff;}#sk-container-id-4 div.sk-serial::before {content: \"\";position: absolute;border-left: 1px solid gray;box-sizing: border-box;top: 0;bottom: 0;left: 50%;z-index: 0;}#sk-container-id-4 div.sk-serial {display: flex;flex-direction: column;align-items: center;background-color: white;padding-right: 0.2em;padding-left: 0.2em;position: relative;}#sk-container-id-4 div.sk-item {position: relative;z-index: 1;}#sk-container-id-4 div.sk-parallel {display: flex;align-items: stretch;justify-content: center;background-color: white;position: relative;}#sk-container-id-4 div.sk-item::before, #sk-container-id-4 div.sk-parallel-item::before {content: \"\";position: absolute;border-left: 1px solid gray;box-sizing: border-box;top: 0;bottom: 0;left: 50%;z-index: -1;}#sk-container-id-4 div.sk-parallel-item {display: flex;flex-direction: column;z-index: 1;position: relative;background-color: white;}#sk-container-id-4 div.sk-parallel-item:first-child::after {align-self: flex-end;width: 50%;}#sk-container-id-4 div.sk-parallel-item:last-child::after {align-self: flex-start;width: 50%;}#sk-container-id-4 div.sk-parallel-item:only-child::after {width: 0;}#sk-container-id-4 div.sk-dashed-wrapped {border: 1px dashed gray;margin: 0 0.4em 0.5em 0.4em;box-sizing: border-box;padding-bottom: 0.4em;background-color: white;}#sk-container-id-4 div.sk-label label {font-family: monospace;font-weight: bold;display: inline-block;line-height: 1.2em;}#sk-container-id-4 div.sk-label-container {text-align: center;}#sk-container-id-4 div.sk-container {/* jupyter's `normalize.less` sets `[hidden] { display: none; }` but bootstrap.min.css set `[hidden] { display: none !important; }` so we also need the `!important` here to be able to override the default hidden behavior on the sphinx rendered scikit-learn.org. See: https://github.com/scikit-learn/scikit-learn/issues/21755 */display: inline-block !important;position: relative;}#sk-container-id-4 div.sk-text-repr-fallback {display: none;}</style><div id=\"sk-container-id-4\" class=\"sk-top-container\"><div class=\"sk-text-repr-fallback\"><pre>LGBMRegressor(max_depth=16, n_jobs=-1, random_state=753)</pre><b>In a Jupyter environment, please rerun this cell to show the HTML representation or trust the notebook. <br />On GitHub, the HTML representation is unable to render, please try loading this page with nbviewer.org.</b></div><div class=\"sk-container\" hidden><div class=\"sk-item\"><div class=\"sk-estimator sk-toggleable\"><input class=\"sk-toggleable__control sk-hidden--visually\" id=\"sk-estimator-id-4\" type=\"checkbox\" checked><label for=\"sk-estimator-id-4\" class=\"sk-toggleable__label sk-toggleable__label-arrow\">LGBMRegressor</label><div class=\"sk-toggleable__content\"><pre>LGBMRegressor(max_depth=16, n_jobs=-1, random_state=753)</pre></div></div></div></div></div>"
      ],
      "text/plain": [
       "LGBMRegressor(max_depth=16, n_jobs=-1, random_state=753)"
      ]
     },
     "execution_count": 85,
     "metadata": {},
     "output_type": "execute_result"
    }
   ],
   "source": [
    "%%time\n",
    "# измерим время обучения модели\n",
    "# обучим модель на тренировочной выборке\n",
    "gbm_model.fit(features_train, target_train)"
   ]
  },
  {
   "cell_type": "markdown",
   "metadata": {},
   "source": [
    "Лучший результат модели на основе \"градиентного бустинга\", на обучающей выборке:\n",
    " - время обучения модели: **378 ms**;\n",
    " - метрика RMSE: **1168.6270472873662**;\n",
    "   - при гиперпараметрах модели: \n",
    "   * `n_estimators`  - **100**;\n",
    "   * `max_depth`     - **17**."
   ]
  },
  {
   "cell_type": "markdown",
   "metadata": {},
   "source": [
    "**52. Построим константную модель (`baseline` модель) и проверим её.**\n",
    "\n",
    "Данная модель машинного обучения позволит нам проконтролировать, что наши более сложные модели дают нам прирост качества прогнозирования."
   ]
  },
  {
   "cell_type": "code",
   "execution_count": 86,
   "metadata": {},
   "outputs": [
    {
     "name": "stdout",
     "output_type": "stream",
     "text": [
      "==== Dummy регрессия (baseline) (обучающая выборка) ======\n",
      "Лучшие параметры (CV score=2655.691):\n",
      "{}\n",
      "RMSE: 2655.690810884079\n",
      "==========================================================\n",
      "CPU times: user 42.6 ms, sys: 36.2 ms, total: 78.8 ms\n",
      "Wall time: 204 ms\n"
     ]
    }
   ],
   "source": [
    "%%time\n",
    "dr_model = DummyRegressor()\n",
    "\n",
    "param_grid = {}\n",
    "\n",
    "print(\"==== Dummy регрессия (baseline) (обучающая выборка) ======\")\n",
    "# найдем лучшие гиперпараметры, на обучающей выборке\n",
    "gscv_dr = model_research(dr_model, features_train, target_train, param_grid)\n",
    "\n",
    "print(\"RMSE:\", -gscv_dr.best_score_)\n",
    "print(\"==========================================================\")"
   ]
  },
  {
   "cell_type": "code",
   "execution_count": 87,
   "metadata": {},
   "outputs": [
    {
     "name": "stdout",
     "output_type": "stream",
     "text": [
      "CPU times: user 49 ms, sys: 12.1 ms, total: 61 ms\n",
      "Wall time: 185 ms\n"
     ]
    },
    {
     "data": {
      "text/html": [
       "<style>#sk-container-id-5 {color: black;}#sk-container-id-5 pre{padding: 0;}#sk-container-id-5 div.sk-toggleable {background-color: white;}#sk-container-id-5 label.sk-toggleable__label {cursor: pointer;display: block;width: 100%;margin-bottom: 0;padding: 0.3em;box-sizing: border-box;text-align: center;}#sk-container-id-5 label.sk-toggleable__label-arrow:before {content: \"▸\";float: left;margin-right: 0.25em;color: #696969;}#sk-container-id-5 label.sk-toggleable__label-arrow:hover:before {color: black;}#sk-container-id-5 div.sk-estimator:hover label.sk-toggleable__label-arrow:before {color: black;}#sk-container-id-5 div.sk-toggleable__content {max-height: 0;max-width: 0;overflow: hidden;text-align: left;background-color: #f0f8ff;}#sk-container-id-5 div.sk-toggleable__content pre {margin: 0.2em;color: black;border-radius: 0.25em;background-color: #f0f8ff;}#sk-container-id-5 input.sk-toggleable__control:checked~div.sk-toggleable__content {max-height: 200px;max-width: 100%;overflow: auto;}#sk-container-id-5 input.sk-toggleable__control:checked~label.sk-toggleable__label-arrow:before {content: \"▾\";}#sk-container-id-5 div.sk-estimator input.sk-toggleable__control:checked~label.sk-toggleable__label {background-color: #d4ebff;}#sk-container-id-5 div.sk-label input.sk-toggleable__control:checked~label.sk-toggleable__label {background-color: #d4ebff;}#sk-container-id-5 input.sk-hidden--visually {border: 0;clip: rect(1px 1px 1px 1px);clip: rect(1px, 1px, 1px, 1px);height: 1px;margin: -1px;overflow: hidden;padding: 0;position: absolute;width: 1px;}#sk-container-id-5 div.sk-estimator {font-family: monospace;background-color: #f0f8ff;border: 1px dotted black;border-radius: 0.25em;box-sizing: border-box;margin-bottom: 0.5em;}#sk-container-id-5 div.sk-estimator:hover {background-color: #d4ebff;}#sk-container-id-5 div.sk-parallel-item::after {content: \"\";width: 100%;border-bottom: 1px solid gray;flex-grow: 1;}#sk-container-id-5 div.sk-label:hover label.sk-toggleable__label {background-color: #d4ebff;}#sk-container-id-5 div.sk-serial::before {content: \"\";position: absolute;border-left: 1px solid gray;box-sizing: border-box;top: 0;bottom: 0;left: 50%;z-index: 0;}#sk-container-id-5 div.sk-serial {display: flex;flex-direction: column;align-items: center;background-color: white;padding-right: 0.2em;padding-left: 0.2em;position: relative;}#sk-container-id-5 div.sk-item {position: relative;z-index: 1;}#sk-container-id-5 div.sk-parallel {display: flex;align-items: stretch;justify-content: center;background-color: white;position: relative;}#sk-container-id-5 div.sk-item::before, #sk-container-id-5 div.sk-parallel-item::before {content: \"\";position: absolute;border-left: 1px solid gray;box-sizing: border-box;top: 0;bottom: 0;left: 50%;z-index: -1;}#sk-container-id-5 div.sk-parallel-item {display: flex;flex-direction: column;z-index: 1;position: relative;background-color: white;}#sk-container-id-5 div.sk-parallel-item:first-child::after {align-self: flex-end;width: 50%;}#sk-container-id-5 div.sk-parallel-item:last-child::after {align-self: flex-start;width: 50%;}#sk-container-id-5 div.sk-parallel-item:only-child::after {width: 0;}#sk-container-id-5 div.sk-dashed-wrapped {border: 1px dashed gray;margin: 0 0.4em 0.5em 0.4em;box-sizing: border-box;padding-bottom: 0.4em;background-color: white;}#sk-container-id-5 div.sk-label label {font-family: monospace;font-weight: bold;display: inline-block;line-height: 1.2em;}#sk-container-id-5 div.sk-label-container {text-align: center;}#sk-container-id-5 div.sk-container {/* jupyter's `normalize.less` sets `[hidden] { display: none; }` but bootstrap.min.css set `[hidden] { display: none !important; }` so we also need the `!important` here to be able to override the default hidden behavior on the sphinx rendered scikit-learn.org. See: https://github.com/scikit-learn/scikit-learn/issues/21755 */display: inline-block !important;position: relative;}#sk-container-id-5 div.sk-text-repr-fallback {display: none;}</style><div id=\"sk-container-id-5\" class=\"sk-top-container\"><div class=\"sk-text-repr-fallback\"><pre>GridSearchCV(cv=KFold(n_splits=5, random_state=753, shuffle=True),\n",
       "             estimator=DummyRegressor(), n_jobs=-1, param_grid={},\n",
       "             scoring=&#x27;neg_root_mean_squared_error&#x27;)</pre><b>In a Jupyter environment, please rerun this cell to show the HTML representation or trust the notebook. <br />On GitHub, the HTML representation is unable to render, please try loading this page with nbviewer.org.</b></div><div class=\"sk-container\" hidden><div class=\"sk-item sk-dashed-wrapped\"><div class=\"sk-label-container\"><div class=\"sk-label sk-toggleable\"><input class=\"sk-toggleable__control sk-hidden--visually\" id=\"sk-estimator-id-5\" type=\"checkbox\" ><label for=\"sk-estimator-id-5\" class=\"sk-toggleable__label sk-toggleable__label-arrow\">GridSearchCV</label><div class=\"sk-toggleable__content\"><pre>GridSearchCV(cv=KFold(n_splits=5, random_state=753, shuffle=True),\n",
       "             estimator=DummyRegressor(), n_jobs=-1, param_grid={},\n",
       "             scoring=&#x27;neg_root_mean_squared_error&#x27;)</pre></div></div></div><div class=\"sk-parallel\"><div class=\"sk-parallel-item\"><div class=\"sk-item\"><div class=\"sk-label-container\"><div class=\"sk-label sk-toggleable\"><input class=\"sk-toggleable__control sk-hidden--visually\" id=\"sk-estimator-id-6\" type=\"checkbox\" ><label for=\"sk-estimator-id-6\" class=\"sk-toggleable__label sk-toggleable__label-arrow\">estimator: DummyRegressor</label><div class=\"sk-toggleable__content\"><pre>DummyRegressor()</pre></div></div></div><div class=\"sk-serial\"><div class=\"sk-item\"><div class=\"sk-estimator sk-toggleable\"><input class=\"sk-toggleable__control sk-hidden--visually\" id=\"sk-estimator-id-7\" type=\"checkbox\" ><label for=\"sk-estimator-id-7\" class=\"sk-toggleable__label sk-toggleable__label-arrow\">DummyRegressor</label><div class=\"sk-toggleable__content\"><pre>DummyRegressor()</pre></div></div></div></div></div></div></div></div></div></div>"
      ],
      "text/plain": [
       "GridSearchCV(cv=KFold(n_splits=5, random_state=753, shuffle=True),\n",
       "             estimator=DummyRegressor(), n_jobs=-1, param_grid={},\n",
       "             scoring='neg_root_mean_squared_error')"
      ]
     },
     "execution_count": 87,
     "metadata": {},
     "output_type": "execute_result"
    }
   ],
   "source": [
    "%%time\n",
    "# измерим время обучения модели\n",
    "# обучим модель на тренировочной выборке\n",
    "gscv_dr.fit(features_train, target_train)"
   ]
  },
  {
   "cell_type": "markdown",
   "metadata": {},
   "source": [
    "Лучший результат модели на основе \"Dummy регрессии\", на обучающей выборке:\n",
    " - время обучения модели: **185 ms**;\n",
    " - метрика RMSE: **2655.690810884079**."
   ]
  },
  {
   "cell_type": "markdown",
   "metadata": {},
   "source": [
    "**Общие выводы**\n",
    "\n",
    "\n",
    "Все рассматриваемые модели, абсолютно адекватны. Они показали результат лучше, чем наша `Dummy`(baseline) модель.\n",
    "\n",
    "Лучшая модель, на обучающей выборке, по метрике качества `RMSE` : `RandomForestRegressor` (\"случайный лес\").\n",
    "\n",
    "Время обучения модели: **23.8 s**.\n",
    "\n",
    "`RMSE` --  **1131.86490905533**, при гиперпараметрах модели:\n",
    "* `n_estimators` - **100**;\n",
    "* `max_depth`    -  **20**."
   ]
  },
  {
   "cell_type": "markdown",
   "metadata": {},
   "source": [
    "## Тестирование модели"
   ]
  },
  {
   "cell_type": "code",
   "execution_count": 88,
   "metadata": {},
   "outputs": [],
   "source": [
    "# функция инкапсулирующая предсказание и вычисление RMSE этого предсказания для абстрактной модели\n",
    "def model_testing(gscv, features, target, model_name):\n",
    "    \n",
    "    print(f\"=========== {model_name} (тестовая выборка) ============\")\n",
    "    predictions = gscv.predict(features)\n",
    "    print(\"RMSE:\", mean_squared_error(target, predictions, squared=False))\n",
    "    print(\"==========================================================\")"
   ]
  },
  {
   "cell_type": "markdown",
   "metadata": {},
   "source": [
    "**53. Проверим качество выбранной модели на тестовой выборке.**\n",
    "\n",
    "Модель: \"Случайный лес\"."
   ]
  },
  {
   "cell_type": "code",
   "execution_count": 89,
   "metadata": {},
   "outputs": [
    {
     "name": "stdout",
     "output_type": "stream",
     "text": [
      "=========== Cлучайный лес (тестовая выборка) ============\n",
      "RMSE: 1111.3556392114483\n",
      "==========================================================\n"
     ]
    }
   ],
   "source": [
    "# получим предсказание и вычислим его RMSE\n",
    "model_testing(gscv_rfr, \n",
    "              features_test,\n",
    "              target_test,\n",
    "              'Cлучайный лес')"
   ]
  },
  {
   "cell_type": "code",
   "execution_count": 90,
   "metadata": {},
   "outputs": [
    {
     "name": "stdout",
     "output_type": "stream",
     "text": [
      "CPU times: user 2.62 s, sys: 7.67 ms, total: 2.63 s\n",
      "Wall time: 359 ms\n"
     ]
    }
   ],
   "source": [
    "%%time\n",
    "# измерим время предсказания модели\n",
    "# получим предсказания модели на тестовой выборке\n",
    "gscv_rfr.predict(features_test);"
   ]
  },
  {
   "cell_type": "code",
   "execution_count": 91,
   "metadata": {},
   "outputs": [
    {
     "name": "stdout",
     "output_type": "stream",
     "text": [
      "=========== Решающее дерево (тестовая выборка) ============\n",
      "RMSE: 1275.1073012747722\n",
      "==========================================================\n"
     ]
    }
   ],
   "source": [
    "# получим предсказание и вычислим его RMSE\n",
    "model_testing(gscv_dtr, \n",
    "              features_test,\n",
    "              target_test,\n",
    "              'Решающее дерево')"
   ]
  },
  {
   "cell_type": "code",
   "execution_count": 92,
   "metadata": {},
   "outputs": [
    {
     "name": "stdout",
     "output_type": "stream",
     "text": [
      "CPU times: user 8.22 ms, sys: 2 µs, total: 8.23 ms\n",
      "Wall time: 8.04 ms\n"
     ]
    }
   ],
   "source": [
    "%%time\n",
    "# измерим время предсказания модели\n",
    "# получим предсказания модели на тестовой выборке\n",
    "gscv_dtr.predict(features_test);"
   ]
  },
  {
   "cell_type": "code",
   "execution_count": 93,
   "metadata": {},
   "outputs": [
    {
     "name": "stdout",
     "output_type": "stream",
     "text": [
      "CPU times: user 5.7 ms, sys: 20 µs, total: 5.72 ms\n",
      "Wall time: 2.76 ms\n"
     ]
    }
   ],
   "source": [
    "%%time\n",
    "# измерим время предсказания модели\n",
    "# получим предсказания модели на тестовой выборке\n",
    "gscv_lr.predict(features_test);"
   ]
  },
  {
   "cell_type": "code",
   "execution_count": 94,
   "metadata": {},
   "outputs": [
    {
     "name": "stdout",
     "output_type": "stream",
     "text": [
      "=========== Градиентный бустинг (тестовая выборка) ============\n",
      "[LightGBM] [Warning] Accuracy may be bad since you didn't explicitly set num_leaves OR 2^max_depth > num_leaves. (num_leaves=31).\n",
      "RMSE: 1164.3673836589799\n",
      "==========================================================\n"
     ]
    }
   ],
   "source": [
    "# получим предсказание и вычислим его RMSE\n",
    "model_testing(gscv_gbm, \n",
    "              features_test,\n",
    "              target_test,\n",
    "              'Градиентный бустинг')"
   ]
  },
  {
   "cell_type": "code",
   "execution_count": 95,
   "metadata": {},
   "outputs": [
    {
     "name": "stdout",
     "output_type": "stream",
     "text": [
      "[LightGBM] [Warning] Accuracy may be bad since you didn't explicitly set num_leaves OR 2^max_depth > num_leaves. (num_leaves=31).\n",
      "CPU times: user 603 ms, sys: 0 ns, total: 603 ms\n",
      "Wall time: 89.2 ms\n"
     ]
    }
   ],
   "source": [
    "%%time\n",
    "# измерим время предсказания модели\n",
    "# получим предсказания модели на тестовой выборке\n",
    "gscv_gbm.predict(features_test);"
   ]
  },
  {
   "cell_type": "code",
   "execution_count": 96,
   "metadata": {},
   "outputs": [
    {
     "name": "stdout",
     "output_type": "stream",
     "text": [
      "=========== Dummy регрессия (тестовая выборка) ============\n",
      "RMSE: 2664.6176496204525\n",
      "==========================================================\n"
     ]
    }
   ],
   "source": [
    "# получим предсказание и вычислим его RMSE\n",
    "model_testing(gscv_dr, \n",
    "              features_test,\n",
    "              target_test,\n",
    "              'Dummy регрессия')"
   ]
  },
  {
   "cell_type": "code",
   "execution_count": 97,
   "metadata": {},
   "outputs": [
    {
     "name": "stdout",
     "output_type": "stream",
     "text": [
      "CPU times: user 511 µs, sys: 7 µs, total: 518 µs\n",
      "Wall time: 710 µs\n"
     ]
    }
   ],
   "source": [
    "%%time\n",
    "# измерим время предсказания модели\n",
    "# получим предсказания модели на тестовой выборке\n",
    "gscv_dr.predict(features_test);"
   ]
  },
  {
   "cell_type": "markdown",
   "metadata": {},
   "source": [
    "**Выводы**\n",
    "\n",
    "Значение метрики: `RMSE` (минимальная ошибка), на тестовой выборке, модели `RandomForestRegressor` : **1111.3556392114483**, не существенно отличаеся от значения `RMSE` полученной на обучающей выборке: **1131.86490905533**. Время предсказания модели (на тестовой выборке): **359 ms**.\n",
    "\n",
    "Является лучшим значением на тестовой выборке среди всех моделей, что дополнительно подтверждает правильность выбора лучшей модели ML на [предыдущем этапе](#models_research) исследования. "
   ]
  },
  {
   "cell_type": "markdown",
   "metadata": {},
   "source": [
    "## Итоги проекта\n",
    "\n",
    "1. Лучшая модель по критерию `RMSE` : `RandomForestRegressor`.\n",
    "\n",
    "2. Показатели качества модели, на тестовой выборке:\n",
    "- `RMSE`:   **1111.3556392114483** (минимальная ошибка);\n",
    "- время обучения модели (на обучающей выборке): **23.8 s**;\n",
    "- время предсказания модели: **359 ms**.\n",
    "\n",
    "Гиперпараметры модели:\n",
    "  * `n_estimators` - **100**;\n",
    "  * `max_depth`    -  **20**.\n",
    "\n",
    "\n",
    "3. Критерии качества прогнозирования модели, полученные на обучающей выборке, несущественно отличаются от критериев полученных на тестовой выборке, что говорит об устойчивости модели к новым входным данным.\n",
    "\n",
    "    \n",
    "*Рекомендации по улучшению модели*:\n",
    "   - собрать большой массив исходных данных для обучения модели;\n",
    "   - обучить модель на большом массиве данных;\n",
    "   - скорректировать гиперпараметры;\n",
    "   - обработать пропуски, в определенных признаках, в ручную. Получив данные, для этого, из справочников в открытом доступе."
   ]
  }
 ],
 "metadata": {
  "ExecuteTimeLog": [
   {
    "duration": 69885,
    "start_time": "2023-07-24T23:18:31.423Z"
   },
   {
    "duration": 1641,
    "start_time": "2023-07-24T23:19:41.310Z"
   },
   {
    "duration": 24,
    "start_time": "2023-07-24T23:19:42.953Z"
   },
   {
    "duration": 150,
    "start_time": "2023-07-24T23:19:42.980Z"
   },
   {
    "duration": 2120,
    "start_time": "2023-07-24T23:19:43.131Z"
   },
   {
    "duration": 107,
    "start_time": "2023-07-24T23:19:45.253Z"
   },
   {
    "duration": 2,
    "start_time": "2023-07-24T23:19:45.362Z"
   },
   {
    "duration": 6,
    "start_time": "2023-07-24T23:19:45.374Z"
   },
   {
    "duration": 59,
    "start_time": "2023-07-24T23:19:45.383Z"
   },
   {
    "duration": 4,
    "start_time": "2023-07-24T23:19:45.444Z"
   },
   {
    "duration": 18,
    "start_time": "2023-07-24T23:19:45.450Z"
   },
   {
    "duration": 182,
    "start_time": "2023-07-24T23:19:45.470Z"
   },
   {
    "duration": 5,
    "start_time": "2023-07-24T23:19:45.654Z"
   },
   {
    "duration": 16,
    "start_time": "2023-07-24T23:19:45.661Z"
   },
   {
    "duration": 21,
    "start_time": "2023-07-24T23:19:45.679Z"
   },
   {
    "duration": 14,
    "start_time": "2023-07-24T23:19:45.703Z"
   },
   {
    "duration": 17,
    "start_time": "2023-07-24T23:19:45.719Z"
   },
   {
    "duration": 64,
    "start_time": "2023-07-24T23:19:45.738Z"
   },
   {
    "duration": 4,
    "start_time": "2023-07-24T23:19:45.804Z"
   },
   {
    "duration": 16,
    "start_time": "2023-07-24T23:19:45.809Z"
   },
   {
    "duration": 156,
    "start_time": "2023-07-24T23:19:45.827Z"
   },
   {
    "duration": 12,
    "start_time": "2023-07-24T23:19:45.985Z"
   },
   {
    "duration": 53,
    "start_time": "2023-07-24T23:19:46.000Z"
   },
   {
    "duration": 708,
    "start_time": "2023-07-24T23:19:46.054Z"
   },
   {
    "duration": 290,
    "start_time": "2023-07-24T23:19:46.764Z"
   },
   {
    "duration": 304,
    "start_time": "2023-07-24T23:19:47.056Z"
   },
   {
    "duration": 94,
    "start_time": "2023-07-24T23:19:47.363Z"
   },
   {
    "duration": 97,
    "start_time": "2023-07-24T23:19:47.462Z"
   },
   {
    "duration": 29,
    "start_time": "2023-07-24T23:19:47.561Z"
   },
   {
    "duration": 47,
    "start_time": "2023-07-24T23:19:47.593Z"
   },
   {
    "duration": 114,
    "start_time": "2023-07-24T23:19:47.642Z"
   },
   {
    "duration": 3,
    "start_time": "2023-07-24T23:19:47.758Z"
   },
   {
    "duration": 79,
    "start_time": "2023-07-24T23:19:47.763Z"
   },
   {
    "duration": 255,
    "start_time": "2023-07-24T23:19:47.844Z"
   },
   {
    "duration": 515,
    "start_time": "2023-07-24T23:19:48.101Z"
   },
   {
    "duration": 5,
    "start_time": "2023-07-24T23:19:48.618Z"
   },
   {
    "duration": 15,
    "start_time": "2023-07-24T23:19:48.624Z"
   },
   {
    "duration": 52,
    "start_time": "2023-07-24T23:19:48.641Z"
   },
   {
    "duration": 23,
    "start_time": "2023-07-24T23:19:48.695Z"
   },
   {
    "duration": 85,
    "start_time": "2023-07-24T23:19:48.719Z"
   },
   {
    "duration": 26,
    "start_time": "2023-07-24T23:19:48.806Z"
   },
   {
    "duration": 66,
    "start_time": "2023-07-24T23:19:48.834Z"
   },
   {
    "duration": 59,
    "start_time": "2023-07-24T23:19:48.901Z"
   },
   {
    "duration": 280,
    "start_time": "2023-07-24T23:19:48.962Z"
   },
   {
    "duration": 15,
    "start_time": "2023-07-24T23:19:49.244Z"
   },
   {
    "duration": 22,
    "start_time": "2023-07-24T23:19:49.277Z"
   },
   {
    "duration": 39,
    "start_time": "2023-07-24T23:19:49.301Z"
   },
   {
    "duration": 233,
    "start_time": "2023-07-24T23:19:49.342Z"
   },
   {
    "duration": 257,
    "start_time": "2023-07-24T23:19:49.577Z"
   },
   {
    "duration": 6,
    "start_time": "2023-07-24T23:19:49.836Z"
   },
   {
    "duration": 13,
    "start_time": "2023-07-24T23:19:49.843Z"
   },
   {
    "duration": 52,
    "start_time": "2023-07-24T23:19:49.858Z"
   },
   {
    "duration": 17,
    "start_time": "2023-07-24T23:19:49.913Z"
   },
   {
    "duration": 3,
    "start_time": "2023-07-24T23:19:49.932Z"
   },
   {
    "duration": 89,
    "start_time": "2023-07-24T23:19:49.936Z"
   },
   {
    "duration": 6,
    "start_time": "2023-07-24T23:19:50.027Z"
   },
   {
    "duration": 18,
    "start_time": "2023-07-24T23:19:50.035Z"
   },
   {
    "duration": 31,
    "start_time": "2023-07-24T23:19:50.055Z"
   },
   {
    "duration": 26,
    "start_time": "2023-07-24T23:19:50.089Z"
   },
   {
    "duration": 9,
    "start_time": "2023-07-24T23:19:50.117Z"
   },
   {
    "duration": 19850,
    "start_time": "2023-07-24T23:20:11.224Z"
   },
   {
    "duration": 1242,
    "start_time": "2023-07-24T23:20:31.077Z"
   },
   {
    "duration": 26,
    "start_time": "2023-07-24T23:20:32.321Z"
   },
   {
    "duration": 128,
    "start_time": "2023-07-24T23:20:32.350Z"
   },
   {
    "duration": 2060,
    "start_time": "2023-07-24T23:20:32.480Z"
   },
   {
    "duration": 102,
    "start_time": "2023-07-24T23:20:34.543Z"
   },
   {
    "duration": 3,
    "start_time": "2023-07-24T23:20:34.646Z"
   },
   {
    "duration": 18,
    "start_time": "2023-07-24T23:20:34.650Z"
   },
   {
    "duration": 40,
    "start_time": "2023-07-24T23:20:34.669Z"
   },
   {
    "duration": 3,
    "start_time": "2023-07-24T23:20:34.712Z"
   },
   {
    "duration": 13,
    "start_time": "2023-07-24T23:20:34.717Z"
   },
   {
    "duration": 144,
    "start_time": "2023-07-24T23:20:34.732Z"
   },
   {
    "duration": 8,
    "start_time": "2023-07-24T23:20:34.878Z"
   },
   {
    "duration": 27,
    "start_time": "2023-07-24T23:20:34.889Z"
   },
   {
    "duration": 34,
    "start_time": "2023-07-24T23:20:34.917Z"
   },
   {
    "duration": 33,
    "start_time": "2023-07-24T23:20:34.953Z"
   },
   {
    "duration": 21,
    "start_time": "2023-07-24T23:20:34.988Z"
   },
   {
    "duration": 61,
    "start_time": "2023-07-24T23:20:35.011Z"
   },
   {
    "duration": 4,
    "start_time": "2023-07-24T23:20:35.073Z"
   },
   {
    "duration": 27,
    "start_time": "2023-07-24T23:20:35.079Z"
   },
   {
    "duration": 117,
    "start_time": "2023-07-24T23:20:35.108Z"
   },
   {
    "duration": 8,
    "start_time": "2023-07-24T23:20:35.226Z"
   },
   {
    "duration": 16,
    "start_time": "2023-07-24T23:20:35.236Z"
   },
   {
    "duration": 564,
    "start_time": "2023-07-24T23:20:35.254Z"
   },
   {
    "duration": 288,
    "start_time": "2023-07-24T23:20:35.819Z"
   },
   {
    "duration": 252,
    "start_time": "2023-07-24T23:20:36.109Z"
   },
   {
    "duration": 99,
    "start_time": "2023-07-24T23:20:36.363Z"
   },
   {
    "duration": 67,
    "start_time": "2023-07-24T23:20:36.467Z"
   },
   {
    "duration": 31,
    "start_time": "2023-07-24T23:20:36.536Z"
   },
   {
    "duration": 57,
    "start_time": "2023-07-24T23:20:36.569Z"
   },
   {
    "duration": 79,
    "start_time": "2023-07-24T23:20:36.627Z"
   },
   {
    "duration": 3,
    "start_time": "2023-07-24T23:20:36.707Z"
   },
   {
    "duration": 63,
    "start_time": "2023-07-24T23:20:36.711Z"
   },
   {
    "duration": 196,
    "start_time": "2023-07-24T23:20:36.778Z"
   },
   {
    "duration": 441,
    "start_time": "2023-07-24T23:20:36.977Z"
   },
   {
    "duration": 4,
    "start_time": "2023-07-24T23:20:37.420Z"
   },
   {
    "duration": 8,
    "start_time": "2023-07-24T23:20:37.425Z"
   },
   {
    "duration": 27,
    "start_time": "2023-07-24T23:20:37.434Z"
   },
   {
    "duration": 34,
    "start_time": "2023-07-24T23:20:37.475Z"
   },
   {
    "duration": 55,
    "start_time": "2023-07-24T23:20:37.511Z"
   },
   {
    "duration": 41,
    "start_time": "2023-07-24T23:20:37.568Z"
   },
   {
    "duration": 39,
    "start_time": "2023-07-24T23:20:37.610Z"
   },
   {
    "duration": 69,
    "start_time": "2023-07-24T23:20:37.651Z"
   },
   {
    "duration": 236,
    "start_time": "2023-07-24T23:20:37.721Z"
   },
   {
    "duration": 17,
    "start_time": "2023-07-24T23:20:37.959Z"
   },
   {
    "duration": 23,
    "start_time": "2023-07-24T23:20:37.979Z"
   },
   {
    "duration": 36,
    "start_time": "2023-07-24T23:20:38.004Z"
   },
   {
    "duration": 218,
    "start_time": "2023-07-24T23:20:38.041Z"
   },
   {
    "duration": 216,
    "start_time": "2023-07-24T23:20:38.260Z"
   },
   {
    "duration": 9,
    "start_time": "2023-07-24T23:20:38.478Z"
   },
   {
    "duration": 9,
    "start_time": "2023-07-24T23:20:38.488Z"
   },
   {
    "duration": 55,
    "start_time": "2023-07-24T23:20:38.500Z"
   },
   {
    "duration": 12,
    "start_time": "2023-07-24T23:20:38.557Z"
   },
   {
    "duration": 2,
    "start_time": "2023-07-24T23:20:38.570Z"
   },
   {
    "duration": 83,
    "start_time": "2023-07-24T23:20:38.574Z"
   },
   {
    "duration": 4,
    "start_time": "2023-07-24T23:20:38.659Z"
   },
   {
    "duration": 12,
    "start_time": "2023-07-24T23:20:38.665Z"
   },
   {
    "duration": 9,
    "start_time": "2023-07-24T23:20:38.679Z"
   },
   {
    "duration": 12,
    "start_time": "2023-07-24T23:20:38.690Z"
   },
   {
    "duration": 9,
    "start_time": "2023-07-24T23:20:38.705Z"
   },
   {
    "duration": 2625,
    "start_time": "2023-07-24T23:20:38.716Z"
   },
   {
    "duration": 3,
    "start_time": "2023-07-24T23:20:41.343Z"
   },
   {
    "duration": 2329,
    "start_time": "2023-07-24T23:20:41.348Z"
   },
   {
    "duration": 1175,
    "start_time": "2023-07-24T23:20:43.680Z"
   },
   {
    "duration": 3,
    "start_time": "2023-07-24T23:20:44.856Z"
   },
   {
    "duration": 2476,
    "start_time": "2023-07-24T23:20:44.860Z"
   },
   {
    "duration": 2483,
    "start_time": "2023-07-24T23:20:47.338Z"
   },
   {
    "duration": 1218,
    "start_time": "2023-07-24T23:20:49.822Z"
   },
   {
    "duration": 4,
    "start_time": "2023-07-24T23:20:51.041Z"
   },
   {
    "duration": 21,
    "start_time": "2023-07-24T23:20:51.047Z"
   },
   {
    "duration": 28,
    "start_time": "2023-07-24T23:20:51.070Z"
   },
   {
    "duration": 4490,
    "start_time": "2023-07-24T23:20:51.100Z"
   },
   {
    "duration": 5,
    "start_time": "2023-07-24T23:20:55.592Z"
   },
   {
    "duration": 14,
    "start_time": "2023-07-24T23:20:55.599Z"
   },
   {
    "duration": 297724,
    "start_time": "2023-07-24T23:20:55.614Z"
   },
   {
    "duration": 246846,
    "start_time": "2023-07-24T23:25:53.340Z"
   },
   {
    "duration": 63405,
    "start_time": "2023-07-24T23:30:00.191Z"
   },
   {
    "duration": 4,
    "start_time": "2023-07-24T23:31:03.599Z"
   },
   {
    "duration": 71,
    "start_time": "2023-07-24T23:31:03.605Z"
   },
   {
    "duration": 7259,
    "start_time": "2023-07-24T23:31:03.679Z"
   },
   {
    "duration": 2754,
    "start_time": "2023-07-24T23:31:10.940Z"
   },
   {
    "duration": 2499,
    "start_time": "2023-07-24T23:31:13.701Z"
   },
   {
    "duration": 4,
    "start_time": "2023-07-24T23:31:16.201Z"
   },
   {
    "duration": 169,
    "start_time": "2023-07-24T23:31:16.206Z"
   },
   {
    "duration": 0,
    "start_time": "2023-07-24T23:31:16.378Z"
   },
   {
    "duration": 0,
    "start_time": "2023-07-24T23:31:16.380Z"
   },
   {
    "duration": 0,
    "start_time": "2023-07-24T23:31:16.381Z"
   },
   {
    "duration": 0,
    "start_time": "2023-07-24T23:31:16.382Z"
   },
   {
    "duration": 0,
    "start_time": "2023-07-24T23:31:16.385Z"
   },
   {
    "duration": 0,
    "start_time": "2023-07-24T23:31:16.387Z"
   },
   {
    "duration": 0,
    "start_time": "2023-07-24T23:31:16.388Z"
   },
   {
    "duration": 0,
    "start_time": "2023-07-24T23:31:16.390Z"
   },
   {
    "duration": 0,
    "start_time": "2023-07-24T23:31:16.391Z"
   },
   {
    "duration": 9,
    "start_time": "2023-07-24T23:31:52.058Z"
   },
   {
    "duration": 139,
    "start_time": "2023-07-24T23:31:59.951Z"
   },
   {
    "duration": 177,
    "start_time": "2023-07-24T23:32:01.911Z"
   },
   {
    "duration": 9,
    "start_time": "2023-07-24T23:32:04.529Z"
   },
   {
    "duration": 124,
    "start_time": "2023-07-24T23:32:10.011Z"
   },
   {
    "duration": 5,
    "start_time": "2023-07-24T23:32:14.503Z"
   },
   {
    "duration": 5,
    "start_time": "2023-07-24T23:32:16.738Z"
   }
  ],
  "kernelspec": {
   "display_name": "Python 3 (ipykernel)",
   "language": "python",
   "name": "python3"
  },
  "language_info": {
   "codemirror_mode": {
    "name": "ipython",
    "version": 3
   },
   "file_extension": ".py",
   "mimetype": "text/x-python",
   "name": "python",
   "nbconvert_exporter": "python",
   "pygments_lexer": "ipython3",
   "version": "3.11.2"
  },
  "toc": {
   "base_numbering": 1,
   "nav_menu": {},
   "number_sections": true,
   "sideBar": true,
   "skip_h1_title": true,
   "title_cell": "Table of Contents",
   "title_sidebar": "Contents",
   "toc_cell": true,
   "toc_position": {
    "height": "calc(100% - 180px)",
    "left": "10px",
    "top": "150px",
    "width": "165px"
   },
   "toc_section_display": true,
   "toc_window_display": false
  }
 },
 "nbformat": 4,
 "nbformat_minor": 4
}
