{
 "cells": [
  {
   "cell_type": "markdown",
   "metadata": {
    "toc": true
   },
   "source": [
    "<h1>Содержание<span class=\"tocSkip\"></span></h1>\n",
    "<div class=\"toc\"><ul class=\"toc-item\"><li><span><a href=\"#Обзор-данных\" data-toc-modified-id=\"Обзор-данных-1\"><span class=\"toc-item-num\">1&nbsp;&nbsp;</span>Обзор данных</a></span></li><li><span><a href=\"#Предобработка-данных\" data-toc-modified-id=\"Предобработка-данных-2\"><span class=\"toc-item-num\">2&nbsp;&nbsp;</span>Предобработка данных</a></span><ul class=\"toc-item\"><li><span><a href=\"#Стиль-заголовков\" data-toc-modified-id=\"Стиль-заголовков-2.1\"><span class=\"toc-item-num\">2.1&nbsp;&nbsp;</span>Стиль заголовков</a></span></li><li><span><a href=\"#Изменение-типов-данных\" data-toc-modified-id=\"Изменение-типов-данных-2.2\"><span class=\"toc-item-num\">2.2&nbsp;&nbsp;</span>Изменение типов данных</a></span></li><li><span><a href=\"#Устранение-пропусков\" data-toc-modified-id=\"Устранение-пропусков-2.3\"><span class=\"toc-item-num\">2.3&nbsp;&nbsp;</span>Устранение пропусков</a></span></li><li><span><a href=\"#Обработка-дубликатов\" data-toc-modified-id=\"Обработка-дубликатов-2.4\"><span class=\"toc-item-num\">2.4&nbsp;&nbsp;</span>Обработка дубликатов</a></span></li><li><span><a href=\"#Обработка-аномальных-значений\" data-toc-modified-id=\"Обработка-аномальных-значений-2.5\"><span class=\"toc-item-num\">2.5&nbsp;&nbsp;</span>Обработка аномальных значений</a></span></li></ul></li><li><span><a href=\"#Подготовка-данных-для-исследования\" data-toc-modified-id=\"Подготовка-данных-для-исследования-3\"><span class=\"toc-item-num\">3&nbsp;&nbsp;</span>Подготовка данных для исследования</a></span><ul class=\"toc-item\"><li><span><a href=\"#Устранение-пропусков-(продолжение)\" data-toc-modified-id=\"Устранение-пропусков-(продолжение)-3.1\"><span class=\"toc-item-num\">3.1&nbsp;&nbsp;</span>Устранение пропусков (продолжение)</a></span></li></ul></li><li><span><a href=\"#Исследование-моделей\" data-toc-modified-id=\"Исследование-моделей-4\"><span class=\"toc-item-num\">4&nbsp;&nbsp;</span>Исследование моделей</a></span><ul class=\"toc-item\"><li><span><a href=\"#Проверка-моделей-на-адекватность\" data-toc-modified-id=\"Проверка-моделей-на-адекватность-4.1\"><span class=\"toc-item-num\">4.1&nbsp;&nbsp;</span>Проверка моделей на адекватность</a></span></li></ul></li><li><span><a href=\"#Улучшение-качества-модели\" data-toc-modified-id=\"Улучшение-качества-модели-5\"><span class=\"toc-item-num\">5&nbsp;&nbsp;</span>Улучшение качества модели</a></span><ul class=\"toc-item\"><li><span><a href=\"#Борьба-с-дисбалансом-классов\" data-toc-modified-id=\"Борьба-с-дисбалансом-классов-5.1\"><span class=\"toc-item-num\">5.1&nbsp;&nbsp;</span>Борьба с дисбалансом классов</a></span><ul class=\"toc-item\"><li><span><a href=\"#Взвешивание-классов\" data-toc-modified-id=\"Взвешивание-классов-5.1.1\"><span class=\"toc-item-num\">5.1.1&nbsp;&nbsp;</span>Взвешивание классов</a></span></li><li><span><a href=\"#Увеличение-выборки\" data-toc-modified-id=\"Увеличение-выборки-5.1.2\"><span class=\"toc-item-num\">5.1.2&nbsp;&nbsp;</span>Увеличение выборки</a></span></li><li><span><a href=\"#Уменьшение-выборки\" data-toc-modified-id=\"Уменьшение-выборки-5.1.3\"><span class=\"toc-item-num\">5.1.3&nbsp;&nbsp;</span>Уменьшение выборки</a></span></li><li><span><a href=\"#Порог-классификации-(изменение-порога)\" data-toc-modified-id=\"Порог-классификации-(изменение-порога)-5.1.4\"><span class=\"toc-item-num\">5.1.4&nbsp;&nbsp;</span>Порог классификации (изменение порога)</a></span></li></ul></li></ul></li><li><span><a href=\"#Тестирование-модели\" data-toc-modified-id=\"Тестирование-модели-6\"><span class=\"toc-item-num\">6&nbsp;&nbsp;</span>Тестирование модели</a></span></li><li><span><a href=\"#Итоги-проекта\" data-toc-modified-id=\"Итоги-проекта-7\"><span class=\"toc-item-num\">7&nbsp;&nbsp;</span>Итоги проекта</a></span></li></ul></div>"
   ]
  },
  {
   "cell_type": "markdown",
   "metadata": {},
   "source": [
    "# Отток клиентов"
   ]
  },
  {
   "cell_type": "markdown",
   "metadata": {},
   "source": [
    "Результат исследования позволит банку спрогнозировать для каждого клиента, уйдёт клиент из банка в ближайшее время или нет.\n",
    "\n",
    "**Цель исследования**\n",
    "  1. Необходимо построить модель, с предельно большим значением F1-меры, для задачи классификации, которая спрогнозирует, уйдёт клиент из банка в ближайшее время или нет.\n",
    "  2. Среднее гармоническое значение точности и отзывчивости (F1-мера), должна быть не менее 0.59.\n",
    "  3. Метрику F1-мера модели, требуется проверить на тестовой выборке.\n",
    "  4. Необходимо измерить оценку качества бинарной классификации (AUC-ROC) и сравнить ее с F1-мерой.\n",
    "\n",
    "\n",
    "**Исследование пройдёт в шесть этапов:**\n",
    " 1. Обзор данных;\n",
    " 2. Предобработка данных;\n",
    " 3. Подготовка данных для исследования;\n",
    " 4. Исследование моделей;\n",
    " 5. Улучшение качества модели;\n",
    " 6. Тестирование модели."
   ]
  },
  {
   "cell_type": "markdown",
   "metadata": {},
   "source": [
    "## Обзор данных\n",
    "\n",
    "Составим первое представление о данных о поведении клиентов."
   ]
  },
  {
   "cell_type": "markdown",
   "metadata": {},
   "source": [
    "**1. Импортируем библиотеку pandas и другие. Считаем данные из csv-файла в датафрейм и сохраним в переменную `df`.**"
   ]
  },
  {
   "cell_type": "code",
   "execution_count": null,
   "metadata": {},
   "outputs": [],
   "source": [
    "# обновим библиотеку 'scikit-learn' до последней версии\n",
    "!pip install --upgrade scikit-learn\n",
    "\n",
    "# обновим библиотеку 'pandas' до последней версии\n",
    "!pip install --upgrade pandas\n",
    "\n",
    "# обновим библиотеку 'matplotlib' до последней версии\n",
    "!pip install --upgrade matplotlib\n",
    "\n",
    "# обновим библиотеку 'matplotlib' до последней версии\n",
    "!pip install --upgrade seaborn"
   ]
  },
  {
   "cell_type": "code",
   "execution_count": 1,
   "metadata": {},
   "outputs": [
    {
     "name": "stdout",
     "output_type": "stream",
     "text": [
      "Requirement already satisfied: scikit-learn in /opt/conda/lib/python3.9/site-packages (1.2.2)\n",
      "Requirement already satisfied: scipy>=1.3.2 in /opt/conda/lib/python3.9/site-packages (from scikit-learn) (1.9.1)\n",
      "Requirement already satisfied: threadpoolctl>=2.0.0 in /opt/conda/lib/python3.9/site-packages (from scikit-learn) (3.1.0)\n",
      "Requirement already satisfied: numpy>=1.17.3 in /opt/conda/lib/python3.9/site-packages (from scikit-learn) (1.21.1)\n",
      "Requirement already satisfied: joblib>=1.1.1 in /opt/conda/lib/python3.9/site-packages (from scikit-learn) (1.2.0)\n",
      "Requirement already satisfied: pandas in /opt/conda/lib/python3.9/site-packages (1.2.4)\n",
      "Collecting pandas\n",
      "  Using cached pandas-2.0.1-cp39-cp39-manylinux_2_17_x86_64.manylinux2014_x86_64.whl (12.4 MB)\n",
      "Requirement already satisfied: tzdata>=2022.1 in /opt/conda/lib/python3.9/site-packages (from pandas) (2023.3)\n",
      "Requirement already satisfied: python-dateutil>=2.8.2 in /opt/conda/lib/python3.9/site-packages (from pandas) (2.8.2)\n",
      "Requirement already satisfied: numpy>=1.20.3 in /opt/conda/lib/python3.9/site-packages (from pandas) (1.21.1)\n",
      "Requirement already satisfied: pytz>=2020.1 in /opt/conda/lib/python3.9/site-packages (from pandas) (2021.1)\n",
      "Requirement already satisfied: six>=1.5 in /opt/conda/lib/python3.9/site-packages (from python-dateutil>=2.8.2->pandas) (1.16.0)\n",
      "Installing collected packages: pandas\n",
      "  Attempting uninstall: pandas\n",
      "    Found existing installation: pandas 1.2.4\n",
      "    Uninstalling pandas-1.2.4:\n",
      "      Successfully uninstalled pandas-1.2.4\n",
      "Successfully installed pandas-2.0.1\n",
      "Requirement already satisfied: matplotlib in /opt/conda/lib/python3.9/site-packages (3.3.4)\n",
      "Collecting matplotlib\n",
      "  Using cached matplotlib-3.7.1-cp39-cp39-manylinux_2_17_x86_64.manylinux2014_x86_64.whl (11.6 MB)\n",
      "Requirement already satisfied: python-dateutil>=2.7 in /opt/conda/lib/python3.9/site-packages (from matplotlib) (2.8.2)\n",
      "Requirement already satisfied: cycler>=0.10 in /opt/conda/lib/python3.9/site-packages (from matplotlib) (0.11.0)\n",
      "Collecting contourpy>=1.0.1\n",
      "  Downloading contourpy-1.0.7-cp39-cp39-manylinux_2_17_x86_64.manylinux2014_x86_64.whl (299 kB)\n",
      "\u001b[K     |████████████████████████████████| 299 kB 2.1 MB/s eta 0:00:01\n",
      "\u001b[?25hRequirement already satisfied: packaging>=20.0 in /opt/conda/lib/python3.9/site-packages (from matplotlib) (21.3)\n",
      "Requirement already satisfied: pyparsing>=2.3.1 in /opt/conda/lib/python3.9/site-packages (from matplotlib) (2.4.7)\n",
      "Collecting importlib-resources>=3.2.0\n",
      "  Downloading importlib_resources-5.12.0-py3-none-any.whl (36 kB)\n",
      "Requirement already satisfied: numpy>=1.20 in /opt/conda/lib/python3.9/site-packages (from matplotlib) (1.21.1)\n",
      "Requirement already satisfied: pillow>=6.2.0 in /opt/conda/lib/python3.9/site-packages (from matplotlib) (8.4.0)\n",
      "Collecting fonttools>=4.22.0\n",
      "  Downloading fonttools-4.39.4-py3-none-any.whl (1.0 MB)\n",
      "\u001b[K     |████████████████████████████████| 1.0 MB 47.6 MB/s eta 0:00:01\n",
      "\u001b[?25hRequirement already satisfied: kiwisolver>=1.0.1 in /opt/conda/lib/python3.9/site-packages (from matplotlib) (1.4.4)\n",
      "Requirement already satisfied: zipp>=3.1.0 in /opt/conda/lib/python3.9/site-packages (from importlib-resources>=3.2.0->matplotlib) (3.5.0)\n",
      "Requirement already satisfied: six>=1.5 in /opt/conda/lib/python3.9/site-packages (from python-dateutil>=2.7->matplotlib) (1.16.0)\n",
      "Installing collected packages: importlib-resources, fonttools, contourpy, matplotlib\n",
      "  Attempting uninstall: matplotlib\n",
      "    Found existing installation: matplotlib 3.3.4\n",
      "    Uninstalling matplotlib-3.3.4:\n",
      "      Successfully uninstalled matplotlib-3.3.4\n",
      "Successfully installed contourpy-1.0.7 fonttools-4.39.4 importlib-resources-5.12.0 matplotlib-3.7.1\n",
      "Requirement already satisfied: seaborn in /opt/conda/lib/python3.9/site-packages (0.11.1)\n",
      "Collecting seaborn\n",
      "  Using cached seaborn-0.12.2-py3-none-any.whl (293 kB)\n",
      "Requirement already satisfied: numpy!=1.24.0,>=1.17 in /opt/conda/lib/python3.9/site-packages (from seaborn) (1.21.1)\n",
      "Requirement already satisfied: matplotlib!=3.6.1,>=3.1 in /opt/conda/lib/python3.9/site-packages (from seaborn) (3.7.1)\n",
      "Requirement already satisfied: pandas>=0.25 in /opt/conda/lib/python3.9/site-packages (from seaborn) (2.0.1)\n",
      "Requirement already satisfied: pyparsing>=2.3.1 in /opt/conda/lib/python3.9/site-packages (from matplotlib!=3.6.1,>=3.1->seaborn) (2.4.7)\n",
      "Requirement already satisfied: packaging>=20.0 in /opt/conda/lib/python3.9/site-packages (from matplotlib!=3.6.1,>=3.1->seaborn) (21.3)\n",
      "Requirement already satisfied: contourpy>=1.0.1 in /opt/conda/lib/python3.9/site-packages (from matplotlib!=3.6.1,>=3.1->seaborn) (1.0.7)\n",
      "Requirement already satisfied: python-dateutil>=2.7 in /opt/conda/lib/python3.9/site-packages (from matplotlib!=3.6.1,>=3.1->seaborn) (2.8.2)\n",
      "Requirement already satisfied: cycler>=0.10 in /opt/conda/lib/python3.9/site-packages (from matplotlib!=3.6.1,>=3.1->seaborn) (0.11.0)\n",
      "Requirement already satisfied: kiwisolver>=1.0.1 in /opt/conda/lib/python3.9/site-packages (from matplotlib!=3.6.1,>=3.1->seaborn) (1.4.4)\n",
      "Requirement already satisfied: fonttools>=4.22.0 in /opt/conda/lib/python3.9/site-packages (from matplotlib!=3.6.1,>=3.1->seaborn) (4.39.4)\n",
      "Requirement already satisfied: importlib-resources>=3.2.0 in /opt/conda/lib/python3.9/site-packages (from matplotlib!=3.6.1,>=3.1->seaborn) (5.12.0)\n",
      "Requirement already satisfied: pillow>=6.2.0 in /opt/conda/lib/python3.9/site-packages (from matplotlib!=3.6.1,>=3.1->seaborn) (8.4.0)\n",
      "Requirement already satisfied: zipp>=3.1.0 in /opt/conda/lib/python3.9/site-packages (from importlib-resources>=3.2.0->matplotlib!=3.6.1,>=3.1->seaborn) (3.5.0)\n",
      "Requirement already satisfied: tzdata>=2022.1 in /opt/conda/lib/python3.9/site-packages (from pandas>=0.25->seaborn) (2023.3)\n",
      "Requirement already satisfied: pytz>=2020.1 in /opt/conda/lib/python3.9/site-packages (from pandas>=0.25->seaborn) (2021.1)\n",
      "Requirement already satisfied: six>=1.5 in /opt/conda/lib/python3.9/site-packages (from python-dateutil>=2.7->matplotlib!=3.6.1,>=3.1->seaborn) (1.16.0)\n",
      "Installing collected packages: seaborn\n",
      "  Attempting uninstall: seaborn\n",
      "    Found existing installation: seaborn 0.11.1\n",
      "    Uninstalling seaborn-0.11.1:\n",
      "      Successfully uninstalled seaborn-0.11.1\n",
      "Successfully installed seaborn-0.12.2\n"
     ]
    }
   ],
   "source": [
    "# импорт библиотеки 'os'\n",
    "import os\n",
    "\n",
    "# импорт библиотеки 'concurrent' модуль 'future'\n",
    "import concurrent.futures\n",
    "\n",
    "# импорт библиотеки 'pandas'\n",
    "import pandas as pd\n",
    "\n",
    "# импорт библиотеки 'numpy'\n",
    "import numpy as np\n",
    "\n",
    "# импортируем библиотеку 'matplotlib.pyplot' для построения графиков\n",
    "import matplotlib.pyplot as plt\n",
    "\n",
    "# импортируем библиотеку 'matplotlib.pyplot' для построения графиков\n",
    "import seaborn as sns\n",
    "\n",
    "# импорт библиотеки для константной модели\n",
    "from sklearn.dummy import DummyClassifier\n",
    "\n",
    "# импорт библиотеки для модели \"рещающего дерева\"\n",
    "from sklearn.tree import DecisionTreeClassifier\n",
    "\n",
    "# импорт библиотеки для модели \"случайнного леса\"\n",
    "from sklearn.ensemble import RandomForestClassifier\n",
    "\n",
    "# импорт библиотеки для модели \"логистической регрессии\"\n",
    "from sklearn.linear_model import LogisticRegression\n",
    "\n",
    "# импорт библиотеки для оценки качества модели\n",
    "from sklearn.metrics import (accuracy_score,\n",
    "                             precision_score,\n",
    "                             recall_score,\n",
    "                             f1_score,\n",
    "                             roc_auc_score,\n",
    "                             average_precision_score,\n",
    "                             confusion_matrix,\n",
    "                             ConfusionMatrixDisplay)\n",
    "\n",
    "# импорт библиотеки для кросс-валидации\n",
    "from sklearn.model_selection import train_test_split, GridSearchCV, cross_val_score\n",
    "\n",
    "# импорт библиотеки для масштабирования признаков\n",
    "from sklearn.preprocessing import StandardScaler, MinMaxScaler\n",
    "\n",
    "# импорт библиотеки для метода 'shuffle'\n",
    "from sklearn.utils import shuffle\n",
    "\n",
    "# импорт библиотеки 'sklearn.impute'\n",
    "from sklearn.impute import KNNImputer"
   ]
  },
  {
   "cell_type": "code",
   "execution_count": 2,
   "metadata": {},
   "outputs": [],
   "source": [
    "try:\n",
    "    # читаем данные из csv-файла и сохраняем их в виде датафрейма в 'df'\n",
    "    df = pd.read_csv('***')\n",
    "except:\n",
    "    # в случае отсутствия csv-файла в локальном месторасположении, читаем его из облачного хранилища\n",
    "    # и сохраняем данные в виде датафрейма в 'df'\n",
    "    df = pd.read_csv('***')"
   ]
  },
  {
   "cell_type": "markdown",
   "metadata": {},
   "source": [
    "**2. Выведем первые пять строчек датафрейма `df` на экран.**"
   ]
  },
  {
   "cell_type": "code",
   "execution_count": 3,
   "metadata": {},
   "outputs": [
    {
     "data": {
      "text/html": [
       "<div>\n",
       "<style scoped>\n",
       "    .dataframe tbody tr th:only-of-type {\n",
       "        vertical-align: middle;\n",
       "    }\n",
       "\n",
       "    .dataframe tbody tr th {\n",
       "        vertical-align: top;\n",
       "    }\n",
       "\n",
       "    .dataframe thead th {\n",
       "        text-align: right;\n",
       "    }\n",
       "</style>\n",
       "<table border=\"1\" class=\"dataframe\">\n",
       "  <thead>\n",
       "    <tr style=\"text-align: right;\">\n",
       "      <th></th>\n",
       "      <th>RowNumber</th>\n",
       "      <th>CustomerId</th>\n",
       "      <th>Surname</th>\n",
       "      <th>CreditScore</th>\n",
       "      <th>Geography</th>\n",
       "      <th>Gender</th>\n",
       "      <th>Age</th>\n",
       "      <th>Tenure</th>\n",
       "      <th>Balance</th>\n",
       "      <th>NumOfProducts</th>\n",
       "      <th>HasCrCard</th>\n",
       "      <th>IsActiveMember</th>\n",
       "      <th>EstimatedSalary</th>\n",
       "      <th>Exited</th>\n",
       "    </tr>\n",
       "  </thead>\n",
       "  <tbody>\n",
       "    <tr>\n",
       "      <th>0</th>\n",
       "      <td>1</td>\n",
       "      <td>15634602</td>\n",
       "      <td>Hargrave</td>\n",
       "      <td>619</td>\n",
       "      <td>France</td>\n",
       "      <td>Female</td>\n",
       "      <td>42</td>\n",
       "      <td>2.0</td>\n",
       "      <td>0.00</td>\n",
       "      <td>1</td>\n",
       "      <td>1</td>\n",
       "      <td>1</td>\n",
       "      <td>101348.88</td>\n",
       "      <td>1</td>\n",
       "    </tr>\n",
       "    <tr>\n",
       "      <th>1</th>\n",
       "      <td>2</td>\n",
       "      <td>15647311</td>\n",
       "      <td>Hill</td>\n",
       "      <td>608</td>\n",
       "      <td>Spain</td>\n",
       "      <td>Female</td>\n",
       "      <td>41</td>\n",
       "      <td>1.0</td>\n",
       "      <td>83807.86</td>\n",
       "      <td>1</td>\n",
       "      <td>0</td>\n",
       "      <td>1</td>\n",
       "      <td>112542.58</td>\n",
       "      <td>0</td>\n",
       "    </tr>\n",
       "    <tr>\n",
       "      <th>2</th>\n",
       "      <td>3</td>\n",
       "      <td>15619304</td>\n",
       "      <td>Onio</td>\n",
       "      <td>502</td>\n",
       "      <td>France</td>\n",
       "      <td>Female</td>\n",
       "      <td>42</td>\n",
       "      <td>8.0</td>\n",
       "      <td>159660.80</td>\n",
       "      <td>3</td>\n",
       "      <td>1</td>\n",
       "      <td>0</td>\n",
       "      <td>113931.57</td>\n",
       "      <td>1</td>\n",
       "    </tr>\n",
       "    <tr>\n",
       "      <th>3</th>\n",
       "      <td>4</td>\n",
       "      <td>15701354</td>\n",
       "      <td>Boni</td>\n",
       "      <td>699</td>\n",
       "      <td>France</td>\n",
       "      <td>Female</td>\n",
       "      <td>39</td>\n",
       "      <td>1.0</td>\n",
       "      <td>0.00</td>\n",
       "      <td>2</td>\n",
       "      <td>0</td>\n",
       "      <td>0</td>\n",
       "      <td>93826.63</td>\n",
       "      <td>0</td>\n",
       "    </tr>\n",
       "    <tr>\n",
       "      <th>4</th>\n",
       "      <td>5</td>\n",
       "      <td>15737888</td>\n",
       "      <td>Mitchell</td>\n",
       "      <td>850</td>\n",
       "      <td>Spain</td>\n",
       "      <td>Female</td>\n",
       "      <td>43</td>\n",
       "      <td>2.0</td>\n",
       "      <td>125510.82</td>\n",
       "      <td>1</td>\n",
       "      <td>1</td>\n",
       "      <td>1</td>\n",
       "      <td>79084.10</td>\n",
       "      <td>0</td>\n",
       "    </tr>\n",
       "  </tbody>\n",
       "</table>\n",
       "</div>"
      ],
      "text/plain": [
       "   RowNumber  CustomerId   Surname  CreditScore Geography  Gender  Age   \n",
       "0          1    15634602  Hargrave          619    France  Female   42  \\\n",
       "1          2    15647311      Hill          608     Spain  Female   41   \n",
       "2          3    15619304      Onio          502    France  Female   42   \n",
       "3          4    15701354      Boni          699    France  Female   39   \n",
       "4          5    15737888  Mitchell          850     Spain  Female   43   \n",
       "\n",
       "   Tenure    Balance  NumOfProducts  HasCrCard  IsActiveMember   \n",
       "0     2.0       0.00              1          1               1  \\\n",
       "1     1.0   83807.86              1          0               1   \n",
       "2     8.0  159660.80              3          1               0   \n",
       "3     1.0       0.00              2          0               0   \n",
       "4     2.0  125510.82              1          1               1   \n",
       "\n",
       "   EstimatedSalary  Exited  \n",
       "0        101348.88       1  \n",
       "1        112542.58       0  \n",
       "2        113931.57       1  \n",
       "3         93826.63       0  \n",
       "4         79084.10       0  "
      ]
     },
     "execution_count": 3,
     "metadata": {},
     "output_type": "execute_result"
    }
   ],
   "source": [
    "# посмотрим первых пять строк датафрейма 'df\n",
    "df.head()"
   ]
  },
  {
   "cell_type": "markdown",
   "metadata": {},
   "source": [
    "**3. Выведем основную информацию о датафрейме с помощью метода `info()`.**"
   ]
  },
  {
   "cell_type": "code",
   "execution_count": 4,
   "metadata": {},
   "outputs": [
    {
     "name": "stdout",
     "output_type": "stream",
     "text": [
      "<class 'pandas.core.frame.DataFrame'>\n",
      "RangeIndex: 10000 entries, 0 to 9999\n",
      "Data columns (total 14 columns):\n",
      " #   Column           Non-Null Count  Dtype  \n",
      "---  ------           --------------  -----  \n",
      " 0   RowNumber        10000 non-null  int64  \n",
      " 1   CustomerId       10000 non-null  int64  \n",
      " 2   Surname          10000 non-null  object \n",
      " 3   CreditScore      10000 non-null  int64  \n",
      " 4   Geography        10000 non-null  object \n",
      " 5   Gender           10000 non-null  object \n",
      " 6   Age              10000 non-null  int64  \n",
      " 7   Tenure           9091 non-null   float64\n",
      " 8   Balance          10000 non-null  float64\n",
      " 9   NumOfProducts    10000 non-null  int64  \n",
      " 10  HasCrCard        10000 non-null  int64  \n",
      " 11  IsActiveMember   10000 non-null  int64  \n",
      " 12  EstimatedSalary  10000 non-null  float64\n",
      " 13  Exited           10000 non-null  int64  \n",
      "dtypes: float64(3), int64(8), object(3)\n",
      "memory usage: 1.1+ MB\n"
     ]
    }
   ],
   "source": [
    "# получение общей информации о данных в датафрейме 'df'\n",
    "df.info()"
   ]
  },
  {
   "cell_type": "markdown",
   "metadata": {},
   "source": [
    "Итак, в таблице 14 столбцов. Типы данных в столбцах — `float64`, `int64` и `object`.\n",
    "\n",
    "* `RowNumber` — индекс строки в данных,\n",
    "* `CustomerId` — уникальный идентификатор клиента,\n",
    "* `Surname` — фамилия,\n",
    "* `CreditScore` — кредитный рейтинг,\n",
    "* `Geography` — страна проживания,\n",
    "* `Gender` — пол,\n",
    "* `Age` — возраст,\n",
    "* `Tenure` — сколько лет человек является клиентом банка,\n",
    "* `Balance` — баланс на счёте,\n",
    "* `NumOfProducts` — количество продуктов банка, используемых клиентом,\n",
    "* `HasCrCard` — наличие кредитной карты,\n",
    "* `IsActiveMember` — активность клиента,\n",
    "* `EstimatedSalary` — предполагаемая зарплата,\n",
    "* `Exited` — факт ухода клиента.\n",
    "\n",
    "Количество значений в столбце `Tenure` различается. Значит, в данных есть пропущенные значения. В названиях всех колонок (столбцов) таблицы, есть нарушение стиля."
   ]
  },
  {
   "cell_type": "markdown",
   "metadata": {},
   "source": [
    "**4. Построим общую гистограмму для всех числовых столбцов таблицы в датафрейме `df`.**"
   ]
  },
  {
   "cell_type": "code",
   "execution_count": 5,
   "metadata": {},
   "outputs": [
    {
     "data": {
      "image/png": "[encoded data removed]",
      "text/plain": [
       "<Figure size 1080x1440 with 12 Axes>"
      ]
     },
     "metadata": {
      "needs_background": "light"
     },
     "output_type": "display_data"
    }
   ],
   "source": [
    "# с помощью функции 'hist' построим общую гистограмму\n",
    "df.hist(figsize=(15, 20));"
   ]
  },
  {
   "cell_type": "markdown",
   "metadata": {},
   "source": [
    "**5. Посмотрим статистическую информацию по каждому числовому столбцу таблицы, в датафрейме `df`.**"
   ]
  },
  {
   "cell_type": "code",
   "execution_count": 6,
   "metadata": {},
   "outputs": [
    {
     "data": {
      "text/html": [
       "<div>\n",
       "<style scoped>\n",
       "    .dataframe tbody tr th:only-of-type {\n",
       "        vertical-align: middle;\n",
       "    }\n",
       "\n",
       "    .dataframe tbody tr th {\n",
       "        vertical-align: top;\n",
       "    }\n",
       "\n",
       "    .dataframe thead th {\n",
       "        text-align: right;\n",
       "    }\n",
       "</style>\n",
       "<table border=\"1\" class=\"dataframe\">\n",
       "  <thead>\n",
       "    <tr style=\"text-align: right;\">\n",
       "      <th></th>\n",
       "      <th>RowNumber</th>\n",
       "      <th>CustomerId</th>\n",
       "      <th>CreditScore</th>\n",
       "      <th>Age</th>\n",
       "      <th>Tenure</th>\n",
       "      <th>Balance</th>\n",
       "      <th>NumOfProducts</th>\n",
       "      <th>HasCrCard</th>\n",
       "      <th>IsActiveMember</th>\n",
       "      <th>EstimatedSalary</th>\n",
       "      <th>Exited</th>\n",
       "    </tr>\n",
       "  </thead>\n",
       "  <tbody>\n",
       "    <tr>\n",
       "      <th>count</th>\n",
       "      <td>10000.00000</td>\n",
       "      <td>1.000000e+04</td>\n",
       "      <td>10000.000000</td>\n",
       "      <td>10000.000000</td>\n",
       "      <td>9091.000000</td>\n",
       "      <td>10000.000000</td>\n",
       "      <td>10000.000000</td>\n",
       "      <td>10000.00000</td>\n",
       "      <td>10000.000000</td>\n",
       "      <td>10000.000000</td>\n",
       "      <td>10000.000000</td>\n",
       "    </tr>\n",
       "    <tr>\n",
       "      <th>mean</th>\n",
       "      <td>5000.50000</td>\n",
       "      <td>1.569094e+07</td>\n",
       "      <td>650.528800</td>\n",
       "      <td>38.921800</td>\n",
       "      <td>4.997690</td>\n",
       "      <td>76485.889288</td>\n",
       "      <td>1.530200</td>\n",
       "      <td>0.70550</td>\n",
       "      <td>0.515100</td>\n",
       "      <td>100090.239881</td>\n",
       "      <td>0.203700</td>\n",
       "    </tr>\n",
       "    <tr>\n",
       "      <th>std</th>\n",
       "      <td>2886.89568</td>\n",
       "      <td>7.193619e+04</td>\n",
       "      <td>96.653299</td>\n",
       "      <td>10.487806</td>\n",
       "      <td>2.894723</td>\n",
       "      <td>62397.405202</td>\n",
       "      <td>0.581654</td>\n",
       "      <td>0.45584</td>\n",
       "      <td>0.499797</td>\n",
       "      <td>57510.492818</td>\n",
       "      <td>0.402769</td>\n",
       "    </tr>\n",
       "    <tr>\n",
       "      <th>min</th>\n",
       "      <td>1.00000</td>\n",
       "      <td>1.556570e+07</td>\n",
       "      <td>350.000000</td>\n",
       "      <td>18.000000</td>\n",
       "      <td>0.000000</td>\n",
       "      <td>0.000000</td>\n",
       "      <td>1.000000</td>\n",
       "      <td>0.00000</td>\n",
       "      <td>0.000000</td>\n",
       "      <td>11.580000</td>\n",
       "      <td>0.000000</td>\n",
       "    </tr>\n",
       "    <tr>\n",
       "      <th>25%</th>\n",
       "      <td>2500.75000</td>\n",
       "      <td>1.562853e+07</td>\n",
       "      <td>584.000000</td>\n",
       "      <td>32.000000</td>\n",
       "      <td>2.000000</td>\n",
       "      <td>0.000000</td>\n",
       "      <td>1.000000</td>\n",
       "      <td>0.00000</td>\n",
       "      <td>0.000000</td>\n",
       "      <td>51002.110000</td>\n",
       "      <td>0.000000</td>\n",
       "    </tr>\n",
       "    <tr>\n",
       "      <th>50%</th>\n",
       "      <td>5000.50000</td>\n",
       "      <td>1.569074e+07</td>\n",
       "      <td>652.000000</td>\n",
       "      <td>37.000000</td>\n",
       "      <td>5.000000</td>\n",
       "      <td>97198.540000</td>\n",
       "      <td>1.000000</td>\n",
       "      <td>1.00000</td>\n",
       "      <td>1.000000</td>\n",
       "      <td>100193.915000</td>\n",
       "      <td>0.000000</td>\n",
       "    </tr>\n",
       "    <tr>\n",
       "      <th>75%</th>\n",
       "      <td>7500.25000</td>\n",
       "      <td>1.575323e+07</td>\n",
       "      <td>718.000000</td>\n",
       "      <td>44.000000</td>\n",
       "      <td>7.000000</td>\n",
       "      <td>127644.240000</td>\n",
       "      <td>2.000000</td>\n",
       "      <td>1.00000</td>\n",
       "      <td>1.000000</td>\n",
       "      <td>149388.247500</td>\n",
       "      <td>0.000000</td>\n",
       "    </tr>\n",
       "    <tr>\n",
       "      <th>max</th>\n",
       "      <td>10000.00000</td>\n",
       "      <td>1.581569e+07</td>\n",
       "      <td>850.000000</td>\n",
       "      <td>92.000000</td>\n",
       "      <td>10.000000</td>\n",
       "      <td>250898.090000</td>\n",
       "      <td>4.000000</td>\n",
       "      <td>1.00000</td>\n",
       "      <td>1.000000</td>\n",
       "      <td>199992.480000</td>\n",
       "      <td>1.000000</td>\n",
       "    </tr>\n",
       "  </tbody>\n",
       "</table>\n",
       "</div>"
      ],
      "text/plain": [
       "         RowNumber    CustomerId   CreditScore           Age       Tenure   \n",
       "count  10000.00000  1.000000e+04  10000.000000  10000.000000  9091.000000  \\\n",
       "mean    5000.50000  1.569094e+07    650.528800     38.921800     4.997690   \n",
       "std     2886.89568  7.193619e+04     96.653299     10.487806     2.894723   \n",
       "min        1.00000  1.556570e+07    350.000000     18.000000     0.000000   \n",
       "25%     2500.75000  1.562853e+07    584.000000     32.000000     2.000000   \n",
       "50%     5000.50000  1.569074e+07    652.000000     37.000000     5.000000   \n",
       "75%     7500.25000  1.575323e+07    718.000000     44.000000     7.000000   \n",
       "max    10000.00000  1.581569e+07    850.000000     92.000000    10.000000   \n",
       "\n",
       "             Balance  NumOfProducts    HasCrCard  IsActiveMember   \n",
       "count   10000.000000   10000.000000  10000.00000    10000.000000  \\\n",
       "mean    76485.889288       1.530200      0.70550        0.515100   \n",
       "std     62397.405202       0.581654      0.45584        0.499797   \n",
       "min         0.000000       1.000000      0.00000        0.000000   \n",
       "25%         0.000000       1.000000      0.00000        0.000000   \n",
       "50%     97198.540000       1.000000      1.00000        1.000000   \n",
       "75%    127644.240000       2.000000      1.00000        1.000000   \n",
       "max    250898.090000       4.000000      1.00000        1.000000   \n",
       "\n",
       "       EstimatedSalary        Exited  \n",
       "count     10000.000000  10000.000000  \n",
       "mean     100090.239881      0.203700  \n",
       "std       57510.492818      0.402769  \n",
       "min          11.580000      0.000000  \n",
       "25%       51002.110000      0.000000  \n",
       "50%      100193.915000      0.000000  \n",
       "75%      149388.247500      0.000000  \n",
       "max      199992.480000      1.000000  "
      ]
     },
     "execution_count": 6,
     "metadata": {},
     "output_type": "execute_result"
    }
   ],
   "source": [
    "# выведем статистическую информацию\n",
    "df.describe()"
   ]
  },
  {
   "cell_type": "markdown",
   "metadata": {},
   "source": [
    "**6. Создадим глобальную переменную для хранения размера исходного датасета.**"
   ]
  },
  {
   "cell_type": "code",
   "execution_count": 7,
   "metadata": {},
   "outputs": [],
   "source": [
    "source_dataset_size = df.shape[0]"
   ]
  },
  {
   "cell_type": "markdown",
   "metadata": {},
   "source": [
    "**Выводы**\n",
    "\n",
    "Предварительно можно утверждать, что данных достаточно для исследования. Но встречаются пропуски. Возможно, есть аномальные значения (артефакты) и дубликаты (явные/неявные) в данных. Некоторые столбцы содержат неподходящие типы данных. В названиях всех колонок (столбцов) таблицы, есть нарушение стиля.\n",
    "\n",
    "Чтобы двигаться дальше, нужно устранить проблемы в данных."
   ]
  },
  {
   "cell_type": "markdown",
   "metadata": {},
   "source": [
    "## Предобработка данных\n",
    "\n",
    "\n",
    "Исправим стиль в заголовках столбцов, устраним пропуски в данных. Проверим данные на артефакты (аномалии) и дубликаты (явные/неявные), и, при нахождении, исправим. Проверим данные на несоответствие типу и, при нахождении, изменим тип."
   ]
  },
  {
   "cell_type": "markdown",
   "metadata": {},
   "source": [
    "### Стиль заголовков"
   ]
  },
  {
   "cell_type": "markdown",
   "metadata": {},
   "source": [
    "**7. Выведем на экран названия столбцов:**"
   ]
  },
  {
   "cell_type": "code",
   "execution_count": 8,
   "metadata": {},
   "outputs": [
    {
     "data": {
      "text/plain": [
       "['RowNumber',\n",
       " 'CustomerId',\n",
       " 'Surname',\n",
       " 'CreditScore',\n",
       " 'Geography',\n",
       " 'Gender',\n",
       " 'Age',\n",
       " 'Tenure',\n",
       " 'Balance',\n",
       " 'NumOfProducts',\n",
       " 'HasCrCard',\n",
       " 'IsActiveMember',\n",
       " 'EstimatedSalary',\n",
       " 'Exited']"
      ]
     },
     "execution_count": 8,
     "metadata": {},
     "output_type": "execute_result"
    }
   ],
   "source": [
    "# выводим перечень названий столбцов таблицы в датафрейме 'data'\n",
    "df.columns.tolist()"
   ]
  },
  {
   "cell_type": "markdown",
   "metadata": {},
   "source": [
    "**8. Приведём названия столбцов таблицы в соответствии с хорошим стилем:**\n",
    " - несколько слов в названии записываются в «змеином_регистре»,\n",
    " - все символы строчные,\n",
    " - без пробелов."
   ]
  },
  {
   "cell_type": "code",
   "execution_count": 9,
   "metadata": {},
   "outputs": [],
   "source": [
    "# переименуем название столбцов с некорректным стилем\n",
    "df = df.rename(columns={'RowNumber' : 'row_number',\n",
    "                            'CustomerId' : 'customer_id',\n",
    "                            'Surname' : 'surname',\n",
    "                            'CreditScore' : 'credit_score',\n",
    "                            'Geography' : 'geography',\n",
    "                            'Gender' : 'gender',\n",
    "                            'Age' : 'age',\n",
    "                            'Tenure' : 'tenure',\n",
    "                            'Balance' : 'balance',\n",
    "                            'NumOfProducts' : 'num_of_products',\n",
    "                            'HasCrCard' : 'has_cr_card',\n",
    "                            'IsActiveMember' : 'is_active_member',\n",
    "                            'EstimatedSalary' : 'estimated_salary',\n",
    "                            'Exited' : 'exited'})"
   ]
  },
  {
   "cell_type": "code",
   "execution_count": 10,
   "metadata": {},
   "outputs": [
    {
     "data": {
      "text/plain": [
       "['row_number',\n",
       " 'customer_id',\n",
       " 'surname',\n",
       " 'credit_score',\n",
       " 'geography',\n",
       " 'gender',\n",
       " 'age',\n",
       " 'tenure',\n",
       " 'balance',\n",
       " 'num_of_products',\n",
       " 'has_cr_card',\n",
       " 'is_active_member',\n",
       " 'estimated_salary',\n",
       " 'exited']"
      ]
     },
     "execution_count": 10,
     "metadata": {},
     "output_type": "execute_result"
    }
   ],
   "source": [
    "# проверим результат переименования некорректных столбцов\n",
    "df.columns.tolist()"
   ]
  },
  {
   "cell_type": "markdown",
   "metadata": {},
   "source": [
    "### Изменение типов данных"
   ]
  },
  {
   "cell_type": "markdown",
   "metadata": {},
   "source": [
    "**9. Посмотрим существующие типы данных для всех столбцов.**"
   ]
  },
  {
   "cell_type": "code",
   "execution_count": 11,
   "metadata": {},
   "outputs": [
    {
     "data": {
      "text/plain": [
       "row_number            int64\n",
       "customer_id           int64\n",
       "surname              object\n",
       "credit_score          int64\n",
       "geography            object\n",
       "gender               object\n",
       "age                   int64\n",
       "tenure              float64\n",
       "balance             float64\n",
       "num_of_products       int64\n",
       "has_cr_card           int64\n",
       "is_active_member      int64\n",
       "estimated_salary    float64\n",
       "exited                int64\n",
       "dtype: object"
      ]
     },
     "execution_count": 11,
     "metadata": {},
     "output_type": "execute_result"
    }
   ],
   "source": [
    "# выводим список всех столбцов таблицы и их типы\n",
    "df.dtypes"
   ]
  },
  {
   "cell_type": "markdown",
   "metadata": {},
   "source": [
    "Изменение типов данных требуется для:\n",
    "* `has_cr_card` с типа `int64` на тип `bool`;\n",
    "* `is_active_member` с типа `int64` на тип `bool`;\n",
    "* `exited  ` с типа `int64` на тип `bool`."
   ]
  },
  {
   "cell_type": "markdown",
   "metadata": {},
   "source": [
    "**10. Заменим тип данных `int64`, в столбце `has_cr_card`, на тип данных `bool`.**"
   ]
  },
  {
   "cell_type": "code",
   "execution_count": 12,
   "metadata": {},
   "outputs": [],
   "source": [
    "df['has_cr_card'] = df['has_cr_card'].astype('bool')"
   ]
  },
  {
   "cell_type": "markdown",
   "metadata": {},
   "source": [
    "**11. Заменим тип данных `int64`,  в столбце `is_active_member`, на тип данных `bool`.**"
   ]
  },
  {
   "cell_type": "code",
   "execution_count": 13,
   "metadata": {},
   "outputs": [],
   "source": [
    "df['is_active_member'] = df['is_active_member'].astype('bool')"
   ]
  },
  {
   "cell_type": "markdown",
   "metadata": {},
   "source": [
    "**12. Заменим тип данных `int64`,  в столбце `exited`, на тип данных `bool`.**"
   ]
  },
  {
   "cell_type": "code",
   "execution_count": 14,
   "metadata": {},
   "outputs": [],
   "source": [
    "df['exited'] = df['exited'].astype('bool')"
   ]
  },
  {
   "cell_type": "markdown",
   "metadata": {},
   "source": [
    "**13. Проверим результат преобразования типов.**"
   ]
  },
  {
   "cell_type": "code",
   "execution_count": 15,
   "metadata": {},
   "outputs": [
    {
     "data": {
      "text/plain": [
       "row_number            int64\n",
       "customer_id           int64\n",
       "surname              object\n",
       "credit_score          int64\n",
       "geography            object\n",
       "gender               object\n",
       "age                   int64\n",
       "tenure              float64\n",
       "balance             float64\n",
       "num_of_products       int64\n",
       "has_cr_card            bool\n",
       "is_active_member       bool\n",
       "estimated_salary    float64\n",
       "exited                 bool\n",
       "dtype: object"
      ]
     },
     "execution_count": 15,
     "metadata": {},
     "output_type": "execute_result"
    }
   ],
   "source": [
    "# выводим список всех столбцов таблицы и их типы\n",
    "df.dtypes"
   ]
  },
  {
   "cell_type": "markdown",
   "metadata": {},
   "source": [
    "### Устранение пропусков"
   ]
  },
  {
   "cell_type": "markdown",
   "metadata": {},
   "source": [
    "**14. Выведем количество пропущенных значений для каждого столбца, используя комбинацию двух методов.**"
   ]
  },
  {
   "cell_type": "code",
   "execution_count": 16,
   "metadata": {},
   "outputs": [
    {
     "data": {
      "text/plain": [
       "row_number            0\n",
       "customer_id           0\n",
       "surname               0\n",
       "credit_score          0\n",
       "geography             0\n",
       "gender                0\n",
       "age                   0\n",
       "tenure              909\n",
       "balance               0\n",
       "num_of_products       0\n",
       "has_cr_card           0\n",
       "is_active_member      0\n",
       "estimated_salary      0\n",
       "exited                0\n",
       "dtype: int64"
      ]
     },
     "execution_count": 16,
     "metadata": {},
     "output_type": "execute_result"
    }
   ],
   "source": [
    "# посчитаем количество пропусков по каждому столбцу в отдельности\n",
    "df.isna().sum()"
   ]
  },
  {
   "cell_type": "markdown",
   "metadata": {},
   "source": [
    "Есть пропуски в столбцах `tenure` (сколько лет человек является клиентом банка)."
   ]
  },
  {
   "cell_type": "markdown",
   "metadata": {},
   "source": [
    "**15. Определим, какую долю составляют пропущенные значения.** \n",
    "\n",
    "Необходимо определить какую долю, в процентах, составляют пропущенные значения, в каждом из столбцов с пропусками, по отношению к количеству всех элементов в каждом из этих столбцов. Данная информация поможет определить, смогут ли они повлиять на результат нашего исследования."
   ]
  },
  {
   "cell_type": "code",
   "execution_count": 17,
   "metadata": {},
   "outputs": [
    {
     "data": {
      "text/plain": [
       "row_number          0.00\n",
       "customer_id         0.00\n",
       "surname             0.00\n",
       "credit_score        0.00\n",
       "geography           0.00\n",
       "gender              0.00\n",
       "age                 0.00\n",
       "tenure              9.09\n",
       "balance             0.00\n",
       "num_of_products     0.00\n",
       "has_cr_card         0.00\n",
       "is_active_member    0.00\n",
       "estimated_salary    0.00\n",
       "exited              0.00\n",
       "dtype: float64"
      ]
     },
     "execution_count": 17,
     "metadata": {},
     "output_type": "execute_result"
    }
   ],
   "source": [
    "# определим, в процентах, какую долю составляют пропущенные значения в каждом из столбцов с пропусками\n",
    "df.isna().mean() * 100"
   ]
  },
  {
   "cell_type": "markdown",
   "metadata": {},
   "source": [
    "Доля пропущенных значений, в столбцe:\n",
    "* `tenure`                - **9.09 %**\n",
    "\n",
    "достаточно весомая, что существенно может повлиять на результат нашего исследования.\n",
    "\n",
    "Восстановим пропуски в столбце `tenure`, с данными - сколько лет человек является клиентом банка, используя метод К - ближайщих соседей, на этапе подготовки данных для исследования. Так как, на данный момент, датафрейм содержит столбцы со строковыми данными."
   ]
  },
  {
   "cell_type": "markdown",
   "metadata": {},
   "source": [
    "### Обработка дубликатов"
   ]
  },
  {
   "cell_type": "markdown",
   "metadata": {},
   "source": [
    "**16. Обработаем неявные дубликаты в столбце `surname`.**"
   ]
  },
  {
   "cell_type": "code",
   "execution_count": 19,
   "metadata": {},
   "outputs": [
    {
     "data": {
      "text/plain": [
       "surname\n",
       "Smith       32\n",
       "Scott       29\n",
       "Martin      29\n",
       "Walker      28\n",
       "Brown       26\n",
       "            ..\n",
       "Izmailov     1\n",
       "Bold         1\n",
       "Bonham       1\n",
       "Poninski     1\n",
       "Burbidge     1\n",
       "Name: count, Length: 2932, dtype: int64"
      ]
     },
     "execution_count": 19,
     "metadata": {},
     "output_type": "execute_result"
    }
   ],
   "source": [
    "# выведем перечень уникальных значений столбца и их количество\n",
    "df['surname'].value_counts()"
   ]
  },
  {
   "cell_type": "code",
   "execution_count": 20,
   "metadata": {},
   "outputs": [],
   "source": [
    "# построим набор знаков препинания.\n",
    "punctuation_set = ',.;()[]\\'!\\\"?_'"
   ]
  },
  {
   "cell_type": "code",
   "execution_count": 21,
   "metadata": {},
   "outputs": [],
   "source": [
    "# определяем функцию 'replace_punctuation' для удаления знаков препинания, входящих в набор 'punctuation_set',\n",
    "# из входящей строки\n",
    "def replace_punctuation(string):\n",
    "    try:\n",
    "        clean_string = ''\n",
    "    \n",
    "        for letter in string:\n",
    "            if letter not in punctuation_set:\n",
    "                clean_string += letter\n",
    "            \n",
    "        return clean_string\n",
    "    except:\n",
    "        return None"
   ]
  },
  {
   "cell_type": "code",
   "execution_count": 22,
   "metadata": {},
   "outputs": [],
   "source": [
    "# определяем функцию для обработки неявных дубликатов в переданном параметре 'string'\n",
    "def replace_duplicates(string): \n",
    "    try:\n",
    "        string = replace_punctuation(string)\n",
    "        string = string.lower()\n",
    "        return string\n",
    "    except:\n",
    "        return None"
   ]
  },
  {
   "cell_type": "code",
   "execution_count": 23,
   "metadata": {},
   "outputs": [],
   "source": [
    "# обрабатываем неявные дубликаты\n",
    "df['surname'] = df['surname'].apply(replace_duplicates)"
   ]
  },
  {
   "cell_type": "code",
   "execution_count": 24,
   "metadata": {},
   "outputs": [
    {
     "data": {
      "text/plain": [
       "0"
      ]
     },
     "execution_count": 24,
     "metadata": {},
     "output_type": "execute_result"
    }
   ],
   "source": [
    "# проверяем количество строк дубликатов\n",
    "df.duplicated().sum()"
   ]
  },
  {
   "cell_type": "markdown",
   "metadata": {},
   "source": [
    "**17. Обработаем неявные дубликаты в столбце `row_number`.**\n",
    "\n",
    "Данный столбец является индексом строки в данных, предствавленных в исходном датафрейме, который является дублирующим индексом к индексу самого датафрейма, и должен содержать только уникальные значения. При наличии в данном столбце строк дубликатов, при отсутствии строк дубликатов в датафрейме, при вызове метода: `df.duplicated().sum()`, они должны быть удалены."
   ]
  },
  {
   "cell_type": "code",
   "execution_count": 25,
   "metadata": {},
   "outputs": [
    {
     "data": {
      "text/plain": [
       "0"
      ]
     },
     "execution_count": 25,
     "metadata": {},
     "output_type": "execute_result"
    }
   ],
   "source": [
    "# проверяем количество строк дубликатов в столбце `row_number`\n",
    "df['row_number'].duplicated().sum()"
   ]
  },
  {
   "cell_type": "markdown",
   "metadata": {},
   "source": [
    "**18. Обработаем неявные дубликаты в столбце `customer_id`.**\n",
    "\n",
    "Данный столбец с уникальным идентификатор клиента банка, предствавленных в исходном датафрейме, должен содержать только уникальные значения. При наличии в данном столбце строк дубликатов, при отсутствии строк дубликатов в датафрейме, при вызове метода: `df.duplicated().sum()`, они должны быть удалены."
   ]
  },
  {
   "cell_type": "code",
   "execution_count": 26,
   "metadata": {},
   "outputs": [
    {
     "data": {
      "text/plain": [
       "0"
      ]
     },
     "execution_count": 26,
     "metadata": {},
     "output_type": "execute_result"
    }
   ],
   "source": [
    "# проверяем количество строк дубликатов в столбце `customer_id`\n",
    "df['customer_id'].duplicated().sum()"
   ]
  },
  {
   "cell_type": "markdown",
   "metadata": {},
   "source": [
    "### Обработка аномальных значений\n",
    "\n",
    "В данных могут встречаться артефакты (аномалии) — значения, которые не отражают действительность и появились по какой-то ошибке."
   ]
  },
  {
   "cell_type": "markdown",
   "metadata": {},
   "source": [
    "**19. Выведем перечень уникальных значений столбца `row_number`.**"
   ]
  },
  {
   "cell_type": "code",
   "execution_count": 27,
   "metadata": {},
   "outputs": [
    {
     "data": {
      "text/plain": [
       "row_number\n",
       "1        1\n",
       "6671     1\n",
       "6664     1\n",
       "6665     1\n",
       "6666     1\n",
       "        ..\n",
       "3334     1\n",
       "3335     1\n",
       "3336     1\n",
       "3337     1\n",
       "10000    1\n",
       "Name: count, Length: 10000, dtype: int64"
      ]
     },
     "execution_count": 27,
     "metadata": {},
     "output_type": "execute_result"
    }
   ],
   "source": [
    "# выведем перечень уникальных значений столбца и их количество\n",
    "df['row_number'].value_counts()"
   ]
  },
  {
   "cell_type": "code",
   "execution_count": 28,
   "metadata": {},
   "outputs": [
    {
     "data": {
      "text/plain": [
       "0"
      ]
     },
     "execution_count": 28,
     "metadata": {},
     "output_type": "execute_result"
    }
   ],
   "source": [
    "# проверим столбец на наличие отрицательных значений\n",
    "len(df[df['row_number'] < 0])"
   ]
  },
  {
   "cell_type": "markdown",
   "metadata": {},
   "source": [
    "Аномальных значений в столбце нет."
   ]
  },
  {
   "cell_type": "markdown",
   "metadata": {},
   "source": [
    "**20. Выведем перечень уникальных значений столбца `customer_id`.**"
   ]
  },
  {
   "cell_type": "code",
   "execution_count": 29,
   "metadata": {},
   "outputs": [
    {
     "data": {
      "text/plain": [
       "customer_id\n",
       "15634602    1\n",
       "15667932    1\n",
       "15766185    1\n",
       "15667632    1\n",
       "15599024    1\n",
       "           ..\n",
       "15599078    1\n",
       "15702300    1\n",
       "15660735    1\n",
       "15671390    1\n",
       "15628319    1\n",
       "Name: count, Length: 10000, dtype: int64"
      ]
     },
     "execution_count": 29,
     "metadata": {},
     "output_type": "execute_result"
    }
   ],
   "source": [
    "# выведем перечень уникальных значений столбца и их количество\n",
    "df['customer_id'].value_counts()"
   ]
  },
  {
   "cell_type": "code",
   "execution_count": 30,
   "metadata": {},
   "outputs": [
    {
     "data": {
      "text/plain": [
       "0"
      ]
     },
     "execution_count": 30,
     "metadata": {},
     "output_type": "execute_result"
    }
   ],
   "source": [
    "# проверим столбец на наличие отрицательных значений\n",
    "len(df[df['customer_id'] < 1])"
   ]
  },
  {
   "cell_type": "markdown",
   "metadata": {},
   "source": [
    "Аномальных значений в столбце нет."
   ]
  },
  {
   "cell_type": "markdown",
   "metadata": {},
   "source": [
    "**21. Выведем перечень уникальных значений столбца `surname`.**"
   ]
  },
  {
   "cell_type": "code",
   "execution_count": 31,
   "metadata": {},
   "outputs": [
    {
     "data": {
      "text/plain": [
       "['hargrave',\n",
       " 'hill',\n",
       " 'onio',\n",
       " 'boni',\n",
       " 'mitchell',\n",
       " 'chu',\n",
       " 'bartlett',\n",
       " 'obinna',\n",
       " 'he',\n",
       " 'h',\n",
       " 'bearce',\n",
       " 'andrews',\n",
       " 'kay',\n",
       " 'chin',\n",
       " 'scott',\n",
       " 'goforth',\n",
       " 'romeo',\n",
       " 'henderson',\n",
       " 'muldrow',\n",
       " 'hao',\n",
       " 'mcdonald',\n",
       " 'dellucci',\n",
       " 'gerasimov',\n",
       " 'mosman',\n",
       " 'yen',\n",
       " 'maclean',\n",
       " 'young',\n",
       " 'nebechi',\n",
       " 'mcwilliams',\n",
       " 'lucciano',\n",
       " 'azikiwe',\n",
       " 'odinakachukwu',\n",
       " 'sanderson',\n",
       " 'maggard',\n",
       " 'clements',\n",
       " 'lombardo',\n",
       " 'watson',\n",
       " 'lorenzo',\n",
       " 'armstrong',\n",
       " 'cameron',\n",
       " 'hsiao',\n",
       " 'clarke',\n",
       " 'osborne',\n",
       " 'lavine',\n",
       " 'bianchi',\n",
       " 'tyler',\n",
       " 'martin',\n",
       " 'okagbue',\n",
       " 'yin',\n",
       " 'buccho',\n",
       " 'chidiebele',\n",
       " 'trevisani',\n",
       " 'obrien',\n",
       " 'parkhill',\n",
       " 'yoo',\n",
       " 'phillipps',\n",
       " 'tsao',\n",
       " 'endrizzi',\n",
       " 'tien',\n",
       " 'velazquez',\n",
       " 'hunter',\n",
       " 'clark',\n",
       " 'jeffrey',\n",
       " 'pirozzi',\n",
       " 'jackson',\n",
       " 'hammond',\n",
       " 'brownless',\n",
       " 'chibugo',\n",
       " 'glauert',\n",
       " 'pisano',\n",
       " 'konovalova',\n",
       " 'mckee',\n",
       " 'palermo',\n",
       " 'ballard',\n",
       " 'wallace',\n",
       " 'cavenagh',\n",
       " 'hu',\n",
       " 'read',\n",
       " 'bushell',\n",
       " 'postle',\n",
       " 'buley',\n",
       " 'leonard',\n",
       " 'mills',\n",
       " 'onyeorulu',\n",
       " 'beit',\n",
       " 'ndukaku',\n",
       " 'gant',\n",
       " 'rowley',\n",
       " 'sharpe',\n",
       " 'heap',\n",
       " 'ritchie',\n",
       " 'cole',\n",
       " 'capon',\n",
       " 'fiorentini',\n",
       " 'graham',\n",
       " 'yuille',\n",
       " 'allard',\n",
       " 'fanucci',\n",
       " 'fu',\n",
       " 'hung',\n",
       " 'bradley',\n",
       " 'dunbabin',\n",
       " 'mauldon',\n",
       " 'stiger',\n",
       " 'parsons',\n",
       " 'walkom',\n",
       " 'tang',\n",
       " 'eremenko',\n",
       " 'rowntree',\n",
       " 'thorpe',\n",
       " 'chiemela',\n",
       " 'ko',\n",
       " 'welch',\n",
       " 'duncan',\n",
       " 'chidozie',\n",
       " 'wu',\n",
       " 'culbreth',\n",
       " 'kennedy',\n",
       " 'calabresi',\n",
       " 'zetticci',\n",
       " 'fuller',\n",
       " 'macdonald',\n",
       " 'piccio',\n",
       " 'fernie',\n",
       " 'kaodilinakachukwu',\n",
       " 'cocci',\n",
       " 'alekseeva',\n",
       " 'chinweike',\n",
       " 'arthur',\n",
       " 'li',\n",
       " 'ma',\n",
       " 'chia',\n",
       " 'vasin',\n",
       " 'groves',\n",
       " 'forwood',\n",
       " 'greeves',\n",
       " 'taylor',\n",
       " 'madukwe',\n",
       " 'bennelong',\n",
       " 'olisanugo',\n",
       " 'chukwufumnanya',\n",
       " 'harris',\n",
       " 'morgan',\n",
       " 'alexeeva',\n",
       " 'metcalfe',\n",
       " 'humphries',\n",
       " 'milne',\n",
       " 'chou',\n",
       " 'clayton',\n",
       " 'chigolum',\n",
       " 'wilkinson',\n",
       " 'wei',\n",
       " 'treacy',\n",
       " 'taverner',\n",
       " 'sherman',\n",
       " 'taubman',\n",
       " 'robinson',\n",
       " 'pinto',\n",
       " 'wood',\n",
       " 'hawkins',\n",
       " 'sun',\n",
       " 'yost',\n",
       " 'ting',\n",
       " 'rowe',\n",
       " 'ho',\n",
       " 'okechukwu',\n",
       " 'campbell',\n",
       " 'ashbolt',\n",
       " 'rozier',\n",
       " 'hsia',\n",
       " 'ogbonnaya',\n",
       " 'chang',\n",
       " 'tao',\n",
       " 'ford',\n",
       " 'marshall',\n",
       " 'tsai',\n",
       " 'onwumelu',\n",
       " 'golovanov',\n",
       " 'potts',\n",
       " 'crawford',\n",
       " 'aleshire',\n",
       " 'moran',\n",
       " 'samsonova',\n",
       " 'jenkins',\n",
       " 'volkov',\n",
       " 'chiemezie',\n",
       " 'jude',\n",
       " 'onuora',\n",
       " 'ginikanwa',\n",
       " 'ku',\n",
       " 'collins',\n",
       " 'hackett',\n",
       " 'dike',\n",
       " 'trevisano',\n",
       " 'tan',\n",
       " 'glassman',\n",
       " 'miller',\n",
       " 'kornilova',\n",
       " 'marchesi',\n",
       " 'millar',\n",
       " 'shih',\n",
       " 'hay',\n",
       " 'yang',\n",
       " 'mcintyre',\n",
       " 'stevenson',\n",
       " 'poole',\n",
       " 'bagley',\n",
       " 'chien',\n",
       " 'cattaneo',\n",
       " 'osullivan',\n",
       " 'lucas',\n",
       " 'ringrose',\n",
       " 'freeman',\n",
       " 'sergeyev',\n",
       " 'fiore',\n",
       " 'smith',\n",
       " 'dumetochukwu',\n",
       " 'pacheco',\n",
       " 'synnot',\n",
       " 'johnston',\n",
       " 'stevens',\n",
       " 'grant',\n",
       " 'barnes',\n",
       " 'mcintosh',\n",
       " 'madison',\n",
       " 'ifesinachi',\n",
       " 'glazkov',\n",
       " 'dimauro',\n",
       " 'wieck',\n",
       " 'liao',\n",
       " 'hughes',\n",
       " 'morrison',\n",
       " 'matveyeva',\n",
       " 'cheatham',\n",
       " 'yao',\n",
       " 'kirkland',\n",
       " 'rose',\n",
       " 'jess',\n",
       " 'ifeajuna',\n",
       " 'morton',\n",
       " 'rossi',\n",
       " 'reppert',\n",
       " 'kang',\n",
       " 'chiu',\n",
       " 'wallis',\n",
       " 'fielding',\n",
       " 'dulhunty',\n",
       " 'bevington',\n",
       " 'boyle',\n",
       " 'newton',\n",
       " 'bowman',\n",
       " 'dubinina',\n",
       " 'toscani',\n",
       " 'chiazagomekpere',\n",
       " 'allen',\n",
       " 'kung',\n",
       " 'wilsmore',\n",
       " 'hargreaves',\n",
       " 'huang',\n",
       " 'wallwork',\n",
       " 'davidson',\n",
       " 'odonnell',\n",
       " 'nnachetam',\n",
       " 'ahmed',\n",
       " 'booth',\n",
       " 'chuang',\n",
       " 'shao',\n",
       " 'johnson',\n",
       " 'french',\n",
       " 'efremov',\n",
       " 'hartley',\n",
       " 'calabrese',\n",
       " 'brennan',\n",
       " 'onwuatuegwu',\n",
       " 'hewitt',\n",
       " 'balashov',\n",
       " 'doyle',\n",
       " 'pokrovskii',\n",
       " 'russo',\n",
       " 'skinner',\n",
       " 'robertson',\n",
       " 'atkinson',\n",
       " 'mcencroe',\n",
       " 'pearson',\n",
       " 'gordon',\n",
       " 'lung',\n",
       " 'yuan',\n",
       " 'pardey',\n",
       " 'tai',\n",
       " 'mazzanti',\n",
       " 'l',\n",
       " 'beach',\n",
       " 'hsieh',\n",
       " 'faulkner',\n",
       " 'knowles',\n",
       " 'day',\n",
       " 'hsueh',\n",
       " 'nwabugwu',\n",
       " 'kerr',\n",
       " 'marrero',\n",
       " 'white',\n",
       " 'brown',\n",
       " 'russell',\n",
       " 'seleznyov',\n",
       " 'yusupova',\n",
       " 'foley',\n",
       " 'ikedinachukwu',\n",
       " 'power',\n",
       " 'amos',\n",
       " 'reed',\n",
       " 'simmons',\n",
       " 'ricci',\n",
       " 'west',\n",
       " 'chen',\n",
       " 'madukaego',\n",
       " 'ibrahimova',\n",
       " 'nolan',\n",
       " 'blair',\n",
       " 'monaldo',\n",
       " 'sutherland',\n",
       " 'briggs',\n",
       " 'gregory',\n",
       " 'angelo',\n",
       " 'gardiner',\n",
       " 'distefano',\n",
       " 'farrell',\n",
       " 'milano',\n",
       " 'boyd',\n",
       " 'onyemaechi',\n",
       " 'black',\n",
       " 'oliver',\n",
       " 'greco',\n",
       " 'whitehead',\n",
       " 'ikemefuna',\n",
       " 'onyeoruru',\n",
       " 'cunningham',\n",
       " 'demidov',\n",
       " 'celis',\n",
       " 'cheng',\n",
       " 'knight',\n",
       " 'morin',\n",
       " 'outhwaite',\n",
       " 'tung',\n",
       " 'pai',\n",
       " 'carpenter',\n",
       " 'fennell',\n",
       " 'fontaine',\n",
       " 'pratt',\n",
       " 'franklin',\n",
       " 'mckenzie',\n",
       " 'pino',\n",
       " 'fisk',\n",
       " 'chiang',\n",
       " 'moseley',\n",
       " 'hsiung',\n",
       " 'heath',\n",
       " 'de salis',\n",
       " 'richardson',\n",
       " 'fitch',\n",
       " 'estes',\n",
       " 'lattimore',\n",
       " 'chung',\n",
       " 'utz',\n",
       " 'nwachinemelu',\n",
       " 'kuznetsova',\n",
       " 'pisani',\n",
       " 'manna',\n",
       " 'collier',\n",
       " 'carr',\n",
       " 'hs',\n",
       " 'findlay',\n",
       " 'chukwuemeka',\n",
       " 'genovese',\n",
       " 'swift',\n",
       " 'ugoji',\n",
       " 'parkinson',\n",
       " 'ross',\n",
       " 'oleary',\n",
       " 'turnbull',\n",
       " 'uspensky',\n",
       " 'cook',\n",
       " 'newbold',\n",
       " 'uchechukwu',\n",
       " 'hilton',\n",
       " 'sal',\n",
       " 'eluemuno',\n",
       " 'titus',\n",
       " 'lettiere',\n",
       " 'templeman',\n",
       " 'chibuzo',\n",
       " 'evans',\n",
       " 'enyinnaya',\n",
       " 'brookes',\n",
       " 'padovano',\n",
       " 'hare',\n",
       " 'muir',\n",
       " 'elewechi',\n",
       " 'ankudinov',\n",
       " 'nwokike',\n",
       " 'atkins',\n",
       " 'burns',\n",
       " 'obiuto',\n",
       " 'george',\n",
       " 'lewis',\n",
       " 'dalrymple',\n",
       " 'carslaw',\n",
       " 'kirby',\n",
       " 'houghton',\n",
       " 'westerberg',\n",
       " 'hale',\n",
       " 'kryukova',\n",
       " 'sopuluchukwu',\n",
       " 'barry',\n",
       " 'selezneva',\n",
       " 'chizuoke',\n",
       " 'lueck',\n",
       " 'udinese',\n",
       " 'udobata',\n",
       " 'outlaw',\n",
       " 'lo',\n",
       " 'king',\n",
       " 'forbes',\n",
       " 'macleod',\n",
       " 'gibbs',\n",
       " 'isayev',\n",
       " 'belstead',\n",
       " 'vassiliev',\n",
       " 'schneider',\n",
       " 'knipe',\n",
       " 'macartney',\n",
       " 'watts',\n",
       " 'humphreys',\n",
       " 'chesnokova',\n",
       " 'lu',\n",
       " 'nkemakolam',\n",
       " 'walton',\n",
       " 'baldwin',\n",
       " 'mai',\n",
       " 'ferreira',\n",
       " 'ukaegbunam',\n",
       " 'de luca',\n",
       " 'davide',\n",
       " 'kodilinyechukwu',\n",
       " 'little',\n",
       " 'paterson',\n",
       " 'han',\n",
       " 'ijendu',\n",
       " 'reichard',\n",
       " 'price',\n",
       " 'bruce',\n",
       " 'sumrall',\n",
       " 'lazarev',\n",
       " 'wentworth-shields',\n",
       " 'mackenzie',\n",
       " 'pendergrass',\n",
       " 'billson',\n",
       " 'teng',\n",
       " 'moretti',\n",
       " 'jordan',\n",
       " 'obialo',\n",
       " 'gray',\n",
       " 'lin',\n",
       " 'hopkins',\n",
       " 'dobson',\n",
       " 'mckay',\n",
       " 'revell',\n",
       " 'rickards',\n",
       " 'begum',\n",
       " 'onyinyechukwuka',\n",
       " 'zuyev',\n",
       " 'nwankwo',\n",
       " 'okwuadigbo',\n",
       " 'chan',\n",
       " 'buchi',\n",
       " 'lombardi',\n",
       " 'uchenna',\n",
       " 'coffman',\n",
       " 'alexandrova',\n",
       " 'fallaci',\n",
       " 'hudson',\n",
       " 'stout',\n",
       " 'burke',\n",
       " 'chadwick',\n",
       " 'lawrence',\n",
       " 'bellucci',\n",
       " 'harper',\n",
       " 'moss',\n",
       " 'avdeyeva',\n",
       " 'lynton',\n",
       " 'gether',\n",
       " 'larionova',\n",
       " 'loggia',\n",
       " 'steinhoff',\n",
       " 'guerra',\n",
       " 'craig',\n",
       " 'lazareva',\n",
       " 'alderete',\n",
       " 'rahman',\n",
       " 'mcmillan',\n",
       " 'pickering',\n",
       " 'mirams',\n",
       " 'douglas',\n",
       " 'jideofor',\n",
       " 'bell',\n",
       " 'mairinger',\n",
       " 'pagnotto',\n",
       " 'feng',\n",
       " 'donaldson',\n",
       " 'chambers',\n",
       " 'marcelo',\n",
       " 'ejimofor',\n",
       " 'dale',\n",
       " 'pokrovsky',\n",
       " 'stonebraker',\n",
       " 'liang',\n",
       " 'anderson',\n",
       " 'christian',\n",
       " 'mao',\n",
       " 'sagese',\n",
       " 'fleming',\n",
       " 'grubb',\n",
       " 'napolitani',\n",
       " 'anenechi',\n",
       " 'chandler',\n",
       " 'howells',\n",
       " 'akeroyd',\n",
       " 'uwaezuoke',\n",
       " 'loyau',\n",
       " 'small',\n",
       " 'bledsoe',\n",
       " 'kao',\n",
       " 'wickens',\n",
       " 'wertheim',\n",
       " 'jarvis',\n",
       " 'pan',\n",
       " 'repina',\n",
       " 'pugliesi',\n",
       " 'blakey',\n",
       " 'nucci',\n",
       " 'higinbotham',\n",
       " 'achebe',\n",
       " 'dobie',\n",
       " 'maccallum',\n",
       " 'watkins',\n",
       " 'mitchel',\n",
       " 'ferdinand',\n",
       " 'otitodilinna',\n",
       " 'mamelu',\n",
       " 'beneventi',\n",
       " 'perrodin',\n",
       " 'chinagorom',\n",
       " 'napolitano',\n",
       " 'edgar',\n",
       " 'walker',\n",
       " 'steele',\n",
       " 'elkins',\n",
       " 'toscano',\n",
       " 'savage',\n",
       " 'mordvinova',\n",
       " 'kent',\n",
       " 'cooper',\n",
       " 'mazzi',\n",
       " 'fisher',\n",
       " 'summers',\n",
       " 'brady',\n",
       " 'nicholls',\n",
       " 'golubov',\n",
       " 'oldham',\n",
       " 'kambinachi',\n",
       " 'chinwemma',\n",
       " 'olsen',\n",
       " 'jen',\n",
       " 'preston',\n",
       " 'ozioma',\n",
       " 'cody',\n",
       " 'ponomarev',\n",
       " 'milani',\n",
       " 'romani',\n",
       " 'davis',\n",
       " 'onyemauchechukwu',\n",
       " 'gell',\n",
       " 'chiwetelu',\n",
       " 'kirillova',\n",
       " 'shaw',\n",
       " 'okwudilichukwu',\n",
       " 'onuoha',\n",
       " 'muecke',\n",
       " 'azubuike',\n",
       " 'nnonso',\n",
       " 'ashley',\n",
       " 'tsui',\n",
       " 'kenenna',\n",
       " 'beluchi',\n",
       " 'williamson',\n",
       " 'bobrov',\n",
       " 'pitts',\n",
       " 'standish',\n",
       " 'cartwright',\n",
       " 'johnstone',\n",
       " 'nikitina',\n",
       " 'mcelroy',\n",
       " 'shen',\n",
       " 'archer',\n",
       " 'otutodilinna',\n",
       " 'denisov',\n",
       " 'owens',\n",
       " 'peng',\n",
       " 'verco',\n",
       " 'bergamaschi',\n",
       " 'outtrim',\n",
       " 'hou',\n",
       " 'galkin',\n",
       " 'echezonachukwu',\n",
       " 'munro',\n",
       " 'ball',\n",
       " 'virgo',\n",
       " 'perez',\n",
       " 'fraser',\n",
       " 'alley',\n",
       " 'hooper',\n",
       " 'rice',\n",
       " 'cox',\n",
       " 'ikenna',\n",
       " 'alexander',\n",
       " 'piazza',\n",
       " 'ni',\n",
       " 'harker',\n",
       " 'chiabuotu',\n",
       " 'kuo',\n",
       " 'gallagher',\n",
       " 'zhirov',\n",
       " 'lloyd',\n",
       " 'palmer',\n",
       " 'avent',\n",
       " 'trentini',\n",
       " 'koehler',\n",
       " 'okoli',\n",
       " 'nwokezuike',\n",
       " 'artemiev',\n",
       " 'esposito',\n",
       " 'abbie',\n",
       " 'averyanov',\n",
       " 'unaipon',\n",
       " 'clamp',\n",
       " 'lim',\n",
       " 'wan',\n",
       " 'pettit',\n",
       " 'baresi',\n",
       " 'newbery',\n",
       " 'iheanacho',\n",
       " 'landry',\n",
       " 'mcgregor',\n",
       " 'pirogov',\n",
       " 'oguejiofor',\n",
       " 'ugochukwu',\n",
       " 'rohu',\n",
       " 'cary',\n",
       " 'ologhlen',\n",
       " 'quinn',\n",
       " 'page',\n",
       " 'stanley',\n",
       " 'bednall',\n",
       " 'she',\n",
       " 'may',\n",
       " 'seabrook',\n",
       " 'herrera',\n",
       " 'kincaid',\n",
       " 'sleeman',\n",
       " 'artemieva',\n",
       " 'barwell',\n",
       " 'wright',\n",
       " 'moore',\n",
       " 'sung',\n",
       " 'mello',\n",
       " 'mistry',\n",
       " 'chukwukadibia',\n",
       " 'zikoranachidimma',\n",
       " 'oluchukwu',\n",
       " 'rivera',\n",
       " 'niu',\n",
       " 'bennett',\n",
       " 'wollstonecraft',\n",
       " 'thomsen',\n",
       " 'chinwendu',\n",
       " 'james',\n",
       " 'lamb',\n",
       " 'olejuru',\n",
       " 'chiawuotu',\n",
       " 'yeates',\n",
       " 'thurgood',\n",
       " 'knupp',\n",
       " 'baryshnikov',\n",
       " 'shephard',\n",
       " 'avdeeva',\n",
       " 'hsu',\n",
       " 'buchanan',\n",
       " 'yeh',\n",
       " 'palazzi',\n",
       " 'yan',\n",
       " 'schofield',\n",
       " 'wall',\n",
       " 'blackburn',\n",
       " 'wickham',\n",
       " 'bird',\n",
       " 'brizendine',\n",
       " 'yusupov',\n",
       " 'jibunoh',\n",
       " 'wilder',\n",
       " 'nepean',\n",
       " 'mcness',\n",
       " 'coles',\n",
       " 'benson',\n",
       " 'gilbert',\n",
       " 'wilhelm',\n",
       " 'sinclair',\n",
       " 'buckner',\n",
       " 'padovesi',\n",
       " 'palerma',\n",
       " 'kenniff',\n",
       " 'spencer',\n",
       " 'lees',\n",
       " 'david',\n",
       " 'hsing',\n",
       " 'ginn',\n",
       " 'sozonov',\n",
       " 'manfrin',\n",
       " 'artamonova',\n",
       " 'hansen',\n",
       " 'larsen',\n",
       " 'owen',\n",
       " 'murphy',\n",
       " 'ekechukwu',\n",
       " 'ayers',\n",
       " 'sanders',\n",
       " 'eberechukwu',\n",
       " 'bardin',\n",
       " 'talbot',\n",
       " 'goold',\n",
       " 'zikoranaudodimma',\n",
       " 'garner',\n",
       " 'naylor',\n",
       " 'fulton',\n",
       " 'mccaffrey',\n",
       " 'zuev',\n",
       " 'fabro',\n",
       " 'chatfield',\n",
       " 'volkova',\n",
       " 'abramovich',\n",
       " 'timms',\n",
       " 'williford',\n",
       " 'hamilton',\n",
       " 'su',\n",
       " 'akobundu',\n",
       " 'chukwuebuka',\n",
       " 'lampungmeiua',\n",
       " 'kline',\n",
       " 'riggs',\n",
       " 'davison',\n",
       " 'ingram',\n",
       " 'dilke',\n",
       " 'gibson',\n",
       " 'iadanza',\n",
       " 'hebert',\n",
       " 'jamieson',\n",
       " 'chiganu',\n",
       " 'burgess',\n",
       " 'woods',\n",
       " 'bluett',\n",
       " 'chapman',\n",
       " 'andrejew',\n",
       " 'spyer',\n",
       " 'philip',\n",
       " 'perry',\n",
       " 'fokine',\n",
       " 'mackay',\n",
       " 'maslova',\n",
       " 'mclean',\n",
       " 'thompson',\n",
       " 'tisdall',\n",
       " 'onochie',\n",
       " 'mironova',\n",
       " 'ndubueze',\n",
       " 'stephenson',\n",
       " 'golubev',\n",
       " 'mullan',\n",
       " 'glover',\n",
       " 'northey',\n",
       " 'howarde',\n",
       " 'colman',\n",
       " 'butcher',\n",
       " 'wilkie',\n",
       " 'bray',\n",
       " 'ann',\n",
       " 'souter',\n",
       " 'medvedeva',\n",
       " 'onwudiwe',\n",
       " 'ferrari',\n",
       " 'hazon',\n",
       " 'hardy',\n",
       " 'dickson',\n",
       " 'holden',\n",
       " 'doherty',\n",
       " 'samuel',\n",
       " 'malloy',\n",
       " 'fitts',\n",
       " 'yefimova',\n",
       " 'abramov',\n",
       " 'demuth',\n",
       " 'lawless',\n",
       " 'brooks',\n",
       " 'ignatyeva',\n",
       " 'balmain',\n",
       " 'ecuyer',\n",
       " 'li fonti',\n",
       " 'despeissis',\n",
       " 'williams',\n",
       " 'hancock',\n",
       " 'wilkins',\n",
       " 'longo',\n",
       " 'mancini',\n",
       " 'winter-irving',\n",
       " 'stewart',\n",
       " 'murray',\n",
       " 'rischbieth',\n",
       " 'otutodilichukwu',\n",
       " 'thomas',\n",
       " 'whitworth',\n",
       " 'trentino',\n",
       " 'mcmasters',\n",
       " 'alekseyeva',\n",
       " 'baranova',\n",
       " 'yobachi',\n",
       " 'sorokina',\n",
       " 'ervin',\n",
       " 'vance',\n",
       " 'noble',\n",
       " 'milanesi',\n",
       " 'parkin',\n",
       " 'cremonesi',\n",
       " 'docherty',\n",
       " 'ugonna',\n",
       " 'bevan',\n",
       " 'oneill',\n",
       " 'pham',\n",
       " 'osinachi',\n",
       " 'muravyov',\n",
       " 'igwebuike',\n",
       " 'zack',\n",
       " 'chidiegwu',\n",
       " 'lucchesi',\n",
       " 'yudin',\n",
       " 'wade',\n",
       " 'septimus',\n",
       " 'hargraves',\n",
       " 'sidorov',\n",
       " 'bunton',\n",
       " 'conti',\n",
       " 'sims',\n",
       " 'carter',\n",
       " 'dumetolisa',\n",
       " 'drake-brockman',\n",
       " 'tretiakov',\n",
       " 'lai',\n",
       " 'justice',\n",
       " 'osonduagwuike',\n",
       " 'ewing',\n",
       " 'tsou',\n",
       " 'ubanwa',\n",
       " 'kapustin',\n",
       " 'nnamutaezinwa',\n",
       " 'ferri',\n",
       " 'amechi',\n",
       " 'kirk',\n",
       " 'griffin',\n",
       " 'longstaff',\n",
       " 'mcwilliam',\n",
       " 'coffee',\n",
       " 'creswell',\n",
       " 'dodds',\n",
       " 'ewen',\n",
       " 'boniwell',\n",
       " 'vasilieva',\n",
       " 'kwemto',\n",
       " 'bocharova',\n",
       " 'morres',\n",
       " 'vogel',\n",
       " 'wisdom',\n",
       " 'shahan',\n",
       " 'bryant',\n",
       " 'hayward',\n",
       " 'liu',\n",
       " 'greece',\n",
       " 'norman',\n",
       " 'chukwudi',\n",
       " 'fedorov',\n",
       " 'reid',\n",
       " 'wofford',\n",
       " 'stephens',\n",
       " 'frolov',\n",
       " 'fields',\n",
       " 'suffolk',\n",
       " 'judd',\n",
       " 'degtyarev',\n",
       " 'kinlaw',\n",
       " 'omeokachie',\n",
       " 'gorbunova',\n",
       " 'tikhonov',\n",
       " 'campa',\n",
       " 'donoghue',\n",
       " 'tuan',\n",
       " 'baxter',\n",
       " 'rogers',\n",
       " 'byrne',\n",
       " 'aitken',\n",
       " 'macintyre',\n",
       " 'simpson',\n",
       " 'praed',\n",
       " 'laurens',\n",
       " 'bykov',\n",
       " 'vorobyova',\n",
       " 'pirogova',\n",
       " 'sturt',\n",
       " 'panicucci',\n",
       " 'siciliani',\n",
       " 'lucchese',\n",
       " 'swaim',\n",
       " 'quinones',\n",
       " 'ludowici',\n",
       " 'larson',\n",
       " 'landman',\n",
       " 'k',\n",
       " 'alexeyeva',\n",
       " 'chukwualuka',\n",
       " 'mccall',\n",
       " 'okeke',\n",
       " 'iloabuchi',\n",
       " 'nebechukwu',\n",
       " 'diribe',\n",
       " 'macgroarty',\n",
       " 'artemova',\n",
       " 'kelly',\n",
       " 'reilly',\n",
       " 'ojiofor',\n",
       " 'shelton',\n",
       " 'lange',\n",
       " 'hovell',\n",
       " 'espinosa',\n",
       " 'barbour',\n",
       " 'ozerova',\n",
       " 'ulyanova',\n",
       " 'steiner',\n",
       " 'akabueze',\n",
       " 'aleksandrova',\n",
       " 'griffiths',\n",
       " 'mcneil',\n",
       " 'bruno',\n",
       " 'okorie',\n",
       " 'moen',\n",
       " 'mcguigan',\n",
       " 'fancher',\n",
       " 'matthews',\n",
       " 'kaeppel',\n",
       " 'yudina',\n",
       " 'jamison',\n",
       " 'hardiman',\n",
       " 'woodard',\n",
       " 'chienezie',\n",
       " 'chineze',\n",
       " 'buckland',\n",
       " 'flannery',\n",
       " 'payne',\n",
       " 'vincent',\n",
       " 'pearce',\n",
       " 'riley',\n",
       " 'honore',\n",
       " 'macarthur',\n",
       " 'gould',\n",
       " 'medvedev',\n",
       " 'sholes',\n",
       " 'rolon',\n",
       " 'bligh',\n",
       " 'lamble',\n",
       " 'jose',\n",
       " 'howard',\n",
       " 'onwuamaeze',\n",
       " 'dalbertis',\n",
       " 'nwachukwu',\n",
       " 'simpkinson',\n",
       " 'conway',\n",
       " 'maslow',\n",
       " 'swadling',\n",
       " 'gallo',\n",
       " 'onyemachukwu',\n",
       " 'samoylova',\n",
       " 'leak',\n",
       " 'frost',\n",
       " 'warner',\n",
       " 'ifeatu',\n",
       " 'fan',\n",
       " 'whiddon',\n",
       " ...]"
      ]
     },
     "execution_count": 31,
     "metadata": {},
     "output_type": "execute_result"
    }
   ],
   "source": [
    "# выведем список всех уникальных значений столбца\n",
    "df['surname'].unique().tolist()"
   ]
  },
  {
   "cell_type": "markdown",
   "metadata": {},
   "source": [
    "Аномальных значений в столбце нет."
   ]
  },
  {
   "cell_type": "markdown",
   "metadata": {},
   "source": [
    "**22. Выведем перечень уникальных значений столбца `credit_score`.**"
   ]
  },
  {
   "cell_type": "code",
   "execution_count": 32,
   "metadata": {},
   "outputs": [
    {
     "data": {
      "text/plain": [
       "credit_score\n",
       "850    233\n",
       "678     63\n",
       "655     54\n",
       "705     53\n",
       "667     53\n",
       "      ... \n",
       "404      1\n",
       "351      1\n",
       "365      1\n",
       "417      1\n",
       "419      1\n",
       "Name: count, Length: 460, dtype: int64"
      ]
     },
     "execution_count": 32,
     "metadata": {},
     "output_type": "execute_result"
    }
   ],
   "source": [
    "# выведем перечень уникальных значений столбца и их количество\n",
    "df['credit_score'].value_counts()"
   ]
  },
  {
   "cell_type": "code",
   "execution_count": 33,
   "metadata": {},
   "outputs": [
    {
     "data": {
      "text/plain": [
       "0"
      ]
     },
     "execution_count": 33,
     "metadata": {},
     "output_type": "execute_result"
    }
   ],
   "source": [
    "# проверим столбец на наличие отрицательных значений\n",
    "len(df[df['credit_score'] < 0])"
   ]
  },
  {
   "cell_type": "markdown",
   "metadata": {},
   "source": [
    "Аномальных значений в столбце нет."
   ]
  },
  {
   "cell_type": "markdown",
   "metadata": {},
   "source": [
    "**23. Выведем перечень уникальных значений столбца `geography`.**"
   ]
  },
  {
   "cell_type": "code",
   "execution_count": 34,
   "metadata": {},
   "outputs": [
    {
     "data": {
      "text/plain": [
       "geography\n",
       "France     5014\n",
       "Germany    2509\n",
       "Spain      2477\n",
       "Name: count, dtype: int64"
      ]
     },
     "execution_count": 34,
     "metadata": {},
     "output_type": "execute_result"
    }
   ],
   "source": [
    "# выведем перечень уникальных значений столбца и их количество\n",
    "df['geography'].value_counts()"
   ]
  },
  {
   "cell_type": "code",
   "execution_count": 35,
   "metadata": {},
   "outputs": [],
   "source": [
    "# преобразуем значения-строки столбца в нижний регистр\n",
    "df['geography'] = df['geography'].str.lower()"
   ]
  },
  {
   "cell_type": "markdown",
   "metadata": {},
   "source": [
    "Аномальных значений в столбце нет."
   ]
  },
  {
   "cell_type": "markdown",
   "metadata": {},
   "source": [
    "**24. Выведем перечень уникальных значений столбца `gender`.**"
   ]
  },
  {
   "cell_type": "code",
   "execution_count": 36,
   "metadata": {},
   "outputs": [
    {
     "data": {
      "text/plain": [
       "gender\n",
       "Male      5457\n",
       "Female    4543\n",
       "Name: count, dtype: int64"
      ]
     },
     "execution_count": 36,
     "metadata": {},
     "output_type": "execute_result"
    }
   ],
   "source": [
    "# выведем перечень уникальных значений столбца и их количество\n",
    "df['gender'].value_counts()"
   ]
  },
  {
   "cell_type": "code",
   "execution_count": 37,
   "metadata": {},
   "outputs": [],
   "source": [
    "# преобразуем значенияз-строки в нижний регистр\n",
    "df['gender'] = df['gender'].str.lower()"
   ]
  },
  {
   "cell_type": "markdown",
   "metadata": {},
   "source": [
    "Аномальных значений в столбце нет."
   ]
  },
  {
   "cell_type": "markdown",
   "metadata": {},
   "source": [
    "**25. Выведем перечень уникальных значений столбца `age`.**"
   ]
  },
  {
   "cell_type": "code",
   "execution_count": 38,
   "metadata": {},
   "outputs": [
    {
     "data": {
      "text/plain": [
       "age\n",
       "37    478\n",
       "38    477\n",
       "35    474\n",
       "36    456\n",
       "34    447\n",
       "     ... \n",
       "92      2\n",
       "82      1\n",
       "88      1\n",
       "85      1\n",
       "83      1\n",
       "Name: count, Length: 70, dtype: int64"
      ]
     },
     "execution_count": 38,
     "metadata": {},
     "output_type": "execute_result"
    }
   ],
   "source": [
    "# выведем перечень уникальных значений столбца и их количество\n",
    "df['age'].value_counts()"
   ]
  },
  {
   "cell_type": "code",
   "execution_count": 39,
   "metadata": {},
   "outputs": [
    {
     "data": {
      "text/plain": [
       "0"
      ]
     },
     "execution_count": 39,
     "metadata": {},
     "output_type": "execute_result"
    }
   ],
   "source": [
    "# проверим столбец на наличие значений меньше 18 (18 - лет)\n",
    "len(df[df['credit_score'] < 18])"
   ]
  },
  {
   "cell_type": "markdown",
   "metadata": {},
   "source": [
    "Аномальных значений в столбце нет."
   ]
  },
  {
   "cell_type": "markdown",
   "metadata": {},
   "source": [
    "**26. Выведем перечень уникальных значений столбца `tenure`.**"
   ]
  },
  {
   "cell_type": "code",
   "execution_count": 40,
   "metadata": {},
   "outputs": [
    {
     "data": {
      "text/plain": [
       "tenure\n",
       "1.0     952\n",
       "2.0     950\n",
       "8.0     933\n",
       "3.0     928\n",
       "5.0     927\n",
       "7.0     925\n",
       "4.0     885\n",
       "9.0     882\n",
       "6.0     881\n",
       "10.0    446\n",
       "0.0     382\n",
       "Name: count, dtype: int64"
      ]
     },
     "execution_count": 40,
     "metadata": {},
     "output_type": "execute_result"
    }
   ],
   "source": [
    "# выведем перечень уникальных значений столбца и их количество\n",
    "df['tenure'].value_counts()"
   ]
  },
  {
   "cell_type": "markdown",
   "metadata": {},
   "source": [
    "Аномальных значений в столбце нет."
   ]
  },
  {
   "cell_type": "markdown",
   "metadata": {},
   "source": [
    "**27. Выведем перечень уникальных значений столбца `balance`.**"
   ]
  },
  {
   "cell_type": "code",
   "execution_count": 41,
   "metadata": {},
   "outputs": [
    {
     "data": {
      "text/plain": [
       "balance\n",
       "0.00         3617\n",
       "130170.82       2\n",
       "105473.74       2\n",
       "85304.27        1\n",
       "159397.75       1\n",
       "             ... \n",
       "81556.89        1\n",
       "112687.69       1\n",
       "108698.96       1\n",
       "238387.56       1\n",
       "130142.79       1\n",
       "Name: count, Length: 6382, dtype: int64"
      ]
     },
     "execution_count": 41,
     "metadata": {},
     "output_type": "execute_result"
    }
   ],
   "source": [
    "# выведем перечень уникальных значений столбца и их количество\n",
    "df['balance'].value_counts()"
   ]
  },
  {
   "cell_type": "code",
   "execution_count": 42,
   "metadata": {},
   "outputs": [
    {
     "data": {
      "text/plain": [
       "0"
      ]
     },
     "execution_count": 42,
     "metadata": {},
     "output_type": "execute_result"
    }
   ],
   "source": [
    "# проверим столбец на наличие отрицательных значений\n",
    "len(df[df['credit_score'] < 0])"
   ]
  },
  {
   "cell_type": "markdown",
   "metadata": {},
   "source": [
    "Аномальных значений в столбце нет."
   ]
  },
  {
   "cell_type": "markdown",
   "metadata": {},
   "source": [
    "**28. Выведем перечень уникальных значений столбца `num_of_products`.**"
   ]
  },
  {
   "cell_type": "code",
   "execution_count": 43,
   "metadata": {},
   "outputs": [
    {
     "data": {
      "text/plain": [
       "num_of_products\n",
       "1    5084\n",
       "2    4590\n",
       "3     266\n",
       "4      60\n",
       "Name: count, dtype: int64"
      ]
     },
     "execution_count": 43,
     "metadata": {},
     "output_type": "execute_result"
    }
   ],
   "source": [
    "# выведем перечень уникальных значений столбца и их количество\n",
    "df['num_of_products'].value_counts()"
   ]
  },
  {
   "cell_type": "markdown",
   "metadata": {},
   "source": [
    "Аномальных значений в столбце нет."
   ]
  },
  {
   "cell_type": "markdown",
   "metadata": {},
   "source": [
    "**29. Выведем перечень уникальных значений столбца `has_cr_card`.**"
   ]
  },
  {
   "cell_type": "code",
   "execution_count": 44,
   "metadata": {},
   "outputs": [
    {
     "data": {
      "text/plain": [
       "has_cr_card\n",
       "True     7055\n",
       "False    2945\n",
       "Name: count, dtype: int64"
      ]
     },
     "execution_count": 44,
     "metadata": {},
     "output_type": "execute_result"
    }
   ],
   "source": [
    "# выведем перечень уникальных значений столбца и их количество\n",
    "df['has_cr_card'].value_counts()"
   ]
  },
  {
   "cell_type": "markdown",
   "metadata": {},
   "source": [
    "Аномальных значений в столбце нет."
   ]
  },
  {
   "cell_type": "markdown",
   "metadata": {},
   "source": [
    "**30. Выведем перечень уникальных значений столбца `is_active_member`.**"
   ]
  },
  {
   "cell_type": "code",
   "execution_count": 45,
   "metadata": {},
   "outputs": [
    {
     "data": {
      "text/plain": [
       "is_active_member\n",
       "True     5151\n",
       "False    4849\n",
       "Name: count, dtype: int64"
      ]
     },
     "execution_count": 45,
     "metadata": {},
     "output_type": "execute_result"
    }
   ],
   "source": [
    "# выведем перечень уникальных значений столбца и их количество\n",
    "df['is_active_member'].value_counts()"
   ]
  },
  {
   "cell_type": "markdown",
   "metadata": {},
   "source": [
    "Аномальных значений в столбце нет."
   ]
  },
  {
   "cell_type": "markdown",
   "metadata": {},
   "source": [
    "**31. Выведем перечень уникальных значений столбца `estimated_salary`.**"
   ]
  },
  {
   "cell_type": "code",
   "execution_count": 46,
   "metadata": {},
   "outputs": [
    {
     "data": {
      "text/plain": [
       "estimated_salary\n",
       "24924.92     2\n",
       "101348.88    1\n",
       "55313.44     1\n",
       "72500.68     1\n",
       "182692.80    1\n",
       "            ..\n",
       "120893.07    1\n",
       "188377.21    1\n",
       "55902.93     1\n",
       "4523.74      1\n",
       "38190.78     1\n",
       "Name: count, Length: 9999, dtype: int64"
      ]
     },
     "execution_count": 46,
     "metadata": {},
     "output_type": "execute_result"
    }
   ],
   "source": [
    "# выведем перечень уникальных значений столбца и их количество\n",
    "df['estimated_salary'].value_counts()"
   ]
  },
  {
   "cell_type": "code",
   "execution_count": 47,
   "metadata": {},
   "outputs": [
    {
     "data": {
      "text/plain": [
       "0"
      ]
     },
     "execution_count": 47,
     "metadata": {},
     "output_type": "execute_result"
    }
   ],
   "source": [
    "# проверим столбец на наличие отрицательных значений\n",
    "len(df[df['estimated_salary'] < 0])"
   ]
  },
  {
   "cell_type": "markdown",
   "metadata": {},
   "source": [
    "Аномальных значений в столбце нет."
   ]
  },
  {
   "cell_type": "markdown",
   "metadata": {},
   "source": [
    "**32. Выведем перечень уникальных значений столбца `exited`.**"
   ]
  },
  {
   "cell_type": "code",
   "execution_count": 48,
   "metadata": {},
   "outputs": [
    {
     "data": {
      "text/plain": [
       "exited\n",
       "False    7963\n",
       "True     2037\n",
       "Name: count, dtype: int64"
      ]
     },
     "execution_count": 48,
     "metadata": {},
     "output_type": "execute_result"
    }
   ],
   "source": [
    "# выведем перечень уникальных значений столбца и их количество\n",
    "df['exited'].value_counts()"
   ]
  },
  {
   "cell_type": "markdown",
   "metadata": {},
   "source": [
    "Аномальных значений в столбце нет."
   ]
  },
  {
   "cell_type": "markdown",
   "metadata": {},
   "source": [
    "**33. Проверим какая доля исходного датасета осталась после фильтрации.**"
   ]
  },
  {
   "cell_type": "code",
   "execution_count": 49,
   "metadata": {},
   "outputs": [
    {
     "data": {
      "text/plain": [
       "100.0"
      ]
     },
     "execution_count": 49,
     "metadata": {},
     "output_type": "execute_result"
    }
   ],
   "source": [
    "# рассчитаем размер доли исходного датасета 'df', которая осталась после фильтрации, в процентах\n",
    "(df.shape[0] / source_dataset_size) * 100"
   ]
  },
  {
   "cell_type": "markdown",
   "metadata": {},
   "source": [
    "**Выводы**\n",
    "\n",
    "Предобработка обнаружила следующие проблемы в данных:\n",
    "\n",
    "- пропушенные значения;\n",
    "- аномальные значения (артефакты);\n",
    "- несоответствие типа значений хранимым данным;\n",
    "\n",
    "Исправили артефакты (аномальные значения) в данных. Преобразовали типы данных из одного в другой, где это было необходимо. \n",
    "\n",
    "Размер доли исходного датасета `df`, которая осталась после фильтрации: **`100.00 %`**.\n",
    "\n",
    "После такой предобработки данных, исследование станет более точным.\n",
    "\n",
    "Теперь можно перейти к исследованию. "
   ]
  },
  {
   "cell_type": "markdown",
   "metadata": {},
   "source": [
    "## Подготовка данных для исследования"
   ]
  },
  {
   "cell_type": "markdown",
   "metadata": {},
   "source": [
    "Изучим исходное множество признаков, которые будут использованы для обучения модели, на: мультиколлинеарность признаков (высокая степень коррелированности признаков), их избыточное количество, содержание их значений (категориальные признаки, количественные признаки с разными разбросами значений).\n",
    "\n",
    "\n",
    "1. Столбец `row_number` - индекс строки в данных, не несёт полезной дополнительной информации для обучения модели. Так как исходный датафрейм уже содержит встроенную индексацию данных. Его наличие, в исходном множестве признаков, приводит к мультиколлинеарности признаков, следовательно он является избыточным.\n",
    "\n",
    "2. Столбец `customer_id` - уникальный идентификатор клиента, не несёт полезной дополнительной информации для обучения модели. Так как является лишь дополнительным индексом к существующим двум. Его наличие, в исходном множестве признаков, приводит к мультиколлинеарности признаков, следовательно он является избыточным.\n",
    "\n",
    "3. Столбец `surname` - фамилия клиента банка, не несёт полезной дополнительной информации для обучения модели. Его наличие, в исходном множестве признаков, ведет к избыточности. \n",
    "\n",
    "*Вышеуказанные признаки необходимо удалить из исходного множества признаков.*\n",
    "\n",
    "4. Столбцы: `geography` и `gender`, имеют строковый тип данных и следовательно являются категориальными признаками. Данные столбцы необходимо преобразовать в численные признаки техникой прямого кодирования (OHE - One-Hot Encoding) с обходом дамми-ловушки.\n",
    "\n",
    "5. Столбцы: `credit_score`, `age`, `tenure`, `balance`, `num_of_products`, `has_cr_card`, `is_active_member`, `estimated_salary` и `estimated_salary`, а также столбцы, полученные в пункте `4`, являются численными признаками, но имеют разный разброс значений. При обучении модели, алгорим может решить, что признаки с большими значениями и разбросом важнее. Для избежания данной ловушки, необходимо масштабировать данные признаки с помощью метода - стандартизации данных."
   ]
  },
  {
   "cell_type": "markdown",
   "metadata": {},
   "source": [
    "**34. Создадим новый датафрейм для обучения модели (ml - machine learning), посредством удаления избыточных признаков из множества признаков.**"
   ]
  },
  {
   "cell_type": "code",
   "execution_count": 50,
   "metadata": {},
   "outputs": [],
   "source": [
    "df_ml = df.drop(['row_number', 'customer_id', 'surname'], axis=1)"
   ]
  },
  {
   "cell_type": "markdown",
   "metadata": {},
   "source": [
    "**35. Преобразуем категориальные признаки в численные.**\n",
    "\n",
    "Создадим новый датафрейм, на основе датафрейма: `df_ml`, который будет содержать преобразованные категориальные  признаки в численные, с помощью техники OHE - One-Hot Encoding."
   ]
  },
  {
   "cell_type": "code",
   "execution_count": 51,
   "metadata": {},
   "outputs": [],
   "source": [
    "df_ml_ohe = pd.get_dummies(df_ml, drop_first=True)"
   ]
  },
  {
   "cell_type": "markdown",
   "metadata": {},
   "source": [
    "**36. Проверим предобработанные признаки на корреляцию.**"
   ]
  },
  {
   "cell_type": "code",
   "execution_count": 52,
   "metadata": {},
   "outputs": [
    {
     "data": {
      "text/html": [
       "<div>\n",
       "<style scoped>\n",
       "    .dataframe tbody tr th:only-of-type {\n",
       "        vertical-align: middle;\n",
       "    }\n",
       "\n",
       "    .dataframe tbody tr th {\n",
       "        vertical-align: top;\n",
       "    }\n",
       "\n",
       "    .dataframe thead th {\n",
       "        text-align: right;\n",
       "    }\n",
       "</style>\n",
       "<table border=\"1\" class=\"dataframe\">\n",
       "  <thead>\n",
       "    <tr style=\"text-align: right;\">\n",
       "      <th></th>\n",
       "      <th>credit_score</th>\n",
       "      <th>age</th>\n",
       "      <th>tenure</th>\n",
       "      <th>balance</th>\n",
       "      <th>num_of_products</th>\n",
       "      <th>has_cr_card</th>\n",
       "      <th>is_active_member</th>\n",
       "      <th>estimated_salary</th>\n",
       "      <th>exited</th>\n",
       "      <th>geography_germany</th>\n",
       "      <th>geography_spain</th>\n",
       "      <th>gender_male</th>\n",
       "    </tr>\n",
       "  </thead>\n",
       "  <tbody>\n",
       "    <tr>\n",
       "      <th>credit_score</th>\n",
       "      <td>1.000000</td>\n",
       "      <td>-0.003965</td>\n",
       "      <td>-0.000062</td>\n",
       "      <td>0.006268</td>\n",
       "      <td>0.012238</td>\n",
       "      <td>-0.005458</td>\n",
       "      <td>0.025651</td>\n",
       "      <td>-0.001384</td>\n",
       "      <td>-0.027094</td>\n",
       "      <td>0.005538</td>\n",
       "      <td>0.004780</td>\n",
       "      <td>-0.002857</td>\n",
       "    </tr>\n",
       "    <tr>\n",
       "      <th>age</th>\n",
       "      <td>-0.003965</td>\n",
       "      <td>1.000000</td>\n",
       "      <td>-0.013134</td>\n",
       "      <td>0.028308</td>\n",
       "      <td>-0.030680</td>\n",
       "      <td>-0.011721</td>\n",
       "      <td>0.085472</td>\n",
       "      <td>-0.007201</td>\n",
       "      <td>0.285323</td>\n",
       "      <td>0.046897</td>\n",
       "      <td>-0.001685</td>\n",
       "      <td>-0.027544</td>\n",
       "    </tr>\n",
       "    <tr>\n",
       "      <th>tenure</th>\n",
       "      <td>-0.000062</td>\n",
       "      <td>-0.013134</td>\n",
       "      <td>1.000000</td>\n",
       "      <td>-0.007911</td>\n",
       "      <td>0.011979</td>\n",
       "      <td>0.027232</td>\n",
       "      <td>-0.032178</td>\n",
       "      <td>0.010520</td>\n",
       "      <td>-0.016761</td>\n",
       "      <td>-0.003299</td>\n",
       "      <td>0.000810</td>\n",
       "      <td>0.012634</td>\n",
       "    </tr>\n",
       "    <tr>\n",
       "      <th>balance</th>\n",
       "      <td>0.006268</td>\n",
       "      <td>0.028308</td>\n",
       "      <td>-0.007911</td>\n",
       "      <td>1.000000</td>\n",
       "      <td>-0.304180</td>\n",
       "      <td>-0.014858</td>\n",
       "      <td>-0.010084</td>\n",
       "      <td>0.012797</td>\n",
       "      <td>0.118533</td>\n",
       "      <td>0.401110</td>\n",
       "      <td>-0.134892</td>\n",
       "      <td>0.012087</td>\n",
       "    </tr>\n",
       "    <tr>\n",
       "      <th>num_of_products</th>\n",
       "      <td>0.012238</td>\n",
       "      <td>-0.030680</td>\n",
       "      <td>0.011979</td>\n",
       "      <td>-0.304180</td>\n",
       "      <td>1.000000</td>\n",
       "      <td>0.003183</td>\n",
       "      <td>0.009612</td>\n",
       "      <td>0.014204</td>\n",
       "      <td>-0.047820</td>\n",
       "      <td>-0.010419</td>\n",
       "      <td>0.009039</td>\n",
       "      <td>-0.021859</td>\n",
       "    </tr>\n",
       "    <tr>\n",
       "      <th>has_cr_card</th>\n",
       "      <td>-0.005458</td>\n",
       "      <td>-0.011721</td>\n",
       "      <td>0.027232</td>\n",
       "      <td>-0.014858</td>\n",
       "      <td>0.003183</td>\n",
       "      <td>1.000000</td>\n",
       "      <td>-0.011866</td>\n",
       "      <td>-0.009933</td>\n",
       "      <td>-0.007138</td>\n",
       "      <td>0.010577</td>\n",
       "      <td>-0.013480</td>\n",
       "      <td>0.005766</td>\n",
       "    </tr>\n",
       "    <tr>\n",
       "      <th>is_active_member</th>\n",
       "      <td>0.025651</td>\n",
       "      <td>0.085472</td>\n",
       "      <td>-0.032178</td>\n",
       "      <td>-0.010084</td>\n",
       "      <td>0.009612</td>\n",
       "      <td>-0.011866</td>\n",
       "      <td>1.000000</td>\n",
       "      <td>-0.011421</td>\n",
       "      <td>-0.156128</td>\n",
       "      <td>-0.020486</td>\n",
       "      <td>0.016732</td>\n",
       "      <td>0.022544</td>\n",
       "    </tr>\n",
       "    <tr>\n",
       "      <th>estimated_salary</th>\n",
       "      <td>-0.001384</td>\n",
       "      <td>-0.007201</td>\n",
       "      <td>0.010520</td>\n",
       "      <td>0.012797</td>\n",
       "      <td>0.014204</td>\n",
       "      <td>-0.009933</td>\n",
       "      <td>-0.011421</td>\n",
       "      <td>1.000000</td>\n",
       "      <td>0.012097</td>\n",
       "      <td>0.010297</td>\n",
       "      <td>-0.006482</td>\n",
       "      <td>-0.008112</td>\n",
       "    </tr>\n",
       "    <tr>\n",
       "      <th>exited</th>\n",
       "      <td>-0.027094</td>\n",
       "      <td>0.285323</td>\n",
       "      <td>-0.016761</td>\n",
       "      <td>0.118533</td>\n",
       "      <td>-0.047820</td>\n",
       "      <td>-0.007138</td>\n",
       "      <td>-0.156128</td>\n",
       "      <td>0.012097</td>\n",
       "      <td>1.000000</td>\n",
       "      <td>0.173488</td>\n",
       "      <td>-0.052667</td>\n",
       "      <td>-0.106512</td>\n",
       "    </tr>\n",
       "    <tr>\n",
       "      <th>geography_germany</th>\n",
       "      <td>0.005538</td>\n",
       "      <td>0.046897</td>\n",
       "      <td>-0.003299</td>\n",
       "      <td>0.401110</td>\n",
       "      <td>-0.010419</td>\n",
       "      <td>0.010577</td>\n",
       "      <td>-0.020486</td>\n",
       "      <td>0.010297</td>\n",
       "      <td>0.173488</td>\n",
       "      <td>1.000000</td>\n",
       "      <td>-0.332084</td>\n",
       "      <td>-0.024628</td>\n",
       "    </tr>\n",
       "    <tr>\n",
       "      <th>geography_spain</th>\n",
       "      <td>0.004780</td>\n",
       "      <td>-0.001685</td>\n",
       "      <td>0.000810</td>\n",
       "      <td>-0.134892</td>\n",
       "      <td>0.009039</td>\n",
       "      <td>-0.013480</td>\n",
       "      <td>0.016732</td>\n",
       "      <td>-0.006482</td>\n",
       "      <td>-0.052667</td>\n",
       "      <td>-0.332084</td>\n",
       "      <td>1.000000</td>\n",
       "      <td>0.016889</td>\n",
       "    </tr>\n",
       "    <tr>\n",
       "      <th>gender_male</th>\n",
       "      <td>-0.002857</td>\n",
       "      <td>-0.027544</td>\n",
       "      <td>0.012634</td>\n",
       "      <td>0.012087</td>\n",
       "      <td>-0.021859</td>\n",
       "      <td>0.005766</td>\n",
       "      <td>0.022544</td>\n",
       "      <td>-0.008112</td>\n",
       "      <td>-0.106512</td>\n",
       "      <td>-0.024628</td>\n",
       "      <td>0.016889</td>\n",
       "      <td>1.000000</td>\n",
       "    </tr>\n",
       "  </tbody>\n",
       "</table>\n",
       "</div>"
      ],
      "text/plain": [
       "                   credit_score       age    tenure   balance   \n",
       "credit_score           1.000000 -0.003965 -0.000062  0.006268  \\\n",
       "age                   -0.003965  1.000000 -0.013134  0.028308   \n",
       "tenure                -0.000062 -0.013134  1.000000 -0.007911   \n",
       "balance                0.006268  0.028308 -0.007911  1.000000   \n",
       "num_of_products        0.012238 -0.030680  0.011979 -0.304180   \n",
       "has_cr_card           -0.005458 -0.011721  0.027232 -0.014858   \n",
       "is_active_member       0.025651  0.085472 -0.032178 -0.010084   \n",
       "estimated_salary      -0.001384 -0.007201  0.010520  0.012797   \n",
       "exited                -0.027094  0.285323 -0.016761  0.118533   \n",
       "geography_germany      0.005538  0.046897 -0.003299  0.401110   \n",
       "geography_spain        0.004780 -0.001685  0.000810 -0.134892   \n",
       "gender_male           -0.002857 -0.027544  0.012634  0.012087   \n",
       "\n",
       "                   num_of_products  has_cr_card  is_active_member   \n",
       "credit_score              0.012238    -0.005458          0.025651  \\\n",
       "age                      -0.030680    -0.011721          0.085472   \n",
       "tenure                    0.011979     0.027232         -0.032178   \n",
       "balance                  -0.304180    -0.014858         -0.010084   \n",
       "num_of_products           1.000000     0.003183          0.009612   \n",
       "has_cr_card               0.003183     1.000000         -0.011866   \n",
       "is_active_member          0.009612    -0.011866          1.000000   \n",
       "estimated_salary          0.014204    -0.009933         -0.011421   \n",
       "exited                   -0.047820    -0.007138         -0.156128   \n",
       "geography_germany        -0.010419     0.010577         -0.020486   \n",
       "geography_spain           0.009039    -0.013480          0.016732   \n",
       "gender_male              -0.021859     0.005766          0.022544   \n",
       "\n",
       "                   estimated_salary    exited  geography_germany   \n",
       "credit_score              -0.001384 -0.027094           0.005538  \\\n",
       "age                       -0.007201  0.285323           0.046897   \n",
       "tenure                     0.010520 -0.016761          -0.003299   \n",
       "balance                    0.012797  0.118533           0.401110   \n",
       "num_of_products            0.014204 -0.047820          -0.010419   \n",
       "has_cr_card               -0.009933 -0.007138           0.010577   \n",
       "is_active_member          -0.011421 -0.156128          -0.020486   \n",
       "estimated_salary           1.000000  0.012097           0.010297   \n",
       "exited                     0.012097  1.000000           0.173488   \n",
       "geography_germany          0.010297  0.173488           1.000000   \n",
       "geography_spain           -0.006482 -0.052667          -0.332084   \n",
       "gender_male               -0.008112 -0.106512          -0.024628   \n",
       "\n",
       "                   geography_spain  gender_male  \n",
       "credit_score              0.004780    -0.002857  \n",
       "age                      -0.001685    -0.027544  \n",
       "tenure                    0.000810     0.012634  \n",
       "balance                  -0.134892     0.012087  \n",
       "num_of_products           0.009039    -0.021859  \n",
       "has_cr_card              -0.013480     0.005766  \n",
       "is_active_member          0.016732     0.022544  \n",
       "estimated_salary         -0.006482    -0.008112  \n",
       "exited                   -0.052667    -0.106512  \n",
       "geography_germany        -0.332084    -0.024628  \n",
       "geography_spain           1.000000     0.016889  \n",
       "gender_male               0.016889     1.000000  "
      ]
     },
     "execution_count": 52,
     "metadata": {},
     "output_type": "execute_result"
    }
   ],
   "source": [
    "df_ml_ohe.corr()"
   ]
  },
  {
   "cell_type": "markdown",
   "metadata": {},
   "source": [
    "Какая-либо существенная корреляция в признаках, в предобработаном множестве признаков (`df_ml_ohe`), которая может повлиять на обучение нашей модели, отсутствует."
   ]
  },
  {
   "cell_type": "markdown",
   "metadata": {},
   "source": [
    "**37. Создадим отдельные датафреймы с признаками и целевым признаком.**\n",
    "\n",
    "Разделим исходные данные на обучающую, валидационную и тестовую выборки."
   ]
  },
  {
   "cell_type": "code",
   "execution_count": 53,
   "metadata": {},
   "outputs": [],
   "source": [
    "features = df_ml_ohe.drop(['exited'], axis=1)"
   ]
  },
  {
   "cell_type": "code",
   "execution_count": 54,
   "metadata": {},
   "outputs": [],
   "source": [
    "target = df_ml_ohe['exited']"
   ]
  },
  {
   "cell_type": "markdown",
   "metadata": {},
   "source": [
    "**38. Разделим исходные данные на три выборки: обучающую, валидационную и тестовую.**\n",
    "\n",
    "Применим метод кросс-валидации: \"Hold-out\"."
   ]
  },
  {
   "cell_type": "code",
   "execution_count": 55,
   "metadata": {},
   "outputs": [],
   "source": [
    "# создадим переменную 'random_state' для фиксации псевдослучайности для алгоритма обучения\n",
    "# и других алгоритмов в нашем проекте\n",
    "random_state = 753"
   ]
  },
  {
   "cell_type": "code",
   "execution_count": 56,
   "metadata": {},
   "outputs": [],
   "source": [
    "# на первом шаге, мы разделим набор данных на обучающую выборку (60%) и остальные данные (40%)\n",
    "# для этого мы установим параметр 'train_size' = 0.60\n",
    "features_train, features_remain, target_train, target_remain = train_test_split(\n",
    "    features, target, train_size=0.60, random_state=random_state, stratify=target)"
   ]
  },
  {
   "cell_type": "code",
   "execution_count": 57,
   "metadata": {},
   "outputs": [],
   "source": [
    "# на втором шаге, мы разделим оставшийся набор данных (40% от исходных данных) пополам, на валидационную\n",
    "# и тестовую выборки,  чтобы каждая из них составляла 20% от исходных данных. \n",
    "# для этого установим параметр 'test_size' = 0.5\n",
    "features_valid, features_test, target_valid, target_test = train_test_split(\n",
    "    features_remain, target_remain, test_size=0.50, random_state=random_state, stratify=target_remain)"
   ]
  },
  {
   "cell_type": "code",
   "execution_count": 58,
   "metadata": {},
   "outputs": [
    {
     "data": {
      "text/plain": [
       "(6000, 11)"
      ]
     },
     "execution_count": 58,
     "metadata": {},
     "output_type": "execute_result"
    }
   ],
   "source": [
    "# выведем размер полученной обучающей выборки признаков\n",
    "features_train.shape"
   ]
  },
  {
   "cell_type": "code",
   "execution_count": 59,
   "metadata": {},
   "outputs": [
    {
     "data": {
      "text/plain": [
       "(6000,)"
      ]
     },
     "execution_count": 59,
     "metadata": {},
     "output_type": "execute_result"
    }
   ],
   "source": [
    "# выведем размер полученной обучающей выборки целевого признака\n",
    "target_train.shape"
   ]
  },
  {
   "cell_type": "code",
   "execution_count": 60,
   "metadata": {},
   "outputs": [
    {
     "data": {
      "text/plain": [
       "(2000, 11)"
      ]
     },
     "execution_count": 60,
     "metadata": {},
     "output_type": "execute_result"
    }
   ],
   "source": [
    "# выведем размер полученной валидационной выборки признаков\n",
    "features_valid.shape"
   ]
  },
  {
   "cell_type": "code",
   "execution_count": 61,
   "metadata": {},
   "outputs": [
    {
     "data": {
      "text/plain": [
       "(2000,)"
      ]
     },
     "execution_count": 61,
     "metadata": {},
     "output_type": "execute_result"
    }
   ],
   "source": [
    "# выведем размер полученной валидационной выборки целевого признака\n",
    "target_valid.shape"
   ]
  },
  {
   "cell_type": "code",
   "execution_count": 62,
   "metadata": {},
   "outputs": [
    {
     "data": {
      "text/plain": [
       "(2000, 11)"
      ]
     },
     "execution_count": 62,
     "metadata": {},
     "output_type": "execute_result"
    }
   ],
   "source": [
    "# выведем размер полученной тестовой выборки признаков\n",
    "features_test.shape"
   ]
  },
  {
   "cell_type": "code",
   "execution_count": 63,
   "metadata": {},
   "outputs": [
    {
     "data": {
      "text/plain": [
       "(2000,)"
      ]
     },
     "execution_count": 63,
     "metadata": {},
     "output_type": "execute_result"
    }
   ],
   "source": [
    "# выведем размер полученной тестовой выборки целевого признака\n",
    "target_test.shape"
   ]
  },
  {
   "cell_type": "markdown",
   "metadata": {},
   "source": [
    "**39. Масштабируем численные признаки.**\n",
    "\n",
    "Масштабируем численные признаки с разным разбросом значений, методом стандартизации данных, в каждой полученой выборке множества признаков: обучающей, валидационной и тестовой."
   ]
  },
  {
   "cell_type": "code",
   "execution_count": 64,
   "metadata": {},
   "outputs": [],
   "source": [
    "# создадим список с признаками (стобцами), которые необходимо масштабировать\n",
    "numeric = ['credit_score',\n",
    "           'age',\n",
    "           'tenure',\n",
    "           'balance',\n",
    "           'num_of_products',\n",
    "           'has_cr_card',\n",
    "           'is_active_member',\n",
    "           'estimated_salary',\n",
    "           'geography_germany',\n",
    "           'geography_spain',\n",
    "           'gender_male']\n",
    "\n",
    "# создадим объект структуры 'StandardScaler' и настроем объект на обучающих данных\n",
    "scaler = StandardScaler().fit(features_train[numeric])\n",
    "\n",
    "# масштабируем признаки\n",
    "features_train[numeric] = scaler.transform(features_train[numeric])\n",
    "features_valid[numeric] = scaler.transform(features_valid[numeric])\n",
    "features_test[numeric] = scaler.transform(features_test[numeric])"
   ]
  },
  {
   "cell_type": "code",
   "execution_count": 65,
   "metadata": {},
   "outputs": [
    {
     "data": {
      "text/html": [
       "<div>\n",
       "<style scoped>\n",
       "    .dataframe tbody tr th:only-of-type {\n",
       "        vertical-align: middle;\n",
       "    }\n",
       "\n",
       "    .dataframe tbody tr th {\n",
       "        vertical-align: top;\n",
       "    }\n",
       "\n",
       "    .dataframe thead th {\n",
       "        text-align: right;\n",
       "    }\n",
       "</style>\n",
       "<table border=\"1\" class=\"dataframe\">\n",
       "  <thead>\n",
       "    <tr style=\"text-align: right;\">\n",
       "      <th></th>\n",
       "      <th>credit_score</th>\n",
       "      <th>age</th>\n",
       "      <th>tenure</th>\n",
       "      <th>balance</th>\n",
       "      <th>num_of_products</th>\n",
       "      <th>has_cr_card</th>\n",
       "      <th>is_active_member</th>\n",
       "      <th>estimated_salary</th>\n",
       "      <th>geography_germany</th>\n",
       "      <th>geography_spain</th>\n",
       "      <th>gender_male</th>\n",
       "    </tr>\n",
       "  </thead>\n",
       "  <tbody>\n",
       "    <tr>\n",
       "      <th>8121</th>\n",
       "      <td>1.462575</td>\n",
       "      <td>-0.379342</td>\n",
       "      <td>-1.054153</td>\n",
       "      <td>-1.238898</td>\n",
       "      <td>0.809707</td>\n",
       "      <td>0.638584</td>\n",
       "      <td>0.962695</td>\n",
       "      <td>-0.357042</td>\n",
       "      <td>-0.576324</td>\n",
       "      <td>-0.572988</td>\n",
       "      <td>0.919557</td>\n",
       "    </tr>\n",
       "    <tr>\n",
       "      <th>6303</th>\n",
       "      <td>1.410853</td>\n",
       "      <td>0.946533</td>\n",
       "      <td>-0.363011</td>\n",
       "      <td>0.969648</td>\n",
       "      <td>-0.908200</td>\n",
       "      <td>0.638584</td>\n",
       "      <td>-1.038750</td>\n",
       "      <td>1.478361</td>\n",
       "      <td>1.735135</td>\n",
       "      <td>-0.572988</td>\n",
       "      <td>-1.087480</td>\n",
       "    </tr>\n",
       "    <tr>\n",
       "      <th>6557</th>\n",
       "      <td>-1.526959</td>\n",
       "      <td>0.094184</td>\n",
       "      <td>-0.017440</td>\n",
       "      <td>-1.238898</td>\n",
       "      <td>0.809707</td>\n",
       "      <td>-1.565964</td>\n",
       "      <td>-1.038750</td>\n",
       "      <td>0.820001</td>\n",
       "      <td>-0.576324</td>\n",
       "      <td>1.745237</td>\n",
       "      <td>0.919557</td>\n",
       "    </tr>\n",
       "    <tr>\n",
       "      <th>6956</th>\n",
       "      <td>-0.833883</td>\n",
       "      <td>0.946533</td>\n",
       "      <td>-0.363011</td>\n",
       "      <td>1.663081</td>\n",
       "      <td>-0.908200</td>\n",
       "      <td>-1.565964</td>\n",
       "      <td>-1.038750</td>\n",
       "      <td>-1.748096</td>\n",
       "      <td>-0.576324</td>\n",
       "      <td>-0.572988</td>\n",
       "      <td>0.919557</td>\n",
       "    </tr>\n",
       "    <tr>\n",
       "      <th>5877</th>\n",
       "      <td>-1.837291</td>\n",
       "      <td>-1.231691</td>\n",
       "      <td>0.328131</td>\n",
       "      <td>-1.238898</td>\n",
       "      <td>0.809707</td>\n",
       "      <td>-1.565964</td>\n",
       "      <td>-1.038750</td>\n",
       "      <td>0.921682</td>\n",
       "      <td>-0.576324</td>\n",
       "      <td>-0.572988</td>\n",
       "      <td>0.919557</td>\n",
       "    </tr>\n",
       "  </tbody>\n",
       "</table>\n",
       "</div>"
      ],
      "text/plain": [
       "      credit_score       age    tenure   balance  num_of_products   \n",
       "8121      1.462575 -0.379342 -1.054153 -1.238898         0.809707  \\\n",
       "6303      1.410853  0.946533 -0.363011  0.969648        -0.908200   \n",
       "6557     -1.526959  0.094184 -0.017440 -1.238898         0.809707   \n",
       "6956     -0.833883  0.946533 -0.363011  1.663081        -0.908200   \n",
       "5877     -1.837291 -1.231691  0.328131 -1.238898         0.809707   \n",
       "\n",
       "      has_cr_card  is_active_member  estimated_salary  geography_germany   \n",
       "8121     0.638584          0.962695         -0.357042          -0.576324  \\\n",
       "6303     0.638584         -1.038750          1.478361           1.735135   \n",
       "6557    -1.565964         -1.038750          0.820001          -0.576324   \n",
       "6956    -1.565964         -1.038750         -1.748096          -0.576324   \n",
       "5877    -1.565964         -1.038750          0.921682          -0.576324   \n",
       "\n",
       "      geography_spain  gender_male  \n",
       "8121        -0.572988     0.919557  \n",
       "6303        -0.572988    -1.087480  \n",
       "6557         1.745237     0.919557  \n",
       "6956        -0.572988     0.919557  \n",
       "5877        -0.572988     0.919557  "
      ]
     },
     "execution_count": 65,
     "metadata": {},
     "output_type": "execute_result"
    }
   ],
   "source": [
    "# проверим результат масштабирования\n",
    "features_train.head()"
   ]
  },
  {
   "cell_type": "markdown",
   "metadata": {},
   "source": [
    "### Устранение пропусков (продолжение)"
   ]
  },
  {
   "cell_type": "markdown",
   "metadata": {},
   "source": [
    "**40. Обработаем пропуски в столбце `tenure`.**\n",
    "\n",
    "Восстановим пропуски в столбце с данными - сколько лет человек является клиентом банка, используя метод К - ближайщих соседей. \n",
    "\n",
    "Для алгоритма k-ближайших соседей (класс `KNNImputer`), обязательно нужна нормализация данных. По этой причине, мы устраняем пропуски после масштабирования численных признаков."
   ]
  },
  {
   "cell_type": "code",
   "execution_count": 67,
   "metadata": {},
   "outputs": [
    {
     "data": {
      "text/plain": [
       "count    5.449000e+03\n",
       "mean    -7.775025e-17\n",
       "std      1.000092e+00\n",
       "min     -1.745296e+00\n",
       "25%     -7.085824e-01\n",
       "50%     -1.744027e-02\n",
       "75%      1.019273e+00\n",
       "max      1.710415e+00\n",
       "Name: tenure, dtype: float64"
      ]
     },
     "execution_count": 67,
     "metadata": {},
     "output_type": "execute_result"
    }
   ],
   "source": [
    "# посмотрим статистическую информацию по признакам, до заполнения пропусков в столбце 'tenure'\n",
    "features_train['tenure'].describe()"
   ]
  },
  {
   "cell_type": "code",
   "execution_count": 68,
   "metadata": {},
   "outputs": [
    {
     "data": {
      "image/png": "[encoded data removed]",
      "text/plain": [
       "<Figure size 432x288 with 1 Axes>"
      ]
     },
     "metadata": {
      "needs_background": "light"
     },
     "output_type": "display_data"
    }
   ],
   "source": [
    "# построим гистаграмму распределения значений в столбце 'tenure', до заполнения пропусков\n",
    "features_train['tenure'].plot(kind='hist', bins=20);"
   ]
  },
  {
   "cell_type": "code",
   "execution_count": 69,
   "metadata": {},
   "outputs": [
    {
     "data": {
      "text/plain": [
       "count    1826.000000\n",
       "mean       -0.053966\n",
       "std         1.002820\n",
       "min        -1.745296\n",
       "25%        -1.054153\n",
       "50%        -0.017440\n",
       "75%         0.673702\n",
       "max         1.710415\n",
       "Name: tenure, dtype: float64"
      ]
     },
     "execution_count": 69,
     "metadata": {},
     "output_type": "execute_result"
    }
   ],
   "source": [
    "# посмотрим статистическую информацию по признакам, до заполнения пропусков в столбце 'tenure'\n",
    "features_valid['tenure'].describe()"
   ]
  },
  {
   "cell_type": "code",
   "execution_count": 70,
   "metadata": {},
   "outputs": [
    {
     "data": {
      "image/png": "[encoded data removed]",
      "text/plain": [
       "<Figure size 432x288 with 1 Axes>"
      ]
     },
     "metadata": {
      "needs_background": "light"
     },
     "output_type": "display_data"
    }
   ],
   "source": [
    "# построим гистаграмму распределения значений в столбце 'tenure', до заполнения пропусков\n",
    "features_valid['tenure'].plot(kind='hist', bins=20);"
   ]
  },
  {
   "cell_type": "code",
   "execution_count": 71,
   "metadata": {},
   "outputs": [
    {
     "data": {
      "text/plain": [
       "count    1816.000000\n",
       "mean       -0.037040\n",
       "std         0.997781\n",
       "min        -1.745296\n",
       "25%        -1.054153\n",
       "50%        -0.017440\n",
       "75%         0.673702\n",
       "max         1.710415\n",
       "Name: tenure, dtype: float64"
      ]
     },
     "execution_count": 71,
     "metadata": {},
     "output_type": "execute_result"
    }
   ],
   "source": [
    "# посмотрим статистическую информацию по признакам, до заполнения пропусков в столбце 'tenure'\n",
    "features_test['tenure'].describe()"
   ]
  },
  {
   "cell_type": "code",
   "execution_count": 72,
   "metadata": {},
   "outputs": [
    {
     "data": {
      "image/png": "[encoded data removed]",
      "text/plain": [
       "<Figure size 432x288 with 1 Axes>"
      ]
     },
     "metadata": {
      "needs_background": "light"
     },
     "output_type": "display_data"
    }
   ],
   "source": [
    "# построим гистаграмму распределения значений в столбце 'tenure', до заполнения пропусков\n",
    "features_test['tenure'].plot(kind='hist', bins=20);"
   ]
  },
  {
   "cell_type": "code",
   "execution_count": 73,
   "metadata": {},
   "outputs": [],
   "source": [
    "# создадим объект класса 'KNNImputer' и обучим его на обучающей выборке.\n",
    "imputer = KNNImputer(n_neighbors=5, weights='uniform').fit(features_train)\n",
    "\n",
    "\n",
    "# заполним пропуски в столбце 'tenure', в обучающей выборке\n",
    "features_train = pd.DataFrame(imputer.transform(features_train),\n",
    "                              index=features_train.index,\n",
    "                              columns=features_train.columns)\n",
    "\n",
    "# заполним пропуски в столбце 'tenure', в валидационной выборке\n",
    "features_valid = pd.DataFrame(imputer.transform(features_valid),\n",
    "                              index=features_valid.index,\n",
    "                              columns=features_valid.columns)\n",
    "\n",
    "# заполним пропуски в столбце 'tenure', в тестовой выборке\n",
    "features_test = pd.DataFrame(imputer.transform(features_test),\n",
    "                             index=features_test.index,\n",
    "                             columns=features_test.columns)"
   ]
  },
  {
   "cell_type": "code",
   "execution_count": 74,
   "metadata": {},
   "outputs": [
    {
     "data": {
      "text/plain": [
       "count    6000.000000\n",
       "mean        0.000967\n",
       "std         0.962549\n",
       "min        -1.745296\n",
       "25%        -0.708582\n",
       "50%        -0.017440\n",
       "75%         0.673702\n",
       "max         1.710415\n",
       "Name: tenure, dtype: float64"
      ]
     },
     "execution_count": 74,
     "metadata": {},
     "output_type": "execute_result"
    }
   ],
   "source": [
    "# посмотрим статистическую информацию по признакам, после заполнения пропусков в столбце 'tenure'\n",
    "features_train['tenure'].describe()"
   ]
  },
  {
   "cell_type": "code",
   "execution_count": 75,
   "metadata": {},
   "outputs": [
    {
     "data": {
      "image/png": "[encoded data removed]",
      "text/plain": [
       "<Figure size 432x288 with 1 Axes>"
      ]
     },
     "metadata": {
      "needs_background": "light"
     },
     "output_type": "display_data"
    }
   ],
   "source": [
    "# построим гистаграмму распределения значений в столбце 'tenure', после заполнения пропусков\n",
    "features_train['tenure'].plot(kind='hist', bins=20);"
   ]
  },
  {
   "cell_type": "code",
   "execution_count": 76,
   "metadata": {},
   "outputs": [
    {
     "data": {
      "text/plain": [
       "count    2000.000000\n",
       "mean       -0.049509\n",
       "std         0.966138\n",
       "min        -1.745296\n",
       "25%        -0.708582\n",
       "50%        -0.017440\n",
       "75%         0.673702\n",
       "max         1.710415\n",
       "Name: tenure, dtype: float64"
      ]
     },
     "execution_count": 76,
     "metadata": {},
     "output_type": "execute_result"
    }
   ],
   "source": [
    "# посмотрим статистическую информацию по признакам, после заполнения пропусков в столбце 'tenure'\n",
    "features_valid['tenure'].describe()"
   ]
  },
  {
   "cell_type": "code",
   "execution_count": 77,
   "metadata": {},
   "outputs": [
    {
     "data": {
      "image/png": "[encoded data removed]",
      "text/plain": [
       "<Figure size 432x288 with 1 Axes>"
      ]
     },
     "metadata": {
      "needs_background": "light"
     },
     "output_type": "display_data"
    }
   ],
   "source": [
    "# построим гистаграмму распределения значений в столбце 'tenure', после заполнения пропусков\n",
    "features_valid['tenure'].plot(kind='hist', bins=20);"
   ]
  },
  {
   "cell_type": "code",
   "execution_count": 78,
   "metadata": {},
   "outputs": [
    {
     "data": {
      "text/plain": [
       "count    2000.000000\n",
       "mean       -0.029915\n",
       "std         0.961989\n",
       "min        -1.745296\n",
       "25%        -0.708582\n",
       "50%        -0.017440\n",
       "75%         0.673702\n",
       "max         1.710415\n",
       "Name: tenure, dtype: float64"
      ]
     },
     "execution_count": 78,
     "metadata": {},
     "output_type": "execute_result"
    }
   ],
   "source": [
    "# посмотрим статистическую информацию по признакам, после заполнения пропусков в столбце 'tenure'\n",
    "features_test['tenure'].describe()"
   ]
  },
  {
   "cell_type": "code",
   "execution_count": 79,
   "metadata": {},
   "outputs": [
    {
     "data": {
      "image/png": "[encoded data removed]",
      "text/plain": [
       "<Figure size 432x288 with 1 Axes>"
      ]
     },
     "metadata": {
      "needs_background": "light"
     },
     "output_type": "display_data"
    }
   ],
   "source": [
    "# построим гистаграмму распределения значений в столбце 'tenure', после заполнения пропусков\n",
    "features_test['tenure'].plot(kind='hist', bins=20);"
   ]
  },
  {
   "cell_type": "code",
   "execution_count": 80,
   "metadata": {},
   "outputs": [
    {
     "data": {
      "text/plain": [
       "0.0"
      ]
     },
     "execution_count": 80,
     "metadata": {},
     "output_type": "execute_result"
    }
   ],
   "source": [
    "# проверим наличие пропусков в выборках: обучающей, валидационной и тестовой\n",
    "features_train['tenure'].isna().mean() * 100"
   ]
  },
  {
   "cell_type": "code",
   "execution_count": 81,
   "metadata": {},
   "outputs": [
    {
     "data": {
      "text/plain": [
       "0.0"
      ]
     },
     "execution_count": 81,
     "metadata": {},
     "output_type": "execute_result"
    }
   ],
   "source": [
    "features_valid['tenure'].isna().mean() * 100"
   ]
  },
  {
   "cell_type": "code",
   "execution_count": 82,
   "metadata": {},
   "outputs": [
    {
     "data": {
      "text/plain": [
       "0.0"
      ]
     },
     "execution_count": 82,
     "metadata": {},
     "output_type": "execute_result"
    }
   ],
   "source": [
    "features_test['tenure'].isna().mean() * 100"
   ]
  },
  {
   "cell_type": "markdown",
   "metadata": {},
   "source": [
    "Возможные причины появления пропусков в исходных данных:\n",
    " - 1.Человеческий фактор;\n",
    " - 2.Ошибки системы;\n",
    " - 3.Ошибки процесса выгрузки данных."
   ]
  },
  {
   "cell_type": "markdown",
   "metadata": {},
   "source": [
    "**Выводы**\n",
    "\n",
    "1. Мы создали:\n",
    "   - новый датафрейм для обучения модели (ml - machine learning), посредством удаления избыточных признаков из множества признаков;\n",
    "   - новый датафрейм, на основе датафрейма: `df_ml`, который содержит преобразованные категориальные признаки в численные;\n",
    "   - глобальную переменную `random_state`, в которой зафиксировали выбранную нами псевдослучайность, для дальнейшего использования на всех этапах исследования;\n",
    "   - отдельные датафреймы, содержащие признаки и целевой признак для каждой выборки: обучающей, валидационной и тестовой.\n",
    " \n",
    "2. Преобразовали категориальные признаки в численные.\n",
    "3. Восстановили пропуски в стобце (признак) `tenure`.\n",
    "4. Масштабировали признаки для каждой выборки множества признаков: обучающей, валидационной и тестовой."
   ]
  },
  {
   "cell_type": "markdown",
   "metadata": {},
   "source": [
    "## Исследование моделей\n",
    "\n",
    "Для задачи классификации мы рассмотрим три популярных модели: решающее дерево, случайный лес и логистическая регрессия."
   ]
  },
  {
   "cell_type": "markdown",
   "metadata": {},
   "source": [
    "**41. Проверим сбалансированность классов.**"
   ]
  },
  {
   "cell_type": "code",
   "execution_count": 83,
   "metadata": {
    "scrolled": true
   },
   "outputs": [
    {
     "data": {
      "text/plain": [
       "exited\n",
       "False    0.7963\n",
       "True     0.2037\n",
       "Name: proportion, dtype: float64"
      ]
     },
     "execution_count": 83,
     "metadata": {},
     "output_type": "execute_result"
    }
   ],
   "source": [
    "# проверка сбалансированности классов в исходной выборке целевого признака, до разделения ее на подвыборки\n",
    "class_frequency = target.value_counts(normalize=True)\n",
    "class_frequency"
   ]
  },
  {
   "cell_type": "code",
   "execution_count": 84,
   "metadata": {},
   "outputs": [
    {
     "data": {
      "image/png": "[encoded data removed]",
      "text/plain": [
       "<Figure size 432x288 with 1 Axes>"
      ]
     },
     "metadata": {
      "needs_background": "light"
     },
     "output_type": "display_data"
    }
   ],
   "source": [
    "# построим гистаграмму сбалансированности классов в исходной выборке целевого признака, \n",
    "# до разделения ее на подвыборки\n",
    "class_frequency.plot(kind='bar');"
   ]
  },
  {
   "cell_type": "code",
   "execution_count": 85,
   "metadata": {},
   "outputs": [
    {
     "data": {
      "text/plain": [
       "exited\n",
       "False    0.796333\n",
       "True     0.203667\n",
       "Name: proportion, dtype: float64"
      ]
     },
     "execution_count": 85,
     "metadata": {},
     "output_type": "execute_result"
    }
   ],
   "source": [
    "# проверка сбалансированности классов в обучащающей выборке целевого признака\n",
    "class_frequency = target_train.value_counts(normalize=True)\n",
    "class_frequency"
   ]
  },
  {
   "cell_type": "code",
   "execution_count": 86,
   "metadata": {},
   "outputs": [
    {
     "data": {
      "image/png": "[encoded data removed]",
      "text/plain": [
       "<Figure size 432x288 with 1 Axes>"
      ]
     },
     "metadata": {
      "needs_background": "light"
     },
     "output_type": "display_data"
    }
   ],
   "source": [
    "# построим гистаграмму сбалансированности классов в обучащающей выборке целевого признака\n",
    "class_frequency.plot(kind='bar');"
   ]
  },
  {
   "cell_type": "code",
   "execution_count": 87,
   "metadata": {},
   "outputs": [
    {
     "data": {
      "text/plain": [
       "exited\n",
       "False    0.796\n",
       "True     0.204\n",
       "Name: proportion, dtype: float64"
      ]
     },
     "execution_count": 87,
     "metadata": {},
     "output_type": "execute_result"
    }
   ],
   "source": [
    "# проверка сбалансированности классов в валидационной выборке целевого признака\n",
    "class_frequency = target_valid.value_counts(normalize=True)\n",
    "class_frequency"
   ]
  },
  {
   "cell_type": "code",
   "execution_count": 88,
   "metadata": {},
   "outputs": [
    {
     "data": {
      "image/png": "[encoded data removed]",
      "text/plain": [
       "<Figure size 432x288 with 1 Axes>"
      ]
     },
     "metadata": {
      "needs_background": "light"
     },
     "output_type": "display_data"
    }
   ],
   "source": [
    "# построим гистаграмму сбалансированности классов в валидационной выборке целевого признака\n",
    "class_frequency.plot(kind='bar');"
   ]
  },
  {
   "cell_type": "code",
   "execution_count": 89,
   "metadata": {},
   "outputs": [
    {
     "data": {
      "text/plain": [
       "exited\n",
       "False    0.7965\n",
       "True     0.2035\n",
       "Name: proportion, dtype: float64"
      ]
     },
     "execution_count": 89,
     "metadata": {},
     "output_type": "execute_result"
    }
   ],
   "source": [
    "# проверка сбалансированности классов в тестовой выборки целевого признака\n",
    "class_frequency = target_test.value_counts(normalize=True)\n",
    "class_frequency"
   ]
  },
  {
   "cell_type": "code",
   "execution_count": 90,
   "metadata": {},
   "outputs": [
    {
     "data": {
      "image/png": "[encoded data removed]",
      "text/plain": [
       "<Figure size 432x288 with 1 Axes>"
      ]
     },
     "metadata": {
      "needs_background": "light"
     },
     "output_type": "display_data"
    }
   ],
   "source": [
    "# построим гистаграмму сбалансированности классов в тестовой выборки целевого признака\n",
    "class_frequency.plot(kind='bar');"
   ]
  },
  {
   "cell_type": "markdown",
   "metadata": {},
   "source": [
    "**Вывод**\n",
    "\n",
    "Дисбаланс классов в исходных данных (исходной выборки) равен дисбалансу классов в подвыборках (обучающая, валидационная и тестовая выборка). Следовательно, метод кросс-валилации: \"стратификацию\", в данном случае, не имеет смысл использовать.\n",
    "\n",
    "Дисбаланс обучающей, валидационной и тестовой выборок, между классами, составляет: `0` - **79.6%**, `1` - **20.3%**.\n",
    "Большая вероятность, что предсказания будут смещены в сторону одного класса: `0`."
   ]
  },
  {
   "cell_type": "markdown",
   "metadata": {},
   "source": [
    "**42. Исследуем модель на основе \"решающего дерева\".**"
   ]
  },
  {
   "cell_type": "code",
   "execution_count": 91,
   "metadata": {},
   "outputs": [],
   "source": [
    "# функция исследования модели \"решающего дерева\" с различными гиперпараметрами\n",
    "# трудоемкость функции O( (min_samples_split_range-2) * (min_samples_leaf_range - 1) * (max_depth_range - 1)\n",
    "#                          * 2 * 3 )\n",
    "def decision_tree(features_train,\n",
    "                  target_train,\n",
    "                  features_valid,\n",
    "                  target_valid,\n",
    "                  max_depth_range,\n",
    "                  min_samples_split_range,\n",
    "                  min_samples_leaf_range, \n",
    "                  random_state,\n",
    "                  class_weight=None):\n",
    "\n",
    "    best_f1_score = 0.\n",
    "    \n",
    "    best_criterion = \"\"\n",
    "    best_splitter = \"\"\n",
    "    best_max_depth = 0\n",
    "    best_min_samples_split = 0\n",
    "    best_min_samples_leaf = 0\n",
    "    \n",
    "    for min_samples_split in range(2, min_samples_split_range):\n",
    "        for min_samples_leaf in range(1, min_samples_leaf_range):\n",
    "            for splitter in [\"best\", \"random\"]:\n",
    "                for criterion in ['gini', 'entropy', 'log_loss']:\n",
    "                    for max_depth in range(1, max_depth_range):\n",
    "    \n",
    "                        # создадим модель с заданными гиперпараметрами\n",
    "                        model = DecisionTreeClassifier(criterion=criterion,\n",
    "                                                       splitter=splitter,\n",
    "                                                       max_depth=max_depth,\n",
    "                                                       min_samples_split=min_samples_split,\n",
    "                                                       min_samples_leaf=min_samples_leaf,\n",
    "                                                       random_state=random_state,\n",
    "                                                       class_weight=class_weight)\n",
    "    \n",
    "                        # обучим модель на тренировочной выборке\n",
    "                        model.fit(features_train, target_train)\n",
    "            \n",
    "                        # получим предсказания модели на валидационной выборке\n",
    "                        predictions_valid = model.predict(features_valid) \n",
    "     \n",
    "                        # вычислим метрику F1-мера\n",
    "                        f1_score_value = f1_score(target_valid, predictions_valid)\n",
    "    \n",
    "                        if f1_score_value > best_f1_score:\n",
    "                            best_f1_score = f1_score_value\n",
    "                \n",
    "                            best_criterion = criterion\n",
    "                            best_splitter = splitter\n",
    "                            best_max_depth = max_depth\n",
    "                            best_min_samples_split = min_samples_split\n",
    "                            best_min_samples_leaf = min_samples_leaf\n",
    "                            \n",
    "    \n",
    "    return {'best_f1_score' : best_f1_score,\n",
    "            'best_criterion' : best_criterion,\n",
    "            'best_splitter' : best_splitter,\n",
    "            'best_max_depth' : best_max_depth,\n",
    "            'best_min_samples_split' : best_min_samples_split,\n",
    "            'best_min_samples_leaf' : best_min_samples_leaf}"
   ]
  },
  {
   "cell_type": "code",
   "execution_count": 92,
   "metadata": {},
   "outputs": [],
   "source": [
    "# функция исследования модели с выводом результата\n",
    "def decision_tree_with_output(features_train,\n",
    "                              target_train,\n",
    "                              features_valid,\n",
    "                              target_valid,\n",
    "                              max_depth_range,\n",
    "                              min_samples_split_range,\n",
    "                              min_samples_leaf_range,\n",
    "                              random_state=random_state,\n",
    "                              class_weight=None):\n",
    "\n",
    "    result_map = decision_tree(features_train,\n",
    "                               target_train,\n",
    "                               features_valid,\n",
    "                               target_valid,\n",
    "                               max_depth_range=max_depth_range,\n",
    "                               min_samples_split_range=min_samples_split_range,\n",
    "                               min_samples_leaf_range=min_samples_leaf_range,  \n",
    "                               random_state=random_state,\n",
    "                               class_weight=class_weight)\n",
    "\n",
    "    print(\"Модель: DecisionTreeClassifier\" + \n",
    "          \"\\n best_f1_score:          \" + str(result_map.get('best_f1_score')) +\n",
    "          \"\\n best_criterion:         \" + result_map.get('best_criterion') +\n",
    "          \"\\n best_splitter:          \" + result_map.get('best_splitter') +\n",
    "          \"\\n best_max_depth:         \" +  str(result_map.get('best_max_depth')) +\n",
    "          \"\\n best_min_samples_split: \" + str(result_map.get('best_min_samples_split')) +\n",
    "          \"\\n best_min_samples_leaf:  \" + str(result_map.get('best_min_samples_leaf')))"
   ]
  },
  {
   "cell_type": "code",
   "execution_count": 93,
   "metadata": {},
   "outputs": [
    {
     "data": {
      "text/plain": [
       "'\\nmax_depth_range = 21\\nmin_samples_split_range = 11\\nmin_samples_leaf_range = 11\\n\\ndecision_tree_with_output(features_train,\\n                          target_train,\\n                          features_valid,\\n                          target_valid,\\n                          max_depth_range=max_depth_range,\\n                          min_samples_split_range=min_samples_split_range,\\n                          min_samples_leaf_range=min_samples_leaf_range,  \\n                          random_state=random_state)\\n'"
      ]
     },
     "execution_count": 93,
     "metadata": {},
     "output_type": "execute_result"
    }
   ],
   "source": [
    "# найдем максимально эффективные гиперпараметры модели\n",
    "'''\n",
    "max_depth_range = 21\n",
    "min_samples_split_range = 11\n",
    "min_samples_leaf_range = 11\n",
    "\n",
    "decision_tree_with_output(features_train,\n",
    "                          target_train,\n",
    "                          features_valid,\n",
    "                          target_valid,\n",
    "                          max_depth_range=max_depth_range,\n",
    "                          min_samples_split_range=min_samples_split_range,\n",
    "                          min_samples_leaf_range=min_samples_leaf_range,  \n",
    "                          random_state=random_state)\n",
    "'''"
   ]
  },
  {
   "cell_type": "code",
   "execution_count": 94,
   "metadata": {},
   "outputs": [
    {
     "data": {
      "text/html": [
       "<style>#sk-container-id-1 {color: black;background-color: white;}#sk-container-id-1 pre{padding: 0;}#sk-container-id-1 div.sk-toggleable {background-color: white;}#sk-container-id-1 label.sk-toggleable__label {cursor: pointer;display: block;width: 100%;margin-bottom: 0;padding: 0.3em;box-sizing: border-box;text-align: center;}#sk-container-id-1 label.sk-toggleable__label-arrow:before {content: \"▸\";float: left;margin-right: 0.25em;color: #696969;}#sk-container-id-1 label.sk-toggleable__label-arrow:hover:before {color: black;}#sk-container-id-1 div.sk-estimator:hover label.sk-toggleable__label-arrow:before {color: black;}#sk-container-id-1 div.sk-toggleable__content {max-height: 0;max-width: 0;overflow: hidden;text-align: left;background-color: #f0f8ff;}#sk-container-id-1 div.sk-toggleable__content pre {margin: 0.2em;color: black;border-radius: 0.25em;background-color: #f0f8ff;}#sk-container-id-1 input.sk-toggleable__control:checked~div.sk-toggleable__content {max-height: 200px;max-width: 100%;overflow: auto;}#sk-container-id-1 input.sk-toggleable__control:checked~label.sk-toggleable__label-arrow:before {content: \"▾\";}#sk-container-id-1 div.sk-estimator input.sk-toggleable__control:checked~label.sk-toggleable__label {background-color: #d4ebff;}#sk-container-id-1 div.sk-label input.sk-toggleable__control:checked~label.sk-toggleable__label {background-color: #d4ebff;}#sk-container-id-1 input.sk-hidden--visually {border: 0;clip: rect(1px 1px 1px 1px);clip: rect(1px, 1px, 1px, 1px);height: 1px;margin: -1px;overflow: hidden;padding: 0;position: absolute;width: 1px;}#sk-container-id-1 div.sk-estimator {font-family: monospace;background-color: #f0f8ff;border: 1px dotted black;border-radius: 0.25em;box-sizing: border-box;margin-bottom: 0.5em;}#sk-container-id-1 div.sk-estimator:hover {background-color: #d4ebff;}#sk-container-id-1 div.sk-parallel-item::after {content: \"\";width: 100%;border-bottom: 1px solid gray;flex-grow: 1;}#sk-container-id-1 div.sk-label:hover label.sk-toggleable__label {background-color: #d4ebff;}#sk-container-id-1 div.sk-serial::before {content: \"\";position: absolute;border-left: 1px solid gray;box-sizing: border-box;top: 0;bottom: 0;left: 50%;z-index: 0;}#sk-container-id-1 div.sk-serial {display: flex;flex-direction: column;align-items: center;background-color: white;padding-right: 0.2em;padding-left: 0.2em;position: relative;}#sk-container-id-1 div.sk-item {position: relative;z-index: 1;}#sk-container-id-1 div.sk-parallel {display: flex;align-items: stretch;justify-content: center;background-color: white;position: relative;}#sk-container-id-1 div.sk-item::before, #sk-container-id-1 div.sk-parallel-item::before {content: \"\";position: absolute;border-left: 1px solid gray;box-sizing: border-box;top: 0;bottom: 0;left: 50%;z-index: -1;}#sk-container-id-1 div.sk-parallel-item {display: flex;flex-direction: column;z-index: 1;position: relative;background-color: white;}#sk-container-id-1 div.sk-parallel-item:first-child::after {align-self: flex-end;width: 50%;}#sk-container-id-1 div.sk-parallel-item:last-child::after {align-self: flex-start;width: 50%;}#sk-container-id-1 div.sk-parallel-item:only-child::after {width: 0;}#sk-container-id-1 div.sk-dashed-wrapped {border: 1px dashed gray;margin: 0 0.4em 0.5em 0.4em;box-sizing: border-box;padding-bottom: 0.4em;background-color: white;}#sk-container-id-1 div.sk-label label {font-family: monospace;font-weight: bold;display: inline-block;line-height: 1.2em;}#sk-container-id-1 div.sk-label-container {text-align: center;}#sk-container-id-1 div.sk-container {/* jupyter's `normalize.less` sets `[hidden] { display: none; }` but bootstrap.min.css set `[hidden] { display: none !important; }` so we also need the `!important` here to be able to override the default hidden behavior on the sphinx rendered scikit-learn.org. See: https://github.com/scikit-learn/scikit-learn/issues/21755 */display: inline-block !important;position: relative;}#sk-container-id-1 div.sk-text-repr-fallback {display: none;}</style><div id=\"sk-container-id-1\" class=\"sk-top-container\"><div class=\"sk-text-repr-fallback\"><pre>DecisionTreeClassifier(max_depth=7, min_samples_leaf=9, random_state=753)</pre><b>In a Jupyter environment, please rerun this cell to show the HTML representation or trust the notebook. <br />On GitHub, the HTML representation is unable to render, please try loading this page with nbviewer.org.</b></div><div class=\"sk-container\" hidden><div class=\"sk-item\"><div class=\"sk-estimator sk-toggleable\"><input class=\"sk-toggleable__control sk-hidden--visually\" id=\"sk-estimator-id-1\" type=\"checkbox\" checked><label for=\"sk-estimator-id-1\" class=\"sk-toggleable__label sk-toggleable__label-arrow\">DecisionTreeClassifier</label><div class=\"sk-toggleable__content\"><pre>DecisionTreeClassifier(max_depth=7, min_samples_leaf=9, random_state=753)</pre></div></div></div></div></div>"
      ],
      "text/plain": [
       "DecisionTreeClassifier(max_depth=7, min_samples_leaf=9, random_state=753)"
      ]
     },
     "execution_count": 94,
     "metadata": {},
     "output_type": "execute_result"
    }
   ],
   "source": [
    "# создадим модель с заданными гиперпараметрами\n",
    "dtc_model = DecisionTreeClassifier(criterion=\"gini\",\n",
    "                                   splitter=\"best\",\n",
    "                                   max_depth=7,\n",
    "                                   min_samples_split=2,\n",
    "                                   min_samples_leaf=9,\n",
    "                                   random_state=random_state)\n",
    "\n",
    "# обучим модель на тренировочной выборке\n",
    "dtc_model.fit(features_train, target_train)"
   ]
  },
  {
   "cell_type": "code",
   "execution_count": 95,
   "metadata": {},
   "outputs": [
    {
     "name": "stdout",
     "output_type": "stream",
     "text": [
      "CPU times: user 2.29 ms, sys: 0 ns, total: 2.29 ms\n",
      "Wall time: 1.98 ms\n"
     ]
    }
   ],
   "source": [
    "%%time\n",
    "\n",
    "# время работы модели в миллисекундах\n",
    "predictions_valid = dtc_model.predict(features_valid) "
   ]
  },
  {
   "cell_type": "markdown",
   "metadata": {},
   "source": [
    "Лучший результат модели на основе \"решающего дерева\", на валидационной выборке:\n",
    " - метрика F1-мера: **0.6098265895953757**;\n",
    " - при гиперпараметрах модели: \n",
    "     * `criterion` - **gini**;\n",
    "     * `splitter` - **best**;\n",
    "     * `max_depth` -  **7**;\n",
    "     * `min_samples_split` - **2**;\n",
    "     * `min_samples_leaf` - **9**.\n",
    "     \n",
    "Время работы лучшей модели на основе \"решающего дерева\": `1.58` миллисекунд."
   ]
  },
  {
   "cell_type": "markdown",
   "metadata": {},
   "source": [
    "**43. Исследуем модель на основе \"случайного леса\".**"
   ]
  },
  {
   "cell_type": "code",
   "execution_count": 96,
   "metadata": {},
   "outputs": [],
   "source": [
    "# функция для исследования модели с использованием многопроцессности, для использования в одном процессе\n",
    "# (вспомогательная)\n",
    "def random_forest_for_concurrent(features_train,\n",
    "                                 target_train,\n",
    "                                 features_valid,\n",
    "                                 target_valid,\n",
    "                                 n_estimators_range,\n",
    "                                 n_estimators_step,\n",
    "                                 max_depth_range,\n",
    "                                 parameters,\n",
    "                                 random_state,\n",
    "                                 class_weight=None,\n",
    "                                 n_jobs=-1):\n",
    "    \n",
    "    \n",
    "    best_f1_score = 0.\n",
    "    \n",
    "    best_n_estimators = 1\n",
    "    best_criterion = \"\"\n",
    "    best_max_depth = 1\n",
    "    best_min_samples_split = 2\n",
    "    best_min_samples_leaf = 1\n",
    "\n",
    "    for min_samples_split, min_samples_leaf in parameters:\n",
    "        for criterion in [\"gini\", \"entropy\", \"log_loss\"]:\n",
    "            for est in range(10, n_estimators_range, n_estimators_step):\n",
    "                for max_depth in range(1, max_depth_range):\n",
    "                    \n",
    "                    # создадим модель с заданными гиперпараметрами\n",
    "                    model = RandomForestClassifier(n_estimators=est,\n",
    "                                                   criterion=criterion,\n",
    "                                                   max_depth=max_depth,\n",
    "                                                   min_samples_split=min_samples_split,\n",
    "                                                   min_samples_leaf=min_samples_leaf,\n",
    "                                                   n_jobs=n_jobs,\n",
    "                                                   random_state=random_state,\n",
    "                                                   class_weight=class_weight)\n",
    "    \n",
    "                    # обучим модель на тренировочной выборке\n",
    "                    model.fit(features_train, target_train)\n",
    "    \n",
    "                    # получим предсказания модели на валидационной выборке\n",
    "                    predictions_valid = model.predict(features_valid) \n",
    "            \n",
    "                    # вычислим метрику F1-мера\n",
    "                    f1_score_value = f1_score(target_valid, predictions_valid)\n",
    "         \n",
    "                    if f1_score_value > best_f1_score:\n",
    "                        best_f1_score = f1_score_value\n",
    "                            \n",
    "                        best_n_estimators = est\n",
    "                        best_criterion = criterion\n",
    "                        best_max_depth = max_depth\n",
    "                    \n",
    "                        best_min_samples_split = min_samples_split\n",
    "                        best_min_samples_leaf = min_samples_leaf\n",
    "                    \n",
    "    return {'best_f1_score' : best_f1_score,\n",
    "            'best_n_estimators' : best_n_estimators,\n",
    "            'best_criterion' : best_criterion,\n",
    "            'best_max_depth' : best_max_depth,\n",
    "            'best_min_samples_split' : best_min_samples_split,\n",
    "            'best_min_samples_leaf' : best_min_samples_leaf}\n"
   ]
  },
  {
   "cell_type": "code",
   "execution_count": 97,
   "metadata": {},
   "outputs": [],
   "source": [
    "# функция для исследования модели с использованием многопроцессности (основная)\n",
    "def concurrent_selection_hyperparameters(features_train,\n",
    "                                         target_train,\n",
    "                                         features_valid,\n",
    "                                         target_valid,\n",
    "                                         n_estimators_range,\n",
    "                                         n_estimators_step,\n",
    "                                         max_depth_range,\n",
    "                                         min_samples_split_range,\n",
    "                                         min_samples_leaf_range,            \n",
    "                                         random_state,\n",
    "                                         class_weight=None,\n",
    "                                         n_jobs=-1):\n",
    "    \n",
    "    best_f1_score = 0.\n",
    "    \n",
    "    best_n_estimators = 1\n",
    "    best_criterion = \"\"\n",
    "    best_max_depth = 1\n",
    "    best_min_samples_split = 2\n",
    "    best_min_samples_leaf = 1\n",
    "    \n",
    "    \n",
    "    \n",
    "    threads_parameters = { }\n",
    "    \n",
    "    tasks_count = (min_samples_split_range - 2) * (min_samples_leaf_range - 1)\n",
    "    thread_count = os.cpu_count()\n",
    "    block_size = int(tasks_count / thread_count)\n",
    "    remains = tasks_count % thread_count\n",
    "    \n",
    "    for thread_idx in range(1, thread_count + 1):\n",
    "        threads_parameters[thread_idx] = []\n",
    "    \n",
    "    \n",
    "    \n",
    "    count = 0\n",
    "    \n",
    "    for min_samples_split in range(2, min_samples_split_range):\n",
    "        for min_samples_leaf in range(1, min_samples_leaf_range):\n",
    "            threads_parameters[thread_count].append((min_samples_split, min_samples_leaf))\n",
    "            \n",
    "            count += 1\n",
    "            if (count == block_size):\n",
    "                thread_count -= 1                \n",
    "                if(remains == thread_count):\n",
    "                    block_size += 1\n",
    "                count = 0\n",
    "                \n",
    "                \n",
    "\n",
    "    with concurrent.futures.ProcessPoolExecutor() as executor:  \n",
    "        futures = [executor.submit(random_forest_for_concurrent,\n",
    "                                   features_train=features_train,\n",
    "                                   target_train=target_train,\n",
    "                                   features_valid=features_valid,\n",
    "                                   target_valid=target_valid,\n",
    "                                   n_estimators_range=n_estimators_range,\n",
    "                                   n_estimators_step=n_estimators_step,\n",
    "                                   max_depth_range=max_depth_range,\n",
    "                                   parameters=parameters,\n",
    "                                   random_state=random_state,\n",
    "                                   class_weight=class_weight) for parameters in threads_parameters.values()]\n",
    "        \n",
    "        \n",
    "        for future in concurrent.futures.as_completed(futures):\n",
    "            try:\n",
    "                data = future.result()\n",
    "                \n",
    "                if data['best_f1_score'] > best_f1_score:\n",
    "                    best_f1_score = data['best_f1_score']\n",
    "                    \n",
    "                    best_n_estimators = data['best_n_estimators']\n",
    "                    best_criterion = data['best_criterion']\n",
    "                    best_max_depth = data['best_max_depth']\n",
    "                    best_min_samples_split = data['best_min_samples_split']\n",
    "                    best_min_samples_leaf = data['best_min_samples_leaf']\n",
    "                    \n",
    "                    \n",
    "            except Exception as exc:\n",
    "                print(\"Exception (executor.submit(random_forest_for_concurrent):\", exc)\n",
    "                \n",
    "                \n",
    "                \n",
    "    return {'best_f1_score' : best_f1_score,\n",
    "            'best_n_estimators' : best_n_estimators,\n",
    "            'best_criterion' : best_criterion,\n",
    "            'best_max_depth' : best_max_depth,\n",
    "            'best_min_samples_split' : best_min_samples_split,\n",
    "            'best_min_samples_leaf' : best_min_samples_leaf}"
   ]
  },
  {
   "cell_type": "code",
   "execution_count": 98,
   "metadata": {},
   "outputs": [],
   "source": [
    "def random_forest_with_output(features_train,\n",
    "                              target_train,\n",
    "                              features_valid,\n",
    "                              target_valid,\n",
    "                              n_estimators_range,\n",
    "                              n_estimators_step,\n",
    "                              max_depth_range,\n",
    "                              min_samples_split_range,\n",
    "                              min_samples_leaf_range,\n",
    "                              random_state=random_state,\n",
    "                              class_weight=None):\n",
    "    \n",
    "    if __name__ == \"__main__\":\n",
    "        result_map = concurrent_selection_hyperparameters(features_train=features_train,\n",
    "                                                      target_train=target_train,\n",
    "                                                      features_valid=features_valid,\n",
    "                                                      target_valid=target_valid,\n",
    "                                                      n_estimators_range=n_estimators_range,\n",
    "                                                      n_estimators_step=n_estimators_step,\n",
    "                                                      max_depth_range=max_depth_range,\n",
    "                                                      min_samples_split_range=min_samples_split_range,\n",
    "                                                      min_samples_leaf_range=min_samples_leaf_range,            \n",
    "                                                      random_state=random_state,\n",
    "                                                      class_weight=class_weight)\n",
    "    print(\"Модель: RandomForestClassifier\" + \n",
    "          \"\\n best_f1_score:          \" + str(result_map.get('best_f1_score')) +\n",
    "          \"\\n best_n_estimators:      \" + str(result_map.get('best_n_estimators')) +\n",
    "          \"\\n best_criterion:         \" + result_map.get('best_criterion') +\n",
    "          \"\\n best_max_depth:         \" + str(result_map.get('best_max_depth')) +\n",
    "          \"\\n best_min_samples_split: \" + str(result_map.get('best_min_samples_split')) +\n",
    "          \"\\n best_min_samples_leaf:  \" + str(result_map.get('best_min_samples_leaf')))"
   ]
  },
  {
   "cell_type": "code",
   "execution_count": 99,
   "metadata": {},
   "outputs": [
    {
     "data": {
      "text/plain": [
       "'\\nn_estimators_range = 41\\nn_estimators_step = 1\\nmax_depth_range = 21\\nmin_samples_split_range = 11\\nmin_samples_leaf_range = 11\\n\\nrandom_forest_with_output(features_train,\\n                          target_train,\\n                          features_valid,\\n                          target_valid,\\n                          n_estimators_range=n_estimators_range,\\n                          n_estimators_step=n_estimators_step,\\n                          max_depth_range=max_depth_range,\\n                          min_samples_split_range=min_samples_split_range,\\n                          min_samples_leaf_range=min_samples_leaf_range,\\n                          random_state=random_state)\\n'"
      ]
     },
     "execution_count": 99,
     "metadata": {},
     "output_type": "execute_result"
    }
   ],
   "source": [
    "# найдем максимально эффективные гиперпараметры модели\n",
    "'''\n",
    "n_estimators_range = 41\n",
    "n_estimators_step = 1\n",
    "max_depth_range = 21\n",
    "min_samples_split_range = 11\n",
    "min_samples_leaf_range = 11\n",
    "\n",
    "random_forest_with_output(features_train,\n",
    "                          target_train,\n",
    "                          features_valid,\n",
    "                          target_valid,\n",
    "                          n_estimators_range=n_estimators_range,\n",
    "                          n_estimators_step=n_estimators_step,\n",
    "                          max_depth_range=max_depth_range,\n",
    "                          min_samples_split_range=min_samples_split_range,\n",
    "                          min_samples_leaf_range=min_samples_leaf_range,\n",
    "                          random_state=random_state)\n",
    "'''"
   ]
  },
  {
   "cell_type": "code",
   "execution_count": 100,
   "metadata": {},
   "outputs": [
    {
     "data": {
      "text/html": [
       "<style>#sk-container-id-2 {color: black;background-color: white;}#sk-container-id-2 pre{padding: 0;}#sk-container-id-2 div.sk-toggleable {background-color: white;}#sk-container-id-2 label.sk-toggleable__label {cursor: pointer;display: block;width: 100%;margin-bottom: 0;padding: 0.3em;box-sizing: border-box;text-align: center;}#sk-container-id-2 label.sk-toggleable__label-arrow:before {content: \"▸\";float: left;margin-right: 0.25em;color: #696969;}#sk-container-id-2 label.sk-toggleable__label-arrow:hover:before {color: black;}#sk-container-id-2 div.sk-estimator:hover label.sk-toggleable__label-arrow:before {color: black;}#sk-container-id-2 div.sk-toggleable__content {max-height: 0;max-width: 0;overflow: hidden;text-align: left;background-color: #f0f8ff;}#sk-container-id-2 div.sk-toggleable__content pre {margin: 0.2em;color: black;border-radius: 0.25em;background-color: #f0f8ff;}#sk-container-id-2 input.sk-toggleable__control:checked~div.sk-toggleable__content {max-height: 200px;max-width: 100%;overflow: auto;}#sk-container-id-2 input.sk-toggleable__control:checked~label.sk-toggleable__label-arrow:before {content: \"▾\";}#sk-container-id-2 div.sk-estimator input.sk-toggleable__control:checked~label.sk-toggleable__label {background-color: #d4ebff;}#sk-container-id-2 div.sk-label input.sk-toggleable__control:checked~label.sk-toggleable__label {background-color: #d4ebff;}#sk-container-id-2 input.sk-hidden--visually {border: 0;clip: rect(1px 1px 1px 1px);clip: rect(1px, 1px, 1px, 1px);height: 1px;margin: -1px;overflow: hidden;padding: 0;position: absolute;width: 1px;}#sk-container-id-2 div.sk-estimator {font-family: monospace;background-color: #f0f8ff;border: 1px dotted black;border-radius: 0.25em;box-sizing: border-box;margin-bottom: 0.5em;}#sk-container-id-2 div.sk-estimator:hover {background-color: #d4ebff;}#sk-container-id-2 div.sk-parallel-item::after {content: \"\";width: 100%;border-bottom: 1px solid gray;flex-grow: 1;}#sk-container-id-2 div.sk-label:hover label.sk-toggleable__label {background-color: #d4ebff;}#sk-container-id-2 div.sk-serial::before {content: \"\";position: absolute;border-left: 1px solid gray;box-sizing: border-box;top: 0;bottom: 0;left: 50%;z-index: 0;}#sk-container-id-2 div.sk-serial {display: flex;flex-direction: column;align-items: center;background-color: white;padding-right: 0.2em;padding-left: 0.2em;position: relative;}#sk-container-id-2 div.sk-item {position: relative;z-index: 1;}#sk-container-id-2 div.sk-parallel {display: flex;align-items: stretch;justify-content: center;background-color: white;position: relative;}#sk-container-id-2 div.sk-item::before, #sk-container-id-2 div.sk-parallel-item::before {content: \"\";position: absolute;border-left: 1px solid gray;box-sizing: border-box;top: 0;bottom: 0;left: 50%;z-index: -1;}#sk-container-id-2 div.sk-parallel-item {display: flex;flex-direction: column;z-index: 1;position: relative;background-color: white;}#sk-container-id-2 div.sk-parallel-item:first-child::after {align-self: flex-end;width: 50%;}#sk-container-id-2 div.sk-parallel-item:last-child::after {align-self: flex-start;width: 50%;}#sk-container-id-2 div.sk-parallel-item:only-child::after {width: 0;}#sk-container-id-2 div.sk-dashed-wrapped {border: 1px dashed gray;margin: 0 0.4em 0.5em 0.4em;box-sizing: border-box;padding-bottom: 0.4em;background-color: white;}#sk-container-id-2 div.sk-label label {font-family: monospace;font-weight: bold;display: inline-block;line-height: 1.2em;}#sk-container-id-2 div.sk-label-container {text-align: center;}#sk-container-id-2 div.sk-container {/* jupyter's `normalize.less` sets `[hidden] { display: none; }` but bootstrap.min.css set `[hidden] { display: none !important; }` so we also need the `!important` here to be able to override the default hidden behavior on the sphinx rendered scikit-learn.org. See: https://github.com/scikit-learn/scikit-learn/issues/21755 */display: inline-block !important;position: relative;}#sk-container-id-2 div.sk-text-repr-fallback {display: none;}</style><div id=\"sk-container-id-2\" class=\"sk-top-container\"><div class=\"sk-text-repr-fallback\"><pre>RandomForestClassifier(max_depth=18, min_samples_leaf=2, min_samples_split=6,\n",
       "                       n_estimators=15, n_jobs=-1, random_state=753)</pre><b>In a Jupyter environment, please rerun this cell to show the HTML representation or trust the notebook. <br />On GitHub, the HTML representation is unable to render, please try loading this page with nbviewer.org.</b></div><div class=\"sk-container\" hidden><div class=\"sk-item\"><div class=\"sk-estimator sk-toggleable\"><input class=\"sk-toggleable__control sk-hidden--visually\" id=\"sk-estimator-id-2\" type=\"checkbox\" checked><label for=\"sk-estimator-id-2\" class=\"sk-toggleable__label sk-toggleable__label-arrow\">RandomForestClassifier</label><div class=\"sk-toggleable__content\"><pre>RandomForestClassifier(max_depth=18, min_samples_leaf=2, min_samples_split=6,\n",
       "                       n_estimators=15, n_jobs=-1, random_state=753)</pre></div></div></div></div></div>"
      ],
      "text/plain": [
       "RandomForestClassifier(max_depth=18, min_samples_leaf=2, min_samples_split=6,\n",
       "                       n_estimators=15, n_jobs=-1, random_state=753)"
      ]
     },
     "execution_count": 100,
     "metadata": {},
     "output_type": "execute_result"
    }
   ],
   "source": [
    "# создадим модель с заданными гиперпараметрами\n",
    "rfc_model = RandomForestClassifier(n_estimators=15,\n",
    "                                   criterion=\"gini\",\n",
    "                                   max_depth=18,\n",
    "                                   min_samples_split=6,\n",
    "                                   min_samples_leaf=2,\n",
    "                                   n_jobs=-1,\n",
    "                                   random_state=random_state)\n",
    "\n",
    "# обучим модель на тренировочной выборке\n",
    "rfc_model.fit(features_train, target_train)"
   ]
  },
  {
   "cell_type": "code",
   "execution_count": 101,
   "metadata": {},
   "outputs": [
    {
     "name": "stdout",
     "output_type": "stream",
     "text": [
      "CPU times: user 9.07 ms, sys: 4.25 ms, total: 13.3 ms\n",
      "Wall time: 19.4 ms\n"
     ]
    }
   ],
   "source": [
    "%%time\n",
    "\n",
    "# время работы модели в миллисекундах\n",
    "predictions_valid = rfc_model.predict(features_valid) "
   ]
  },
  {
   "cell_type": "markdown",
   "metadata": {},
   "source": [
    "Лучший результат модели на основе \"случайного леса\", на валидационной выборке:\n",
    " - метрика F1-мера: **0.6107784431137725**;\n",
    " - при гиперпараметрах модели: \n",
    "     * `n_estimators` - **15**;\n",
    "     * `criterion` - **gini**;\n",
    "     * `max_depth` -  **18**;\n",
    "     * `min_samples_split` - **6**;\n",
    "     * `min_samples_leaf` - **2**.\n",
    "     \n",
    "Время работы лучшей модели на основе \"случайного леса\": `8.9` миллисекунд."
   ]
  },
  {
   "cell_type": "markdown",
   "metadata": {},
   "source": [
    "**44. Исследуем модель на основе \"логистической регрессии\".**"
   ]
  },
  {
   "cell_type": "code",
   "execution_count": 102,
   "metadata": {},
   "outputs": [],
   "source": [
    "# функция исследования модели \"логистической регрессии\" с различными гиперпараметрами\n",
    "def logistic_regression(features_train,\n",
    "                        target_train,\n",
    "                        features_valid,\n",
    "                        target_valid,\n",
    "                        random_state,\n",
    "                        max_iter_range,\n",
    "                        max_iter_step=1,\n",
    "                        class_weight=None,\n",
    "                        n_jobs=-1):\n",
    "        \n",
    "        \n",
    "    best_f1_score = 0.\n",
    "    \n",
    "    best_solver = \"\"\n",
    "    best_max_iter = 10\n",
    "    \n",
    "    for solver in [\"lbfgs\", \"liblinear\", \"newton-cg\", \"newton-cholesky\", \"sag\", \"saga\"]:\n",
    "        for max_iter in range(10, max_iter_range, max_iter_step):\n",
    "    \n",
    "            # создадим модель с заданными гиперпараметрами\n",
    "                        \n",
    "            model = LogisticRegression(random_state=random_state,\n",
    "                                       solver=solver,\n",
    "                                       max_iter=max_iter,\n",
    "                                       n_jobs=n_jobs,\n",
    "                                       class_weight=class_weight) \n",
    "    \n",
    "            # обучим модель на тренировочной выборке\n",
    "            model.fit(features_train, target_train)\n",
    "    \n",
    "            # получим предсказания модели на валидационной выборке\n",
    "            predictions_valid = model.predict(features_valid) \n",
    "     \n",
    "            # вычислим метрику F1-мера\n",
    "            f1_score_value = f1_score(target_valid, predictions_valid)\n",
    "    \n",
    "            if f1_score_value > best_f1_score:\n",
    "                best_f1_score = f1_score_value\n",
    "                             \n",
    "                best_solver = solver\n",
    "                best_max_iter = max_iter\n",
    "                             \n",
    "    \n",
    "    return {'best_f1_score' : best_f1_score,\n",
    "            'best_solver' : best_solver, \n",
    "            'best_max_iter' :  best_max_iter}"
   ]
  },
  {
   "cell_type": "code",
   "execution_count": 103,
   "metadata": {},
   "outputs": [],
   "source": [
    "def logistic_regression_with_output(features_train,\n",
    "                                    target_train,\n",
    "                                    features_valid,\n",
    "                                    target_valid,\n",
    "                                    random_state=random_state,\n",
    "                                    max_iter_range=100,\n",
    "                                    max_iter_step=1,\n",
    "                                    class_weight=None):\n",
    "    \n",
    "    result_map = logistic_regression(features_train,\n",
    "                                     target_train,\n",
    "                                     features_valid,\n",
    "                                     target_valid,\n",
    "                                     random_state=random_state,\n",
    "                                     max_iter_range=max_iter_range,\n",
    "                                     max_iter_step=max_iter_step,\n",
    "                                     class_weight=class_weight)\n",
    "    \n",
    "    print(\"Модель: LogisticRegression\" + \n",
    "          \"\\n best_f1_score: \" + str(result_map.get('best_f1_score')) +\n",
    "          \"\\n best_solver:   \" + result_map.get('best_solver') +\n",
    "          \"\\n best_max_iter: \" +  str(result_map.get('best_max_iter')))"
   ]
  },
  {
   "cell_type": "code",
   "execution_count": 104,
   "metadata": {},
   "outputs": [
    {
     "data": {
      "text/plain": [
       "'\\nmax_iter_range = 100\\nmax_iter_step = 1\\n\\nlogistic_regression_with_output(features_train,\\n                                target_train,\\n                                features_valid,\\n                                target_valid,\\n                                random_state=random_state,\\n                                max_iter_range=max_iter_range,\\n                                max_iter_step=max_iter_step)\\n'"
      ]
     },
     "execution_count": 104,
     "metadata": {},
     "output_type": "execute_result"
    }
   ],
   "source": [
    "# найдем максимально эффективные гиперпараметры модели\n",
    "'''\n",
    "max_iter_range = 100\n",
    "max_iter_step = 1\n",
    "\n",
    "logistic_regression_with_output(features_train,\n",
    "                                target_train,\n",
    "                                features_valid,\n",
    "                                target_valid,\n",
    "                                random_state=random_state,\n",
    "                                max_iter_range=max_iter_range,\n",
    "                                max_iter_step=max_iter_step)\n",
    "'''"
   ]
  },
  {
   "cell_type": "code",
   "execution_count": 105,
   "metadata": {},
   "outputs": [
    {
     "name": "stderr",
     "output_type": "stream",
     "text": [
      "/opt/conda/lib/python3.9/site-packages/sklearn/linear_model/_sag.py:350: ConvergenceWarning: The max_iter was reached which means the coef_ did not converge\n",
      "  warnings.warn(\n"
     ]
    },
    {
     "data": {
      "text/html": [
       "<style>#sk-container-id-3 {color: black;background-color: white;}#sk-container-id-3 pre{padding: 0;}#sk-container-id-3 div.sk-toggleable {background-color: white;}#sk-container-id-3 label.sk-toggleable__label {cursor: pointer;display: block;width: 100%;margin-bottom: 0;padding: 0.3em;box-sizing: border-box;text-align: center;}#sk-container-id-3 label.sk-toggleable__label-arrow:before {content: \"▸\";float: left;margin-right: 0.25em;color: #696969;}#sk-container-id-3 label.sk-toggleable__label-arrow:hover:before {color: black;}#sk-container-id-3 div.sk-estimator:hover label.sk-toggleable__label-arrow:before {color: black;}#sk-container-id-3 div.sk-toggleable__content {max-height: 0;max-width: 0;overflow: hidden;text-align: left;background-color: #f0f8ff;}#sk-container-id-3 div.sk-toggleable__content pre {margin: 0.2em;color: black;border-radius: 0.25em;background-color: #f0f8ff;}#sk-container-id-3 input.sk-toggleable__control:checked~div.sk-toggleable__content {max-height: 200px;max-width: 100%;overflow: auto;}#sk-container-id-3 input.sk-toggleable__control:checked~label.sk-toggleable__label-arrow:before {content: \"▾\";}#sk-container-id-3 div.sk-estimator input.sk-toggleable__control:checked~label.sk-toggleable__label {background-color: #d4ebff;}#sk-container-id-3 div.sk-label input.sk-toggleable__control:checked~label.sk-toggleable__label {background-color: #d4ebff;}#sk-container-id-3 input.sk-hidden--visually {border: 0;clip: rect(1px 1px 1px 1px);clip: rect(1px, 1px, 1px, 1px);height: 1px;margin: -1px;overflow: hidden;padding: 0;position: absolute;width: 1px;}#sk-container-id-3 div.sk-estimator {font-family: monospace;background-color: #f0f8ff;border: 1px dotted black;border-radius: 0.25em;box-sizing: border-box;margin-bottom: 0.5em;}#sk-container-id-3 div.sk-estimator:hover {background-color: #d4ebff;}#sk-container-id-3 div.sk-parallel-item::after {content: \"\";width: 100%;border-bottom: 1px solid gray;flex-grow: 1;}#sk-container-id-3 div.sk-label:hover label.sk-toggleable__label {background-color: #d4ebff;}#sk-container-id-3 div.sk-serial::before {content: \"\";position: absolute;border-left: 1px solid gray;box-sizing: border-box;top: 0;bottom: 0;left: 50%;z-index: 0;}#sk-container-id-3 div.sk-serial {display: flex;flex-direction: column;align-items: center;background-color: white;padding-right: 0.2em;padding-left: 0.2em;position: relative;}#sk-container-id-3 div.sk-item {position: relative;z-index: 1;}#sk-container-id-3 div.sk-parallel {display: flex;align-items: stretch;justify-content: center;background-color: white;position: relative;}#sk-container-id-3 div.sk-item::before, #sk-container-id-3 div.sk-parallel-item::before {content: \"\";position: absolute;border-left: 1px solid gray;box-sizing: border-box;top: 0;bottom: 0;left: 50%;z-index: -1;}#sk-container-id-3 div.sk-parallel-item {display: flex;flex-direction: column;z-index: 1;position: relative;background-color: white;}#sk-container-id-3 div.sk-parallel-item:first-child::after {align-self: flex-end;width: 50%;}#sk-container-id-3 div.sk-parallel-item:last-child::after {align-self: flex-start;width: 50%;}#sk-container-id-3 div.sk-parallel-item:only-child::after {width: 0;}#sk-container-id-3 div.sk-dashed-wrapped {border: 1px dashed gray;margin: 0 0.4em 0.5em 0.4em;box-sizing: border-box;padding-bottom: 0.4em;background-color: white;}#sk-container-id-3 div.sk-label label {font-family: monospace;font-weight: bold;display: inline-block;line-height: 1.2em;}#sk-container-id-3 div.sk-label-container {text-align: center;}#sk-container-id-3 div.sk-container {/* jupyter's `normalize.less` sets `[hidden] { display: none; }` but bootstrap.min.css set `[hidden] { display: none !important; }` so we also need the `!important` here to be able to override the default hidden behavior on the sphinx rendered scikit-learn.org. See: https://github.com/scikit-learn/scikit-learn/issues/21755 */display: inline-block !important;position: relative;}#sk-container-id-3 div.sk-text-repr-fallback {display: none;}</style><div id=\"sk-container-id-3\" class=\"sk-top-container\"><div class=\"sk-text-repr-fallback\"><pre>LogisticRegression(max_iter=15, n_jobs=-1, random_state=753, solver=&#x27;sag&#x27;)</pre><b>In a Jupyter environment, please rerun this cell to show the HTML representation or trust the notebook. <br />On GitHub, the HTML representation is unable to render, please try loading this page with nbviewer.org.</b></div><div class=\"sk-container\" hidden><div class=\"sk-item\"><div class=\"sk-estimator sk-toggleable\"><input class=\"sk-toggleable__control sk-hidden--visually\" id=\"sk-estimator-id-3\" type=\"checkbox\" checked><label for=\"sk-estimator-id-3\" class=\"sk-toggleable__label sk-toggleable__label-arrow\">LogisticRegression</label><div class=\"sk-toggleable__content\"><pre>LogisticRegression(max_iter=15, n_jobs=-1, random_state=753, solver=&#x27;sag&#x27;)</pre></div></div></div></div></div>"
      ],
      "text/plain": [
       "LogisticRegression(max_iter=15, n_jobs=-1, random_state=753, solver='sag')"
      ]
     },
     "execution_count": 105,
     "metadata": {},
     "output_type": "execute_result"
    }
   ],
   "source": [
    "# создадим модель с заданными гиперпараметрами\n",
    "\n",
    "lr_model = LogisticRegression(random_state=random_state,\n",
    "                              solver=\"sag\",\n",
    "                              max_iter=15,\n",
    "                              n_jobs=-1) \n",
    "    \n",
    "# обучим модель на тренировочной выборке\n",
    "lr_model.fit(features_train, target_train)"
   ]
  },
  {
   "cell_type": "code",
   "execution_count": 106,
   "metadata": {},
   "outputs": [
    {
     "name": "stdout",
     "output_type": "stream",
     "text": [
      "CPU times: user 2.96 ms, sys: 682 µs, total: 3.64 ms\n",
      "Wall time: 2.12 ms\n"
     ]
    }
   ],
   "source": [
    "%%time\n",
    "\n",
    "# время работы модели в миллисекундах\n",
    "predictions_valid = lr_model.predict(features_valid) "
   ]
  },
  {
   "cell_type": "markdown",
   "metadata": {},
   "source": [
    "Лучший результат модели на основе \"логистической регрессии\", на валидационной выборке:\n",
    " - метрика F1-мера: **0.291970802919708**;\n",
    " - при гиперпараметрах модели: \n",
    "     * `solver` - **sag**;\n",
    "     * `max_iter` - **15**.\n",
    "     \n",
    "Время работы лучшей модели на основе \"логистической регрессии\": `7.8` миллисекунд."
   ]
  },
  {
   "cell_type": "markdown",
   "metadata": {},
   "source": [
    "**Выводы**\n",
    "\n",
    "Метрика качества модели F1-мера, на валидационной выборке, лучших моделей и время работы в миллисекундах:\n",
    " - решающее дерево: `0.6098265895953757` (`1.58` миллисекунд);\n",
    " - случайный лес: `0.6107784431137725` (`8.9` миллисекунд);\n",
    " - логистическая регрессия: `0.291970802919708` (`7.8` миллисекунд).\n",
    " \n",
    "Лучшая модель, по признаку качества `F1-мера`: `RandomForestClassifier` (\"случайный лес\"). "
   ]
  },
  {
   "cell_type": "markdown",
   "metadata": {},
   "source": [
    "### Проверка моделей на адекватность\n",
    "\n",
    "Проверим модели (решающее дерево, случайный лес, логистическая регрессия) на адекватность."
   ]
  },
  {
   "cell_type": "code",
   "execution_count": 107,
   "metadata": {},
   "outputs": [],
   "source": [
    "# определим функцию, которая будет вычислять основные критерии качества работы модели\n",
    "def quality_metrics(target, predictions, probabilities):\n",
    "    # доля правильных ответов\n",
    "    print(\"Точность (accuracy):\", accuracy_score(target, predictions))\n",
    "    # отзыв (отзывчивость) -  интуитивная способность классификатора находить все положительные образцы\n",
    "    print(\"Полнота (recall):\", recall_score(target, predictions)) \n",
    "    # точность - интуитивно определяется способностью классификатора не помечать как положительную выборку,\n",
    "    # которая является отрицательной.\n",
    "    print(\"Точность (precision):\", precision_score(target, predictions)) \n",
    "    # среднее гармоническое значение точности и отзывчивости.\n",
    "    # мера точности теста (конечный показатель эффективности модели)\n",
    "    print(\"F1-мера:\", f1_score(target, predictions))\n",
    "    #\n",
    "    # AUC-ROC - площадь под ROC-кривой (оценка качества упорядочивания алгоритмом объектов двух классов)\n",
    "    # [оценка качества бинарной классификации].\n",
    "    #\n",
    "    # AUC-ROC - равен доле пар объектов вида (объект класса 1, объект класса 0), которые алгоритм верно упорядочил,\n",
    "    # т.е. первый объект идёт в упорядоченном списке раньше\n",
    "    print(\"AUC-ROC:\", roc_auc_score(target, probabilities[:, 1]))\n",
    "    # среднее значение точности\n",
    "    print(\"Средняя точность (Average precision):\", average_precision_score(target, predictions))"
   ]
  },
  {
   "cell_type": "code",
   "execution_count": 108,
   "metadata": {},
   "outputs": [],
   "source": [
    "# функция отображения матрицы ошибок в каноническом виде (https://en.wikipedia.org/wiki/Confusion_matrix)\n",
    "def confusion_matrix_display(target, predictions):\n",
    "    \n",
    "    print(\"Матрица ошибок ([0][0] = TP, [0][1] = FN;\\n\" + \n",
    "          \"                [1][0] = FP; [1][1] = TN):\")\n",
    "    disp = ConfusionMatrixDisplay(confusion_matrix(target, predictions, labels = [1, 0]),\n",
    "                                  display_labels=[1, 0])\n",
    "    disp.plot()\n",
    "    plt.show()"
   ]
  },
  {
   "cell_type": "code",
   "execution_count": 109,
   "metadata": {},
   "outputs": [],
   "source": [
    "# определим функцию вывода основных метрик качества модели\n",
    "def model_metrics(model, features, target):\n",
    "    # получим предсказания модели на валидационной выборке\n",
    "    predictions = model.predict(features) \n",
    "\n",
    "    # построим и выведем матрицу ошибок\n",
    "    confusion_matrix_display(target, predictions)\n",
    "    print()\n",
    "    \n",
    "    \n",
    "    # выведем основные метрики качества работы модели\n",
    "    quality_metrics(target, predictions, model.predict_proba(features))"
   ]
  },
  {
   "cell_type": "markdown",
   "metadata": {},
   "source": [
    "**45. Проверим частоту классов в предсказаниях каждой модели, на валидационной выборке.**"
   ]
  },
  {
   "cell_type": "code",
   "execution_count": 110,
   "metadata": {},
   "outputs": [
    {
     "data": {
      "text/plain": [
       "False    0.858\n",
       "True     0.142\n",
       "Name: proportion, dtype: float64"
      ]
     },
     "execution_count": 110,
     "metadata": {},
     "output_type": "execute_result"
    }
   ],
   "source": [
    "# \"решающее дерево\"\n",
    "class_frequency = pd.Series(dtc_model.predict(features_valid)).value_counts(normalize=True)\n",
    "class_frequency"
   ]
  },
  {
   "cell_type": "code",
   "execution_count": 111,
   "metadata": {},
   "outputs": [
    {
     "data": {
      "image/png": "[encoded data removed]",
      "text/plain": [
       "<Figure size 432x288 with 1 Axes>"
      ]
     },
     "metadata": {
      "needs_background": "light"
     },
     "output_type": "display_data"
    }
   ],
   "source": [
    "class_frequency.plot(kind='bar');"
   ]
  },
  {
   "cell_type": "code",
   "execution_count": 112,
   "metadata": {},
   "outputs": [
    {
     "data": {
      "text/plain": [
       "False    0.87\n",
       "True     0.13\n",
       "Name: proportion, dtype: float64"
      ]
     },
     "execution_count": 112,
     "metadata": {},
     "output_type": "execute_result"
    }
   ],
   "source": [
    "# \"случайный лес\"\n",
    "class_frequency = pd.Series(rfc_model.predict(features_valid)).value_counts(normalize=True)\n",
    "class_frequency"
   ]
  },
  {
   "cell_type": "code",
   "execution_count": 113,
   "metadata": {},
   "outputs": [
    {
     "data": {
      "image/png": "[encoded data removed]",
      "text/plain": [
       "<Figure size 432x288 with 1 Axes>"
      ]
     },
     "metadata": {
      "needs_background": "light"
     },
     "output_type": "display_data"
    }
   ],
   "source": [
    "class_frequency.plot(kind='bar');"
   ]
  },
  {
   "cell_type": "code",
   "execution_count": 114,
   "metadata": {},
   "outputs": [
    {
     "data": {
      "text/plain": [
       "False    0.93\n",
       "True     0.07\n",
       "Name: proportion, dtype: float64"
      ]
     },
     "execution_count": 114,
     "metadata": {},
     "output_type": "execute_result"
    }
   ],
   "source": [
    "# \"логистическая регрессия\"\n",
    "class_frequency = pd.Series(lr_model.predict(features_valid)).value_counts(normalize=True)\n",
    "class_frequency"
   ]
  },
  {
   "cell_type": "code",
   "execution_count": 115,
   "metadata": {},
   "outputs": [
    {
     "data": {
      "image/png": "[encoded data removed]",
      "text/plain": [
       "<Figure size 432x288 with 1 Axes>"
      ]
     },
     "metadata": {
      "needs_background": "light"
     },
     "output_type": "display_data"
    }
   ],
   "source": [
    "class_frequency.plot(kind='bar');"
   ]
  },
  {
   "cell_type": "markdown",
   "metadata": {},
   "source": [
    "**Вывод**\n",
    "\n",
    "Соотношение классов, в предсказаниях модели, на валидационной выборке, существенно отличается от соотношения классов в выборках с целевым признаком (шаг 40). Хуже всего соотношение у третьей модели: `0` - **93.3%** и `1` - **6.7%**. У первых двух моделей соотношение приблизительно одинаковое: `0` - **86.2-88.1%** и `1` - **11.8-13.7%**."
   ]
  },
  {
   "cell_type": "markdown",
   "metadata": {},
   "source": [
    "**46. Проверим частоту классов в предсказаниях каждой модели, на тестовой выборке.**"
   ]
  },
  {
   "cell_type": "code",
   "execution_count": 116,
   "metadata": {},
   "outputs": [
    {
     "data": {
      "text/plain": [
       "False    0.8565\n",
       "True     0.1435\n",
       "Name: proportion, dtype: float64"
      ]
     },
     "execution_count": 116,
     "metadata": {},
     "output_type": "execute_result"
    }
   ],
   "source": [
    "# \"решающее дерево\"\n",
    "class_frequency = pd.Series(dtc_model.predict(features_test)).value_counts(normalize=True)\n",
    "class_frequency"
   ]
  },
  {
   "cell_type": "code",
   "execution_count": 117,
   "metadata": {},
   "outputs": [
    {
     "data": {
      "image/png": "[encoded data removed]",
      "text/plain": [
       "<Figure size 432x288 with 1 Axes>"
      ]
     },
     "metadata": {
      "needs_background": "light"
     },
     "output_type": "display_data"
    }
   ],
   "source": [
    "class_frequency.plot(kind='bar');"
   ]
  },
  {
   "cell_type": "code",
   "execution_count": 118,
   "metadata": {},
   "outputs": [
    {
     "data": {
      "text/plain": [
       "False    0.8765\n",
       "True     0.1235\n",
       "Name: proportion, dtype: float64"
      ]
     },
     "execution_count": 118,
     "metadata": {},
     "output_type": "execute_result"
    }
   ],
   "source": [
    "# \"случайный лес\"\n",
    "class_frequency = pd.Series(rfc_model.predict(features_test)).value_counts(normalize=True)\n",
    "class_frequency"
   ]
  },
  {
   "cell_type": "code",
   "execution_count": 119,
   "metadata": {},
   "outputs": [
    {
     "data": {
      "image/png": "[encoded data removed]",
      "text/plain": [
       "<Figure size 432x288 with 1 Axes>"
      ]
     },
     "metadata": {
      "needs_background": "light"
     },
     "output_type": "display_data"
    }
   ],
   "source": [
    "class_frequency.plot(kind='bar');"
   ]
  },
  {
   "cell_type": "code",
   "execution_count": 120,
   "metadata": {},
   "outputs": [
    {
     "data": {
      "text/plain": [
       "False    0.9325\n",
       "True     0.0675\n",
       "Name: proportion, dtype: float64"
      ]
     },
     "execution_count": 120,
     "metadata": {},
     "output_type": "execute_result"
    }
   ],
   "source": [
    "# \"логистическая регрессия\"\n",
    "class_frequency = pd.Series(lr_model.predict(features_test)).value_counts(normalize=True)\n",
    "class_frequency"
   ]
  },
  {
   "cell_type": "code",
   "execution_count": 121,
   "metadata": {},
   "outputs": [
    {
     "data": {
      "image/png": "[encoded data removed]",
      "text/plain": [
       "<Figure size 432x288 with 1 Axes>"
      ]
     },
     "metadata": {
      "needs_background": "light"
     },
     "output_type": "display_data"
    }
   ],
   "source": [
    "class_frequency.plot(kind='bar');"
   ]
  },
  {
   "cell_type": "markdown",
   "metadata": {},
   "source": [
    "**Вывод**\n",
    "\n",
    "Соотношение классов, в предсказаниях модели, не тестовой выборке, существенно отличается от соотношения классов в выборках с целевым признаком (шаг 40). Хуже всего соотношение у третьей модели: `0` - **93.4%** и `1` - **6.6%**. У первых двух моделей соотношение приблизительно одинаковое: `0` - **86.5-88.3%** и `1` - **11.6-13.4%**."
   ]
  },
  {
   "cell_type": "markdown",
   "metadata": {},
   "source": [
    "**47. Построим константную модель (`baseline` модель) и проверим ее.**\n",
    "\n",
    "Данная модель машинного обучения позволит нам проконтролировать, что наши более сложные модели дают нам прирост качества прогнозирования."
   ]
  },
  {
   "cell_type": "code",
   "execution_count": 122,
   "metadata": {},
   "outputs": [],
   "source": [
    "# построим константную модель\n",
    "dc_model = DummyClassifier(strategy=\"stratified\", random_state=random_state) "
   ]
  },
  {
   "cell_type": "code",
   "execution_count": 123,
   "metadata": {},
   "outputs": [
    {
     "data": {
      "text/html": [
       "<style>#sk-container-id-4 {color: black;background-color: white;}#sk-container-id-4 pre{padding: 0;}#sk-container-id-4 div.sk-toggleable {background-color: white;}#sk-container-id-4 label.sk-toggleable__label {cursor: pointer;display: block;width: 100%;margin-bottom: 0;padding: 0.3em;box-sizing: border-box;text-align: center;}#sk-container-id-4 label.sk-toggleable__label-arrow:before {content: \"▸\";float: left;margin-right: 0.25em;color: #696969;}#sk-container-id-4 label.sk-toggleable__label-arrow:hover:before {color: black;}#sk-container-id-4 div.sk-estimator:hover label.sk-toggleable__label-arrow:before {color: black;}#sk-container-id-4 div.sk-toggleable__content {max-height: 0;max-width: 0;overflow: hidden;text-align: left;background-color: #f0f8ff;}#sk-container-id-4 div.sk-toggleable__content pre {margin: 0.2em;color: black;border-radius: 0.25em;background-color: #f0f8ff;}#sk-container-id-4 input.sk-toggleable__control:checked~div.sk-toggleable__content {max-height: 200px;max-width: 100%;overflow: auto;}#sk-container-id-4 input.sk-toggleable__control:checked~label.sk-toggleable__label-arrow:before {content: \"▾\";}#sk-container-id-4 div.sk-estimator input.sk-toggleable__control:checked~label.sk-toggleable__label {background-color: #d4ebff;}#sk-container-id-4 div.sk-label input.sk-toggleable__control:checked~label.sk-toggleable__label {background-color: #d4ebff;}#sk-container-id-4 input.sk-hidden--visually {border: 0;clip: rect(1px 1px 1px 1px);clip: rect(1px, 1px, 1px, 1px);height: 1px;margin: -1px;overflow: hidden;padding: 0;position: absolute;width: 1px;}#sk-container-id-4 div.sk-estimator {font-family: monospace;background-color: #f0f8ff;border: 1px dotted black;border-radius: 0.25em;box-sizing: border-box;margin-bottom: 0.5em;}#sk-container-id-4 div.sk-estimator:hover {background-color: #d4ebff;}#sk-container-id-4 div.sk-parallel-item::after {content: \"\";width: 100%;border-bottom: 1px solid gray;flex-grow: 1;}#sk-container-id-4 div.sk-label:hover label.sk-toggleable__label {background-color: #d4ebff;}#sk-container-id-4 div.sk-serial::before {content: \"\";position: absolute;border-left: 1px solid gray;box-sizing: border-box;top: 0;bottom: 0;left: 50%;z-index: 0;}#sk-container-id-4 div.sk-serial {display: flex;flex-direction: column;align-items: center;background-color: white;padding-right: 0.2em;padding-left: 0.2em;position: relative;}#sk-container-id-4 div.sk-item {position: relative;z-index: 1;}#sk-container-id-4 div.sk-parallel {display: flex;align-items: stretch;justify-content: center;background-color: white;position: relative;}#sk-container-id-4 div.sk-item::before, #sk-container-id-4 div.sk-parallel-item::before {content: \"\";position: absolute;border-left: 1px solid gray;box-sizing: border-box;top: 0;bottom: 0;left: 50%;z-index: -1;}#sk-container-id-4 div.sk-parallel-item {display: flex;flex-direction: column;z-index: 1;position: relative;background-color: white;}#sk-container-id-4 div.sk-parallel-item:first-child::after {align-self: flex-end;width: 50%;}#sk-container-id-4 div.sk-parallel-item:last-child::after {align-self: flex-start;width: 50%;}#sk-container-id-4 div.sk-parallel-item:only-child::after {width: 0;}#sk-container-id-4 div.sk-dashed-wrapped {border: 1px dashed gray;margin: 0 0.4em 0.5em 0.4em;box-sizing: border-box;padding-bottom: 0.4em;background-color: white;}#sk-container-id-4 div.sk-label label {font-family: monospace;font-weight: bold;display: inline-block;line-height: 1.2em;}#sk-container-id-4 div.sk-label-container {text-align: center;}#sk-container-id-4 div.sk-container {/* jupyter's `normalize.less` sets `[hidden] { display: none; }` but bootstrap.min.css set `[hidden] { display: none !important; }` so we also need the `!important` here to be able to override the default hidden behavior on the sphinx rendered scikit-learn.org. See: https://github.com/scikit-learn/scikit-learn/issues/21755 */display: inline-block !important;position: relative;}#sk-container-id-4 div.sk-text-repr-fallback {display: none;}</style><div id=\"sk-container-id-4\" class=\"sk-top-container\"><div class=\"sk-text-repr-fallback\"><pre>DummyClassifier(random_state=753, strategy=&#x27;stratified&#x27;)</pre><b>In a Jupyter environment, please rerun this cell to show the HTML representation or trust the notebook. <br />On GitHub, the HTML representation is unable to render, please try loading this page with nbviewer.org.</b></div><div class=\"sk-container\" hidden><div class=\"sk-item\"><div class=\"sk-estimator sk-toggleable\"><input class=\"sk-toggleable__control sk-hidden--visually\" id=\"sk-estimator-id-4\" type=\"checkbox\" checked><label for=\"sk-estimator-id-4\" class=\"sk-toggleable__label sk-toggleable__label-arrow\">DummyClassifier</label><div class=\"sk-toggleable__content\"><pre>DummyClassifier(random_state=753, strategy=&#x27;stratified&#x27;)</pre></div></div></div></div></div>"
      ],
      "text/plain": [
       "DummyClassifier(random_state=753, strategy='stratified')"
      ]
     },
     "execution_count": 123,
     "metadata": {},
     "output_type": "execute_result"
    }
   ],
   "source": [
    "# обучим константную модель\n",
    "dc_model.fit(features_train, target_train)"
   ]
  },
  {
   "cell_type": "code",
   "execution_count": 124,
   "metadata": {},
   "outputs": [
    {
     "data": {
      "text/plain": [
       "False    0.796\n",
       "True     0.204\n",
       "Name: proportion, dtype: float64"
      ]
     },
     "execution_count": 124,
     "metadata": {},
     "output_type": "execute_result"
    }
   ],
   "source": [
    "# выведем cоотношение классов в предсказаниях константной модели\n",
    "class_frequency = pd.Series(dc_model.predict(features_valid)).value_counts(normalize=True)\n",
    "class_frequency"
   ]
  },
  {
   "cell_type": "code",
   "execution_count": 125,
   "metadata": {},
   "outputs": [
    {
     "data": {
      "image/png": "[encoded data removed]",
      "text/plain": [
       "<Figure size 432x288 with 1 Axes>"
      ]
     },
     "metadata": {
      "needs_background": "light"
     },
     "output_type": "display_data"
    }
   ],
   "source": [
    "class_frequency.plot(kind='bar');"
   ]
  },
  {
   "cell_type": "code",
   "execution_count": 126,
   "metadata": {},
   "outputs": [
    {
     "name": "stdout",
     "output_type": "stream",
     "text": [
      "Матрица ошибок ([0][0] = TP, [0][1] = FN;\n",
      "                [1][0] = FP; [1][1] = TN):\n"
     ]
    },
    {
     "data": {
      "image/png": "[encoded data removed]",
      "text/plain": [
       "<Figure size 432x288 with 2 Axes>"
      ]
     },
     "metadata": {
      "needs_background": "light"
     },
     "output_type": "display_data"
    },
    {
     "name": "stdout",
     "output_type": "stream",
     "text": [
      "\n",
      "Точность (accuracy): 0.668\n",
      "Полнота (recall): 0.18627450980392157\n",
      "Точность (precision): 0.18627450980392157\n",
      "F1-мера: 0.18627450980392157\n",
      "AUC-ROC: 0.4888658981180412\n",
      "Средняя точность (Average precision): 0.20069819300269126\n"
     ]
    }
   ],
   "source": [
    "# выведем характеристики качества модели\n",
    "model_metrics(dc_model, features_valid, target_valid)"
   ]
  },
  {
   "cell_type": "markdown",
   "metadata": {},
   "source": [
    "По матрице ошибок мы видим, что преобладает, более чем в 16 раз, количество предсказаний класса `-` (0). `FN`= **332**, а `FP`= **332**. Частота ошибок (error rate): `664/2000` = **33.2%**, указывает на очень низкое качество модели (почти отсутствие способности прогнозировать).\n",
    "\n",
    "Константная модель имеет очень низкое качество предсказаний, что подтверждают значения: **F1-мера**, **точность (precision)**, **полнота (recall)** и **AUC-ROC**."
   ]
  },
  {
   "cell_type": "markdown",
   "metadata": {},
   "source": [
    "**48. Проверим модель \"решающее дерево\".**"
   ]
  },
  {
   "cell_type": "code",
   "execution_count": 127,
   "metadata": {},
   "outputs": [
    {
     "name": "stdout",
     "output_type": "stream",
     "text": [
      "Матрица ошибок ([0][0] = TP, [0][1] = FN;\n",
      "                [1][0] = FP; [1][1] = TN):\n"
     ]
    },
    {
     "data": {
      "image/png": "[encoded data removed]",
      "text/plain": [
       "<Figure size 432x288 with 2 Axes>"
      ]
     },
     "metadata": {
      "needs_background": "light"
     },
     "output_type": "display_data"
    },
    {
     "name": "stdout",
     "output_type": "stream",
     "text": [
      "\n",
      "Точность (accuracy): 0.865\n",
      "Полнота (recall): 0.5171568627450981\n",
      "Точность (precision): 0.7429577464788732\n",
      "F1-мера: 0.6098265895953757\n",
      "AUC-ROC: 0.8478944969947778\n",
      "Средняя точность (Average precision): 0.48272569732118203\n"
     ]
    }
   ],
   "source": [
    "# выведем характеристики качества модели\n",
    "model_metrics(dtc_model, features_valid, target_valid)"
   ]
  },
  {
   "cell_type": "markdown",
   "metadata": {},
   "source": [
    "По матрице ошибок мы видим, что преобладает, более чем  в восемь раз, количество предсказаний класса `-`(0). `FN` = **223**, а `FP` = **90**. Частота ошибок (error rate): `313/2000` = **15.6%**.\n",
    "\n",
    "`F1-мера` (показатель эффективности модели) указывает низкое качество модели. Но данная метрика зависит от сбалансированности классов, а наши выборки (исходная, обучающая, валидационная и тестовая) имеют дисбаланс.\n",
    "\n",
    "Метрика `AUC-ROC` (оценка качества бинарной классификации) выше на `25.7%` и нечувствительна к сбалансированности классов, что показывает на среднее качество предсказаний модели и, в нашем случае, является более точной метрикой качества модели."
   ]
  },
  {
   "cell_type": "markdown",
   "metadata": {},
   "source": [
    "**49. Проверим модель \"случайный лес\".**"
   ]
  },
  {
   "cell_type": "code",
   "execution_count": 128,
   "metadata": {},
   "outputs": [
    {
     "name": "stdout",
     "output_type": "stream",
     "text": [
      "Матрица ошибок ([0][0] = TP, [0][1] = FN;\n",
      "                [1][0] = FP; [1][1] = TN):\n"
     ]
    },
    {
     "data": {
      "image/png": "[encoded data removed]",
      "text/plain": [
       "<Figure size 432x288 with 2 Axes>"
      ]
     },
     "metadata": {
      "needs_background": "light"
     },
     "output_type": "display_data"
    },
    {
     "name": "stdout",
     "output_type": "stream",
     "text": [
      "\n",
      "Точность (accuracy): 0.87\n",
      "Полнота (recall): 0.5\n",
      "Точность (precision): 0.7846153846153846\n",
      "F1-мера: 0.6107784431137725\n",
      "AUC-ROC: 0.8362354049660066\n",
      "Средняя точность (Average precision): 0.4943076923076923\n"
     ]
    }
   ],
   "source": [
    "# выведем характеристики качества модели\n",
    "model_metrics(rfc_model, features_valid, target_valid)"
   ]
  },
  {
   "cell_type": "markdown",
   "metadata": {},
   "source": [
    "По матрице ошибок мы видим, что преобладает, более чем  в восемь раз, количество предсказаний класса `-` (0). `FN` = **221**, а `FP` = **50**. Частота ошибок (error rate): `271/2000` = **13.5%**.\n",
    "\n",
    "`F1`-мера (показатель эффективности модели) указывает на низкое качество модели. Но данная метрика зависит от сбалансированности классов, а наши выборки (исходная, обучающая, валидационная и тестовая) имеют дисбаланс.\n",
    "\n",
    "Метрика `AUC-ROC` (оценка качества бинарной классификации) выше на `26.6%` и нечувствительна к сбалансированности классов, что показывает на среднее качество предсказаний модели и, в нашем случае, является более точной метрикой качества модели."
   ]
  },
  {
   "cell_type": "markdown",
   "metadata": {},
   "source": [
    "**50. Проверим модель \"логистическая регрессия\".**"
   ]
  },
  {
   "cell_type": "code",
   "execution_count": 129,
   "metadata": {},
   "outputs": [
    {
     "name": "stdout",
     "output_type": "stream",
     "text": [
      "Матрица ошибок ([0][0] = TP, [0][1] = FN;\n",
      "                [1][0] = FP; [1][1] = TN):\n"
     ]
    },
    {
     "data": {
      "image/png": "[encoded data removed]",
      "text/plain": [
       "<Figure size 432x288 with 2 Axes>"
      ]
     },
     "metadata": {
      "needs_background": "light"
     },
     "output_type": "display_data"
    },
    {
     "name": "stdout",
     "output_type": "stream",
     "text": [
      "\n",
      "Точность (accuracy): 0.806\n",
      "Полнота (recall): 0.19607843137254902\n",
      "Точность (precision): 0.5714285714285714\n",
      "F1-мера: 0.291970802919708\n",
      "AUC-ROC: 0.7427471302591389\n",
      "Средняя точность (Average precision): 0.27604481792717084\n"
     ]
    }
   ],
   "source": [
    "# выведем характеристики качества модели\n",
    "model_metrics(lr_model, features_valid, target_valid)"
   ]
  },
  {
   "cell_type": "markdown",
   "metadata": {},
   "source": [
    "По матрице ошибок мы видим, что преобладает, более чем  в 19 раз, количество предсказаний класса `-` (0). `FN` = **330**, а `FP` = **57**. Частота ошибок (error rate): `387/2000` = **19.3%**, указывает на низкое качество модели.\n",
    "\n",
    "`F1`-мера (показатель эффективности модели) указывает на очень низкое качество модели. Но данная метрика зависит от сбалансированности классов, а наши выборки (исходная, обучающая, валидационная и тестовая) имеют дисбаланс.\n",
    "\n",
    "Метрика `AUC-ROC` (оценка качества бинарной классификации) выше на `45.4%` и нечувствительна к сбалансированности классов, что показывает очень низкое качество предсказаний модели и, в нашем случае, является более точной метрикой качества модели. Данная модель почти на уровне константной (baseline) модели."
   ]
  },
  {
   "cell_type": "markdown",
   "metadata": {},
   "source": [
    "**Общий вывод**\n",
    "\n",
    "Первые две наши модели, лучше константной и полностью адекватны. Отклонений и аномалий нет. Третья модель на уровне константной модели.\n",
    "\n",
    "\n",
    "Первые две модели: решающее дерево и случайный лес, имеют приблизительно одинаковые характеристики прогнозирования, качества и ошибок, но время работы, в несколько раз, лучше у первой модели (решающее дерево), чем у второй, а третья модель существенно отстает от них."
   ]
  },
  {
   "cell_type": "markdown",
   "metadata": {},
   "source": [
    "## Улучшение качества модели"
   ]
  },
  {
   "cell_type": "markdown",
   "metadata": {},
   "source": [
    "### Борьба с дисбалансом классов\n",
    "\n",
    "Попробуем увеличить качество прогнозирования модели, посредством устранения дисбаланса классов в исходных данных. Протестируем несколько подходов."
   ]
  },
  {
   "cell_type": "markdown",
   "metadata": {},
   "source": [
    "#### Взвешивание классов\n",
    "\n",
    "Для использования данного подхода, необходимо присвоить параметру `class_weight`, при создании модели, значение: `balanced`."
   ]
  },
  {
   "cell_type": "markdown",
   "metadata": {},
   "source": [
    "**51. Модель на основе \"решающего дерева\".**"
   ]
  },
  {
   "cell_type": "code",
   "execution_count": 130,
   "metadata": {},
   "outputs": [
    {
     "data": {
      "text/plain": [
       "'\\nmax_depth_range = 21\\nmin_samples_split_range = 11\\nmin_samples_leaf_range = 11\\n\\ndecision_tree_with_output(features_train,\\n                          target_train,\\n                          features_valid,\\n                          target_valid,\\n                          max_depth_range=max_depth_range,\\n                          min_samples_split_range=min_samples_split_range,\\n                          min_samples_leaf_range=min_samples_leaf_range,  \\n                          random_state=random_state,\\n                          class_weight=\"balanced\")\\n'"
      ]
     },
     "execution_count": 130,
     "metadata": {},
     "output_type": "execute_result"
    }
   ],
   "source": [
    "# найдем максимально эффективные гиперпараметры модели\n",
    "'''\n",
    "max_depth_range = 21\n",
    "min_samples_split_range = 11\n",
    "min_samples_leaf_range = 11\n",
    "\n",
    "decision_tree_with_output(features_train,\n",
    "                          target_train,\n",
    "                          features_valid,\n",
    "                          target_valid,\n",
    "                          max_depth_range=max_depth_range,\n",
    "                          min_samples_split_range=min_samples_split_range,\n",
    "                          min_samples_leaf_range=min_samples_leaf_range,  \n",
    "                          random_state=random_state,\n",
    "                          class_weight=\"balanced\")\n",
    "'''"
   ]
  },
  {
   "cell_type": "code",
   "execution_count": 131,
   "metadata": {},
   "outputs": [
    {
     "data": {
      "text/html": [
       "<style>#sk-container-id-5 {color: black;background-color: white;}#sk-container-id-5 pre{padding: 0;}#sk-container-id-5 div.sk-toggleable {background-color: white;}#sk-container-id-5 label.sk-toggleable__label {cursor: pointer;display: block;width: 100%;margin-bottom: 0;padding: 0.3em;box-sizing: border-box;text-align: center;}#sk-container-id-5 label.sk-toggleable__label-arrow:before {content: \"▸\";float: left;margin-right: 0.25em;color: #696969;}#sk-container-id-5 label.sk-toggleable__label-arrow:hover:before {color: black;}#sk-container-id-5 div.sk-estimator:hover label.sk-toggleable__label-arrow:before {color: black;}#sk-container-id-5 div.sk-toggleable__content {max-height: 0;max-width: 0;overflow: hidden;text-align: left;background-color: #f0f8ff;}#sk-container-id-5 div.sk-toggleable__content pre {margin: 0.2em;color: black;border-radius: 0.25em;background-color: #f0f8ff;}#sk-container-id-5 input.sk-toggleable__control:checked~div.sk-toggleable__content {max-height: 200px;max-width: 100%;overflow: auto;}#sk-container-id-5 input.sk-toggleable__control:checked~label.sk-toggleable__label-arrow:before {content: \"▾\";}#sk-container-id-5 div.sk-estimator input.sk-toggleable__control:checked~label.sk-toggleable__label {background-color: #d4ebff;}#sk-container-id-5 div.sk-label input.sk-toggleable__control:checked~label.sk-toggleable__label {background-color: #d4ebff;}#sk-container-id-5 input.sk-hidden--visually {border: 0;clip: rect(1px 1px 1px 1px);clip: rect(1px, 1px, 1px, 1px);height: 1px;margin: -1px;overflow: hidden;padding: 0;position: absolute;width: 1px;}#sk-container-id-5 div.sk-estimator {font-family: monospace;background-color: #f0f8ff;border: 1px dotted black;border-radius: 0.25em;box-sizing: border-box;margin-bottom: 0.5em;}#sk-container-id-5 div.sk-estimator:hover {background-color: #d4ebff;}#sk-container-id-5 div.sk-parallel-item::after {content: \"\";width: 100%;border-bottom: 1px solid gray;flex-grow: 1;}#sk-container-id-5 div.sk-label:hover label.sk-toggleable__label {background-color: #d4ebff;}#sk-container-id-5 div.sk-serial::before {content: \"\";position: absolute;border-left: 1px solid gray;box-sizing: border-box;top: 0;bottom: 0;left: 50%;z-index: 0;}#sk-container-id-5 div.sk-serial {display: flex;flex-direction: column;align-items: center;background-color: white;padding-right: 0.2em;padding-left: 0.2em;position: relative;}#sk-container-id-5 div.sk-item {position: relative;z-index: 1;}#sk-container-id-5 div.sk-parallel {display: flex;align-items: stretch;justify-content: center;background-color: white;position: relative;}#sk-container-id-5 div.sk-item::before, #sk-container-id-5 div.sk-parallel-item::before {content: \"\";position: absolute;border-left: 1px solid gray;box-sizing: border-box;top: 0;bottom: 0;left: 50%;z-index: -1;}#sk-container-id-5 div.sk-parallel-item {display: flex;flex-direction: column;z-index: 1;position: relative;background-color: white;}#sk-container-id-5 div.sk-parallel-item:first-child::after {align-self: flex-end;width: 50%;}#sk-container-id-5 div.sk-parallel-item:last-child::after {align-self: flex-start;width: 50%;}#sk-container-id-5 div.sk-parallel-item:only-child::after {width: 0;}#sk-container-id-5 div.sk-dashed-wrapped {border: 1px dashed gray;margin: 0 0.4em 0.5em 0.4em;box-sizing: border-box;padding-bottom: 0.4em;background-color: white;}#sk-container-id-5 div.sk-label label {font-family: monospace;font-weight: bold;display: inline-block;line-height: 1.2em;}#sk-container-id-5 div.sk-label-container {text-align: center;}#sk-container-id-5 div.sk-container {/* jupyter's `normalize.less` sets `[hidden] { display: none; }` but bootstrap.min.css set `[hidden] { display: none !important; }` so we also need the `!important` here to be able to override the default hidden behavior on the sphinx rendered scikit-learn.org. See: https://github.com/scikit-learn/scikit-learn/issues/21755 */display: inline-block !important;position: relative;}#sk-container-id-5 div.sk-text-repr-fallback {display: none;}</style><div id=\"sk-container-id-5\" class=\"sk-top-container\"><div class=\"sk-text-repr-fallback\"><pre>DecisionTreeClassifier(class_weight=&#x27;balanced&#x27;, max_depth=9, min_samples_leaf=4,\n",
       "                       min_samples_split=9, random_state=753,\n",
       "                       splitter=&#x27;random&#x27;)</pre><b>In a Jupyter environment, please rerun this cell to show the HTML representation or trust the notebook. <br />On GitHub, the HTML representation is unable to render, please try loading this page with nbviewer.org.</b></div><div class=\"sk-container\" hidden><div class=\"sk-item\"><div class=\"sk-estimator sk-toggleable\"><input class=\"sk-toggleable__control sk-hidden--visually\" id=\"sk-estimator-id-5\" type=\"checkbox\" checked><label for=\"sk-estimator-id-5\" class=\"sk-toggleable__label sk-toggleable__label-arrow\">DecisionTreeClassifier</label><div class=\"sk-toggleable__content\"><pre>DecisionTreeClassifier(class_weight=&#x27;balanced&#x27;, max_depth=9, min_samples_leaf=4,\n",
       "                       min_samples_split=9, random_state=753,\n",
       "                       splitter=&#x27;random&#x27;)</pre></div></div></div></div></div>"
      ],
      "text/plain": [
       "DecisionTreeClassifier(class_weight='balanced', max_depth=9, min_samples_leaf=4,\n",
       "                       min_samples_split=9, random_state=753,\n",
       "                       splitter='random')"
      ]
     },
     "execution_count": 131,
     "metadata": {},
     "output_type": "execute_result"
    }
   ],
   "source": [
    "# создадим модель с заданными гиперпараметрами\n",
    "dtc_model = DecisionTreeClassifier(criterion=\"gini\",\n",
    "                               splitter=\"random\",\n",
    "                               max_depth=9,\n",
    "                               min_samples_split=9,\n",
    "                               min_samples_leaf=4,\n",
    "                               random_state=random_state,\n",
    "                               class_weight=\"balanced\")\n",
    "\n",
    "# обучим модель на тренировочной выборке\n",
    "dtc_model.fit(features_train, target_train)"
   ]
  },
  {
   "cell_type": "code",
   "execution_count": 132,
   "metadata": {},
   "outputs": [
    {
     "name": "stdout",
     "output_type": "stream",
     "text": [
      "CPU times: user 2.95 ms, sys: 0 ns, total: 2.95 ms\n",
      "Wall time: 2.84 ms\n"
     ]
    }
   ],
   "source": [
    "%%time\n",
    "\n",
    "# время работы модели в миллисекундах\n",
    "predictions_valid = dtc_model.predict(features_valid)"
   ]
  },
  {
   "cell_type": "markdown",
   "metadata": {},
   "source": [
    "Лучший результат модели на основе \"решающего дерева\", на валидационной выборке:\n",
    " - метрика F1-мера: **0.6068111455108359**;\n",
    " - при гиперпараметрах модели: \n",
    "     * `criterion` - **gini**;\n",
    "     * `splitter` - **random**;\n",
    "     * `max_depth` -  **9**;\n",
    "     * `min_samples_split` - **9**;\n",
    "     * `min_samples_leaf` - **4**.\n",
    "     \n",
    "Время работы лучшей модели на основе \"решающего дерева\": `1.74` миллисекунд."
   ]
  },
  {
   "cell_type": "markdown",
   "metadata": {},
   "source": [
    "**52. Модель на основе \"случайного леса\".**"
   ]
  },
  {
   "cell_type": "code",
   "execution_count": 133,
   "metadata": {},
   "outputs": [
    {
     "data": {
      "text/plain": [
       "'\\nn_estimators_range = 41\\nn_estimators_step = 1\\nmax_depth_range = 21\\nmin_samples_split_range = 11\\nmin_samples_leaf_range = 11\\n\\n\\nrandom_forest_with_output(features_train,\\n                          target_train,\\n                          features_valid,\\n                          target_valid,\\n                          n_estimators_range=n_estimators_range,\\n                          n_estimators_step=n_estimators_step,\\n                          max_depth_range=max_depth_range,\\n                          min_samples_split_range=min_samples_split_range,\\n                          min_samples_leaf_range=min_samples_leaf_range,\\n                          random_state=random_state,\\n                          class_weight=\"balanced\")\\n'"
      ]
     },
     "execution_count": 133,
     "metadata": {},
     "output_type": "execute_result"
    }
   ],
   "source": [
    "# найдем максимально эффективные гиперпараметры модели\n",
    "'''\n",
    "n_estimators_range = 41\n",
    "n_estimators_step = 1\n",
    "max_depth_range = 21\n",
    "min_samples_split_range = 11\n",
    "min_samples_leaf_range = 11\n",
    "\n",
    "\n",
    "random_forest_with_output(features_train,\n",
    "                          target_train,\n",
    "                          features_valid,\n",
    "                          target_valid,\n",
    "                          n_estimators_range=n_estimators_range,\n",
    "                          n_estimators_step=n_estimators_step,\n",
    "                          max_depth_range=max_depth_range,\n",
    "                          min_samples_split_range=min_samples_split_range,\n",
    "                          min_samples_leaf_range=min_samples_leaf_range,\n",
    "                          random_state=random_state,\n",
    "                          class_weight=\"balanced\")\n",
    "'''"
   ]
  },
  {
   "cell_type": "code",
   "execution_count": 134,
   "metadata": {},
   "outputs": [
    {
     "data": {
      "text/html": [
       "<style>#sk-container-id-6 {color: black;background-color: white;}#sk-container-id-6 pre{padding: 0;}#sk-container-id-6 div.sk-toggleable {background-color: white;}#sk-container-id-6 label.sk-toggleable__label {cursor: pointer;display: block;width: 100%;margin-bottom: 0;padding: 0.3em;box-sizing: border-box;text-align: center;}#sk-container-id-6 label.sk-toggleable__label-arrow:before {content: \"▸\";float: left;margin-right: 0.25em;color: #696969;}#sk-container-id-6 label.sk-toggleable__label-arrow:hover:before {color: black;}#sk-container-id-6 div.sk-estimator:hover label.sk-toggleable__label-arrow:before {color: black;}#sk-container-id-6 div.sk-toggleable__content {max-height: 0;max-width: 0;overflow: hidden;text-align: left;background-color: #f0f8ff;}#sk-container-id-6 div.sk-toggleable__content pre {margin: 0.2em;color: black;border-radius: 0.25em;background-color: #f0f8ff;}#sk-container-id-6 input.sk-toggleable__control:checked~div.sk-toggleable__content {max-height: 200px;max-width: 100%;overflow: auto;}#sk-container-id-6 input.sk-toggleable__control:checked~label.sk-toggleable__label-arrow:before {content: \"▾\";}#sk-container-id-6 div.sk-estimator input.sk-toggleable__control:checked~label.sk-toggleable__label {background-color: #d4ebff;}#sk-container-id-6 div.sk-label input.sk-toggleable__control:checked~label.sk-toggleable__label {background-color: #d4ebff;}#sk-container-id-6 input.sk-hidden--visually {border: 0;clip: rect(1px 1px 1px 1px);clip: rect(1px, 1px, 1px, 1px);height: 1px;margin: -1px;overflow: hidden;padding: 0;position: absolute;width: 1px;}#sk-container-id-6 div.sk-estimator {font-family: monospace;background-color: #f0f8ff;border: 1px dotted black;border-radius: 0.25em;box-sizing: border-box;margin-bottom: 0.5em;}#sk-container-id-6 div.sk-estimator:hover {background-color: #d4ebff;}#sk-container-id-6 div.sk-parallel-item::after {content: \"\";width: 100%;border-bottom: 1px solid gray;flex-grow: 1;}#sk-container-id-6 div.sk-label:hover label.sk-toggleable__label {background-color: #d4ebff;}#sk-container-id-6 div.sk-serial::before {content: \"\";position: absolute;border-left: 1px solid gray;box-sizing: border-box;top: 0;bottom: 0;left: 50%;z-index: 0;}#sk-container-id-6 div.sk-serial {display: flex;flex-direction: column;align-items: center;background-color: white;padding-right: 0.2em;padding-left: 0.2em;position: relative;}#sk-container-id-6 div.sk-item {position: relative;z-index: 1;}#sk-container-id-6 div.sk-parallel {display: flex;align-items: stretch;justify-content: center;background-color: white;position: relative;}#sk-container-id-6 div.sk-item::before, #sk-container-id-6 div.sk-parallel-item::before {content: \"\";position: absolute;border-left: 1px solid gray;box-sizing: border-box;top: 0;bottom: 0;left: 50%;z-index: -1;}#sk-container-id-6 div.sk-parallel-item {display: flex;flex-direction: column;z-index: 1;position: relative;background-color: white;}#sk-container-id-6 div.sk-parallel-item:first-child::after {align-self: flex-end;width: 50%;}#sk-container-id-6 div.sk-parallel-item:last-child::after {align-self: flex-start;width: 50%;}#sk-container-id-6 div.sk-parallel-item:only-child::after {width: 0;}#sk-container-id-6 div.sk-dashed-wrapped {border: 1px dashed gray;margin: 0 0.4em 0.5em 0.4em;box-sizing: border-box;padding-bottom: 0.4em;background-color: white;}#sk-container-id-6 div.sk-label label {font-family: monospace;font-weight: bold;display: inline-block;line-height: 1.2em;}#sk-container-id-6 div.sk-label-container {text-align: center;}#sk-container-id-6 div.sk-container {/* jupyter's `normalize.less` sets `[hidden] { display: none; }` but bootstrap.min.css set `[hidden] { display: none !important; }` so we also need the `!important` here to be able to override the default hidden behavior on the sphinx rendered scikit-learn.org. See: https://github.com/scikit-learn/scikit-learn/issues/21755 */display: inline-block !important;position: relative;}#sk-container-id-6 div.sk-text-repr-fallback {display: none;}</style><div id=\"sk-container-id-6\" class=\"sk-top-container\"><div class=\"sk-text-repr-fallback\"><pre>RandomForestClassifier(class_weight=&#x27;balanced&#x27;, criterion=&#x27;entropy&#x27;,\n",
       "                       max_depth=15, min_samples_leaf=3, min_samples_split=4,\n",
       "                       n_estimators=21, n_jobs=-1, random_state=753)</pre><b>In a Jupyter environment, please rerun this cell to show the HTML representation or trust the notebook. <br />On GitHub, the HTML representation is unable to render, please try loading this page with nbviewer.org.</b></div><div class=\"sk-container\" hidden><div class=\"sk-item\"><div class=\"sk-estimator sk-toggleable\"><input class=\"sk-toggleable__control sk-hidden--visually\" id=\"sk-estimator-id-6\" type=\"checkbox\" checked><label for=\"sk-estimator-id-6\" class=\"sk-toggleable__label sk-toggleable__label-arrow\">RandomForestClassifier</label><div class=\"sk-toggleable__content\"><pre>RandomForestClassifier(class_weight=&#x27;balanced&#x27;, criterion=&#x27;entropy&#x27;,\n",
       "                       max_depth=15, min_samples_leaf=3, min_samples_split=4,\n",
       "                       n_estimators=21, n_jobs=-1, random_state=753)</pre></div></div></div></div></div>"
      ],
      "text/plain": [
       "RandomForestClassifier(class_weight='balanced', criterion='entropy',\n",
       "                       max_depth=15, min_samples_leaf=3, min_samples_split=4,\n",
       "                       n_estimators=21, n_jobs=-1, random_state=753)"
      ]
     },
     "execution_count": 134,
     "metadata": {},
     "output_type": "execute_result"
    }
   ],
   "source": [
    "# создадим модель с заданными гиперпараметрами\n",
    "rfc_model = RandomForestClassifier(n_estimators=21,\n",
    "                                   criterion=\"entropy\",\n",
    "                                   max_depth=15,\n",
    "                                   min_samples_split=4,\n",
    "                                   min_samples_leaf=3,\n",
    "                                   n_jobs=-1,\n",
    "                                   random_state=random_state,\n",
    "                                   class_weight=\"balanced\")\n",
    "\n",
    "# обучим модель на тренировочной выборке\n",
    "rfc_model.fit(features_train, target_train)"
   ]
  },
  {
   "cell_type": "code",
   "execution_count": 135,
   "metadata": {},
   "outputs": [
    {
     "name": "stdout",
     "output_type": "stream",
     "text": [
      "CPU times: user 10.9 ms, sys: 3.69 ms, total: 14.6 ms\n",
      "Wall time: 13.6 ms\n"
     ]
    }
   ],
   "source": [
    "%%time\n",
    "\n",
    "# время работы модели в миллисекундах\n",
    "predictions_valid = rfc_model.predict(features_valid) "
   ]
  },
  {
   "cell_type": "markdown",
   "metadata": {},
   "source": [
    "Лучший результат модели на основе \"случайного леса\", на валидационной выборке:\n",
    " - метрика F1-мера: **0.6423751686909582**;\n",
    " - при гиперпараметрах модели: \n",
    "     * `n_estimators` - **16**;\n",
    "     * `criterion` - **gini**;\n",
    "     * `max_depth` -  **17**;\n",
    "     * `min_samples_split` - **9**;\n",
    "     * `min_samples_leaf` - **1**.\n",
    "     \n",
    "Время работы лучшей модели на основе \"случайного леса\": `9.46` миллисекунд."
   ]
  },
  {
   "cell_type": "markdown",
   "metadata": {},
   "source": [
    "**53. Модель на основе \"логистической регрессии\".**"
   ]
  },
  {
   "cell_type": "code",
   "execution_count": 136,
   "metadata": {},
   "outputs": [
    {
     "data": {
      "text/plain": [
       "'\\nmax_iter_range = 120\\nmax_iter_step = 1\\n\\nlogistic_regression_with_output(features_train,\\n                                target_train,\\n                                features_valid,\\n                                target_valid,\\n                                random_state=random_state,\\n                                max_iter_range=max_iter_range,\\n                                max_iter_step=max_iter_step,\\n                                class_weight=\"balanced\")\\n'"
      ]
     },
     "execution_count": 136,
     "metadata": {},
     "output_type": "execute_result"
    }
   ],
   "source": [
    "# найдем максимально эффективные гиперпараметры модели\n",
    "'''\n",
    "max_iter_range = 120\n",
    "max_iter_step = 1\n",
    "\n",
    "logistic_regression_with_output(features_train,\n",
    "                                target_train,\n",
    "                                features_valid,\n",
    "                                target_valid,\n",
    "                                random_state=random_state,\n",
    "                                max_iter_range=max_iter_range,\n",
    "                                max_iter_step=max_iter_step,\n",
    "                                class_weight=\"balanced\")\n",
    "'''"
   ]
  },
  {
   "cell_type": "code",
   "execution_count": 137,
   "metadata": {},
   "outputs": [
    {
     "name": "stderr",
     "output_type": "stream",
     "text": [
      "/opt/conda/lib/python3.9/site-packages/sklearn/linear_model/_sag.py:350: ConvergenceWarning: The max_iter was reached which means the coef_ did not converge\n",
      "  warnings.warn(\n"
     ]
    },
    {
     "data": {
      "text/html": [
       "<style>#sk-container-id-7 {color: black;background-color: white;}#sk-container-id-7 pre{padding: 0;}#sk-container-id-7 div.sk-toggleable {background-color: white;}#sk-container-id-7 label.sk-toggleable__label {cursor: pointer;display: block;width: 100%;margin-bottom: 0;padding: 0.3em;box-sizing: border-box;text-align: center;}#sk-container-id-7 label.sk-toggleable__label-arrow:before {content: \"▸\";float: left;margin-right: 0.25em;color: #696969;}#sk-container-id-7 label.sk-toggleable__label-arrow:hover:before {color: black;}#sk-container-id-7 div.sk-estimator:hover label.sk-toggleable__label-arrow:before {color: black;}#sk-container-id-7 div.sk-toggleable__content {max-height: 0;max-width: 0;overflow: hidden;text-align: left;background-color: #f0f8ff;}#sk-container-id-7 div.sk-toggleable__content pre {margin: 0.2em;color: black;border-radius: 0.25em;background-color: #f0f8ff;}#sk-container-id-7 input.sk-toggleable__control:checked~div.sk-toggleable__content {max-height: 200px;max-width: 100%;overflow: auto;}#sk-container-id-7 input.sk-toggleable__control:checked~label.sk-toggleable__label-arrow:before {content: \"▾\";}#sk-container-id-7 div.sk-estimator input.sk-toggleable__control:checked~label.sk-toggleable__label {background-color: #d4ebff;}#sk-container-id-7 div.sk-label input.sk-toggleable__control:checked~label.sk-toggleable__label {background-color: #d4ebff;}#sk-container-id-7 input.sk-hidden--visually {border: 0;clip: rect(1px 1px 1px 1px);clip: rect(1px, 1px, 1px, 1px);height: 1px;margin: -1px;overflow: hidden;padding: 0;position: absolute;width: 1px;}#sk-container-id-7 div.sk-estimator {font-family: monospace;background-color: #f0f8ff;border: 1px dotted black;border-radius: 0.25em;box-sizing: border-box;margin-bottom: 0.5em;}#sk-container-id-7 div.sk-estimator:hover {background-color: #d4ebff;}#sk-container-id-7 div.sk-parallel-item::after {content: \"\";width: 100%;border-bottom: 1px solid gray;flex-grow: 1;}#sk-container-id-7 div.sk-label:hover label.sk-toggleable__label {background-color: #d4ebff;}#sk-container-id-7 div.sk-serial::before {content: \"\";position: absolute;border-left: 1px solid gray;box-sizing: border-box;top: 0;bottom: 0;left: 50%;z-index: 0;}#sk-container-id-7 div.sk-serial {display: flex;flex-direction: column;align-items: center;background-color: white;padding-right: 0.2em;padding-left: 0.2em;position: relative;}#sk-container-id-7 div.sk-item {position: relative;z-index: 1;}#sk-container-id-7 div.sk-parallel {display: flex;align-items: stretch;justify-content: center;background-color: white;position: relative;}#sk-container-id-7 div.sk-item::before, #sk-container-id-7 div.sk-parallel-item::before {content: \"\";position: absolute;border-left: 1px solid gray;box-sizing: border-box;top: 0;bottom: 0;left: 50%;z-index: -1;}#sk-container-id-7 div.sk-parallel-item {display: flex;flex-direction: column;z-index: 1;position: relative;background-color: white;}#sk-container-id-7 div.sk-parallel-item:first-child::after {align-self: flex-end;width: 50%;}#sk-container-id-7 div.sk-parallel-item:last-child::after {align-self: flex-start;width: 50%;}#sk-container-id-7 div.sk-parallel-item:only-child::after {width: 0;}#sk-container-id-7 div.sk-dashed-wrapped {border: 1px dashed gray;margin: 0 0.4em 0.5em 0.4em;box-sizing: border-box;padding-bottom: 0.4em;background-color: white;}#sk-container-id-7 div.sk-label label {font-family: monospace;font-weight: bold;display: inline-block;line-height: 1.2em;}#sk-container-id-7 div.sk-label-container {text-align: center;}#sk-container-id-7 div.sk-container {/* jupyter's `normalize.less` sets `[hidden] { display: none; }` but bootstrap.min.css set `[hidden] { display: none !important; }` so we also need the `!important` here to be able to override the default hidden behavior on the sphinx rendered scikit-learn.org. See: https://github.com/scikit-learn/scikit-learn/issues/21755 */display: inline-block !important;position: relative;}#sk-container-id-7 div.sk-text-repr-fallback {display: none;}</style><div id=\"sk-container-id-7\" class=\"sk-top-container\"><div class=\"sk-text-repr-fallback\"><pre>LogisticRegression(class_weight=&#x27;balanced&#x27;, max_iter=16, n_jobs=-1,\n",
       "                   random_state=753, solver=&#x27;sag&#x27;)</pre><b>In a Jupyter environment, please rerun this cell to show the HTML representation or trust the notebook. <br />On GitHub, the HTML representation is unable to render, please try loading this page with nbviewer.org.</b></div><div class=\"sk-container\" hidden><div class=\"sk-item\"><div class=\"sk-estimator sk-toggleable\"><input class=\"sk-toggleable__control sk-hidden--visually\" id=\"sk-estimator-id-7\" type=\"checkbox\" checked><label for=\"sk-estimator-id-7\" class=\"sk-toggleable__label sk-toggleable__label-arrow\">LogisticRegression</label><div class=\"sk-toggleable__content\"><pre>LogisticRegression(class_weight=&#x27;balanced&#x27;, max_iter=16, n_jobs=-1,\n",
       "                   random_state=753, solver=&#x27;sag&#x27;)</pre></div></div></div></div></div>"
      ],
      "text/plain": [
       "LogisticRegression(class_weight='balanced', max_iter=16, n_jobs=-1,\n",
       "                   random_state=753, solver='sag')"
      ]
     },
     "execution_count": 137,
     "metadata": {},
     "output_type": "execute_result"
    }
   ],
   "source": [
    "# создадим модель с заданными гиперпараметрами\n",
    "lr_model = LogisticRegression(random_state=random_state,\n",
    "                              solver=\"sag\",\n",
    "                              max_iter=16,\n",
    "                              n_jobs=-1,\n",
    "                              class_weight=\"balanced\") \n",
    "    \n",
    "# обучим модель на тренировочной выборке\n",
    "lr_model.fit(features_train, target_train)"
   ]
  },
  {
   "cell_type": "code",
   "execution_count": 138,
   "metadata": {},
   "outputs": [
    {
     "name": "stdout",
     "output_type": "stream",
     "text": [
      "CPU times: user 10.6 ms, sys: 15.6 ms, total: 26.2 ms\n",
      "Wall time: 5.82 ms\n"
     ]
    }
   ],
   "source": [
    "%%time\n",
    "\n",
    "# время работы модели в миллисекундах\n",
    "predictions_valid = lr_model.predict(features_valid) "
   ]
  },
  {
   "cell_type": "markdown",
   "metadata": {},
   "source": [
    "Лучший результат модели на основе \"логистической регрессии\", на валидационной выборке:\n",
    " - метрика F1-мера: **0.4705882352941177**;\n",
    " - при гиперпараметрах модели: \n",
    "     * `solver` - **sag**;\n",
    "     * `max_iter` - **16**.\n",
    "     \n",
    "Время работы лучшей модели на основе \"логистической регрессии\": `2.87` миллисекунд."
   ]
  },
  {
   "cell_type": "markdown",
   "metadata": {},
   "source": [
    "**Выводы**\n",
    "\n",
    "Метрика качества модели F1-мера, на валидационной выборке, лучших моделей и время работы в миллисекундах:\n",
    " - решающее дерево: ` 0.6068111455108359` (`1.74` миллисекунд);\n",
    " - случайный лес: `0.6423751686909582` (`9.46` миллисекунд);\n",
    " - логистическая регрессия: `0.4705882352941177` (`2.87` миллисекунд).\n",
    " \n",
    "Лучшая модель, для техники борьбы с дисбалансом классов - взвешивание классов, по признаку качества `F1-мера`: `RandomForestClassifier` (\"случайный лес\")."
   ]
  },
  {
   "cell_type": "markdown",
   "metadata": {},
   "source": [
    "#### Увеличение выборки\n",
    "\n",
    "Такая техника называется **upsampling**.\n",
    "Преобразование проходит в несколько этапов:\n",
    " - разделить обучающую выборку на объекты по классам;\n",
    " - определить тот класс, который содержит меньше объектов. Назовём его меньшим классом;\n",
    " - скопировать несколько раз объекты меньшего класса;\n",
    " - с учётом полученных данных, создать новую обучающую выборку;\n",
    " - перемешать данные."
   ]
  },
  {
   "cell_type": "code",
   "execution_count": 139,
   "metadata": {},
   "outputs": [],
   "source": [
    "# определим функцию для применения техники upsampling к выборкам: признаки и целевой признак\n",
    "def upsample(features, target, repeat):\n",
    "    features_zeros = features[target == 0]\n",
    "    features_ones = features[target == 1]\n",
    "    \n",
    "    target_zeros = target[target == 0]\n",
    "    target_ones = target[target == 1]\n",
    "     \n",
    "    features_upsampled = pd.concat([features_zeros] + [features_ones] * repeat)\n",
    "    target_upsampled = pd.concat([target_zeros] + [target_ones] * repeat)\n",
    "    \n",
    "    features_upsampled, target_upsampled = shuffle(\n",
    "    features_upsampled, target_upsampled, random_state=12345)\n",
    "    \n",
    "    return features_upsampled, target_upsampled"
   ]
  },
  {
   "cell_type": "markdown",
   "metadata": {},
   "source": [
    "**54. Увеличим обучающую выборку.**"
   ]
  },
  {
   "cell_type": "code",
   "execution_count": 140,
   "metadata": {},
   "outputs": [],
   "source": [
    "# увеличим обучающую выборку\n",
    "features_train_upsampled, target_train_upsampled = upsample(features_train, target_train, 4)"
   ]
  },
  {
   "cell_type": "markdown",
   "metadata": {},
   "source": [
    "**55. Проверим сбалансированность классов обучающей выборки целевого признака.**"
   ]
  },
  {
   "cell_type": "code",
   "execution_count": 141,
   "metadata": {},
   "outputs": [
    {
     "data": {
      "text/plain": [
       "exited\n",
       "True     0.50569\n",
       "False    0.49431\n",
       "Name: proportion, dtype: float64"
      ]
     },
     "execution_count": 141,
     "metadata": {},
     "output_type": "execute_result"
    }
   ],
   "source": [
    "class_frequency = target_train_upsampled.value_counts(normalize=True)\n",
    "class_frequency"
   ]
  },
  {
   "cell_type": "code",
   "execution_count": 142,
   "metadata": {},
   "outputs": [
    {
     "data": {
      "image/png": "[encoded data removed]",
      "text/plain": [
       "<Figure size 432x288 with 1 Axes>"
      ]
     },
     "metadata": {
      "needs_background": "light"
     },
     "output_type": "display_data"
    }
   ],
   "source": [
    "# построим гистаграмму сбалансированности классов в обучающей выборке целевого признака\n",
    "class_frequency.plot(kind='bar');"
   ]
  },
  {
   "cell_type": "markdown",
   "metadata": {},
   "source": [
    "**56. Модель на основе \"решающего дерева\".**"
   ]
  },
  {
   "cell_type": "code",
   "execution_count": 143,
   "metadata": {},
   "outputs": [
    {
     "data": {
      "text/plain": [
       "'\\nmax_depth_range = 21\\nmin_samples_split_range = 11\\nmin_samples_leaf_range = 11\\n\\ndecision_tree_with_output(features_train_upsampled,\\n                          target_train_upsampled,\\n                          features_valid,\\n                          target_valid,\\n                          max_depth_range=max_depth_range,\\n                          min_samples_split_range=min_samples_split_range,\\n                          min_samples_leaf_range=min_samples_leaf_range,  \\n                          random_state=random_state)\\n'"
      ]
     },
     "execution_count": 143,
     "metadata": {},
     "output_type": "execute_result"
    }
   ],
   "source": [
    "# найдем максимально эффективные гиперпараметры модели\n",
    "'''\n",
    "max_depth_range = 21\n",
    "min_samples_split_range = 11\n",
    "min_samples_leaf_range = 11\n",
    "\n",
    "decision_tree_with_output(features_train_upsampled,\n",
    "                          target_train_upsampled,\n",
    "                          features_valid,\n",
    "                          target_valid,\n",
    "                          max_depth_range=max_depth_range,\n",
    "                          min_samples_split_range=min_samples_split_range,\n",
    "                          min_samples_leaf_range=min_samples_leaf_range,  \n",
    "                          random_state=random_state)\n",
    "'''"
   ]
  },
  {
   "cell_type": "code",
   "execution_count": 144,
   "metadata": {},
   "outputs": [
    {
     "data": {
      "text/html": [
       "<style>#sk-container-id-8 {color: black;background-color: white;}#sk-container-id-8 pre{padding: 0;}#sk-container-id-8 div.sk-toggleable {background-color: white;}#sk-container-id-8 label.sk-toggleable__label {cursor: pointer;display: block;width: 100%;margin-bottom: 0;padding: 0.3em;box-sizing: border-box;text-align: center;}#sk-container-id-8 label.sk-toggleable__label-arrow:before {content: \"▸\";float: left;margin-right: 0.25em;color: #696969;}#sk-container-id-8 label.sk-toggleable__label-arrow:hover:before {color: black;}#sk-container-id-8 div.sk-estimator:hover label.sk-toggleable__label-arrow:before {color: black;}#sk-container-id-8 div.sk-toggleable__content {max-height: 0;max-width: 0;overflow: hidden;text-align: left;background-color: #f0f8ff;}#sk-container-id-8 div.sk-toggleable__content pre {margin: 0.2em;color: black;border-radius: 0.25em;background-color: #f0f8ff;}#sk-container-id-8 input.sk-toggleable__control:checked~div.sk-toggleable__content {max-height: 200px;max-width: 100%;overflow: auto;}#sk-container-id-8 input.sk-toggleable__control:checked~label.sk-toggleable__label-arrow:before {content: \"▾\";}#sk-container-id-8 div.sk-estimator input.sk-toggleable__control:checked~label.sk-toggleable__label {background-color: #d4ebff;}#sk-container-id-8 div.sk-label input.sk-toggleable__control:checked~label.sk-toggleable__label {background-color: #d4ebff;}#sk-container-id-8 input.sk-hidden--visually {border: 0;clip: rect(1px 1px 1px 1px);clip: rect(1px, 1px, 1px, 1px);height: 1px;margin: -1px;overflow: hidden;padding: 0;position: absolute;width: 1px;}#sk-container-id-8 div.sk-estimator {font-family: monospace;background-color: #f0f8ff;border: 1px dotted black;border-radius: 0.25em;box-sizing: border-box;margin-bottom: 0.5em;}#sk-container-id-8 div.sk-estimator:hover {background-color: #d4ebff;}#sk-container-id-8 div.sk-parallel-item::after {content: \"\";width: 100%;border-bottom: 1px solid gray;flex-grow: 1;}#sk-container-id-8 div.sk-label:hover label.sk-toggleable__label {background-color: #d4ebff;}#sk-container-id-8 div.sk-serial::before {content: \"\";position: absolute;border-left: 1px solid gray;box-sizing: border-box;top: 0;bottom: 0;left: 50%;z-index: 0;}#sk-container-id-8 div.sk-serial {display: flex;flex-direction: column;align-items: center;background-color: white;padding-right: 0.2em;padding-left: 0.2em;position: relative;}#sk-container-id-8 div.sk-item {position: relative;z-index: 1;}#sk-container-id-8 div.sk-parallel {display: flex;align-items: stretch;justify-content: center;background-color: white;position: relative;}#sk-container-id-8 div.sk-item::before, #sk-container-id-8 div.sk-parallel-item::before {content: \"\";position: absolute;border-left: 1px solid gray;box-sizing: border-box;top: 0;bottom: 0;left: 50%;z-index: -1;}#sk-container-id-8 div.sk-parallel-item {display: flex;flex-direction: column;z-index: 1;position: relative;background-color: white;}#sk-container-id-8 div.sk-parallel-item:first-child::after {align-self: flex-end;width: 50%;}#sk-container-id-8 div.sk-parallel-item:last-child::after {align-self: flex-start;width: 50%;}#sk-container-id-8 div.sk-parallel-item:only-child::after {width: 0;}#sk-container-id-8 div.sk-dashed-wrapped {border: 1px dashed gray;margin: 0 0.4em 0.5em 0.4em;box-sizing: border-box;padding-bottom: 0.4em;background-color: white;}#sk-container-id-8 div.sk-label label {font-family: monospace;font-weight: bold;display: inline-block;line-height: 1.2em;}#sk-container-id-8 div.sk-label-container {text-align: center;}#sk-container-id-8 div.sk-container {/* jupyter's `normalize.less` sets `[hidden] { display: none; }` but bootstrap.min.css set `[hidden] { display: none !important; }` so we also need the `!important` here to be able to override the default hidden behavior on the sphinx rendered scikit-learn.org. See: https://github.com/scikit-learn/scikit-learn/issues/21755 */display: inline-block !important;position: relative;}#sk-container-id-8 div.sk-text-repr-fallback {display: none;}</style><div id=\"sk-container-id-8\" class=\"sk-top-container\"><div class=\"sk-text-repr-fallback\"><pre>DecisionTreeClassifier(criterion=&#x27;entropy&#x27;, max_depth=10, min_samples_leaf=10,\n",
       "                       random_state=753, splitter=&#x27;random&#x27;)</pre><b>In a Jupyter environment, please rerun this cell to show the HTML representation or trust the notebook. <br />On GitHub, the HTML representation is unable to render, please try loading this page with nbviewer.org.</b></div><div class=\"sk-container\" hidden><div class=\"sk-item\"><div class=\"sk-estimator sk-toggleable\"><input class=\"sk-toggleable__control sk-hidden--visually\" id=\"sk-estimator-id-8\" type=\"checkbox\" checked><label for=\"sk-estimator-id-8\" class=\"sk-toggleable__label sk-toggleable__label-arrow\">DecisionTreeClassifier</label><div class=\"sk-toggleable__content\"><pre>DecisionTreeClassifier(criterion=&#x27;entropy&#x27;, max_depth=10, min_samples_leaf=10,\n",
       "                       random_state=753, splitter=&#x27;random&#x27;)</pre></div></div></div></div></div>"
      ],
      "text/plain": [
       "DecisionTreeClassifier(criterion='entropy', max_depth=10, min_samples_leaf=10,\n",
       "                       random_state=753, splitter='random')"
      ]
     },
     "execution_count": 144,
     "metadata": {},
     "output_type": "execute_result"
    }
   ],
   "source": [
    "# создадим модель с заданными гиперпараметрами\n",
    "dtc_model = DecisionTreeClassifier(criterion=\"entropy\",\n",
    "                               splitter=\"random\",\n",
    "                               max_depth=10,\n",
    "                               min_samples_split=2,\n",
    "                               min_samples_leaf=10,\n",
    "                               random_state=random_state)\n",
    "\n",
    "# обучим модель на тренировочной выборке\n",
    "dtc_model.fit(features_train_upsampled, target_train_upsampled)"
   ]
  },
  {
   "cell_type": "code",
   "execution_count": 145,
   "metadata": {},
   "outputs": [
    {
     "name": "stdout",
     "output_type": "stream",
     "text": [
      "CPU times: user 1.45 ms, sys: 2.2 ms, total: 3.65 ms\n",
      "Wall time: 2.51 ms\n"
     ]
    }
   ],
   "source": [
    "%%time\n",
    "\n",
    "# время работы модели в миллисекундах\n",
    "predictions_valid = dtc_model.predict(features_valid)"
   ]
  },
  {
   "cell_type": "markdown",
   "metadata": {},
   "source": [
    "Лучший результат модели на основе \"решающего дерева\", на валидационной выборке:\n",
    " - метрика F1-мера: **0.5907172995780592**;\n",
    " - при гиперпараметрах модели: \n",
    "     * `criterion` - **entropy**; \n",
    "     * `splitter` - **random**;\n",
    "     * `max_depth` -  **10**;\n",
    "     * `min_samples_split` - **2**;\n",
    "     * `min_samples_leaf` - **10**. \n",
    "     \n",
    "Время работы лучшей модели на основе \"решающего дерева\": `3` миллисекунд."
   ]
  },
  {
   "cell_type": "markdown",
   "metadata": {},
   "source": [
    "**57. Модель на основе \"случайного леса\".**"
   ]
  },
  {
   "cell_type": "code",
   "execution_count": 146,
   "metadata": {},
   "outputs": [
    {
     "data": {
      "text/plain": [
       "'\\nn_estimators_range = 41\\nn_estimators_step = 1\\nmax_depth_range = 21\\nmin_samples_split_range = 11\\nmin_samples_leaf_range = 11\\n\\nrandom_forest_with_output(features_train_upsampled,\\n                          target_train_upsampled,\\n                          features_valid,\\n                          target_valid,\\n                          n_estimators_range=n_estimators_range,\\n                          n_estimators_step=n_estimators_step,\\n                          max_depth_range=max_depth_range,\\n                          min_samples_split_range=min_samples_split_range,\\n                          min_samples_leaf_range=min_samples_leaf_range,\\n                          random_state=random_state)\\n'"
      ]
     },
     "execution_count": 146,
     "metadata": {},
     "output_type": "execute_result"
    }
   ],
   "source": [
    "# найдем максимально эффективные гиперпараметры модели\n",
    "'''\n",
    "n_estimators_range = 41\n",
    "n_estimators_step = 1\n",
    "max_depth_range = 21\n",
    "min_samples_split_range = 11\n",
    "min_samples_leaf_range = 11\n",
    "\n",
    "random_forest_with_output(features_train_upsampled,\n",
    "                          target_train_upsampled,\n",
    "                          features_valid,\n",
    "                          target_valid,\n",
    "                          n_estimators_range=n_estimators_range,\n",
    "                          n_estimators_step=n_estimators_step,\n",
    "                          max_depth_range=max_depth_range,\n",
    "                          min_samples_split_range=min_samples_split_range,\n",
    "                          min_samples_leaf_range=min_samples_leaf_range,\n",
    "                          random_state=random_state)\n",
    "'''"
   ]
  },
  {
   "cell_type": "code",
   "execution_count": 147,
   "metadata": {},
   "outputs": [
    {
     "data": {
      "text/html": [
       "<style>#sk-container-id-9 {color: black;background-color: white;}#sk-container-id-9 pre{padding: 0;}#sk-container-id-9 div.sk-toggleable {background-color: white;}#sk-container-id-9 label.sk-toggleable__label {cursor: pointer;display: block;width: 100%;margin-bottom: 0;padding: 0.3em;box-sizing: border-box;text-align: center;}#sk-container-id-9 label.sk-toggleable__label-arrow:before {content: \"▸\";float: left;margin-right: 0.25em;color: #696969;}#sk-container-id-9 label.sk-toggleable__label-arrow:hover:before {color: black;}#sk-container-id-9 div.sk-estimator:hover label.sk-toggleable__label-arrow:before {color: black;}#sk-container-id-9 div.sk-toggleable__content {max-height: 0;max-width: 0;overflow: hidden;text-align: left;background-color: #f0f8ff;}#sk-container-id-9 div.sk-toggleable__content pre {margin: 0.2em;color: black;border-radius: 0.25em;background-color: #f0f8ff;}#sk-container-id-9 input.sk-toggleable__control:checked~div.sk-toggleable__content {max-height: 200px;max-width: 100%;overflow: auto;}#sk-container-id-9 input.sk-toggleable__control:checked~label.sk-toggleable__label-arrow:before {content: \"▾\";}#sk-container-id-9 div.sk-estimator input.sk-toggleable__control:checked~label.sk-toggleable__label {background-color: #d4ebff;}#sk-container-id-9 div.sk-label input.sk-toggleable__control:checked~label.sk-toggleable__label {background-color: #d4ebff;}#sk-container-id-9 input.sk-hidden--visually {border: 0;clip: rect(1px 1px 1px 1px);clip: rect(1px, 1px, 1px, 1px);height: 1px;margin: -1px;overflow: hidden;padding: 0;position: absolute;width: 1px;}#sk-container-id-9 div.sk-estimator {font-family: monospace;background-color: #f0f8ff;border: 1px dotted black;border-radius: 0.25em;box-sizing: border-box;margin-bottom: 0.5em;}#sk-container-id-9 div.sk-estimator:hover {background-color: #d4ebff;}#sk-container-id-9 div.sk-parallel-item::after {content: \"\";width: 100%;border-bottom: 1px solid gray;flex-grow: 1;}#sk-container-id-9 div.sk-label:hover label.sk-toggleable__label {background-color: #d4ebff;}#sk-container-id-9 div.sk-serial::before {content: \"\";position: absolute;border-left: 1px solid gray;box-sizing: border-box;top: 0;bottom: 0;left: 50%;z-index: 0;}#sk-container-id-9 div.sk-serial {display: flex;flex-direction: column;align-items: center;background-color: white;padding-right: 0.2em;padding-left: 0.2em;position: relative;}#sk-container-id-9 div.sk-item {position: relative;z-index: 1;}#sk-container-id-9 div.sk-parallel {display: flex;align-items: stretch;justify-content: center;background-color: white;position: relative;}#sk-container-id-9 div.sk-item::before, #sk-container-id-9 div.sk-parallel-item::before {content: \"\";position: absolute;border-left: 1px solid gray;box-sizing: border-box;top: 0;bottom: 0;left: 50%;z-index: -1;}#sk-container-id-9 div.sk-parallel-item {display: flex;flex-direction: column;z-index: 1;position: relative;background-color: white;}#sk-container-id-9 div.sk-parallel-item:first-child::after {align-self: flex-end;width: 50%;}#sk-container-id-9 div.sk-parallel-item:last-child::after {align-self: flex-start;width: 50%;}#sk-container-id-9 div.sk-parallel-item:only-child::after {width: 0;}#sk-container-id-9 div.sk-dashed-wrapped {border: 1px dashed gray;margin: 0 0.4em 0.5em 0.4em;box-sizing: border-box;padding-bottom: 0.4em;background-color: white;}#sk-container-id-9 div.sk-label label {font-family: monospace;font-weight: bold;display: inline-block;line-height: 1.2em;}#sk-container-id-9 div.sk-label-container {text-align: center;}#sk-container-id-9 div.sk-container {/* jupyter's `normalize.less` sets `[hidden] { display: none; }` but bootstrap.min.css set `[hidden] { display: none !important; }` so we also need the `!important` here to be able to override the default hidden behavior on the sphinx rendered scikit-learn.org. See: https://github.com/scikit-learn/scikit-learn/issues/21755 */display: inline-block !important;position: relative;}#sk-container-id-9 div.sk-text-repr-fallback {display: none;}</style><div id=\"sk-container-id-9\" class=\"sk-top-container\"><div class=\"sk-text-repr-fallback\"><pre>RandomForestClassifier(max_depth=17, min_samples_split=10, n_estimators=15,\n",
       "                       n_jobs=-1, random_state=753)</pre><b>In a Jupyter environment, please rerun this cell to show the HTML representation or trust the notebook. <br />On GitHub, the HTML representation is unable to render, please try loading this page with nbviewer.org.</b></div><div class=\"sk-container\" hidden><div class=\"sk-item\"><div class=\"sk-estimator sk-toggleable\"><input class=\"sk-toggleable__control sk-hidden--visually\" id=\"sk-estimator-id-9\" type=\"checkbox\" checked><label for=\"sk-estimator-id-9\" class=\"sk-toggleable__label sk-toggleable__label-arrow\">RandomForestClassifier</label><div class=\"sk-toggleable__content\"><pre>RandomForestClassifier(max_depth=17, min_samples_split=10, n_estimators=15,\n",
       "                       n_jobs=-1, random_state=753)</pre></div></div></div></div></div>"
      ],
      "text/plain": [
       "RandomForestClassifier(max_depth=17, min_samples_split=10, n_estimators=15,\n",
       "                       n_jobs=-1, random_state=753)"
      ]
     },
     "execution_count": 147,
     "metadata": {},
     "output_type": "execute_result"
    }
   ],
   "source": [
    "# создадим модель с заданными гиперпараметрами\n",
    "rfc_model = RandomForestClassifier(n_estimators=15,\n",
    "                                   criterion=\"gini\",\n",
    "                                   max_depth=17,\n",
    "                                   min_samples_split=10,\n",
    "                                   min_samples_leaf=1,\n",
    "                                   n_jobs=-1,\n",
    "                                   random_state=random_state)\n",
    "\n",
    "# обучим модель на тренировочной выборке\n",
    "rfc_model.fit(features_train_upsampled, target_train_upsampled)"
   ]
  },
  {
   "cell_type": "code",
   "execution_count": 148,
   "metadata": {},
   "outputs": [
    {
     "name": "stdout",
     "output_type": "stream",
     "text": [
      "CPU times: user 12.7 ms, sys: 187 µs, total: 12.9 ms\n",
      "Wall time: 11.4 ms\n"
     ]
    }
   ],
   "source": [
    "%%time\n",
    "\n",
    "# время работы модели в миллисекундах\n",
    "predictions_valid = rfc_model.predict(features_valid) "
   ]
  },
  {
   "cell_type": "markdown",
   "metadata": {},
   "source": [
    "Лучший результат модели на основе \"случайного леса\", на валидационной выборке:\n",
    " - метрика F1-мера: **0.6509316770186335**;\n",
    " - при гиперпараметрах модели: \n",
    "     * `n_estimators` - **15**;\n",
    "     * `criterion` - **gini**;\n",
    "     * `max_depth` -  **17**;\n",
    "     * `min_samples_split` - **10**;\n",
    "     * `min_samples_leaf` - **1**.\n",
    "     \n",
    "Время работы лучшей модели на основе \"случайного леса\": `10.4` миллисекунд."
   ]
  },
  {
   "cell_type": "markdown",
   "metadata": {},
   "source": [
    "**58. Модель на основе \"логистической регрессии\".**"
   ]
  },
  {
   "cell_type": "code",
   "execution_count": 149,
   "metadata": {},
   "outputs": [
    {
     "data": {
      "text/plain": [
       "'\\nmax_iter_range = 120\\nmax_iter_step = 1\\n\\nlogistic_regression_with_output(features_train_upsampled,\\n                                target_train_upsampled,\\n                                features_valid,\\n                                target_valid,\\n                                random_state=random_state,\\n                                max_iter_range=max_iter_range,\\n                                max_iter_step=max_iter_step)\\n'"
      ]
     },
     "execution_count": 149,
     "metadata": {},
     "output_type": "execute_result"
    }
   ],
   "source": [
    "# найдем максимально эффективные гиперпараметры модели\n",
    "'''\n",
    "max_iter_range = 120\n",
    "max_iter_step = 1\n",
    "\n",
    "logistic_regression_with_output(features_train_upsampled,\n",
    "                                target_train_upsampled,\n",
    "                                features_valid,\n",
    "                                target_valid,\n",
    "                                random_state=random_state,\n",
    "                                max_iter_range=max_iter_range,\n",
    "                                max_iter_step=max_iter_step)\n",
    "'''"
   ]
  },
  {
   "cell_type": "code",
   "execution_count": 150,
   "metadata": {},
   "outputs": [
    {
     "name": "stderr",
     "output_type": "stream",
     "text": [
      "/opt/conda/lib/python3.9/site-packages/sklearn/linear_model/_sag.py:350: ConvergenceWarning: The max_iter was reached which means the coef_ did not converge\n",
      "  warnings.warn(\n"
     ]
    },
    {
     "data": {
      "text/html": [
       "<style>#sk-container-id-10 {color: black;background-color: white;}#sk-container-id-10 pre{padding: 0;}#sk-container-id-10 div.sk-toggleable {background-color: white;}#sk-container-id-10 label.sk-toggleable__label {cursor: pointer;display: block;width: 100%;margin-bottom: 0;padding: 0.3em;box-sizing: border-box;text-align: center;}#sk-container-id-10 label.sk-toggleable__label-arrow:before {content: \"▸\";float: left;margin-right: 0.25em;color: #696969;}#sk-container-id-10 label.sk-toggleable__label-arrow:hover:before {color: black;}#sk-container-id-10 div.sk-estimator:hover label.sk-toggleable__label-arrow:before {color: black;}#sk-container-id-10 div.sk-toggleable__content {max-height: 0;max-width: 0;overflow: hidden;text-align: left;background-color: #f0f8ff;}#sk-container-id-10 div.sk-toggleable__content pre {margin: 0.2em;color: black;border-radius: 0.25em;background-color: #f0f8ff;}#sk-container-id-10 input.sk-toggleable__control:checked~div.sk-toggleable__content {max-height: 200px;max-width: 100%;overflow: auto;}#sk-container-id-10 input.sk-toggleable__control:checked~label.sk-toggleable__label-arrow:before {content: \"▾\";}#sk-container-id-10 div.sk-estimator input.sk-toggleable__control:checked~label.sk-toggleable__label {background-color: #d4ebff;}#sk-container-id-10 div.sk-label input.sk-toggleable__control:checked~label.sk-toggleable__label {background-color: #d4ebff;}#sk-container-id-10 input.sk-hidden--visually {border: 0;clip: rect(1px 1px 1px 1px);clip: rect(1px, 1px, 1px, 1px);height: 1px;margin: -1px;overflow: hidden;padding: 0;position: absolute;width: 1px;}#sk-container-id-10 div.sk-estimator {font-family: monospace;background-color: #f0f8ff;border: 1px dotted black;border-radius: 0.25em;box-sizing: border-box;margin-bottom: 0.5em;}#sk-container-id-10 div.sk-estimator:hover {background-color: #d4ebff;}#sk-container-id-10 div.sk-parallel-item::after {content: \"\";width: 100%;border-bottom: 1px solid gray;flex-grow: 1;}#sk-container-id-10 div.sk-label:hover label.sk-toggleable__label {background-color: #d4ebff;}#sk-container-id-10 div.sk-serial::before {content: \"\";position: absolute;border-left: 1px solid gray;box-sizing: border-box;top: 0;bottom: 0;left: 50%;z-index: 0;}#sk-container-id-10 div.sk-serial {display: flex;flex-direction: column;align-items: center;background-color: white;padding-right: 0.2em;padding-left: 0.2em;position: relative;}#sk-container-id-10 div.sk-item {position: relative;z-index: 1;}#sk-container-id-10 div.sk-parallel {display: flex;align-items: stretch;justify-content: center;background-color: white;position: relative;}#sk-container-id-10 div.sk-item::before, #sk-container-id-10 div.sk-parallel-item::before {content: \"\";position: absolute;border-left: 1px solid gray;box-sizing: border-box;top: 0;bottom: 0;left: 50%;z-index: -1;}#sk-container-id-10 div.sk-parallel-item {display: flex;flex-direction: column;z-index: 1;position: relative;background-color: white;}#sk-container-id-10 div.sk-parallel-item:first-child::after {align-self: flex-end;width: 50%;}#sk-container-id-10 div.sk-parallel-item:last-child::after {align-self: flex-start;width: 50%;}#sk-container-id-10 div.sk-parallel-item:only-child::after {width: 0;}#sk-container-id-10 div.sk-dashed-wrapped {border: 1px dashed gray;margin: 0 0.4em 0.5em 0.4em;box-sizing: border-box;padding-bottom: 0.4em;background-color: white;}#sk-container-id-10 div.sk-label label {font-family: monospace;font-weight: bold;display: inline-block;line-height: 1.2em;}#sk-container-id-10 div.sk-label-container {text-align: center;}#sk-container-id-10 div.sk-container {/* jupyter's `normalize.less` sets `[hidden] { display: none; }` but bootstrap.min.css set `[hidden] { display: none !important; }` so we also need the `!important` here to be able to override the default hidden behavior on the sphinx rendered scikit-learn.org. See: https://github.com/scikit-learn/scikit-learn/issues/21755 */display: inline-block !important;position: relative;}#sk-container-id-10 div.sk-text-repr-fallback {display: none;}</style><div id=\"sk-container-id-10\" class=\"sk-top-container\"><div class=\"sk-text-repr-fallback\"><pre>LogisticRegression(max_iter=13, n_jobs=-1, random_state=753, solver=&#x27;sag&#x27;)</pre><b>In a Jupyter environment, please rerun this cell to show the HTML representation or trust the notebook. <br />On GitHub, the HTML representation is unable to render, please try loading this page with nbviewer.org.</b></div><div class=\"sk-container\" hidden><div class=\"sk-item\"><div class=\"sk-estimator sk-toggleable\"><input class=\"sk-toggleable__control sk-hidden--visually\" id=\"sk-estimator-id-10\" type=\"checkbox\" checked><label for=\"sk-estimator-id-10\" class=\"sk-toggleable__label sk-toggleable__label-arrow\">LogisticRegression</label><div class=\"sk-toggleable__content\"><pre>LogisticRegression(max_iter=13, n_jobs=-1, random_state=753, solver=&#x27;sag&#x27;)</pre></div></div></div></div></div>"
      ],
      "text/plain": [
       "LogisticRegression(max_iter=13, n_jobs=-1, random_state=753, solver='sag')"
      ]
     },
     "execution_count": 150,
     "metadata": {},
     "output_type": "execute_result"
    }
   ],
   "source": [
    "# создадим модель с заданными гиперпараметрами\n",
    "lr_model = LogisticRegression(random_state=random_state,\n",
    "                              solver=\"sag\",\n",
    "                              max_iter=13,\n",
    "                              n_jobs=-1) \n",
    "    \n",
    "# обучим модель на тренировочной выборке\n",
    "lr_model.fit(features_train_upsampled, target_train_upsampled)"
   ]
  },
  {
   "cell_type": "code",
   "execution_count": 151,
   "metadata": {},
   "outputs": [
    {
     "name": "stdout",
     "output_type": "stream",
     "text": [
      "CPU times: user 4.09 ms, sys: 25 µs, total: 4.11 ms\n",
      "Wall time: 2.66 ms\n"
     ]
    }
   ],
   "source": [
    "%%time\n",
    "\n",
    "# время работы модели в миллисекундах\n",
    "predictions_valid = lr_model.predict(features_valid) "
   ]
  },
  {
   "cell_type": "markdown",
   "metadata": {},
   "source": [
    "Лучший результат модели на основе \"логистической регрессии\", на валидационной выборке:\n",
    " - метрика F1-мера: **0.47119518486672396**;\n",
    " - при гиперпараметрах модели: \n",
    "     * `solver` - **sag**;\n",
    "     * `max_iter` - **13**.\n",
    "     \n",
    "Время работы лучшей модели на основе \"логистической регрессии\": `5.09` миллисекунд."
   ]
  },
  {
   "cell_type": "markdown",
   "metadata": {},
   "source": [
    "**59. Проверим частоту классов в предсказаниях каждой модели, на валидационной выборке.**"
   ]
  },
  {
   "cell_type": "code",
   "execution_count": 152,
   "metadata": {},
   "outputs": [
    {
     "data": {
      "text/plain": [
       "False    0.73\n",
       "True     0.27\n",
       "Name: proportion, dtype: float64"
      ]
     },
     "execution_count": 152,
     "metadata": {},
     "output_type": "execute_result"
    }
   ],
   "source": [
    "# \"решающее дерево\"\n",
    "class_frequency = pd.Series(dtc_model.predict(features_valid)).value_counts(normalize=True)\n",
    "class_frequency"
   ]
  },
  {
   "cell_type": "code",
   "execution_count": 153,
   "metadata": {},
   "outputs": [
    {
     "data": {
      "image/png": "[encoded data removed]",
      "text/plain": [
       "<Figure size 432x288 with 1 Axes>"
      ]
     },
     "metadata": {
      "needs_background": "light"
     },
     "output_type": "display_data"
    }
   ],
   "source": [
    "class_frequency.plot(kind='bar');"
   ]
  },
  {
   "cell_type": "code",
   "execution_count": 154,
   "metadata": {},
   "outputs": [
    {
     "data": {
      "text/plain": [
       "False    0.8015\n",
       "True     0.1985\n",
       "Name: proportion, dtype: float64"
      ]
     },
     "execution_count": 154,
     "metadata": {},
     "output_type": "execute_result"
    }
   ],
   "source": [
    "# \"случайный лес\"\n",
    "class_frequency = pd.Series(rfc_model.predict(features_valid)).value_counts(normalize=True)\n",
    "class_frequency"
   ]
  },
  {
   "cell_type": "code",
   "execution_count": 155,
   "metadata": {},
   "outputs": [
    {
     "data": {
      "image/png": "[encoded data removed]",
      "text/plain": [
       "<Figure size 432x288 with 1 Axes>"
      ]
     },
     "metadata": {
      "needs_background": "light"
     },
     "output_type": "display_data"
    }
   ],
   "source": [
    "class_frequency.plot(kind='bar');"
   ]
  },
  {
   "cell_type": "code",
   "execution_count": 156,
   "metadata": {},
   "outputs": [
    {
     "data": {
      "text/plain": [
       "False    0.6225\n",
       "True     0.3775\n",
       "Name: proportion, dtype: float64"
      ]
     },
     "execution_count": 156,
     "metadata": {},
     "output_type": "execute_result"
    }
   ],
   "source": [
    "# \"логистическая регрессия\"\n",
    "class_frequency = pd.Series(lr_model.predict(features_valid)).value_counts(normalize=True)\n",
    "class_frequency"
   ]
  },
  {
   "cell_type": "code",
   "execution_count": 157,
   "metadata": {},
   "outputs": [
    {
     "data": {
      "image/png": "[encoded data removed]",
      "text/plain": [
       "<Figure size 432x288 with 1 Axes>"
      ]
     },
     "metadata": {
      "needs_background": "light"
     },
     "output_type": "display_data"
    }
   ],
   "source": [
    "class_frequency.plot(kind='bar');"
   ]
  },
  {
   "cell_type": "markdown",
   "metadata": {},
   "source": [
    "**Вывод**\n",
    "\n",
    "Соотношение классов, в предсказаниях модели, на валидационной выборке, существенно отличается от соотношения классов в выборках с целевым признаком (шаг 55). Хуже всего соотношение у второй модели: `0` - **80.1%** и `1` - **19.8%**. У первой модели: `0` - **73%** и `1` - **27%**. Самое лучшее у третьей модели: `0` - **62.2%** и `1` - **37.7%**."
   ]
  },
  {
   "cell_type": "markdown",
   "metadata": {},
   "source": [
    "**Выводы**\n",
    "\n",
    "Метрика качества модели F1-мера, на валидационной выборке, лучших моделей и время работы в миллисекундах:\n",
    " - решающее дерево: `0.5907172995780592` (`3` миллисекунд);\n",
    " - случайный лес: `0.6509316770186335` (`10.4` миллисекунд);\n",
    " - логистическая регрессия: `0.47119518486672396` (`5.09` миллисекунд).\n",
    " \n",
    "Лучшая модель, для техники борьбы с дисбалансом классов - увеличение выборки (upsampling), по признаку качества `F1-мера`: `RandomForestClassifier` (\"случайный лес\")."
   ]
  },
  {
   "cell_type": "markdown",
   "metadata": {},
   "source": [
    "#### Уменьшение выборки\n",
    "\n",
    "Такая техника называется **downsampling**. Преобразование проходит в несколько этапов:\n",
    " - разделить обучающую выборку на объекты по классам;\n",
    " - определить тот класс, который содержит больше объектов. Назовём его большим классом;\n",
    " - случайным образом отбросить часть из объектов большего класса;\n",
    " - с учётом полученных данных создать новую обучающую выборку;\n",
    " - перемешать данные."
   ]
  },
  {
   "cell_type": "code",
   "execution_count": 158,
   "metadata": {},
   "outputs": [],
   "source": [
    "# определим функцию для применения техники downsampling к выборкам: признаки и целевой признак\n",
    "def downsample(features, target, fraction):\n",
    "    features_zeros = features[target == 0]\n",
    "    features_ones = features[target == 1]\n",
    "    \n",
    "    target_zeros = target[target == 0]\n",
    "    target_ones = target[target == 1]\n",
    "    \n",
    "    features_downsampled = pd.concat([features_zeros.sample(frac=fraction, random_state=12345)] \n",
    "                                     + [features_ones])\n",
    "    target_downsampled = pd.concat([target_zeros.sample(frac=fraction, random_state=12345)] \n",
    "                                   + [target_ones])\n",
    "    \n",
    "    features_downsampled, target_downsampled = shuffle(features_downsampled,\n",
    "                                                       target_downsampled,\n",
    "                                                       random_state=12345)\n",
    "    \n",
    "    return features_downsampled, target_downsampled"
   ]
  },
  {
   "cell_type": "markdown",
   "metadata": {},
   "source": [
    "**60. Уменьшим обучающую выборку.**"
   ]
  },
  {
   "cell_type": "code",
   "execution_count": 159,
   "metadata": {},
   "outputs": [],
   "source": [
    "#  уменьшим обучающую выборку\n",
    "features_train_downsampled, target_train_downsampled = downsample(features_train, target_train, 0.255)"
   ]
  },
  {
   "cell_type": "markdown",
   "metadata": {},
   "source": [
    "**61. Проверим сбалансированность классов обучающей выборки целевого признака.**"
   ]
  },
  {
   "cell_type": "code",
   "execution_count": 160,
   "metadata": {},
   "outputs": [
    {
     "data": {
      "text/plain": [
       "exited\n",
       "True     0.50082\n",
       "False    0.49918\n",
       "Name: proportion, dtype: float64"
      ]
     },
     "execution_count": 160,
     "metadata": {},
     "output_type": "execute_result"
    }
   ],
   "source": [
    "class_frequency = target_train_downsampled.value_counts(normalize=True)\n",
    "class_frequency"
   ]
  },
  {
   "cell_type": "code",
   "execution_count": 161,
   "metadata": {},
   "outputs": [
    {
     "data": {
      "image/png": "[encoded data removed]",
      "text/plain": [
       "<Figure size 432x288 with 1 Axes>"
      ]
     },
     "metadata": {
      "needs_background": "light"
     },
     "output_type": "display_data"
    }
   ],
   "source": [
    "# построим гистаграмму сбалансированности классов в обучающей выборке целевого признака\n",
    "class_frequency.plot(kind='bar');"
   ]
  },
  {
   "cell_type": "markdown",
   "metadata": {},
   "source": [
    "**62. Модель на основе \"решающего дерева\".**"
   ]
  },
  {
   "cell_type": "code",
   "execution_count": 162,
   "metadata": {},
   "outputs": [
    {
     "data": {
      "text/plain": [
       "'\\nmax_depth_range = 21\\nmin_samples_split_range = 11\\nmin_samples_leaf_range = 11\\n\\ndecision_tree_with_output(features_train_downsampled,\\n                          target_train_downsampled,\\n                          features_valid,\\n                          target_valid,\\n                          max_depth_range=max_depth_range,\\n                          min_samples_split_range=min_samples_split_range,\\n                          min_samples_leaf_range=min_samples_leaf_range,  \\n                          random_state=random_state)\\n'"
      ]
     },
     "execution_count": 162,
     "metadata": {},
     "output_type": "execute_result"
    }
   ],
   "source": [
    "# найдем максимально эффективные гиперпараметры модели\n",
    "'''\n",
    "max_depth_range = 21\n",
    "min_samples_split_range = 11\n",
    "min_samples_leaf_range = 11\n",
    "\n",
    "decision_tree_with_output(features_train_downsampled,\n",
    "                          target_train_downsampled,\n",
    "                          features_valid,\n",
    "                          target_valid,\n",
    "                          max_depth_range=max_depth_range,\n",
    "                          min_samples_split_range=min_samples_split_range,\n",
    "                          min_samples_leaf_range=min_samples_leaf_range,  \n",
    "                          random_state=random_state)\n",
    "'''"
   ]
  },
  {
   "cell_type": "code",
   "execution_count": 163,
   "metadata": {},
   "outputs": [
    {
     "data": {
      "text/html": [
       "<style>#sk-container-id-11 {color: black;background-color: white;}#sk-container-id-11 pre{padding: 0;}#sk-container-id-11 div.sk-toggleable {background-color: white;}#sk-container-id-11 label.sk-toggleable__label {cursor: pointer;display: block;width: 100%;margin-bottom: 0;padding: 0.3em;box-sizing: border-box;text-align: center;}#sk-container-id-11 label.sk-toggleable__label-arrow:before {content: \"▸\";float: left;margin-right: 0.25em;color: #696969;}#sk-container-id-11 label.sk-toggleable__label-arrow:hover:before {color: black;}#sk-container-id-11 div.sk-estimator:hover label.sk-toggleable__label-arrow:before {color: black;}#sk-container-id-11 div.sk-toggleable__content {max-height: 0;max-width: 0;overflow: hidden;text-align: left;background-color: #f0f8ff;}#sk-container-id-11 div.sk-toggleable__content pre {margin: 0.2em;color: black;border-radius: 0.25em;background-color: #f0f8ff;}#sk-container-id-11 input.sk-toggleable__control:checked~div.sk-toggleable__content {max-height: 200px;max-width: 100%;overflow: auto;}#sk-container-id-11 input.sk-toggleable__control:checked~label.sk-toggleable__label-arrow:before {content: \"▾\";}#sk-container-id-11 div.sk-estimator input.sk-toggleable__control:checked~label.sk-toggleable__label {background-color: #d4ebff;}#sk-container-id-11 div.sk-label input.sk-toggleable__control:checked~label.sk-toggleable__label {background-color: #d4ebff;}#sk-container-id-11 input.sk-hidden--visually {border: 0;clip: rect(1px 1px 1px 1px);clip: rect(1px, 1px, 1px, 1px);height: 1px;margin: -1px;overflow: hidden;padding: 0;position: absolute;width: 1px;}#sk-container-id-11 div.sk-estimator {font-family: monospace;background-color: #f0f8ff;border: 1px dotted black;border-radius: 0.25em;box-sizing: border-box;margin-bottom: 0.5em;}#sk-container-id-11 div.sk-estimator:hover {background-color: #d4ebff;}#sk-container-id-11 div.sk-parallel-item::after {content: \"\";width: 100%;border-bottom: 1px solid gray;flex-grow: 1;}#sk-container-id-11 div.sk-label:hover label.sk-toggleable__label {background-color: #d4ebff;}#sk-container-id-11 div.sk-serial::before {content: \"\";position: absolute;border-left: 1px solid gray;box-sizing: border-box;top: 0;bottom: 0;left: 50%;z-index: 0;}#sk-container-id-11 div.sk-serial {display: flex;flex-direction: column;align-items: center;background-color: white;padding-right: 0.2em;padding-left: 0.2em;position: relative;}#sk-container-id-11 div.sk-item {position: relative;z-index: 1;}#sk-container-id-11 div.sk-parallel {display: flex;align-items: stretch;justify-content: center;background-color: white;position: relative;}#sk-container-id-11 div.sk-item::before, #sk-container-id-11 div.sk-parallel-item::before {content: \"\";position: absolute;border-left: 1px solid gray;box-sizing: border-box;top: 0;bottom: 0;left: 50%;z-index: -1;}#sk-container-id-11 div.sk-parallel-item {display: flex;flex-direction: column;z-index: 1;position: relative;background-color: white;}#sk-container-id-11 div.sk-parallel-item:first-child::after {align-self: flex-end;width: 50%;}#sk-container-id-11 div.sk-parallel-item:last-child::after {align-self: flex-start;width: 50%;}#sk-container-id-11 div.sk-parallel-item:only-child::after {width: 0;}#sk-container-id-11 div.sk-dashed-wrapped {border: 1px dashed gray;margin: 0 0.4em 0.5em 0.4em;box-sizing: border-box;padding-bottom: 0.4em;background-color: white;}#sk-container-id-11 div.sk-label label {font-family: monospace;font-weight: bold;display: inline-block;line-height: 1.2em;}#sk-container-id-11 div.sk-label-container {text-align: center;}#sk-container-id-11 div.sk-container {/* jupyter's `normalize.less` sets `[hidden] { display: none; }` but bootstrap.min.css set `[hidden] { display: none !important; }` so we also need the `!important` here to be able to override the default hidden behavior on the sphinx rendered scikit-learn.org. See: https://github.com/scikit-learn/scikit-learn/issues/21755 */display: inline-block !important;position: relative;}#sk-container-id-11 div.sk-text-repr-fallback {display: none;}</style><div id=\"sk-container-id-11\" class=\"sk-top-container\"><div class=\"sk-text-repr-fallback\"><pre>DecisionTreeClassifier(max_depth=8, min_samples_leaf=7, random_state=753,\n",
       "                       splitter=&#x27;random&#x27;)</pre><b>In a Jupyter environment, please rerun this cell to show the HTML representation or trust the notebook. <br />On GitHub, the HTML representation is unable to render, please try loading this page with nbviewer.org.</b></div><div class=\"sk-container\" hidden><div class=\"sk-item\"><div class=\"sk-estimator sk-toggleable\"><input class=\"sk-toggleable__control sk-hidden--visually\" id=\"sk-estimator-id-11\" type=\"checkbox\" checked><label for=\"sk-estimator-id-11\" class=\"sk-toggleable__label sk-toggleable__label-arrow\">DecisionTreeClassifier</label><div class=\"sk-toggleable__content\"><pre>DecisionTreeClassifier(max_depth=8, min_samples_leaf=7, random_state=753,\n",
       "                       splitter=&#x27;random&#x27;)</pre></div></div></div></div></div>"
      ],
      "text/plain": [
       "DecisionTreeClassifier(max_depth=8, min_samples_leaf=7, random_state=753,\n",
       "                       splitter='random')"
      ]
     },
     "execution_count": 163,
     "metadata": {},
     "output_type": "execute_result"
    }
   ],
   "source": [
    "# создадим модель с заданными гиперпараметрами\n",
    "dtc_model = DecisionTreeClassifier(criterion=\"gini\",\n",
    "                                   splitter=\"random\",\n",
    "                                   max_depth=8,\n",
    "                                   min_samples_split=2,\n",
    "                                   min_samples_leaf=7,\n",
    "                                   random_state=random_state)\n",
    "\n",
    "# обучим модель на тренировочной выборке\n",
    "dtc_model.fit(features_train_downsampled, target_train_downsampled)"
   ]
  },
  {
   "cell_type": "code",
   "execution_count": 164,
   "metadata": {},
   "outputs": [
    {
     "name": "stdout",
     "output_type": "stream",
     "text": [
      "CPU times: user 1.84 ms, sys: 531 µs, total: 2.37 ms\n",
      "Wall time: 2.14 ms\n"
     ]
    }
   ],
   "source": [
    "%%time\n",
    "\n",
    "# время работы модели в миллисекундах\n",
    "predictions_valid = dtc_model.predict(features_valid)"
   ]
  },
  {
   "cell_type": "markdown",
   "metadata": {},
   "source": [
    "Лучший результат модели на основе \"решающего дерева\", на валидационной выборке:\n",
    " - метрика F1-мера: **0.5956175298804781**;\n",
    " - при гиперпараметрах модели: \n",
    "     * `criterion` - **gini**;\n",
    "     * `splitter` - **random**;\n",
    "     * `max_depth` -  **8**;\n",
    "     * `min_samples_split` - **2**;\n",
    "     * `min_samples_leaf` - **7**.\n",
    "     \n",
    "Время работы лучшей модели на основе \"решающего дерева\": `1.81` миллисекунд."
   ]
  },
  {
   "cell_type": "markdown",
   "metadata": {},
   "source": [
    "**63. Модель на основе \"случайного леса\".**"
   ]
  },
  {
   "cell_type": "code",
   "execution_count": 165,
   "metadata": {},
   "outputs": [
    {
     "data": {
      "text/plain": [
       "'\\nn_estimators_range = 41\\nn_estimators_step = 1\\nmax_depth_range = 21\\nmin_samples_split_range = 11\\nmin_samples_leaf_range = 11\\n\\n\\nrandom_forest_with_output(features_train_downsampled,\\n                          target_train_downsampled,\\n                          features_valid,\\n                          target_valid,\\n                          n_estimators_range=n_estimators_range,\\n                          n_estimators_step=n_estimators_step,\\n                          max_depth_range=max_depth_range,\\n                          min_samples_split_range=min_samples_split_range,\\n                          min_samples_leaf_range=min_samples_leaf_range,\\n                          random_state=random_state)\\n'"
      ]
     },
     "execution_count": 165,
     "metadata": {},
     "output_type": "execute_result"
    }
   ],
   "source": [
    "# найдем максимально эффективные гиперпараметры модели\n",
    "'''\n",
    "n_estimators_range = 41\n",
    "n_estimators_step = 1\n",
    "max_depth_range = 21\n",
    "min_samples_split_range = 11\n",
    "min_samples_leaf_range = 11\n",
    "\n",
    "\n",
    "random_forest_with_output(features_train_downsampled,\n",
    "                          target_train_downsampled,\n",
    "                          features_valid,\n",
    "                          target_valid,\n",
    "                          n_estimators_range=n_estimators_range,\n",
    "                          n_estimators_step=n_estimators_step,\n",
    "                          max_depth_range=max_depth_range,\n",
    "                          min_samples_split_range=min_samples_split_range,\n",
    "                          min_samples_leaf_range=min_samples_leaf_range,\n",
    "                          random_state=random_state)\n",
    "'''"
   ]
  },
  {
   "cell_type": "code",
   "execution_count": 166,
   "metadata": {},
   "outputs": [
    {
     "data": {
      "text/html": [
       "<style>#sk-container-id-12 {color: black;background-color: white;}#sk-container-id-12 pre{padding: 0;}#sk-container-id-12 div.sk-toggleable {background-color: white;}#sk-container-id-12 label.sk-toggleable__label {cursor: pointer;display: block;width: 100%;margin-bottom: 0;padding: 0.3em;box-sizing: border-box;text-align: center;}#sk-container-id-12 label.sk-toggleable__label-arrow:before {content: \"▸\";float: left;margin-right: 0.25em;color: #696969;}#sk-container-id-12 label.sk-toggleable__label-arrow:hover:before {color: black;}#sk-container-id-12 div.sk-estimator:hover label.sk-toggleable__label-arrow:before {color: black;}#sk-container-id-12 div.sk-toggleable__content {max-height: 0;max-width: 0;overflow: hidden;text-align: left;background-color: #f0f8ff;}#sk-container-id-12 div.sk-toggleable__content pre {margin: 0.2em;color: black;border-radius: 0.25em;background-color: #f0f8ff;}#sk-container-id-12 input.sk-toggleable__control:checked~div.sk-toggleable__content {max-height: 200px;max-width: 100%;overflow: auto;}#sk-container-id-12 input.sk-toggleable__control:checked~label.sk-toggleable__label-arrow:before {content: \"▾\";}#sk-container-id-12 div.sk-estimator input.sk-toggleable__control:checked~label.sk-toggleable__label {background-color: #d4ebff;}#sk-container-id-12 div.sk-label input.sk-toggleable__control:checked~label.sk-toggleable__label {background-color: #d4ebff;}#sk-container-id-12 input.sk-hidden--visually {border: 0;clip: rect(1px 1px 1px 1px);clip: rect(1px, 1px, 1px, 1px);height: 1px;margin: -1px;overflow: hidden;padding: 0;position: absolute;width: 1px;}#sk-container-id-12 div.sk-estimator {font-family: monospace;background-color: #f0f8ff;border: 1px dotted black;border-radius: 0.25em;box-sizing: border-box;margin-bottom: 0.5em;}#sk-container-id-12 div.sk-estimator:hover {background-color: #d4ebff;}#sk-container-id-12 div.sk-parallel-item::after {content: \"\";width: 100%;border-bottom: 1px solid gray;flex-grow: 1;}#sk-container-id-12 div.sk-label:hover label.sk-toggleable__label {background-color: #d4ebff;}#sk-container-id-12 div.sk-serial::before {content: \"\";position: absolute;border-left: 1px solid gray;box-sizing: border-box;top: 0;bottom: 0;left: 50%;z-index: 0;}#sk-container-id-12 div.sk-serial {display: flex;flex-direction: column;align-items: center;background-color: white;padding-right: 0.2em;padding-left: 0.2em;position: relative;}#sk-container-id-12 div.sk-item {position: relative;z-index: 1;}#sk-container-id-12 div.sk-parallel {display: flex;align-items: stretch;justify-content: center;background-color: white;position: relative;}#sk-container-id-12 div.sk-item::before, #sk-container-id-12 div.sk-parallel-item::before {content: \"\";position: absolute;border-left: 1px solid gray;box-sizing: border-box;top: 0;bottom: 0;left: 50%;z-index: -1;}#sk-container-id-12 div.sk-parallel-item {display: flex;flex-direction: column;z-index: 1;position: relative;background-color: white;}#sk-container-id-12 div.sk-parallel-item:first-child::after {align-self: flex-end;width: 50%;}#sk-container-id-12 div.sk-parallel-item:last-child::after {align-self: flex-start;width: 50%;}#sk-container-id-12 div.sk-parallel-item:only-child::after {width: 0;}#sk-container-id-12 div.sk-dashed-wrapped {border: 1px dashed gray;margin: 0 0.4em 0.5em 0.4em;box-sizing: border-box;padding-bottom: 0.4em;background-color: white;}#sk-container-id-12 div.sk-label label {font-family: monospace;font-weight: bold;display: inline-block;line-height: 1.2em;}#sk-container-id-12 div.sk-label-container {text-align: center;}#sk-container-id-12 div.sk-container {/* jupyter's `normalize.less` sets `[hidden] { display: none; }` but bootstrap.min.css set `[hidden] { display: none !important; }` so we also need the `!important` here to be able to override the default hidden behavior on the sphinx rendered scikit-learn.org. See: https://github.com/scikit-learn/scikit-learn/issues/21755 */display: inline-block !important;position: relative;}#sk-container-id-12 div.sk-text-repr-fallback {display: none;}</style><div id=\"sk-container-id-12\" class=\"sk-top-container\"><div class=\"sk-text-repr-fallback\"><pre>RandomForestClassifier(criterion=&#x27;entropy&#x27;, max_depth=10, n_estimators=28,\n",
       "                       n_jobs=-1, random_state=753)</pre><b>In a Jupyter environment, please rerun this cell to show the HTML representation or trust the notebook. <br />On GitHub, the HTML representation is unable to render, please try loading this page with nbviewer.org.</b></div><div class=\"sk-container\" hidden><div class=\"sk-item\"><div class=\"sk-estimator sk-toggleable\"><input class=\"sk-toggleable__control sk-hidden--visually\" id=\"sk-estimator-id-12\" type=\"checkbox\" checked><label for=\"sk-estimator-id-12\" class=\"sk-toggleable__label sk-toggleable__label-arrow\">RandomForestClassifier</label><div class=\"sk-toggleable__content\"><pre>RandomForestClassifier(criterion=&#x27;entropy&#x27;, max_depth=10, n_estimators=28,\n",
       "                       n_jobs=-1, random_state=753)</pre></div></div></div></div></div>"
      ],
      "text/plain": [
       "RandomForestClassifier(criterion='entropy', max_depth=10, n_estimators=28,\n",
       "                       n_jobs=-1, random_state=753)"
      ]
     },
     "execution_count": 166,
     "metadata": {},
     "output_type": "execute_result"
    }
   ],
   "source": [
    "# создадим модель с заданными гиперпараметрами\n",
    "rfc_model = RandomForestClassifier(n_estimators=28,\n",
    "                                   criterion=\"entropy\",\n",
    "                                   max_depth=10,\n",
    "                                   min_samples_split=2,\n",
    "                                   min_samples_leaf=1,\n",
    "                                   n_jobs=-1,\n",
    "                                   random_state=random_state)\n",
    "\n",
    "# обучим модель на тренировочной выборке\n",
    "rfc_model.fit(features_train_downsampled, target_train_downsampled)"
   ]
  },
  {
   "cell_type": "code",
   "execution_count": 167,
   "metadata": {},
   "outputs": [
    {
     "name": "stdout",
     "output_type": "stream",
     "text": [
      "CPU times: user 18.2 ms, sys: 3.5 ms, total: 21.7 ms\n",
      "Wall time: 20 ms\n"
     ]
    }
   ],
   "source": [
    "%%time\n",
    "\n",
    "# время работы модели в миллисекундах\n",
    "predictions_valid = rfc_model.predict(features_valid)"
   ]
  },
  {
   "cell_type": "markdown",
   "metadata": {},
   "source": [
    "Лучший результат модели на основе \"случайного леса\", на валидационной выборке:\n",
    " - метрика F1-мера: **0.6125760649087222**;\n",
    " - при гиперпараметрах модели: \n",
    "     * `n_estimators` - **28**;\n",
    "     * `criterion` - **entropy**;\n",
    "     * `max_depth` -  **10**;\n",
    "     * `min_samples_split` - **2**;\n",
    "     * `min_samples_leaf` - **1**.\n",
    "     \n",
    "Время работы лучшей модели на основе \"случайного леса\": `16.9` миллисекунд."
   ]
  },
  {
   "cell_type": "markdown",
   "metadata": {},
   "source": [
    "**64. Модель на основе \"логистической регрессии\".**"
   ]
  },
  {
   "cell_type": "code",
   "execution_count": 168,
   "metadata": {},
   "outputs": [
    {
     "data": {
      "text/plain": [
       "'\\nmax_iter_range = 120\\nmax_iter_step = 1\\n\\nlogistic_regression_with_output(features_train_downsampled,\\n                                target_train_downsampled,\\n                                features_valid,\\n                                target_valid,\\n                                random_state=random_state,\\n                                max_iter_range=max_iter_range,\\n                                max_iter_step=max_iter_step)\\n'"
      ]
     },
     "execution_count": 168,
     "metadata": {},
     "output_type": "execute_result"
    }
   ],
   "source": [
    "# найдем максимально эффективные гиперпараметры модели\n",
    "'''\n",
    "max_iter_range = 120\n",
    "max_iter_step = 1\n",
    "\n",
    "logistic_regression_with_output(features_train_downsampled,\n",
    "                                target_train_downsampled,\n",
    "                                features_valid,\n",
    "                                target_valid,\n",
    "                                random_state=random_state,\n",
    "                                max_iter_range=max_iter_range,\n",
    "                                max_iter_step=max_iter_step)\n",
    "'''"
   ]
  },
  {
   "cell_type": "code",
   "execution_count": 169,
   "metadata": {},
   "outputs": [
    {
     "name": "stderr",
     "output_type": "stream",
     "text": [
      "/opt/conda/lib/python3.9/site-packages/sklearn/linear_model/_sag.py:350: ConvergenceWarning: The max_iter was reached which means the coef_ did not converge\n",
      "  warnings.warn(\n"
     ]
    },
    {
     "data": {
      "text/html": [
       "<style>#sk-container-id-13 {color: black;background-color: white;}#sk-container-id-13 pre{padding: 0;}#sk-container-id-13 div.sk-toggleable {background-color: white;}#sk-container-id-13 label.sk-toggleable__label {cursor: pointer;display: block;width: 100%;margin-bottom: 0;padding: 0.3em;box-sizing: border-box;text-align: center;}#sk-container-id-13 label.sk-toggleable__label-arrow:before {content: \"▸\";float: left;margin-right: 0.25em;color: #696969;}#sk-container-id-13 label.sk-toggleable__label-arrow:hover:before {color: black;}#sk-container-id-13 div.sk-estimator:hover label.sk-toggleable__label-arrow:before {color: black;}#sk-container-id-13 div.sk-toggleable__content {max-height: 0;max-width: 0;overflow: hidden;text-align: left;background-color: #f0f8ff;}#sk-container-id-13 div.sk-toggleable__content pre {margin: 0.2em;color: black;border-radius: 0.25em;background-color: #f0f8ff;}#sk-container-id-13 input.sk-toggleable__control:checked~div.sk-toggleable__content {max-height: 200px;max-width: 100%;overflow: auto;}#sk-container-id-13 input.sk-toggleable__control:checked~label.sk-toggleable__label-arrow:before {content: \"▾\";}#sk-container-id-13 div.sk-estimator input.sk-toggleable__control:checked~label.sk-toggleable__label {background-color: #d4ebff;}#sk-container-id-13 div.sk-label input.sk-toggleable__control:checked~label.sk-toggleable__label {background-color: #d4ebff;}#sk-container-id-13 input.sk-hidden--visually {border: 0;clip: rect(1px 1px 1px 1px);clip: rect(1px, 1px, 1px, 1px);height: 1px;margin: -1px;overflow: hidden;padding: 0;position: absolute;width: 1px;}#sk-container-id-13 div.sk-estimator {font-family: monospace;background-color: #f0f8ff;border: 1px dotted black;border-radius: 0.25em;box-sizing: border-box;margin-bottom: 0.5em;}#sk-container-id-13 div.sk-estimator:hover {background-color: #d4ebff;}#sk-container-id-13 div.sk-parallel-item::after {content: \"\";width: 100%;border-bottom: 1px solid gray;flex-grow: 1;}#sk-container-id-13 div.sk-label:hover label.sk-toggleable__label {background-color: #d4ebff;}#sk-container-id-13 div.sk-serial::before {content: \"\";position: absolute;border-left: 1px solid gray;box-sizing: border-box;top: 0;bottom: 0;left: 50%;z-index: 0;}#sk-container-id-13 div.sk-serial {display: flex;flex-direction: column;align-items: center;background-color: white;padding-right: 0.2em;padding-left: 0.2em;position: relative;}#sk-container-id-13 div.sk-item {position: relative;z-index: 1;}#sk-container-id-13 div.sk-parallel {display: flex;align-items: stretch;justify-content: center;background-color: white;position: relative;}#sk-container-id-13 div.sk-item::before, #sk-container-id-13 div.sk-parallel-item::before {content: \"\";position: absolute;border-left: 1px solid gray;box-sizing: border-box;top: 0;bottom: 0;left: 50%;z-index: -1;}#sk-container-id-13 div.sk-parallel-item {display: flex;flex-direction: column;z-index: 1;position: relative;background-color: white;}#sk-container-id-13 div.sk-parallel-item:first-child::after {align-self: flex-end;width: 50%;}#sk-container-id-13 div.sk-parallel-item:last-child::after {align-self: flex-start;width: 50%;}#sk-container-id-13 div.sk-parallel-item:only-child::after {width: 0;}#sk-container-id-13 div.sk-dashed-wrapped {border: 1px dashed gray;margin: 0 0.4em 0.5em 0.4em;box-sizing: border-box;padding-bottom: 0.4em;background-color: white;}#sk-container-id-13 div.sk-label label {font-family: monospace;font-weight: bold;display: inline-block;line-height: 1.2em;}#sk-container-id-13 div.sk-label-container {text-align: center;}#sk-container-id-13 div.sk-container {/* jupyter's `normalize.less` sets `[hidden] { display: none; }` but bootstrap.min.css set `[hidden] { display: none !important; }` so we also need the `!important` here to be able to override the default hidden behavior on the sphinx rendered scikit-learn.org. See: https://github.com/scikit-learn/scikit-learn/issues/21755 */display: inline-block !important;position: relative;}#sk-container-id-13 div.sk-text-repr-fallback {display: none;}</style><div id=\"sk-container-id-13\" class=\"sk-top-container\"><div class=\"sk-text-repr-fallback\"><pre>LogisticRegression(max_iter=12, n_jobs=-1, random_state=753, solver=&#x27;sag&#x27;)</pre><b>In a Jupyter environment, please rerun this cell to show the HTML representation or trust the notebook. <br />On GitHub, the HTML representation is unable to render, please try loading this page with nbviewer.org.</b></div><div class=\"sk-container\" hidden><div class=\"sk-item\"><div class=\"sk-estimator sk-toggleable\"><input class=\"sk-toggleable__control sk-hidden--visually\" id=\"sk-estimator-id-13\" type=\"checkbox\" checked><label for=\"sk-estimator-id-13\" class=\"sk-toggleable__label sk-toggleable__label-arrow\">LogisticRegression</label><div class=\"sk-toggleable__content\"><pre>LogisticRegression(max_iter=12, n_jobs=-1, random_state=753, solver=&#x27;sag&#x27;)</pre></div></div></div></div></div>"
      ],
      "text/plain": [
       "LogisticRegression(max_iter=12, n_jobs=-1, random_state=753, solver='sag')"
      ]
     },
     "execution_count": 169,
     "metadata": {},
     "output_type": "execute_result"
    }
   ],
   "source": [
    "# создадим модель с заданными гиперпараметрами\n",
    "lr_model = LogisticRegression(random_state=random_state,\n",
    "                              solver=\"sag\",\n",
    "                              max_iter=12,\n",
    "                              n_jobs=-1) \n",
    "    \n",
    "# обучим модель на тренировочной выборке\n",
    "lr_model.fit(features_train_downsampled, target_train_downsampled)"
   ]
  },
  {
   "cell_type": "code",
   "execution_count": 170,
   "metadata": {},
   "outputs": [
    {
     "name": "stdout",
     "output_type": "stream",
     "text": [
      "CPU times: user 3.89 ms, sys: 1.11 ms, total: 4.99 ms\n",
      "Wall time: 2.53 ms\n"
     ]
    }
   ],
   "source": [
    "%%time\n",
    "\n",
    "# время работы модели в миллисекундах\n",
    "predictions_valid = lr_model.predict(features_valid)"
   ]
  },
  {
   "cell_type": "markdown",
   "metadata": {},
   "source": [
    "Лучший результат модели на основе \"логистической регрессии\", на валидационной выборке:\n",
    " - метрика F1-мера: **0.46706586826347307**;\n",
    " - при гиперпараметрах модели: \n",
    "     * `solver` - **sag**;\n",
    "     * `max_iter` - **12**.\n",
    "     \n",
    "Время работы лучшей модели на основе \"логистической регрессии\": `7.68` миллисекунд."
   ]
  },
  {
   "cell_type": "markdown",
   "metadata": {},
   "source": [
    "**65. Проверим частоту классов в предсказаниях каждой модели, на валидационной выборке.**"
   ]
  },
  {
   "cell_type": "code",
   "execution_count": 171,
   "metadata": {},
   "outputs": [
    {
     "data": {
      "text/plain": [
       "False    0.702\n",
       "True     0.298\n",
       "Name: proportion, dtype: float64"
      ]
     },
     "execution_count": 171,
     "metadata": {},
     "output_type": "execute_result"
    }
   ],
   "source": [
    "# \"решающее дерево\"\n",
    "class_frequency = pd.Series(dtc_model.predict(features_valid)).value_counts(normalize=True)\n",
    "class_frequency"
   ]
  },
  {
   "cell_type": "code",
   "execution_count": 172,
   "metadata": {},
   "outputs": [
    {
     "data": {
      "image/png": "[encoded data removed]",
      "text/plain": [
       "<Figure size 432x288 with 1 Axes>"
      ]
     },
     "metadata": {
      "needs_background": "light"
     },
     "output_type": "display_data"
    }
   ],
   "source": [
    "# построим гистаграмму сбалансированности классов в обучающей выборке целевого признака\n",
    "class_frequency.plot(kind='bar');"
   ]
  },
  {
   "cell_type": "code",
   "execution_count": 173,
   "metadata": {},
   "outputs": [
    {
     "data": {
      "text/plain": [
       "False    0.711\n",
       "True     0.289\n",
       "Name: proportion, dtype: float64"
      ]
     },
     "execution_count": 173,
     "metadata": {},
     "output_type": "execute_result"
    }
   ],
   "source": [
    "# \"случайный лес\"\n",
    "class_frequency = pd.Series(rfc_model.predict(features_valid)).value_counts(normalize=True)\n",
    "class_frequency"
   ]
  },
  {
   "cell_type": "code",
   "execution_count": 174,
   "metadata": {},
   "outputs": [
    {
     "data": {
      "image/png": "[encoded data removed]",
      "text/plain": [
       "<Figure size 432x288 with 1 Axes>"
      ]
     },
     "metadata": {
      "needs_background": "light"
     },
     "output_type": "display_data"
    }
   ],
   "source": [
    "# построим гистаграмму сбалансированности классов в обучающей выборке целевого признака\n",
    "class_frequency.plot(kind='bar');"
   ]
  },
  {
   "cell_type": "code",
   "execution_count": 175,
   "metadata": {},
   "outputs": [
    {
     "data": {
      "text/plain": [
       "False    0.6195\n",
       "True     0.3805\n",
       "Name: proportion, dtype: float64"
      ]
     },
     "execution_count": 175,
     "metadata": {},
     "output_type": "execute_result"
    }
   ],
   "source": [
    "# \"логистическая регрессия\"\n",
    "class_frequency = pd.Series(lr_model.predict(features_valid)).value_counts(normalize=True)\n",
    "class_frequency"
   ]
  },
  {
   "cell_type": "code",
   "execution_count": 176,
   "metadata": {},
   "outputs": [
    {
     "data": {
      "image/png": "[encoded data removed]",
      "text/plain": [
       "<Figure size 432x288 with 1 Axes>"
      ]
     },
     "metadata": {
      "needs_background": "light"
     },
     "output_type": "display_data"
    }
   ],
   "source": [
    "# построим гистаграмму сбалансированности классов в обучающей выборке целевого признака\n",
    "class_frequency.plot(kind='bar');"
   ]
  },
  {
   "cell_type": "markdown",
   "metadata": {},
   "source": [
    "**Вывод**\n",
    "\n",
    "Соотношение классов, в предсказаниях модели, на валидационной выборке, существенно отличается от соотношения классов в выборках с целевым признаком (шаг 61). Соотношение классов,  первой модели: `0` - **70.2%** и `1` - **29.8%**; второй модели: `0` - **71.1%** и `1` - **28.9%**; третьей модели: `0` - **61.9%** и `1` - **38.0%**."
   ]
  },
  {
   "cell_type": "markdown",
   "metadata": {},
   "source": [
    "**Выводы**\n",
    "\n",
    "Метрика качества модели F1-мера, на валидационной выборке, лучших моделей и время работы в миллисекундах:\n",
    " - решающее дерево: `0.5956175298804781` (`1.81` миллисекунд);\n",
    " - случайный лес: `0.6125760649087222` (`16.9` миллисекунд);\n",
    " - логистическая регрессия: `0.46706586826347307` (`7.68` миллисекунд).\n",
    "\n",
    "\n",
    "Лучшая модель, для техники борьбы с дисбалансом классов - уменьшение выборки (downsampling), по признаку качества `F1-мера`: `RandomForestClassifier` (\"случайный лес\")."
   ]
  },
  {
   "cell_type": "markdown",
   "metadata": {},
   "source": [
    "#### Порог классификации (изменение порога)"
   ]
  },
  {
   "cell_type": "code",
   "execution_count": 177,
   "metadata": {},
   "outputs": [],
   "source": [
    "# определим функцию для применения техники \"порог классификации (изменение порога)\"\"\n",
    "def change_threshold(probabilities_valid, \n",
    "                     target_valid,\n",
    "                     threshold_range,\n",
    "                     threshold_step=0.1,\n",
    "                     threshold_start=0.0):\n",
    "    \n",
    "    probabilities_one_valid = probabilities_valid[:, 1];\n",
    "    \n",
    "    for threshold in np.arange(threshold_start, threshold_range, threshold_step):\n",
    "        predicted_valid = [1 if proba > threshold else 0 for proba in probabilities_one_valid]\n",
    "        print(\"threshold:\", threshold)\n",
    "        quality_metrics(target_valid, predicted_valid, probabilities_valid)\n",
    "        print()"
   ]
  },
  {
   "cell_type": "markdown",
   "metadata": {},
   "source": [
    "**66. Модель на основе \"решающего дерева\".****"
   ]
  },
  {
   "cell_type": "code",
   "execution_count": 178,
   "metadata": {},
   "outputs": [
    {
     "data": {
      "text/html": [
       "<style>#sk-container-id-14 {color: black;background-color: white;}#sk-container-id-14 pre{padding: 0;}#sk-container-id-14 div.sk-toggleable {background-color: white;}#sk-container-id-14 label.sk-toggleable__label {cursor: pointer;display: block;width: 100%;margin-bottom: 0;padding: 0.3em;box-sizing: border-box;text-align: center;}#sk-container-id-14 label.sk-toggleable__label-arrow:before {content: \"▸\";float: left;margin-right: 0.25em;color: #696969;}#sk-container-id-14 label.sk-toggleable__label-arrow:hover:before {color: black;}#sk-container-id-14 div.sk-estimator:hover label.sk-toggleable__label-arrow:before {color: black;}#sk-container-id-14 div.sk-toggleable__content {max-height: 0;max-width: 0;overflow: hidden;text-align: left;background-color: #f0f8ff;}#sk-container-id-14 div.sk-toggleable__content pre {margin: 0.2em;color: black;border-radius: 0.25em;background-color: #f0f8ff;}#sk-container-id-14 input.sk-toggleable__control:checked~div.sk-toggleable__content {max-height: 200px;max-width: 100%;overflow: auto;}#sk-container-id-14 input.sk-toggleable__control:checked~label.sk-toggleable__label-arrow:before {content: \"▾\";}#sk-container-id-14 div.sk-estimator input.sk-toggleable__control:checked~label.sk-toggleable__label {background-color: #d4ebff;}#sk-container-id-14 div.sk-label input.sk-toggleable__control:checked~label.sk-toggleable__label {background-color: #d4ebff;}#sk-container-id-14 input.sk-hidden--visually {border: 0;clip: rect(1px 1px 1px 1px);clip: rect(1px, 1px, 1px, 1px);height: 1px;margin: -1px;overflow: hidden;padding: 0;position: absolute;width: 1px;}#sk-container-id-14 div.sk-estimator {font-family: monospace;background-color: #f0f8ff;border: 1px dotted black;border-radius: 0.25em;box-sizing: border-box;margin-bottom: 0.5em;}#sk-container-id-14 div.sk-estimator:hover {background-color: #d4ebff;}#sk-container-id-14 div.sk-parallel-item::after {content: \"\";width: 100%;border-bottom: 1px solid gray;flex-grow: 1;}#sk-container-id-14 div.sk-label:hover label.sk-toggleable__label {background-color: #d4ebff;}#sk-container-id-14 div.sk-serial::before {content: \"\";position: absolute;border-left: 1px solid gray;box-sizing: border-box;top: 0;bottom: 0;left: 50%;z-index: 0;}#sk-container-id-14 div.sk-serial {display: flex;flex-direction: column;align-items: center;background-color: white;padding-right: 0.2em;padding-left: 0.2em;position: relative;}#sk-container-id-14 div.sk-item {position: relative;z-index: 1;}#sk-container-id-14 div.sk-parallel {display: flex;align-items: stretch;justify-content: center;background-color: white;position: relative;}#sk-container-id-14 div.sk-item::before, #sk-container-id-14 div.sk-parallel-item::before {content: \"\";position: absolute;border-left: 1px solid gray;box-sizing: border-box;top: 0;bottom: 0;left: 50%;z-index: -1;}#sk-container-id-14 div.sk-parallel-item {display: flex;flex-direction: column;z-index: 1;position: relative;background-color: white;}#sk-container-id-14 div.sk-parallel-item:first-child::after {align-self: flex-end;width: 50%;}#sk-container-id-14 div.sk-parallel-item:last-child::after {align-self: flex-start;width: 50%;}#sk-container-id-14 div.sk-parallel-item:only-child::after {width: 0;}#sk-container-id-14 div.sk-dashed-wrapped {border: 1px dashed gray;margin: 0 0.4em 0.5em 0.4em;box-sizing: border-box;padding-bottom: 0.4em;background-color: white;}#sk-container-id-14 div.sk-label label {font-family: monospace;font-weight: bold;display: inline-block;line-height: 1.2em;}#sk-container-id-14 div.sk-label-container {text-align: center;}#sk-container-id-14 div.sk-container {/* jupyter's `normalize.less` sets `[hidden] { display: none; }` but bootstrap.min.css set `[hidden] { display: none !important; }` so we also need the `!important` here to be able to override the default hidden behavior on the sphinx rendered scikit-learn.org. See: https://github.com/scikit-learn/scikit-learn/issues/21755 */display: inline-block !important;position: relative;}#sk-container-id-14 div.sk-text-repr-fallback {display: none;}</style><div id=\"sk-container-id-14\" class=\"sk-top-container\"><div class=\"sk-text-repr-fallback\"><pre>DecisionTreeClassifier(max_depth=7, min_samples_leaf=9, random_state=753)</pre><b>In a Jupyter environment, please rerun this cell to show the HTML representation or trust the notebook. <br />On GitHub, the HTML representation is unable to render, please try loading this page with nbviewer.org.</b></div><div class=\"sk-container\" hidden><div class=\"sk-item\"><div class=\"sk-estimator sk-toggleable\"><input class=\"sk-toggleable__control sk-hidden--visually\" id=\"sk-estimator-id-14\" type=\"checkbox\" checked><label for=\"sk-estimator-id-14\" class=\"sk-toggleable__label sk-toggleable__label-arrow\">DecisionTreeClassifier</label><div class=\"sk-toggleable__content\"><pre>DecisionTreeClassifier(max_depth=7, min_samples_leaf=9, random_state=753)</pre></div></div></div></div></div>"
      ],
      "text/plain": [
       "DecisionTreeClassifier(max_depth=7, min_samples_leaf=9, random_state=753)"
      ]
     },
     "execution_count": 178,
     "metadata": {},
     "output_type": "execute_result"
    }
   ],
   "source": [
    "# создадим модель с заданными гиперпараметрами\n",
    "dtc_model = DecisionTreeClassifier(criterion=\"gini\",\n",
    "                               splitter=\"best\",\n",
    "                               max_depth=7,\n",
    "                               min_samples_split=2,\n",
    "                               min_samples_leaf=9,\n",
    "                               random_state=random_state)\n",
    "\n",
    "# обучим модель на тренировочной выборке\n",
    "dtc_model.fit(features_train, target_train)"
   ]
  },
  {
   "cell_type": "code",
   "execution_count": 179,
   "metadata": {},
   "outputs": [
    {
     "name": "stdout",
     "output_type": "stream",
     "text": [
      "CPU times: user 3.6 ms, sys: 0 ns, total: 3.6 ms\n",
      "Wall time: 3.07 ms\n"
     ]
    }
   ],
   "source": [
    "%%time\n",
    "\n",
    "# время работы модели в миллисекундах\n",
    "probabilities_valid = dtc_model.predict_proba(features_valid)"
   ]
  },
  {
   "cell_type": "code",
   "execution_count": 180,
   "metadata": {},
   "outputs": [
    {
     "name": "stdout",
     "output_type": "stream",
     "text": [
      "threshold: 0.0\n",
      "Точность (accuracy): 0.234\n",
      "Полнота (recall): 0.9779411764705882\n",
      "Точность (precision): 0.20759625390218522\n",
      "F1-мера: 0.3424892703862661\n",
      "AUC-ROC: 0.8478944969947778\n",
      "Средняя точность (Average precision): 0.20751692477198996\n",
      "\n",
      "threshold: 0.1\n",
      "Точность (accuracy): 0.713\n",
      "Полнота (recall): 0.8504901960784313\n",
      "Точность (precision): 0.40348837209302324\n",
      "F1-мера: 0.5473186119873817\n",
      "AUC-ROC: 0.8478944969947778\n",
      "Средняя точность (Average precision): 0.37366290469676244\n",
      "\n",
      "threshold: 0.2\n",
      "Точность (accuracy): 0.7955\n",
      "Полнота (recall): 0.7377450980392157\n",
      "Точность (precision): 0.49917081260364843\n",
      "F1-мера: 0.5954500494559841\n",
      "AUC-ROC: 0.8478944969947778\n",
      "Средняя точность (Average precision): 0.4217608200825936\n",
      "\n",
      "threshold: 0.30000000000000004\n",
      "Точность (accuracy): 0.8515\n",
      "Полнота (recall): 0.6102941176470589\n",
      "Точность (precision): 0.6434108527131783\n",
      "F1-мера: 0.6264150943396226\n",
      "AUC-ROC: 0.8478944969947778\n",
      "Средняя точность (Average precision): 0.4721698586411309\n",
      "\n",
      "threshold: 0.4\n",
      "Точность (accuracy): 0.8575\n",
      "Полнота (recall): 0.553921568627451\n",
      "Точность (precision): 0.6869300911854104\n",
      "F1-мера: 0.6132971506105834\n",
      "AUC-ROC: 0.8478944969947778\n",
      "Средняя точность (Average precision): 0.4715053936468204\n",
      "\n",
      "threshold: 0.5\n",
      "Точность (accuracy): 0.865\n",
      "Полнота (recall): 0.5171568627450981\n",
      "Точность (precision): 0.7429577464788732\n",
      "F1-мера: 0.6098265895953757\n",
      "AUC-ROC: 0.8478944969947778\n",
      "Средняя точность (Average precision): 0.48272569732118203\n",
      "\n",
      "threshold: 0.6000000000000001\n",
      "Точность (accuracy): 0.857\n",
      "Полнота (recall): 0.3799019607843137\n",
      "Точность (precision): 0.824468085106383\n",
      "F1-мера: 0.5201342281879194\n",
      "AUC-ROC: 0.8478944969947778\n",
      "Средняя точность (Average precision): 0.4397170421360033\n",
      "\n",
      "threshold: 0.7000000000000001\n",
      "Точность (accuracy): 0.8475\n",
      "Полнота (recall): 0.2965686274509804\n",
      "Точность (precision): 0.8705035971223022\n",
      "F1-мера: 0.4424131627056673\n",
      "AUC-ROC: 0.8478944969947778\n",
      "Средняя точность (Average precision): 0.4016640569897023\n",
      "\n",
      "threshold: 0.8\n",
      "Точность (accuracy): 0.843\n",
      "Полнота (recall): 0.27450980392156865\n",
      "Точность (precision): 0.8615384615384616\n",
      "F1-мера: 0.41635687732342014\n",
      "AUC-ROC: 0.8478944969947778\n",
      "Средняя точность (Average precision): 0.384500754147813\n",
      "\n",
      "threshold: 0.9\n",
      "Точность (accuracy): 0.8295\n",
      "Полнота (recall): 0.17647058823529413\n",
      "Точность (precision): 0.935064935064935\n",
      "F1-мера: 0.2969072164948454\n",
      "AUC-ROC: 0.8478944969947778\n",
      "Средняя точность (Average precision): 0.3330114591291062\n",
      "\n"
     ]
    }
   ],
   "source": [
    "change_threshold(probabilities_valid,\n",
    "                 target_valid,\n",
    "                 threshold_range=1.0)"
   ]
  },
  {
   "cell_type": "markdown",
   "metadata": {},
   "source": [
    "Лучший результат модели на основе \"решающего дерева\", на валидационной выборке:\n",
    " - метрика F1-мера: **0.6264150943396226**;\n",
    " - при гиперпараметрах модели: \n",
    "     * `criterion` - **gini**;\n",
    "     * `splitter` - **best**;\n",
    "     * `max_depth` -  **7**;\n",
    "     * `min_samples_split` - **2**;\n",
    "     * `min_samples_leaf` - **9**;\n",
    "     * `threshold` - **0.3**. \n",
    "     \n",
    "     \n",
    "     \n",
    "Время работы лучшей модели на основе \"решающего дерева\": `1.94` миллисекунд."
   ]
  },
  {
   "cell_type": "markdown",
   "metadata": {},
   "source": [
    "**67. Модель на основе \"случайного леса\".**"
   ]
  },
  {
   "cell_type": "code",
   "execution_count": 181,
   "metadata": {},
   "outputs": [
    {
     "data": {
      "text/html": [
       "<style>#sk-container-id-15 {color: black;background-color: white;}#sk-container-id-15 pre{padding: 0;}#sk-container-id-15 div.sk-toggleable {background-color: white;}#sk-container-id-15 label.sk-toggleable__label {cursor: pointer;display: block;width: 100%;margin-bottom: 0;padding: 0.3em;box-sizing: border-box;text-align: center;}#sk-container-id-15 label.sk-toggleable__label-arrow:before {content: \"▸\";float: left;margin-right: 0.25em;color: #696969;}#sk-container-id-15 label.sk-toggleable__label-arrow:hover:before {color: black;}#sk-container-id-15 div.sk-estimator:hover label.sk-toggleable__label-arrow:before {color: black;}#sk-container-id-15 div.sk-toggleable__content {max-height: 0;max-width: 0;overflow: hidden;text-align: left;background-color: #f0f8ff;}#sk-container-id-15 div.sk-toggleable__content pre {margin: 0.2em;color: black;border-radius: 0.25em;background-color: #f0f8ff;}#sk-container-id-15 input.sk-toggleable__control:checked~div.sk-toggleable__content {max-height: 200px;max-width: 100%;overflow: auto;}#sk-container-id-15 input.sk-toggleable__control:checked~label.sk-toggleable__label-arrow:before {content: \"▾\";}#sk-container-id-15 div.sk-estimator input.sk-toggleable__control:checked~label.sk-toggleable__label {background-color: #d4ebff;}#sk-container-id-15 div.sk-label input.sk-toggleable__control:checked~label.sk-toggleable__label {background-color: #d4ebff;}#sk-container-id-15 input.sk-hidden--visually {border: 0;clip: rect(1px 1px 1px 1px);clip: rect(1px, 1px, 1px, 1px);height: 1px;margin: -1px;overflow: hidden;padding: 0;position: absolute;width: 1px;}#sk-container-id-15 div.sk-estimator {font-family: monospace;background-color: #f0f8ff;border: 1px dotted black;border-radius: 0.25em;box-sizing: border-box;margin-bottom: 0.5em;}#sk-container-id-15 div.sk-estimator:hover {background-color: #d4ebff;}#sk-container-id-15 div.sk-parallel-item::after {content: \"\";width: 100%;border-bottom: 1px solid gray;flex-grow: 1;}#sk-container-id-15 div.sk-label:hover label.sk-toggleable__label {background-color: #d4ebff;}#sk-container-id-15 div.sk-serial::before {content: \"\";position: absolute;border-left: 1px solid gray;box-sizing: border-box;top: 0;bottom: 0;left: 50%;z-index: 0;}#sk-container-id-15 div.sk-serial {display: flex;flex-direction: column;align-items: center;background-color: white;padding-right: 0.2em;padding-left: 0.2em;position: relative;}#sk-container-id-15 div.sk-item {position: relative;z-index: 1;}#sk-container-id-15 div.sk-parallel {display: flex;align-items: stretch;justify-content: center;background-color: white;position: relative;}#sk-container-id-15 div.sk-item::before, #sk-container-id-15 div.sk-parallel-item::before {content: \"\";position: absolute;border-left: 1px solid gray;box-sizing: border-box;top: 0;bottom: 0;left: 50%;z-index: -1;}#sk-container-id-15 div.sk-parallel-item {display: flex;flex-direction: column;z-index: 1;position: relative;background-color: white;}#sk-container-id-15 div.sk-parallel-item:first-child::after {align-self: flex-end;width: 50%;}#sk-container-id-15 div.sk-parallel-item:last-child::after {align-self: flex-start;width: 50%;}#sk-container-id-15 div.sk-parallel-item:only-child::after {width: 0;}#sk-container-id-15 div.sk-dashed-wrapped {border: 1px dashed gray;margin: 0 0.4em 0.5em 0.4em;box-sizing: border-box;padding-bottom: 0.4em;background-color: white;}#sk-container-id-15 div.sk-label label {font-family: monospace;font-weight: bold;display: inline-block;line-height: 1.2em;}#sk-container-id-15 div.sk-label-container {text-align: center;}#sk-container-id-15 div.sk-container {/* jupyter's `normalize.less` sets `[hidden] { display: none; }` but bootstrap.min.css set `[hidden] { display: none !important; }` so we also need the `!important` here to be able to override the default hidden behavior on the sphinx rendered scikit-learn.org. See: https://github.com/scikit-learn/scikit-learn/issues/21755 */display: inline-block !important;position: relative;}#sk-container-id-15 div.sk-text-repr-fallback {display: none;}</style><div id=\"sk-container-id-15\" class=\"sk-top-container\"><div class=\"sk-text-repr-fallback\"><pre>RandomForestClassifier(max_depth=18, min_samples_leaf=2, min_samples_split=6,\n",
       "                       n_estimators=15, n_jobs=-1, random_state=753)</pre><b>In a Jupyter environment, please rerun this cell to show the HTML representation or trust the notebook. <br />On GitHub, the HTML representation is unable to render, please try loading this page with nbviewer.org.</b></div><div class=\"sk-container\" hidden><div class=\"sk-item\"><div class=\"sk-estimator sk-toggleable\"><input class=\"sk-toggleable__control sk-hidden--visually\" id=\"sk-estimator-id-15\" type=\"checkbox\" checked><label for=\"sk-estimator-id-15\" class=\"sk-toggleable__label sk-toggleable__label-arrow\">RandomForestClassifier</label><div class=\"sk-toggleable__content\"><pre>RandomForestClassifier(max_depth=18, min_samples_leaf=2, min_samples_split=6,\n",
       "                       n_estimators=15, n_jobs=-1, random_state=753)</pre></div></div></div></div></div>"
      ],
      "text/plain": [
       "RandomForestClassifier(max_depth=18, min_samples_leaf=2, min_samples_split=6,\n",
       "                       n_estimators=15, n_jobs=-1, random_state=753)"
      ]
     },
     "execution_count": 181,
     "metadata": {},
     "output_type": "execute_result"
    }
   ],
   "source": [
    "# создадим модель с заданными гиперпараметрами\n",
    "rfc_model = RandomForestClassifier(n_estimators=15,\n",
    "                                   criterion=\"gini\",\n",
    "                                   max_depth=18,\n",
    "                                   min_samples_split=6,\n",
    "                                   min_samples_leaf=2,\n",
    "                                   n_jobs=-1,\n",
    "                                   random_state=random_state)\n",
    "\n",
    "# обучим модель на тренировочной выборке\n",
    "rfc_model.fit(features_train, target_train)"
   ]
  },
  {
   "cell_type": "code",
   "execution_count": 182,
   "metadata": {},
   "outputs": [
    {
     "name": "stdout",
     "output_type": "stream",
     "text": [
      "CPU times: user 11.7 ms, sys: 0 ns, total: 11.7 ms\n",
      "Wall time: 10.3 ms\n"
     ]
    }
   ],
   "source": [
    "%%time\n",
    "\n",
    "# время работы модели в миллисекундах\n",
    "probabilities_valid = rfc_model.predict_proba(features_valid)"
   ]
  },
  {
   "cell_type": "code",
   "execution_count": 183,
   "metadata": {},
   "outputs": [
    {
     "name": "stdout",
     "output_type": "stream",
     "text": [
      "threshold: 0.0\n",
      "Точность (accuracy): 0.309\n",
      "Полнота (recall): 0.9852941176470589\n",
      "Точность (precision): 0.22609673790776152\n",
      "F1-мера: 0.36779505946935037\n",
      "AUC-ROC: 0.8362354049660066\n",
      "Средняя точность (Average precision): 0.22577178587970623\n",
      "\n",
      "threshold: 0.1\n",
      "Точность (accuracy): 0.6045\n",
      "Полнота (recall): 0.8602941176470589\n",
      "Точность (precision): 0.32350230414746545\n",
      "F1-мера: 0.47019423978566655\n",
      "AUC-ROC: 0.8362354049660066\n",
      "Средняя точность (Average precision): 0.30680712930333426\n",
      "\n",
      "threshold: 0.2\n",
      "Точность (accuracy): 0.7695\n",
      "Полнота (recall): 0.75\n",
      "Точность (precision): 0.46015037593984964\n",
      "F1-мера: 0.5703634669151911\n",
      "AUC-ROC: 0.8362354049660066\n",
      "Средняя точность (Average precision): 0.39611278195488725\n",
      "\n",
      "threshold: 0.30000000000000004\n",
      "Точность (accuracy): 0.8355\n",
      "Полнота (recall): 0.6421568627450981\n",
      "Точность (precision): 0.5887640449438202\n",
      "F1-мера: 0.6143024618991794\n",
      "AUC-ROC: 0.8362354049660066\n",
      "Средняя точность (Average precision): 0.4510788719982375\n",
      "\n",
      "threshold: 0.4\n",
      "Точность (accuracy): 0.8595\n",
      "Полнота (recall): 0.5514705882352942\n",
      "Точность (precision): 0.6965944272445821\n",
      "F1-мера: 0.6155950752393982\n",
      "AUC-ROC: 0.8362354049660066\n",
      "Средняя точность (Average precision): 0.4756513385539975\n",
      "\n",
      "threshold: 0.5\n",
      "Точность (accuracy): 0.87\n",
      "Полнота (recall): 0.5\n",
      "Точность (precision): 0.7846153846153846\n",
      "F1-мера: 0.6107784431137725\n",
      "AUC-ROC: 0.8362354049660066\n",
      "Средняя точность (Average precision): 0.4943076923076923\n",
      "\n",
      "threshold: 0.6000000000000001\n",
      "Точность (accuracy): 0.8575\n",
      "Полнота (recall): 0.39215686274509803\n",
      "Точность (precision): 0.8121827411167513\n",
      "F1-мера: 0.5289256198347108\n",
      "AUC-ROC: 0.8362354049660066\n",
      "Средняя точность (Average precision): 0.4425030357320593\n",
      "\n",
      "threshold: 0.7000000000000001\n",
      "Точность (accuracy): 0.8475\n",
      "Полнота (recall): 0.2965686274509804\n",
      "Точность (precision): 0.8705035971223022\n",
      "F1-мера: 0.4424131627056673\n",
      "AUC-ROC: 0.8362354049660066\n",
      "Средняя точность (Average precision): 0.4016640569897023\n",
      "\n",
      "threshold: 0.8\n",
      "Точность (accuracy): 0.8355\n",
      "Полнота (recall): 0.20588235294117646\n",
      "Точность (precision): 0.9438202247191011\n",
      "F1-мера: 0.33802816901408445\n",
      "AUC-ROC: 0.8362354049660066\n",
      "Средняя точность (Average precision): 0.3563159286186385\n",
      "\n",
      "threshold: 0.9\n",
      "Точность (accuracy): 0.812\n",
      "Полнота (recall): 0.08088235294117647\n",
      "Точность (precision): 0.9705882352941176\n",
      "F1-мера: 0.14932126696832582\n",
      "AUC-ROC: 0.8362354049660066\n",
      "Средняя точность (Average precision): 0.26600346020761245\n",
      "\n"
     ]
    }
   ],
   "source": [
    "change_threshold(probabilities_valid,\n",
    "                 target_valid,\n",
    "                 threshold_range=1.0)"
   ]
  },
  {
   "cell_type": "markdown",
   "metadata": {},
   "source": [
    "Лучший результат модели на основе \"случайного леса\", на валидационной выборке:\n",
    " - метрика F1-мера: **0.6155950752393982**;\n",
    " - при гиперпараметрах модели: \n",
    "     * `n_estimators` - **15**;\n",
    "     * `criterion` - **gini**;\n",
    "     * `max_depth` -  **18**;\n",
    "     * `min_samples_split` - **6**;\n",
    "     * `min_samples_leaf` - **2**;\n",
    "     * `threshold` - **0.4**.\n",
    "     \n",
    "Время работы лучшей модели на основе \"случайного леса\": `7.19` миллисекунд."
   ]
  },
  {
   "cell_type": "markdown",
   "metadata": {},
   "source": [
    "**68. Модель на основе \"логистической регрессии\".**"
   ]
  },
  {
   "cell_type": "code",
   "execution_count": 184,
   "metadata": {},
   "outputs": [
    {
     "name": "stderr",
     "output_type": "stream",
     "text": [
      "/opt/conda/lib/python3.9/site-packages/sklearn/linear_model/_sag.py:350: ConvergenceWarning: The max_iter was reached which means the coef_ did not converge\n",
      "  warnings.warn(\n"
     ]
    },
    {
     "data": {
      "text/html": [
       "<style>#sk-container-id-16 {color: black;background-color: white;}#sk-container-id-16 pre{padding: 0;}#sk-container-id-16 div.sk-toggleable {background-color: white;}#sk-container-id-16 label.sk-toggleable__label {cursor: pointer;display: block;width: 100%;margin-bottom: 0;padding: 0.3em;box-sizing: border-box;text-align: center;}#sk-container-id-16 label.sk-toggleable__label-arrow:before {content: \"▸\";float: left;margin-right: 0.25em;color: #696969;}#sk-container-id-16 label.sk-toggleable__label-arrow:hover:before {color: black;}#sk-container-id-16 div.sk-estimator:hover label.sk-toggleable__label-arrow:before {color: black;}#sk-container-id-16 div.sk-toggleable__content {max-height: 0;max-width: 0;overflow: hidden;text-align: left;background-color: #f0f8ff;}#sk-container-id-16 div.sk-toggleable__content pre {margin: 0.2em;color: black;border-radius: 0.25em;background-color: #f0f8ff;}#sk-container-id-16 input.sk-toggleable__control:checked~div.sk-toggleable__content {max-height: 200px;max-width: 100%;overflow: auto;}#sk-container-id-16 input.sk-toggleable__control:checked~label.sk-toggleable__label-arrow:before {content: \"▾\";}#sk-container-id-16 div.sk-estimator input.sk-toggleable__control:checked~label.sk-toggleable__label {background-color: #d4ebff;}#sk-container-id-16 div.sk-label input.sk-toggleable__control:checked~label.sk-toggleable__label {background-color: #d4ebff;}#sk-container-id-16 input.sk-hidden--visually {border: 0;clip: rect(1px 1px 1px 1px);clip: rect(1px, 1px, 1px, 1px);height: 1px;margin: -1px;overflow: hidden;padding: 0;position: absolute;width: 1px;}#sk-container-id-16 div.sk-estimator {font-family: monospace;background-color: #f0f8ff;border: 1px dotted black;border-radius: 0.25em;box-sizing: border-box;margin-bottom: 0.5em;}#sk-container-id-16 div.sk-estimator:hover {background-color: #d4ebff;}#sk-container-id-16 div.sk-parallel-item::after {content: \"\";width: 100%;border-bottom: 1px solid gray;flex-grow: 1;}#sk-container-id-16 div.sk-label:hover label.sk-toggleable__label {background-color: #d4ebff;}#sk-container-id-16 div.sk-serial::before {content: \"\";position: absolute;border-left: 1px solid gray;box-sizing: border-box;top: 0;bottom: 0;left: 50%;z-index: 0;}#sk-container-id-16 div.sk-serial {display: flex;flex-direction: column;align-items: center;background-color: white;padding-right: 0.2em;padding-left: 0.2em;position: relative;}#sk-container-id-16 div.sk-item {position: relative;z-index: 1;}#sk-container-id-16 div.sk-parallel {display: flex;align-items: stretch;justify-content: center;background-color: white;position: relative;}#sk-container-id-16 div.sk-item::before, #sk-container-id-16 div.sk-parallel-item::before {content: \"\";position: absolute;border-left: 1px solid gray;box-sizing: border-box;top: 0;bottom: 0;left: 50%;z-index: -1;}#sk-container-id-16 div.sk-parallel-item {display: flex;flex-direction: column;z-index: 1;position: relative;background-color: white;}#sk-container-id-16 div.sk-parallel-item:first-child::after {align-self: flex-end;width: 50%;}#sk-container-id-16 div.sk-parallel-item:last-child::after {align-self: flex-start;width: 50%;}#sk-container-id-16 div.sk-parallel-item:only-child::after {width: 0;}#sk-container-id-16 div.sk-dashed-wrapped {border: 1px dashed gray;margin: 0 0.4em 0.5em 0.4em;box-sizing: border-box;padding-bottom: 0.4em;background-color: white;}#sk-container-id-16 div.sk-label label {font-family: monospace;font-weight: bold;display: inline-block;line-height: 1.2em;}#sk-container-id-16 div.sk-label-container {text-align: center;}#sk-container-id-16 div.sk-container {/* jupyter's `normalize.less` sets `[hidden] { display: none; }` but bootstrap.min.css set `[hidden] { display: none !important; }` so we also need the `!important` here to be able to override the default hidden behavior on the sphinx rendered scikit-learn.org. See: https://github.com/scikit-learn/scikit-learn/issues/21755 */display: inline-block !important;position: relative;}#sk-container-id-16 div.sk-text-repr-fallback {display: none;}</style><div id=\"sk-container-id-16\" class=\"sk-top-container\"><div class=\"sk-text-repr-fallback\"><pre>LogisticRegression(max_iter=15, n_jobs=-1, random_state=753, solver=&#x27;sag&#x27;)</pre><b>In a Jupyter environment, please rerun this cell to show the HTML representation or trust the notebook. <br />On GitHub, the HTML representation is unable to render, please try loading this page with nbviewer.org.</b></div><div class=\"sk-container\" hidden><div class=\"sk-item\"><div class=\"sk-estimator sk-toggleable\"><input class=\"sk-toggleable__control sk-hidden--visually\" id=\"sk-estimator-id-16\" type=\"checkbox\" checked><label for=\"sk-estimator-id-16\" class=\"sk-toggleable__label sk-toggleable__label-arrow\">LogisticRegression</label><div class=\"sk-toggleable__content\"><pre>LogisticRegression(max_iter=15, n_jobs=-1, random_state=753, solver=&#x27;sag&#x27;)</pre></div></div></div></div></div>"
      ],
      "text/plain": [
       "LogisticRegression(max_iter=15, n_jobs=-1, random_state=753, solver='sag')"
      ]
     },
     "execution_count": 184,
     "metadata": {},
     "output_type": "execute_result"
    }
   ],
   "source": [
    "# создадим модель с заданными гиперпараметрами\n",
    "lr_model = LogisticRegression(random_state=random_state,\n",
    "                              solver=\"sag\",\n",
    "                              max_iter=15,\n",
    "                              n_jobs=-1) \n",
    "    \n",
    "# обучим модель на тренировочной выборке\n",
    "lr_model.fit(features_train, target_train)"
   ]
  },
  {
   "cell_type": "code",
   "execution_count": 185,
   "metadata": {},
   "outputs": [
    {
     "name": "stdout",
     "output_type": "stream",
     "text": [
      "CPU times: user 7.5 ms, sys: 1.03 ms, total: 8.53 ms\n",
      "Wall time: 2.85 ms\n"
     ]
    }
   ],
   "source": [
    "%%time\n",
    "\n",
    "# время работы модели в миллисекундах\n",
    "probabilities_valid = lr_model.predict_proba(features_valid)"
   ]
  },
  {
   "cell_type": "code",
   "execution_count": 186,
   "metadata": {},
   "outputs": [
    {
     "name": "stdout",
     "output_type": "stream",
     "text": [
      "threshold: 0.0\n",
      "Точность (accuracy): 0.204\n",
      "Полнота (recall): 1.0\n",
      "Точность (precision): 0.204\n",
      "F1-мера: 0.3388704318936877\n",
      "AUC-ROC: 0.7427471302591389\n",
      "Средняя точность (Average precision): 0.204\n",
      "\n",
      "threshold: 0.1\n",
      "Точность (accuracy): 0.481\n",
      "Полнота (recall): 0.8872549019607843\n",
      "Точность (precision): 0.2673559822747415\n",
      "F1-мера: 0.4108967082860385\n",
      "AUC-ROC: 0.7427471302591389\n",
      "Средняя точность (Average precision): 0.26021290584180495\n",
      "\n",
      "threshold: 0.2\n",
      "Точность (accuracy): 0.675\n",
      "Полнота (recall): 0.6544117647058824\n",
      "Точность (precision): 0.3440721649484536\n",
      "F1-мера: 0.45101351351351354\n",
      "AUC-ROC: 0.7427471302591389\n",
      "Средняя точность (Average precision): 0.29566487265009095\n",
      "\n",
      "threshold: 0.30000000000000004\n",
      "Точность (accuracy): 0.768\n",
      "Полнота (recall): 0.4730392156862745\n",
      "Точность (precision): 0.43665158371040724\n",
      "F1-мера: 0.4541176470588235\n",
      "AUC-ROC: 0.7427471302591389\n",
      "Средняя точность (Average precision): 0.3140533226865407\n",
      "\n",
      "threshold: 0.4\n",
      "Точность (accuracy): 0.8\n",
      "Полнота (recall): 0.30637254901960786\n",
      "Точность (precision): 0.5165289256198347\n",
      "F1-мера: 0.38461538461538464\n",
      "AUC-ROC: 0.7427471302591389\n",
      "Средняя точность (Average precision): 0.29975028358450817\n",
      "\n",
      "threshold: 0.5\n",
      "Точность (accuracy): 0.806\n",
      "Полнота (recall): 0.19607843137254902\n",
      "Точность (precision): 0.5714285714285714\n",
      "F1-мера: 0.291970802919708\n",
      "AUC-ROC: 0.7427471302591389\n",
      "Средняя точность (Average precision): 0.27604481792717084\n",
      "\n",
      "threshold: 0.6000000000000001\n",
      "Точность (accuracy): 0.808\n",
      "Полнота (recall): 0.11029411764705882\n",
      "Точность (precision): 0.6818181818181818\n",
      "F1-мера: 0.189873417721519\n",
      "AUC-ROC: 0.7427471302591389\n",
      "Средняя точность (Average precision): 0.2567005347593583\n",
      "\n",
      "threshold: 0.7000000000000001\n",
      "Точность (accuracy): 0.8035\n",
      "Полнота (recall): 0.049019607843137254\n",
      "Точность (precision): 0.8\n",
      "F1-мера: 0.09237875288683602\n",
      "AUC-ROC: 0.7427471302591389\n",
      "Средняя точность (Average precision): 0.23321568627450978\n",
      "\n",
      "threshold: 0.8\n",
      "Точность (accuracy): 0.7975\n",
      "Полнота (recall): 0.014705882352941176\n",
      "Точность (precision): 0.6666666666666666\n",
      "F1-мера: 0.028776978417266192\n",
      "AUC-ROC: 0.7427471302591389\n",
      "Средняя точность (Average precision): 0.21080392156862743\n",
      "\n",
      "threshold: 0.9\n",
      "Точность (accuracy): 0.796\n",
      "Полнота (recall): 0.0\n",
      "Точность (precision): 0.0\n",
      "F1-мера: 0.0\n",
      "AUC-ROC: 0.7427471302591389\n",
      "Средняя точность (Average precision): 0.204\n",
      "\n"
     ]
    },
    {
     "name": "stderr",
     "output_type": "stream",
     "text": [
      "/opt/conda/lib/python3.9/site-packages/sklearn/metrics/_classification.py:1344: UndefinedMetricWarning: Precision is ill-defined and being set to 0.0 due to no predicted samples. Use `zero_division` parameter to control this behavior.\n",
      "  _warn_prf(average, modifier, msg_start, len(result))\n"
     ]
    }
   ],
   "source": [
    "change_threshold(probabilities_valid,\n",
    "                 target_valid,\n",
    "                 threshold_range=1.0)"
   ]
  },
  {
   "cell_type": "markdown",
   "metadata": {},
   "source": [
    "Лучший результат модели на основе \"логистической регрессии\", на валидационной выборке:\n",
    " - метрика F1-мера: **0.4541176470588235**;\n",
    " - при гиперпараметрах модели: \n",
    "     * `solver` - **sag**;\n",
    "     * `max_iter` - **15**;\n",
    "     * `threshold` - **0.3**.\n",
    "     \n",
    "Время работы лучшей модели на основе \"логистической регрессии\": `2.06` миллисекунд."
   ]
  },
  {
   "cell_type": "markdown",
   "metadata": {},
   "source": [
    "**Выводы**\n",
    "\n",
    "Метрика качества модели F1-мера, на валидационной выборке, лучших моделей и время работы в миллисекундах:\n",
    " - решающее дерево: `0.6264150943396226` (`1.94` миллисекунд), `threshold` - **0.3**;\n",
    " - случайный лес: `0.6155950752393982` (`7.19` миллисекунд), `threshold` - **0.4**;\n",
    " - логистическая регрессия: `0.5170178282009724` (`2.06` миллисекунд), `threshold` - **0.3**. \n",
    " \n",
    "Лучшая модель, для техники борьбы с дисбалансом классов - порог классификации (изменение порога), по признаку качества `F1-мера`: `RandomForestClassifier` (\"случайный лес\")."
   ]
  },
  {
   "cell_type": "markdown",
   "metadata": {},
   "source": [
    "**Общие выводы**\n",
    "\n",
    "Лучшая техника борьбы с дисбалансом классов - увеличение выборки (upsampling), по метрике: `F1-мера`.\n",
    "Лучшая модель, на валидационной выборке, по признаку качества `F1-мера` : `RandomForestClassifier` (\"случайный лес\").\n",
    "\n",
    "`F1-мера` - **0.6509316770186335**, при гиперпараметрах модели:\n",
    "* `n_estimators`      - **15**;\n",
    "* `criterion`         - **gini**;\n",
    "* `max_depth`         - **17**;\n",
    "* `min_samples_split` - **10**;\n",
    "* `min_samples_leaf`  - **1**."
   ]
  },
  {
   "cell_type": "markdown",
   "metadata": {},
   "source": [
    "## Тестирование модели"
   ]
  },
  {
   "cell_type": "markdown",
   "metadata": {},
   "source": [
    "**69. Проверим качество выбранной модели на тестовой выборке.**\n",
    "\n",
    "Модель: \"Случайный лес\"."
   ]
  },
  {
   "cell_type": "code",
   "execution_count": 187,
   "metadata": {},
   "outputs": [
    {
     "data": {
      "text/html": [
       "<style>#sk-container-id-17 {color: black;background-color: white;}#sk-container-id-17 pre{padding: 0;}#sk-container-id-17 div.sk-toggleable {background-color: white;}#sk-container-id-17 label.sk-toggleable__label {cursor: pointer;display: block;width: 100%;margin-bottom: 0;padding: 0.3em;box-sizing: border-box;text-align: center;}#sk-container-id-17 label.sk-toggleable__label-arrow:before {content: \"▸\";float: left;margin-right: 0.25em;color: #696969;}#sk-container-id-17 label.sk-toggleable__label-arrow:hover:before {color: black;}#sk-container-id-17 div.sk-estimator:hover label.sk-toggleable__label-arrow:before {color: black;}#sk-container-id-17 div.sk-toggleable__content {max-height: 0;max-width: 0;overflow: hidden;text-align: left;background-color: #f0f8ff;}#sk-container-id-17 div.sk-toggleable__content pre {margin: 0.2em;color: black;border-radius: 0.25em;background-color: #f0f8ff;}#sk-container-id-17 input.sk-toggleable__control:checked~div.sk-toggleable__content {max-height: 200px;max-width: 100%;overflow: auto;}#sk-container-id-17 input.sk-toggleable__control:checked~label.sk-toggleable__label-arrow:before {content: \"▾\";}#sk-container-id-17 div.sk-estimator input.sk-toggleable__control:checked~label.sk-toggleable__label {background-color: #d4ebff;}#sk-container-id-17 div.sk-label input.sk-toggleable__control:checked~label.sk-toggleable__label {background-color: #d4ebff;}#sk-container-id-17 input.sk-hidden--visually {border: 0;clip: rect(1px 1px 1px 1px);clip: rect(1px, 1px, 1px, 1px);height: 1px;margin: -1px;overflow: hidden;padding: 0;position: absolute;width: 1px;}#sk-container-id-17 div.sk-estimator {font-family: monospace;background-color: #f0f8ff;border: 1px dotted black;border-radius: 0.25em;box-sizing: border-box;margin-bottom: 0.5em;}#sk-container-id-17 div.sk-estimator:hover {background-color: #d4ebff;}#sk-container-id-17 div.sk-parallel-item::after {content: \"\";width: 100%;border-bottom: 1px solid gray;flex-grow: 1;}#sk-container-id-17 div.sk-label:hover label.sk-toggleable__label {background-color: #d4ebff;}#sk-container-id-17 div.sk-serial::before {content: \"\";position: absolute;border-left: 1px solid gray;box-sizing: border-box;top: 0;bottom: 0;left: 50%;z-index: 0;}#sk-container-id-17 div.sk-serial {display: flex;flex-direction: column;align-items: center;background-color: white;padding-right: 0.2em;padding-left: 0.2em;position: relative;}#sk-container-id-17 div.sk-item {position: relative;z-index: 1;}#sk-container-id-17 div.sk-parallel {display: flex;align-items: stretch;justify-content: center;background-color: white;position: relative;}#sk-container-id-17 div.sk-item::before, #sk-container-id-17 div.sk-parallel-item::before {content: \"\";position: absolute;border-left: 1px solid gray;box-sizing: border-box;top: 0;bottom: 0;left: 50%;z-index: -1;}#sk-container-id-17 div.sk-parallel-item {display: flex;flex-direction: column;z-index: 1;position: relative;background-color: white;}#sk-container-id-17 div.sk-parallel-item:first-child::after {align-self: flex-end;width: 50%;}#sk-container-id-17 div.sk-parallel-item:last-child::after {align-self: flex-start;width: 50%;}#sk-container-id-17 div.sk-parallel-item:only-child::after {width: 0;}#sk-container-id-17 div.sk-dashed-wrapped {border: 1px dashed gray;margin: 0 0.4em 0.5em 0.4em;box-sizing: border-box;padding-bottom: 0.4em;background-color: white;}#sk-container-id-17 div.sk-label label {font-family: monospace;font-weight: bold;display: inline-block;line-height: 1.2em;}#sk-container-id-17 div.sk-label-container {text-align: center;}#sk-container-id-17 div.sk-container {/* jupyter's `normalize.less` sets `[hidden] { display: none; }` but bootstrap.min.css set `[hidden] { display: none !important; }` so we also need the `!important` here to be able to override the default hidden behavior on the sphinx rendered scikit-learn.org. See: https://github.com/scikit-learn/scikit-learn/issues/21755 */display: inline-block !important;position: relative;}#sk-container-id-17 div.sk-text-repr-fallback {display: none;}</style><div id=\"sk-container-id-17\" class=\"sk-top-container\"><div class=\"sk-text-repr-fallback\"><pre>RandomForestClassifier(max_depth=17, min_samples_split=10, n_estimators=15,\n",
       "                       n_jobs=-1, random_state=753)</pre><b>In a Jupyter environment, please rerun this cell to show the HTML representation or trust the notebook. <br />On GitHub, the HTML representation is unable to render, please try loading this page with nbviewer.org.</b></div><div class=\"sk-container\" hidden><div class=\"sk-item\"><div class=\"sk-estimator sk-toggleable\"><input class=\"sk-toggleable__control sk-hidden--visually\" id=\"sk-estimator-id-17\" type=\"checkbox\" checked><label for=\"sk-estimator-id-17\" class=\"sk-toggleable__label sk-toggleable__label-arrow\">RandomForestClassifier</label><div class=\"sk-toggleable__content\"><pre>RandomForestClassifier(max_depth=17, min_samples_split=10, n_estimators=15,\n",
       "                       n_jobs=-1, random_state=753)</pre></div></div></div></div></div>"
      ],
      "text/plain": [
       "RandomForestClassifier(max_depth=17, min_samples_split=10, n_estimators=15,\n",
       "                       n_jobs=-1, random_state=753)"
      ]
     },
     "execution_count": 187,
     "metadata": {},
     "output_type": "execute_result"
    }
   ],
   "source": [
    "# создание и обучение модели, с лучшей техникой борьбы с дисбалансом классов (увеличение выборки (upsampling)),\n",
    "# с заданными гиперпараметрами\n",
    "\n",
    "rfc_model = RandomForestClassifier(n_estimators=15,\n",
    "                                   criterion=\"gini\",\n",
    "                                   max_depth=17,\n",
    "                                   min_samples_split=10,\n",
    "                                   min_samples_leaf=1,\n",
    "                                   n_jobs=-1,\n",
    "                                   random_state=random_state)\n",
    "\n",
    "# обучим модель на тренировочной выборке\n",
    "rfc_model.fit(features_train_upsampled, target_train_upsampled)"
   ]
  },
  {
   "cell_type": "code",
   "execution_count": 188,
   "metadata": {},
   "outputs": [
    {
     "name": "stdout",
     "output_type": "stream",
     "text": [
      "CPU times: user 11 ms, sys: 0 ns, total: 11 ms\n",
      "Wall time: 9.86 ms\n"
     ]
    }
   ],
   "source": [
    "%%time\n",
    "\n",
    "# время работы модели в миллисекундах\n",
    "predictions_test = rfc_model.predict(features_test)"
   ]
  },
  {
   "cell_type": "code",
   "execution_count": 189,
   "metadata": {},
   "outputs": [
    {
     "name": "stdout",
     "output_type": "stream",
     "text": [
      "Матрица ошибок ([0][0] = TP, [0][1] = FN;\n",
      "                [1][0] = FP; [1][1] = TN):\n"
     ]
    },
    {
     "data": {
      "image/png": "[encoded data removed]",
      "text/plain": [
       "<Figure size 432x288 with 2 Axes>"
      ]
     },
     "metadata": {
      "needs_background": "light"
     },
     "output_type": "display_data"
    },
    {
     "name": "stdout",
     "output_type": "stream",
     "text": [
      "\n",
      "Точность (accuracy): 0.836\n",
      "Полнота (recall): 0.5847665847665847\n",
      "Точность (precision): 0.5994962216624685\n",
      "F1-мера: 0.5920398009950248\n",
      "AUC-ROC: 0.8382959230416858\n",
      "Средняя точность (Average precision): 0.4350653581220332\n"
     ]
    }
   ],
   "source": [
    "# выведем характеристики качества модели\n",
    "model_metrics(rfc_model, features_test, target_test)"
   ]
  },
  {
   "cell_type": "markdown",
   "metadata": {},
   "source": [
    "**70. Проверим качество других моделей на тестовой выборке.**\n",
    "\n",
    "Модели: решающее дерево; логистическая регрессия."
   ]
  },
  {
   "cell_type": "code",
   "execution_count": 190,
   "metadata": {},
   "outputs": [
    {
     "name": "stdout",
     "output_type": "stream",
     "text": [
      "Матрица ошибок ([0][0] = TP, [0][1] = FN;\n",
      "                [1][0] = FP; [1][1] = TN):\n"
     ]
    },
    {
     "data": {
      "image/png": "[encoded data removed]",
      "text/plain": [
       "<Figure size 432x288 with 2 Axes>"
      ]
     },
     "metadata": {
      "needs_background": "light"
     },
     "output_type": "display_data"
    },
    {
     "name": "stdout",
     "output_type": "stream",
     "text": [
      "Точность (accuracy): 0.833\n",
      "Полнота (recall): 0.5896805896805897\n",
      "Точность (precision): 0.5896805896805897\n",
      "F1-мера: 0.5896805896805897\n",
      "AUC-ROC: 0.8374684391633542\n",
      "Средняя точность (Average precision): 0.4312231978460479\n"
     ]
    }
   ],
   "source": [
    "# создание и обучение модели с лучшей техникой борьбы с дисбалансом классов \n",
    "# (порог классификации (изменение порога)), для данной модели, с заданными гиперпараметрами\n",
    "dtc_model = DecisionTreeClassifier(criterion=\"gini\",\n",
    "                                   splitter=\"best\",\n",
    "                                   max_depth=7,\n",
    "                                   min_samples_split=2,\n",
    "                                   min_samples_leaf=9,\n",
    "                                   random_state=random_state)\n",
    "\n",
    "# обучим модель на тренировочной выборке\n",
    "dtc_model.fit(features_train, target_train)\n",
    "\n",
    "probabilities_test = dtc_model.predict_proba(features_test)\n",
    "\n",
    "threshold = 0.3\n",
    "predicted_test = [1 if proba > threshold else 0 for proba in probabilities_test[:, 1]]\n",
    "\n",
    "\n",
    "confusion_matrix_display(target_test, predicted_test)\n",
    "quality_metrics(target_test, predicted_test, probabilities_test)"
   ]
  },
  {
   "cell_type": "code",
   "execution_count": 191,
   "metadata": {},
   "outputs": [
    {
     "name": "stderr",
     "output_type": "stream",
     "text": [
      "/opt/conda/lib/python3.9/site-packages/sklearn/linear_model/_sag.py:350: ConvergenceWarning: The max_iter was reached which means the coef_ did not converge\n",
      "  warnings.warn(\n"
     ]
    },
    {
     "data": {
      "text/html": [
       "<style>#sk-container-id-18 {color: black;background-color: white;}#sk-container-id-18 pre{padding: 0;}#sk-container-id-18 div.sk-toggleable {background-color: white;}#sk-container-id-18 label.sk-toggleable__label {cursor: pointer;display: block;width: 100%;margin-bottom: 0;padding: 0.3em;box-sizing: border-box;text-align: center;}#sk-container-id-18 label.sk-toggleable__label-arrow:before {content: \"▸\";float: left;margin-right: 0.25em;color: #696969;}#sk-container-id-18 label.sk-toggleable__label-arrow:hover:before {color: black;}#sk-container-id-18 div.sk-estimator:hover label.sk-toggleable__label-arrow:before {color: black;}#sk-container-id-18 div.sk-toggleable__content {max-height: 0;max-width: 0;overflow: hidden;text-align: left;background-color: #f0f8ff;}#sk-container-id-18 div.sk-toggleable__content pre {margin: 0.2em;color: black;border-radius: 0.25em;background-color: #f0f8ff;}#sk-container-id-18 input.sk-toggleable__control:checked~div.sk-toggleable__content {max-height: 200px;max-width: 100%;overflow: auto;}#sk-container-id-18 input.sk-toggleable__control:checked~label.sk-toggleable__label-arrow:before {content: \"▾\";}#sk-container-id-18 div.sk-estimator input.sk-toggleable__control:checked~label.sk-toggleable__label {background-color: #d4ebff;}#sk-container-id-18 div.sk-label input.sk-toggleable__control:checked~label.sk-toggleable__label {background-color: #d4ebff;}#sk-container-id-18 input.sk-hidden--visually {border: 0;clip: rect(1px 1px 1px 1px);clip: rect(1px, 1px, 1px, 1px);height: 1px;margin: -1px;overflow: hidden;padding: 0;position: absolute;width: 1px;}#sk-container-id-18 div.sk-estimator {font-family: monospace;background-color: #f0f8ff;border: 1px dotted black;border-radius: 0.25em;box-sizing: border-box;margin-bottom: 0.5em;}#sk-container-id-18 div.sk-estimator:hover {background-color: #d4ebff;}#sk-container-id-18 div.sk-parallel-item::after {content: \"\";width: 100%;border-bottom: 1px solid gray;flex-grow: 1;}#sk-container-id-18 div.sk-label:hover label.sk-toggleable__label {background-color: #d4ebff;}#sk-container-id-18 div.sk-serial::before {content: \"\";position: absolute;border-left: 1px solid gray;box-sizing: border-box;top: 0;bottom: 0;left: 50%;z-index: 0;}#sk-container-id-18 div.sk-serial {display: flex;flex-direction: column;align-items: center;background-color: white;padding-right: 0.2em;padding-left: 0.2em;position: relative;}#sk-container-id-18 div.sk-item {position: relative;z-index: 1;}#sk-container-id-18 div.sk-parallel {display: flex;align-items: stretch;justify-content: center;background-color: white;position: relative;}#sk-container-id-18 div.sk-item::before, #sk-container-id-18 div.sk-parallel-item::before {content: \"\";position: absolute;border-left: 1px solid gray;box-sizing: border-box;top: 0;bottom: 0;left: 50%;z-index: -1;}#sk-container-id-18 div.sk-parallel-item {display: flex;flex-direction: column;z-index: 1;position: relative;background-color: white;}#sk-container-id-18 div.sk-parallel-item:first-child::after {align-self: flex-end;width: 50%;}#sk-container-id-18 div.sk-parallel-item:last-child::after {align-self: flex-start;width: 50%;}#sk-container-id-18 div.sk-parallel-item:only-child::after {width: 0;}#sk-container-id-18 div.sk-dashed-wrapped {border: 1px dashed gray;margin: 0 0.4em 0.5em 0.4em;box-sizing: border-box;padding-bottom: 0.4em;background-color: white;}#sk-container-id-18 div.sk-label label {font-family: monospace;font-weight: bold;display: inline-block;line-height: 1.2em;}#sk-container-id-18 div.sk-label-container {text-align: center;}#sk-container-id-18 div.sk-container {/* jupyter's `normalize.less` sets `[hidden] { display: none; }` but bootstrap.min.css set `[hidden] { display: none !important; }` so we also need the `!important` here to be able to override the default hidden behavior on the sphinx rendered scikit-learn.org. See: https://github.com/scikit-learn/scikit-learn/issues/21755 */display: inline-block !important;position: relative;}#sk-container-id-18 div.sk-text-repr-fallback {display: none;}</style><div id=\"sk-container-id-18\" class=\"sk-top-container\"><div class=\"sk-text-repr-fallback\"><pre>LogisticRegression(max_iter=13, n_jobs=-1, random_state=753, solver=&#x27;sag&#x27;)</pre><b>In a Jupyter environment, please rerun this cell to show the HTML representation or trust the notebook. <br />On GitHub, the HTML representation is unable to render, please try loading this page with nbviewer.org.</b></div><div class=\"sk-container\" hidden><div class=\"sk-item\"><div class=\"sk-estimator sk-toggleable\"><input class=\"sk-toggleable__control sk-hidden--visually\" id=\"sk-estimator-id-18\" type=\"checkbox\" checked><label for=\"sk-estimator-id-18\" class=\"sk-toggleable__label sk-toggleable__label-arrow\">LogisticRegression</label><div class=\"sk-toggleable__content\"><pre>LogisticRegression(max_iter=13, n_jobs=-1, random_state=753, solver=&#x27;sag&#x27;)</pre></div></div></div></div></div>"
      ],
      "text/plain": [
       "LogisticRegression(max_iter=13, n_jobs=-1, random_state=753, solver='sag')"
      ]
     },
     "execution_count": 191,
     "metadata": {},
     "output_type": "execute_result"
    }
   ],
   "source": [
    "# создание и обучение модели с лучшей техникой борьбы с дисбалансом классов (увеличение выборки (upsampling)),\n",
    "# для данной модели\n",
    "\n",
    "# создадим модель с заданными гиперпараметрами\n",
    "lr_model = LogisticRegression(random_state=random_state,\n",
    "                              solver=\"sag\",\n",
    "                              max_iter=13,\n",
    "                              n_jobs=-1) \n",
    "    \n",
    "# обучим модель на тренировочной выборке\n",
    "lr_model.fit(features_train_upsampled, target_train_upsampled)"
   ]
  },
  {
   "cell_type": "code",
   "execution_count": 192,
   "metadata": {},
   "outputs": [
    {
     "name": "stdout",
     "output_type": "stream",
     "text": [
      "Матрица ошибок ([0][0] = TP, [0][1] = FN;\n",
      "                [1][0] = FP; [1][1] = TN):\n"
     ]
    },
    {
     "data": {
      "image/png": "[encoded data removed]",
      "text/plain": [
       "<Figure size 432x288 with 2 Axes>"
      ]
     },
     "metadata": {
      "needs_background": "light"
     },
     "output_type": "display_data"
    },
    {
     "name": "stdout",
     "output_type": "stream",
     "text": [
      "\n",
      "Точность (accuracy): 0.7015\n",
      "Полнота (recall): 0.687960687960688\n",
      "Точность (precision): 0.37333333333333335\n",
      "F1-мера: 0.4840103716508211\n",
      "AUC-ROC: 0.761675388794033\n",
      "Средняя точность (Average precision): 0.32033865683865687\n"
     ]
    }
   ],
   "source": [
    "# модель: \"логистическая регрессия\"\n",
    "model_metrics(lr_model, features_test, target_test)"
   ]
  },
  {
   "cell_type": "markdown",
   "metadata": {},
   "source": [
    "**Выводы**\n",
    "\n",
    "`F1-мера` (мера точности теста (конечный показатель эффективности модели)) на тестовой выборке, показала модель `RandomForestClassifier` : **0.5920398009950248**.\n",
    "        Данный результат связан с тем, что тестовая выборка не сбалансирована, а метрика `F1-мера` зависит от сбалансированности классов.\n",
    "\n",
    "Метрика качества модели `AUC-ROC` (оценка качества бинарной классификации) нечувствительна к сбалансированности классов, и, в нашем случае, является более точной метрикой качества модели.\n",
    "\n",
    "По метрике `AUC-ROC`, лучшей моделью на тестовой выборке является: `RandomForestClassifier`: **0.8382951518544739**. "
   ]
  },
  {
   "cell_type": "markdown",
   "metadata": {},
   "source": [
    "## Итоги проекта"
   ]
  },
  {
   "cell_type": "markdown",
   "metadata": {},
   "source": [
    "1. Лучшая модель по совокупности критериев (качества прогнозирования): `RandomForestClassifier`.\n",
    "\n",
    "2. Лучший результат показывает модель, которая была обучена на обучающей выборке с техникой устранения дисбаланса - увеличение выборки (upsampling).\n",
    "\n",
    "3. Показатели качества модели, на тестовой выборке (к тестовой выборке не применялась техника сбалансированности классов).\n",
    "\n",
    "`F1-мера` - среднее гармоническое значение точности и отзывчивости (мера точности теста (конечный показатель эффективности модели)): `0.5920398009950248`.\n",
    "\n",
    "Другие критерии качества модели:\n",
    "\n",
    "* `Точность (accuracy):`                  - **0.836**;\n",
    "* `Полнота (recall):`                     - **0.5847665847665847**;\n",
    "* `Точность (precision):`                 - **0.5994962216624685**;\n",
    "* `F1-мера:`                              - **0.5920398009950248**;\n",
    "* `AUC-ROC:`                              - **0.8382951518544739**;\n",
    "* `Средняя точность (Average precision):` - **0.4350653581220332**.\n",
    "\n",
    "Время работы: `12.6` миллисекунд.\n",
    "\n",
    "В данной задаче: \"отток клиентов банка\", класс, который представляет для нас интерес, называется «положительным», а оставшийся – «отрицательным».\n",
    "\n",
    "   - Положительным классом в такой постановке будет уход клиент из банка в ближайшее время, а отрицательным – клиент останется. Значение `FN` (**false negative**) - предсказали отрицательную метку, но ошиблись, в матрице ошибок. \n",
    "   - В задаче, `FN` - доля клиентов банка, которые собираются уйти в ближайщее время, и которые классификатор пропускает.\n",
    "   - Нам нужна модель с минимальным `FN`. Чем больше `FN` у модели, тем больше убыток банка, так как он потеряет клиентов, которых он мог бы удержать, но не удержал из-за неточного предсказания.\n",
    "   \n",
    "Частота ошибок (error rate)[доля ошибочных классификаций]: **16.4%**.\n",
    "`FN` - **169**.\n",
    "    \n",
    "Гиперпараметры модели:\n",
    "   \n",
    "* `n_estimators`      - **15**; \n",
    "* `criterion`         - **gini**;\n",
    "* `max_depth`         - **17**;\n",
    "* `min_samples_split` - **10**;\n",
    "* `min_samples_leaf`  - **1**;\n",
    "\n",
    "Критерии качества прогнозирования модели, полученные на валидационной выборке, несущественно отличаются от критериев полученных на тестовой выборке, что говорит об устойчивости модели к новым входным данным.\n",
    "\n",
    "\n",
    "Влияние дисбаланса классов на наши модели:\n",
    " - в деревьях решений (и их обобщениях – случайном лесе), дисбаланс классов влияет на меры неоднородности (impurity) листьев, но это влияние примерно пропорционально для всех кандидатов в очередную разбивку (split), и потому обычно не особо влияет на выбор разбивок;\n",
    " - в логистической регрессии баланс классов сильно влияет на свободный член, но очень слабо – на коэффициенты наклона.\n",
    "\n",
    "\n",
    "*Рекомендации по улучшению модели*:\n",
    "   - собрать большой массив исходных данных для обучения модели;\n",
    "   - обучить модель на большом массиве данных;\n",
    "   - скорректировать гиперпараметры."
   ]
  }
 ],
 "metadata": {
  "ExecuteTimeLog": [
   {
    "duration": 6457,
    "start_time": "2023-05-19T12:28:36.815Z"
   },
   {
    "duration": 12078,
    "start_time": "2023-05-19T12:28:43.274Z"
   },
   {
    "duration": 7768,
    "start_time": "2023-05-19T12:28:55.354Z"
   },
   {
    "duration": 2,
    "start_time": "2023-05-19T12:29:03.125Z"
   },
   {
    "duration": 30,
    "start_time": "2023-05-19T12:29:03.129Z"
   },
   {
    "duration": 1040,
    "start_time": "2023-05-19T12:29:03.160Z"
   },
   {
    "duration": 3,
    "start_time": "2023-05-19T12:29:04.201Z"
   },
   {
    "duration": 457,
    "start_time": "2023-05-19T12:29:04.205Z"
   },
   {
    "duration": 498,
    "start_time": "2023-05-19T12:29:04.664Z"
   },
   {
    "duration": 82,
    "start_time": "2023-05-19T12:29:05.165Z"
   },
   {
    "duration": 34,
    "start_time": "2023-05-19T12:29:05.249Z"
   },
   {
    "duration": 3,
    "start_time": "2023-05-19T12:29:05.285Z"
   },
   {
    "duration": 7,
    "start_time": "2023-05-19T12:29:05.290Z"
   },
   {
    "duration": 14,
    "start_time": "2023-05-19T12:29:05.299Z"
   },
   {
    "duration": 43,
    "start_time": "2023-05-19T12:29:05.314Z"
   },
   {
    "duration": 7,
    "start_time": "2023-05-19T12:29:05.359Z"
   },
   {
    "duration": 11,
    "start_time": "2023-05-19T12:29:05.368Z"
   },
   {
    "duration": 161,
    "start_time": "2023-05-19T12:29:05.380Z"
   },
   {
    "duration": 16,
    "start_time": "2023-05-19T12:29:05.543Z"
   },
   {
    "duration": 14,
    "start_time": "2023-05-19T12:29:05.561Z"
   },
   {
    "duration": 2335,
    "start_time": "2023-05-19T12:29:05.577Z"
   },
   {
    "duration": 44,
    "start_time": "2023-05-19T12:29:07.914Z"
   },
   {
    "duration": 3,
    "start_time": "2023-05-19T12:29:07.959Z"
   },
   {
    "duration": 7,
    "start_time": "2023-05-19T12:29:07.964Z"
   },
   {
    "duration": 14,
    "start_time": "2023-05-19T12:29:07.973Z"
   },
   {
    "duration": 9,
    "start_time": "2023-05-19T12:29:07.988Z"
   },
   {
    "duration": 7,
    "start_time": "2023-05-19T12:29:07.998Z"
   },
   {
    "duration": 26,
    "start_time": "2023-05-19T12:29:08.008Z"
   },
   {
    "duration": 8,
    "start_time": "2023-05-19T12:29:08.035Z"
   },
   {
    "duration": 8,
    "start_time": "2023-05-19T12:29:08.044Z"
   },
   {
    "duration": 10,
    "start_time": "2023-05-19T12:29:08.054Z"
   },
   {
    "duration": 17,
    "start_time": "2023-05-19T12:29:08.066Z"
   },
   {
    "duration": 15,
    "start_time": "2023-05-19T12:29:08.084Z"
   },
   {
    "duration": 16,
    "start_time": "2023-05-19T12:29:08.100Z"
   },
   {
    "duration": 7,
    "start_time": "2023-05-19T12:29:08.118Z"
   },
   {
    "duration": 4,
    "start_time": "2023-05-19T12:29:08.126Z"
   },
   {
    "duration": 22,
    "start_time": "2023-05-19T12:29:08.131Z"
   },
   {
    "duration": 10,
    "start_time": "2023-05-19T12:29:08.155Z"
   },
   {
    "duration": 13,
    "start_time": "2023-05-19T12:29:08.167Z"
   },
   {
    "duration": 20,
    "start_time": "2023-05-19T12:29:08.182Z"
   },
   {
    "duration": 5,
    "start_time": "2023-05-19T12:29:08.203Z"
   },
   {
    "duration": 12,
    "start_time": "2023-05-19T12:29:08.210Z"
   },
   {
    "duration": 11,
    "start_time": "2023-05-19T12:29:08.223Z"
   },
   {
    "duration": 10,
    "start_time": "2023-05-19T12:29:08.236Z"
   },
   {
    "duration": 15,
    "start_time": "2023-05-19T12:29:08.248Z"
   },
   {
    "duration": 10,
    "start_time": "2023-05-19T12:29:08.265Z"
   },
   {
    "duration": 29,
    "start_time": "2023-05-19T12:29:08.277Z"
   },
   {
    "duration": 7,
    "start_time": "2023-05-19T12:29:08.308Z"
   },
   {
    "duration": 10,
    "start_time": "2023-05-19T12:29:08.317Z"
   },
   {
    "duration": 14,
    "start_time": "2023-05-19T12:29:08.329Z"
   },
   {
    "duration": 17,
    "start_time": "2023-05-19T12:29:08.344Z"
   },
   {
    "duration": 8,
    "start_time": "2023-05-19T12:29:08.362Z"
   },
   {
    "duration": 14,
    "start_time": "2023-05-19T12:29:08.372Z"
   },
   {
    "duration": 8,
    "start_time": "2023-05-19T12:29:08.388Z"
   },
   {
    "duration": 8,
    "start_time": "2023-05-19T12:29:08.397Z"
   },
   {
    "duration": 13,
    "start_time": "2023-05-19T12:29:08.406Z"
   },
   {
    "duration": 11,
    "start_time": "2023-05-19T12:29:08.420Z"
   },
   {
    "duration": 5,
    "start_time": "2023-05-19T12:29:08.432Z"
   },
   {
    "duration": 20,
    "start_time": "2023-05-19T12:29:08.438Z"
   },
   {
    "duration": 9,
    "start_time": "2023-05-19T12:29:08.459Z"
   },
   {
    "duration": 20,
    "start_time": "2023-05-19T12:29:08.470Z"
   },
   {
    "duration": 15,
    "start_time": "2023-05-19T12:29:08.491Z"
   },
   {
    "duration": 7,
    "start_time": "2023-05-19T12:29:08.508Z"
   },
   {
    "duration": 9,
    "start_time": "2023-05-19T12:29:08.516Z"
   },
   {
    "duration": 12,
    "start_time": "2023-05-19T12:29:08.527Z"
   },
   {
    "duration": 9,
    "start_time": "2023-05-19T12:29:08.541Z"
   },
   {
    "duration": 15,
    "start_time": "2023-05-19T12:29:08.551Z"
   },
   {
    "duration": 13,
    "start_time": "2023-05-19T12:29:08.568Z"
   },
   {
    "duration": 1190,
    "start_time": "2023-05-19T12:29:08.582Z"
   },
   {
    "duration": 3,
    "start_time": "2023-05-19T12:29:09.774Z"
   },
   {
    "duration": 12,
    "start_time": "2023-05-19T12:29:09.779Z"
   },
   {
    "duration": 9,
    "start_time": "2023-05-19T12:29:09.793Z"
   },
   {
    "duration": 6,
    "start_time": "2023-05-19T12:29:09.803Z"
   },
   {
    "duration": 10,
    "start_time": "2023-05-19T12:29:09.811Z"
   },
   {
    "duration": 16,
    "start_time": "2023-05-19T12:29:09.822Z"
   },
   {
    "duration": 32,
    "start_time": "2023-05-19T12:29:09.839Z"
   },
   {
    "duration": 4,
    "start_time": "2023-05-19T12:29:09.872Z"
   },
   {
    "duration": 17,
    "start_time": "2023-05-19T12:29:09.879Z"
   },
   {
    "duration": 5,
    "start_time": "2023-05-19T12:29:09.898Z"
   },
   {
    "duration": 29,
    "start_time": "2023-05-19T12:29:09.905Z"
   },
   {
    "duration": 10,
    "start_time": "2023-05-19T12:29:09.936Z"
   },
   {
    "duration": 7,
    "start_time": "2023-05-19T12:29:09.956Z"
   },
   {
    "duration": 7,
    "start_time": "2023-05-19T12:29:09.964Z"
   },
   {
    "duration": 16,
    "start_time": "2023-05-19T12:29:09.973Z"
   },
   {
    "duration": 9,
    "start_time": "2023-05-19T12:29:09.990Z"
   },
   {
    "duration": 21,
    "start_time": "2023-05-19T12:29:10.000Z"
   },
   {
    "duration": 8,
    "start_time": "2023-05-19T12:29:10.022Z"
   },
   {
    "duration": 23,
    "start_time": "2023-05-19T12:29:10.032Z"
   },
   {
    "duration": 7,
    "start_time": "2023-05-19T12:29:10.056Z"
   },
   {
    "duration": 266,
    "start_time": "2023-05-19T12:29:10.064Z"
   },
   {
    "duration": 6,
    "start_time": "2023-05-19T12:29:10.332Z"
   },
   {
    "duration": 274,
    "start_time": "2023-05-19T12:29:10.339Z"
   },
   {
    "duration": 6,
    "start_time": "2023-05-19T12:29:10.615Z"
   },
   {
    "duration": 291,
    "start_time": "2023-05-19T12:29:10.623Z"
   },
   {
    "duration": 6,
    "start_time": "2023-05-19T12:29:10.916Z"
   },
   {
    "duration": 298,
    "start_time": "2023-05-19T12:29:10.924Z"
   },
   {
    "duration": 7,
    "start_time": "2023-05-19T12:29:11.224Z"
   },
   {
    "duration": 18,
    "start_time": "2023-05-19T12:29:11.233Z"
   },
   {
    "duration": 182580,
    "start_time": "2023-05-19T12:29:11.258Z"
   },
   {
    "duration": 43,
    "start_time": "2023-05-19T12:32:13.840Z"
   },
   {
    "duration": 11,
    "start_time": "2023-05-19T12:32:13.885Z"
   },
   {
    "duration": 8,
    "start_time": "2023-05-19T12:32:13.898Z"
   },
   {
    "duration": 22,
    "start_time": "2023-05-19T12:32:13.908Z"
   },
   {
    "duration": 19,
    "start_time": "2023-05-19T12:32:13.932Z"
   },
   {
    "duration": 1063945,
    "start_time": "2023-05-19T12:32:13.953Z"
   },
   {
    "duration": 252,
    "start_time": "2023-05-19T12:49:57.900Z"
   },
   {
    "duration": 22,
    "start_time": "2023-05-19T12:49:58.156Z"
   },
   {
    "duration": 5,
    "start_time": "2023-05-19T12:49:58.180Z"
   },
   {
    "duration": 7,
    "start_time": "2023-05-19T12:49:58.186Z"
   },
   {
    "duration": 98872,
    "start_time": "2023-05-19T12:49:58.195Z"
   },
   {
    "duration": 196,
    "start_time": "2023-05-19T12:51:37.072Z"
   },
   {
    "duration": 5,
    "start_time": "2023-05-19T12:51:37.270Z"
   },
   {
    "duration": 85,
    "start_time": "2023-05-19T12:51:37.278Z"
   },
   {
    "duration": 109,
    "start_time": "2023-05-19T12:51:37.364Z"
   },
   {
    "duration": 14,
    "start_time": "2023-05-19T12:51:37.475Z"
   },
   {
    "duration": 12,
    "start_time": "2023-05-19T12:51:37.490Z"
   },
   {
    "duration": 222,
    "start_time": "2023-05-19T12:51:37.503Z"
   },
   {
    "duration": 37,
    "start_time": "2023-05-19T12:51:37.727Z"
   },
   {
    "duration": 241,
    "start_time": "2023-05-19T12:51:37.766Z"
   },
   {
    "duration": 8,
    "start_time": "2023-05-19T12:51:38.009Z"
   },
   {
    "duration": 339,
    "start_time": "2023-05-19T12:51:38.060Z"
   },
   {
    "duration": 8,
    "start_time": "2023-05-19T12:51:38.402Z"
   },
   {
    "duration": 249,
    "start_time": "2023-05-19T12:51:38.411Z"
   },
   {
    "duration": 24,
    "start_time": "2023-05-19T12:51:38.662Z"
   },
   {
    "duration": 343,
    "start_time": "2023-05-19T12:51:38.688Z"
   },
   {
    "duration": 28,
    "start_time": "2023-05-19T12:51:39.032Z"
   },
   {
    "duration": 349,
    "start_time": "2023-05-19T12:51:39.061Z"
   },
   {
    "duration": 2,
    "start_time": "2023-05-19T12:51:39.411Z"
   },
   {
    "duration": 10,
    "start_time": "2023-05-19T12:51:39.415Z"
   },
   {
    "duration": 17,
    "start_time": "2023-05-19T12:51:39.426Z"
   },
   {
    "duration": 265,
    "start_time": "2023-05-19T12:51:39.444Z"
   },
   {
    "duration": 311,
    "start_time": "2023-05-19T12:51:39.710Z"
   },
   {
    "duration": 295,
    "start_time": "2023-05-19T12:51:40.023Z"
   },
   {
    "duration": 302,
    "start_time": "2023-05-19T12:51:40.319Z"
   },
   {
    "duration": 398,
    "start_time": "2023-05-19T12:51:40.623Z"
   },
   {
    "duration": 200176,
    "start_time": "2023-05-19T12:51:41.022Z"
   },
   {
    "duration": 16,
    "start_time": "2023-05-19T12:55:01.200Z"
   },
   {
    "duration": 52,
    "start_time": "2023-05-19T12:55:01.218Z"
   },
   {
    "duration": 2712,
    "start_time": "2023-05-19T15:16:16.735Z"
   },
   {
    "duration": 2653,
    "start_time": "2023-05-19T15:16:19.450Z"
   },
   {
    "duration": 2853,
    "start_time": "2023-05-19T15:16:22.105Z"
   },
   {
    "duration": 2,
    "start_time": "2023-05-19T15:16:24.961Z"
   },
   {
    "duration": 19,
    "start_time": "2023-05-19T15:16:24.966Z"
   },
   {
    "duration": 559,
    "start_time": "2023-05-19T15:16:24.987Z"
   },
   {
    "duration": 3,
    "start_time": "2023-05-19T15:16:25.547Z"
   },
   {
    "duration": 330,
    "start_time": "2023-05-19T15:16:25.551Z"
   },
   {
    "duration": 468,
    "start_time": "2023-05-19T15:16:25.883Z"
   },
   {
    "duration": 58,
    "start_time": "2023-05-19T15:16:26.353Z"
   },
   {
    "duration": 15,
    "start_time": "2023-05-19T15:16:26.413Z"
   },
   {
    "duration": 8,
    "start_time": "2023-05-19T15:16:26.430Z"
   },
   {
    "duration": 11,
    "start_time": "2023-05-19T15:16:26.440Z"
   },
   {
    "duration": 6,
    "start_time": "2023-05-19T15:16:26.452Z"
   },
   {
    "duration": 10,
    "start_time": "2023-05-19T15:16:26.460Z"
   },
   {
    "duration": 18,
    "start_time": "2023-05-19T15:16:26.472Z"
   },
   {
    "duration": 8,
    "start_time": "2023-05-19T15:16:26.492Z"
   },
   {
    "duration": 47,
    "start_time": "2023-05-19T15:16:26.502Z"
   },
   {
    "duration": 18,
    "start_time": "2023-05-19T15:16:26.550Z"
   },
   {
    "duration": 21,
    "start_time": "2023-05-19T15:16:26.570Z"
   },
   {
    "duration": 2337,
    "start_time": "2023-05-19T15:16:26.593Z"
   },
   {
    "duration": 43,
    "start_time": "2023-05-19T15:16:28.932Z"
   },
   {
    "duration": 2,
    "start_time": "2023-05-19T15:16:28.977Z"
   },
   {
    "duration": 7,
    "start_time": "2023-05-19T15:16:28.981Z"
   },
   {
    "duration": 10,
    "start_time": "2023-05-19T15:16:28.989Z"
   },
   {
    "duration": 6,
    "start_time": "2023-05-19T15:16:29.000Z"
   },
   {
    "duration": 17,
    "start_time": "2023-05-19T15:16:29.008Z"
   },
   {
    "duration": 8,
    "start_time": "2023-05-19T15:16:29.030Z"
   },
   {
    "duration": 21,
    "start_time": "2023-05-19T15:16:29.040Z"
   },
   {
    "duration": 13,
    "start_time": "2023-05-19T15:16:29.062Z"
   },
   {
    "duration": 11,
    "start_time": "2023-05-19T15:16:29.077Z"
   },
   {
    "duration": 18,
    "start_time": "2023-05-19T15:16:29.090Z"
   },
   {
    "duration": 13,
    "start_time": "2023-05-19T15:16:29.110Z"
   },
   {
    "duration": 18,
    "start_time": "2023-05-19T15:16:29.126Z"
   },
   {
    "duration": 6,
    "start_time": "2023-05-19T15:16:29.146Z"
   },
   {
    "duration": 4,
    "start_time": "2023-05-19T15:16:29.154Z"
   },
   {
    "duration": 7,
    "start_time": "2023-05-19T15:16:29.159Z"
   },
   {
    "duration": 11,
    "start_time": "2023-05-19T15:16:29.168Z"
   },
   {
    "duration": 21,
    "start_time": "2023-05-19T15:16:29.180Z"
   },
   {
    "duration": 16,
    "start_time": "2023-05-19T15:16:29.203Z"
   },
   {
    "duration": 4,
    "start_time": "2023-05-19T15:16:29.221Z"
   },
   {
    "duration": 13,
    "start_time": "2023-05-19T15:16:29.227Z"
   },
   {
    "duration": 26,
    "start_time": "2023-05-19T15:16:29.241Z"
   },
   {
    "duration": 7,
    "start_time": "2023-05-19T15:16:29.268Z"
   },
   {
    "duration": 8,
    "start_time": "2023-05-19T15:16:29.277Z"
   },
   {
    "duration": 5,
    "start_time": "2023-05-19T15:16:29.287Z"
   },
   {
    "duration": 17,
    "start_time": "2023-05-19T15:16:29.294Z"
   },
   {
    "duration": 6,
    "start_time": "2023-05-19T15:16:29.313Z"
   },
   {
    "duration": 6,
    "start_time": "2023-05-19T15:16:29.321Z"
   },
   {
    "duration": 6,
    "start_time": "2023-05-19T15:16:29.358Z"
   },
   {
    "duration": 6,
    "start_time": "2023-05-19T15:16:29.366Z"
   },
   {
    "duration": 11,
    "start_time": "2023-05-19T15:16:29.374Z"
   },
   {
    "duration": 12,
    "start_time": "2023-05-19T15:16:29.387Z"
   },
   {
    "duration": 23,
    "start_time": "2023-05-19T15:16:29.400Z"
   },
   {
    "duration": 9,
    "start_time": "2023-05-19T15:16:29.425Z"
   },
   {
    "duration": 11,
    "start_time": "2023-05-19T15:16:29.436Z"
   },
   {
    "duration": 13,
    "start_time": "2023-05-19T15:16:29.448Z"
   },
   {
    "duration": 4,
    "start_time": "2023-05-19T15:16:29.463Z"
   },
   {
    "duration": 7,
    "start_time": "2023-05-19T15:16:29.468Z"
   },
   {
    "duration": 8,
    "start_time": "2023-05-19T15:16:29.476Z"
   },
   {
    "duration": 12,
    "start_time": "2023-05-19T15:16:29.486Z"
   },
   {
    "duration": 14,
    "start_time": "2023-05-19T15:16:29.500Z"
   },
   {
    "duration": 6,
    "start_time": "2023-05-19T15:16:29.515Z"
   },
   {
    "duration": 8,
    "start_time": "2023-05-19T15:16:29.522Z"
   },
   {
    "duration": 27,
    "start_time": "2023-05-19T15:16:29.531Z"
   },
   {
    "duration": 8,
    "start_time": "2023-05-19T15:16:29.560Z"
   },
   {
    "duration": 10,
    "start_time": "2023-05-19T15:16:29.569Z"
   },
   {
    "duration": 3,
    "start_time": "2023-05-19T15:16:29.580Z"
   },
   {
    "duration": 1310,
    "start_time": "2023-05-19T15:16:29.585Z"
   },
   {
    "duration": 4,
    "start_time": "2023-05-19T15:16:30.896Z"
   },
   {
    "duration": 64,
    "start_time": "2023-05-19T15:16:30.902Z"
   },
   {
    "duration": 31,
    "start_time": "2023-05-19T15:16:30.967Z"
   },
   {
    "duration": 37,
    "start_time": "2023-05-19T15:16:31.000Z"
   },
   {
    "duration": 43,
    "start_time": "2023-05-19T15:16:31.039Z"
   },
   {
    "duration": 52,
    "start_time": "2023-05-19T15:16:31.084Z"
   },
   {
    "duration": 54,
    "start_time": "2023-05-19T15:16:31.137Z"
   },
   {
    "duration": 11,
    "start_time": "2023-05-19T15:16:31.193Z"
   },
   {
    "duration": 54,
    "start_time": "2023-05-19T15:16:31.205Z"
   },
   {
    "duration": 45,
    "start_time": "2023-05-19T15:16:31.262Z"
   },
   {
    "duration": 82,
    "start_time": "2023-05-19T15:16:31.309Z"
   },
   {
    "duration": 37,
    "start_time": "2023-05-19T15:16:31.392Z"
   },
   {
    "duration": 22,
    "start_time": "2023-05-19T15:16:31.438Z"
   },
   {
    "duration": 37,
    "start_time": "2023-05-19T15:16:31.462Z"
   },
   {
    "duration": 28,
    "start_time": "2023-05-19T15:16:31.500Z"
   },
   {
    "duration": 29,
    "start_time": "2023-05-19T15:16:31.530Z"
   },
   {
    "duration": 24,
    "start_time": "2023-05-19T15:16:31.561Z"
   },
   {
    "duration": 35,
    "start_time": "2023-05-19T15:16:31.587Z"
   },
   {
    "duration": 46,
    "start_time": "2023-05-19T15:16:31.623Z"
   },
   {
    "duration": 17,
    "start_time": "2023-05-19T15:16:31.671Z"
   },
   {
    "duration": 245,
    "start_time": "2023-05-19T15:16:31.690Z"
   },
   {
    "duration": 6,
    "start_time": "2023-05-19T15:16:31.936Z"
   },
   {
    "duration": 287,
    "start_time": "2023-05-19T15:16:31.957Z"
   },
   {
    "duration": 14,
    "start_time": "2023-05-19T15:16:32.246Z"
   },
   {
    "duration": 269,
    "start_time": "2023-05-19T15:16:32.262Z"
   },
   {
    "duration": 30,
    "start_time": "2023-05-19T15:16:32.532Z"
   },
   {
    "duration": 251,
    "start_time": "2023-05-19T15:16:32.564Z"
   },
   {
    "duration": 6,
    "start_time": "2023-05-19T15:16:32.817Z"
   },
   {
    "duration": 18,
    "start_time": "2023-05-19T15:16:32.825Z"
   },
   {
    "duration": 186252,
    "start_time": "2023-05-19T15:16:32.844Z"
   },
   {
    "duration": 31,
    "start_time": "2023-05-19T15:19:39.098Z"
   },
   {
    "duration": 6,
    "start_time": "2023-05-19T15:19:39.130Z"
   },
   {
    "duration": 23,
    "start_time": "2023-05-19T15:19:39.138Z"
   },
   {
    "duration": 11,
    "start_time": "2023-05-19T15:19:39.163Z"
   },
   {
    "duration": 7,
    "start_time": "2023-05-19T15:19:39.176Z"
   },
   {
    "duration": 1084327,
    "start_time": "2023-05-19T15:19:39.185Z"
   },
   {
    "duration": 273,
    "start_time": "2023-05-19T15:37:43.514Z"
   },
   {
    "duration": 21,
    "start_time": "2023-05-19T15:37:43.789Z"
   },
   {
    "duration": 7,
    "start_time": "2023-05-19T15:37:43.812Z"
   },
   {
    "duration": 5,
    "start_time": "2023-05-19T15:37:43.821Z"
   },
   {
    "duration": 98932,
    "start_time": "2023-05-19T15:37:43.829Z"
   },
   {
    "duration": 108,
    "start_time": "2023-05-19T15:39:22.763Z"
   },
   {
    "duration": 7,
    "start_time": "2023-05-19T15:39:22.873Z"
   },
   {
    "duration": 75,
    "start_time": "2023-05-19T15:39:22.882Z"
   },
   {
    "duration": 95,
    "start_time": "2023-05-19T15:39:22.962Z"
   },
   {
    "duration": 11,
    "start_time": "2023-05-19T15:39:23.059Z"
   },
   {
    "duration": 20,
    "start_time": "2023-05-19T15:39:23.072Z"
   },
   {
    "duration": 298,
    "start_time": "2023-05-19T15:39:23.094Z"
   },
   {
    "duration": 22,
    "start_time": "2023-05-19T15:39:23.394Z"
   },
   {
    "duration": 269,
    "start_time": "2023-05-19T15:39:23.417Z"
   },
   {
    "duration": 10,
    "start_time": "2023-05-19T15:39:23.688Z"
   },
   {
    "duration": 416,
    "start_time": "2023-05-19T15:39:23.700Z"
   },
   {
    "duration": 11,
    "start_time": "2023-05-19T15:39:24.118Z"
   },
   {
    "duration": 304,
    "start_time": "2023-05-19T15:39:24.131Z"
   },
   {
    "duration": 40,
    "start_time": "2023-05-19T15:39:24.437Z"
   },
   {
    "duration": 248,
    "start_time": "2023-05-19T15:39:24.479Z"
   },
   {
    "duration": 35,
    "start_time": "2023-05-19T15:39:24.729Z"
   },
   {
    "duration": 438,
    "start_time": "2023-05-19T15:39:24.766Z"
   },
   {
    "duration": 3,
    "start_time": "2023-05-19T15:39:25.206Z"
   },
   {
    "duration": 20,
    "start_time": "2023-05-19T15:39:25.211Z"
   },
   {
    "duration": 9,
    "start_time": "2023-05-19T15:39:25.233Z"
   },
   {
    "duration": 387,
    "start_time": "2023-05-19T15:39:25.243Z"
   },
   {
    "duration": 302,
    "start_time": "2023-05-19T15:39:25.632Z"
   },
   {
    "duration": 302,
    "start_time": "2023-05-19T15:39:25.935Z"
   },
   {
    "duration": 293,
    "start_time": "2023-05-19T15:39:26.239Z"
   },
   {
    "duration": 485,
    "start_time": "2023-05-19T15:39:26.534Z"
   },
   {
    "duration": 201043,
    "start_time": "2023-05-19T15:39:27.021Z"
   },
   {
    "duration": 14,
    "start_time": "2023-05-19T15:42:48.065Z"
   },
   {
    "duration": 6,
    "start_time": "2023-05-19T15:42:48.080Z"
   },
   {
    "duration": 346585,
    "start_time": "2023-05-19T15:42:48.088Z"
   },
   {
    "duration": 207,
    "start_time": "2023-05-19T15:48:34.675Z"
   },
   {
    "duration": 16,
    "start_time": "2023-05-19T15:48:34.884Z"
   },
   {
    "duration": 132467,
    "start_time": "2023-05-19T15:48:34.902Z"
   },
   {
    "duration": 204,
    "start_time": "2023-05-19T15:50:47.371Z"
   },
   {
    "duration": 8,
    "start_time": "2023-05-19T15:50:47.576Z"
   },
   {
    "duration": 75,
    "start_time": "2023-05-19T15:50:47.587Z"
   },
   {
    "duration": 100,
    "start_time": "2023-05-19T15:50:47.664Z"
   },
   {
    "duration": 6,
    "start_time": "2023-05-19T15:50:47.766Z"
   },
   {
    "duration": 243,
    "start_time": "2023-05-19T15:50:47.774Z"
   },
   {
    "duration": 232875,
    "start_time": "2023-05-19T15:50:48.019Z"
   },
   {
    "duration": 15,
    "start_time": "2023-05-19T15:54:40.897Z"
   },
   {
    "duration": 5,
    "start_time": "2023-05-19T15:54:40.913Z"
   },
   {
    "duration": 2701,
    "start_time": "2023-05-19T16:41:49.102Z"
   },
   {
    "duration": 2829,
    "start_time": "2023-05-19T16:41:51.805Z"
   },
   {
    "duration": 3069,
    "start_time": "2023-05-19T16:41:54.636Z"
   },
   {
    "duration": 3,
    "start_time": "2023-05-19T16:41:57.708Z"
   },
   {
    "duration": 8,
    "start_time": "2023-05-19T16:41:57.712Z"
   },
   {
    "duration": 1032,
    "start_time": "2023-05-19T16:41:57.722Z"
   },
   {
    "duration": 3,
    "start_time": "2023-05-19T16:41:58.756Z"
   },
   {
    "duration": 372,
    "start_time": "2023-05-19T16:41:58.760Z"
   },
   {
    "duration": 633,
    "start_time": "2023-05-19T16:41:59.134Z"
   },
   {
    "duration": 258,
    "start_time": "2023-05-19T16:41:59.770Z"
   },
   {
    "duration": 64,
    "start_time": "2023-05-19T16:42:00.030Z"
   },
   {
    "duration": 2,
    "start_time": "2023-05-19T16:42:00.096Z"
   },
   {
    "duration": 12,
    "start_time": "2023-05-19T16:42:00.100Z"
   },
   {
    "duration": 23,
    "start_time": "2023-05-19T16:42:00.114Z"
   },
   {
    "duration": 35,
    "start_time": "2023-05-19T16:42:00.139Z"
   },
   {
    "duration": 25,
    "start_time": "2023-05-19T16:42:00.176Z"
   },
   {
    "duration": 44,
    "start_time": "2023-05-19T16:42:00.203Z"
   },
   {
    "duration": 60,
    "start_time": "2023-05-19T16:42:00.249Z"
   },
   {
    "duration": 30,
    "start_time": "2023-05-19T16:42:00.311Z"
   },
   {
    "duration": 36,
    "start_time": "2023-05-19T16:42:00.343Z"
   },
   {
    "duration": 2509,
    "start_time": "2023-05-19T16:42:00.380Z"
   },
   {
    "duration": 37,
    "start_time": "2023-05-19T16:42:02.890Z"
   },
   {
    "duration": 2,
    "start_time": "2023-05-19T16:42:02.929Z"
   },
   {
    "duration": 10,
    "start_time": "2023-05-19T16:42:02.933Z"
   },
   {
    "duration": 18,
    "start_time": "2023-05-19T16:42:02.958Z"
   },
   {
    "duration": 15,
    "start_time": "2023-05-19T16:42:02.978Z"
   },
   {
    "duration": 28,
    "start_time": "2023-05-19T16:42:02.995Z"
   },
   {
    "duration": 4,
    "start_time": "2023-05-19T16:42:03.027Z"
   },
   {
    "duration": 23,
    "start_time": "2023-05-19T16:42:03.032Z"
   },
   {
    "duration": 9,
    "start_time": "2023-05-19T16:42:03.057Z"
   },
   {
    "duration": 14,
    "start_time": "2023-05-19T16:42:03.068Z"
   },
   {
    "duration": 10,
    "start_time": "2023-05-19T16:42:03.084Z"
   },
   {
    "duration": 9,
    "start_time": "2023-05-19T16:42:03.096Z"
   },
   {
    "duration": 15,
    "start_time": "2023-05-19T16:42:03.107Z"
   },
   {
    "duration": 8,
    "start_time": "2023-05-19T16:42:03.123Z"
   },
   {
    "duration": 15,
    "start_time": "2023-05-19T16:42:03.132Z"
   },
   {
    "duration": 13,
    "start_time": "2023-05-19T16:42:03.158Z"
   },
   {
    "duration": 15,
    "start_time": "2023-05-19T16:42:03.173Z"
   },
   {
    "duration": 38,
    "start_time": "2023-05-19T16:42:03.189Z"
   },
   {
    "duration": 14,
    "start_time": "2023-05-19T16:42:03.229Z"
   },
   {
    "duration": 3,
    "start_time": "2023-05-19T16:42:03.245Z"
   },
   {
    "duration": 11,
    "start_time": "2023-05-19T16:42:03.250Z"
   },
   {
    "duration": 15,
    "start_time": "2023-05-19T16:42:03.262Z"
   },
   {
    "duration": 10,
    "start_time": "2023-05-19T16:42:03.279Z"
   },
   {
    "duration": 15,
    "start_time": "2023-05-19T16:42:03.291Z"
   },
   {
    "duration": 8,
    "start_time": "2023-05-19T16:42:03.308Z"
   },
   {
    "duration": 21,
    "start_time": "2023-05-19T16:42:03.318Z"
   },
   {
    "duration": 19,
    "start_time": "2023-05-19T16:42:03.341Z"
   },
   {
    "duration": 21,
    "start_time": "2023-05-19T16:42:03.361Z"
   },
   {
    "duration": 6,
    "start_time": "2023-05-19T16:42:03.384Z"
   },
   {
    "duration": 8,
    "start_time": "2023-05-19T16:42:03.391Z"
   },
   {
    "duration": 13,
    "start_time": "2023-05-19T16:42:03.401Z"
   },
   {
    "duration": 17,
    "start_time": "2023-05-19T16:42:03.416Z"
   },
   {
    "duration": 8,
    "start_time": "2023-05-19T16:42:03.434Z"
   },
   {
    "duration": 16,
    "start_time": "2023-05-19T16:42:03.443Z"
   },
   {
    "duration": 12,
    "start_time": "2023-05-19T16:42:03.462Z"
   },
   {
    "duration": 9,
    "start_time": "2023-05-19T16:42:03.476Z"
   },
   {
    "duration": 5,
    "start_time": "2023-05-19T16:42:03.487Z"
   },
   {
    "duration": 6,
    "start_time": "2023-05-19T16:42:03.493Z"
   },
   {
    "duration": 6,
    "start_time": "2023-05-19T16:42:03.501Z"
   },
   {
    "duration": 12,
    "start_time": "2023-05-19T16:42:03.508Z"
   },
   {
    "duration": 12,
    "start_time": "2023-05-19T16:42:03.521Z"
   },
   {
    "duration": 28,
    "start_time": "2023-05-19T16:42:03.534Z"
   },
   {
    "duration": 10,
    "start_time": "2023-05-19T16:42:03.564Z"
   },
   {
    "duration": 18,
    "start_time": "2023-05-19T16:42:03.576Z"
   },
   {
    "duration": 24,
    "start_time": "2023-05-19T16:42:03.595Z"
   },
   {
    "duration": 12,
    "start_time": "2023-05-19T16:42:03.620Z"
   },
   {
    "duration": 2,
    "start_time": "2023-05-19T16:42:03.634Z"
   },
   {
    "duration": 1188,
    "start_time": "2023-05-19T16:42:03.637Z"
   },
   {
    "duration": 3,
    "start_time": "2023-05-19T16:42:04.826Z"
   },
   {
    "duration": 11,
    "start_time": "2023-05-19T16:42:04.831Z"
   },
   {
    "duration": 25,
    "start_time": "2023-05-19T16:42:04.844Z"
   },
   {
    "duration": 4,
    "start_time": "2023-05-19T16:42:04.871Z"
   },
   {
    "duration": 10,
    "start_time": "2023-05-19T16:42:04.877Z"
   },
   {
    "duration": 11,
    "start_time": "2023-05-19T16:42:04.888Z"
   },
   {
    "duration": 22,
    "start_time": "2023-05-19T16:42:04.901Z"
   },
   {
    "duration": 34,
    "start_time": "2023-05-19T16:42:04.924Z"
   },
   {
    "duration": 12,
    "start_time": "2023-05-19T16:42:04.960Z"
   },
   {
    "duration": 6,
    "start_time": "2023-05-19T16:42:04.973Z"
   },
   {
    "duration": 11,
    "start_time": "2023-05-19T16:42:04.980Z"
   },
   {
    "duration": 5,
    "start_time": "2023-05-19T16:42:04.992Z"
   },
   {
    "duration": 4,
    "start_time": "2023-05-19T16:42:05.006Z"
   },
   {
    "duration": 8,
    "start_time": "2023-05-19T16:42:05.012Z"
   },
   {
    "duration": 5,
    "start_time": "2023-05-19T16:42:05.022Z"
   },
   {
    "duration": 5,
    "start_time": "2023-05-19T16:42:05.029Z"
   },
   {
    "duration": 5,
    "start_time": "2023-05-19T16:42:05.058Z"
   },
   {
    "duration": 24,
    "start_time": "2023-05-19T16:42:05.065Z"
   },
   {
    "duration": 27,
    "start_time": "2023-05-19T16:42:05.091Z"
   },
   {
    "duration": 5,
    "start_time": "2023-05-19T16:42:05.120Z"
   },
   {
    "duration": 300,
    "start_time": "2023-05-19T16:42:05.127Z"
   },
   {
    "duration": 6,
    "start_time": "2023-05-19T16:42:05.429Z"
   },
   {
    "duration": 292,
    "start_time": "2023-05-19T16:42:05.437Z"
   },
   {
    "duration": 7,
    "start_time": "2023-05-19T16:42:05.731Z"
   },
   {
    "duration": 304,
    "start_time": "2023-05-19T16:42:05.740Z"
   },
   {
    "duration": 11,
    "start_time": "2023-05-19T16:42:06.046Z"
   },
   {
    "duration": 300,
    "start_time": "2023-05-19T16:42:06.059Z"
   },
   {
    "duration": 10,
    "start_time": "2023-05-19T16:42:06.361Z"
   },
   {
    "duration": 6,
    "start_time": "2023-05-19T16:42:06.373Z"
   },
   {
    "duration": 40,
    "start_time": "2023-05-19T16:42:06.382Z"
   },
   {
    "duration": 199,
    "start_time": "2023-05-19T16:42:06.425Z"
   },
   {
    "duration": 8,
    "start_time": "2023-05-19T16:42:06.625Z"
   },
   {
    "duration": 51,
    "start_time": "2023-05-19T16:42:06.634Z"
   },
   {
    "duration": 37,
    "start_time": "2023-05-19T16:42:06.687Z"
   },
   {
    "duration": 33,
    "start_time": "2023-05-19T16:42:06.726Z"
   },
   {
    "duration": 14,
    "start_time": "2023-05-19T16:42:06.761Z"
   },
   {
    "duration": 257,
    "start_time": "2023-05-19T16:42:06.776Z"
   },
   {
    "duration": 30,
    "start_time": "2023-05-19T16:42:07.035Z"
   },
   {
    "duration": 8,
    "start_time": "2023-05-19T16:42:07.067Z"
   },
   {
    "duration": 15,
    "start_time": "2023-05-19T16:42:07.077Z"
   },
   {
    "duration": 20,
    "start_time": "2023-05-19T16:42:07.094Z"
   },
   {
    "duration": 31,
    "start_time": "2023-05-19T16:42:07.116Z"
   },
   {
    "duration": 24,
    "start_time": "2023-05-19T16:42:07.149Z"
   },
   {
    "duration": 83,
    "start_time": "2023-05-19T16:42:07.179Z"
   },
   {
    "duration": 94,
    "start_time": "2023-05-19T16:42:07.264Z"
   },
   {
    "duration": 5,
    "start_time": "2023-05-19T16:42:07.361Z"
   },
   {
    "duration": 10,
    "start_time": "2023-05-19T16:42:07.369Z"
   },
   {
    "duration": 261,
    "start_time": "2023-05-19T16:42:07.381Z"
   },
   {
    "duration": 34,
    "start_time": "2023-05-19T16:42:07.644Z"
   },
   {
    "duration": 248,
    "start_time": "2023-05-19T16:42:07.679Z"
   },
   {
    "duration": 37,
    "start_time": "2023-05-19T16:42:07.929Z"
   },
   {
    "duration": 376,
    "start_time": "2023-05-19T16:42:07.969Z"
   },
   {
    "duration": 14,
    "start_time": "2023-05-19T16:42:08.347Z"
   },
   {
    "duration": 269,
    "start_time": "2023-05-19T16:42:08.364Z"
   },
   {
    "duration": 37,
    "start_time": "2023-05-19T16:42:08.635Z"
   },
   {
    "duration": 234,
    "start_time": "2023-05-19T16:42:08.674Z"
   },
   {
    "duration": 56,
    "start_time": "2023-05-19T16:42:08.909Z"
   },
   {
    "duration": 341,
    "start_time": "2023-05-19T16:42:08.968Z"
   },
   {
    "duration": 2,
    "start_time": "2023-05-19T16:42:09.312Z"
   },
   {
    "duration": 11,
    "start_time": "2023-05-19T16:42:09.316Z"
   },
   {
    "duration": 9,
    "start_time": "2023-05-19T16:42:09.329Z"
   },
   {
    "duration": 297,
    "start_time": "2023-05-19T16:42:09.340Z"
   },
   {
    "duration": 310,
    "start_time": "2023-05-19T16:42:09.639Z"
   },
   {
    "duration": 449,
    "start_time": "2023-05-19T16:42:09.950Z"
   },
   {
    "duration": 342,
    "start_time": "2023-05-19T16:42:10.401Z"
   },
   {
    "duration": 494,
    "start_time": "2023-05-19T16:42:10.745Z"
   },
   {
    "duration": 23,
    "start_time": "2023-05-19T16:42:11.240Z"
   },
   {
    "duration": 19,
    "start_time": "2023-05-19T16:42:11.266Z"
   },
   {
    "duration": 6,
    "start_time": "2023-05-19T16:42:11.287Z"
   },
   {
    "duration": 6,
    "start_time": "2023-05-19T16:42:11.295Z"
   },
   {
    "duration": 163,
    "start_time": "2023-05-19T16:42:11.303Z"
   },
   {
    "duration": 15,
    "start_time": "2023-05-19T16:42:11.468Z"
   },
   {
    "duration": 4,
    "start_time": "2023-05-19T16:42:11.485Z"
   },
   {
    "duration": 36,
    "start_time": "2023-05-19T16:42:11.491Z"
   },
   {
    "duration": 48,
    "start_time": "2023-05-19T16:42:11.529Z"
   },
   {
    "duration": 78,
    "start_time": "2023-05-19T16:42:11.579Z"
   },
   {
    "duration": 12,
    "start_time": "2023-05-19T16:42:11.659Z"
   },
   {
    "duration": 95,
    "start_time": "2023-05-19T16:42:11.673Z"
   },
   {
    "duration": 250,
    "start_time": "2023-05-19T16:42:11.771Z"
   },
   {
    "duration": 4,
    "start_time": "2023-05-19T16:42:12.023Z"
   },
   {
    "duration": 42,
    "start_time": "2023-05-19T16:42:12.029Z"
   },
   {
    "duration": 7,
    "start_time": "2023-05-19T16:42:12.073Z"
   },
   {
    "duration": 11,
    "start_time": "2023-05-19T16:42:12.081Z"
   },
   {
    "duration": 514,
    "start_time": "2023-05-19T16:42:12.094Z"
   },
   {
    "duration": 29,
    "start_time": "2023-05-19T16:42:12.610Z"
   },
   {
    "duration": 19,
    "start_time": "2023-05-19T16:42:12.640Z"
   },
   {
    "duration": 52,
    "start_time": "2023-05-19T16:42:12.661Z"
   },
   {
    "duration": 43,
    "start_time": "2023-05-19T16:42:12.715Z"
   },
   {
    "duration": 91,
    "start_time": "2023-05-19T16:42:12.773Z"
   },
   {
    "duration": 265,
    "start_time": "2023-05-19T16:42:12.867Z"
   },
   {
    "duration": 41,
    "start_time": "2023-05-19T16:42:13.134Z"
   },
   {
    "duration": 261,
    "start_time": "2023-05-19T16:42:13.177Z"
   },
   {
    "duration": 22,
    "start_time": "2023-05-19T16:42:13.440Z"
   },
   {
    "duration": 369,
    "start_time": "2023-05-19T16:42:13.464Z"
   },
   {
    "duration": 5,
    "start_time": "2023-05-19T16:42:13.834Z"
   },
   {
    "duration": 21,
    "start_time": "2023-05-19T16:42:13.841Z"
   },
   {
    "duration": 9,
    "start_time": "2023-05-19T16:42:13.864Z"
   },
   {
    "duration": 274,
    "start_time": "2023-05-19T16:42:13.874Z"
   },
   {
    "duration": 13,
    "start_time": "2023-05-19T16:42:14.150Z"
   },
   {
    "duration": 15,
    "start_time": "2023-05-19T16:42:14.165Z"
   },
   {
    "duration": 9,
    "start_time": "2023-05-19T16:42:14.182Z"
   },
   {
    "duration": 5,
    "start_time": "2023-05-19T16:42:14.192Z"
   },
   {
    "duration": 213,
    "start_time": "2023-05-19T16:42:14.200Z"
   },
   {
    "duration": 24,
    "start_time": "2023-05-19T16:42:14.420Z"
   },
   {
    "duration": 4,
    "start_time": "2023-05-19T16:42:14.446Z"
   },
   {
    "duration": 21,
    "start_time": "2023-05-19T16:42:14.458Z"
   },
   {
    "duration": 9,
    "start_time": "2023-05-19T16:42:14.480Z"
   },
   {
    "duration": 11,
    "start_time": "2023-05-19T16:42:14.556Z"
   },
   {
    "duration": 372,
    "start_time": "2023-05-19T16:42:14.569Z"
   },
   {
    "duration": 35,
    "start_time": "2023-05-19T16:42:14.943Z"
   },
   {
    "duration": 265,
    "start_time": "2023-05-19T16:42:14.980Z"
   },
   {
    "duration": 23,
    "start_time": "2023-05-19T16:42:15.247Z"
   },
   {
    "duration": 458,
    "start_time": "2023-05-19T16:42:15.272Z"
   },
   {
    "duration": 4,
    "start_time": "2023-05-19T16:42:15.731Z"
   },
   {
    "duration": 52,
    "start_time": "2023-05-19T16:42:15.737Z"
   },
   {
    "duration": 7,
    "start_time": "2023-05-19T16:42:15.791Z"
   },
   {
    "duration": 204,
    "start_time": "2023-05-19T16:42:15.800Z"
   },
   {
    "duration": 246,
    "start_time": "2023-05-19T16:42:16.006Z"
   },
   {
    "duration": 23,
    "start_time": "2023-05-19T16:42:16.254Z"
   },
   {
    "duration": 205,
    "start_time": "2023-05-19T16:42:16.279Z"
   },
   {
    "duration": 30,
    "start_time": "2023-05-19T16:42:16.486Z"
   },
   {
    "duration": 40,
    "start_time": "2023-05-19T16:42:16.518Z"
   },
   {
    "duration": 289,
    "start_time": "2023-05-19T16:42:16.560Z"
   },
   {
    "duration": 152,
    "start_time": "2023-05-19T16:42:16.858Z"
   },
   {
    "duration": 16,
    "start_time": "2023-05-19T16:42:17.011Z"
   },
   {
    "duration": 320,
    "start_time": "2023-05-19T16:42:17.028Z"
   },
   {
    "duration": 16,
    "start_time": "2023-05-19T16:42:17.357Z"
   },
   {
    "duration": 288,
    "start_time": "2023-05-19T16:42:17.375Z"
   },
   {
    "duration": 35,
    "start_time": "2023-05-19T16:42:17.665Z"
   },
   {
    "duration": 433,
    "start_time": "2023-05-19T16:42:17.702Z"
   },
   {
    "duration": 6478,
    "start_time": "2023-05-19T21:13:22.903Z"
   },
   {
    "duration": 9896,
    "start_time": "2023-05-19T21:13:29.385Z"
   },
   {
    "duration": 8722,
    "start_time": "2023-05-19T21:13:39.286Z"
   },
   {
    "duration": 2,
    "start_time": "2023-05-19T21:13:48.011Z"
   },
   {
    "duration": 11,
    "start_time": "2023-05-19T21:13:48.015Z"
   },
   {
    "duration": 581,
    "start_time": "2023-05-19T21:13:48.028Z"
   },
   {
    "duration": 3,
    "start_time": "2023-05-19T21:13:48.610Z"
   },
   {
    "duration": 550,
    "start_time": "2023-05-19T21:13:48.615Z"
   },
   {
    "duration": 576,
    "start_time": "2023-05-19T21:13:49.167Z"
   },
   {
    "duration": 77,
    "start_time": "2023-05-19T21:13:49.746Z"
   },
   {
    "duration": 18,
    "start_time": "2023-05-19T21:13:49.825Z"
   },
   {
    "duration": 2,
    "start_time": "2023-05-19T21:13:49.845Z"
   },
   {
    "duration": 9,
    "start_time": "2023-05-19T21:13:49.848Z"
   },
   {
    "duration": 5,
    "start_time": "2023-05-19T21:13:49.859Z"
   },
   {
    "duration": 8,
    "start_time": "2023-05-19T21:13:49.882Z"
   },
   {
    "duration": 7,
    "start_time": "2023-05-19T21:13:49.892Z"
   },
   {
    "duration": 8,
    "start_time": "2023-05-19T21:13:49.900Z"
   },
   {
    "duration": 368,
    "start_time": "2023-05-19T21:13:49.910Z"
   },
   {
    "duration": 25,
    "start_time": "2023-05-19T21:13:50.280Z"
   },
   {
    "duration": 12,
    "start_time": "2023-05-19T21:13:50.307Z"
   },
   {
    "duration": 2862,
    "start_time": "2023-05-19T21:13:50.320Z"
   },
   {
    "duration": 43,
    "start_time": "2023-05-19T21:13:53.184Z"
   },
   {
    "duration": 3,
    "start_time": "2023-05-19T21:13:53.228Z"
   },
   {
    "duration": 21,
    "start_time": "2023-05-19T21:13:53.233Z"
   },
   {
    "duration": 10,
    "start_time": "2023-05-19T21:13:53.256Z"
   },
   {
    "duration": 31,
    "start_time": "2023-05-19T21:13:53.267Z"
   },
   {
    "duration": 22,
    "start_time": "2023-05-19T21:13:53.300Z"
   },
   {
    "duration": 8,
    "start_time": "2023-05-19T21:13:53.326Z"
   },
   {
    "duration": 18,
    "start_time": "2023-05-19T21:13:53.336Z"
   },
   {
    "duration": 15,
    "start_time": "2023-05-19T21:13:53.355Z"
   },
   {
    "duration": 26,
    "start_time": "2023-05-19T21:13:53.372Z"
   },
   {
    "duration": 22,
    "start_time": "2023-05-19T21:13:53.400Z"
   },
   {
    "duration": 20,
    "start_time": "2023-05-19T21:13:53.423Z"
   },
   {
    "duration": 28,
    "start_time": "2023-05-19T21:13:53.444Z"
   },
   {
    "duration": 17,
    "start_time": "2023-05-19T21:13:53.474Z"
   },
   {
    "duration": 10,
    "start_time": "2023-05-19T21:13:53.493Z"
   },
   {
    "duration": 46,
    "start_time": "2023-05-19T21:13:53.505Z"
   },
   {
    "duration": 35,
    "start_time": "2023-05-19T21:13:53.553Z"
   },
   {
    "duration": 30,
    "start_time": "2023-05-19T21:13:53.591Z"
   },
   {
    "duration": 22,
    "start_time": "2023-05-19T21:13:53.622Z"
   },
   {
    "duration": 6,
    "start_time": "2023-05-19T21:13:53.645Z"
   },
   {
    "duration": 21,
    "start_time": "2023-05-19T21:13:53.652Z"
   },
   {
    "duration": 23,
    "start_time": "2023-05-19T21:13:53.675Z"
   },
   {
    "duration": 30,
    "start_time": "2023-05-19T21:13:53.700Z"
   },
   {
    "duration": 22,
    "start_time": "2023-05-19T21:13:53.731Z"
   },
   {
    "duration": 17,
    "start_time": "2023-05-19T21:13:53.754Z"
   },
   {
    "duration": 35,
    "start_time": "2023-05-19T21:13:53.772Z"
   },
   {
    "duration": 28,
    "start_time": "2023-05-19T21:13:53.809Z"
   },
   {
    "duration": 29,
    "start_time": "2023-05-19T21:13:53.838Z"
   },
   {
    "duration": 27,
    "start_time": "2023-05-19T21:13:53.868Z"
   },
   {
    "duration": 21,
    "start_time": "2023-05-19T21:13:53.897Z"
   },
   {
    "duration": 24,
    "start_time": "2023-05-19T21:13:53.920Z"
   },
   {
    "duration": 21,
    "start_time": "2023-05-19T21:13:53.946Z"
   },
   {
    "duration": 33,
    "start_time": "2023-05-19T21:13:53.969Z"
   },
   {
    "duration": 16,
    "start_time": "2023-05-19T21:13:54.004Z"
   },
   {
    "duration": 28,
    "start_time": "2023-05-19T21:13:54.021Z"
   },
   {
    "duration": 20,
    "start_time": "2023-05-19T21:13:54.051Z"
   },
   {
    "duration": 15,
    "start_time": "2023-05-19T21:13:54.073Z"
   },
   {
    "duration": 24,
    "start_time": "2023-05-19T21:13:54.089Z"
   },
   {
    "duration": 13,
    "start_time": "2023-05-19T21:13:54.115Z"
   },
   {
    "duration": 23,
    "start_time": "2023-05-19T21:13:54.130Z"
   },
   {
    "duration": 29,
    "start_time": "2023-05-19T21:13:54.154Z"
   },
   {
    "duration": 18,
    "start_time": "2023-05-19T21:13:54.184Z"
   },
   {
    "duration": 32,
    "start_time": "2023-05-19T21:13:54.204Z"
   },
   {
    "duration": 14,
    "start_time": "2023-05-19T21:13:54.238Z"
   },
   {
    "duration": 15,
    "start_time": "2023-05-19T21:13:54.253Z"
   },
   {
    "duration": 27,
    "start_time": "2023-05-19T21:13:54.270Z"
   },
   {
    "duration": 21,
    "start_time": "2023-05-19T21:13:54.300Z"
   },
   {
    "duration": 1139,
    "start_time": "2023-05-19T21:13:54.323Z"
   },
   {
    "duration": 3,
    "start_time": "2023-05-19T21:13:55.464Z"
   },
   {
    "duration": 30,
    "start_time": "2023-05-19T21:13:55.468Z"
   },
   {
    "duration": 40,
    "start_time": "2023-05-19T21:13:55.500Z"
   },
   {
    "duration": 18,
    "start_time": "2023-05-19T21:13:55.542Z"
   },
   {
    "duration": 13,
    "start_time": "2023-05-19T21:13:55.562Z"
   },
   {
    "duration": 23,
    "start_time": "2023-05-19T21:13:55.577Z"
   },
   {
    "duration": 24,
    "start_time": "2023-05-19T21:13:55.603Z"
   },
   {
    "duration": 5,
    "start_time": "2023-05-19T21:13:55.629Z"
   },
   {
    "duration": 20,
    "start_time": "2023-05-19T21:13:55.636Z"
   },
   {
    "duration": 17,
    "start_time": "2023-05-19T21:13:55.658Z"
   },
   {
    "duration": 44,
    "start_time": "2023-05-19T21:13:55.677Z"
   },
   {
    "duration": 16,
    "start_time": "2023-05-19T21:13:55.722Z"
   },
   {
    "duration": 4,
    "start_time": "2023-05-19T21:13:55.748Z"
   },
   {
    "duration": 17,
    "start_time": "2023-05-19T21:13:55.753Z"
   },
   {
    "duration": 29,
    "start_time": "2023-05-19T21:13:55.772Z"
   },
   {
    "duration": 8,
    "start_time": "2023-05-19T21:13:55.803Z"
   },
   {
    "duration": 15,
    "start_time": "2023-05-19T21:13:55.813Z"
   },
   {
    "duration": 31,
    "start_time": "2023-05-19T21:13:55.830Z"
   },
   {
    "duration": 39,
    "start_time": "2023-05-19T21:13:55.862Z"
   },
   {
    "duration": 12,
    "start_time": "2023-05-19T21:13:55.903Z"
   },
   {
    "duration": 265,
    "start_time": "2023-05-19T21:13:55.917Z"
   },
   {
    "duration": 9,
    "start_time": "2023-05-19T21:13:56.184Z"
   },
   {
    "duration": 283,
    "start_time": "2023-05-19T21:13:56.194Z"
   },
   {
    "duration": 9,
    "start_time": "2023-05-19T21:13:56.488Z"
   },
   {
    "duration": 291,
    "start_time": "2023-05-19T21:13:56.498Z"
   },
   {
    "duration": 6,
    "start_time": "2023-05-19T21:13:56.794Z"
   },
   {
    "duration": 286,
    "start_time": "2023-05-19T21:13:56.802Z"
   },
   {
    "duration": 8,
    "start_time": "2023-05-19T21:13:57.090Z"
   },
   {
    "duration": 9,
    "start_time": "2023-05-19T21:13:57.100Z"
   },
   {
    "duration": 9,
    "start_time": "2023-05-19T21:13:57.110Z"
   },
   {
    "duration": 40,
    "start_time": "2023-05-19T21:13:57.121Z"
   },
   {
    "duration": 6,
    "start_time": "2023-05-19T21:13:57.163Z"
   },
   {
    "duration": 14,
    "start_time": "2023-05-19T21:13:57.179Z"
   },
   {
    "duration": 10,
    "start_time": "2023-05-19T21:13:57.197Z"
   },
   {
    "duration": 10,
    "start_time": "2023-05-19T21:13:57.209Z"
   },
   {
    "duration": 12,
    "start_time": "2023-05-19T21:13:57.220Z"
   },
   {
    "duration": 271,
    "start_time": "2023-05-19T21:13:57.234Z"
   },
   {
    "duration": 23,
    "start_time": "2023-05-19T21:13:57.507Z"
   },
   {
    "duration": 6,
    "start_time": "2023-05-19T21:13:57.533Z"
   },
   {
    "duration": 5,
    "start_time": "2023-05-19T21:13:57.542Z"
   },
   {
    "duration": 39,
    "start_time": "2023-05-19T21:13:57.549Z"
   },
   {
    "duration": 30,
    "start_time": "2023-05-19T21:13:57.590Z"
   },
   {
    "duration": 75,
    "start_time": "2023-05-19T21:13:57.621Z"
   },
   {
    "duration": 86,
    "start_time": "2023-05-19T21:13:57.700Z"
   },
   {
    "duration": 8,
    "start_time": "2023-05-19T21:13:57.789Z"
   },
   {
    "duration": 3,
    "start_time": "2023-05-19T21:13:57.799Z"
   },
   {
    "duration": 10,
    "start_time": "2023-05-19T21:13:57.804Z"
   },
   {
    "duration": 268,
    "start_time": "2023-05-19T21:13:57.815Z"
   },
   {
    "duration": 26,
    "start_time": "2023-05-19T21:13:58.085Z"
   },
   {
    "duration": 242,
    "start_time": "2023-05-19T21:13:58.113Z"
   },
   {
    "duration": 39,
    "start_time": "2023-05-19T21:13:58.356Z"
   },
   {
    "duration": 353,
    "start_time": "2023-05-19T21:13:58.479Z"
   },
   {
    "duration": 9,
    "start_time": "2023-05-19T21:13:58.834Z"
   },
   {
    "duration": 307,
    "start_time": "2023-05-19T21:13:58.845Z"
   },
   {
    "duration": 334,
    "start_time": "2023-05-19T21:13:59.154Z"
   },
   {
    "duration": 328,
    "start_time": "2023-05-19T21:13:59.490Z"
   },
   {
    "duration": 9,
    "start_time": "2023-05-19T21:13:59.820Z"
   },
   {
    "duration": 356,
    "start_time": "2023-05-19T21:13:59.883Z"
   },
   {
    "duration": 2,
    "start_time": "2023-05-19T21:14:00.241Z"
   },
   {
    "duration": 30,
    "start_time": "2023-05-19T21:14:00.245Z"
   },
   {
    "duration": 30,
    "start_time": "2023-05-19T21:14:00.276Z"
   },
   {
    "duration": 288,
    "start_time": "2023-05-19T21:14:00.307Z"
   },
   {
    "duration": 454,
    "start_time": "2023-05-19T21:14:00.597Z"
   },
   {
    "duration": 314,
    "start_time": "2023-05-19T21:14:01.052Z"
   },
   {
    "duration": 345,
    "start_time": "2023-05-19T21:14:01.368Z"
   },
   {
    "duration": 570,
    "start_time": "2023-05-19T21:14:01.715Z"
   },
   {
    "duration": 5,
    "start_time": "2023-05-19T21:14:02.295Z"
   },
   {
    "duration": 16,
    "start_time": "2023-05-19T21:14:02.302Z"
   },
   {
    "duration": 6,
    "start_time": "2023-05-19T21:14:02.319Z"
   },
   {
    "duration": 7,
    "start_time": "2023-05-19T21:14:02.327Z"
   },
   {
    "duration": 178,
    "start_time": "2023-05-19T21:14:02.336Z"
   },
   {
    "duration": 14,
    "start_time": "2023-05-19T21:14:02.515Z"
   },
   {
    "duration": 4,
    "start_time": "2023-05-19T21:14:02.531Z"
   },
   {
    "duration": 64,
    "start_time": "2023-05-19T21:14:02.536Z"
   },
   {
    "duration": 12,
    "start_time": "2023-05-19T21:14:02.606Z"
   },
   {
    "duration": 10,
    "start_time": "2023-05-19T21:14:02.687Z"
   },
   {
    "duration": 98,
    "start_time": "2023-05-19T21:14:02.699Z"
   },
   {
    "duration": 13,
    "start_time": "2023-05-19T21:14:02.800Z"
   },
   {
    "duration": 287,
    "start_time": "2023-05-19T21:14:02.814Z"
   },
   {
    "duration": 10,
    "start_time": "2023-05-19T21:14:03.104Z"
   },
   {
    "duration": 20,
    "start_time": "2023-05-19T21:14:03.115Z"
   },
   {
    "duration": 8,
    "start_time": "2023-05-19T21:14:03.137Z"
   },
   {
    "duration": 8,
    "start_time": "2023-05-19T21:14:03.147Z"
   },
   {
    "duration": 494,
    "start_time": "2023-05-19T21:14:03.156Z"
   },
   {
    "duration": 39,
    "start_time": "2023-05-19T21:14:03.652Z"
   },
   {
    "duration": 6,
    "start_time": "2023-05-19T21:14:03.693Z"
   },
   {
    "duration": 50,
    "start_time": "2023-05-19T21:14:03.701Z"
   },
   {
    "duration": 42,
    "start_time": "2023-05-19T21:14:03.752Z"
   },
   {
    "duration": 104,
    "start_time": "2023-05-19T21:14:03.802Z"
   },
   {
    "duration": 255,
    "start_time": "2023-05-19T21:14:03.908Z"
   },
   {
    "duration": 46,
    "start_time": "2023-05-19T21:14:04.177Z"
   },
   {
    "duration": 264,
    "start_time": "2023-05-19T21:14:04.224Z"
   },
   {
    "duration": 13,
    "start_time": "2023-05-19T21:14:04.490Z"
   },
   {
    "duration": 446,
    "start_time": "2023-05-19T21:14:04.505Z"
   },
   {
    "duration": 5,
    "start_time": "2023-05-19T21:14:04.953Z"
   },
   {
    "duration": 544,
    "start_time": "2023-05-19T21:14:04.960Z"
   },
   {
    "duration": 206,
    "start_time": "2023-05-19T21:14:05.506Z"
   },
   {
    "duration": 831,
    "start_time": "2023-05-19T21:14:05.714Z"
   },
   {
    "duration": 115,
    "start_time": "2023-05-19T21:14:06.546Z"
   },
   {
    "duration": 64,
    "start_time": "2023-05-19T21:14:06.662Z"
   },
   {
    "duration": 6,
    "start_time": "2023-05-19T21:14:06.727Z"
   },
   {
    "duration": 4,
    "start_time": "2023-05-19T21:14:06.735Z"
   },
   {
    "duration": 201,
    "start_time": "2023-05-19T21:14:06.741Z"
   },
   {
    "duration": 23,
    "start_time": "2023-05-19T21:14:06.943Z"
   },
   {
    "duration": 22,
    "start_time": "2023-05-19T21:14:06.968Z"
   },
   {
    "duration": 18,
    "start_time": "2023-05-19T21:14:06.992Z"
   },
   {
    "duration": 81,
    "start_time": "2023-05-19T21:14:07.012Z"
   },
   {
    "duration": 97,
    "start_time": "2023-05-19T21:14:07.098Z"
   },
   {
    "duration": 314,
    "start_time": "2023-05-19T21:14:07.197Z"
   },
   {
    "duration": 32,
    "start_time": "2023-05-19T21:14:07.513Z"
   },
   {
    "duration": 307,
    "start_time": "2023-05-19T21:14:07.548Z"
   },
   {
    "duration": 36,
    "start_time": "2023-05-19T21:14:07.856Z"
   },
   {
    "duration": 368,
    "start_time": "2023-05-19T21:14:07.894Z"
   },
   {
    "duration": 4,
    "start_time": "2023-05-19T21:14:08.264Z"
   },
   {
    "duration": 42,
    "start_time": "2023-05-19T21:14:08.269Z"
   },
   {
    "duration": 6,
    "start_time": "2023-05-19T21:14:08.313Z"
   },
   {
    "duration": 212,
    "start_time": "2023-05-19T21:14:08.321Z"
   },
   {
    "duration": 222,
    "start_time": "2023-05-19T21:14:08.534Z"
   },
   {
    "duration": 28,
    "start_time": "2023-05-19T21:14:08.758Z"
   },
   {
    "duration": 206,
    "start_time": "2023-05-19T21:14:08.788Z"
   },
   {
    "duration": 22,
    "start_time": "2023-05-19T21:14:08.996Z"
   },
   {
    "duration": 6,
    "start_time": "2023-05-19T21:14:09.020Z"
   },
   {
    "duration": 322,
    "start_time": "2023-05-19T21:14:09.028Z"
   },
   {
    "duration": 146,
    "start_time": "2023-05-19T21:14:09.352Z"
   },
   {
    "duration": 17,
    "start_time": "2023-05-19T21:14:09.500Z"
   },
   {
    "duration": 362,
    "start_time": "2023-05-19T21:14:09.519Z"
   },
   {
    "duration": 14,
    "start_time": "2023-05-19T21:14:09.884Z"
   },
   {
    "duration": 295,
    "start_time": "2023-05-19T21:14:09.900Z"
   },
   {
    "duration": 36,
    "start_time": "2023-05-19T21:14:10.197Z"
   },
   {
    "duration": 550,
    "start_time": "2023-05-19T21:14:10.235Z"
   },
   {
    "duration": 9990,
    "start_time": "2023-05-19T21:17:06.306Z"
   },
   {
    "duration": 41,
    "start_time": "2023-05-19T21:17:16.298Z"
   },
   {
    "duration": 18,
    "start_time": "2023-05-19T21:17:16.341Z"
   },
   {
    "duration": 17,
    "start_time": "2023-05-19T21:17:16.361Z"
   },
   {
    "duration": 2521,
    "start_time": "2023-05-19T21:17:16.382Z"
   },
   {
    "duration": 39,
    "start_time": "2023-05-19T21:17:18.904Z"
   },
   {
    "duration": 3,
    "start_time": "2023-05-19T21:17:18.944Z"
   },
   {
    "duration": 8,
    "start_time": "2023-05-19T21:17:18.948Z"
   },
   {
    "duration": 23,
    "start_time": "2023-05-19T21:17:18.957Z"
   },
   {
    "duration": 9,
    "start_time": "2023-05-19T21:17:18.984Z"
   },
   {
    "duration": 6,
    "start_time": "2023-05-19T21:17:18.995Z"
   },
   {
    "duration": 9,
    "start_time": "2023-05-19T21:17:19.002Z"
   },
   {
    "duration": 19,
    "start_time": "2023-05-19T21:17:19.013Z"
   },
   {
    "duration": 30,
    "start_time": "2023-05-19T21:17:19.035Z"
   },
   {
    "duration": 8,
    "start_time": "2023-05-19T21:17:19.066Z"
   },
   {
    "duration": 40,
    "start_time": "2023-05-19T21:17:19.076Z"
   },
   {
    "duration": 8,
    "start_time": "2023-05-19T21:17:19.118Z"
   },
   {
    "duration": 14,
    "start_time": "2023-05-19T21:17:19.128Z"
   },
   {
    "duration": 11,
    "start_time": "2023-05-19T21:17:19.144Z"
   },
   {
    "duration": 4,
    "start_time": "2023-05-19T21:17:19.157Z"
   },
   {
    "duration": 9,
    "start_time": "2023-05-19T21:17:19.162Z"
   },
   {
    "duration": 15,
    "start_time": "2023-05-19T21:17:19.172Z"
   },
   {
    "duration": 11,
    "start_time": "2023-05-19T21:17:19.190Z"
   },
   {
    "duration": 12,
    "start_time": "2023-05-19T21:17:19.203Z"
   },
   {
    "duration": 3,
    "start_time": "2023-05-19T21:17:19.217Z"
   },
   {
    "duration": 5,
    "start_time": "2023-05-19T21:17:19.222Z"
   },
   {
    "duration": 12,
    "start_time": "2023-05-19T21:17:19.228Z"
   },
   {
    "duration": 5,
    "start_time": "2023-05-19T21:17:19.241Z"
   },
   {
    "duration": 7,
    "start_time": "2023-05-19T21:17:19.248Z"
   },
   {
    "duration": 9,
    "start_time": "2023-05-19T21:17:19.279Z"
   },
   {
    "duration": 15,
    "start_time": "2023-05-19T21:17:19.293Z"
   },
   {
    "duration": 6,
    "start_time": "2023-05-19T21:17:19.310Z"
   },
   {
    "duration": 8,
    "start_time": "2023-05-19T21:17:19.318Z"
   },
   {
    "duration": 8,
    "start_time": "2023-05-19T21:17:19.328Z"
   },
   {
    "duration": 8,
    "start_time": "2023-05-19T21:17:19.337Z"
   },
   {
    "duration": 44,
    "start_time": "2023-05-19T21:17:19.346Z"
   },
   {
    "duration": 5,
    "start_time": "2023-05-19T21:17:19.392Z"
   },
   {
    "duration": 8,
    "start_time": "2023-05-19T21:17:19.399Z"
   },
   {
    "duration": 13,
    "start_time": "2023-05-19T21:17:19.409Z"
   },
   {
    "duration": 10,
    "start_time": "2023-05-19T21:17:19.424Z"
   },
   {
    "duration": 7,
    "start_time": "2023-05-19T21:17:19.441Z"
   },
   {
    "duration": 5,
    "start_time": "2023-05-19T21:17:19.449Z"
   },
   {
    "duration": 24,
    "start_time": "2023-05-19T21:17:19.455Z"
   },
   {
    "duration": 10,
    "start_time": "2023-05-19T21:17:19.481Z"
   },
   {
    "duration": 7,
    "start_time": "2023-05-19T21:17:19.493Z"
   },
   {
    "duration": 17,
    "start_time": "2023-05-19T21:17:19.503Z"
   },
   {
    "duration": 10,
    "start_time": "2023-05-19T21:17:19.521Z"
   },
   {
    "duration": 9,
    "start_time": "2023-05-19T21:17:19.532Z"
   },
   {
    "duration": 5,
    "start_time": "2023-05-19T21:17:19.542Z"
   },
   {
    "duration": 34,
    "start_time": "2023-05-19T21:17:19.549Z"
   },
   {
    "duration": 19,
    "start_time": "2023-05-19T21:17:19.585Z"
   },
   {
    "duration": 3,
    "start_time": "2023-05-19T21:17:19.606Z"
   },
   {
    "duration": 1231,
    "start_time": "2023-05-19T21:17:19.611Z"
   },
   {
    "duration": 3,
    "start_time": "2023-05-19T21:17:20.844Z"
   },
   {
    "duration": 57,
    "start_time": "2023-05-19T21:17:20.848Z"
   },
   {
    "duration": 31,
    "start_time": "2023-05-19T21:17:20.907Z"
   },
   {
    "duration": 4,
    "start_time": "2023-05-19T21:17:20.940Z"
   },
   {
    "duration": 10,
    "start_time": "2023-05-19T21:17:20.946Z"
   },
   {
    "duration": 16,
    "start_time": "2023-05-19T21:17:20.957Z"
   },
   {
    "duration": 32,
    "start_time": "2023-05-19T21:17:20.975Z"
   },
   {
    "duration": 4,
    "start_time": "2023-05-19T21:17:21.008Z"
   },
   {
    "duration": 6,
    "start_time": "2023-05-19T21:17:21.014Z"
   },
   {
    "duration": 13,
    "start_time": "2023-05-19T21:17:21.021Z"
   },
   {
    "duration": 11,
    "start_time": "2023-05-19T21:17:21.036Z"
   },
   {
    "duration": 6,
    "start_time": "2023-05-19T21:17:21.049Z"
   },
   {
    "duration": 7,
    "start_time": "2023-05-19T21:17:21.057Z"
   },
   {
    "duration": 7,
    "start_time": "2023-05-19T21:17:21.065Z"
   },
   {
    "duration": 15,
    "start_time": "2023-05-19T21:17:21.073Z"
   },
   {
    "duration": 11,
    "start_time": "2023-05-19T21:17:21.090Z"
   },
   {
    "duration": 5,
    "start_time": "2023-05-19T21:17:21.103Z"
   },
   {
    "duration": 5,
    "start_time": "2023-05-19T21:17:21.109Z"
   },
   {
    "duration": 26,
    "start_time": "2023-05-19T21:17:21.115Z"
   },
   {
    "duration": 5,
    "start_time": "2023-05-19T21:17:21.142Z"
   },
   {
    "duration": 293,
    "start_time": "2023-05-19T21:17:21.149Z"
   },
   {
    "duration": 6,
    "start_time": "2023-05-19T21:17:21.444Z"
   },
   {
    "duration": 305,
    "start_time": "2023-05-19T21:17:21.451Z"
   },
   {
    "duration": 6,
    "start_time": "2023-05-19T21:17:21.757Z"
   },
   {
    "duration": 294,
    "start_time": "2023-05-19T21:17:21.765Z"
   },
   {
    "duration": 6,
    "start_time": "2023-05-19T21:17:22.061Z"
   },
   {
    "duration": 291,
    "start_time": "2023-05-19T21:17:22.069Z"
   },
   {
    "duration": 7,
    "start_time": "2023-05-19T21:17:22.361Z"
   },
   {
    "duration": 36,
    "start_time": "2023-05-19T21:17:22.369Z"
   },
   {
    "duration": 14,
    "start_time": "2023-05-19T21:17:22.407Z"
   },
   {
    "duration": 42,
    "start_time": "2023-05-19T21:17:22.423Z"
   },
   {
    "duration": 6,
    "start_time": "2023-05-19T21:17:22.467Z"
   },
   {
    "duration": 20,
    "start_time": "2023-05-19T21:17:22.474Z"
   },
   {
    "duration": 23,
    "start_time": "2023-05-19T21:17:22.497Z"
   },
   {
    "duration": 28,
    "start_time": "2023-05-19T21:17:22.521Z"
   },
   {
    "duration": 27,
    "start_time": "2023-05-19T21:17:22.551Z"
   },
   {
    "duration": 232,
    "start_time": "2023-05-19T21:17:22.587Z"
   },
   {
    "duration": 20,
    "start_time": "2023-05-19T21:17:22.821Z"
   },
   {
    "duration": 5,
    "start_time": "2023-05-19T21:17:22.843Z"
   },
   {
    "duration": 12,
    "start_time": "2023-05-19T21:17:22.850Z"
   },
   {
    "duration": 29,
    "start_time": "2023-05-19T21:17:22.864Z"
   },
   {
    "duration": 26,
    "start_time": "2023-05-19T21:17:22.896Z"
   },
   {
    "duration": 9,
    "start_time": "2023-05-19T21:17:22.924Z"
   },
   {
    "duration": 52,
    "start_time": "2023-05-19T21:17:22.935Z"
   },
   {
    "duration": 14,
    "start_time": "2023-05-19T21:17:23.077Z"
   },
   {
    "duration": 9,
    "start_time": "2023-05-19T21:17:23.093Z"
   },
   {
    "duration": 18,
    "start_time": "2023-05-19T21:17:23.103Z"
   },
   {
    "duration": 271,
    "start_time": "2023-05-19T21:17:23.122Z"
   },
   {
    "duration": 23,
    "start_time": "2023-05-19T21:17:23.396Z"
   },
   {
    "duration": 228,
    "start_time": "2023-05-19T21:17:23.421Z"
   },
   {
    "duration": 38,
    "start_time": "2023-05-19T21:17:23.651Z"
   },
   {
    "duration": 350,
    "start_time": "2023-05-19T21:17:23.691Z"
   },
   {
    "duration": 8,
    "start_time": "2023-05-19T21:17:24.043Z"
   },
   {
    "duration": 308,
    "start_time": "2023-05-19T21:17:24.053Z"
   },
   {
    "duration": 40,
    "start_time": "2023-05-19T21:17:24.362Z"
   },
   {
    "duration": 244,
    "start_time": "2023-05-19T21:17:24.404Z"
   },
   {
    "duration": 45,
    "start_time": "2023-05-19T21:17:24.649Z"
   },
   {
    "duration": 344,
    "start_time": "2023-05-19T21:17:24.697Z"
   },
   {
    "duration": 3,
    "start_time": "2023-05-19T21:17:25.042Z"
   },
   {
    "duration": 7,
    "start_time": "2023-05-19T21:17:25.047Z"
   },
   {
    "duration": 23,
    "start_time": "2023-05-19T21:17:25.056Z"
   },
   {
    "duration": 252,
    "start_time": "2023-05-19T21:17:25.091Z"
   },
   {
    "duration": 340,
    "start_time": "2023-05-19T21:17:25.345Z"
   },
   {
    "duration": 418,
    "start_time": "2023-05-19T21:17:25.692Z"
   },
   {
    "duration": 390,
    "start_time": "2023-05-19T21:17:26.112Z"
   },
   {
    "duration": 593,
    "start_time": "2023-05-19T21:17:26.505Z"
   },
   {
    "duration": 5,
    "start_time": "2023-05-19T21:17:27.182Z"
   },
   {
    "duration": 15,
    "start_time": "2023-05-19T21:17:27.197Z"
   },
   {
    "duration": 7,
    "start_time": "2023-05-19T21:17:27.220Z"
   },
   {
    "duration": 12,
    "start_time": "2023-05-19T21:17:27.229Z"
   },
   {
    "duration": 154,
    "start_time": "2023-05-19T21:17:27.242Z"
   },
   {
    "duration": 15,
    "start_time": "2023-05-19T21:17:27.397Z"
   },
   {
    "duration": 4,
    "start_time": "2023-05-19T21:17:27.414Z"
   },
   {
    "duration": 78,
    "start_time": "2023-05-19T21:17:27.419Z"
   },
   {
    "duration": 10,
    "start_time": "2023-05-19T21:17:27.499Z"
   },
   {
    "duration": 69,
    "start_time": "2023-05-19T21:17:27.511Z"
   },
   {
    "duration": 95,
    "start_time": "2023-05-19T21:17:27.583Z"
   },
   {
    "duration": 25,
    "start_time": "2023-05-19T21:17:27.680Z"
   },
   {
    "duration": 244,
    "start_time": "2023-05-19T21:17:27.707Z"
   },
   {
    "duration": 4,
    "start_time": "2023-05-19T21:17:27.953Z"
   },
   {
    "duration": 32,
    "start_time": "2023-05-19T21:17:27.958Z"
   },
   {
    "duration": 7,
    "start_time": "2023-05-19T21:17:27.993Z"
   },
   {
    "duration": 4,
    "start_time": "2023-05-19T21:17:28.002Z"
   },
   {
    "duration": 462,
    "start_time": "2023-05-19T21:17:28.008Z"
   },
   {
    "duration": 39,
    "start_time": "2023-05-19T21:17:28.472Z"
   },
   {
    "duration": 4,
    "start_time": "2023-05-19T21:17:28.515Z"
   },
   {
    "duration": 68,
    "start_time": "2023-05-19T21:17:28.521Z"
   },
   {
    "duration": 11,
    "start_time": "2023-05-19T21:17:28.591Z"
   },
   {
    "duration": 88,
    "start_time": "2023-05-19T21:17:28.604Z"
   },
   {
    "duration": 355,
    "start_time": "2023-05-19T21:17:28.695Z"
   },
   {
    "duration": 33,
    "start_time": "2023-05-19T21:17:29.052Z"
   },
   {
    "duration": 256,
    "start_time": "2023-05-19T21:17:29.087Z"
   },
   {
    "duration": 40,
    "start_time": "2023-05-19T21:17:29.344Z"
   },
   {
    "duration": 365,
    "start_time": "2023-05-19T21:17:29.387Z"
   },
   {
    "duration": 4,
    "start_time": "2023-05-19T21:17:29.754Z"
   },
   {
    "duration": 34,
    "start_time": "2023-05-19T21:17:29.759Z"
   },
   {
    "duration": 6,
    "start_time": "2023-05-19T21:17:29.795Z"
   },
   {
    "duration": 249,
    "start_time": "2023-05-19T21:17:29.803Z"
   },
   {
    "duration": 4,
    "start_time": "2023-05-19T21:17:30.054Z"
   },
   {
    "duration": 46,
    "start_time": "2023-05-19T21:17:30.060Z"
   },
   {
    "duration": 19,
    "start_time": "2023-05-19T21:17:30.108Z"
   },
   {
    "duration": 25,
    "start_time": "2023-05-19T21:17:30.129Z"
   },
   {
    "duration": 211,
    "start_time": "2023-05-19T21:17:30.156Z"
   },
   {
    "duration": 34,
    "start_time": "2023-05-19T21:17:30.369Z"
   },
   {
    "duration": 14,
    "start_time": "2023-05-19T21:17:30.404Z"
   },
   {
    "duration": 47,
    "start_time": "2023-05-19T21:17:30.420Z"
   },
   {
    "duration": 26,
    "start_time": "2023-05-19T21:17:30.469Z"
   },
   {
    "duration": 90,
    "start_time": "2023-05-19T21:17:30.498Z"
   },
   {
    "duration": 369,
    "start_time": "2023-05-19T21:17:30.590Z"
   },
   {
    "duration": 38,
    "start_time": "2023-05-19T21:17:30.961Z"
   },
   {
    "duration": 266,
    "start_time": "2023-05-19T21:17:31.001Z"
   },
   {
    "duration": 32,
    "start_time": "2023-05-19T21:17:31.268Z"
   },
   {
    "duration": 379,
    "start_time": "2023-05-19T21:17:31.387Z"
   },
   {
    "duration": 4,
    "start_time": "2023-05-19T21:17:31.768Z"
   },
   {
    "duration": 59,
    "start_time": "2023-05-19T21:17:31.778Z"
   },
   {
    "duration": 7,
    "start_time": "2023-05-19T21:17:31.839Z"
   },
   {
    "duration": 222,
    "start_time": "2023-05-19T21:17:31.848Z"
   },
   {
    "duration": 216,
    "start_time": "2023-05-19T21:17:32.086Z"
   },
   {
    "duration": 22,
    "start_time": "2023-05-19T21:17:32.306Z"
   },
   {
    "duration": 190,
    "start_time": "2023-05-19T21:17:32.330Z"
   },
   {
    "duration": 21,
    "start_time": "2023-05-19T21:17:32.522Z"
   },
   {
    "duration": 47,
    "start_time": "2023-05-19T21:17:32.545Z"
   },
   {
    "duration": 335,
    "start_time": "2023-05-19T21:17:32.594Z"
   },
   {
    "duration": 135,
    "start_time": "2023-05-19T21:17:32.931Z"
   },
   {
    "duration": 25,
    "start_time": "2023-05-19T21:17:33.068Z"
   },
   {
    "duration": 318,
    "start_time": "2023-05-19T21:17:33.094Z"
   },
   {
    "duration": 10,
    "start_time": "2023-05-19T21:17:33.414Z"
   },
   {
    "duration": 340,
    "start_time": "2023-05-19T21:17:33.426Z"
   },
   {
    "duration": 52,
    "start_time": "2023-05-19T21:17:33.767Z"
   },
   {
    "duration": 568,
    "start_time": "2023-05-19T21:17:33.820Z"
   },
   {
    "duration": 17,
    "start_time": "2023-05-19T21:19:20.989Z"
   },
   {
    "duration": 12,
    "start_time": "2023-05-19T21:19:29.037Z"
   },
   {
    "duration": 36,
    "start_time": "2023-05-19T21:33:10.673Z"
   },
   {
    "duration": 32,
    "start_time": "2023-05-19T21:33:42.369Z"
   },
   {
    "duration": 10168,
    "start_time": "2023-05-19T21:43:04.207Z"
   },
   {
    "duration": 47,
    "start_time": "2023-05-19T21:43:14.377Z"
   },
   {
    "duration": 18,
    "start_time": "2023-05-19T21:43:14.426Z"
   },
   {
    "duration": 10,
    "start_time": "2023-05-19T21:43:14.446Z"
   },
   {
    "duration": 2697,
    "start_time": "2023-05-19T21:43:14.457Z"
   },
   {
    "duration": 50,
    "start_time": "2023-05-19T21:43:17.155Z"
   },
   {
    "duration": 2,
    "start_time": "2023-05-19T21:43:17.207Z"
   },
   {
    "duration": 8,
    "start_time": "2023-05-19T21:43:17.210Z"
   },
   {
    "duration": 8,
    "start_time": "2023-05-19T21:43:17.219Z"
   },
   {
    "duration": 7,
    "start_time": "2023-05-19T21:43:17.229Z"
   },
   {
    "duration": 9,
    "start_time": "2023-05-19T21:43:17.238Z"
   },
   {
    "duration": 9,
    "start_time": "2023-05-19T21:43:17.249Z"
   },
   {
    "duration": 34,
    "start_time": "2023-05-19T21:43:17.260Z"
   },
   {
    "duration": 7,
    "start_time": "2023-05-19T21:43:17.297Z"
   },
   {
    "duration": 11,
    "start_time": "2023-05-19T21:43:17.306Z"
   },
   {
    "duration": 9,
    "start_time": "2023-05-19T21:43:17.319Z"
   },
   {
    "duration": 11,
    "start_time": "2023-05-19T21:43:17.330Z"
   },
   {
    "duration": 15,
    "start_time": "2023-05-19T21:43:17.343Z"
   },
   {
    "duration": 35,
    "start_time": "2023-05-19T21:43:17.360Z"
   },
   {
    "duration": 5,
    "start_time": "2023-05-19T21:43:17.398Z"
   },
   {
    "duration": 6,
    "start_time": "2023-05-19T21:43:17.404Z"
   },
   {
    "duration": 6,
    "start_time": "2023-05-19T21:43:17.412Z"
   },
   {
    "duration": 20,
    "start_time": "2023-05-19T21:43:17.420Z"
   },
   {
    "duration": 20,
    "start_time": "2023-05-19T21:43:17.443Z"
   },
   {
    "duration": 21,
    "start_time": "2023-05-19T21:43:17.466Z"
   },
   {
    "duration": 8,
    "start_time": "2023-05-19T21:43:17.489Z"
   },
   {
    "duration": 10,
    "start_time": "2023-05-19T21:43:17.499Z"
   },
   {
    "duration": 10,
    "start_time": "2023-05-19T21:43:17.513Z"
   },
   {
    "duration": 26,
    "start_time": "2023-05-19T21:43:17.525Z"
   },
   {
    "duration": 7,
    "start_time": "2023-05-19T21:43:17.553Z"
   },
   {
    "duration": 23,
    "start_time": "2023-05-19T21:43:17.561Z"
   },
   {
    "duration": 9,
    "start_time": "2023-05-19T21:43:17.586Z"
   },
   {
    "duration": 6,
    "start_time": "2023-05-19T21:43:17.597Z"
   },
   {
    "duration": 14,
    "start_time": "2023-05-19T21:43:17.605Z"
   },
   {
    "duration": 9,
    "start_time": "2023-05-19T21:43:17.621Z"
   },
   {
    "duration": 10,
    "start_time": "2023-05-19T21:43:17.632Z"
   },
   {
    "duration": 8,
    "start_time": "2023-05-19T21:43:17.644Z"
   },
   {
    "duration": 7,
    "start_time": "2023-05-19T21:43:17.654Z"
   },
   {
    "duration": 26,
    "start_time": "2023-05-19T21:43:17.663Z"
   },
   {
    "duration": 15,
    "start_time": "2023-05-19T21:43:17.691Z"
   },
   {
    "duration": 34,
    "start_time": "2023-05-19T21:43:17.708Z"
   },
   {
    "duration": 29,
    "start_time": "2023-05-19T21:43:17.744Z"
   },
   {
    "duration": 17,
    "start_time": "2023-05-19T21:43:17.775Z"
   },
   {
    "duration": 6,
    "start_time": "2023-05-19T21:43:17.794Z"
   },
   {
    "duration": 7,
    "start_time": "2023-05-19T21:43:17.802Z"
   },
   {
    "duration": 18,
    "start_time": "2023-05-19T21:43:17.811Z"
   },
   {
    "duration": 13,
    "start_time": "2023-05-19T21:43:17.831Z"
   },
   {
    "duration": 17,
    "start_time": "2023-05-19T21:43:17.846Z"
   },
   {
    "duration": 11,
    "start_time": "2023-05-19T21:43:17.865Z"
   },
   {
    "duration": 12,
    "start_time": "2023-05-19T21:43:17.879Z"
   },
   {
    "duration": 14,
    "start_time": "2023-05-19T21:43:17.892Z"
   },
   {
    "duration": 23,
    "start_time": "2023-05-19T21:43:17.907Z"
   },
   {
    "duration": 3,
    "start_time": "2023-05-19T21:43:17.932Z"
   },
   {
    "duration": 1213,
    "start_time": "2023-05-19T21:43:17.937Z"
   },
   {
    "duration": 4,
    "start_time": "2023-05-19T21:43:19.152Z"
   },
   {
    "duration": 24,
    "start_time": "2023-05-19T21:43:19.157Z"
   },
   {
    "duration": 17,
    "start_time": "2023-05-19T21:43:19.184Z"
   },
   {
    "duration": 4,
    "start_time": "2023-05-19T21:43:19.207Z"
   },
   {
    "duration": 16,
    "start_time": "2023-05-19T21:43:19.213Z"
   },
   {
    "duration": 10,
    "start_time": "2023-05-19T21:43:19.231Z"
   },
   {
    "duration": 54,
    "start_time": "2023-05-19T21:43:19.243Z"
   },
   {
    "duration": 21,
    "start_time": "2023-05-19T21:43:19.299Z"
   },
   {
    "duration": 4,
    "start_time": "2023-05-19T21:43:19.323Z"
   },
   {
    "duration": 5,
    "start_time": "2023-05-19T21:43:19.329Z"
   },
   {
    "duration": 5,
    "start_time": "2023-05-19T21:43:19.335Z"
   },
   {
    "duration": 18,
    "start_time": "2023-05-19T21:43:19.342Z"
   },
   {
    "duration": 27,
    "start_time": "2023-05-19T21:43:19.362Z"
   },
   {
    "duration": 5,
    "start_time": "2023-05-19T21:43:19.396Z"
   },
   {
    "duration": 5,
    "start_time": "2023-05-19T21:43:19.403Z"
   },
   {
    "duration": 10,
    "start_time": "2023-05-19T21:43:19.409Z"
   },
   {
    "duration": 6,
    "start_time": "2023-05-19T21:43:19.420Z"
   },
   {
    "duration": 4,
    "start_time": "2023-05-19T21:43:19.428Z"
   },
   {
    "duration": 4,
    "start_time": "2023-05-19T21:43:19.435Z"
   },
   {
    "duration": 53,
    "start_time": "2023-05-19T21:43:19.441Z"
   },
   {
    "duration": 8,
    "start_time": "2023-05-19T21:43:19.496Z"
   },
   {
    "duration": 263,
    "start_time": "2023-05-19T21:43:19.505Z"
   },
   {
    "duration": 15,
    "start_time": "2023-05-19T21:43:19.770Z"
   },
   {
    "duration": 281,
    "start_time": "2023-05-19T21:43:19.790Z"
   },
   {
    "duration": 9,
    "start_time": "2023-05-19T21:43:20.080Z"
   },
   {
    "duration": 264,
    "start_time": "2023-05-19T21:43:20.091Z"
   },
   {
    "duration": 6,
    "start_time": "2023-05-19T21:43:20.357Z"
   },
   {
    "duration": 285,
    "start_time": "2023-05-19T21:43:20.387Z"
   },
   {
    "duration": 12,
    "start_time": "2023-05-19T21:43:20.674Z"
   },
   {
    "duration": 10,
    "start_time": "2023-05-19T21:43:20.688Z"
   },
   {
    "duration": 8,
    "start_time": "2023-05-19T21:43:20.700Z"
   },
   {
    "duration": 42,
    "start_time": "2023-05-19T21:43:20.710Z"
   },
   {
    "duration": 6,
    "start_time": "2023-05-19T21:43:20.753Z"
   },
   {
    "duration": 20,
    "start_time": "2023-05-19T21:43:20.761Z"
   },
   {
    "duration": 25,
    "start_time": "2023-05-19T21:43:20.783Z"
   },
   {
    "duration": 28,
    "start_time": "2023-05-19T21:43:20.810Z"
   },
   {
    "duration": 50,
    "start_time": "2023-05-19T21:43:20.840Z"
   },
   {
    "duration": 223,
    "start_time": "2023-05-19T21:43:20.894Z"
   },
   {
    "duration": 20,
    "start_time": "2023-05-19T21:43:21.118Z"
   },
   {
    "duration": 5,
    "start_time": "2023-05-19T21:43:21.140Z"
   },
   {
    "duration": 8,
    "start_time": "2023-05-19T21:43:21.147Z"
   },
   {
    "duration": 32,
    "start_time": "2023-05-19T21:43:21.156Z"
   },
   {
    "duration": 23,
    "start_time": "2023-05-19T21:43:21.190Z"
   },
   {
    "duration": 6,
    "start_time": "2023-05-19T21:43:21.215Z"
   },
   {
    "duration": 73,
    "start_time": "2023-05-19T21:43:21.223Z"
   },
   {
    "duration": 92,
    "start_time": "2023-05-19T21:43:21.298Z"
   },
   {
    "duration": 3,
    "start_time": "2023-05-19T21:43:21.393Z"
   },
   {
    "duration": 13,
    "start_time": "2023-05-19T21:43:21.398Z"
   },
   {
    "duration": 271,
    "start_time": "2023-05-19T21:43:21.412Z"
   },
   {
    "duration": 29,
    "start_time": "2023-05-19T21:43:21.686Z"
   },
   {
    "duration": 228,
    "start_time": "2023-05-19T21:43:21.717Z"
   },
   {
    "duration": 36,
    "start_time": "2023-05-19T21:43:21.947Z"
   },
   {
    "duration": 344,
    "start_time": "2023-05-19T21:43:21.986Z"
   },
   {
    "duration": 10,
    "start_time": "2023-05-19T21:43:22.332Z"
   },
   {
    "duration": 303,
    "start_time": "2023-05-19T21:43:22.344Z"
   },
   {
    "duration": 46,
    "start_time": "2023-05-19T21:43:22.649Z"
   },
   {
    "duration": 241,
    "start_time": "2023-05-19T21:43:22.696Z"
   },
   {
    "duration": 48,
    "start_time": "2023-05-19T21:43:22.939Z"
   },
   {
    "duration": 341,
    "start_time": "2023-05-19T21:43:22.990Z"
   },
   {
    "duration": 2,
    "start_time": "2023-05-19T21:43:23.333Z"
   },
   {
    "duration": 16,
    "start_time": "2023-05-19T21:43:23.337Z"
   },
   {
    "duration": 13,
    "start_time": "2023-05-19T21:43:23.354Z"
   },
   {
    "duration": 281,
    "start_time": "2023-05-19T21:43:23.369Z"
   },
   {
    "duration": 310,
    "start_time": "2023-05-19T21:43:23.652Z"
   },
   {
    "duration": 332,
    "start_time": "2023-05-19T21:43:23.964Z"
   },
   {
    "duration": 468,
    "start_time": "2023-05-19T21:43:24.298Z"
   },
   {
    "duration": 609,
    "start_time": "2023-05-19T21:43:24.778Z"
   },
   {
    "duration": 4,
    "start_time": "2023-05-19T21:43:25.389Z"
   },
   {
    "duration": 15,
    "start_time": "2023-05-19T21:43:25.395Z"
   },
   {
    "duration": 78,
    "start_time": "2023-05-19T21:43:25.411Z"
   },
   {
    "duration": 4,
    "start_time": "2023-05-19T21:43:25.492Z"
   },
   {
    "duration": 133,
    "start_time": "2023-05-19T21:43:25.498Z"
   },
   {
    "duration": 16,
    "start_time": "2023-05-19T21:43:25.634Z"
   },
   {
    "duration": 4,
    "start_time": "2023-05-19T21:43:25.652Z"
   },
   {
    "duration": 57,
    "start_time": "2023-05-19T21:43:25.657Z"
   },
   {
    "duration": 11,
    "start_time": "2023-05-19T21:43:25.716Z"
   },
   {
    "duration": 15,
    "start_time": "2023-05-19T21:43:25.783Z"
   },
   {
    "duration": 13,
    "start_time": "2023-05-19T21:43:25.884Z"
   },
   {
    "duration": 7,
    "start_time": "2023-05-19T21:43:25.903Z"
   },
   {
    "duration": 239,
    "start_time": "2023-05-19T21:43:25.912Z"
   },
   {
    "duration": 4,
    "start_time": "2023-05-19T21:43:26.153Z"
   },
   {
    "duration": 36,
    "start_time": "2023-05-19T21:43:26.158Z"
   },
   {
    "duration": 6,
    "start_time": "2023-05-19T21:43:26.196Z"
   },
   {
    "duration": 10,
    "start_time": "2023-05-19T21:43:26.204Z"
   },
   {
    "duration": 487,
    "start_time": "2023-05-19T21:43:26.216Z"
   },
   {
    "duration": 28,
    "start_time": "2023-05-19T21:43:26.704Z"
   },
   {
    "duration": 4,
    "start_time": "2023-05-19T21:43:26.734Z"
   },
   {
    "duration": 73,
    "start_time": "2023-05-19T21:43:26.740Z"
   },
   {
    "duration": 72,
    "start_time": "2023-05-19T21:43:26.814Z"
   },
   {
    "duration": 101,
    "start_time": "2023-05-19T21:43:26.891Z"
   },
   {
    "duration": 277,
    "start_time": "2023-05-19T21:43:26.995Z"
   },
   {
    "duration": 33,
    "start_time": "2023-05-19T21:43:27.285Z"
   },
   {
    "duration": 288,
    "start_time": "2023-05-19T21:43:27.320Z"
   },
   {
    "duration": 88,
    "start_time": "2023-05-19T21:43:27.609Z"
   },
   {
    "duration": 345,
    "start_time": "2023-05-19T21:43:27.698Z"
   },
   {
    "duration": 4,
    "start_time": "2023-05-19T21:43:28.045Z"
   },
   {
    "duration": 15,
    "start_time": "2023-05-19T21:43:28.051Z"
   },
   {
    "duration": 7,
    "start_time": "2023-05-19T21:43:28.087Z"
   },
   {
    "duration": 250,
    "start_time": "2023-05-19T21:43:28.095Z"
   },
   {
    "duration": 3,
    "start_time": "2023-05-19T21:43:28.347Z"
   },
   {
    "duration": 27,
    "start_time": "2023-05-19T21:43:28.352Z"
   },
   {
    "duration": 12,
    "start_time": "2023-05-19T21:43:28.382Z"
   },
   {
    "duration": 4,
    "start_time": "2023-05-19T21:43:28.396Z"
   },
   {
    "duration": 196,
    "start_time": "2023-05-19T21:43:28.401Z"
   },
   {
    "duration": 21,
    "start_time": "2023-05-19T21:43:28.598Z"
   },
   {
    "duration": 4,
    "start_time": "2023-05-19T21:43:28.621Z"
   },
   {
    "duration": 22,
    "start_time": "2023-05-19T21:43:28.626Z"
   },
   {
    "duration": 38,
    "start_time": "2023-05-19T21:43:28.649Z"
   },
   {
    "duration": 11,
    "start_time": "2023-05-19T21:43:28.689Z"
   },
   {
    "duration": 277,
    "start_time": "2023-05-19T21:43:28.784Z"
   },
   {
    "duration": 38,
    "start_time": "2023-05-19T21:43:29.063Z"
   },
   {
    "duration": 243,
    "start_time": "2023-05-19T21:43:29.103Z"
   },
   {
    "duration": 129,
    "start_time": "2023-05-19T21:43:29.348Z"
   },
   {
    "duration": 282,
    "start_time": "2023-05-19T21:43:29.479Z"
   },
   {
    "duration": 4,
    "start_time": "2023-05-19T21:43:29.763Z"
   },
   {
    "duration": 35,
    "start_time": "2023-05-19T21:43:29.778Z"
   },
   {
    "duration": 6,
    "start_time": "2023-05-19T21:43:29.815Z"
   },
   {
    "duration": 200,
    "start_time": "2023-05-19T21:43:29.822Z"
   },
   {
    "duration": 233,
    "start_time": "2023-05-19T21:43:30.025Z"
   },
   {
    "duration": 32,
    "start_time": "2023-05-19T21:43:30.260Z"
   },
   {
    "duration": 192,
    "start_time": "2023-05-19T21:43:30.294Z"
   },
   {
    "duration": 30,
    "start_time": "2023-05-19T21:43:30.488Z"
   },
   {
    "duration": 10,
    "start_time": "2023-05-19T21:43:30.519Z"
   },
   {
    "duration": 302,
    "start_time": "2023-05-19T21:43:30.589Z"
   },
   {
    "duration": 124,
    "start_time": "2023-05-19T21:43:30.895Z"
   },
   {
    "duration": 15,
    "start_time": "2023-05-19T21:43:31.021Z"
   },
   {
    "duration": 325,
    "start_time": "2023-05-19T21:43:31.038Z"
   },
   {
    "duration": 31,
    "start_time": "2023-05-19T21:43:31.364Z"
   },
   {
    "duration": 333,
    "start_time": "2023-05-19T21:43:31.397Z"
   },
   {
    "duration": 61,
    "start_time": "2023-05-19T21:43:31.732Z"
   },
   {
    "duration": 505,
    "start_time": "2023-05-19T21:43:31.794Z"
   },
   {
    "duration": 281,
    "start_time": "2023-05-19T21:48:09.831Z"
   },
   {
    "duration": 301,
    "start_time": "2023-05-19T21:48:22.554Z"
   },
   {
    "duration": 47,
    "start_time": "2023-05-20T23:55:43.060Z"
   },
   {
    "duration": 1772,
    "start_time": "2023-05-20T23:55:53.647Z"
   },
   {
    "duration": 376,
    "start_time": "2023-05-20T23:55:55.421Z"
   },
   {
    "duration": 23,
    "start_time": "2023-05-20T23:55:55.799Z"
   },
   {
    "duration": 19,
    "start_time": "2023-05-20T23:55:55.828Z"
   },
   {
    "duration": 1591,
    "start_time": "2023-05-20T23:55:55.849Z"
   },
   {
    "duration": 43,
    "start_time": "2023-05-20T23:55:57.441Z"
   },
   {
    "duration": 3,
    "start_time": "2023-05-20T23:55:57.485Z"
   },
   {
    "duration": 7,
    "start_time": "2023-05-20T23:55:57.490Z"
   },
   {
    "duration": 27,
    "start_time": "2023-05-20T23:55:57.498Z"
   },
   {
    "duration": 5,
    "start_time": "2023-05-20T23:55:57.529Z"
   },
   {
    "duration": 9,
    "start_time": "2023-05-20T23:55:57.535Z"
   },
   {
    "duration": 5,
    "start_time": "2023-05-20T23:55:57.545Z"
   },
   {
    "duration": 4,
    "start_time": "2023-05-20T23:55:57.552Z"
   },
   {
    "duration": 7,
    "start_time": "2023-05-20T23:55:57.557Z"
   },
   {
    "duration": 7,
    "start_time": "2023-05-20T23:55:57.565Z"
   },
   {
    "duration": 10,
    "start_time": "2023-05-20T23:55:57.573Z"
   },
   {
    "duration": 47,
    "start_time": "2023-05-20T23:55:57.584Z"
   },
   {
    "duration": 14,
    "start_time": "2023-05-20T23:55:57.633Z"
   },
   {
    "duration": 9,
    "start_time": "2023-05-20T23:55:57.649Z"
   },
   {
    "duration": 5,
    "start_time": "2023-05-20T23:55:57.660Z"
   },
   {
    "duration": 5,
    "start_time": "2023-05-20T23:55:57.666Z"
   },
   {
    "duration": 5,
    "start_time": "2023-05-20T23:55:57.672Z"
   },
   {
    "duration": 15,
    "start_time": "2023-05-20T23:55:57.678Z"
   },
   {
    "duration": 41,
    "start_time": "2023-05-20T23:55:57.695Z"
   },
   {
    "duration": 5,
    "start_time": "2023-05-20T23:55:57.737Z"
   },
   {
    "duration": 6,
    "start_time": "2023-05-20T23:55:57.743Z"
   },
   {
    "duration": 10,
    "start_time": "2023-05-20T23:55:57.750Z"
   },
   {
    "duration": 5,
    "start_time": "2023-05-20T23:55:57.766Z"
   },
   {
    "duration": 6,
    "start_time": "2023-05-20T23:55:57.773Z"
   },
   {
    "duration": 4,
    "start_time": "2023-05-20T23:55:57.781Z"
   },
   {
    "duration": 20,
    "start_time": "2023-05-20T23:55:57.826Z"
   },
   {
    "duration": 9,
    "start_time": "2023-05-20T23:55:57.848Z"
   },
   {
    "duration": 5,
    "start_time": "2023-05-20T23:55:57.858Z"
   },
   {
    "duration": 7,
    "start_time": "2023-05-20T23:55:57.865Z"
   },
   {
    "duration": 13,
    "start_time": "2023-05-20T23:55:57.874Z"
   },
   {
    "duration": 31,
    "start_time": "2023-05-20T23:55:57.889Z"
   },
   {
    "duration": 12,
    "start_time": "2023-05-20T23:55:57.924Z"
   },
   {
    "duration": 10,
    "start_time": "2023-05-20T23:55:57.938Z"
   },
   {
    "duration": 10,
    "start_time": "2023-05-20T23:55:57.950Z"
   },
   {
    "duration": 10,
    "start_time": "2023-05-20T23:55:57.962Z"
   },
   {
    "duration": 9,
    "start_time": "2023-05-20T23:55:57.974Z"
   },
   {
    "duration": 14,
    "start_time": "2023-05-20T23:55:57.984Z"
   },
   {
    "duration": 37,
    "start_time": "2023-05-20T23:55:57.999Z"
   },
   {
    "duration": 6,
    "start_time": "2023-05-20T23:55:58.039Z"
   },
   {
    "duration": 11,
    "start_time": "2023-05-20T23:55:58.048Z"
   },
   {
    "duration": 8,
    "start_time": "2023-05-20T23:55:58.061Z"
   },
   {
    "duration": 7,
    "start_time": "2023-05-20T23:55:58.070Z"
   },
   {
    "duration": 10,
    "start_time": "2023-05-20T23:55:58.079Z"
   },
   {
    "duration": 9,
    "start_time": "2023-05-20T23:55:58.091Z"
   },
   {
    "duration": 6,
    "start_time": "2023-05-20T23:55:58.102Z"
   },
   {
    "duration": 26,
    "start_time": "2023-05-20T23:55:58.109Z"
   },
   {
    "duration": 25,
    "start_time": "2023-05-20T23:55:58.137Z"
   },
   {
    "duration": 5,
    "start_time": "2023-05-20T23:55:58.163Z"
   },
   {
    "duration": 6,
    "start_time": "2023-05-20T23:55:58.169Z"
   },
   {
    "duration": 9,
    "start_time": "2023-05-20T23:55:58.177Z"
   },
   {
    "duration": 10,
    "start_time": "2023-05-20T23:55:58.187Z"
   },
   {
    "duration": 26,
    "start_time": "2023-05-20T23:55:58.199Z"
   },
   {
    "duration": 8,
    "start_time": "2023-05-20T23:55:58.227Z"
   },
   {
    "duration": 14,
    "start_time": "2023-05-20T23:55:58.237Z"
   },
   {
    "duration": 17,
    "start_time": "2023-05-20T23:55:58.252Z"
   },
   {
    "duration": 10,
    "start_time": "2023-05-20T23:55:58.271Z"
   },
   {
    "duration": 16,
    "start_time": "2023-05-20T23:55:58.283Z"
   },
   {
    "duration": 4,
    "start_time": "2023-05-20T23:55:58.301Z"
   },
   {
    "duration": 72,
    "start_time": "2023-05-20T23:55:58.307Z"
   },
   {
    "duration": 14,
    "start_time": "2023-05-20T23:55:58.381Z"
   },
   {
    "duration": 9,
    "start_time": "2023-05-20T23:55:58.396Z"
   },
   {
    "duration": 20,
    "start_time": "2023-05-20T23:55:58.407Z"
   },
   {
    "duration": 169,
    "start_time": "2023-05-20T23:55:58.428Z"
   },
   {
    "duration": 8,
    "start_time": "2023-05-20T23:55:58.599Z"
   },
   {
    "duration": 177,
    "start_time": "2023-05-20T23:55:58.609Z"
   },
   {
    "duration": 8,
    "start_time": "2023-05-20T23:55:58.788Z"
   },
   {
    "duration": 183,
    "start_time": "2023-05-20T23:55:58.797Z"
   },
   {
    "duration": 1373,
    "start_time": "2023-05-20T23:55:58.981Z"
   },
   {
    "duration": 8,
    "start_time": "2023-05-20T23:56:00.356Z"
   },
   {
    "duration": 177,
    "start_time": "2023-05-20T23:56:00.365Z"
   },
   {
    "duration": 9,
    "start_time": "2023-05-20T23:56:00.545Z"
   },
   {
    "duration": 153,
    "start_time": "2023-05-20T23:56:00.555Z"
   },
   {
    "duration": 18,
    "start_time": "2023-05-20T23:56:00.710Z"
   },
   {
    "duration": 181,
    "start_time": "2023-05-20T23:56:00.730Z"
   },
   {
    "duration": 4,
    "start_time": "2023-05-20T23:56:00.913Z"
   },
   {
    "duration": 35,
    "start_time": "2023-05-20T23:56:00.925Z"
   },
   {
    "duration": 45,
    "start_time": "2023-05-20T23:56:00.968Z"
   },
   {
    "duration": 41,
    "start_time": "2023-05-20T23:56:01.014Z"
   },
   {
    "duration": 155,
    "start_time": "2023-05-20T23:56:01.057Z"
   },
   {
    "duration": 21,
    "start_time": "2023-05-20T23:56:01.214Z"
   },
   {
    "duration": 275,
    "start_time": "2023-05-20T23:56:01.238Z"
   },
   {
    "duration": 23,
    "start_time": "2023-05-20T23:56:01.515Z"
   },
   {
    "duration": 153,
    "start_time": "2023-05-20T23:56:01.540Z"
   },
   {
    "duration": 7,
    "start_time": "2023-05-20T23:56:01.694Z"
   },
   {
    "duration": 147,
    "start_time": "2023-05-20T23:56:01.702Z"
   },
   {
    "duration": 9,
    "start_time": "2023-05-20T23:56:01.851Z"
   },
   {
    "duration": 31,
    "start_time": "2023-05-20T23:56:01.861Z"
   },
   {
    "duration": 24,
    "start_time": "2023-05-20T23:56:01.894Z"
   },
   {
    "duration": 46,
    "start_time": "2023-05-20T23:56:01.921Z"
   },
   {
    "duration": 7,
    "start_time": "2023-05-20T23:56:01.969Z"
   },
   {
    "duration": 15,
    "start_time": "2023-05-20T23:56:01.978Z"
   },
   {
    "duration": 43,
    "start_time": "2023-05-20T23:56:01.995Z"
   },
   {
    "duration": 9,
    "start_time": "2023-05-20T23:56:02.041Z"
   },
   {
    "duration": 21,
    "start_time": "2023-05-20T23:56:02.052Z"
   },
   {
    "duration": 127,
    "start_time": "2023-05-20T23:56:02.075Z"
   },
   {
    "duration": 26,
    "start_time": "2023-05-20T23:56:02.204Z"
   },
   {
    "duration": 10,
    "start_time": "2023-05-20T23:56:02.234Z"
   },
   {
    "duration": 13,
    "start_time": "2023-05-20T23:56:02.246Z"
   },
   {
    "duration": 26,
    "start_time": "2023-05-20T23:56:02.261Z"
   },
   {
    "duration": 39,
    "start_time": "2023-05-20T23:56:02.289Z"
   },
   {
    "duration": 98,
    "start_time": "2023-05-20T23:56:02.330Z"
   },
   {
    "duration": 10,
    "start_time": "2023-05-20T23:56:02.430Z"
   },
   {
    "duration": 99,
    "start_time": "2023-05-20T23:56:02.442Z"
   },
   {
    "duration": 11,
    "start_time": "2023-05-20T23:56:02.543Z"
   },
   {
    "duration": 17,
    "start_time": "2023-05-20T23:56:02.555Z"
   },
   {
    "duration": 97,
    "start_time": "2023-05-20T23:56:02.573Z"
   },
   {
    "duration": 16,
    "start_time": "2023-05-20T23:56:02.672Z"
   },
   {
    "duration": 104,
    "start_time": "2023-05-20T23:56:02.689Z"
   },
   {
    "duration": 44,
    "start_time": "2023-05-20T23:56:02.794Z"
   },
   {
    "duration": 170,
    "start_time": "2023-05-20T23:56:02.840Z"
   },
   {
    "duration": 16,
    "start_time": "2023-05-20T23:56:03.025Z"
   },
   {
    "duration": 128,
    "start_time": "2023-05-20T23:56:03.043Z"
   },
   {
    "duration": 17,
    "start_time": "2023-05-20T23:56:03.173Z"
   },
   {
    "duration": 108,
    "start_time": "2023-05-20T23:56:03.192Z"
   },
   {
    "duration": 42,
    "start_time": "2023-05-20T23:56:03.302Z"
   },
   {
    "duration": 239,
    "start_time": "2023-05-20T23:56:03.357Z"
   },
   {
    "duration": 2,
    "start_time": "2023-05-20T23:56:03.598Z"
   },
   {
    "duration": 11,
    "start_time": "2023-05-20T23:56:03.602Z"
   },
   {
    "duration": 18,
    "start_time": "2023-05-20T23:56:03.614Z"
   },
   {
    "duration": 121,
    "start_time": "2023-05-20T23:56:03.634Z"
   },
   {
    "duration": 175,
    "start_time": "2023-05-20T23:56:03.757Z"
   },
   {
    "duration": 195,
    "start_time": "2023-05-20T23:56:03.935Z"
   },
   {
    "duration": 196,
    "start_time": "2023-05-20T23:56:04.133Z"
   },
   {
    "duration": 505,
    "start_time": "2023-05-20T23:56:04.331Z"
   },
   {
    "duration": 5,
    "start_time": "2023-05-20T23:56:04.838Z"
   },
   {
    "duration": 96,
    "start_time": "2023-05-20T23:56:04.845Z"
   },
   {
    "duration": 5,
    "start_time": "2023-05-20T23:56:04.943Z"
   },
   {
    "duration": 8,
    "start_time": "2023-05-20T23:56:04.950Z"
   },
   {
    "duration": 190,
    "start_time": "2023-05-20T23:56:04.960Z"
   },
   {
    "duration": 15,
    "start_time": "2023-05-20T23:56:05.152Z"
   },
   {
    "duration": 3,
    "start_time": "2023-05-20T23:56:05.169Z"
   },
   {
    "duration": 28,
    "start_time": "2023-05-20T23:56:05.174Z"
   },
   {
    "duration": 42,
    "start_time": "2023-05-20T23:56:05.204Z"
   },
   {
    "duration": 86,
    "start_time": "2023-05-20T23:56:05.248Z"
   },
   {
    "duration": 94,
    "start_time": "2023-05-20T23:56:05.338Z"
   },
   {
    "duration": 6,
    "start_time": "2023-05-20T23:56:05.439Z"
   },
   {
    "duration": 116,
    "start_time": "2023-05-20T23:56:05.446Z"
   },
   {
    "duration": 4,
    "start_time": "2023-05-20T23:56:05.564Z"
   },
   {
    "duration": 22,
    "start_time": "2023-05-20T23:56:05.569Z"
   },
   {
    "duration": 6,
    "start_time": "2023-05-20T23:56:05.593Z"
   },
   {
    "duration": 5,
    "start_time": "2023-05-20T23:56:05.600Z"
   },
   {
    "duration": 155,
    "start_time": "2023-05-20T23:56:05.626Z"
   },
   {
    "duration": 15,
    "start_time": "2023-05-20T23:56:05.783Z"
   },
   {
    "duration": 6,
    "start_time": "2023-05-20T23:56:05.799Z"
   },
   {
    "duration": 55,
    "start_time": "2023-05-20T23:56:05.806Z"
   },
   {
    "duration": 10,
    "start_time": "2023-05-20T23:56:05.863Z"
   },
   {
    "duration": 11,
    "start_time": "2023-05-20T23:56:05.926Z"
   },
   {
    "duration": 222,
    "start_time": "2023-05-20T23:56:05.940Z"
   },
   {
    "duration": 16,
    "start_time": "2023-05-20T23:56:06.163Z"
   },
   {
    "duration": 120,
    "start_time": "2023-05-20T23:56:06.181Z"
   },
   {
    "duration": 36,
    "start_time": "2023-05-20T23:56:06.303Z"
   },
   {
    "duration": 167,
    "start_time": "2023-05-20T23:56:06.426Z"
   },
   {
    "duration": 4,
    "start_time": "2023-05-20T23:56:06.594Z"
   },
   {
    "duration": 12,
    "start_time": "2023-05-20T23:56:06.600Z"
   },
   {
    "duration": 14,
    "start_time": "2023-05-20T23:56:06.613Z"
   },
   {
    "duration": 115,
    "start_time": "2023-05-20T23:56:06.629Z"
   },
   {
    "duration": 3,
    "start_time": "2023-05-20T23:56:06.746Z"
   },
   {
    "duration": 13,
    "start_time": "2023-05-20T23:56:06.750Z"
   },
   {
    "duration": 5,
    "start_time": "2023-05-20T23:56:06.764Z"
   },
   {
    "duration": 5,
    "start_time": "2023-05-20T23:56:06.771Z"
   },
   {
    "duration": 137,
    "start_time": "2023-05-20T23:56:06.778Z"
   },
   {
    "duration": 26,
    "start_time": "2023-05-20T23:56:06.916Z"
   },
   {
    "duration": 4,
    "start_time": "2023-05-20T23:56:06.943Z"
   },
   {
    "duration": 17,
    "start_time": "2023-05-20T23:56:06.948Z"
   },
   {
    "duration": 80,
    "start_time": "2023-05-20T23:56:06.966Z"
   },
   {
    "duration": 12,
    "start_time": "2023-05-20T23:56:07.133Z"
   },
   {
    "duration": 119,
    "start_time": "2023-05-20T23:56:07.146Z"
   },
   {
    "duration": 22,
    "start_time": "2023-05-20T23:56:07.267Z"
   },
   {
    "duration": 129,
    "start_time": "2023-05-20T23:56:07.291Z"
   },
   {
    "duration": 27,
    "start_time": "2023-05-20T23:56:07.425Z"
   },
   {
    "duration": 203,
    "start_time": "2023-05-20T23:56:07.527Z"
   },
   {
    "duration": 6,
    "start_time": "2023-05-20T23:56:07.732Z"
   },
   {
    "duration": 25,
    "start_time": "2023-05-20T23:56:07.740Z"
   },
   {
    "duration": 6,
    "start_time": "2023-05-20T23:56:07.766Z"
   },
   {
    "duration": 153,
    "start_time": "2023-05-20T23:56:07.773Z"
   },
   {
    "duration": 123,
    "start_time": "2023-05-20T23:56:07.928Z"
   },
   {
    "duration": 13,
    "start_time": "2023-05-20T23:56:08.052Z"
   },
   {
    "duration": 145,
    "start_time": "2023-05-20T23:56:08.066Z"
   },
   {
    "duration": 30,
    "start_time": "2023-05-20T23:56:08.224Z"
   },
   {
    "duration": 70,
    "start_time": "2023-05-20T23:56:08.256Z"
   },
   {
    "duration": 252,
    "start_time": "2023-05-20T23:56:08.328Z"
   },
   {
    "duration": 161,
    "start_time": "2023-05-20T23:56:08.581Z"
   },
   {
    "duration": 14,
    "start_time": "2023-05-20T23:56:08.744Z"
   },
   {
    "duration": 221,
    "start_time": "2023-05-20T23:56:08.760Z"
   },
   {
    "duration": 210,
    "start_time": "2023-05-20T23:56:08.984Z"
   },
   {
    "duration": 41,
    "start_time": "2023-05-20T23:56:09.196Z"
   },
   {
    "duration": 406,
    "start_time": "2023-05-20T23:56:09.239Z"
   },
   {
    "duration": 29478,
    "start_time": "2023-05-20T23:57:23.295Z"
   },
   {
    "duration": 45,
    "start_time": "2023-05-20T23:57:52.775Z"
   },
   {
    "duration": 25,
    "start_time": "2023-05-20T23:57:52.821Z"
   },
   {
    "duration": 11,
    "start_time": "2023-05-20T23:57:52.848Z"
   },
   {
    "duration": 2434,
    "start_time": "2023-05-20T23:57:52.861Z"
   },
   {
    "duration": 49,
    "start_time": "2023-05-20T23:57:55.297Z"
   },
   {
    "duration": 5,
    "start_time": "2023-05-20T23:57:55.349Z"
   },
   {
    "duration": 12,
    "start_time": "2023-05-20T23:57:55.355Z"
   },
   {
    "duration": 9,
    "start_time": "2023-05-20T23:57:55.369Z"
   },
   {
    "duration": 9,
    "start_time": "2023-05-20T23:57:55.381Z"
   },
   {
    "duration": 15,
    "start_time": "2023-05-20T23:57:55.392Z"
   },
   {
    "duration": 21,
    "start_time": "2023-05-20T23:57:55.409Z"
   },
   {
    "duration": 6,
    "start_time": "2023-05-20T23:57:55.432Z"
   },
   {
    "duration": 6,
    "start_time": "2023-05-20T23:57:55.439Z"
   },
   {
    "duration": 12,
    "start_time": "2023-05-20T23:57:55.447Z"
   },
   {
    "duration": 9,
    "start_time": "2023-05-20T23:57:55.461Z"
   },
   {
    "duration": 15,
    "start_time": "2023-05-20T23:57:55.472Z"
   },
   {
    "duration": 21,
    "start_time": "2023-05-20T23:57:55.488Z"
   },
   {
    "duration": 23,
    "start_time": "2023-05-20T23:57:55.511Z"
   },
   {
    "duration": 4,
    "start_time": "2023-05-20T23:57:55.537Z"
   },
   {
    "duration": 4,
    "start_time": "2023-05-20T23:57:55.543Z"
   },
   {
    "duration": 5,
    "start_time": "2023-05-20T23:57:55.549Z"
   },
   {
    "duration": 23,
    "start_time": "2023-05-20T23:57:55.555Z"
   },
   {
    "duration": 14,
    "start_time": "2023-05-20T23:57:55.580Z"
   },
   {
    "duration": 5,
    "start_time": "2023-05-20T23:57:55.596Z"
   },
   {
    "duration": 25,
    "start_time": "2023-05-20T23:57:55.602Z"
   },
   {
    "duration": 10,
    "start_time": "2023-05-20T23:57:55.629Z"
   },
   {
    "duration": 7,
    "start_time": "2023-05-20T23:57:55.643Z"
   },
   {
    "duration": 13,
    "start_time": "2023-05-20T23:57:55.652Z"
   },
   {
    "duration": 16,
    "start_time": "2023-05-20T23:57:55.666Z"
   },
   {
    "duration": 15,
    "start_time": "2023-05-20T23:57:55.684Z"
   },
   {
    "duration": 5,
    "start_time": "2023-05-20T23:57:55.701Z"
   },
   {
    "duration": 18,
    "start_time": "2023-05-20T23:57:55.708Z"
   },
   {
    "duration": 14,
    "start_time": "2023-05-20T23:57:55.728Z"
   },
   {
    "duration": 10,
    "start_time": "2023-05-20T23:57:55.744Z"
   },
   {
    "duration": 6,
    "start_time": "2023-05-20T23:57:55.755Z"
   },
   {
    "duration": 7,
    "start_time": "2023-05-20T23:57:55.763Z"
   },
   {
    "duration": 8,
    "start_time": "2023-05-20T23:57:55.771Z"
   },
   {
    "duration": 8,
    "start_time": "2023-05-20T23:57:55.781Z"
   },
   {
    "duration": 7,
    "start_time": "2023-05-20T23:57:55.790Z"
   },
   {
    "duration": 14,
    "start_time": "2023-05-20T23:57:55.826Z"
   },
   {
    "duration": 5,
    "start_time": "2023-05-20T23:57:55.842Z"
   },
   {
    "duration": 10,
    "start_time": "2023-05-20T23:57:55.848Z"
   },
   {
    "duration": 8,
    "start_time": "2023-05-20T23:57:55.859Z"
   },
   {
    "duration": 9,
    "start_time": "2023-05-20T23:57:55.869Z"
   },
   {
    "duration": 14,
    "start_time": "2023-05-20T23:57:55.879Z"
   },
   {
    "duration": 14,
    "start_time": "2023-05-20T23:57:55.895Z"
   },
   {
    "duration": 27,
    "start_time": "2023-05-20T23:57:55.911Z"
   },
   {
    "duration": 5,
    "start_time": "2023-05-20T23:57:55.940Z"
   },
   {
    "duration": 41,
    "start_time": "2023-05-20T23:57:55.946Z"
   },
   {
    "duration": 43,
    "start_time": "2023-05-20T23:57:55.989Z"
   },
   {
    "duration": 22,
    "start_time": "2023-05-20T23:57:56.034Z"
   },
   {
    "duration": 3,
    "start_time": "2023-05-20T23:57:56.058Z"
   },
   {
    "duration": 9,
    "start_time": "2023-05-20T23:57:56.063Z"
   },
   {
    "duration": 6,
    "start_time": "2023-05-20T23:57:56.073Z"
   },
   {
    "duration": 10,
    "start_time": "2023-05-20T23:57:56.080Z"
   },
   {
    "duration": 6,
    "start_time": "2023-05-20T23:57:56.091Z"
   },
   {
    "duration": 36,
    "start_time": "2023-05-20T23:57:56.098Z"
   },
   {
    "duration": 10,
    "start_time": "2023-05-20T23:57:56.136Z"
   },
   {
    "duration": 7,
    "start_time": "2023-05-20T23:57:56.148Z"
   },
   {
    "duration": 8,
    "start_time": "2023-05-20T23:57:56.156Z"
   },
   {
    "duration": 6,
    "start_time": "2023-05-20T23:57:56.166Z"
   },
   {
    "duration": 11,
    "start_time": "2023-05-20T23:57:56.173Z"
   },
   {
    "duration": 21,
    "start_time": "2023-05-20T23:57:56.186Z"
   },
   {
    "duration": 25,
    "start_time": "2023-05-20T23:57:56.209Z"
   },
   {
    "duration": 8,
    "start_time": "2023-05-20T23:57:56.236Z"
   },
   {
    "duration": 16,
    "start_time": "2023-05-20T23:57:56.246Z"
   },
   {
    "duration": 311,
    "start_time": "2023-05-20T23:57:56.263Z"
   },
   {
    "duration": 8,
    "start_time": "2023-05-20T23:57:56.576Z"
   },
   {
    "duration": 345,
    "start_time": "2023-05-20T23:57:56.585Z"
   },
   {
    "duration": 10,
    "start_time": "2023-05-20T23:57:56.932Z"
   },
   {
    "duration": 330,
    "start_time": "2023-05-20T23:57:56.944Z"
   },
   {
    "duration": 1370,
    "start_time": "2023-05-20T23:57:57.276Z"
   },
   {
    "duration": 7,
    "start_time": "2023-05-20T23:57:58.648Z"
   },
   {
    "duration": 326,
    "start_time": "2023-05-20T23:57:58.657Z"
   },
   {
    "duration": 8,
    "start_time": "2023-05-20T23:57:58.985Z"
   },
   {
    "duration": 346,
    "start_time": "2023-05-20T23:57:58.995Z"
   },
   {
    "duration": 7,
    "start_time": "2023-05-20T23:57:59.343Z"
   },
   {
    "duration": 324,
    "start_time": "2023-05-20T23:57:59.352Z"
   },
   {
    "duration": 5,
    "start_time": "2023-05-20T23:57:59.678Z"
   },
   {
    "duration": 6,
    "start_time": "2023-05-20T23:57:59.685Z"
   },
   {
    "duration": 24,
    "start_time": "2023-05-20T23:57:59.701Z"
   },
   {
    "duration": 9,
    "start_time": "2023-05-20T23:57:59.728Z"
   },
   {
    "duration": 278,
    "start_time": "2023-05-20T23:57:59.739Z"
   },
   {
    "duration": 11,
    "start_time": "2023-05-20T23:58:00.024Z"
   },
   {
    "duration": 267,
    "start_time": "2023-05-20T23:58:00.038Z"
   },
   {
    "duration": 5,
    "start_time": "2023-05-20T23:58:00.307Z"
   },
   {
    "duration": 283,
    "start_time": "2023-05-20T23:58:00.314Z"
   },
   {
    "duration": 6,
    "start_time": "2023-05-20T23:58:00.599Z"
   },
   {
    "duration": 300,
    "start_time": "2023-05-20T23:58:00.606Z"
   },
   {
    "duration": 7,
    "start_time": "2023-05-20T23:58:00.907Z"
   },
   {
    "duration": 80,
    "start_time": "2023-05-20T23:58:00.925Z"
   },
   {
    "duration": 45,
    "start_time": "2023-05-20T23:58:01.007Z"
   },
   {
    "duration": 53,
    "start_time": "2023-05-20T23:58:01.054Z"
   },
   {
    "duration": 40,
    "start_time": "2023-05-20T23:58:01.109Z"
   },
   {
    "duration": 124,
    "start_time": "2023-05-20T23:58:01.151Z"
   },
   {
    "duration": 85,
    "start_time": "2023-05-20T23:58:01.276Z"
   },
   {
    "duration": 56,
    "start_time": "2023-05-20T23:58:01.363Z"
   },
   {
    "duration": 41,
    "start_time": "2023-05-20T23:58:01.421Z"
   },
   {
    "duration": 151,
    "start_time": "2023-05-20T23:58:01.463Z"
   },
   {
    "duration": 25,
    "start_time": "2023-05-20T23:58:01.616Z"
   },
   {
    "duration": 42,
    "start_time": "2023-05-20T23:58:01.646Z"
   },
   {
    "duration": 38,
    "start_time": "2023-05-20T23:58:01.689Z"
   },
   {
    "duration": 23,
    "start_time": "2023-05-20T23:58:01.735Z"
   },
   {
    "duration": 39,
    "start_time": "2023-05-20T23:58:01.760Z"
   },
   {
    "duration": 25,
    "start_time": "2023-05-20T23:58:01.801Z"
   },
   {
    "duration": 11,
    "start_time": "2023-05-20T23:58:01.828Z"
   },
   {
    "duration": 98,
    "start_time": "2023-05-20T23:58:01.842Z"
   },
   {
    "duration": 19,
    "start_time": "2023-05-20T23:58:01.943Z"
   },
   {
    "duration": 20,
    "start_time": "2023-05-20T23:58:01.964Z"
   },
   {
    "duration": 286,
    "start_time": "2023-05-20T23:58:01.986Z"
   },
   {
    "duration": 15,
    "start_time": "2023-05-20T23:58:02.274Z"
   },
   {
    "duration": 284,
    "start_time": "2023-05-20T23:58:02.291Z"
   },
   {
    "duration": 149,
    "start_time": "2023-05-20T23:58:02.578Z"
   },
   {
    "duration": 254,
    "start_time": "2023-05-20T23:58:02.729Z"
   },
   {
    "duration": 8,
    "start_time": "2023-05-20T23:58:02.985Z"
   },
   {
    "duration": 307,
    "start_time": "2023-05-20T23:58:02.994Z"
   },
   {
    "duration": 29,
    "start_time": "2023-05-20T23:58:03.303Z"
   },
   {
    "duration": 235,
    "start_time": "2023-05-20T23:58:03.335Z"
   },
   {
    "duration": 57,
    "start_time": "2023-05-20T23:58:03.571Z"
   },
   {
    "duration": 351,
    "start_time": "2023-05-20T23:58:03.630Z"
   },
   {
    "duration": 2,
    "start_time": "2023-05-20T23:58:03.983Z"
   },
   {
    "duration": 7,
    "start_time": "2023-05-20T23:58:03.987Z"
   },
   {
    "duration": 12,
    "start_time": "2023-05-20T23:58:03.996Z"
   },
   {
    "duration": 294,
    "start_time": "2023-05-20T23:58:04.010Z"
   },
   {
    "duration": 303,
    "start_time": "2023-05-20T23:58:04.306Z"
   },
   {
    "duration": 326,
    "start_time": "2023-05-20T23:58:04.611Z"
   },
   {
    "duration": 327,
    "start_time": "2023-05-20T23:58:04.940Z"
   },
   {
    "duration": 556,
    "start_time": "2023-05-20T23:58:05.269Z"
   },
   {
    "duration": 6,
    "start_time": "2023-05-20T23:58:05.828Z"
   },
   {
    "duration": 91,
    "start_time": "2023-05-20T23:58:05.836Z"
   },
   {
    "duration": 8,
    "start_time": "2023-05-20T23:58:05.930Z"
   },
   {
    "duration": 22,
    "start_time": "2023-05-20T23:58:05.940Z"
   },
   {
    "duration": 193,
    "start_time": "2023-05-20T23:58:05.964Z"
   },
   {
    "duration": 17,
    "start_time": "2023-05-20T23:58:06.158Z"
   },
   {
    "duration": 33,
    "start_time": "2023-05-20T23:58:06.177Z"
   },
   {
    "duration": 69,
    "start_time": "2023-05-20T23:58:06.212Z"
   },
   {
    "duration": 10,
    "start_time": "2023-05-20T23:58:06.282Z"
   },
   {
    "duration": 6,
    "start_time": "2023-05-20T23:58:06.324Z"
   },
   {
    "duration": 94,
    "start_time": "2023-05-20T23:58:06.332Z"
   },
   {
    "duration": 19,
    "start_time": "2023-05-20T23:58:06.428Z"
   },
   {
    "duration": 257,
    "start_time": "2023-05-20T23:58:06.449Z"
   },
   {
    "duration": 4,
    "start_time": "2023-05-20T23:58:06.707Z"
   },
   {
    "duration": 35,
    "start_time": "2023-05-20T23:58:06.713Z"
   },
   {
    "duration": 6,
    "start_time": "2023-05-20T23:58:06.750Z"
   },
   {
    "duration": 6,
    "start_time": "2023-05-20T23:58:06.757Z"
   },
   {
    "duration": 184,
    "start_time": "2023-05-20T23:58:06.764Z"
   },
   {
    "duration": 15,
    "start_time": "2023-05-20T23:58:06.950Z"
   },
   {
    "duration": 4,
    "start_time": "2023-05-20T23:58:06.967Z"
   },
   {
    "duration": 55,
    "start_time": "2023-05-20T23:58:06.972Z"
   },
   {
    "duration": 16,
    "start_time": "2023-05-20T23:58:07.029Z"
   },
   {
    "duration": 85,
    "start_time": "2023-05-20T23:58:07.048Z"
   },
   {
    "duration": 366,
    "start_time": "2023-05-20T23:58:07.135Z"
   },
   {
    "duration": 24,
    "start_time": "2023-05-20T23:58:07.503Z"
   },
   {
    "duration": 261,
    "start_time": "2023-05-20T23:58:07.529Z"
   },
   {
    "duration": 42,
    "start_time": "2023-05-20T23:58:07.792Z"
   },
   {
    "duration": 340,
    "start_time": "2023-05-20T23:58:07.837Z"
   },
   {
    "duration": 5,
    "start_time": "2023-05-20T23:58:08.178Z"
   },
   {
    "duration": 481,
    "start_time": "2023-05-20T23:58:08.185Z"
   },
   {
    "duration": 357,
    "start_time": "2023-05-20T23:58:08.668Z"
   },
   {
    "duration": 467,
    "start_time": "2023-05-20T23:58:09.028Z"
   },
   {
    "duration": 4,
    "start_time": "2023-05-20T23:58:09.496Z"
   },
   {
    "duration": 31,
    "start_time": "2023-05-20T23:58:09.502Z"
   },
   {
    "duration": 7,
    "start_time": "2023-05-20T23:58:09.535Z"
   },
   {
    "duration": 6,
    "start_time": "2023-05-20T23:58:09.544Z"
   },
   {
    "duration": 169,
    "start_time": "2023-05-20T23:58:09.552Z"
   },
   {
    "duration": 26,
    "start_time": "2023-05-20T23:58:09.723Z"
   },
   {
    "duration": 5,
    "start_time": "2023-05-20T23:58:09.751Z"
   },
   {
    "duration": 20,
    "start_time": "2023-05-20T23:58:09.758Z"
   },
   {
    "duration": 49,
    "start_time": "2023-05-20T23:58:09.780Z"
   },
   {
    "duration": 12,
    "start_time": "2023-05-20T23:58:09.832Z"
   },
   {
    "duration": 264,
    "start_time": "2023-05-20T23:58:09.926Z"
   },
   {
    "duration": 19,
    "start_time": "2023-05-20T23:58:10.192Z"
   },
   {
    "duration": 414,
    "start_time": "2023-05-20T23:58:10.213Z"
   },
   {
    "duration": 24,
    "start_time": "2023-05-20T23:58:10.629Z"
   },
   {
    "duration": 350,
    "start_time": "2023-05-20T23:58:10.734Z"
   },
   {
    "duration": 4,
    "start_time": "2023-05-20T23:58:11.086Z"
   },
   {
    "duration": 37,
    "start_time": "2023-05-20T23:58:11.092Z"
   },
   {
    "duration": 7,
    "start_time": "2023-05-20T23:58:11.131Z"
   },
   {
    "duration": 213,
    "start_time": "2023-05-20T23:58:11.140Z"
   },
   {
    "duration": 135,
    "start_time": "2023-05-20T23:58:11.354Z"
   },
   {
    "duration": 14,
    "start_time": "2023-05-20T23:58:11.490Z"
   },
   {
    "duration": 219,
    "start_time": "2023-05-20T23:58:11.506Z"
   },
   {
    "duration": 26,
    "start_time": "2023-05-20T23:58:11.727Z"
   },
   {
    "duration": 6,
    "start_time": "2023-05-20T23:58:11.755Z"
   },
   {
    "duration": 348,
    "start_time": "2023-05-20T23:58:11.765Z"
   },
   {
    "duration": 165,
    "start_time": "2023-05-20T23:58:12.127Z"
   },
   {
    "duration": 13,
    "start_time": "2023-05-20T23:58:12.294Z"
   },
   {
    "duration": 332,
    "start_time": "2023-05-20T23:58:12.309Z"
   },
   {
    "duration": 325,
    "start_time": "2023-05-20T23:58:12.643Z"
   },
   {
    "duration": 33,
    "start_time": "2023-05-20T23:58:12.970Z"
   },
   {
    "duration": 625,
    "start_time": "2023-05-20T23:58:13.006Z"
   }
  ],
  "kernelspec": {
   "display_name": "Python 3 (ipykernel)",
   "language": "python",
   "name": "python3"
  },
  "language_info": {
   "codemirror_mode": {
    "name": "ipython",
    "version": 3
   },
   "file_extension": ".py",
   "mimetype": "text/x-python",
   "name": "python",
   "nbconvert_exporter": "python",
   "pygments_lexer": "ipython3",
   "version": "3.11.2"
  },
  "toc": {
   "base_numbering": 1,
   "nav_menu": {},
   "number_sections": true,
   "sideBar": true,
   "skip_h1_title": true,
   "title_cell": "Содержание",
   "title_sidebar": "Contents",
   "toc_cell": true,
   "toc_position": {},
   "toc_section_display": true,
   "toc_window_display": true
  }
 },
 "nbformat": 4,
 "nbformat_minor": 4
}
